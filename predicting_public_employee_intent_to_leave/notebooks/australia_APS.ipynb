{
 "cells": [
  {
   "cell_type": "markdown",
   "metadata": {},
   "source": [
    "# Using repeated cross-sectional survey data from the Australian public service to predict employees' intent to leave\n",
    "\n",
    "**Background**\n",
    "- I was a Research Data Analyst at Johns Hopkins University between September 2018-August 2020. There, I investigated the effects of management practices on employee attitudes (ex: job satisfaction, intrinsic motivation, and intent to leave).  I built linear regression models to test four hypotheses using repeated cross-sectional data from six large public employee surveys across different years.  \n",
    "- Using the public employee  survey data, I also built predictive models to predict employees' intent to leave using their perception of the workplace environment and management practices.  I will mainly focus on replicating this part of my work  in this notebook.\n",
    "- A measurement model that relates survey items to latent constructs (for management practices and employee attitudes) was specified based on organization behaviour theories, and information from reports/codebook from some (but not all) of the public employee surveys.  \n",
    "- The measurement model was verified using confirmatory factor analysis (CFA) in STATA.  Note that I will not replicate the CFA in this notebook; instead I will only use the results from CFA to develop my latent constructs from item scores.\n",
    "<br>\n",
    "\n",
    "**Objective of this notebook**\n",
    "- The objective of this notebook is to replicate some of my work as a Research Data Analyst at Johns Hopkins University.  \n",
    "- In this notebook, I will use only one of the six public survey datasets-- the Australia Public Employee Survey (APS) to do the following:\n",
    "    - First, I want to demonstrate that data on employee attitudes and management practices from public employee surveys is informative in predicting employees' intent to leave.\n",
    "    - Second, I want to test the hypothesis that individuals reporting higher levels of intrinsic motivation see a differentially greater effect of supportive management practices on their intention to leave an agency.  In other words, more intrinsically motivated individuals are more sensitive to management practice in assessing whether they wish to leave their positions than their less intrinsically motivated coworkers, all else equal.  This suggests that unsupportive management practices may induce adverse selection out of an agency, with the more intrinsically motivated differentially likely to exit, and the less intrinsically motivated differentially likely to remain.\n"
   ]
  },
  {
   "cell_type": "code",
   "execution_count": 203,
   "metadata": {},
   "outputs": [],
   "source": [
    "'''data'''\n",
    "import pandas as pd\n",
    "import numpy as np\n",
    "from sklearn.externals import joblib\n",
    "from collections import Counter\n",
    "from sklearn.preprocessing import StandardScaler\n",
    "\n",
    "%run helpers.ipynb\n",
    "\n",
    "\n",
    "'''plots'''\n",
    "import seaborn as sns\n",
    "import matplotlib.pyplot as plt\n",
    "%matplotlib inline\n",
    "\n",
    "\n",
    "'''model selection'''\n",
    "from sklearn.model_selection import train_test_split, GridSearchCV\n",
    "from imblearn.over_sampling import SMOTE\n",
    "\n",
    "'''metrics'''\n",
    "from sklearn.metrics import accuracy_score, classification_report\n",
    "from sklearn.metrics import auc, roc_curve, roc_auc_score\n",
    "\n",
    "'''ML methods'''\n",
    "from sklearn.linear_model import LogisticRegression\n",
    "from sklearn.ensemble import RandomForestClassifier\n",
    "from xgboost import XGBClassifier as XGBClassifier\n",
    "import statsmodels.api as sm\n",
    "from sklearn.pipeline import Pipeline"
   ]
  },
  {
   "cell_type": "markdown",
   "metadata": {},
   "source": [
    "## Data Processing"
   ]
  },
  {
   "cell_type": "code",
   "execution_count": 2,
   "metadata": {},
   "outputs": [
    {
     "name": "stdout",
     "output_type": "stream",
     "text": [
      "\n",
      "********************\n",
      "The missing value count and percentage of each item:\n",
      "      Total  Percent\n",
      "q77e   8084     7.74\n",
      "q77d   7660     7.33\n",
      "q77c   7513     7.19\n",
      "q77b   7409     7.09\n",
      "q60d   6450     6.17\n",
      "q60a   6357     6.08\n",
      "q72d   6249     5.98\n",
      "q72b   6198     5.93\n",
      "q59    6169     5.90\n",
      "q46    5626     5.39\n",
      "\n",
      "********************\n",
      "I kept 95 % of respondent with missing value less than 20%\n",
      "\n",
      "********************\n",
      "The shape of the Dataframe for all selected items is:(99358, 68)\n",
      "\n",
      "********************\n",
      "                    Total  Percent\n",
      "intent_to_leave      1041     1.05\n",
      "qual_upr_mgmt         577     0.58\n",
      "mgr_fb                524     0.53\n",
      "employee_inclusion    405     0.41\n",
      "fair_rwd              285     0.29\n",
      "promote_ethics        284     0.29\n",
      "autonomy              247     0.25\n",
      "wpi_o                 229     0.23\n",
      "job_satisfaction      183     0.18\n",
      "pay_satisfaction      179     0.18\n",
      "\n",
      "********************\n",
      "I lose 0.038245536343324144 % of data after the removal of NA respondents\n"
     ]
    }
   ],
   "source": [
    "df_2019 = process_data(2019)"
   ]
  },
  {
   "cell_type": "code",
   "execution_count": 3,
   "metadata": {},
   "outputs": [
    {
     "name": "stdout",
     "output_type": "stream",
     "text": [
      "\n",
      "********************\n",
      "The missing value count and percentage of each item:\n",
      "      Total  Percent\n",
      "q74e   7401     7.18\n",
      "q74d   7032     6.82\n",
      "q74c   6894     6.68\n",
      "q74b   6773     6.57\n",
      "q77d   6517     6.32\n",
      "q77b   6415     6.22\n",
      "q63g   6357     6.16\n",
      "q63e   6154     5.97\n",
      "q63f   6099     5.91\n",
      "q63d   6000     5.82\n",
      "\n",
      "********************\n",
      "I kept 94 % of respondent with missing value less than 20%\n",
      "\n",
      "********************\n",
      "The shape of the Dataframe for all selected items is:(97333, 73)\n",
      "\n",
      "********************\n",
      "                    Total  Percent\n",
      "intent_to_leave       900     0.92\n",
      "qual_upr_mgmt         836     0.86\n",
      "employee_inclusion    431     0.44\n",
      "fair_rwd              362     0.37\n",
      "promote_ethics        310     0.32\n",
      "autonomy              274     0.28\n",
      "wpi_o                 206     0.21\n",
      "safety                172     0.18\n",
      "pay_satisfaction      167     0.17\n",
      "skills_match           91     0.09\n",
      "\n",
      "********************\n",
      "I lose 0.03592820523357957 % of data after the removal of NA respondents\n"
     ]
    }
   ],
   "source": [
    "df_2018 = process_data(2018)"
   ]
  },
  {
   "cell_type": "code",
   "execution_count": 4,
   "metadata": {},
   "outputs": [
    {
     "name": "stdout",
     "output_type": "stream",
     "text": [
      "\n",
      "********************\n",
      "The missing value count and percentage of each item:\n",
      "      Total  Percent\n",
      "q81e   8234     8.28\n",
      "q81d   7898     7.94\n",
      "q81c   7837     7.88\n",
      "q81b   7711     7.76\n",
      "q48    6237     6.27\n",
      "q42f   5801     5.84\n",
      "q42d   5603     5.64\n",
      "q42e   5596     5.63\n",
      "q42c   5556     5.59\n",
      "q42a   5503     5.54\n",
      "\n",
      "********************\n",
      "I kept 94 % of respondent with missing value less than 20%\n",
      "\n",
      "********************\n",
      "The shape of the Dataframe for all selected items is:(94143, 57)\n",
      "\n",
      "********************\n",
      "                    Total  Percent\n",
      "intent_to_leave      1451     1.54\n",
      "qual_upr_mgmt        1069     1.14\n",
      "employee_inclusion    545     0.58\n",
      "fair_rwd              446     0.47\n",
      "resources             316     0.34\n",
      "autonomy              261     0.28\n",
      "promote_ethics        242     0.26\n",
      "mgr_fb                231     0.25\n",
      "clear_obj             219     0.23\n",
      "safety                205     0.22\n",
      "\n",
      "********************\n",
      "I lose 0.052250300075417186 % of data after the removal of NA respondents\n"
     ]
    }
   ],
   "source": [
    "df_2017 = process_data(2017)\n",
    "df_2017['gender_Prefer not to say'] = 0 \n",
    "df_2017 = df_2017.sort_index(axis=1) # sort column by column names"
   ]
  },
  {
   "cell_type": "markdown",
   "metadata": {},
   "source": [
    "**Aggregating the repeated cross-sectional data**"
   ]
  },
  {
   "cell_type": "code",
   "execution_count": 5,
   "metadata": {},
   "outputs": [],
   "source": [
    "data = pd.concat([df_2019, df_2018, df_2017], axis=0)"
   ]
  },
  {
   "cell_type": "code",
   "execution_count": 6,
   "metadata": {},
   "outputs": [
    {
     "data": {
      "text/plain": [
       "(278618, 30)"
      ]
     },
     "execution_count": 6,
     "metadata": {},
     "output_type": "execute_result"
    }
   ],
   "source": [
    "data.shape"
   ]
  },
  {
   "cell_type": "code",
   "execution_count": 7,
   "metadata": {},
   "outputs": [
    {
     "data": {
      "text/plain": [
       "age_55 years or older                            0\n",
       "age_Under 40 years                               0\n",
       "autonomy                                         0\n",
       "clear_obj                                        0\n",
       "coworkers_perf                                   0\n",
       "creativity                                       0\n",
       "dev                                              0\n",
       "employee_inclusion                               0\n",
       "fair_rwd                                         0\n",
       "gender_Male                                      0\n",
       "gender_Prefer not to say                         0\n",
       "gender_X (Indeterminate/Intersex/Unspecified)    0\n",
       "intent_to_leave                                  0\n",
       "intrinsic_motivation                             0\n",
       "job_satisfaction                                 0\n",
       "mgr_fb                                           0\n",
       "org_pride                                        0\n",
       "org_size_Medium (251 to 1,000 employees)         0\n",
       "org_size_Small (Less than 250 employees)         0\n",
       "pay_satisfaction                                 0\n",
       "promote_ethics                                   0\n",
       "qual_supervisor                                  0\n",
       "qual_upr_mgmt                                    0\n",
       "resources                                        0\n",
       "safety                                           0\n",
       "skills_match                                     0\n",
       "well_being                                       0\n",
       "wpi_c                                            0\n",
       "wpi_o                                            0\n",
       "year                                             0\n",
       "dtype: int64"
      ]
     },
     "execution_count": 7,
     "metadata": {},
     "output_type": "execute_result"
    }
   ],
   "source": [
    "# check for missing values\n",
    "data.isnull().sum()"
   ]
  },
  {
   "cell_type": "markdown",
   "metadata": {},
   "source": [
    "**Sample 20k respondents**\n",
    "- For this notebook, I will only work with a much smaller subset of the dataset. I will randomly sample 20 k respondents and perform analysis and modelling."
   ]
  },
  {
   "cell_type": "code",
   "execution_count": 8,
   "metadata": {},
   "outputs": [],
   "source": [
    "data = data.sample(n=20000, random_state= 10)"
   ]
  },
  {
   "cell_type": "markdown",
   "metadata": {},
   "source": [
    "##  Exploratory Analysis"
   ]
  },
  {
   "cell_type": "code",
   "execution_count": 9,
   "metadata": {},
   "outputs": [],
   "source": [
    "items = pd.read_excel(\"data/aust_aps_items.xlsx\", sheet_name=\"2019\") \n",
    "practices = items.loc[items.Type == \"mgmt_practice\", \"Factor\"].unique().tolist()\n",
    "attitudes = items.loc[items.Type == \"employee_attitudes\", \"Factor\"].unique().tolist()\n",
    "attitudes.remove(\"intent_to_leave\")"
   ]
  },
  {
   "cell_type": "code",
   "execution_count": 10,
   "metadata": {},
   "outputs": [
    {
     "name": "stdout",
     "output_type": "stream",
     "text": [
      "The management practices are: ['clear_obj', 'skills_match', 'qual_upr_mgmt', 'fair_rwd', 'autonomy', 'dev', 'well_being', 'coworkers_perf', 'resources', 'promote_ethics', 'mgr_fb', 'creativity', 'pay_satisfaction', 'qual_supervisor', 'safety']\n",
      "\n",
      "I have 15 management practices.\n"
     ]
    }
   ],
   "source": [
    "print(\"The management practices are: {}\".format(practices))\n",
    "print(\"\")\n",
    "print(\"I have {} management practices.\".format(len(practices)))"
   ]
  },
  {
   "cell_type": "code",
   "execution_count": 11,
   "metadata": {},
   "outputs": [
    {
     "name": "stdout",
     "output_type": "stream",
     "text": [
      "The employee attitudes are: ['employee_inclusion', 'job_satisfaction', 'wpi_o', 'wpi_c', 'org_pride', 'intrinsic_motivation']\n",
      "\n",
      "I have 6 employee attitudes.\n"
     ]
    }
   ],
   "source": [
    "print(\"The employee attitudes are: {}\".format(attitudes))\n",
    "print(\"\")\n",
    "print(\"I have {} employee attitudes.\".format(len(attitudes)))"
   ]
  },
  {
   "cell_type": "markdown",
   "metadata": {},
   "source": [
    "**Probability distribution of employee attitudes and management practices.**"
   ]
  },
  {
   "cell_type": "code",
   "execution_count": 12,
   "metadata": {},
   "outputs": [
    {
     "data": {
      "text/plain": [
       "0.0    0.74215\n",
       "1.0    0.25785\n",
       "Name: intent_to_leave, dtype: float64"
      ]
     },
     "execution_count": 12,
     "metadata": {},
     "output_type": "execute_result"
    }
   ],
   "source": [
    "data.intent_to_leave.value_counts(normalize=True)"
   ]
  },
  {
   "cell_type": "markdown",
   "metadata": {},
   "source": [
    "**Thoughts**\n",
    "- There is an over-whelming number of workers that do not want to leave. I will need to rebalance the class later on before building the classifiers."
   ]
  },
  {
   "cell_type": "markdown",
   "metadata": {},
   "source": [
    "**Look at the probability distributions of several management practices and employee attitudes**"
   ]
  },
  {
   "cell_type": "code",
   "execution_count": 13,
   "metadata": {
    "scrolled": true
   },
   "outputs": [
    {
     "data": {
      "image/png": "[encoded data removed]",
      "text/plain": [
       "<Figure size 720x576 with 15 Axes>"
      ]
     },
     "metadata": {
      "needs_background": "light"
     },
     "output_type": "display_data"
    }
   ],
   "source": [
    "temp = np.array(practices).reshape(5,3)\n",
    "fig,axes = plt.subplots(5,3,figsize=(10,8))\n",
    "for i in range(5):\n",
    "    for j in range(3):\n",
    "        sns.distplot(data[temp[i,j]], bins=100, hist=True, kde=False, ax = axes[i,j])\n",
    "plt.subplots_adjust(wspace=0.5, hspace=1) # width and height space between plots"
   ]
  },
  {
   "cell_type": "markdown",
   "metadata": {},
   "source": [
    "**All are slightly left skewed and 4 is the most common construct score.**"
   ]
  },
  {
   "cell_type": "code",
   "execution_count": 14,
   "metadata": {},
   "outputs": [
    {
     "data": {
      "image/png": "[encoded data removed]",
      "text/plain": [
       "<Figure size 720x576 with 6 Axes>"
      ]
     },
     "metadata": {
      "needs_background": "light"
     },
     "output_type": "display_data"
    }
   ],
   "source": [
    "temp = np.array(attitudes).reshape(3,2)\n",
    "fig,axes = plt.subplots(3,2,figsize=(10,8))\n",
    "for i in range(3):\n",
    "    for j in range(2):\n",
    "        sns.distplot(data[temp[i,j]], bins=100, hist=True, kde=False, ax = axes[i,j])\n",
    "plt.subplots_adjust(wspace=0.5, hspace=1) # width and height space between plots"
   ]
  },
  {
   "cell_type": "markdown",
   "metadata": {},
   "source": [
    "**Again, all are slightly left skewed and \"4\" is the most common construct score.**"
   ]
  },
  {
   "cell_type": "code",
   "execution_count": null,
   "metadata": {},
   "outputs": [],
   "source": []
  },
  {
   "cell_type": "markdown",
   "metadata": {},
   "source": [
    "**From the employee surveys of other countries (ex: US), I observed that:**\n",
    "- clear_obj, skills_match, autonomy, extrinsic motivation, job satisfction are highly correlated with intent_to_leave\n",
    "- clear_obj, skills_match, fair_rwd, autonomy is positively associated with intrinsic motivation.\n",
    "- Higher intrinsic motivation kindles the effect of management practices on intent to leave. \n",
    "\n",
    "**Let's explore the Australia APS dataset and see if they follow the same pattern.**"
   ]
  },
  {
   "cell_type": "code",
   "execution_count": 15,
   "metadata": {},
   "outputs": [],
   "source": [
    "temp = [\"clear_obj\", \"skills_match\", \"fair_rwd\", \"autonomy\", \n",
    "        \"promote_ethics\", \"mgr_fb\", \"pay_satisfaction\", \"safety\",\n",
    "        \"wpi_o\", \"job_satisfaction\"]\n",
    "temp = np.array(temp).reshape(5,2)"
   ]
  },
  {
   "cell_type": "code",
   "execution_count": 16,
   "metadata": {
    "scrolled": true
   },
   "outputs": [
    {
     "name": "stderr",
     "output_type": "stream",
     "text": [
      "C:\\Users\\henry_dw8mcdk\\Anaconda3\\envs\\python35\\lib\\site-packages\\scipy\\stats\\stats.py:1713: FutureWarning: Using a non-tuple sequence for multidimensional indexing is deprecated; use `arr[tuple(seq)]` instead of `arr[seq]`. In the future this will be interpreted as an array index, `arr[np.array(seq)]`, which will result either in an error or a different result.\n",
      "  return np.add.reduce(sorted[indexer] * weights, axis=axis) / sumval\n"
     ]
    },
    {
     "data": {
      "image/png": "[encoded data removed]",
      "text/plain": [
       "<Figure size 720x576 with 10 Axes>"
      ]
     },
     "metadata": {
      "needs_background": "light"
     },
     "output_type": "display_data"
    }
   ],
   "source": [
    "fig,axes = plt.subplots(5,2,figsize=(10,8))\n",
    "for i in range(5):\n",
    "    for j in range(2):\n",
    "        sns.barplot(y=\"intent_to_leave\", x=temp[i,j],data = data, ax = axes[i,j])\n",
    "plt.subplots_adjust(wspace=0.5, hspace=1) # width and height space between plots"
   ]
  },
  {
   "cell_type": "markdown",
   "metadata": {},
   "source": [
    "**Higher scores in the above management practices is associated with lower proportion of employee intending to leave.  In addition, job satisfaction and wpi_outward recgonition (a measure of extrinsic motivation) is negatively assocatied with intent to leave.**"
   ]
  },
  {
   "cell_type": "code",
   "execution_count": 17,
   "metadata": {},
   "outputs": [],
   "source": [
    "temp2 = [col for col in practices if col not in temp]\n",
    "temp2.append(\"intrinsic_motivation\")\n",
    "temp2 = np.array(temp2).reshape(4,2)"
   ]
  },
  {
   "cell_type": "code",
   "execution_count": 18,
   "metadata": {
    "scrolled": true
   },
   "outputs": [
    {
     "data": {
      "image/png": "[encoded data removed]",
      "text/plain": [
       "<Figure size 720x720 with 8 Axes>"
      ]
     },
     "metadata": {
      "needs_background": "light"
     },
     "output_type": "display_data"
    }
   ],
   "source": [
    "fig,axes = plt.subplots(4,2,figsize=(10,10))\n",
    "for i in range(4):\n",
    "    for j in range(2):\n",
    "        sns.boxplot(x=\"intent_to_leave\", y=temp2[i,j],data = data, ax = axes[i,j])\n",
    "plt.subplots_adjust(wspace=0.5, hspace=1) # width and height space between plots"
   ]
  },
  {
   "cell_type": "markdown",
   "metadata": {},
   "source": [
    "**Employees who do not intent to leave tend to have higher average scores in management practice and employee attitude.** "
   ]
  },
  {
   "cell_type": "code",
   "execution_count": null,
   "metadata": {},
   "outputs": [],
   "source": []
  },
  {
   "cell_type": "markdown",
   "metadata": {},
   "source": [
    "## Correlation between variables\n",
    "- Check for highly correlated management practices and highly correlated employee attitudes, I might want to exclude some of the practices/attitudes to avoid near-perfect collinearity in my regression models."
   ]
  },
  {
   "cell_type": "code",
   "execution_count": 19,
   "metadata": {},
   "outputs": [],
   "source": [
    "correlation_analysis(data[practices], \"../output/correlation_practices.csv\")"
   ]
  },
  {
   "cell_type": "markdown",
   "metadata": {},
   "source": [
    "**Highly correlated management practices (above 0.5):**\n",
    "- (fair_rwd, qual_supervisor): drop qual_supervisor\n",
    "- (creativity, dev): drop creativity\n",
    "- (dev, mgr_fb): drop mgr_fb\n",
    "- (fair_rwd, dev): drop dev\n",
    "- (well_being, resources): drop resources\n",
    "- In summary, drop qual_supervisor, creativity, mgr_fb, dev, and resources"
   ]
  },
  {
   "cell_type": "code",
   "execution_count": 20,
   "metadata": {},
   "outputs": [],
   "source": [
    "correlation_analysis(data[attitudes], \"../output/correlation_attitudes.csv\")"
   ]
  },
  {
   "cell_type": "markdown",
   "metadata": {},
   "source": [
    "**Highly correlated employee attitudes (above 0.5):**\n",
    "- (org_pride, intrinisic motivation): drop org_pride\n",
    "- (employee_inclusion, intrinsic_motivation): drop employee inclusion\n",
    "- (wpi_c, intrinsic motivation): drop wpi_c\n",
    "- (job_satisfaction, intrinsic motivation)\n",
    "- (intrinsic motivation, wpi_o)\n",
    "- In summary: drop org_pride, wpi_c, employee_inclusion.  I keep job satisfaction, intrinsc motivation, and wpi_o"
   ]
  },
  {
   "cell_type": "markdown",
   "metadata": {},
   "source": [
    "## Feature Selection\n",
    "- We can use either two of the below approaches:\n",
    "    - Drop highly correlated features for models where near perfect multicollinearity is a concern (see the previous section)\n",
    "    - For logitistic regression, where multicollinearity is a concern, perform lasso regression so that some coefficients will be regularized to zero.  I will use GridSearchCV to tune alpha (the shrinkage penalty term in lasso).  I will keep the full set of management practices for KNN, SVC and tree models that are not sensitive to multicollinearity. "
   ]
  },
  {
   "cell_type": "markdown",
   "metadata": {},
   "source": [
    "## Predictive Modelling\n",
    "- Logisitic Regression\n",
    "- Random Forest\n",
    "- XGBoost"
   ]
  },
  {
   "cell_type": "code",
   "execution_count": 21,
   "metadata": {},
   "outputs": [],
   "source": [
    "X= data.drop(\"intent_to_leave\", axis=1) # drop intent_to_leave\n",
    "X.drop(attitudes, axis=1, inplace=True) # drop employee attitudes\n",
    "feature_names = list(X.columns.values) # save the feature names\n",
    "X=np.array(X)"
   ]
  },
  {
   "cell_type": "code",
   "execution_count": 22,
   "metadata": {},
   "outputs": [],
   "source": [
    "y = data[\"intent_to_leave\"].astype(int)\n",
    "y= np.array(y)"
   ]
  },
  {
   "cell_type": "markdown",
   "metadata": {},
   "source": [
    "**Train test split**"
   ]
  },
  {
   "cell_type": "code",
   "execution_count": 23,
   "metadata": {},
   "outputs": [],
   "source": [
    "X_train, X_test, y_train, y_test = train_test_split(X, y, test_size=0.25, random_state=10)"
   ]
  },
  {
   "cell_type": "markdown",
   "metadata": {},
   "source": [
    "**Baseline prediction**\n",
    "- Establish a naive prediction-- if the models that we built cannot outperform a naive guess, then we have to admit that ML is not suitable for this problem (maybe we need more data, or there is a simplier solution that does not require machine learning)."
   ]
  },
  {
   "cell_type": "code",
   "execution_count": 24,
   "metadata": {},
   "outputs": [
    {
     "data": {
      "text/plain": [
       "Counter({0: 11105, 1: 3895})"
      ]
     },
     "execution_count": 24,
     "metadata": {},
     "output_type": "execute_result"
    }
   ],
   "source": [
    "Counter(y_train)"
   ]
  },
  {
   "cell_type": "code",
   "execution_count": 25,
   "metadata": {},
   "outputs": [],
   "source": [
    "# since 0 is the most frequent class, my naive guess is 0 for all respondents\n",
    "baseline_guess = np.zeros(len(y_test))"
   ]
  },
  {
   "cell_type": "code",
   "execution_count": 26,
   "metadata": {},
   "outputs": [
    {
     "name": "stdout",
     "output_type": "stream",
     "text": [
      "The accuracy score of my baseline model is 0.75\n",
      "\n",
      "The classification report of my baseline model:\n",
      "             precision    recall  f1-score   support\n",
      "\n",
      "        0.0       1.00      0.75      0.86      5000\n",
      "        1.0       0.00      0.00      0.00         0\n",
      "\n",
      "avg / total       1.00      0.75      0.86      5000\n",
      "\n"
     ]
    },
    {
     "name": "stderr",
     "output_type": "stream",
     "text": [
      "C:\\Users\\henry_dw8mcdk\\Anaconda3\\envs\\python35\\lib\\site-packages\\sklearn\\metrics\\classification.py:1137: UndefinedMetricWarning: Recall and F-score are ill-defined and being set to 0.0 in labels with no true samples.\n",
      "  'recall', 'true', average, warn_for)\n"
     ]
    }
   ],
   "source": [
    "print(\"The accuracy score of my baseline model is {}\".format(round(accuracy_score(baseline_guess,y_test),2)))\n",
    "print(\"\")\n",
    "print(\"The classification report of my baseline model:\")\n",
    "print(classification_report(baseline_guess,y_test))"
   ]
  },
  {
   "cell_type": "markdown",
   "metadata": {},
   "source": [
    "**Generate Synthetic samples to ameliorate imbalanced classes** \n",
    "- Use imblearn’s SMOTE(Synthetic Minority Oversampling Technique) to upsample my minority class. \n",
    "- SMOTE uses a nearest neighbors algorithm to generate new and synthetic data we can use for training our model.\n",
    "- Only apply SMOTE to train data to avoid data leakage.\n",
    "- Reference: https://towardsdatascience.com/methods-for-dealing-with-imbalanced-data-5b761be45a18\n",
    "- Reference: https://machinelearningmastery.com/smote-oversampling-for-imbalanced-classification/"
   ]
  },
  {
   "cell_type": "code",
   "execution_count": 27,
   "metadata": {
    "scrolled": true
   },
   "outputs": [],
   "source": [
    "execute = True\n",
    "if execute:\n",
    "    sm = SMOTE() # init the smote model\n",
    "    X_train, y_train = sm.fit_sample(X_train, y_train) # fit the model to train data\n",
    "    Counter(y_train) # The classes are now balanced by upsampling the minority class 1"
   ]
  },
  {
   "cell_type": "markdown",
   "metadata": {},
   "source": [
    "## Logistic Regression\n",
    "- Use GridSearchCV to select gamma, the parameter for the penalty term in the L1 regularization\n",
    "- No standardization is needed since my items and construct scores have the same scale."
   ]
  },
  {
   "cell_type": "code",
   "execution_count": 28,
   "metadata": {},
   "outputs": [],
   "source": [
    "pipe_lr = Pipeline([('clf', LogisticRegression(penalty = 'l1', \n",
    "                                               solver = 'liblinear',\n",
    "                                               random_state=10))]) # pipeline for logreg\n",
    "\n",
    "grid_params_lr = {'clf__C':[0.1,0.5,1,5,10]} # variance of model decreases as C increase"
   ]
  },
  {
   "cell_type": "code",
   "execution_count": 29,
   "metadata": {},
   "outputs": [],
   "source": [
    "execute = False\n",
    "if execute:\n",
    "    # init GridSearch object\n",
    "    gs_lr = GridSearchCV(estimator=pipe_lr,\n",
    "                     param_grid=grid_params_lr,\n",
    "                     scoring='f1',\n",
    "                     cv=5,\n",
    "                     n_jobs = -1,\n",
    "                     verbose = 2)\n",
    "    gs_lr.fit(X_train,y_train) # fit model\n",
    "    print(\"The best parameters are: {}\".format(gs_lr.best_params_))\n",
    "    \n",
    "    joblib.dump(gs_lr, '../saved_models/gs_lr.pkl') # save GridSearchCV object"
   ]
  },
  {
   "cell_type": "code",
   "execution_count": 30,
   "metadata": {},
   "outputs": [],
   "source": [
    "# load model\n",
    "gs_lr =joblib.load('../saved_models/gs_lr.pkl')"
   ]
  },
  {
   "cell_type": "code",
   "execution_count": 31,
   "metadata": {},
   "outputs": [],
   "source": [
    "y_pred_lr = gs_lr.predict(X_test)"
   ]
  },
  {
   "cell_type": "code",
   "execution_count": 32,
   "metadata": {},
   "outputs": [
    {
     "name": "stdout",
     "output_type": "stream",
     "text": [
      "             precision    recall  f1-score   support\n",
      "\n",
      "          0       0.75      0.87      0.81      3207\n",
      "          1       0.68      0.48      0.56      1793\n",
      "\n",
      "avg / total       0.72      0.73      0.72      5000\n",
      "\n"
     ]
    }
   ],
   "source": [
    "print(classification_report(y_pred_lr,y_test))"
   ]
  },
  {
   "cell_type": "markdown",
   "metadata": {},
   "source": [
    "**Compared with the baseline guess, the f1 score for class 0 reduced slightly, but the precision, recall, and f1-score of class 1 is no longer zero (though still low).  On the whole, logistic regression is an improvement on our baseline.**"
   ]
  },
  {
   "cell_type": "code",
   "execution_count": 33,
   "metadata": {},
   "outputs": [],
   "source": [
    "logreg = gs_lr.best_estimator_.named_steps[\"clf\"] # get the best logreg model\n",
    "params = np.append(logreg.intercept_,logreg.coef_)\n",
    "feature_names.insert(0,\"constant\")"
   ]
  },
  {
   "cell_type": "code",
   "execution_count": 34,
   "metadata": {},
   "outputs": [
    {
     "name": "stdout",
     "output_type": "stream",
     "text": [
      "                                         features     coeff\n",
      "22                                     well_being -0.509614\n",
      "7                                             dev -0.450633\n",
      "21                                   skills_match -0.338086\n",
      "5                                  coworkers_perf -0.323780\n",
      "4                                       clear_obj -0.243337\n",
      "16                                 promote_ethics -0.187848\n",
      "6                                      creativity -0.166112\n",
      "12                                         mgr_fb -0.077794\n",
      "15                               pay_satisfaction -0.060623\n",
      "18                                  qual_upr_mgmt -0.054763\n",
      "1                           age_55 years or older -0.042032\n",
      "19                                      resources -0.036838\n",
      "23                                           year  0.001910\n",
      "10                       gender_Prefer not to say  0.031377\n",
      "3                                        autonomy  0.054205\n",
      "11  gender_X (Indeterminate/Intersex/Unspecified)  0.109384\n",
      "8                                        fair_rwd  0.113394\n",
      "13       org_size_Medium (251 to 1,000 employees)  0.117853\n",
      "20                                         safety  0.176946\n",
      "14       org_size_Small (Less than 250 employees)  0.195174\n",
      "17                                qual_supervisor  0.216857\n",
      "9                                     gender_Male  0.250453\n",
      "2                              age_Under 40 years  0.283569\n",
      "0                                        constant  2.581725\n"
     ]
    }
   ],
   "source": [
    "df_coeff = pd.DataFrame(list(zip(feature_names, params)), columns = [\"features\",\"coeff\"])\n",
    "print(df_coeff.sort_values(by=\"coeff\"))"
   ]
  },
  {
   "cell_type": "markdown",
   "metadata": {},
   "source": [
    "**Surprisingly, autonomy and fair_rwd are have coefficients that were regularized to close to 0.  However, the effect sizes of clear objective and skills match are large (similar to what we see in other survey datasets).**"
   ]
  },
  {
   "cell_type": "markdown",
   "metadata": {},
   "source": [
    "## Random Forest\n",
    "- Due to resource constraints, I want to reduce the computational time, I will try to sample a subset of the data for training. Perhaps a 20k sample is sufficient to get a decent result."
   ]
  },
  {
   "cell_type": "code",
   "execution_count": 35,
   "metadata": {},
   "outputs": [],
   "source": [
    "pipe_rf = Pipeline([('scl',StandardScaler()),\n",
    "                    ('clf', RandomForestClassifier(random_state=10))]) \n",
    "\n",
    "grid_params_rf = { \n",
    "        \"clf__n_estimators\" : [200, 800, 1000], \n",
    "        \"clf__max_depth\"      : [10,15,20,50,80],  \n",
    "        \"clf__min_samples_split\" : [2,5],  # [2, 5, 10]\n",
    "        \"clf__min_samples_leaf\" :   [1,2,4]   # [1, 2, 4]  \n",
    "    }"
   ]
  },
  {
   "cell_type": "code",
   "execution_count": 36,
   "metadata": {},
   "outputs": [],
   "source": [
    "execute = False\n",
    "if execute:\n",
    "    # init GridSearch object\n",
    "    gs_rf = GridSearchCV(estimator=pipe_rf,\n",
    "                     param_grid=grid_params_rf,\n",
    "                     scoring='f1',\n",
    "                     cv=5,\n",
    "                     n_jobs = -1,\n",
    "                     verbose = 2)\n",
    "    gs_rf.fit(X_train,y_train) # fit model\n",
    "    print(\"The best parameters are: {}\".format(gs_rf.best_params_))\n",
    "    \n",
    "    joblib.dump(gs_rf, '../saved_models/gs_rf.pkl') # save GridSearchCV object"
   ]
  },
  {
   "cell_type": "code",
   "execution_count": 37,
   "metadata": {},
   "outputs": [],
   "source": [
    "# load model\n",
    "gs_rf =joblib.load('../saved_models/gs_rf.pkl')"
   ]
  },
  {
   "cell_type": "code",
   "execution_count": 39,
   "metadata": {},
   "outputs": [],
   "source": [
    "y_pred_rf = gs_rf.predict(X_test)"
   ]
  },
  {
   "cell_type": "code",
   "execution_count": 40,
   "metadata": {},
   "outputs": [
    {
     "name": "stdout",
     "output_type": "stream",
     "text": [
      "The accuracy of the tuned Random Forest model (on test data) is 0.7862\n"
     ]
    }
   ],
   "source": [
    "print(\"The accuracy of the tuned Random Forest model (on test data) is {}\".format(accuracy_score(y_pred_rf, y_test)))"
   ]
  },
  {
   "cell_type": "code",
   "execution_count": 41,
   "metadata": {
    "scrolled": false
   },
   "outputs": [
    {
     "name": "stdout",
     "output_type": "stream",
     "text": [
      "             precision    recall  f1-score   support\n",
      "\n",
      "          0       0.90      0.83      0.86      4085\n",
      "          1       0.44      0.61      0.51       915\n",
      "\n",
      "avg / total       0.82      0.79      0.80      5000\n",
      "\n"
     ]
    }
   ],
   "source": [
    "print(classification_report(y_pred_rf, y_test))"
   ]
  },
  {
   "cell_type": "code",
   "execution_count": 42,
   "metadata": {},
   "outputs": [],
   "source": [
    "best_rf_model = gs_rf.best_estimator_.named_steps['clf']"
   ]
  },
  {
   "cell_type": "markdown",
   "metadata": {},
   "source": [
    "**Thoughts**\n",
    "- Compared to logistic regression, the precision score for class 0 is much higher but at the cost of lower precision score for class 1.  This means the Random Forest model is an improvement over logistic regression in providing correct prediction on negative outcomes (stayers) but not as good in providing prediction on positive outcomes (leavers).\n",
    "\n",
    "- RF however has a higher recall score for leavers (class 1), meaning that a larger proportion of actual leavers were correctly predicted by the RF model compared to logistic regression.\n",
    "\n",
    "- For the purposes of these models, I might be interested in a model with higher recall scores since false-negatives is a concern. The cost of failing to identifying actual leavers or misclassifying a stayer as a leaver is high since the human resource team will not be able to set the correct headcount/budget for recruitment at the start of year."
   ]
  },
  {
   "cell_type": "markdown",
   "metadata": {},
   "source": [
    "##  Feature importance\n",
    "- See which feature is the most \"importance\" in the RF model.  Important features are those that lead to the largest average reduction in the loss (Gini) during tree-building."
   ]
  },
  {
   "cell_type": "code",
   "execution_count": 78,
   "metadata": {},
   "outputs": [
    {
     "data": {
      "text/html": [
       "<div>\n",
       "<style scoped>\n",
       "    .dataframe tbody tr th:only-of-type {\n",
       "        vertical-align: middle;\n",
       "    }\n",
       "\n",
       "    .dataframe tbody tr th {\n",
       "        vertical-align: top;\n",
       "    }\n",
       "\n",
       "    .dataframe thead th {\n",
       "        text-align: right;\n",
       "    }\n",
       "</style>\n",
       "<table border=\"1\" class=\"dataframe\">\n",
       "  <thead>\n",
       "    <tr style=\"text-align: right;\">\n",
       "      <th></th>\n",
       "      <th>feature</th>\n",
       "      <th>importance</th>\n",
       "    </tr>\n",
       "  </thead>\n",
       "  <tbody>\n",
       "    <tr>\n",
       "      <th>0</th>\n",
       "      <td>well_being</td>\n",
       "      <td>0.102514</td>\n",
       "    </tr>\n",
       "    <tr>\n",
       "      <th>1</th>\n",
       "      <td>dev</td>\n",
       "      <td>0.100788</td>\n",
       "    </tr>\n",
       "    <tr>\n",
       "      <th>2</th>\n",
       "      <td>creativity</td>\n",
       "      <td>0.090379</td>\n",
       "    </tr>\n",
       "    <tr>\n",
       "      <th>3</th>\n",
       "      <td>resources</td>\n",
       "      <td>0.076179</td>\n",
       "    </tr>\n",
       "    <tr>\n",
       "      <th>4</th>\n",
       "      <td>coworkers_perf</td>\n",
       "      <td>0.071494</td>\n",
       "    </tr>\n",
       "    <tr>\n",
       "      <th>5</th>\n",
       "      <td>clear_obj</td>\n",
       "      <td>0.064658</td>\n",
       "    </tr>\n",
       "    <tr>\n",
       "      <th>6</th>\n",
       "      <td>qual_upr_mgmt</td>\n",
       "      <td>0.062516</td>\n",
       "    </tr>\n",
       "    <tr>\n",
       "      <th>7</th>\n",
       "      <td>skills_match</td>\n",
       "      <td>0.056160</td>\n",
       "    </tr>\n",
       "    <tr>\n",
       "      <th>8</th>\n",
       "      <td>qual_supervisor</td>\n",
       "      <td>0.053776</td>\n",
       "    </tr>\n",
       "    <tr>\n",
       "      <th>9</th>\n",
       "      <td>mgr_fb</td>\n",
       "      <td>0.052004</td>\n",
       "    </tr>\n",
       "  </tbody>\n",
       "</table>\n",
       "</div>"
      ],
      "text/plain": [
       "           feature  importance\n",
       "0       well_being    0.102514\n",
       "1              dev    0.100788\n",
       "2       creativity    0.090379\n",
       "3        resources    0.076179\n",
       "4   coworkers_perf    0.071494\n",
       "5        clear_obj    0.064658\n",
       "6    qual_upr_mgmt    0.062516\n",
       "7     skills_match    0.056160\n",
       "8  qual_supervisor    0.053776\n",
       "9           mgr_fb    0.052004"
      ]
     },
     "execution_count": 78,
     "metadata": {},
     "output_type": "execute_result"
    }
   ],
   "source": [
    "feature_importance = pd.DataFrame({'feature': feature_names[1:],  \n",
    "                                 'importance': gs_rf.best_estimator_.named_steps['clf'].feature_importances_})\n",
    "\n",
    "# Show the top 10 most important\n",
    "feature_importance = feature_importance.sort_values('importance', ascending = False).reset_index(drop=True)\n",
    "\n",
    "feature_importance.head(10)"
   ]
  },
  {
   "cell_type": "markdown",
   "metadata": {},
   "source": [
    "**Well-being, dev, and creativity are most informative in predicting employees' intent to leave.**"
   ]
  },
  {
   "cell_type": "code",
   "execution_count": 88,
   "metadata": {},
   "outputs": [
    {
     "data": {
      "text/plain": [
       "<Figure size 1440x1440 with 0 Axes>"
      ]
     },
     "metadata": {},
     "output_type": "display_data"
    },
    {
     "data": {
      "image/png": "[encoded data removed]",
      "text/plain": [
       "<Figure size 432x288 with 1 Axes>"
      ]
     },
     "metadata": {
      "needs_background": "light"
     },
     "output_type": "display_data"
    }
   ],
   "source": [
    "fig = plt.figure (figsize=(20,20))\n",
    "# Plot the 10 most important features in a horizontal bar chart\n",
    "feature_importance.plot(x = 'feature', y = 'importance', \n",
    "                                 edgecolor = 'k',\n",
    "                                 kind='barh', color = 'red');\n",
    "plt.xlabel('Relative Importance', size = 10); plt.ylabel('')\n",
    "plt.title('Feature Importances from Random Forest', size = 15);"
   ]
  },
  {
   "cell_type": "markdown",
   "metadata": {},
   "source": [
    "## XGBoost\n",
    "Reference: https://www.analyticsvidhya.com/blog/2016/03/complete-guide-parameter-tuning-xgboost-with-codes-python/\n",
    "\n",
    "Hyperparameters:\n",
    "- eta (learning rate): similar to learning rate in GBM, makes the model more robust by shrinking the weights on each step\n",
    "    - Typical final values: 0.01 - 0.2\n",
    "- min_child_weight (default 1):  specifies the minimum sum of weights of all observations required in a child.  Used to control overfitting-- higher values prevent a model from capturing naunces in the training sample for a tree. Needs to be tuned using CV.\n",
    "- max_depth (default 6): maximum depth of a tree, used to control overfitting as a deeper tree will capture more naunces of a particular train sample.\n",
    "    - Typical final values: 3-10\n",
    "- max_leaf_nodes: Maximum number of terminal nodes/leaves in a tree.  Can be defined in place of max_depth.  If this is set, max_depth will be ignored.\n",
    "- gamma: a node is split only when the resulting split gives a reduction in the loss function; gamma specifies the min loss reduction required to make a split.  Higher values of gamma makes the algorithm more conservative.\n",
    "- subsample: Specifies the fraction fo observations to be used to train each tree.  Low values make algorithm more conservative and prevents overfitting, but if the values are too low, I might have underfitting.\n",
    "    - Typical final values: 0.5-1\n",
    "- colsample_bytree: similar to max_features in GBM.  Specifies the fraction of features to be considered for each tree.\n",
    "    - Typical values: 0.5 to 1\n",
    "- alpha (reg_alpha): L1 regulariation term on weights, I would use it only if I have lots of features and I would like to reduce some of them so that the algorithm will run faster and I get a more parsimonious model.\n",
    "    \n",
    "I will start with a relatively high learning rate (around 0.1). Deterimine the optimum number of trees for this learning rate.  I need to tune tree-specfic parameters like max_depth, min_child_wieght, subsample, colsample_bytree and gamma. I can then further tune learning rate to improve performance."
   ]
  },
  {
   "cell_type": "code",
   "execution_count": 55,
   "metadata": {},
   "outputs": [],
   "source": [
    "pipe_xgb = Pipeline([('scl',StandardScaler()),\n",
    "                    ('clf', XGBClassifier(objective=\"binary:logistic\", learning_rate= 0.05, random_state=10))]) \n",
    "\n",
    "grid_params_xgb = { \n",
    "        \"clf__n_estimators\" : [100, 1000], \n",
    "        \"clf__max_depth\"      : [2,6],  \n",
    "        \"clf__min_child_weight\" : [1,3,5],  \n",
    "        \"clf__gamma\" :   [0.1,0.5],\n",
    "        \"clf__subsample\" : [0.4,0.8],\n",
    "        \"clf__colsample_bytree\":[0.2,0.8]\n",
    "    }"
   ]
  },
  {
   "cell_type": "code",
   "execution_count": 56,
   "metadata": {},
   "outputs": [
    {
     "name": "stdout",
     "output_type": "stream",
     "text": [
      "Fitting 5 folds for each of 96 candidates, totalling 480 fits\n"
     ]
    },
    {
     "name": "stderr",
     "output_type": "stream",
     "text": [
      "[Parallel(n_jobs=-1)]: Done  33 tasks      | elapsed:   48.5s\n",
      "[Parallel(n_jobs=-1)]: Done 154 tasks      | elapsed:  5.0min\n",
      "[Parallel(n_jobs=-1)]: Done 357 tasks      | elapsed: 17.4min\n",
      "[Parallel(n_jobs=-1)]: Done 480 out of 480 | elapsed: 27.5min finished\n"
     ]
    },
    {
     "name": "stdout",
     "output_type": "stream",
     "text": [
      "The best parameters are: {'clf__min_child_weight': 3, 'clf__subsample': 0.4, 'clf__colsample_bytree': 0.8, 'clf__n_estimators': 100, 'clf__max_depth': 6, 'clf__gamma': 0.1}\n"
     ]
    }
   ],
   "source": [
    "execute = False\n",
    "if execute:\n",
    "    # init GridSearch object\n",
    "    gs_xgb = GridSearchCV(estimator=pipe_xgb,\n",
    "                     param_grid=grid_params_xgb,\n",
    "                     scoring='f1',\n",
    "                     cv=5,\n",
    "                     n_jobs = -1,\n",
    "                     verbose = 2)\n",
    "    gs_xgb.fit(X_train,y_train) # fit model\n",
    "    print(\"The best parameters are: {}\".format(gs_xgb.best_params_))\n",
    "    joblib.dump(gs_rf, '../saved_models/gs_xgb.pkl') # save GridSearchCV object"
   ]
  },
  {
   "cell_type": "code",
   "execution_count": null,
   "metadata": {},
   "outputs": [],
   "source": [
    "# load model\n",
    "gs_xgb =joblib.load('../saved_models/gs_xgb.pkl')"
   ]
  },
  {
   "cell_type": "code",
   "execution_count": 69,
   "metadata": {
    "scrolled": false
   },
   "outputs": [],
   "source": [
    "y_pred_xgb = gs_xgb.predict(X_test)"
   ]
  },
  {
   "cell_type": "code",
   "execution_count": 71,
   "metadata": {},
   "outputs": [
    {
     "name": "stdout",
     "output_type": "stream",
     "text": [
      "The accuracy of the tuned XGBoostClassifer model (on test data) is 0.7872\n"
     ]
    }
   ],
   "source": [
    "print(\"The accuracy of the tuned XGBoostClassifer model (on test data) is {}\".format(accuracy_score(y_pred_xgb, y_test)))"
   ]
  },
  {
   "cell_type": "code",
   "execution_count": 72,
   "metadata": {},
   "outputs": [
    {
     "name": "stdout",
     "output_type": "stream",
     "text": [
      "             precision    recall  f1-score   support\n",
      "\n",
      "          0       0.90      0.83      0.86      4058\n",
      "          1       0.45      0.61      0.52       942\n",
      "\n",
      "avg / total       0.82      0.79      0.80      5000\n",
      "\n"
     ]
    }
   ],
   "source": [
    "print(classification_report(y_pred_xgb, y_test))"
   ]
  },
  {
   "cell_type": "markdown",
   "metadata": {},
   "source": [
    "**Performance is pretty much the same as Random Forest.**"
   ]
  },
  {
   "cell_type": "code",
   "execution_count": null,
   "metadata": {},
   "outputs": [],
   "source": []
  },
  {
   "cell_type": "markdown",
   "metadata": {},
   "source": [
    "## AUC-ROC for the Random Forest Classifier"
   ]
  },
  {
   "cell_type": "code",
   "execution_count": 89,
   "metadata": {},
   "outputs": [],
   "source": [
    "from sklearn.metrics import roc_curve, auc"
   ]
  },
  {
   "cell_type": "markdown",
   "metadata": {},
   "source": [
    "**Compute the FPR and TPR of the predictions.  The ROC curve will be plotted in the FPR(y)-TPR(x) space for different threshold values.**"
   ]
  },
  {
   "cell_type": "code",
   "execution_count": 101,
   "metadata": {},
   "outputs": [],
   "source": [
    "y_prob_rf = gs_rf.predict_proba(X_test) # get probability score for class= 0 and class= 1"
   ]
  },
  {
   "cell_type": "code",
   "execution_count": 108,
   "metadata": {},
   "outputs": [
    {
     "data": {
      "text/plain": [
       "(numpy.ndarray, numpy.ndarray, numpy.ndarray)"
      ]
     },
     "execution_count": 108,
     "metadata": {},
     "output_type": "execute_result"
    }
   ],
   "source": [
    "# FPR: Fallout = false positive rate = FP/total number of negative events that are predicted by the model\n",
    "# TPR: true positive rate:  TPR = Recall = TP/total number of positive events that is predicted by the model\n",
    "FPR, TPR, thresholds = roc_curve(y_test, y_prob_rf[:,1]) # use prob score for class 1\n",
    "type(FPR), type(TPR), type(thresholds)"
   ]
  },
  {
   "cell_type": "code",
   "execution_count": 110,
   "metadata": {},
   "outputs": [
    {
     "data": {
      "text/plain": [
       "((899,), (899,))"
      ]
     },
     "execution_count": 110,
     "metadata": {},
     "output_type": "execute_result"
    }
   ],
   "source": [
    "# ROC plots 899 points in the FPR-TPR space, one point for each threshold 0 to 1\n",
    "FPR.shape, thresholds.shape   "
   ]
  },
  {
   "cell_type": "code",
   "execution_count": 111,
   "metadata": {},
   "outputs": [
    {
     "name": "stdout",
     "output_type": "stream",
     "text": [
      "The area under the curve (AUC) is: 0.7783427835423062\n"
     ]
    }
   ],
   "source": [
    "ROC_AUC = auc(FPR, TPR)  # AUC area under the curve\n",
    "\n",
    "print(\"The area under the curve (AUC) is: {}\".format(ROC_AUC))"
   ]
  },
  {
   "cell_type": "markdown",
   "metadata": {},
   "source": [
    "**Alternatively, use roc_auc_score from sklearn.  The inputs are y_test, and probability score of the larger label.**"
   ]
  },
  {
   "cell_type": "code",
   "execution_count": 123,
   "metadata": {},
   "outputs": [
    {
     "name": "stdout",
     "output_type": "stream",
     "text": [
      "ROC_AUC score is: 0.7783427835423062\n"
     ]
    }
   ],
   "source": [
    "print(\"ROC_AUC score is: {}\".format(roc_auc_score(y_test, y_prob_rf[:,1])))"
   ]
  },
  {
   "cell_type": "code",
   "execution_count": 115,
   "metadata": {},
   "outputs": [
    {
     "data": {
      "image/png": "[encoded data removed]",
      "text/plain": [
       "<Figure size 432x432 with 1 Axes>"
      ]
     },
     "metadata": {
      "needs_background": "light"
     },
     "output_type": "display_data"
    }
   ],
   "source": [
    "plt.figure(figsize =[6,6])\n",
    "plt.plot(FPR, TPR, label= 'ROC curve(area = %0.2f)'%ROC_AUC, linewidth= 4)  # plot FPR and TPR\n",
    "plt.plot([0,1],[0,1], 'k--', linewidth = 4) # 45 deg line\n",
    "plt.xlim([0.0,1.0])\n",
    "plt.ylim([0.0,1.05])\n",
    "plt.xlabel('False Positive Rate', fontsize = 15)\n",
    "plt.ylabel('True Positive Rate', fontsize = 15)\n",
    "plt.title('ROC for Random Forest Classifier', fontsize= 18)\n",
    "plt.show()"
   ]
  },
  {
   "cell_type": "code",
   "execution_count": null,
   "metadata": {},
   "outputs": [],
   "source": []
  },
  {
   "cell_type": "markdown",
   "metadata": {},
   "source": [
    "## Statistical Inference \n",
    "- Investigate the hetrogeneous effects of management practices on intent to leave for employees' with different levels of intrinsic motivation"
   ]
  },
  {
   "cell_type": "markdown",
   "metadata": {},
   "source": [
    "**Generate interaction terms for the top 6 important features in RF with intrinsic motivation**"
   ]
  },
  {
   "cell_type": "code",
   "execution_count": 205,
   "metadata": {},
   "outputs": [],
   "source": [
    "# a list of top 6 important feature from the Random Forest classifier \n",
    "important_features = list(feature_importance.iloc[:6,0])"
   ]
  },
  {
   "cell_type": "code",
   "execution_count": 206,
   "metadata": {},
   "outputs": [],
   "source": [
    "temp = important_features.copy()\n",
    "temp.append(\"intrinsic_motivation\")"
   ]
  },
  {
   "cell_type": "code",
   "execution_count": 213,
   "metadata": {},
   "outputs": [],
   "source": [
    "X= data[temp]\n",
    "X = gen_interaction(X,important_features,\"intrinsic_motivation\")\n",
    "feat_interact_names = list(X.columns.values) # save the feature names"
   ]
  },
  {
   "cell_type": "markdown",
   "metadata": {},
   "source": [
    "**I will use full data to perform statistical inference**"
   ]
  },
  {
   "cell_type": "code",
   "execution_count": 215,
   "metadata": {},
   "outputs": [],
   "source": [
    "y = data[\"intent_to_leave\"]"
   ]
  },
  {
   "cell_type": "markdown",
   "metadata": {},
   "source": [
    "**Regress intent_to_leave on \"important features\" and their interaction with intrinsic motivation**"
   ]
  },
  {
   "cell_type": "code",
   "execution_count": null,
   "metadata": {},
   "outputs": [],
   "source": [
    "X = sm.add_constant(X) # add constant"
   ]
  },
  {
   "cell_type": "code",
   "execution_count": 221,
   "metadata": {},
   "outputs": [
    {
     "name": "stdout",
     "output_type": "stream",
     "text": [
      "Optimization terminated successfully.\n",
      "         Current function value: 0.449110\n",
      "         Iterations 7\n"
     ]
    }
   ],
   "source": [
    "# Logit model\n",
    "logit_mod = sm.Logit(y,X)\n",
    "logit_res = logit_mod.fit()"
   ]
  },
  {
   "cell_type": "code",
   "execution_count": 222,
   "metadata": {},
   "outputs": [
    {
     "name": "stdout",
     "output_type": "stream",
     "text": [
      "                           Logit Regression Results                           \n",
      "==============================================================================\n",
      "Dep. Variable:        intent_to_leave   No. Observations:                20000\n",
      "Model:                          Logit   Df Residuals:                    19986\n",
      "Method:                           MLE   Df Model:                           13\n",
      "Date:                Mon, 06 Jul 2020   Pseudo R-squ.:                  0.2132\n",
      "Time:                        17:37:52   Log-Likelihood:                -8982.2\n",
      "converged:                       True   LL-Null:                       -11416.\n",
      "                                        LLR p-value:                     0.000\n",
      "=======================================================================================================\n",
      "                                          coef    std err          z      P>|z|      [0.025      0.975]\n",
      "-------------------------------------------------------------------------------------------------------\n",
      "const                                   7.3398      0.694     10.574      0.000       5.979       8.700\n",
      "well_being                             -0.2231      0.200     -1.117      0.264      -0.615       0.168\n",
      "dev                                    -0.2916      0.194     -1.502      0.133      -0.672       0.089\n",
      "creativity                              0.1899      0.249      0.763      0.445      -0.298       0.678\n",
      "resources                               0.4093      0.151      2.713      0.007       0.114       0.705\n",
      "coworkers_perf                         -0.3743      0.189     -1.984      0.047      -0.744      -0.005\n",
      "clear_obj                              -0.6357      0.150     -4.239      0.000      -0.930      -0.342\n",
      "intrinsic_motivation                   -1.5619      0.204     -7.671      0.000      -1.961      -1.163\n",
      "well_being_intrinsic_motivation        -0.0372      0.057     -0.650      0.516      -0.149       0.075\n",
      "dev_intrinsic_motivation               -0.0486      0.055     -0.880      0.379      -0.157       0.060\n",
      "creativity_intrinsic_motivation        -0.0120      0.071     -0.169      0.866      -0.151       0.127\n",
      "resources_intrinsic_motivation         -0.1168      0.044     -2.679      0.007      -0.202      -0.031\n",
      "coworkers_perf_intrinsic_motivation     0.0931      0.055      1.692      0.091      -0.015       0.201\n",
      "clear_obj_intrinsic_motivation          0.1573      0.044      3.545      0.000       0.070       0.244\n",
      "=======================================================================================================\n"
     ]
    }
   ],
   "source": [
    "print(logit_res.summary())"
   ]
  },
  {
   "cell_type": "markdown",
   "metadata": {},
   "source": [
    "**Thoughts** \n",
    "- For well-being, personal development, creativity, and resources, its effect on employees' intent to leave is \"higher\" (reduces intent to leave) for employees for higher scores in intrinsic motivaation.  In other words, many important supportive management practices matters more for employees with higher levels of intrinsic motivation.  \n",
    "- This suggests that unsupportive management practices may induce adverse selection out of an agency, with the more intrinsically motivated differentially likely to exit, and the less intrinsically motivated differentially likely to remain. \n",
    "- The inverse is also true; these results suggest supportive management practices are differentially likely to retain more intrinsically motivated employees, as seen in their stated intent to leave the organization.  "
   ]
  },
  {
   "cell_type": "code",
   "execution_count": null,
   "metadata": {},
   "outputs": [],
   "source": []
  }
 ],
 "metadata": {
  "kernelspec": {
   "display_name": "Python 3",
   "language": "python",
   "name": "python3"
  },
  "language_info": {
   "codemirror_mode": {
    "name": "ipython",
    "version": 3
   },
   "file_extension": ".py",
   "mimetype": "text/x-python",
   "name": "python",
   "nbconvert_exporter": "python",
   "pygments_lexer": "ipython3",
   "version": "3.5.5"
  },
  "varInspector": {
   "cols": {
    "lenName": 16,
    "lenType": 16,
    "lenVar": 40
   },
   "kernels_config": {
    "python": {
     "delete_cmd_postfix": "",
     "delete_cmd_prefix": "del ",
     "library": "var_list.py",
     "varRefreshCmd": "print(var_dic_list())"
    },
    "r": {
     "delete_cmd_postfix": ") ",
     "delete_cmd_prefix": "rm(",
     "library": "var_list.r",
     "varRefreshCmd": "cat(var_dic_list()) "
    }
   },
   "types_to_exclude": [
    "module",
    "function",
    "builtin_function_or_method",
    "instance",
    "_Feature"
   ],
   "window_display": false
  }
 },
 "nbformat": 4,
 "nbformat_minor": 2
}
