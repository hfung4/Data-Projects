{
 "cells": [
  {
   "cell_type": "markdown",
   "metadata": {},
   "source": [
    "# Energy Star Score Prediction\n",
    "- A \"take-home\" data project.\n",
    "- The objective of this problem is to predict the the energy-star score of buildings."
   ]
  },
  {
   "cell_type": "markdown",
   "metadata": {},
   "source": [
    "## Workflow\n",
    "1. Data cleaning and processing (handle outliers and missing values)\n",
    "2. Exploratory analysis\n",
    "3. Feature engineering and feature selction\n",
    "4. Split data into test/train set and establish a baseline prediction. \n",
    "5. Model evaluation and selection: compare several models (with each other and wrt baseline) based on a performance metric. Use resampling methods such as k-fold CV to estimated the test error.\n",
    "7. Select the \"best\" model and tune its hyperparameters. \n",
    "8. Evaluate the final \"optimized\" model on the test set.\n",
    "9. Interpret the results."
   ]
  },
  {
   "cell_type": "code",
   "execution_count": 256,
   "metadata": {
    "scrolled": true
   },
   "outputs": [
    {
     "ename": "ImportError",
     "evalue": "cannot import name 'mae'",
     "output_type": "error",
     "traceback": [
      "\u001b[1;31m---------------------------------------------------------------------------\u001b[0m",
      "\u001b[1;31mImportError\u001b[0m                               Traceback (most recent call last)",
      "\u001b[1;32m<ipython-input-256-8b28f3eba299>\u001b[0m in \u001b[0;36m<module>\u001b[1;34m()\u001b[0m\n\u001b[0;32m     17\u001b[0m \u001b[1;33m\u001b[0m\u001b[0m\n\u001b[0;32m     18\u001b[0m \u001b[1;34m'''metrics'''\u001b[0m\u001b[1;33m\u001b[0m\u001b[0m\n\u001b[1;32m---> 19\u001b[1;33m \u001b[1;32mfrom\u001b[0m \u001b[0msklearn\u001b[0m\u001b[1;33m.\u001b[0m\u001b[0mmetrics\u001b[0m \u001b[1;32mimport\u001b[0m \u001b[0mmean_squared_error\u001b[0m\u001b[1;33m,\u001b[0m \u001b[0mmae\u001b[0m\u001b[1;33m\u001b[0m\u001b[0m\n\u001b[0m\u001b[0;32m     20\u001b[0m \u001b[1;33m\u001b[0m\u001b[0m\n\u001b[0;32m     21\u001b[0m \u001b[1;34m'''ML methods'''\u001b[0m\u001b[1;33m\u001b[0m\u001b[0m\n",
      "\u001b[1;31mImportError\u001b[0m: cannot import name 'mae'"
     ]
    }
   ],
   "source": [
    "'''data'''\n",
    "import pandas as pd\n",
    "import numpy as np\n",
    "import pprint\n",
    "\n",
    "'''plots'''\n",
    "import seaborn as sns\n",
    "import matplotlib.pyplot as plt\n",
    "%matplotlib inline\n",
    "\n",
    "\n",
    "'''processing'''\n",
    "from sklearn.preprocessing import LabelEncoder, StandardScaler, MinMaxScaler, Imputer\n",
    "\n",
    "'''model selection'''\n",
    "from sklearn.model_selection import train_test_split, cross_validate\n",
    "\n",
    "'''metrics'''\n",
    "from sklearn.metrics import mean_squared_error, mae \n",
    "\n",
    "'''ML methods'''\n",
    "from sklearn.linear_model import LinearRegression, Ridge, Lasso, ElasticNet\n",
    "from sklearn.ensemble import RandomForestRegressor, GradientBoostingRegressor\n",
    "\n",
    "'''Hyperparameter'''\n",
    "from sklearn.model_selection import RandomizedSearchCV, GridSearchCV\n"
   ]
  },
  {
   "cell_type": "markdown",
   "metadata": {},
   "source": [
    "## Import"
   ]
  },
  {
   "cell_type": "code",
   "execution_count": 119,
   "metadata": {},
   "outputs": [],
   "source": [
    "# Read the data\n",
    "df = pd.read_csv(\"data/full_data.csv\")"
   ]
  },
  {
   "cell_type": "code",
   "execution_count": 120,
   "metadata": {
    "scrolled": true
   },
   "outputs": [
    {
     "data": {
      "text/html": [
       "<div>\n",
       "<style scoped>\n",
       "    .dataframe tbody tr th:only-of-type {\n",
       "        vertical-align: middle;\n",
       "    }\n",
       "\n",
       "    .dataframe tbody tr th {\n",
       "        vertical-align: top;\n",
       "    }\n",
       "\n",
       "    .dataframe thead th {\n",
       "        text-align: right;\n",
       "    }\n",
       "</style>\n",
       "<table border=\"1\" class=\"dataframe\">\n",
       "  <thead>\n",
       "    <tr style=\"text-align: right;\">\n",
       "      <th></th>\n",
       "      <th>Order</th>\n",
       "      <th>Property Id</th>\n",
       "      <th>Property Name</th>\n",
       "      <th>Parent Property Id</th>\n",
       "      <th>Parent Property Name</th>\n",
       "      <th>BBL - 10 digits</th>\n",
       "      <th>NYC Borough, Block and Lot (BBL) self-reported</th>\n",
       "      <th>NYC Building Identification Number (BIN)</th>\n",
       "      <th>Address 1 (self-reported)</th>\n",
       "      <th>Address 2</th>\n",
       "      <th>...</th>\n",
       "      <th>Source EUI (kBtu/ft²)</th>\n",
       "      <th>Release Date</th>\n",
       "      <th>Water Required?</th>\n",
       "      <th>DOF Benchmarking Submission Status</th>\n",
       "      <th>Latitude</th>\n",
       "      <th>Longitude</th>\n",
       "      <th>Community Board</th>\n",
       "      <th>Council District</th>\n",
       "      <th>Census Tract</th>\n",
       "      <th>NTA</th>\n",
       "    </tr>\n",
       "  </thead>\n",
       "  <tbody>\n",
       "    <tr>\n",
       "      <th>0</th>\n",
       "      <td>1</td>\n",
       "      <td>13286</td>\n",
       "      <td>201/205</td>\n",
       "      <td>13286</td>\n",
       "      <td>201/205</td>\n",
       "      <td>1013160001</td>\n",
       "      <td>1013160001</td>\n",
       "      <td>1037549</td>\n",
       "      <td>201/205  East  42nd  st.</td>\n",
       "      <td>Not Available</td>\n",
       "      <td>...</td>\n",
       "      <td>619.4</td>\n",
       "      <td>05/01/2017 05:32:03 PM</td>\n",
       "      <td>No</td>\n",
       "      <td>In Compliance</td>\n",
       "      <td>40.750791</td>\n",
       "      <td>-73.973963</td>\n",
       "      <td>6.0</td>\n",
       "      <td>4.0</td>\n",
       "      <td>88.0</td>\n",
       "      <td>Turtle Bay-East Midtown                       ...</td>\n",
       "    </tr>\n",
       "    <tr>\n",
       "      <th>1</th>\n",
       "      <td>2</td>\n",
       "      <td>28400</td>\n",
       "      <td>NYP Columbia (West Campus)</td>\n",
       "      <td>28400</td>\n",
       "      <td>NYP Columbia (West Campus)</td>\n",
       "      <td>1021380040</td>\n",
       "      <td>1-02138-0040</td>\n",
       "      <td>1084198; 1084387;1084385; 1084386; 1084388; 10...</td>\n",
       "      <td>622 168th Street</td>\n",
       "      <td>Not Available</td>\n",
       "      <td>...</td>\n",
       "      <td>404.3</td>\n",
       "      <td>04/27/2017 11:23:27 AM</td>\n",
       "      <td>No</td>\n",
       "      <td>In Compliance</td>\n",
       "      <td>40.841402</td>\n",
       "      <td>-73.942568</td>\n",
       "      <td>12.0</td>\n",
       "      <td>10.0</td>\n",
       "      <td>251.0</td>\n",
       "      <td>Washington Heights South                      ...</td>\n",
       "    </tr>\n",
       "    <tr>\n",
       "      <th>2</th>\n",
       "      <td>3</td>\n",
       "      <td>4778226</td>\n",
       "      <td>MSCHoNY North</td>\n",
       "      <td>28400</td>\n",
       "      <td>NYP Columbia (West Campus)</td>\n",
       "      <td>1021380030</td>\n",
       "      <td>1-02138-0030</td>\n",
       "      <td>1063380</td>\n",
       "      <td>3975 Broadway</td>\n",
       "      <td>Not Available</td>\n",
       "      <td>...</td>\n",
       "      <td>Not Available</td>\n",
       "      <td>04/27/2017 11:23:27 AM</td>\n",
       "      <td>No</td>\n",
       "      <td>In Compliance</td>\n",
       "      <td>40.840427</td>\n",
       "      <td>-73.940249</td>\n",
       "      <td>12.0</td>\n",
       "      <td>10.0</td>\n",
       "      <td>251.0</td>\n",
       "      <td>Washington Heights South                      ...</td>\n",
       "    </tr>\n",
       "  </tbody>\n",
       "</table>\n",
       "<p>3 rows × 60 columns</p>\n",
       "</div>"
      ],
      "text/plain": [
       "   Order  Property Id               Property Name Parent Property Id  \\\n",
       "0      1        13286                     201/205              13286   \n",
       "1      2        28400  NYP Columbia (West Campus)              28400   \n",
       "2      3      4778226               MSCHoNY North              28400   \n",
       "\n",
       "         Parent Property Name BBL - 10 digits  \\\n",
       "0                     201/205      1013160001   \n",
       "1  NYP Columbia (West Campus)      1021380040   \n",
       "2  NYP Columbia (West Campus)      1021380030   \n",
       "\n",
       "  NYC Borough, Block and Lot (BBL) self-reported  \\\n",
       "0                                     1013160001   \n",
       "1                                   1-02138-0040   \n",
       "2                                   1-02138-0030   \n",
       "\n",
       "            NYC Building Identification Number (BIN)  \\\n",
       "0                                            1037549   \n",
       "1  1084198; 1084387;1084385; 1084386; 1084388; 10...   \n",
       "2                                            1063380   \n",
       "\n",
       "  Address 1 (self-reported)      Address 2  \\\n",
       "0  201/205  East  42nd  st.  Not Available   \n",
       "1          622 168th Street  Not Available   \n",
       "2             3975 Broadway  Not Available   \n",
       "\n",
       "                         ...                         Source EUI (kBtu/ft²)  \\\n",
       "0                        ...                                         619.4   \n",
       "1                        ...                                         404.3   \n",
       "2                        ...                                 Not Available   \n",
       "\n",
       "             Release Date Water Required? DOF Benchmarking Submission Status  \\\n",
       "0  05/01/2017 05:32:03 PM              No                      In Compliance   \n",
       "1  04/27/2017 11:23:27 AM              No                      In Compliance   \n",
       "2  04/27/2017 11:23:27 AM              No                      In Compliance   \n",
       "\n",
       "    Latitude  Longitude Community Board Council District Census Tract  \\\n",
       "0  40.750791 -73.973963             6.0              4.0         88.0   \n",
       "1  40.841402 -73.942568            12.0             10.0        251.0   \n",
       "2  40.840427 -73.940249            12.0             10.0        251.0   \n",
       "\n",
       "                                                 NTA  \n",
       "0  Turtle Bay-East Midtown                       ...  \n",
       "1  Washington Heights South                      ...  \n",
       "2  Washington Heights South                      ...  \n",
       "\n",
       "[3 rows x 60 columns]"
      ]
     },
     "execution_count": 120,
     "metadata": {},
     "output_type": "execute_result"
    }
   ],
   "source": [
    "df.head(3)"
   ]
  },
  {
   "cell_type": "code",
   "execution_count": 121,
   "metadata": {},
   "outputs": [
    {
     "data": {
      "text/plain": [
       "(11746, 60)"
      ]
     },
     "execution_count": 121,
     "metadata": {},
     "output_type": "execute_result"
    }
   ],
   "source": [
    "df.shape"
   ]
  },
  {
   "cell_type": "markdown",
   "metadata": {},
   "source": [
    "**Thoughts:**\n",
    "- I have 59 features and one response varaible (Energy Star Score).\n",
    "- Just over 10K observations, sample size is relatively small.\n",
    "- Just based on the names, I actually don't know that much about the features-- will mainly rely on exploratory analysis to decide which of these are informative in predicting Energy Start Score."
   ]
  },
  {
   "cell_type": "markdown",
   "metadata": {},
   "source": [
    "**Energy Star Score**\n",
    "- Response Varaible is ENERGY STAR SCORE:  It is percentile ranking [1,100] for specific building types. \n",
    "- It is computed based on \"self-reported\" energy usage for a year.\n",
    "- 1 means the building has very low energy efficiency, and 1 means it has high efficiecny.  \"Percentile rank\" means it is a relative measure  (I expect a uniform distribution for this reason).\n",
    "- A \"self-report\" metric might not be a good metric: are there any alternatives?"
   ]
  },
  {
   "cell_type": "markdown",
   "metadata": {},
   "source": [
    "## Data type"
   ]
  },
  {
   "cell_type": "code",
   "execution_count": 122,
   "metadata": {},
   "outputs": [
    {
     "name": "stdout",
     "output_type": "stream",
     "text": [
      "<class 'pandas.core.frame.DataFrame'>\n",
      "RangeIndex: 11746 entries, 0 to 11745\n",
      "Data columns (total 60 columns):\n",
      "Order                                                         11746 non-null int64\n",
      "Property Id                                                   11746 non-null int64\n",
      "Property Name                                                 11746 non-null object\n",
      "Parent Property Id                                            11746 non-null object\n",
      "Parent Property Name                                          11746 non-null object\n",
      "BBL - 10 digits                                               11735 non-null object\n",
      "NYC Borough, Block and Lot (BBL) self-reported                11746 non-null object\n",
      "NYC Building Identification Number (BIN)                      11746 non-null object\n",
      "Address 1 (self-reported)                                     11746 non-null object\n",
      "Address 2                                                     11746 non-null object\n",
      "Postal Code                                                   11746 non-null object\n",
      "Street Number                                                 11622 non-null object\n",
      "Street Name                                                   11624 non-null object\n",
      "Borough                                                       11628 non-null object\n",
      "DOF Gross Floor Area                                          11628 non-null float64\n",
      "Primary Property Type - Self Selected                         11746 non-null object\n",
      "List of All Property Use Types at Property                    11746 non-null object\n",
      "Largest Property Use Type                                     11746 non-null object\n",
      "Largest Property Use Type - Gross Floor Area (ft²)            11746 non-null object\n",
      "2nd Largest Property Use Type                                 11746 non-null object\n",
      "2nd Largest Property Use - Gross Floor Area (ft²)             11746 non-null object\n",
      "3rd Largest Property Use Type                                 11746 non-null object\n",
      "3rd Largest Property Use Type - Gross Floor Area (ft²)        11746 non-null object\n",
      "Year Built                                                    11746 non-null int64\n",
      "Number of Buildings - Self-reported                           11746 non-null int64\n",
      "Occupancy                                                     11746 non-null int64\n",
      "Metered Areas (Energy)                                        11746 non-null object\n",
      "Metered Areas  (Water)                                        11746 non-null object\n",
      "ENERGY STAR Score                                             11746 non-null object\n",
      "Site EUI (kBtu/ft²)                                           11746 non-null object\n",
      "Weather Normalized Site EUI (kBtu/ft²)                        11746 non-null object\n",
      "Weather Normalized Site Electricity Intensity (kWh/ft²)       11746 non-null object\n",
      "Weather Normalized Site Natural Gas Intensity (therms/ft²)    11746 non-null object\n",
      "Weather Normalized Source EUI (kBtu/ft²)                      11746 non-null object\n",
      "Fuel Oil #1 Use (kBtu)                                        11746 non-null object\n",
      "Fuel Oil #2 Use (kBtu)                                        11746 non-null object\n",
      "Fuel Oil #4 Use (kBtu)                                        11746 non-null object\n",
      "Fuel Oil #5 & 6 Use (kBtu)                                    11746 non-null object\n",
      "Diesel #2 Use (kBtu)                                          11746 non-null object\n",
      "District Steam Use (kBtu)                                     11746 non-null object\n",
      "Natural Gas Use (kBtu)                                        11746 non-null object\n",
      "Weather Normalized Site Natural Gas Use (therms)              11746 non-null object\n",
      "Electricity Use - Grid Purchase (kBtu)                        11746 non-null object\n",
      "Weather Normalized Site Electricity (kWh)                     11746 non-null object\n",
      "Total GHG Emissions (Metric Tons CO2e)                        11746 non-null object\n",
      "Direct GHG Emissions (Metric Tons CO2e)                       11746 non-null object\n",
      "Indirect GHG Emissions (Metric Tons CO2e)                     11746 non-null object\n",
      "Property GFA - Self-Reported (ft²)                            11746 non-null int64\n",
      "Water Use (All Water Sources) (kgal)                          11746 non-null object\n",
      "Water Intensity (All Water Sources) (gal/ft²)                 11746 non-null object\n",
      "Source EUI (kBtu/ft²)                                         11746 non-null object\n",
      "Release Date                                                  11746 non-null object\n",
      "Water Required?                                               11628 non-null object\n",
      "DOF Benchmarking Submission Status                            11716 non-null object\n",
      "Latitude                                                      9483 non-null float64\n",
      "Longitude                                                     9483 non-null float64\n",
      "Community Board                                               9483 non-null float64\n",
      "Council District                                              9483 non-null float64\n",
      "Census Tract                                                  9483 non-null float64\n",
      "NTA                                                           9483 non-null object\n",
      "dtypes: float64(6), int64(6), object(48)\n",
      "memory usage: 5.4+ MB\n"
     ]
    }
   ],
   "source": [
    "df.info()"
   ]
  },
  {
   "cell_type": "markdown",
   "metadata": {},
   "source": [
    "**Thoughts:**\n",
    "- Most variables are \"object\", even varaibles that I expect to be numeric (ex: water use).  That means missing values are labelled with a string like \"unknown\" or \"not available\".\n",
    "- However, for float variables like latitude and longitude, the missing values are coded as np.nan since we see around 1000 missing values."
   ]
  },
  {
   "cell_type": "code",
   "execution_count": 123,
   "metadata": {},
   "outputs": [
    {
     "data": {
      "text/plain": [
       "NTA                                                           2263\n",
       "Census Tract                                                  2263\n",
       "Council District                                              2263\n",
       "Community Board                                               2263\n",
       "Longitude                                                     2263\n",
       "Latitude                                                      2263\n",
       "Street Number                                                  124\n",
       "Street Name                                                    122\n",
       "Borough                                                        118\n",
       "DOF Gross Floor Area                                           118\n",
       "Water Required?                                                118\n",
       "DOF Benchmarking Submission Status                              30\n",
       "BBL - 10 digits                                                 11\n",
       "3rd Largest Property Use Type - Gross Floor Area (ft²)           0\n",
       "Primary Property Type - Self Selected                            0\n",
       "2nd Largest Property Use - Gross Floor Area (ft²)                0\n",
       "2nd Largest Property Use Type                                    0\n",
       "Largest Property Use Type - Gross Floor Area (ft²)               0\n",
       "Largest Property Use Type                                        0\n",
       "List of All Property Use Types at Property                       0\n",
       "Year Built                                                       0\n",
       "3rd Largest Property Use Type                                    0\n",
       "Address 2                                                        0\n",
       "Postal Code                                                      0\n",
       "Occupancy                                                        0\n",
       "Address 1 (self-reported)                                        0\n",
       "NYC Building Identification Number (BIN)                         0\n",
       "NYC Borough, Block and Lot (BBL) self-reported                   0\n",
       "Parent Property Name                                             0\n",
       "Parent Property Id                                               0\n",
       "Property Name                                                    0\n",
       "Property Id                                                      0\n",
       "Number of Buildings - Self-reported                              0\n",
       "Site EUI (kBtu/ft²)                                              0\n",
       "Metered Areas (Energy)                                           0\n",
       "Metered Areas  (Water)                                           0\n",
       "Release Date                                                     0\n",
       "Source EUI (kBtu/ft²)                                            0\n",
       "Water Intensity (All Water Sources) (gal/ft²)                    0\n",
       "Water Use (All Water Sources) (kgal)                             0\n",
       "Property GFA - Self-Reported (ft²)                               0\n",
       "Indirect GHG Emissions (Metric Tons CO2e)                        0\n",
       "Direct GHG Emissions (Metric Tons CO2e)                          0\n",
       "Total GHG Emissions (Metric Tons CO2e)                           0\n",
       "Weather Normalized Site Electricity (kWh)                        0\n",
       "Electricity Use - Grid Purchase (kBtu)                           0\n",
       "Weather Normalized Site Natural Gas Use (therms)                 0\n",
       "Natural Gas Use (kBtu)                                           0\n",
       "District Steam Use (kBtu)                                        0\n",
       "Diesel #2 Use (kBtu)                                             0\n",
       "Fuel Oil #5 & 6 Use (kBtu)                                       0\n",
       "Fuel Oil #4 Use (kBtu)                                           0\n",
       "Fuel Oil #2 Use (kBtu)                                           0\n",
       "Fuel Oil #1 Use (kBtu)                                           0\n",
       "Weather Normalized Source EUI (kBtu/ft²)                         0\n",
       "Weather Normalized Site Natural Gas Intensity (therms/ft²)       0\n",
       "Weather Normalized Site Electricity Intensity (kWh/ft²)          0\n",
       "Weather Normalized Site EUI (kBtu/ft²)                           0\n",
       "ENERGY STAR Score                                                0\n",
       "Order                                                            0\n",
       "dtype: int64"
      ]
     },
     "execution_count": 123,
     "metadata": {},
     "output_type": "execute_result"
    }
   ],
   "source": [
    "df.isnull().sum().sort_values(ascending=False)"
   ]
  },
  {
   "cell_type": "code",
   "execution_count": 124,
   "metadata": {},
   "outputs": [
    {
     "data": {
      "text/plain": [
       "0    Not Available\n",
       "1        933073441\n",
       "2    Not Available\n",
       "3    Not Available\n",
       "4    Not Available\n",
       "Name: Natural Gas Use (kBtu), dtype: object"
      ]
     },
     "execution_count": 124,
     "metadata": {},
     "output_type": "execute_result"
    }
   ],
   "source": [
    "df[\"Natural Gas Use (kBtu)\"].head(5)  # Missing values are labelled \"Not Available\""
   ]
  },
  {
   "cell_type": "code",
   "execution_count": 125,
   "metadata": {},
   "outputs": [],
   "source": [
    "# Replace all \"Not Available\" with np.nan\n",
    "df = df.replace({'Not Available':np.nan})"
   ]
  },
  {
   "cell_type": "code",
   "execution_count": 126,
   "metadata": {},
   "outputs": [
    {
     "data": {
      "text/plain": [
       "0               NaN\n",
       "1         933073441\n",
       "2               NaN\n",
       "3               NaN\n",
       "4               NaN\n",
       "5    1.4322508769E9\n",
       "Name: Natural Gas Use (kBtu), dtype: object"
      ]
     },
     "execution_count": 126,
     "metadata": {},
     "output_type": "execute_result"
    }
   ],
   "source": [
    "# Check out \"Natural Gas Use\" again\n",
    "df.loc[:5,\"Natural Gas Use (kBtu)\"]"
   ]
  },
  {
   "cell_type": "markdown",
   "metadata": {},
   "source": [
    "**After replacing the \"Not Available\" with np.nan (floats), we need to convert all numeric columns into numeric datatypes.  To determine which variables are numeric, one clue is to look at whether the variable has units (ex: kBtu)**\n"
   ]
  },
  {
   "cell_type": "code",
   "execution_count": 127,
   "metadata": {},
   "outputs": [
    {
     "data": {
      "text/plain": [
       "Index(['Largest Property Use Type - Gross Floor Area (ft²)',\n",
       "       '2nd Largest Property Use - Gross Floor Area (ft²)',\n",
       "       '3rd Largest Property Use Type - Gross Floor Area (ft²)',\n",
       "       'ENERGY STAR Score', 'Site EUI (kBtu/ft²)',\n",
       "       'Weather Normalized Site EUI (kBtu/ft²)',\n",
       "       'Weather Normalized Site Electricity Intensity (kWh/ft²)',\n",
       "       'Weather Normalized Site Natural Gas Intensity (therms/ft²)',\n",
       "       'Weather Normalized Source EUI (kBtu/ft²)', 'Fuel Oil #1 Use (kBtu)',\n",
       "       'Fuel Oil #2 Use (kBtu)', 'Fuel Oil #4 Use (kBtu)',\n",
       "       'Fuel Oil #5 & 6 Use (kBtu)', 'Diesel #2 Use (kBtu)',\n",
       "       'District Steam Use (kBtu)', 'Natural Gas Use (kBtu)',\n",
       "       'Weather Normalized Site Natural Gas Use (therms)',\n",
       "       'Electricity Use - Grid Purchase (kBtu)',\n",
       "       'Weather Normalized Site Electricity (kWh)',\n",
       "       'Total GHG Emissions (Metric Tons CO2e)',\n",
       "       'Direct GHG Emissions (Metric Tons CO2e)',\n",
       "       'Indirect GHG Emissions (Metric Tons CO2e)',\n",
       "       'Property GFA - Self-Reported (ft²)',\n",
       "       'Water Use (All Water Sources) (kgal)',\n",
       "       'Water Intensity (All Water Sources) (gal/ft²)',\n",
       "       'Source EUI (kBtu/ft²)'],\n",
       "      dtype='object')"
      ]
     },
     "execution_count": 127,
     "metadata": {},
     "output_type": "execute_result"
    }
   ],
   "source": [
    "df.filter(regex='ft²|kBtu/ft²|kWh/ft²|therms/ft²|kBtu|therms|kWh|Metric Tons CO2e|kgal|gal/ft²|Score').columns"
   ]
  },
  {
   "cell_type": "code",
   "execution_count": 128,
   "metadata": {},
   "outputs": [],
   "source": [
    "col_convert=list(df.filter(regex='ft²|kBtu/ft²|kWh/ft²|therms/ft²|kBtu|therms|kWh|Metric Tons CO2e|kgal|gal/ft²|Score').columns)"
   ]
  },
  {
   "cell_type": "code",
   "execution_count": 129,
   "metadata": {},
   "outputs": [],
   "source": [
    "# Convert column names with \"units\" to float\n",
    "df[col_convert] = df[col_convert].astype(float)"
   ]
  },
  {
   "cell_type": "code",
   "execution_count": 130,
   "metadata": {},
   "outputs": [
    {
     "data": {
      "text/html": [
       "<div>\n",
       "<style scoped>\n",
       "    .dataframe tbody tr th:only-of-type {\n",
       "        vertical-align: middle;\n",
       "    }\n",
       "\n",
       "    .dataframe tbody tr th {\n",
       "        vertical-align: top;\n",
       "    }\n",
       "\n",
       "    .dataframe thead th {\n",
       "        text-align: right;\n",
       "    }\n",
       "</style>\n",
       "<table border=\"1\" class=\"dataframe\">\n",
       "  <thead>\n",
       "    <tr style=\"text-align: right;\">\n",
       "      <th></th>\n",
       "      <th>Order</th>\n",
       "      <th>Property Id</th>\n",
       "      <th>DOF Gross Floor Area</th>\n",
       "      <th>Largest Property Use Type - Gross Floor Area (ft²)</th>\n",
       "      <th>2nd Largest Property Use - Gross Floor Area (ft²)</th>\n",
       "      <th>3rd Largest Property Use Type - Gross Floor Area (ft²)</th>\n",
       "      <th>Year Built</th>\n",
       "      <th>Number of Buildings - Self-reported</th>\n",
       "      <th>Occupancy</th>\n",
       "      <th>ENERGY STAR Score</th>\n",
       "      <th>...</th>\n",
       "      <th>Indirect GHG Emissions (Metric Tons CO2e)</th>\n",
       "      <th>Property GFA - Self-Reported (ft²)</th>\n",
       "      <th>Water Use (All Water Sources) (kgal)</th>\n",
       "      <th>Water Intensity (All Water Sources) (gal/ft²)</th>\n",
       "      <th>Source EUI (kBtu/ft²)</th>\n",
       "      <th>Latitude</th>\n",
       "      <th>Longitude</th>\n",
       "      <th>Community Board</th>\n",
       "      <th>Council District</th>\n",
       "      <th>Census Tract</th>\n",
       "    </tr>\n",
       "  </thead>\n",
       "  <tbody>\n",
       "    <tr>\n",
       "      <th>count</th>\n",
       "      <td>11746.000000</td>\n",
       "      <td>1.174600e+04</td>\n",
       "      <td>1.162800e+04</td>\n",
       "      <td>1.174400e+04</td>\n",
       "      <td>3741.000000</td>\n",
       "      <td>1484.000000</td>\n",
       "      <td>11746.000000</td>\n",
       "      <td>11746.000000</td>\n",
       "      <td>11746.000000</td>\n",
       "      <td>9642.000000</td>\n",
       "      <td>...</td>\n",
       "      <td>1.168100e+04</td>\n",
       "      <td>1.174600e+04</td>\n",
       "      <td>7.762000e+03</td>\n",
       "      <td>7762.000000</td>\n",
       "      <td>11583.000000</td>\n",
       "      <td>9483.000000</td>\n",
       "      <td>9483.000000</td>\n",
       "      <td>9483.000000</td>\n",
       "      <td>9483.000000</td>\n",
       "      <td>9483.000000</td>\n",
       "    </tr>\n",
       "    <tr>\n",
       "      <th>mean</th>\n",
       "      <td>7185.759578</td>\n",
       "      <td>3.642958e+06</td>\n",
       "      <td>1.732695e+05</td>\n",
       "      <td>1.605524e+05</td>\n",
       "      <td>22778.682010</td>\n",
       "      <td>12016.825270</td>\n",
       "      <td>1948.738379</td>\n",
       "      <td>1.289971</td>\n",
       "      <td>98.762557</td>\n",
       "      <td>59.854594</td>\n",
       "      <td>...</td>\n",
       "      <td>2.076339e+03</td>\n",
       "      <td>1.673739e+05</td>\n",
       "      <td>1.591798e+04</td>\n",
       "      <td>136.172432</td>\n",
       "      <td>385.908029</td>\n",
       "      <td>40.754379</td>\n",
       "      <td>-73.957057</td>\n",
       "      <td>7.140673</td>\n",
       "      <td>15.771275</td>\n",
       "      <td>4977.596647</td>\n",
       "    </tr>\n",
       "    <tr>\n",
       "      <th>std</th>\n",
       "      <td>4323.859984</td>\n",
       "      <td>1.049070e+06</td>\n",
       "      <td>3.367055e+05</td>\n",
       "      <td>3.095746e+05</td>\n",
       "      <td>55094.441422</td>\n",
       "      <td>27959.755486</td>\n",
       "      <td>30.576386</td>\n",
       "      <td>4.017484</td>\n",
       "      <td>7.501603</td>\n",
       "      <td>29.993586</td>\n",
       "      <td>...</td>\n",
       "      <td>5.931295e+04</td>\n",
       "      <td>3.189238e+05</td>\n",
       "      <td>1.529524e+05</td>\n",
       "      <td>1730.726938</td>\n",
       "      <td>9312.736225</td>\n",
       "      <td>0.080120</td>\n",
       "      <td>0.046337</td>\n",
       "      <td>3.954129</td>\n",
       "      <td>15.674375</td>\n",
       "      <td>13520.422990</td>\n",
       "    </tr>\n",
       "    <tr>\n",
       "      <th>min</th>\n",
       "      <td>1.000000</td>\n",
       "      <td>7.365000e+03</td>\n",
       "      <td>5.002800e+04</td>\n",
       "      <td>5.400000e+01</td>\n",
       "      <td>0.000000</td>\n",
       "      <td>0.000000</td>\n",
       "      <td>1600.000000</td>\n",
       "      <td>0.000000</td>\n",
       "      <td>0.000000</td>\n",
       "      <td>1.000000</td>\n",
       "      <td>...</td>\n",
       "      <td>-2.313430e+04</td>\n",
       "      <td>0.000000e+00</td>\n",
       "      <td>0.000000e+00</td>\n",
       "      <td>0.000000</td>\n",
       "      <td>0.000000</td>\n",
       "      <td>40.516065</td>\n",
       "      <td>-74.243582</td>\n",
       "      <td>1.000000</td>\n",
       "      <td>1.000000</td>\n",
       "      <td>1.000000</td>\n",
       "    </tr>\n",
       "    <tr>\n",
       "      <th>25%</th>\n",
       "      <td>3428.250000</td>\n",
       "      <td>2.747222e+06</td>\n",
       "      <td>6.524000e+04</td>\n",
       "      <td>6.520100e+04</td>\n",
       "      <td>4000.000000</td>\n",
       "      <td>1720.750000</td>\n",
       "      <td>1927.000000</td>\n",
       "      <td>1.000000</td>\n",
       "      <td>100.000000</td>\n",
       "      <td>37.000000</td>\n",
       "      <td>...</td>\n",
       "      <td>9.480000e+01</td>\n",
       "      <td>6.699400e+04</td>\n",
       "      <td>2.595400e+03</td>\n",
       "      <td>27.150000</td>\n",
       "      <td>99.400000</td>\n",
       "      <td>40.707226</td>\n",
       "      <td>-73.984662</td>\n",
       "      <td>4.000000</td>\n",
       "      <td>4.000000</td>\n",
       "      <td>100.000000</td>\n",
       "    </tr>\n",
       "    <tr>\n",
       "      <th>50%</th>\n",
       "      <td>6986.500000</td>\n",
       "      <td>3.236404e+06</td>\n",
       "      <td>9.313850e+04</td>\n",
       "      <td>9.132400e+04</td>\n",
       "      <td>8654.000000</td>\n",
       "      <td>5000.000000</td>\n",
       "      <td>1941.000000</td>\n",
       "      <td>1.000000</td>\n",
       "      <td>100.000000</td>\n",
       "      <td>65.000000</td>\n",
       "      <td>...</td>\n",
       "      <td>1.718000e+02</td>\n",
       "      <td>9.408000e+04</td>\n",
       "      <td>4.692500e+03</td>\n",
       "      <td>45.095000</td>\n",
       "      <td>124.900000</td>\n",
       "      <td>40.759130</td>\n",
       "      <td>-73.962810</td>\n",
       "      <td>7.000000</td>\n",
       "      <td>9.000000</td>\n",
       "      <td>201.000000</td>\n",
       "    </tr>\n",
       "    <tr>\n",
       "      <th>75%</th>\n",
       "      <td>11054.500000</td>\n",
       "      <td>4.409092e+06</td>\n",
       "      <td>1.596140e+05</td>\n",
       "      <td>1.532550e+05</td>\n",
       "      <td>20000.000000</td>\n",
       "      <td>12000.000000</td>\n",
       "      <td>1966.000000</td>\n",
       "      <td>1.000000</td>\n",
       "      <td>100.000000</td>\n",
       "      <td>85.000000</td>\n",
       "      <td>...</td>\n",
       "      <td>4.249000e+02</td>\n",
       "      <td>1.584140e+05</td>\n",
       "      <td>8.031875e+03</td>\n",
       "      <td>70.805000</td>\n",
       "      <td>162.750000</td>\n",
       "      <td>40.817623</td>\n",
       "      <td>-73.932443</td>\n",
       "      <td>9.000000</td>\n",
       "      <td>33.000000</td>\n",
       "      <td>531.500000</td>\n",
       "    </tr>\n",
       "    <tr>\n",
       "      <th>max</th>\n",
       "      <td>14993.000000</td>\n",
       "      <td>5.991312e+06</td>\n",
       "      <td>1.354011e+07</td>\n",
       "      <td>1.421712e+07</td>\n",
       "      <td>962428.000000</td>\n",
       "      <td>591640.000000</td>\n",
       "      <td>2019.000000</td>\n",
       "      <td>161.000000</td>\n",
       "      <td>100.000000</td>\n",
       "      <td>100.000000</td>\n",
       "      <td>...</td>\n",
       "      <td>4.764375e+06</td>\n",
       "      <td>1.421712e+07</td>\n",
       "      <td>6.594604e+06</td>\n",
       "      <td>96305.690000</td>\n",
       "      <td>912801.100000</td>\n",
       "      <td>40.912869</td>\n",
       "      <td>-73.715543</td>\n",
       "      <td>56.000000</td>\n",
       "      <td>51.000000</td>\n",
       "      <td>155101.000000</td>\n",
       "    </tr>\n",
       "  </tbody>\n",
       "</table>\n",
       "<p>8 rows × 37 columns</p>\n",
       "</div>"
      ],
      "text/plain": [
       "              Order   Property Id  DOF Gross Floor Area  \\\n",
       "count  11746.000000  1.174600e+04          1.162800e+04   \n",
       "mean    7185.759578  3.642958e+06          1.732695e+05   \n",
       "std     4323.859984  1.049070e+06          3.367055e+05   \n",
       "min        1.000000  7.365000e+03          5.002800e+04   \n",
       "25%     3428.250000  2.747222e+06          6.524000e+04   \n",
       "50%     6986.500000  3.236404e+06          9.313850e+04   \n",
       "75%    11054.500000  4.409092e+06          1.596140e+05   \n",
       "max    14993.000000  5.991312e+06          1.354011e+07   \n",
       "\n",
       "       Largest Property Use Type - Gross Floor Area (ft²)  \\\n",
       "count                                       1.174400e+04    \n",
       "mean                                        1.605524e+05    \n",
       "std                                         3.095746e+05    \n",
       "min                                         5.400000e+01    \n",
       "25%                                         6.520100e+04    \n",
       "50%                                         9.132400e+04    \n",
       "75%                                         1.532550e+05    \n",
       "max                                         1.421712e+07    \n",
       "\n",
       "       2nd Largest Property Use - Gross Floor Area (ft²)  \\\n",
       "count                                        3741.000000   \n",
       "mean                                        22778.682010   \n",
       "std                                         55094.441422   \n",
       "min                                             0.000000   \n",
       "25%                                          4000.000000   \n",
       "50%                                          8654.000000   \n",
       "75%                                         20000.000000   \n",
       "max                                        962428.000000   \n",
       "\n",
       "       3rd Largest Property Use Type - Gross Floor Area (ft²)    Year Built  \\\n",
       "count                                        1484.000000       11746.000000   \n",
       "mean                                        12016.825270        1948.738379   \n",
       "std                                         27959.755486          30.576386   \n",
       "min                                             0.000000        1600.000000   \n",
       "25%                                          1720.750000        1927.000000   \n",
       "50%                                          5000.000000        1941.000000   \n",
       "75%                                         12000.000000        1966.000000   \n",
       "max                                        591640.000000        2019.000000   \n",
       "\n",
       "       Number of Buildings - Self-reported     Occupancy  ENERGY STAR Score  \\\n",
       "count                         11746.000000  11746.000000        9642.000000   \n",
       "mean                              1.289971     98.762557          59.854594   \n",
       "std                               4.017484      7.501603          29.993586   \n",
       "min                               0.000000      0.000000           1.000000   \n",
       "25%                               1.000000    100.000000          37.000000   \n",
       "50%                               1.000000    100.000000          65.000000   \n",
       "75%                               1.000000    100.000000          85.000000   \n",
       "max                             161.000000    100.000000         100.000000   \n",
       "\n",
       "           ...        Indirect GHG Emissions (Metric Tons CO2e)  \\\n",
       "count      ...                                     1.168100e+04   \n",
       "mean       ...                                     2.076339e+03   \n",
       "std        ...                                     5.931295e+04   \n",
       "min        ...                                    -2.313430e+04   \n",
       "25%        ...                                     9.480000e+01   \n",
       "50%        ...                                     1.718000e+02   \n",
       "75%        ...                                     4.249000e+02   \n",
       "max        ...                                     4.764375e+06   \n",
       "\n",
       "       Property GFA - Self-Reported (ft²)  \\\n",
       "count                        1.174600e+04   \n",
       "mean                         1.673739e+05   \n",
       "std                          3.189238e+05   \n",
       "min                          0.000000e+00   \n",
       "25%                          6.699400e+04   \n",
       "50%                          9.408000e+04   \n",
       "75%                          1.584140e+05   \n",
       "max                          1.421712e+07   \n",
       "\n",
       "       Water Use (All Water Sources) (kgal)  \\\n",
       "count                          7.762000e+03   \n",
       "mean                           1.591798e+04   \n",
       "std                            1.529524e+05   \n",
       "min                            0.000000e+00   \n",
       "25%                            2.595400e+03   \n",
       "50%                            4.692500e+03   \n",
       "75%                            8.031875e+03   \n",
       "max                            6.594604e+06   \n",
       "\n",
       "       Water Intensity (All Water Sources) (gal/ft²)  Source EUI (kBtu/ft²)  \\\n",
       "count                                    7762.000000           11583.000000   \n",
       "mean                                      136.172432             385.908029   \n",
       "std                                      1730.726938            9312.736225   \n",
       "min                                         0.000000               0.000000   \n",
       "25%                                        27.150000              99.400000   \n",
       "50%                                        45.095000             124.900000   \n",
       "75%                                        70.805000             162.750000   \n",
       "max                                     96305.690000          912801.100000   \n",
       "\n",
       "          Latitude    Longitude  Community Board  Council District  \\\n",
       "count  9483.000000  9483.000000      9483.000000       9483.000000   \n",
       "mean     40.754379   -73.957057         7.140673         15.771275   \n",
       "std       0.080120     0.046337         3.954129         15.674375   \n",
       "min      40.516065   -74.243582         1.000000          1.000000   \n",
       "25%      40.707226   -73.984662         4.000000          4.000000   \n",
       "50%      40.759130   -73.962810         7.000000          9.000000   \n",
       "75%      40.817623   -73.932443         9.000000         33.000000   \n",
       "max      40.912869   -73.715543        56.000000         51.000000   \n",
       "\n",
       "        Census Tract  \n",
       "count    9483.000000  \n",
       "mean     4977.596647  \n",
       "std     13520.422990  \n",
       "min         1.000000  \n",
       "25%       100.000000  \n",
       "50%       201.000000  \n",
       "75%       531.500000  \n",
       "max    155101.000000  \n",
       "\n",
       "[8 rows x 37 columns]"
      ]
     },
     "execution_count": 130,
     "metadata": {},
     "output_type": "execute_result"
    }
   ],
   "source": [
    "# Take a look at the descriptive statistics for each numeric column\n",
    "df.describe()"
   ]
  },
  {
   "cell_type": "markdown",
   "metadata": {},
   "source": [
    "**Let's look at the categorical variables**"
   ]
  },
  {
   "cell_type": "code",
   "execution_count": 131,
   "metadata": {},
   "outputs": [
    {
     "data": {
      "text/plain": [
       "Property Name                                     object\n",
       "Parent Property Id                                object\n",
       "Parent Property Name                              object\n",
       "BBL - 10 digits                                   object\n",
       "NYC Borough, Block and Lot (BBL) self-reported    object\n",
       "NYC Building Identification Number (BIN)          object\n",
       "Address 1 (self-reported)                         object\n",
       "Address 2                                         object\n",
       "Postal Code                                       object\n",
       "Street Number                                     object\n",
       "Street Name                                       object\n",
       "Borough                                           object\n",
       "Primary Property Type - Self Selected             object\n",
       "List of All Property Use Types at Property        object\n",
       "Largest Property Use Type                         object\n",
       "2nd Largest Property Use Type                     object\n",
       "3rd Largest Property Use Type                     object\n",
       "Metered Areas (Energy)                            object\n",
       "Metered Areas  (Water)                            object\n",
       "Release Date                                      object\n",
       "Water Required?                                   object\n",
       "DOF Benchmarking Submission Status                object\n",
       "NTA                                               object\n",
       "dtype: object"
      ]
     },
     "execution_count": 131,
     "metadata": {},
     "output_type": "execute_result"
    }
   ],
   "source": [
    "df.dtypes[df.dtypes==\"O\"]"
   ]
  },
  {
   "cell_type": "markdown",
   "metadata": {},
   "source": [
    "**Thoughts**\n",
    "- Of all the above categorical features, most of them doesn't seem to be that relevant to Energy efficiency of buildings.\n",
    "- The only exception is maybe \"Largest Property Use Type\"?\n",
    "- I will explore \"Largest Propery Use Type\" in more detail.  I will probably not include the rest of the categorical variables in our models."
   ]
  },
  {
   "cell_type": "code",
   "execution_count": null,
   "metadata": {},
   "outputs": [],
   "source": []
  },
  {
   "cell_type": "markdown",
   "metadata": {},
   "source": [
    "## Missing Values\n",
    "- Let's check out the percent missing values for each column."
   ]
  },
  {
   "cell_type": "markdown",
   "metadata": {},
   "source": [
    "This function takes a DataFrame and return a DataFrame with two columns: \n",
    "    - Total count missing values\n",
    "    - Total missing value percentage\n"
   ]
  },
  {
   "cell_type": "code",
   "execution_count": 132,
   "metadata": {},
   "outputs": [],
   "source": [
    "def missing_val(df):\n",
    "    total= df.isnull().sum().sort_values(ascending=False)  \n",
    "    percent = round((total/len(df))*100,2)\n",
    "    \n",
    "    return pd.concat([total,percent], axis=1, keys=['count', 'percent'])"
   ]
  },
  {
   "cell_type": "code",
   "execution_count": 133,
   "metadata": {},
   "outputs": [
    {
     "data": {
      "text/html": [
       "<div>\n",
       "<style scoped>\n",
       "    .dataframe tbody tr th:only-of-type {\n",
       "        vertical-align: middle;\n",
       "    }\n",
       "\n",
       "    .dataframe tbody tr th {\n",
       "        vertical-align: top;\n",
       "    }\n",
       "\n",
       "    .dataframe thead th {\n",
       "        text-align: right;\n",
       "    }\n",
       "</style>\n",
       "<table border=\"1\" class=\"dataframe\">\n",
       "  <thead>\n",
       "    <tr style=\"text-align: right;\">\n",
       "      <th></th>\n",
       "      <th>count</th>\n",
       "      <th>percent</th>\n",
       "    </tr>\n",
       "  </thead>\n",
       "  <tbody>\n",
       "    <tr>\n",
       "      <th>Fuel Oil #1 Use (kBtu)</th>\n",
       "      <td>11737</td>\n",
       "      <td>99.92</td>\n",
       "    </tr>\n",
       "    <tr>\n",
       "      <th>Diesel #2 Use (kBtu)</th>\n",
       "      <td>11730</td>\n",
       "      <td>99.86</td>\n",
       "    </tr>\n",
       "    <tr>\n",
       "      <th>Address 2</th>\n",
       "      <td>11539</td>\n",
       "      <td>98.24</td>\n",
       "    </tr>\n",
       "    <tr>\n",
       "      <th>Fuel Oil #5 &amp; 6 Use (kBtu)</th>\n",
       "      <td>11152</td>\n",
       "      <td>94.94</td>\n",
       "    </tr>\n",
       "    <tr>\n",
       "      <th>District Steam Use (kBtu)</th>\n",
       "      <td>10810</td>\n",
       "      <td>92.03</td>\n",
       "    </tr>\n",
       "  </tbody>\n",
       "</table>\n",
       "</div>"
      ],
      "text/plain": [
       "                            count  percent\n",
       "Fuel Oil #1 Use (kBtu)      11737    99.92\n",
       "Diesel #2 Use (kBtu)        11730    99.86\n",
       "Address 2                   11539    98.24\n",
       "Fuel Oil #5 & 6 Use (kBtu)  11152    94.94\n",
       "District Steam Use (kBtu)   10810    92.03"
      ]
     },
     "execution_count": 133,
     "metadata": {},
     "output_type": "execute_result"
    }
   ],
   "source": [
    "missing_val(df).head()  # Top 10 variables with missing values"
   ]
  },
  {
   "cell_type": "markdown",
   "metadata": {},
   "source": [
    "### Thoughts:\n",
    "- Some variables has a very high percentage of missing values.\n",
    "- We probably want to remove features that have greater than 50% missing values as they won't be that useful for our models."
   ]
  },
  {
   "cell_type": "code",
   "execution_count": 134,
   "metadata": {},
   "outputs": [],
   "source": [
    "temp1 = missing_val(df)\n",
    "temp2 = temp1[temp1[\"percent\"]>50]"
   ]
  },
  {
   "cell_type": "code",
   "execution_count": 135,
   "metadata": {},
   "outputs": [],
   "source": [
    "# Drop columns with more than 50% missing\n",
    "df.drop(list(temp2.index), axis=1, inplace=True)"
   ]
  },
  {
   "cell_type": "code",
   "execution_count": 136,
   "metadata": {},
   "outputs": [
    {
     "data": {
      "text/plain": [
       "(11746, 49)"
      ]
     },
     "execution_count": 136,
     "metadata": {},
     "output_type": "execute_result"
    }
   ],
   "source": [
    "df.shape # Now we are down to 49 variables (48 features)"
   ]
  },
  {
   "cell_type": "code",
   "execution_count": 137,
   "metadata": {},
   "outputs": [
    {
     "data": {
      "text/html": [
       "<div>\n",
       "<style scoped>\n",
       "    .dataframe tbody tr th:only-of-type {\n",
       "        vertical-align: middle;\n",
       "    }\n",
       "\n",
       "    .dataframe tbody tr th {\n",
       "        vertical-align: top;\n",
       "    }\n",
       "\n",
       "    .dataframe thead th {\n",
       "        text-align: right;\n",
       "    }\n",
       "</style>\n",
       "<table border=\"1\" class=\"dataframe\">\n",
       "  <thead>\n",
       "    <tr style=\"text-align: right;\">\n",
       "      <th></th>\n",
       "      <th>count</th>\n",
       "      <th>percent</th>\n",
       "    </tr>\n",
       "  </thead>\n",
       "  <tbody>\n",
       "    <tr>\n",
       "      <th>Metered Areas  (Water)</th>\n",
       "      <td>4609</td>\n",
       "      <td>39.24</td>\n",
       "    </tr>\n",
       "    <tr>\n",
       "      <th>Water Intensity (All Water Sources) (gal/ft²)</th>\n",
       "      <td>3984</td>\n",
       "      <td>33.92</td>\n",
       "    </tr>\n",
       "    <tr>\n",
       "      <th>Water Use (All Water Sources) (kgal)</th>\n",
       "      <td>3984</td>\n",
       "      <td>33.92</td>\n",
       "    </tr>\n",
       "    <tr>\n",
       "      <th>NTA</th>\n",
       "      <td>2263</td>\n",
       "      <td>19.27</td>\n",
       "    </tr>\n",
       "    <tr>\n",
       "      <th>Council District</th>\n",
       "      <td>2263</td>\n",
       "      <td>19.27</td>\n",
       "    </tr>\n",
       "  </tbody>\n",
       "</table>\n",
       "</div>"
      ],
      "text/plain": [
       "                                               count  percent\n",
       "Metered Areas  (Water)                          4609    39.24\n",
       "Water Intensity (All Water Sources) (gal/ft²)   3984    33.92\n",
       "Water Use (All Water Sources) (kgal)            3984    33.92\n",
       "NTA                                             2263    19.27\n",
       "Council District                                2263    19.27"
      ]
     },
     "execution_count": 137,
     "metadata": {},
     "output_type": "execute_result"
    }
   ],
   "source": [
    "# Check out the top 10 variables with missing values again\n",
    "missing_val(df).head()  # Top 10 variables with missing values"
   ]
  },
  {
   "cell_type": "code",
   "execution_count": null,
   "metadata": {},
   "outputs": [],
   "source": []
  },
  {
   "cell_type": "markdown",
   "metadata": {},
   "source": [
    "## Exploratory Data Analysis\n",
    "- Make plots & examine summary statistics to understand the data better.\n",
    "- Are there any patterns, anomalies, relationships?\n",
    "- What are the correlation between the features and the response variables. I should choose variables that are highly correlated with the response variable and have high variance to be in our model.\n",
    "- I started with a high level overview, then drill down to specific variables of the dataset."
   ]
  },
  {
   "cell_type": "markdown",
   "metadata": {},
   "source": [
    "**Let's start with the response (univariate analysis)**"
   ]
  },
  {
   "cell_type": "code",
   "execution_count": 138,
   "metadata": {},
   "outputs": [],
   "source": [
    "# rename Energy Star Score to \"score\"\n",
    "df.rename(columns = {\"ENERGY STAR Score\":\"score\"}, inplace=True)"
   ]
  },
  {
   "cell_type": "code",
   "execution_count": 139,
   "metadata": {},
   "outputs": [
    {
     "data": {
      "text/plain": [
       "Text(0.5, 1.0, 'Distribution of score')"
      ]
     },
     "execution_count": 139,
     "metadata": {},
     "output_type": "execute_result"
    },
    {
     "data": {
      "image/png": "[encoded data removed]",
      "text/plain": [
       "<Figure size 432x288 with 1 Axes>"
      ]
     },
     "metadata": {
      "needs_background": "light"
     },
     "output_type": "display_data"
    }
   ],
   "source": [
    "# Plot histogram to look at the probability distribution of \"score\" (I expect a uniform distribution)\n",
    "fig = plt.figure(figsize=(6,4))\n",
    "sns.distplot(df.score.dropna(), bins=100, hist=True, kde=False)\n",
    "plt.title(\"Distribution of score\")"
   ]
  },
  {
   "cell_type": "markdown",
   "metadata": {},
   "source": [
    "### Thoughts:\n",
    "- The two most common scores are 0 and 100.  \n",
    "- Why are there so many 100s, maybe because owners inflate their self-reported energy score?\n",
    "- Is it possible to have 0, why are there so many of the,?\n",
    "- How does this self-reported score compare to another metric called Energy Use Intensity (EUI).  It is a ratio of total energy use and sq-ft of the building.\n",
    "- I expect EUI to have normal distribution (since it is not a percentile rank)."
   ]
  },
  {
   "cell_type": "code",
   "execution_count": 140,
   "metadata": {},
   "outputs": [
    {
     "data": {
      "text/plain": [
       "Text(0.5, 1.0, 'Distribution of Site EUI (kBtu/ft²)')"
      ]
     },
     "execution_count": 140,
     "metadata": {},
     "output_type": "execute_result"
    },
    {
     "data": {
      "image/png": "[encoded data removed]",
      "text/plain": [
       "<Figure size 432x288 with 1 Axes>"
      ]
     },
     "metadata": {
      "needs_background": "light"
     },
     "output_type": "display_data"
    }
   ],
   "source": [
    "fig = plt.figure(figsize=(6,4))\n",
    "sns.distplot(df[\"Site EUI (kBtu/ft²)\"].dropna(), bins=100, hist=True, kde=False)\n",
    "plt.title(\"Distribution of Site EUI (kBtu/ft²)\")"
   ]
  },
  {
   "cell_type": "markdown",
   "metadata": {},
   "source": [
    "**Some buildings have a very high score (outliers)!**"
   ]
  },
  {
   "cell_type": "code",
   "execution_count": 141,
   "metadata": {},
   "outputs": [
    {
     "data": {
      "text/plain": [
       "count     11583.000000\n",
       "mean        280.071484\n",
       "std        8607.178877\n",
       "min           0.000000\n",
       "25%          61.800000\n",
       "50%          78.500000\n",
       "75%          97.600000\n",
       "max      869265.000000\n",
       "Name: Site EUI (kBtu/ft²), dtype: float64"
      ]
     },
     "execution_count": 141,
     "metadata": {},
     "output_type": "execute_result"
    }
   ],
   "source": [
    "df[\"Site EUI (kBtu/ft²)\"].describe()"
   ]
  },
  {
   "cell_type": "code",
   "execution_count": 142,
   "metadata": {},
   "outputs": [
    {
     "data": {
      "text/plain": [
       "8068    869265.0\n",
       "7       143974.4\n",
       "3898    126307.4\n",
       "8174    112173.6\n",
       "8268    103562.7\n",
       "3263     95560.2\n",
       "8269     84969.6\n",
       "3383     78360.1\n",
       "3170     51831.2\n",
       "3173     51328.8\n",
       "Name: Site EUI (kBtu/ft²), dtype: float64"
      ]
     },
     "execution_count": 142,
     "metadata": {},
     "output_type": "execute_result"
    }
   ],
   "source": [
    "# The top 10 scores are:\n",
    "df[\"Site EUI (kBtu/ft²)\"].dropna().sort_values(ascending=False).head(10)"
   ]
  },
  {
   "cell_type": "code",
   "execution_count": 143,
   "metadata": {},
   "outputs": [
    {
     "data": {
      "text/plain": [
       "Order                                                                                                      9984\n",
       "Property Id                                                                                             4414323\n",
       "Property Name                                                                                      234 Skillman\n",
       "Parent Property Id                                                          Not Applicable: Standalone Property\n",
       "Parent Property Name                                                        Not Applicable: Standalone Property\n",
       "BBL - 10 digits                                                                                      3028937502\n",
       "NYC Borough, Block and Lot (BBL) self-reported                                                       3028937502\n",
       "NYC Building Identification Number (BIN)                                                      3390250 , 3338313\n",
       "Address 1 (self-reported)                                                                   234 Skillman avenue\n",
       "Postal Code                                                                                               11211\n",
       "Street Number                                                                                               234\n",
       "Street Name                                                                                     SKILLMAN AVENUE\n",
       "Borough                                                                                                Brooklyn\n",
       "DOF Gross Floor Area                                                                                      61811\n",
       "Primary Property Type - Self Selected                                                       Multifamily Housing\n",
       "List of All Property Use Types at Property                                                  Multifamily Housing\n",
       "Largest Property Use Type                                                                   Multifamily Housing\n",
       "Largest Property Use Type - Gross Floor Area (ft²)                                                        56900\n",
       "Year Built                                                                                                 2004\n",
       "Number of Buildings - Self-reported                                                                           1\n",
       "Occupancy                                                                                                    90\n",
       "Metered Areas (Energy)                                                                           Whole Building\n",
       "Metered Areas  (Water)                                                                                      NaN\n",
       "score                                                                                                         1\n",
       "Site EUI (kBtu/ft²)                                                                                      869265\n",
       "Weather Normalized Site EUI (kBtu/ft²)                                                                   939329\n",
       "Weather Normalized Site Electricity Intensity (kWh/ft²)                                                     9.9\n",
       "Weather Normalized Site Natural Gas Intensity (therms/ft²)                                                 9393\n",
       "Weather Normalized Source EUI (kBtu/ft²)                                                                 986366\n",
       "Natural Gas Use (kBtu)                                                                              4.94592e+10\n",
       "Weather Normalized Site Natural Gas Use (therms)                                                    5.34459e+08\n",
       "Electricity Use - Grid Purchase (kBtu)                                                              1.98366e+06\n",
       "Weather Normalized Site Electricity (kWh)                                                                563240\n",
       "Total GHG Emissions (Metric Tons CO2e)                                                               2.6272e+06\n",
       "Direct GHG Emissions (Metric Tons CO2e)                                                             2.62702e+06\n",
       "Indirect GHG Emissions (Metric Tons CO2e)                                                                 184.1\n",
       "Property GFA - Self-Reported (ft²)                                                                        56900\n",
       "Water Use (All Water Sources) (kgal)                                                                     2547.9\n",
       "Water Intensity (All Water Sources) (gal/ft²)                                                             44.78\n",
       "Source EUI (kBtu/ft²)                                                                                    912801\n",
       "Release Date                                                                             05/01/2017 11:34:14 PM\n",
       "Water Required?                                                                                             NaN\n",
       "DOF Benchmarking Submission Status                                                                In Compliance\n",
       "Latitude                                                                                                40.7162\n",
       "Longitude                                                                                              -73.9414\n",
       "Community Board                                                                                               1\n",
       "Council District                                                                                             34\n",
       "Census Tract                                                                                                477\n",
       "NTA                                                           East Williamsburg                             ...\n",
       "Name: 8068, dtype: object"
      ]
     },
     "execution_count": 143,
     "metadata": {},
     "output_type": "execute_result"
    }
   ],
   "source": [
    "# The building (index 8068) is 8X higher than the second highest building, let's check it out.\n",
    "df.iloc[8068,:]"
   ]
  },
  {
   "cell_type": "markdown",
   "metadata": {},
   "source": [
    "### Thoughts\n",
    "- I don't notice anything particular about this buildng.  Based on my understanding of the variables, I can't really tell why an outlier occurs and whether an outlier is natural or not.\n",
    "- So, to be conservative, I will remove outliers that are below Q1-3*IQR and above Q3+3*IQR"
   ]
  },
  {
   "cell_type": "code",
   "execution_count": 144,
   "metadata": {},
   "outputs": [],
   "source": [
    "# Calculate first and third quartile\n",
    "q1 = df['Site EUI (kBtu/ft²)'].describe()[\"25%\"]\n",
    "q3 = df['Site EUI (kBtu/ft²)'].describe()[\"75%\"]"
   ]
  },
  {
   "cell_type": "code",
   "execution_count": 145,
   "metadata": {},
   "outputs": [],
   "source": [
    "# IQR\n",
    "iqr = q3 - q1\n",
    "lwr = q1 - 3*iqr\n",
    "upr = q3 + 3*iqr"
   ]
  },
  {
   "cell_type": "code",
   "execution_count": 146,
   "metadata": {},
   "outputs": [],
   "source": [
    "# Remove outliers (only keep observations within IQR)\n",
    "df = df[(df['Site EUI (kBtu/ft²)']<upr) & (df['Site EUI (kBtu/ft²)']>lwr)]"
   ]
  },
  {
   "cell_type": "code",
   "execution_count": 147,
   "metadata": {},
   "outputs": [
    {
     "data": {
      "text/plain": [
       "Text(0.5, 1.0, 'Distribution of Site EUI (kBtu/ft²)')"
      ]
     },
     "execution_count": 147,
     "metadata": {},
     "output_type": "execute_result"
    },
    {
     "data": {
      "image/png": "[encoded data removed]",
      "text/plain": [
       "<Figure size 432x288 with 1 Axes>"
      ]
     },
     "metadata": {
      "needs_background": "light"
     },
     "output_type": "display_data"
    }
   ],
   "source": [
    "# Now look at distribution of EUI again\n",
    "fig = plt.figure(figsize=(6,4))\n",
    "sns.distplot(df[\"Site EUI (kBtu/ft²)\"].dropna(), bins=100, hist=True, kde=False)\n",
    "plt.title(\"Distribution of Site EUI (kBtu/ft²)\")"
   ]
  },
  {
   "cell_type": "markdown",
   "metadata": {},
   "source": [
    "### Thoughts\n",
    "- With the outliers removed, sure enough, the distribution of EUI looks more like a normal distribution (but slightly right skewed)\n",
    "- Although our objective is to predict the self-report score, I think we should instead predict EUI.  I can make a note of that in my conclusions."
   ]
  },
  {
   "cell_type": "code",
   "execution_count": null,
   "metadata": {},
   "outputs": [],
   "source": []
  },
  {
   "cell_type": "markdown",
   "metadata": {},
   "source": [
    "## Bivariate Analysis\n",
    "- Look for relationship between largest property use type and score\n",
    "- Easy way would be to look at the average score for each level of the factor variables\n",
    "- Another way is to look at the pdf of score at different levels of the factor variable\n",
    "- Or boxplots (y axis= score, x axis = levels of the factor variable)\n",
    "- In addition, I can use logistic regression to look at relationship between bourough and score"
   ]
  },
  {
   "cell_type": "code",
   "execution_count": null,
   "metadata": {},
   "outputs": [],
   "source": []
  },
  {
   "cell_type": "markdown",
   "metadata": {},
   "source": [
    "**\"Largest Property Use Type\"  (categorical variable)**"
   ]
  },
  {
   "cell_type": "code",
   "execution_count": 148,
   "metadata": {},
   "outputs": [],
   "source": [
    "# drop all rows with score = NA\n",
    "temp = df.dropna(subset=[\"score\"])"
   ]
  },
  {
   "cell_type": "code",
   "execution_count": 149,
   "metadata": {
    "scrolled": true
   },
   "outputs": [
    {
     "data": {
      "text/plain": [
       "Multifamily Housing                      7464\n",
       "Office                                   1157\n",
       "Hotel                                     202\n",
       "Non-Refrigerated Warehouse                156\n",
       "K-12 School                                97\n",
       "Residence Hall/Dormitory                   96\n",
       "Senior Care Community                      85\n",
       "Distribution Center                        61\n",
       "Retail Store                               57\n",
       "Medical Office                             23\n",
       "Hospital (General Medical & Surgical)      15\n",
       "Financial Office                           12\n",
       "Supermarket/Grocery Store                  10\n",
       "Worship Facility                            9\n",
       "Refrigerated Warehouse                      8\n",
       "Wholesale Club/Supercenter                  3\n",
       "Parking                                     3\n",
       "Courthouse                                  2\n",
       "Bank Branch                                 1\n",
       "Name: Largest Property Use Type, dtype: int64"
      ]
     },
     "execution_count": 149,
     "metadata": {},
     "output_type": "execute_result"
    }
   ],
   "source": [
    "temp[\"Largest Property Use Type\"].value_counts()"
   ]
  },
  {
   "cell_type": "markdown",
   "metadata": {},
   "source": [
    "### Thoughts:\n",
    "- Imbalance classes, I should ignore classes with less than 100 observations."
   ]
  },
  {
   "cell_type": "code",
   "execution_count": 150,
   "metadata": {},
   "outputs": [],
   "source": [
    "# Create a list of levels with more than 100 measurements\n",
    "temp1 =temp['Largest Property Use Type'].value_counts()"
   ]
  },
  {
   "cell_type": "code",
   "execution_count": 151,
   "metadata": {},
   "outputs": [],
   "source": [
    "temp2=temp1[temp1>100]"
   ]
  },
  {
   "cell_type": "code",
   "execution_count": 152,
   "metadata": {},
   "outputs": [
    {
     "data": {
      "text/plain": [
       "['Multifamily Housing', 'Office', 'Hotel', 'Non-Refrigerated Warehouse']"
      ]
     },
     "execution_count": 152,
     "metadata": {},
     "output_type": "execute_result"
    }
   ],
   "source": [
    "# We will only analyse these types of observations\n",
    "temp2=list(temp2.index)\n",
    "temp2"
   ]
  },
  {
   "cell_type": "code",
   "execution_count": 153,
   "metadata": {},
   "outputs": [],
   "source": [
    "subset = df[df['Largest Property Use Type'].isin(temp2)]"
   ]
  },
  {
   "cell_type": "code",
   "execution_count": 154,
   "metadata": {},
   "outputs": [
    {
     "data": {
      "text/plain": [
       "(array([0, 1, 2, 3]), <a list of 4 Text xticklabel objects>)"
      ]
     },
     "execution_count": 154,
     "metadata": {},
     "output_type": "execute_result"
    },
    {
     "data": {
      "image/png": "[encoded data removed]",
      "text/plain": [
       "<Figure size 432x288 with 1 Axes>"
      ]
     },
     "metadata": {
      "needs_background": "light"
     },
     "output_type": "display_data"
    }
   ],
   "source": [
    "fig = plt.figure(figsize=(6,4)) \n",
    "sns.boxplot(y=\"score\", x=\"Largest Property Use Type\", data=subset) \n",
    "plt.xticks(rotation=90)"
   ]
  },
  {
   "cell_type": "code",
   "execution_count": 155,
   "metadata": {},
   "outputs": [
    {
     "name": "stderr",
     "output_type": "stream",
     "text": [
      "C:\\Users\\henry_dw8mcdk\\Anaconda3\\envs\\python35\\lib\\site-packages\\statsmodels\\nonparametric\\kde.py:448: RuntimeWarning: invalid value encountered in greater\n",
      "  X = X[np.logical_and(X > clip[0], X < clip[1])] # won't work for two columns.\n",
      "C:\\Users\\henry_dw8mcdk\\Anaconda3\\envs\\python35\\lib\\site-packages\\statsmodels\\nonparametric\\kde.py:448: RuntimeWarning: invalid value encountered in less\n",
      "  X = X[np.logical_and(X > clip[0], X < clip[1])] # won't work for two columns.\n",
      "C:\\Users\\henry_dw8mcdk\\Anaconda3\\envs\\python35\\lib\\site-packages\\scipy\\stats\\stats.py:1713: FutureWarning: Using a non-tuple sequence for multidimensional indexing is deprecated; use `arr[tuple(seq)]` instead of `arr[seq]`. In the future this will be interpreted as an array index, `arr[np.array(seq)]`, which will result either in an error or a different result.\n",
      "  return np.add.reduce(sorted[indexer] * weights, axis=axis) / sumval\n"
     ]
    },
    {
     "data": {
      "text/plain": [
       "Text(0.5, 0, 'score')"
      ]
     },
     "execution_count": 155,
     "metadata": {},
     "output_type": "execute_result"
    },
    {
     "data": {
      "image/png": "[encoded data removed]",
      "text/plain": [
       "<Figure size 432x288 with 1 Axes>"
      ]
     },
     "metadata": {
      "needs_background": "light"
     },
     "output_type": "display_data"
    }
   ],
   "source": [
    "# I can plot pdf of scores by \"Largest Property Use Type\"\n",
    "fig = plt.figure(figsize=(6,4))\n",
    "for i, name in enumerate(temp2):\n",
    "    sns.kdeplot(data=subset.loc[subset[\"Largest Property Use Type\"]==name, \"score\"], \n",
    "            shade=True,\n",
    "            label=name)\n",
    "    \n",
    "plt.xlabel(\"score\")"
   ]
  },
  {
   "cell_type": "markdown",
   "metadata": {},
   "source": [
    "**Thoughts**\n",
    "- Hotel has the lowest average score, variance is small also.\n",
    "- Office has the highest average score, lowest variance, but lots of outliers (which make sense, firms vary in values/cultures)\n",
    "- Family house and warehouse is similar in terms of score and distribtion: they both have higher variation."
   ]
  },
  {
   "cell_type": "code",
   "execution_count": 156,
   "metadata": {},
   "outputs": [],
   "source": [
    "subset=subset[[\"score\",\"Largest Property Use Type\"]]\n",
    "subset.dropna(inplace=True)\n",
    "y=subset[\"score\"]\n",
    "X=pd.get_dummies(subset[\"Largest Property Use Type\"], drop_first=True)"
   ]
  },
  {
   "cell_type": "code",
   "execution_count": 157,
   "metadata": {},
   "outputs": [
    {
     "name": "stdout",
     "output_type": "stream",
     "text": [
      "                            OLS Regression Results                            \n",
      "==============================================================================\n",
      "Dep. Variable:                  score   R-squared:                       0.035\n",
      "Model:                            OLS   Adj. R-squared:                  0.035\n",
      "Method:                 Least Squares   F-statistic:                     109.0\n",
      "Date:                Fri, 05 Jun 2020   Prob (F-statistic):           2.70e-69\n",
      "Time:                        18:30:13   Log-Likelihood:                -42930.\n",
      "No. Observations:                8979   AIC:                         8.587e+04\n",
      "Df Residuals:                    8975   BIC:                         8.590e+04\n",
      "Df Model:                           3                                         \n",
      "Covariance Type:            nonrobust                                         \n",
      "==============================================================================================\n",
      "                                 coef    std err          t      P>|t|      [0.025      0.975]\n",
      "----------------------------------------------------------------------------------------------\n",
      "const                         41.5545      2.031     20.464      0.000      37.574      45.535\n",
      "Multifamily Housing           17.6776      2.058      8.590      0.000      13.644      21.712\n",
      "Non-Refrigerated Warehouse    20.7981      3.076      6.761      0.000      14.768      26.828\n",
      "Office                        31.6780      2.201     14.394      0.000      27.364      35.992\n",
      "==============================================================================\n",
      "Omnibus:                     1221.375   Durbin-Watson:                   1.767\n",
      "Prob(Omnibus):                  0.000   Jarque-Bera (JB):              534.656\n",
      "Skew:                          -0.419   Prob(JB):                    7.96e-117\n",
      "Kurtosis:                       2.147   Cond. No.                         18.7\n",
      "==============================================================================\n",
      "\n",
      "Warnings:\n",
      "[1] Standard Errors assume that the covariance matrix of the errors is correctly specified.\n"
     ]
    }
   ],
   "source": [
    "import statsmodels.api as sm\n",
    "X = sm.add_constant(X) # add a column of 1s\n",
    "model = sm.OLS(y, X)\n",
    "results = model.fit()\n",
    "print(results.summary())"
   ]
  },
  {
   "cell_type": "markdown",
   "metadata": {},
   "source": [
    "**The small $R_{adj}^2$ suggests that this feature doesn't have strong relationships with score.**"
   ]
  },
  {
   "cell_type": "code",
   "execution_count": null,
   "metadata": {},
   "outputs": [],
   "source": []
  },
  {
   "cell_type": "markdown",
   "metadata": {},
   "source": [
    "**Correlations between continuous features and the response variable**\n",
    "    - Usually I use Spearman correlation so that I don't have to assume the variables are normally distributed and they are linearly correlated with each other."
   ]
  },
  {
   "cell_type": "code",
   "execution_count": 158,
   "metadata": {},
   "outputs": [],
   "source": [
    "# Find all spearman correlations and sort \n",
    "correlations_data = df.corr(method='spearman')\n",
    "# Let's first just look at correlation between each feature and score\n",
    "correlations_data=correlations_data[\"score\"]\n",
    "# Sort the correlation and find out the top 10 most positively correlated, and top 10 most negatively correlated\n",
    "correlations_data = correlations_data.sort_values(ascending=False)"
   ]
  },
  {
   "cell_type": "code",
   "execution_count": 159,
   "metadata": {},
   "outputs": [
    {
     "data": {
      "text/plain": [
       "score                                                 1.000000\n",
       "Community Board                                       0.051750\n",
       "Council District                                      0.047002\n",
       "Largest Property Use Type - Gross Floor Area (ft²)    0.040009\n",
       "Property GFA - Self-Reported (ft²)                    0.035248\n",
       "Order                                                 0.024251\n",
       "Census Tract                                          0.018835\n",
       "DOF Gross Floor Area                                 -0.001760\n",
       "Number of Buildings - Self-reported                  -0.016234\n",
       "Occupancy                                            -0.017486\n",
       "Name: score, dtype: float64"
      ]
     },
     "execution_count": 159,
     "metadata": {},
     "output_type": "execute_result"
    }
   ],
   "source": [
    "correlations_data.head(10)"
   ]
  },
  {
   "cell_type": "code",
   "execution_count": 160,
   "metadata": {},
   "outputs": [
    {
     "data": {
      "text/plain": [
       "Electricity Use - Grid Purchase (kBtu)                       -0.289813\n",
       "Indirect GHG Emissions (Metric Tons CO2e)                    -0.295726\n",
       "Direct GHG Emissions (Metric Tons CO2e)                      -0.340328\n",
       "Weather Normalized Site Natural Gas Intensity (therms/ft²)   -0.346797\n",
       "Total GHG Emissions (Metric Tons CO2e)                       -0.410226\n",
       "Weather Normalized Site Electricity Intensity (kWh/ft²)      -0.450946\n",
       "Weather Normalized Site EUI (kBtu/ft²)                       -0.744765\n",
       "Weather Normalized Source EUI (kBtu/ft²)                     -0.752733\n",
       "Source EUI (kBtu/ft²)                                        -0.755069\n",
       "Site EUI (kBtu/ft²)                                          -0.759466\n",
       "Name: score, dtype: float64"
      ]
     },
     "execution_count": 160,
     "metadata": {},
     "output_type": "execute_result"
    }
   ],
   "source": [
    "correlations_data.tail(10)"
   ]
  },
  {
   "cell_type": "markdown",
   "metadata": {},
   "source": [
    "**Thoughts**\n",
    "- The most strongly negative correlations are EUI (different flavours of it), Electricity and GHG emissions.\n",
    "- A high EUI means building is less efficent so score should be lower.\n",
    "- Most positive correlations are very small."
   ]
  },
  {
   "cell_type": "code",
   "execution_count": null,
   "metadata": {},
   "outputs": [],
   "source": []
  },
  {
   "cell_type": "markdown",
   "metadata": {},
   "source": [
    "**Correlations between log(features) and response**\n",
    "- In case there is nonlinear relationships between IV and DV, I can log all numerical IVs, and then find correlation between log(IV) and DV\n",
    "- I can also check sqrt(IV) and DV for skewed data"
   ]
  },
  {
   "cell_type": "code",
   "execution_count": 161,
   "metadata": {},
   "outputs": [],
   "source": [
    "# Select only numeric data\n",
    "numeric_col = list(df.dtypes[df.dtypes !=\"object\"].index)\n",
    "numeric_subset = df[numeric_col]"
   ]
  },
  {
   "cell_type": "code",
   "execution_count": 162,
   "metadata": {},
   "outputs": [
    {
     "name": "stderr",
     "output_type": "stream",
     "text": [
      "C:\\Users\\henry_dw8mcdk\\Anaconda3\\envs\\python35\\lib\\site-packages\\ipykernel_launcher.py:4: SettingWithCopyWarning: \n",
      "A value is trying to be set on a copy of a slice from a DataFrame.\n",
      "Try using .loc[row_indexer,col_indexer] = value instead\n",
      "\n",
      "See the caveats in the documentation: http://pandas.pydata.org/pandas-docs/stable/indexing.html#indexing-view-versus-copy\n",
      "  after removing the cwd from sys.path.\n",
      "C:\\Users\\henry_dw8mcdk\\Anaconda3\\envs\\python35\\lib\\site-packages\\ipykernel_launcher.py:5: SettingWithCopyWarning: \n",
      "A value is trying to be set on a copy of a slice from a DataFrame.\n",
      "Try using .loc[row_indexer,col_indexer] = value instead\n",
      "\n",
      "See the caveats in the documentation: http://pandas.pydata.org/pandas-docs/stable/indexing.html#indexing-view-versus-copy\n",
      "  \"\"\"\n",
      "C:\\Users\\henry_dw8mcdk\\Anaconda3\\envs\\python35\\lib\\site-packages\\ipykernel_launcher.py:4: RuntimeWarning: divide by zero encountered in log\n",
      "  after removing the cwd from sys.path.\n",
      "C:\\Users\\henry_dw8mcdk\\Anaconda3\\envs\\python35\\lib\\site-packages\\ipykernel_launcher.py:4: RuntimeWarning: invalid value encountered in log\n",
      "  after removing the cwd from sys.path.\n",
      "C:\\Users\\henry_dw8mcdk\\Anaconda3\\envs\\python35\\lib\\site-packages\\ipykernel_launcher.py:5: RuntimeWarning: invalid value encountered in sqrt\n",
      "  \"\"\"\n"
     ]
    }
   ],
   "source": [
    "# Generate extra sqrt_XXX and log_XXXX transformed columns for all features \n",
    "for col in numeric_subset.columns.values:\n",
    "    if col !=\"score\": # exclude the response variable\n",
    "        numeric_subset[\"log_\"+col] = np.log(numeric_subset[col])\n",
    "        numeric_subset[\"sqrt_\"+col] = np.sqrt(numeric_subset[col])"
   ]
  },
  {
   "cell_type": "code",
   "execution_count": 163,
   "metadata": {},
   "outputs": [
    {
     "data": {
      "text/html": [
       "<div>\n",
       "<style scoped>\n",
       "    .dataframe tbody tr th:only-of-type {\n",
       "        vertical-align: middle;\n",
       "    }\n",
       "\n",
       "    .dataframe tbody tr th {\n",
       "        vertical-align: top;\n",
       "    }\n",
       "\n",
       "    .dataframe thead th {\n",
       "        text-align: right;\n",
       "    }\n",
       "</style>\n",
       "<table border=\"1\" class=\"dataframe\">\n",
       "  <thead>\n",
       "    <tr style=\"text-align: right;\">\n",
       "      <th></th>\n",
       "      <th>Order</th>\n",
       "      <th>Property Id</th>\n",
       "      <th>DOF Gross Floor Area</th>\n",
       "      <th>Largest Property Use Type - Gross Floor Area (ft²)</th>\n",
       "      <th>Year Built</th>\n",
       "      <th>Number of Buildings - Self-reported</th>\n",
       "      <th>Occupancy</th>\n",
       "      <th>score</th>\n",
       "      <th>Site EUI (kBtu/ft²)</th>\n",
       "      <th>Weather Normalized Site EUI (kBtu/ft²)</th>\n",
       "      <th>...</th>\n",
       "      <th>log_Latitude</th>\n",
       "      <th>sqrt_Latitude</th>\n",
       "      <th>log_Longitude</th>\n",
       "      <th>sqrt_Longitude</th>\n",
       "      <th>log_Community Board</th>\n",
       "      <th>sqrt_Community Board</th>\n",
       "      <th>log_Council District</th>\n",
       "      <th>sqrt_Council District</th>\n",
       "      <th>log_Census Tract</th>\n",
       "      <th>sqrt_Census Tract</th>\n",
       "    </tr>\n",
       "  </thead>\n",
       "  <tbody>\n",
       "    <tr>\n",
       "      <th>6572</th>\n",
       "      <td>7909</td>\n",
       "      <td>2813129</td>\n",
       "      <td>60775.0</td>\n",
       "      <td>60775.0</td>\n",
       "      <td>1927</td>\n",
       "      <td>1</td>\n",
       "      <td>100</td>\n",
       "      <td>97.0</td>\n",
       "      <td>55.9</td>\n",
       "      <td>58.7</td>\n",
       "      <td>...</td>\n",
       "      <td>3.710440</td>\n",
       "      <td>6.393103</td>\n",
       "      <td>NaN</td>\n",
       "      <td>NaN</td>\n",
       "      <td>1.945910</td>\n",
       "      <td>2.645751</td>\n",
       "      <td>2.397895</td>\n",
       "      <td>3.316625</td>\n",
       "      <td>6.023448</td>\n",
       "      <td>20.322401</td>\n",
       "    </tr>\n",
       "    <tr>\n",
       "      <th>10680</th>\n",
       "      <td>13371</td>\n",
       "      <td>2641866</td>\n",
       "      <td>213654.0</td>\n",
       "      <td>213644.0</td>\n",
       "      <td>1973</td>\n",
       "      <td>1</td>\n",
       "      <td>100</td>\n",
       "      <td>76.0</td>\n",
       "      <td>49.7</td>\n",
       "      <td>52.3</td>\n",
       "      <td>...</td>\n",
       "      <td>NaN</td>\n",
       "      <td>NaN</td>\n",
       "      <td>NaN</td>\n",
       "      <td>NaN</td>\n",
       "      <td>NaN</td>\n",
       "      <td>NaN</td>\n",
       "      <td>NaN</td>\n",
       "      <td>NaN</td>\n",
       "      <td>NaN</td>\n",
       "      <td>NaN</td>\n",
       "    </tr>\n",
       "    <tr>\n",
       "      <th>9124</th>\n",
       "      <td>11403</td>\n",
       "      <td>2718104</td>\n",
       "      <td>60800.0</td>\n",
       "      <td>60800.0</td>\n",
       "      <td>1986</td>\n",
       "      <td>1</td>\n",
       "      <td>100</td>\n",
       "      <td>64.0</td>\n",
       "      <td>82.4</td>\n",
       "      <td>85.6</td>\n",
       "      <td>...</td>\n",
       "      <td>3.704058</td>\n",
       "      <td>6.372735</td>\n",
       "      <td>NaN</td>\n",
       "      <td>NaN</td>\n",
       "      <td>2.639057</td>\n",
       "      <td>3.741657</td>\n",
       "      <td>3.871201</td>\n",
       "      <td>6.928203</td>\n",
       "      <td>6.298949</td>\n",
       "      <td>23.323808</td>\n",
       "    </tr>\n",
       "  </tbody>\n",
       "</table>\n",
       "<p>3 rows × 85 columns</p>\n",
       "</div>"
      ],
      "text/plain": [
       "       Order  Property Id  DOF Gross Floor Area  \\\n",
       "6572    7909      2813129               60775.0   \n",
       "10680  13371      2641866              213654.0   \n",
       "9124   11403      2718104               60800.0   \n",
       "\n",
       "       Largest Property Use Type - Gross Floor Area (ft²)  Year Built  \\\n",
       "6572                                             60775.0         1927   \n",
       "10680                                           213644.0         1973   \n",
       "9124                                             60800.0         1986   \n",
       "\n",
       "       Number of Buildings - Self-reported  Occupancy  score  \\\n",
       "6572                                     1        100   97.0   \n",
       "10680                                    1        100   76.0   \n",
       "9124                                     1        100   64.0   \n",
       "\n",
       "       Site EUI (kBtu/ft²)  Weather Normalized Site EUI (kBtu/ft²)  \\\n",
       "6572                  55.9                                    58.7   \n",
       "10680                 49.7                                    52.3   \n",
       "9124                  82.4                                    85.6   \n",
       "\n",
       "             ...          log_Latitude  sqrt_Latitude  log_Longitude  \\\n",
       "6572         ...              3.710440       6.393103            NaN   \n",
       "10680        ...                   NaN            NaN            NaN   \n",
       "9124         ...              3.704058       6.372735            NaN   \n",
       "\n",
       "       sqrt_Longitude  log_Community Board  sqrt_Community Board  \\\n",
       "6572              NaN             1.945910              2.645751   \n",
       "10680             NaN                  NaN                   NaN   \n",
       "9124              NaN             2.639057              3.741657   \n",
       "\n",
       "       log_Council District  sqrt_Council District  log_Census Tract  \\\n",
       "6572               2.397895               3.316625          6.023448   \n",
       "10680                   NaN                    NaN               NaN   \n",
       "9124               3.871201               6.928203          6.298949   \n",
       "\n",
       "       sqrt_Census Tract  \n",
       "6572           20.322401  \n",
       "10680                NaN  \n",
       "9124           23.323808  \n",
       "\n",
       "[3 rows x 85 columns]"
      ]
     },
     "execution_count": 163,
     "metadata": {},
     "output_type": "execute_result"
    }
   ],
   "source": [
    "numeric_subset.sample(3)"
   ]
  },
  {
   "cell_type": "code",
   "execution_count": 164,
   "metadata": {},
   "outputs": [],
   "source": [
    "# Find all correlations and sort \n",
    "correlations_data=numeric_subset.corr(method='spearman')[\"score\"]\n",
    "# Let's sort the correlation and find out the top 10 most positively correlated, and top 10 most negatively correlated\n",
    "correlations_data = correlations_data.sort_values(ascending=False)"
   ]
  },
  {
   "cell_type": "code",
   "execution_count": 165,
   "metadata": {},
   "outputs": [
    {
     "data": {
      "text/plain": [
       "score                                                      1.000000\n",
       "Community Board                                            0.051750\n",
       "sqrt_Community Board                                       0.051750\n",
       "log_Community Board                                        0.051750\n",
       "Council District                                           0.047002\n",
       "sqrt_Council District                                      0.047002\n",
       "log_Council District                                       0.047002\n",
       "log_Largest Property Use Type - Gross Floor Area (ft²)     0.040009\n",
       "sqrt_Largest Property Use Type - Gross Floor Area (ft²)    0.040009\n",
       "Largest Property Use Type - Gross Floor Area (ft²)         0.040009\n",
       "Name: score, dtype: float64"
      ]
     },
     "execution_count": 165,
     "metadata": {},
     "output_type": "execute_result"
    }
   ],
   "source": [
    "correlations_data.head(10)"
   ]
  },
  {
   "cell_type": "code",
   "execution_count": 166,
   "metadata": {},
   "outputs": [
    {
     "data": {
      "text/plain": [
       "log_Weather Normalized Site Electricity Intensity (kWh/ft²)    -0.447804\n",
       "Weather Normalized Site Electricity Intensity (kWh/ft²)        -0.450946\n",
       "sqrt_Weather Normalized Site Electricity Intensity (kWh/ft²)   -0.450946\n",
       "log_Weather Normalized Site EUI (kBtu/ft²)                     -0.744144\n",
       "sqrt_Weather Normalized Site EUI (kBtu/ft²)                    -0.744765\n",
       "Weather Normalized Site EUI (kBtu/ft²)                         -0.744765\n",
       "log_Weather Normalized Source EUI (kBtu/ft²)                   -0.752128\n",
       "Weather Normalized Source EUI (kBtu/ft²)                       -0.752733\n",
       "sqrt_Weather Normalized Source EUI (kBtu/ft²)                  -0.752733\n",
       "log_Source EUI (kBtu/ft²)                                      -0.754464\n",
       "sqrt_Source EUI (kBtu/ft²)                                     -0.755069\n",
       "Source EUI (kBtu/ft²)                                          -0.755069\n",
       "log_Site EUI (kBtu/ft²)                                        -0.758877\n",
       "Site EUI (kBtu/ft²)                                            -0.759466\n",
       "sqrt_Site EUI (kBtu/ft²)                                       -0.759466\n",
       "Name: score, dtype: float64"
      ]
     },
     "execution_count": 166,
     "metadata": {},
     "output_type": "execute_result"
    }
   ],
   "source": [
    "correlations_data.dropna().tail(15)"
   ]
  },
  {
   "cell_type": "markdown",
   "metadata": {},
   "source": [
    "**Thoughts**\n",
    "- I transformed all numeric variables with log and sqrt\n",
    "- EUI and Energy Intensity remain the most negatively correlated features with DV.  The log and sqrt variables for EUI and Energy are pretty close to their non-transformed counterparts. Perhaps the transformed variables are not needed "
   ]
  },
  {
   "cell_type": "code",
   "execution_count": 167,
   "metadata": {},
   "outputs": [],
   "source": [
    "# Keep only the continuous variables, and drop all rows where \"score\" is missing\n",
    "data = numeric_subset\n",
    "data.dropna(subset=[\"score\"], inplace=True)  "
   ]
  },
  {
   "cell_type": "code",
   "execution_count": null,
   "metadata": {},
   "outputs": [],
   "source": []
  },
  {
   "cell_type": "markdown",
   "metadata": {},
   "source": [
    "## Bivariate Analysis (Visualization)\n",
    "- From the correlation, I now know the most important features (ex: EUI).\n",
    "- I can try to plot some of these \"important features\" against score\n",
    "- Since there are many features, it is very time consuming for us to look at scatterplot between all IV and DV (in a matrix for example).  Thus, by picking only the most relevant IVs, it will reduce the size of our scatterplot matrix a bit and avoid information overload."
   ]
  },
  {
   "cell_type": "code",
   "execution_count": 168,
   "metadata": {},
   "outputs": [
    {
     "data": {
      "image/png": "[encoded data removed]",
      "text/plain": [
       "<Figure size 432x288 with 1 Axes>"
      ]
     },
     "metadata": {
      "needs_background": "light"
     },
     "output_type": "display_data"
    },
    {
     "data": {
      "image/png": "[encoded data removed]",
      "text/plain": [
       "<Figure size 432x288 with 1 Axes>"
      ]
     },
     "metadata": {
      "needs_background": "light"
     },
     "output_type": "display_data"
    },
    {
     "data": {
      "image/png": "[encoded data removed]",
      "text/plain": [
       "<Figure size 432x288 with 1 Axes>"
      ]
     },
     "metadata": {
      "needs_background": "light"
     },
     "output_type": "display_data"
    }
   ],
   "source": [
    "# Scatter plot of EUI (x axis) vs score (y-axis)\n",
    "for var in [\"sqrt_Site EUI (kBtu/ft²)\",\"Site EUI (kBtu/ft²)\",\"Weather Normalized Source EUI (kBtu/ft²)\"]:\n",
    "    fig = plt.figure (figsize=(6,4))\n",
    "    sns.scatterplot(x=var, y=\"score\", data=data)"
   ]
  },
  {
   "cell_type": "markdown",
   "metadata": {},
   "source": [
    "### Thoughts\n",
    "- There is a clear negative (linear) relationship between these features and the score. Perhaps the log and sqrt variables are not necessary."
   ]
  },
  {
   "cell_type": "code",
   "execution_count": null,
   "metadata": {},
   "outputs": [],
   "source": []
  },
  {
   "cell_type": "markdown",
   "metadata": {},
   "source": [
    "## Pair Grid\n",
    "- A matrix of scatter plots to see relationships between IVs and between IV and DV\n",
    "- We will only plot a subset of variables of interest in the features df"
   ]
  },
  {
   "cell_type": "code",
   "execution_count": 169,
   "metadata": {},
   "outputs": [],
   "source": [
    "# Extract the columns to  plot\n",
    "plot_data = data[['score', 'Site EUI (kBtu/ft²)', \n",
    "                      'Weather Normalized Source EUI (kBtu/ft²)', \n",
    "                      'log_Total GHG Emissions (Metric Tons CO2e)']]\n",
    "# Replace the inf with nan\n",
    "plot_data = plot_data.replace({np.inf: np.nan, -np.inf: np.nan})"
   ]
  },
  {
   "cell_type": "code",
   "execution_count": 170,
   "metadata": {},
   "outputs": [],
   "source": [
    "# Rename columns \n",
    "plot_data = plot_data.rename(columns = {'Site EUI (kBtu/ft²)': 'Site EUI', \n",
    "                                        'Weather Normalized Source EUI (kBtu/ft²)': 'Weather Norm EUI',\n",
    "                                        'log_Total GHG Emissions (Metric Tons CO2e)': 'log GHG Emission'})"
   ]
  },
  {
   "cell_type": "code",
   "execution_count": 171,
   "metadata": {},
   "outputs": [],
   "source": [
    "# Drop na values\n",
    "plot_data = plot_data.dropna()"
   ]
  },
  {
   "cell_type": "code",
   "execution_count": 172,
   "metadata": {
    "scrolled": true
   },
   "outputs": [
    {
     "name": "stderr",
     "output_type": "stream",
     "text": [
      "C:\\Users\\henry_dw8mcdk\\Anaconda3\\envs\\python35\\lib\\site-packages\\seaborn\\axisgrid.py:1241: UserWarning: The `size` paramter has been renamed to `height`; please update your code.\n",
      "  warnings.warn(UserWarning(msg))\n"
     ]
    },
    {
     "data": {
      "image/png": "[encoded data removed]",
      "text/plain": [
       "<Figure size 864x864 with 20 Axes>"
      ]
     },
     "metadata": {
      "needs_background": "light"
     },
     "output_type": "display_data"
    }
   ],
   "source": [
    "# Create the pairgrid object\n",
    "grid = sns.PairGrid(data = plot_data, size = 3)\n",
    "# Upper is a scatter plot\n",
    "grid.map_upper(plt.scatter, color = 'red', alpha = 0.6)\n",
    "# Diagonal is a histogram\n",
    "grid.map_diag(plt.hist, color = 'red', edgecolor = 'black')\n",
    "# Title for entire plot\n",
    "plt.suptitle('Pairs Plot of Energy Data', size = 36, y = 1.02);"
   ]
  },
  {
   "cell_type": "code",
   "execution_count": null,
   "metadata": {},
   "outputs": [],
   "source": []
  },
  {
   "cell_type": "markdown",
   "metadata": {},
   "source": [
    "## Feature Engineering and Selection\n",
    "- Feature Engineering: Use results of exploratory to generate additional features that affect the response. For example:\n",
    "    - Doing log and sqrt transformation to numerical features\n",
    "    - One hot encode categorical features\n",
    "- Feature selection: Need to also select the most relevant feature to include in our model:\n",
    "    - Select features based on its correlation with the response\n",
    "    - Selecting features with the most variance (low variance features will lead to higher error variance)\n",
    "    - Often we have to do modelling first (ex RF), and then identify the most important features, and then re-run model with a smaller subset of features. So it is an iterative process. \n",
    "    - Feature engineering and selection often has the highest returns on time invested in a machine learning problem. It can take quite a while to get right, but is often more important than the exact algorithm and hyperparameters used for the model."
   ]
  },
  {
   "cell_type": "markdown",
   "metadata": {},
   "source": [
    "**Facts from exploratory analysis:**\n",
    "- Categorical features doesn't seem to be related to response, so we will exclude them from the model.\n",
    "- Taking the log transformation of features does not result in significant increases in the linear correlations between features and the score. So log transformation is not that useful in this problem."
   ]
  },
  {
   "cell_type": "code",
   "execution_count": null,
   "metadata": {},
   "outputs": [],
   "source": []
  },
  {
   "cell_type": "markdown",
   "metadata": {},
   "source": [
    "## Remove Collinear Features\n",
    "- Highly collinear features have a significant correlation coefficent between them. For example, in our dataset, the Site EUI and Weather Norm EUI are highly correlated because they are just slightly different means of calculating the energy use intensity.\n",
    "- There are a number of methods for removing collinear features, such as using the Variance Inflation Factor. We will use a simpler metric, and remove features that have a correlation coefficient above a certain threshold with each other.\n",
    "- We have X and log(X) as our features.  Since X and log(X) are highly collinear, one of them will be removed."
   ]
  },
  {
   "cell_type": "markdown",
   "metadata": {},
   "source": [
    "**The following code removes the collinear features based on a threshold we select for the correlation coefficients by removing one of the two features that are compared. It also prints the correlations that it removes so we can see the effect of adjusting the threshold. We will use a threshold of 0.6 which removes one of a pair of features if the correlation coefficient between the features exceeds this value.**"
   ]
  },
  {
   "cell_type": "code",
   "execution_count": 173,
   "metadata": {},
   "outputs": [],
   "source": [
    "def remove_collinear_features(x, threshold,DV, custom_drop):\n",
    "    '''\n",
    "    Objective:\n",
    "        Remove collinear features in a dataframe with a correlation coefficient\n",
    "        greater than the threshold. Removing collinear features can help a model\n",
    "        to generalize and improves the interpretability of the model.\n",
    "        \n",
    "    Inputs: \n",
    "        threshold: any features with correlations greater than this value are removed\n",
    "    \n",
    "    Output: \n",
    "        dataframe that contains only the non-highly-collinear features\n",
    "    '''\n",
    "    \n",
    "    # Dont want to remove correlations between Energy Star Score\n",
    "    y = x[DV]\n",
    "    x = x.drop(columns = [DV])\n",
    "    \n",
    "    # Calculate the correlation matrix\n",
    "    corr_matrix = x.corr()\n",
    "    iters = range(len(corr_matrix.columns) - 1)\n",
    "    drop_cols = []\n",
    "\n",
    "    # Iterate through the correlation matrix and compare correlations\n",
    "    for i in iters:\n",
    "        for j in range(i):\n",
    "            item = corr_matrix.iloc[j:(j+1), (i+1):(i+2)]\n",
    "            col = item.columns\n",
    "            row = item.index\n",
    "            val = abs(item.values)\n",
    "            \n",
    "            # If correlation exceeds the threshold\n",
    "            if val >= threshold:\n",
    "                # Print the correlated features and the correlation value\n",
    "                # print(col.values[0], \"|\", row.values[0], \"|\", round(val[0][0], 2))\n",
    "                drop_cols.append(col.values[0])\n",
    "\n",
    "    # Drop one of each pair of correlated columns\n",
    "    drops = set(drop_cols)\n",
    "    x = x.drop(columns = drops)\n",
    "    \n",
    "    # Drop additional columns that are specified by the using\n",
    "    if custom_drop!=[]:\n",
    "        x = x.drop(columns =custom_drop)\n",
    "    \n",
    "    # Add the score back in to the data\n",
    "    x['score'] = y\n",
    "               \n",
    "    return x"
   ]
  },
  {
   "cell_type": "code",
   "execution_count": 174,
   "metadata": {},
   "outputs": [
    {
     "data": {
      "text/plain": [
       "(9461, 83)"
      ]
     },
     "execution_count": 174,
     "metadata": {},
     "output_type": "execute_result"
    }
   ],
   "source": [
    "# Remove any columns with all nan values\n",
    "data  = data.dropna(axis=1, how = 'all')\n",
    "data.shape"
   ]
  },
  {
   "cell_type": "code",
   "execution_count": 175,
   "metadata": {},
   "outputs": [],
   "source": [
    "additional_drops =['Weather Normalized Site EUI (kBtu/ft²)', \n",
    "                    'Water Use (All Water Sources) (kgal)',\n",
    "                    'log_Water Use (All Water Sources) (kgal)']"
   ]
  },
  {
   "cell_type": "code",
   "execution_count": 176,
   "metadata": {
    "scrolled": true
   },
   "outputs": [],
   "source": [
    "# Remove the collinear features above a specified correlation coefficient\n",
    "processed = remove_collinear_features(data, 0.6, \"score\", additional_drops);"
   ]
  },
  {
   "cell_type": "code",
   "execution_count": 177,
   "metadata": {},
   "outputs": [
    {
     "data": {
      "text/plain": [
       "(9461, 19)"
      ]
     },
     "execution_count": 177,
     "metadata": {},
     "output_type": "execute_result"
    }
   ],
   "source": [
    "processed.shape"
   ]
  },
  {
   "cell_type": "markdown",
   "metadata": {},
   "source": [
    "**Thoughts**\n",
    "- Our final dataset now has 19 features (one of the columns is the response).  This is a much smaller set of features (compared to before where we have 83 features).  \n",
    "- Models such as the random forest perform implicit feature selection and automatically determine which features are important during traning."
   ]
  },
  {
   "cell_type": "code",
   "execution_count": null,
   "metadata": {},
   "outputs": [],
   "source": []
  },
  {
   "cell_type": "markdown",
   "metadata": {},
   "source": [
    "## Split Into Training and Testing Set"
   ]
  },
  {
   "cell_type": "code",
   "execution_count": 178,
   "metadata": {},
   "outputs": [],
   "source": [
    "# Separate out the features and DV\n",
    "X = processed.drop(columns='score')\n",
    "y = pd.DataFrame(processed['score'])"
   ]
  },
  {
   "cell_type": "code",
   "execution_count": 179,
   "metadata": {},
   "outputs": [],
   "source": [
    "# Replace the inf and -inf with nan (required for later missing value imputation)\n",
    "X = X.replace({np.inf: np.nan, -np.inf: np.nan})"
   ]
  },
  {
   "cell_type": "code",
   "execution_count": 180,
   "metadata": {},
   "outputs": [],
   "source": [
    "# Split into 70% training and 30% testing set\n",
    "X_train, X_test, y_train, y_test = train_test_split(X, y, test_size = 0.3, random_state = 42)"
   ]
  },
  {
   "cell_type": "code",
   "execution_count": 181,
   "metadata": {},
   "outputs": [
    {
     "data": {
      "text/plain": [
       "((6622, 18), (2839, 18), (6622, 1), (2839, 1))"
      ]
     },
     "execution_count": 181,
     "metadata": {},
     "output_type": "execute_result"
    }
   ],
   "source": [
    "X_train.shape, X_test.shape, y_train.shape, y_test.shape"
   ]
  },
  {
   "cell_type": "markdown",
   "metadata": {},
   "source": [
    "## Baseline Prediction\n",
    "- Establish a \"naive\" baseline prediction before we start making machine learning models. \n",
    "- If the models we build cannot outperform a naive guess then we have to admit that machine learning is not suited for this problem. \n",
    "- Maybe because we need more data, or because there is a simpler solution that does not require machine learning. "
   ]
  },
  {
   "cell_type": "markdown",
   "metadata": {},
   "source": [
    "### Metric: root mean square error (SER, or RMSE)\n",
    "- I always use a single real-value performance metric in order to compare models because it simplifies the evaluate process. Rather than calculating multiple metrics and trying to determine how important each one is, we should use a single number. In this case, because we have a regression problem, I will use SER (RMSE)."
   ]
  },
  {
   "cell_type": "code",
   "execution_count": 182,
   "metadata": {},
   "outputs": [],
   "source": [
    "# Function to calculate rmse\n",
    "def rmse(y_true, y_pred):\n",
    "    return np.sqrt(np.mean(np.array(y_true-y_pred)**2))"
   ]
  },
  {
   "cell_type": "markdown",
   "metadata": {},
   "source": [
    "**Our \"naive\" prediction of the score is the median score in the full sample (that's my y_pred regardless of the values of the features)**"
   ]
  },
  {
   "cell_type": "code",
   "execution_count": 183,
   "metadata": {},
   "outputs": [],
   "source": [
    "baseline_guess = np.median(y)"
   ]
  },
  {
   "cell_type": "code",
   "execution_count": 184,
   "metadata": {},
   "outputs": [
    {
     "name": "stdout",
     "output_type": "stream",
     "text": [
      "The baseline guess is a score of 66.0\n"
     ]
    }
   ],
   "source": [
    "print(\"The baseline guess is a score of {}\".format(baseline_guess))"
   ]
  },
  {
   "cell_type": "code",
   "execution_count": 185,
   "metadata": {},
   "outputs": [
    {
     "name": "stdout",
     "output_type": "stream",
     "text": [
      "Baseline Performance on the test set: RMSE = 29.6683\n"
     ]
    }
   ],
   "source": [
    "print(\"Baseline Performance on the test set: RMSE = {}\".format(round(rmse(y_test, baseline_guess),4)))"
   ]
  },
  {
   "cell_type": "markdown",
   "metadata": {},
   "source": [
    "**The typical gap between true y and predicted y is 29.66  (close to 30% error since score can only take on values between 1-100!**"
   ]
  },
  {
   "cell_type": "code",
   "execution_count": null,
   "metadata": {},
   "outputs": [],
   "source": []
  },
  {
   "cell_type": "markdown",
   "metadata": {},
   "source": [
    "## Handling Missing Values\n",
    "\n",
    "- Many machine learning models cannot deal with missing values. \n",
    "- Thus, I have to find a way to fill in missing values or disard any features with a lot of missing values. \n",
    "- Since we already removed features with more than 50% missing values, here we will focus on filling in these missing values (a process known as imputation). \n",
    "- There are a number of methods for imputation but here we will use the relatively simple method of replacing missing values with the median of the column.  I can generally use this method if the variable has less than 10% missing value."
   ]
  },
  {
   "cell_type": "code",
   "execution_count": 186,
   "metadata": {},
   "outputs": [
    {
     "data": {
      "text/html": [
       "<div>\n",
       "<style scoped>\n",
       "    .dataframe tbody tr th:only-of-type {\n",
       "        vertical-align: middle;\n",
       "    }\n",
       "\n",
       "    .dataframe tbody tr th {\n",
       "        vertical-align: top;\n",
       "    }\n",
       "\n",
       "    .dataframe thead th {\n",
       "        text-align: right;\n",
       "    }\n",
       "</style>\n",
       "<table border=\"1\" class=\"dataframe\">\n",
       "  <thead>\n",
       "    <tr style=\"text-align: right;\">\n",
       "      <th></th>\n",
       "      <th>count</th>\n",
       "      <th>percent</th>\n",
       "    </tr>\n",
       "  </thead>\n",
       "  <tbody>\n",
       "    <tr>\n",
       "      <th>Water Intensity (All Water Sources) (gal/ft²)</th>\n",
       "      <td>3034</td>\n",
       "      <td>32.07</td>\n",
       "    </tr>\n",
       "    <tr>\n",
       "      <th>Census Tract</th>\n",
       "      <td>1799</td>\n",
       "      <td>19.01</td>\n",
       "    </tr>\n",
       "    <tr>\n",
       "      <th>Community Board</th>\n",
       "      <td>1799</td>\n",
       "      <td>19.01</td>\n",
       "    </tr>\n",
       "    <tr>\n",
       "      <th>Longitude</th>\n",
       "      <td>1799</td>\n",
       "      <td>19.01</td>\n",
       "    </tr>\n",
       "    <tr>\n",
       "      <th>Latitude</th>\n",
       "      <td>1799</td>\n",
       "      <td>19.01</td>\n",
       "    </tr>\n",
       "    <tr>\n",
       "      <th>Weather Normalized Site Natural Gas Intensity (therms/ft²)</th>\n",
       "      <td>1381</td>\n",
       "      <td>14.60</td>\n",
       "    </tr>\n",
       "    <tr>\n",
       "      <th>Weather Normalized Site Natural Gas Use (therms)</th>\n",
       "      <td>1381</td>\n",
       "      <td>14.60</td>\n",
       "    </tr>\n",
       "    <tr>\n",
       "      <th>Natural Gas Use (kBtu)</th>\n",
       "      <td>982</td>\n",
       "      <td>10.38</td>\n",
       "    </tr>\n",
       "    <tr>\n",
       "      <th>Weather Normalized Site Electricity Intensity (kWh/ft²)</th>\n",
       "      <td>475</td>\n",
       "      <td>5.02</td>\n",
       "    </tr>\n",
       "    <tr>\n",
       "      <th>DOF Gross Floor Area</th>\n",
       "      <td>48</td>\n",
       "      <td>0.51</td>\n",
       "    </tr>\n",
       "  </tbody>\n",
       "</table>\n",
       "</div>"
      ],
      "text/plain": [
       "                                                    count  percent\n",
       "Water Intensity (All Water Sources) (gal/ft²)        3034    32.07\n",
       "Census Tract                                         1799    19.01\n",
       "Community Board                                      1799    19.01\n",
       "Longitude                                            1799    19.01\n",
       "Latitude                                             1799    19.01\n",
       "Weather Normalized Site Natural Gas Intensity (...   1381    14.60\n",
       "Weather Normalized Site Natural Gas Use (therms)     1381    14.60\n",
       "Natural Gas Use (kBtu)                                982    10.38\n",
       "Weather Normalized Site Electricity Intensity (...    475     5.02\n",
       "DOF Gross Floor Area                                   48     0.51"
      ]
     },
     "execution_count": 186,
     "metadata": {},
     "output_type": "execute_result"
    }
   ],
   "source": [
    "missing_val(processed).head(10)  # Top 10 variables with missing values"
   ]
  },
  {
   "cell_type": "markdown",
   "metadata": {},
   "source": [
    "**Thoughts**\n",
    "- Of the features that have missing value of over 10%, only one variables are on the top 10 list of highly correlated features with the response variable:\n",
    "    - Weather Normalized Site Natural Gas Intensity (therms/ft²)\t14.60\n",
    "\n",
    "- For this reason, except for this variable, all other variables will be imputed with column median.  I will use a modelling approach to impute \"Weather Normalized Site Natural Gas Intensity (therms/ft²)\""
   ]
  },
  {
   "cell_type": "code",
   "execution_count": null,
   "metadata": {},
   "outputs": [],
   "source": []
  },
  {
   "cell_type": "markdown",
   "metadata": {},
   "source": [
    "## Median Imputation\n",
    "- We create a Scikit-learn Imputer object to fill in missing values with the median of the column. Notice that we train the imputer (using the Imputer.fit method) on the training data but not the testing data. We then transform (using Imputer.transform) both the training data and test data. This means that the missing values in the test set are filled in with the median value of the corresponding columns in the train set. This is done to avoid data leakage where information from the test dataset leaks into the training dataset.\n"
   ]
  },
  {
   "cell_type": "code",
   "execution_count": 187,
   "metadata": {},
   "outputs": [],
   "source": [
    "from sklearn.preprocessing import Imputer\n",
    "\n",
    "# Init the imputer object (use median strategy)\n",
    "imputer = Imputer(strategy='median')"
   ]
  },
  {
   "cell_type": "code",
   "execution_count": 188,
   "metadata": {},
   "outputs": [],
   "source": [
    "# Get dataset withinout \"Weather Normalized Site Natural Gas Intensity (therms/ft²)\"\n",
    "X_train_temp = X_train.drop(\"Weather Normalized Site Natural Gas Intensity (therms/ft²)\", axis=1)\n",
    "X_test_temp = X_test.drop(\"Weather Normalized Site Natural Gas Intensity (therms/ft²)\", axis=1)\n",
    "# save column names\n",
    "col_names_temp = X_train_temp.columns.values "
   ]
  },
  {
   "cell_type": "code",
   "execution_count": 189,
   "metadata": {},
   "outputs": [],
   "source": [
    "# Train imputer on the training features\n",
    "imputer.fit(X_train_temp)\n",
    "\n",
    "# Transform both the train dataset and the test dataset with the imputer\n",
    "X_train_temp = imputer.transform(X_train_temp)\n",
    "X_test_temp = imputer.transform(X_test_temp)"
   ]
  },
  {
   "cell_type": "code",
   "execution_count": 190,
   "metadata": {},
   "outputs": [],
   "source": [
    "# build imputed DataFrames\n",
    "X_train_temp = pd.DataFrame(X_train_temp, columns=col_names_temp)\n",
    "X_test_temp = pd.DataFrame(X_test_temp, columns=col_names_temp)"
   ]
  },
  {
   "cell_type": "code",
   "execution_count": 191,
   "metadata": {
    "code_folding": []
   },
   "outputs": [],
   "source": [
    "# Put back the excluded variable\n",
    "X_train_temp[\"Weather Normalized Site Natural Gas Intensity (therms/ft²)\"] = X_train[\"Weather Normalized Site \" + \n",
    "                                                                                     \"Natural Gas Intensity (therms/ft²)\"]\n",
    "\n",
    "X_test_temp[\"Weather Normalized Site Natural Gas Intensity (therms/ft²)\"] = X_test[\"Weather Normalized Site \" + \n",
    "                                                                                     \"Natural Gas Intensity (therms/ft²)\"]"
   ]
  },
  {
   "cell_type": "code",
   "execution_count": 192,
   "metadata": {},
   "outputs": [],
   "source": [
    "# Update X_train and X_test\n",
    "X_train = X_train_temp\n",
    "X_test  = X_test_temp"
   ]
  },
  {
   "cell_type": "code",
   "execution_count": 193,
   "metadata": {},
   "outputs": [
    {
     "data": {
      "text/plain": [
       "((6622, 18), (2839, 18))"
      ]
     },
     "execution_count": 193,
     "metadata": {},
     "output_type": "execute_result"
    }
   ],
   "source": [
    "X_train.shape, X_test.shape"
   ]
  },
  {
   "cell_type": "code",
   "execution_count": null,
   "metadata": {},
   "outputs": [],
   "source": []
  },
  {
   "cell_type": "markdown",
   "metadata": {},
   "source": [
    "### Use Random Forest to predict the missing of \"Weather Normalized Site Natural Gas Intensity (therms/ft²)\""
   ]
  },
  {
   "cell_type": "code",
   "execution_count": 194,
   "metadata": {},
   "outputs": [],
   "source": [
    "def rf_missing_val(df):\n",
    "\n",
    "    # Split the df into two subsets.  We call the rows with gas intensity values as \"temp_train\", and rows\n",
    "    # with missing gas intensity values as \"temp_test\" (we know this is around 30% of train dataset)\n",
    "    temp_train = df[df[\"Weather Normalized Site Natural Gas Intensity (therms/ft²)\"].notnull()]\n",
    "    temp_test = df[df[\"Weather Normalized Site Natural Gas Intensity (therms/ft²)\"].isnull()]\n",
    "    \n",
    "    # Get the features and the response variable\n",
    "    X = temp_train.drop(\"Weather Normalized Site Natural Gas Intensity (therms/ft²)\", axis=1) # features \n",
    "    y = temp_train[\"Weather Normalized Site Natural Gas Intensity (therms/ft²)\"]  # response variable\n",
    "     \n",
    "    # Init the RF regressor model\n",
    "    regr = RandomForestRegressor(n_estimators=100, n_jobs=-1) \n",
    "    # Train model\n",
    "    regr.fit(X,y) \n",
    "    \n",
    "    # Predict using the trained RF model\n",
    "    y_pred = regr.predict(temp_test.drop(\"Weather Normalized Site Natural Gas Intensity (therms/ft²)\", axis=1))\n",
    "    \n",
    "    # Impute the DataFrame with the predicted values\n",
    "    df.loc[df[\"Weather Normalized Site Natural Gas Intensity (therms/ft²)\"].isnull(), \n",
    "           \"Weather Normalized Site Natural Gas Intensity (therms/ft²)\"] = y_pred"
   ]
  },
  {
   "cell_type": "code",
   "execution_count": 195,
   "metadata": {},
   "outputs": [],
   "source": [
    "rf_missing_val(X_train)\n",
    "rf_missing_val(X_test)"
   ]
  },
  {
   "cell_type": "code",
   "execution_count": 196,
   "metadata": {},
   "outputs": [
    {
     "name": "stdout",
     "output_type": "stream",
     "text": [
      "The number of missing values in X_train is:\n",
      "Order                                                         0\n",
      "Property Id                                                   0\n",
      "DOF Gross Floor Area                                          0\n",
      "Largest Property Use Type - Gross Floor Area (ft²)            0\n",
      "Year Built                                                    0\n",
      "Number of Buildings - Self-reported                           0\n",
      "Occupancy                                                     0\n",
      "Site EUI (kBtu/ft²)                                           0\n",
      "Weather Normalized Site Electricity Intensity (kWh/ft²)       0\n",
      "Natural Gas Use (kBtu)                                        0\n",
      "Weather Normalized Site Natural Gas Use (therms)              0\n",
      "Water Intensity (All Water Sources) (gal/ft²)                 0\n",
      "Latitude                                                      0\n",
      "Longitude                                                     0\n",
      "Community Board                                               0\n",
      "Census Tract                                                  0\n",
      "log_Direct GHG Emissions (Metric Tons CO2e)                   0\n",
      "Weather Normalized Site Natural Gas Intensity (therms/ft²)    0\n",
      "dtype: int64\n"
     ]
    }
   ],
   "source": [
    "print(\"The number of missing values in X_train is:\\n{}\".format(np.sum(np.isnan(X_train))))"
   ]
  },
  {
   "cell_type": "code",
   "execution_count": 197,
   "metadata": {},
   "outputs": [
    {
     "name": "stdout",
     "output_type": "stream",
     "text": [
      "The number of missing values in X_test is:\n",
      "Order                                                         0\n",
      "Property Id                                                   0\n",
      "DOF Gross Floor Area                                          0\n",
      "Largest Property Use Type - Gross Floor Area (ft²)            0\n",
      "Year Built                                                    0\n",
      "Number of Buildings - Self-reported                           0\n",
      "Occupancy                                                     0\n",
      "Site EUI (kBtu/ft²)                                           0\n",
      "Weather Normalized Site Electricity Intensity (kWh/ft²)       0\n",
      "Natural Gas Use (kBtu)                                        0\n",
      "Weather Normalized Site Natural Gas Use (therms)              0\n",
      "Water Intensity (All Water Sources) (gal/ft²)                 0\n",
      "Latitude                                                      0\n",
      "Longitude                                                     0\n",
      "Community Board                                               0\n",
      "Census Tract                                                  0\n",
      "log_Direct GHG Emissions (Metric Tons CO2e)                   0\n",
      "Weather Normalized Site Natural Gas Intensity (therms/ft²)    0\n",
      "dtype: int64\n"
     ]
    }
   ],
   "source": [
    "print(\"The number of missing values in X_test is:\\n{}\".format(np.sum(np.isnan(X_test))))"
   ]
  },
  {
   "cell_type": "code",
   "execution_count": 198,
   "metadata": {},
   "outputs": [
    {
     "name": "stdout",
     "output_type": "stream",
     "text": [
      "(array([], dtype=int64), array([], dtype=int64))\n",
      "(array([], dtype=int64), array([], dtype=int64))\n"
     ]
    }
   ],
   "source": [
    "# Make sure no infinite values\n",
    "print(np.where(~np.isfinite(X_train)))\n",
    "print(np.where(~np.isfinite(X_test)))"
   ]
  },
  {
   "cell_type": "code",
   "execution_count": null,
   "metadata": {},
   "outputs": [],
   "source": []
  },
  {
   "cell_type": "markdown",
   "metadata": {},
   "source": [
    "## Modelling\n",
    "- Linear Regression\n",
    "- SVM\n",
    "- Random Forest Regressor\n",
    "- AdaBoost Regressor"
   ]
  },
  {
   "cell_type": "code",
   "execution_count": 199,
   "metadata": {},
   "outputs": [],
   "source": [
    "from sklearn.preprocessing import StandardScaler\n",
    "from sklearn.pipeline import Pipeline\n",
    "from sklearn.model_selection import RandomizedSearchCV,GridSearchCV\n",
    "from sklearn.linear_model import Lasso\n",
    "from sklearn import svm\n",
    "from sklearn.ensemble import RandomForestRegressor, AdaBoostRegressor"
   ]
  },
  {
   "cell_type": "markdown",
   "metadata": {},
   "source": [
    "### Create some Pipelines"
   ]
  },
  {
   "cell_type": "code",
   "execution_count": 200,
   "metadata": {},
   "outputs": [],
   "source": [
    "pipe_lr = Pipeline([('scl', StandardScaler()),\n",
    "                    ('regr', Lasso())]) # pipeline for lasso (l1) linear regression"
   ]
  },
  {
   "cell_type": "code",
   "execution_count": 201,
   "metadata": {},
   "outputs": [],
   "source": [
    "pipe_svm= Pipeline([('scl', StandardScaler()),\n",
    "                    ('regr', svm.SVR())]) # pipeline for svm"
   ]
  },
  {
   "cell_type": "code",
   "execution_count": 202,
   "metadata": {},
   "outputs": [],
   "source": [
    "pipe_rf= Pipeline([('scl', StandardScaler()),\n",
    "                    ('regr', RandomForestRegressor(random_state=42))]) # pipeline for rf"
   ]
  },
  {
   "cell_type": "code",
   "execution_count": 203,
   "metadata": {},
   "outputs": [],
   "source": [
    "pipe_ab= Pipeline([('scl', StandardScaler()),\n",
    "                    ('regr', AdaBoostRegressor(random_state=42))]) # pipeline for adaboost"
   ]
  },
  {
   "cell_type": "markdown",
   "metadata": {},
   "source": [
    "**Set the Grid search parameters**"
   ]
  },
  {
   "cell_type": "code",
   "execution_count": 204,
   "metadata": {},
   "outputs": [],
   "source": [
    "params_lr = {'regr__alpha': np.linspace(0.01, 10, num=50)}"
   ]
  },
  {
   "cell_type": "code",
   "execution_count": 205,
   "metadata": {},
   "outputs": [],
   "source": [
    "params_svm = {'regr__gamma': np.linspace(0.001, 10, num=80), \n",
    "                'regr__C': np.linspace(0.001, 10, num=80) }"
   ]
  },
  {
   "cell_type": "code",
   "execution_count": 206,
   "metadata": {},
   "outputs": [],
   "source": [
    "params_rf = {'regr__n_estimators': [int(x) for x in np.linspace(10, 200, num = 10)], \n",
    "              'regr__max_depth':  [int(x) for x in np.linspace(1, 20, num = 10)],\n",
    "              'regr__min_samples_leaf':[1,2,4],\n",
    "              'regr__min_samples_split':[2,5,10]}"
   ]
  },
  {
   "cell_type": "code",
   "execution_count": 207,
   "metadata": {},
   "outputs": [],
   "source": [
    "params_ab = {'regr__n_estimators':  [int(x) for x in np.linspace(10, 200, num = 10)], \n",
    "              'regr__learning_rate': np.linspace(0.001, 1, num=20)}"
   ]
  },
  {
   "cell_type": "code",
   "execution_count": 208,
   "metadata": {},
   "outputs": [],
   "source": [
    "n_iter_search =20"
   ]
  },
  {
   "cell_type": "code",
   "execution_count": 209,
   "metadata": {},
   "outputs": [],
   "source": [
    "rs_lr = RandomizedSearchCV(estimator=pipe_lr,\n",
    "                     param_distributions=params_lr,\n",
    "                     scoring='neg_mean_squared_error', # use SER^2 as scoring\n",
    "                     n_iter = n_iter_search,\n",
    "                     n_jobs = -1,\n",
    "                     verbose = 2)"
   ]
  },
  {
   "cell_type": "code",
   "execution_count": 210,
   "metadata": {},
   "outputs": [],
   "source": [
    "rs_svm = RandomizedSearchCV(estimator=pipe_svm,\n",
    "                     param_distributions=params_svm,\n",
    "                     scoring='neg_mean_squared_error', # use SER^2 as scoring\n",
    "                     n_iter = n_iter_search,\n",
    "                     n_jobs = -1)"
   ]
  },
  {
   "cell_type": "code",
   "execution_count": 211,
   "metadata": {},
   "outputs": [],
   "source": [
    "rs_rf = RandomizedSearchCV(estimator=pipe_rf,\n",
    "                     param_distributions=params_rf,\n",
    "                     scoring='neg_mean_squared_error', # use SER^2 as scoring\n",
    "                     n_iter = n_iter_search,\n",
    "                     n_jobs = -1,\n",
    "                     verbose = 2)"
   ]
  },
  {
   "cell_type": "code",
   "execution_count": 212,
   "metadata": {},
   "outputs": [],
   "source": [
    "rs_ab = RandomizedSearchCV(estimator=pipe_ab,\n",
    "                     param_distributions=params_ab,\n",
    "                     scoring='neg_mean_squared_error', # use SER^2 as scoring\n",
    "                     n_iter = n_iter_search,\n",
    "                     n_jobs = -1,\n",
    "                     verbose = 2)"
   ]
  },
  {
   "cell_type": "code",
   "execution_count": 213,
   "metadata": {},
   "outputs": [],
   "source": [
    "# List of pipelines for iteration\n",
    "grids = [rs_lr, rs_svm, rs_rf, rs_ab]\n",
    "# Dictionary of pipelines and type of classifier for reference\n",
    "grid_dict = {0: 'Lasso Regression', 1: 'SVR', 2:'Random Forest', 3:'Adaboost'}"
   ]
  },
  {
   "cell_type": "code",
   "execution_count": 221,
   "metadata": {},
   "outputs": [
    {
     "name": "stdout",
     "output_type": "stream",
     "text": [
      "Training RandomGridSearch...\n",
      "\n",
      "Estimator: Lasso Regression\n",
      "Fitting 3 folds for each of 20 candidates, totalling 60 fits\n"
     ]
    },
    {
     "name": "stderr",
     "output_type": "stream",
     "text": [
      "[Parallel(n_jobs=-1)]: Done  33 tasks      | elapsed:    5.7s\n",
      "[Parallel(n_jobs=-1)]: Done  60 out of  60 | elapsed:    6.3s finished\n"
     ]
    },
    {
     "name": "stdout",
     "output_type": "stream",
     "text": [
      "Best parameters are: {'regr__alpha': 0.21387755102040817}\n",
      "Best estimated test MSE: -379.0545828947181\n",
      "RMSE of best estimator is:19.6494\n",
      "\n",
      "Estimator: SVR\n"
     ]
    },
    {
     "name": "stderr",
     "output_type": "stream",
     "text": [
      "C:\\Users\\henry_dw8mcdk\\Anaconda3\\envs\\python35\\lib\\site-packages\\sklearn\\utils\\validation.py:578: DataConversionWarning: A column-vector y was passed when a 1d array was expected. Please change the shape of y to (n_samples, ), for example using ravel().\n",
      "  y = column_or_1d(y, warn=True)\n"
     ]
    },
    {
     "name": "stdout",
     "output_type": "stream",
     "text": [
      "Best parameters are: {'regr__C': 8.60773417721519, 'regr__gamma': 0.001}\n",
      "Best estimated test MSE: -402.89859143058084\n",
      "RMSE of best estimator is:19.714\n",
      "\n",
      "Estimator: Random Forest\n",
      "Fitting 3 folds for each of 20 candidates, totalling 60 fits\n"
     ]
    },
    {
     "name": "stderr",
     "output_type": "stream",
     "text": [
      "[Parallel(n_jobs=-1)]: Done  33 tasks      | elapsed:   34.8s\n",
      "[Parallel(n_jobs=-1)]: Done  60 out of  60 | elapsed:  1.0min finished\n",
      "C:\\Users\\henry_dw8mcdk\\Anaconda3\\envs\\python35\\lib\\site-packages\\sklearn\\pipeline.py:250: DataConversionWarning: A column-vector y was passed when a 1d array was expected. Please change the shape of y to (n_samples,), for example using ravel().\n",
      "  self._final_estimator.fit(Xt, y, **fit_params)\n"
     ]
    },
    {
     "name": "stdout",
     "output_type": "stream",
     "text": [
      "Best parameters are: {'regr__max_depth': 17, 'regr__min_samples_split': 2, 'regr__n_estimators': 115, 'regr__min_samples_leaf': 2}\n",
      "Best estimated test MSE: -248.28146956681215\n",
      "RMSE of best estimator is:15.8534\n",
      "\n",
      "Estimator: Adaboost\n",
      "Fitting 3 folds for each of 20 candidates, totalling 60 fits\n"
     ]
    },
    {
     "name": "stderr",
     "output_type": "stream",
     "text": [
      "[Parallel(n_jobs=-1)]: Done  33 tasks      | elapsed:   19.0s\n",
      "[Parallel(n_jobs=-1)]: Done  60 out of  60 | elapsed:   31.3s finished\n",
      "C:\\Users\\henry_dw8mcdk\\Anaconda3\\envs\\python35\\lib\\site-packages\\sklearn\\utils\\validation.py:578: DataConversionWarning: A column-vector y was passed when a 1d array was expected. Please change the shape of y to (n_samples, ), for example using ravel().\n",
      "  y = column_or_1d(y, warn=True)\n"
     ]
    },
    {
     "name": "stdout",
     "output_type": "stream",
     "text": [
      "Best parameters are: {'regr__learning_rate': 0.5793684210526315, 'regr__n_estimators': 10}\n",
      "Best estimated test MSE: -334.285461322672\n",
      "RMSE of best estimator is:18.3899\n"
     ]
    }
   ],
   "source": [
    "# Train the random search models\n",
    "\n",
    "print('Training RandomGridSearch...')\n",
    "\n",
    "for i, rs in enumerate(grids):\n",
    "    print(\"\\nEstimator: {}\".format(grid_dict[i])) # classifier name\n",
    "    \n",
    "    # fit grid search\n",
    "    rs.fit(X_train, y_train)\n",
    "    \n",
    "    # Get best parameters\n",
    "    print(\"Best parameters are: {}\".format(rs.best_params_))\n",
    "    \n",
    "    # Best estimated test MSE score (CV)\n",
    "    print(\"Best estimated test MSE (from CV): {}\".format(rs.best_score_))\n",
    "    \n",
    "    y_pred = rs.best_estimator_.predict(X_test)\n",
    "    print(\"RMSE of best estimator (on the test set) is:{}\".format((round(np.sqrt(mean_squared_error(y_test,y_pred)),4))))"
   ]
  },
  {
   "cell_type": "markdown",
   "metadata": {},
   "source": [
    "### Refine model with GridSearch CV (fine-tune hyperparameters)\n",
    "- Will only focus on Random Forest and Adaboost as we get the best performance from these models in RandomGridSearch"
   ]
  },
  {
   "cell_type": "code",
   "execution_count": 233,
   "metadata": {},
   "outputs": [],
   "source": [
    "pipe_rf= Pipeline([('scl', StandardScaler()),\n",
    "                    ('regr', RandomForestRegressor(min_samples_split=2,min_samples_leaf=2,\n",
    "                                                   random_state=42))]) # pipeline for rf\n",
    "\n",
    "pipe_ab= Pipeline([('scl', StandardScaler()),\n",
    "                    ('regr', AdaBoostRegressor(random_state=42))]) # pipeline for adaboost"
   ]
  },
  {
   "cell_type": "code",
   "execution_count": 234,
   "metadata": {},
   "outputs": [],
   "source": [
    "params_rf = {'regr__n_estimators': [110,113,115,118,120,125], \n",
    "              'regr__max_depth':  [15,16,17,18,19]}"
   ]
  },
  {
   "cell_type": "code",
   "execution_count": 235,
   "metadata": {},
   "outputs": [],
   "source": [
    "params_ab = {'regr__learning_rate': [0.52,0.55,0.57,0.58,0.6], \n",
    "              'regr__n_estimators':  [5,6,7,8,9,10,12,14]}"
   ]
  },
  {
   "cell_type": "code",
   "execution_count": 236,
   "metadata": {},
   "outputs": [],
   "source": [
    "gs_rf = GridSearchCV(estimator=pipe_rf,\n",
    "                     param_grid=params_rf,\n",
    "                     scoring='neg_mean_squared_error', # use SER^2 as scoring\n",
    "                     cv=10,\n",
    "                     n_jobs = -1,\n",
    "                     verbose = 2)"
   ]
  },
  {
   "cell_type": "code",
   "execution_count": 237,
   "metadata": {},
   "outputs": [],
   "source": [
    "gs_ab = GridSearchCV(estimator=pipe_ab,\n",
    "                     param_grid=params_ab,\n",
    "                     scoring='neg_mean_squared_error', # use SER^2 as scoring\n",
    "                     cv=10,\n",
    "                     n_jobs = -1,\n",
    "                     verbose = 2)"
   ]
  },
  {
   "cell_type": "code",
   "execution_count": 238,
   "metadata": {},
   "outputs": [],
   "source": [
    "# List of pipelines for iteration\n",
    "grids = [gs_rf, gs_ab]\n",
    "\n",
    "# Dictionary of pipelines and type of classifier for reference\n",
    "grid_dict = {0: 'Random Forest', 1:'Adaboost'}"
   ]
  },
  {
   "cell_type": "code",
   "execution_count": 239,
   "metadata": {},
   "outputs": [
    {
     "name": "stdout",
     "output_type": "stream",
     "text": [
      "Training...\n",
      "\n",
      "Estimator: Random Forest\n",
      "Fitting 10 folds for each of 30 candidates, totalling 300 fits\n"
     ]
    },
    {
     "name": "stderr",
     "output_type": "stream",
     "text": [
      "[Parallel(n_jobs=-1)]: Done  33 tasks      | elapsed:  1.8min\n",
      "[Parallel(n_jobs=-1)]: Done 154 tasks      | elapsed:  7.9min\n",
      "[Parallel(n_jobs=-1)]: Done 300 out of 300 | elapsed: 15.0min finished\n",
      "C:\\Users\\henry_dw8mcdk\\Anaconda3\\envs\\python35\\lib\\site-packages\\sklearn\\pipeline.py:250: DataConversionWarning: A column-vector y was passed when a 1d array was expected. Please change the shape of y to (n_samples,), for example using ravel().\n",
      "  self._final_estimator.fit(Xt, y, **fit_params)\n"
     ]
    },
    {
     "name": "stdout",
     "output_type": "stream",
     "text": [
      "Best parameters are: {'regr__max_depth': 16, 'regr__n_estimators': 125}\n",
      "Best estimated test erorr CV: -242.33605124178044\n",
      "RMSE for model with best parameters (test dataset): 15.8373\n",
      "\n",
      "Estimator: Adaboost\n",
      "Fitting 10 folds for each of 40 candidates, totalling 400 fits\n"
     ]
    },
    {
     "name": "stderr",
     "output_type": "stream",
     "text": [
      "[Parallel(n_jobs=-1)]: Done  33 tasks      | elapsed:    8.2s\n",
      "[Parallel(n_jobs=-1)]: Done 154 tasks      | elapsed:   24.0s\n",
      "[Parallel(n_jobs=-1)]: Done 357 tasks      | elapsed:   48.3s\n",
      "[Parallel(n_jobs=-1)]: Done 400 out of 400 | elapsed:   54.9s finished\n",
      "C:\\Users\\henry_dw8mcdk\\Anaconda3\\envs\\python35\\lib\\site-packages\\sklearn\\utils\\validation.py:578: DataConversionWarning: A column-vector y was passed when a 1d array was expected. Please change the shape of y to (n_samples, ), for example using ravel().\n",
      "  y = column_or_1d(y, warn=True)\n"
     ]
    },
    {
     "name": "stdout",
     "output_type": "stream",
     "text": [
      "Best parameters are: {'regr__learning_rate': 0.6, 'regr__n_estimators': 7}\n",
      "Best estimated test erorr CV: -330.80497649821604\n",
      "RMSE for model with best parameters (test dataset): 18.3352\n"
     ]
    }
   ],
   "source": [
    "# Train the grid search models\n",
    "\n",
    "print('Training...')\n",
    "\n",
    "# init the \"best\" variables\n",
    "best_rmse = 999\n",
    "best_regr_index = 0\n",
    "best_gs = ''\n",
    "\n",
    "for i, gs in enumerate(grids):\n",
    "    print(\"\\nEstimator: {}\".format(grid_dict[i])) # model name\n",
    "    \n",
    "    # fit grid search\n",
    "    gs.fit(X_train, y_train)\n",
    "    \n",
    "     # Get best parameters\n",
    "    print(\"Best parameters are: {}\".format(gs.best_params_))\n",
    "    \n",
    "    # Best estimated test error (CV)\n",
    "    print(\"Best estimated test error (fron CV): {}\".format(gs.best_score_))\n",
    "    \n",
    "    # test predictions \n",
    "    y_pred = gs.predict(X_test)\n",
    "    \n",
    "    print(\"RMSE for model with best parameters (on the test dataset): {}\".format((round(np.sqrt(mean_squared_error(y_test,y_pred)),4))))\n",
    "    \n",
    "    if np.sqrt(mean_squared_error(y_test, y_pred)) < best_rmse:\n",
    "        best_rmse = np.sqrt(mean_squared_error(y_test, y_pred)) # update best rmse score\n",
    "        best_gs = gs  # update model\n",
    "        best_regr_index = i\n"
   ]
  },
  {
   "cell_type": "code",
   "execution_count": 308,
   "metadata": {},
   "outputs": [],
   "source": [
    "# Get best model from the Pipeline object\n",
    "best_rf = best_gs.best_estimator_.named_steps['regr']"
   ]
  },
  {
   "cell_type": "code",
   "execution_count": 312,
   "metadata": {},
   "outputs": [],
   "source": [
    "y_pred = best_gs.predict(X_test)"
   ]
  },
  {
   "cell_type": "code",
   "execution_count": 313,
   "metadata": {},
   "outputs": [],
   "source": [
    "# Function to calculate mean absolute error\n",
    "def mae(y_true, y_pred):\n",
    "    return np.mean(abs(y_true - y_pred))"
   ]
  },
  {
   "cell_type": "code",
   "execution_count": 314,
   "metadata": {},
   "outputs": [
    {
     "name": "stdout",
     "output_type": "stream",
     "text": [
      "The test rmse of the best RF model (on the test set) is 15.8373\n",
      "The test mae of the best RF model (on the test set) is 11.2901\n"
     ]
    }
   ],
   "source": [
    "print(\"The test rmse of the best RF model (on the test set) is {}\" .format(round(rmse(y_test[\"score\"].values, y_pred),4)))\n",
    "print(\"The test mae of the best RF model (on the test set) is {}\" .format(round(mae(y_test[\"score\"].values, y_pred),4)))"
   ]
  },
  {
   "cell_type": "code",
   "execution_count": null,
   "metadata": {},
   "outputs": [],
   "source": []
  },
  {
   "cell_type": "markdown",
   "metadata": {},
   "source": [
    "## Feature importance\n",
    "- Identify the most informative features from the random forest model (those that lead to the most reduction in mean square error during tree building)"
   ]
  },
  {
   "cell_type": "code",
   "execution_count": 316,
   "metadata": {},
   "outputs": [
    {
     "data": {
      "text/html": [
       "<div>\n",
       "<style scoped>\n",
       "    .dataframe tbody tr th:only-of-type {\n",
       "        vertical-align: middle;\n",
       "    }\n",
       "\n",
       "    .dataframe tbody tr th {\n",
       "        vertical-align: top;\n",
       "    }\n",
       "\n",
       "    .dataframe thead th {\n",
       "        text-align: right;\n",
       "    }\n",
       "</style>\n",
       "<table border=\"1\" class=\"dataframe\">\n",
       "  <thead>\n",
       "    <tr style=\"text-align: right;\">\n",
       "      <th></th>\n",
       "      <th>feature</th>\n",
       "      <th>importance</th>\n",
       "    </tr>\n",
       "  </thead>\n",
       "  <tbody>\n",
       "    <tr>\n",
       "      <th>0</th>\n",
       "      <td>Site EUI (kBtu/ft²)</td>\n",
       "      <td>0.609950</td>\n",
       "    </tr>\n",
       "    <tr>\n",
       "      <th>1</th>\n",
       "      <td>Weather Normalized Site Electricity Intensity ...</td>\n",
       "      <td>0.122071</td>\n",
       "    </tr>\n",
       "    <tr>\n",
       "      <th>2</th>\n",
       "      <td>Property Id</td>\n",
       "      <td>0.034021</td>\n",
       "    </tr>\n",
       "    <tr>\n",
       "      <th>3</th>\n",
       "      <td>Year Built</td>\n",
       "      <td>0.033018</td>\n",
       "    </tr>\n",
       "    <tr>\n",
       "      <th>4</th>\n",
       "      <td>Water Intensity (All Water Sources) (gal/ft²)</td>\n",
       "      <td>0.032409</td>\n",
       "    </tr>\n",
       "    <tr>\n",
       "      <th>5</th>\n",
       "      <td>Order</td>\n",
       "      <td>0.023642</td>\n",
       "    </tr>\n",
       "    <tr>\n",
       "      <th>6</th>\n",
       "      <td>Largest Property Use Type - Gross Floor Area (...</td>\n",
       "      <td>0.018490</td>\n",
       "    </tr>\n",
       "    <tr>\n",
       "      <th>7</th>\n",
       "      <td>DOF Gross Floor Area</td>\n",
       "      <td>0.016483</td>\n",
       "    </tr>\n",
       "    <tr>\n",
       "      <th>8</th>\n",
       "      <td>Longitude</td>\n",
       "      <td>0.016285</td>\n",
       "    </tr>\n",
       "    <tr>\n",
       "      <th>9</th>\n",
       "      <td>Census Tract</td>\n",
       "      <td>0.016200</td>\n",
       "    </tr>\n",
       "  </tbody>\n",
       "</table>\n",
       "</div>"
      ],
      "text/plain": [
       "                                             feature  importance\n",
       "0                                Site EUI (kBtu/ft²)    0.609950\n",
       "1  Weather Normalized Site Electricity Intensity ...    0.122071\n",
       "2                                        Property Id    0.034021\n",
       "3                                         Year Built    0.033018\n",
       "4      Water Intensity (All Water Sources) (gal/ft²)    0.032409\n",
       "5                                              Order    0.023642\n",
       "6  Largest Property Use Type - Gross Floor Area (...    0.018490\n",
       "7                               DOF Gross Floor Area    0.016483\n",
       "8                                          Longitude    0.016285\n",
       "9                                       Census Tract    0.016200"
      ]
     },
     "execution_count": 316,
     "metadata": {},
     "output_type": "execute_result"
    }
   ],
   "source": [
    "feature_importance = pd.DataFrame({'feature': list(X_train.columns), \n",
    "                                 'importance': best_gs.best_estimator_.named_steps['regr'].feature_importances_})\n",
    "\n",
    "# Show the top 10 most important\n",
    "feature_importance = feature_importance.sort_values('importance', ascending = False).reset_index(drop=True)\n",
    "\n",
    "feature_importance.head(10)"
   ]
  },
  {
   "cell_type": "code",
   "execution_count": 321,
   "metadata": {},
   "outputs": [
    {
     "data": {
      "text/plain": [
       "<Figure size 720x720 with 0 Axes>"
      ]
     },
     "metadata": {},
     "output_type": "display_data"
    },
    {
     "data": {
      "image/png": "[encoded data removed]",
      "text/plain": [
       "<Figure size 432x288 with 1 Axes>"
      ]
     },
     "metadata": {},
     "output_type": "display_data"
    }
   ],
   "source": [
    "fig = plt.figure (figsize=(10,10))\n",
    "plt.style.use('fivethirtyeight')\n",
    "\n",
    "# Plot the 10 most important features in a horizontal bar chart\n",
    "feature_importance.loc[:9, :].plot(x = 'feature', y = 'importance', \n",
    "                                 edgecolor = 'k',\n",
    "                                 kind='barh', color = 'red');\n",
    "plt.xlabel('Relative Importance', size = 20); plt.ylabel('')\n",
    "plt.title('Feature Importances from Random Forest', size = 30);"
   ]
  },
  {
   "cell_type": "code",
   "execution_count": null,
   "metadata": {},
   "outputs": [],
   "source": []
  },
  {
   "cell_type": "markdown",
   "metadata": {},
   "source": [
    "## Let's just use the top 6 features (see if we can build a more parsimonious model)"
   ]
  },
  {
   "cell_type": "code",
   "execution_count": 344,
   "metadata": {},
   "outputs": [],
   "source": [
    "most_important=feature_importance.loc[:5,\"feature\"]"
   ]
  },
  {
   "cell_type": "code",
   "execution_count": 345,
   "metadata": {},
   "outputs": [],
   "source": [
    "X_train_reduced = X_train[most_important]\n",
    "X_test_reduced = X_test[most_important]"
   ]
  },
  {
   "cell_type": "code",
   "execution_count": 346,
   "metadata": {},
   "outputs": [],
   "source": [
    "# Create the rf model with the same \"best\" hyperparamters\n",
    "pipe_rf_reduced= Pipeline([('scl', StandardScaler()),\n",
    "                    ('regr', RandomForestRegressor(min_samples_split=2,min_samples_leaf=2, n_estimators=125, max_depth=16,\n",
    "                                                   random_state=42))]) # pipeline for rf"
   ]
  },
  {
   "cell_type": "code",
   "execution_count": 348,
   "metadata": {},
   "outputs": [
    {
     "name": "stderr",
     "output_type": "stream",
     "text": [
      "C:\\Users\\henry_dw8mcdk\\Anaconda3\\envs\\python35\\lib\\site-packages\\sklearn\\pipeline.py:250: DataConversionWarning: A column-vector y was passed when a 1d array was expected. Please change the shape of y to (n_samples,), for example using ravel().\n",
      "  self._final_estimator.fit(Xt, y, **fit_params)\n"
     ]
    },
    {
     "data": {
      "text/plain": [
       "Pipeline(memory=None,\n",
       "     steps=[('scl', StandardScaler(copy=True, with_mean=True, with_std=True)), ('regr', RandomForestRegressor(bootstrap=True, criterion='mse', max_depth=16,\n",
       "           max_features='auto', max_leaf_nodes=None,\n",
       "           min_impurity_decrease=0.0, min_impurity_split=None,\n",
       "           min_samples_leaf=2, min_samples_split=2,\n",
       "           min_weight_fraction_leaf=0.0, n_estimators=125, n_jobs=1,\n",
       "           oob_score=False, random_state=42, verbose=0, warm_start=False))])"
      ]
     },
     "execution_count": 348,
     "metadata": {},
     "output_type": "execute_result"
    }
   ],
   "source": [
    "pipe_rf_reduced.fit(X_train_reduced, y_train)"
   ]
  },
  {
   "cell_type": "code",
   "execution_count": 349,
   "metadata": {},
   "outputs": [],
   "source": [
    "y_pred_reduced = pipe_rf_reduced.predict(X_test_reduced)"
   ]
  },
  {
   "cell_type": "code",
   "execution_count": 350,
   "metadata": {
    "scrolled": true
   },
   "outputs": [
    {
     "name": "stdout",
     "output_type": "stream",
     "text": [
      "The test rmse of the best RF model (on the test set) is 16.0975\n",
      "The test mae of the best RF model (on the test set) is 11.3929\n"
     ]
    }
   ],
   "source": [
    "print(\"The test rmse of the best RF model (on the test set) is {}\" .format(round(rmse(y_test[\"score\"].values, y_pred_reduced),4)))\n",
    "print(\"The test mae of the best RF model (on the test set) is {}\" .format(round(mae(y_test[\"score\"].values, y_pred_reduced),4)))"
   ]
  },
  {
   "cell_type": "markdown",
   "metadata": {},
   "source": [
    "The test error slightly increased, but I am now only using 6 features to predict the score rather than 18."
   ]
  },
  {
   "cell_type": "markdown",
   "metadata": {},
   "source": [
    "# Conlcusion\n",
    "**Using information from 6 characteristics of a building, a random forest model was developed and it can predict the Energy Star Score of a given building to within 12 points.  The features that are most informative in the prediction are Site EUI and Weather Normalized Site Electricity Intensity.**"
   ]
  },
  {
   "cell_type": "code",
   "execution_count": null,
   "metadata": {},
   "outputs": [],
   "source": []
  }
 ],
 "metadata": {
  "kernelspec": {
   "display_name": "Python 3",
   "language": "python",
   "name": "python3"
  },
  "language_info": {
   "codemirror_mode": {
    "name": "ipython",
    "version": 3
   },
   "file_extension": ".py",
   "mimetype": "text/x-python",
   "name": "python",
   "nbconvert_exporter": "python",
   "pygments_lexer": "ipython3",
   "version": "3.7.5"
  },
  "varInspector": {
   "cols": {
    "lenName": 16,
    "lenType": 16,
    "lenVar": 40
   },
   "kernels_config": {
    "python": {
     "delete_cmd_postfix": "",
     "delete_cmd_prefix": "del ",
     "library": "var_list.py",
     "varRefreshCmd": "print(var_dic_list())"
    },
    "r": {
     "delete_cmd_postfix": ") ",
     "delete_cmd_prefix": "rm(",
     "library": "var_list.r",
     "varRefreshCmd": "cat(var_dic_list()) "
    }
   },
   "types_to_exclude": [
    "module",
    "function",
    "builtin_function_or_method",
    "instance",
    "_Feature"
   ],
   "window_display": false
  }
 },
 "nbformat": 4,
 "nbformat_minor": 2
}
