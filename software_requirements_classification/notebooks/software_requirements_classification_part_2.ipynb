{
 "cells": [
  {
   "cell_type": "markdown",
   "metadata": {},
   "source": [
    "**In part 2, we will perform multi-class classification on the nfr dataset.  Specially, we will focus on classifying non-functional requirements into one of the 6 types.**"
   ]
  },
  {
   "cell_type": "code",
   "execution_count": 331,
   "metadata": {},
   "outputs": [],
   "source": [
    "'''data'''\n",
    "import pandas as pd\n",
    "import numpy as np\n",
    "import spacy\n",
    "import re\n",
    "import pickle\n",
    "import pprint\n",
    "from sklearn.pipeline import Pipeline\n",
    "from sklearn.feature_selection import chi2\n",
    "\n",
    "\n",
    "%run helpers.ipynb\n",
    "\n",
    "'''Visualization'''\n",
    "import matplotlib.pyplot as plt\n",
    "import seaborn as sns\n",
    "\n",
    "''' Features'''\n",
    "from sklearn.preprocessing import LabelEncoder, label_binarize\n",
    "from sklearn.feature_extraction.text import TfidfVectorizer\n",
    "from sklearn.decomposition import TruncatedSVD\n",
    "\n",
    "'''Estimators'''\n",
    "from sklearn.svm import SVC\n",
    "from sklearn.ensemble import RandomForestClassifier, AdaBoostClassifier\n",
    "from sklearn.multiclass import OneVsRestClassifier\n",
    "\n",
    "'''Modelling'''\n",
    "from sklearn.model_selection import train_test_split, GridSearchCV\n",
    "from sklearn.metrics import accuracy_score, recall_score, precision_score \n",
    "from sklearn.metrics import roc_auc_score, f1_score, roc_curve, auc, confusion_matrix, classification_report"
   ]
  },
  {
   "cell_type": "markdown",
   "metadata": {},
   "source": [
    "##  Import processed data"
   ]
  },
  {
   "cell_type": "code",
   "execution_count": 232,
   "metadata": {},
   "outputs": [],
   "source": [
    "nfr = pd.read_csv(\"../processed_data/nfr_processed.csv\")"
   ]
  },
  {
   "cell_type": "code",
   "execution_count": 233,
   "metadata": {},
   "outputs": [
    {
     "data": {
      "text/plain": [
       "(370, 7)"
      ]
     },
     "execution_count": 233,
     "metadata": {},
     "output_type": "execute_result"
    }
   ],
   "source": [
    "nfr = nfr.loc[nfr[\"labels\"]!=\"F\",:] # keep only non-functional requirements\n",
    "nfr= nfr.reset_index(drop=True)\n",
    "nfr.shape"
   ]
  },
  {
   "cell_type": "code",
   "execution_count": 234,
   "metadata": {},
   "outputs": [],
   "source": [
    "class_count = nfr.groupby(\"labels\").trigrams.count() # number of requirements in each class\n",
    "class_count=class_count.reset_index()"
   ]
  },
  {
   "cell_type": "code",
   "execution_count": 235,
   "metadata": {},
   "outputs": [],
   "source": [
    "class_count.sort_values(by=\"trigrams\", ascending=False, inplace=True)"
   ]
  },
  {
   "cell_type": "code",
   "execution_count": 236,
   "metadata": {},
   "outputs": [
    {
     "data": {
      "text/plain": [
       "Text(0, 0.5, 'count')"
      ]
     },
     "execution_count": 236,
     "metadata": {},
     "output_type": "execute_result"
    },
    {
     "data": {
      "image/png": "[encoded data removed]",
      "text/plain": [
       "<Figure size 576x432 with 1 Axes>"
      ]
     },
     "metadata": {
      "needs_background": "light"
     },
     "output_type": "display_data"
    }
   ],
   "source": [
    "fig = plt.figure(figsize=(8,6))\n",
    "sns.barplot(x=\"labels\",y=\"trigrams\", data=class_count)\n",
    "plt.ylabel('count')"
   ]
  },
  {
   "cell_type": "markdown",
   "metadata": {},
   "source": [
    "**Due to the imbalances classes, classifiers might bias towards to majority class.  In some cases, we might need to artifically up-sample classes like LF with sampling with replacement to create more balanace classes.**"
   ]
  },
  {
   "cell_type": "markdown",
   "metadata": {},
   "source": [
    "## Vector representation of requirement texts\n",
    "- As before, we want to represent the requirements with a vector of tfidf weights.\n",
    "- This time, we will also set some of the parameters of TfidfVectorizer:\n",
    "    - sublinear_tf: is set to True to use a logarithmic form for frequency.\n",
    "    - min_df: the minimum numbers of documents a word must be present in to be kept\n",
    "    - norm: set to l2 so that all feature vectors have a euclidian norm of 1\n",
    "    - ngram_range is set to (1, 3) to indicate that we want to consider unigrams, bigrams, and trigrams."
   ]
  },
  {
   "cell_type": "code",
   "execution_count": 305,
   "metadata": {},
   "outputs": [],
   "source": [
    "tfidf = TfidfVectorizer(sublinear_tf=True, min_df=1, norm=\"l2\", ngram_range =(1,2))"
   ]
  },
  {
   "cell_type": "code",
   "execution_count": 306,
   "metadata": {},
   "outputs": [
    {
     "data": {
      "text/plain": [
       "(370, 3513)"
      ]
     },
     "execution_count": 306,
     "metadata": {},
     "output_type": "execute_result"
    }
   ],
   "source": [
    "features = tfidf.fit_transform(nfr.trigrams).toarray()\n",
    "features.shape"
   ]
  },
  {
   "cell_type": "code",
   "execution_count": 307,
   "metadata": {},
   "outputs": [],
   "source": [
    "labels_num = nfr.labels_num\n",
    "label_dict = {\"LF\":1, \"O\":2, \"PE\":3, \"SE\":4, \"US\":5, \"others\":6} # mapping of labels and label_num"
   ]
  },
  {
   "cell_type": "code",
   "execution_count": null,
   "metadata": {},
   "outputs": [],
   "source": []
  },
  {
   "cell_type": "markdown",
   "metadata": {},
   "source": [
    "## Chi-sq test to find the most relevant term (feature) for each class\n",
    "- Useful reference: http://ethen8181.github.io/machine-learning/text_classification/chisquare.html"
   ]
  },
  {
   "cell_type": "markdown",
   "metadata": {},
   "source": [
    "- One common feature selection method that is used with text data is the Chi-Square feature selection. \n",
    "- The  χ2  test is used in statistics to test the independence of two RVs. \n",
    "- In our case, we compute the chi-square score for each feature (term) and its corresponding class and use it to test whether the occurrence of a specific term and the occurrence of a specific class are independent. \n",
    "- For each term t (feature) in a corpus with 370 documents (my sample), we estimate its chi-sq score with a specific class c.\n",
    "- For each feature (term), a high χ2 score indicates that the null hypothesis H0 (independence between the term and class) is rejected. \n",
    "- Thus, a high chi-sq score means that there IS dependence between term's frequency and class c.  I should include this term (feature) in my classifier."
   ]
  },
  {
   "cell_type": "code",
   "execution_count": 308,
   "metadata": {},
   "outputs": [
    {
     "data": {
      "text/plain": [
       "(array([0.06288193, 0.03013643, 0.02047817, ..., 0.03119536, 0.0361907 ,\n",
       "        0.0361907 ]),\n",
       " array([0.80199758, 0.86218103, 0.88620966, ..., 0.85980525, 0.84912222,\n",
       "        0.84912222]))"
      ]
     },
     "execution_count": 308,
     "metadata": {},
     "output_type": "execute_result"
    }
   ],
   "source": [
    "# Compute χ² (chi-squared) statistic for each class/feature combination.\n",
    "features_chi2 = chi2(features, labels_num == 1) \n",
    "features_chi2"
   ]
  },
  {
   "cell_type": "markdown",
   "metadata": {},
   "source": [
    "- The chi2 function returns \"features_chi2\", which is a tuple of two ndarray of shape 6357. \n",
    "- The first tuple contains the chi-sq scores for the 6357 terms (features): the higher the score, the higher the correlation between the feature and class 1.\n",
    "- The second tuple contains the p-score of the chi-sq test for the 6357 terms: the smaller the p-value the better since we can reject the Ho and accept H1 (that there is dependence between the feature and class 1)"
   ]
  },
  {
   "cell_type": "code",
   "execution_count": 312,
   "metadata": {},
   "outputs": [
    {
     "name": "stdout",
     "output_type": "stream",
     "text": [
      "############### 'LF ###############':\n",
      "## Most correlated unigrams ##\n",
      "sound\n",
      "look\n",
      "simulate\n",
      "appearance\n",
      "ship\n",
      "\n",
      "## Most correlated bigrams ##\n",
      "professional appearance\n",
      "simulate sound\n",
      "user interface\n",
      "comply corporate\n",
      "shall simulate\n",
      "\n",
      "############### 'O ###############':\n",
      "## Most correlated unigrams ##\n",
      "database_management\n",
      "web\n",
      "server\n",
      "browser\n",
      "environment\n",
      "\n",
      "## Most correlated bigrams ##\n",
      "central server\n",
      "database_management system\n",
      "shall run\n",
      "able interface\n",
      "shall interface\n",
      "\n",
      "############### 'PE ###############':\n",
      "## Most correlated unigrams ##\n",
      "return\n",
      "longer_second\n",
      "let\n",
      "response_time\n",
      "second\n",
      "\n",
      "## Most correlated bigrams ##\n",
      "acceptable time\n",
      "second time\n",
      "website minute\n",
      "shall return\n",
      "shall let\n",
      "\n",
      "############### 'SE ###############':\n",
      "## Most correlated unigrams ##\n",
      "prevent\n",
      "logon\n",
      "information\n",
      "access\n",
      "authorize\n",
      "\n",
      "## Most correlated bigrams ##\n",
      "authorize personnel\n",
      "shall ensure\n",
      "shall prevent\n",
      "shall access\n",
      "authorize user\n",
      "\n",
      "############### 'US ###############':\n",
      "## Most correlated unigrams ##\n",
      "able_successfully\n",
      "use\n",
      "intuitive\n",
      "training\n",
      "easy\n",
      "\n",
      "## Most correlated bigrams ##\n",
      "use system\n",
      "user shall\n",
      "shall intuitive\n",
      "easy use\n",
      "shall easy\n",
      "\n",
      "############### 'others ###############':\n",
      "## Most correlated unigrams ##\n",
      "achieve\n",
      "hour\n",
      "simultaneous\n",
      "available\n",
      "year\n",
      "\n",
      "## Most correlated bigrams ##\n",
      "system available\n",
      "day year\n",
      "simultaneous user\n",
      "shall achieve\n",
      "available use\n",
      "\n"
     ]
    }
   ],
   "source": [
    "num_most_important = 5\n",
    "for labels, cat_id in sorted(label_dict.items()):\n",
    "     # I use labels_num == cat_id to create a boolean series where True means label_num of a row is equal to cat_id\n",
    "    features_chi2 = chi2(features, labels_num == cat_id)\n",
    "    \n",
    "    # The indices of each of the 6357 features, sorted by least important (lowest chi-sq score) to the most important\n",
    "    # (highest chi-sq score)\n",
    "    # NOTE: np.argsort() return an array of index with the index of the element with the smallest value appearing first\n",
    "    # np.argsort([3,1,2]) ---> array([1, 2, 0])\n",
    "    indices = np.argsort(features_chi2[0])\n",
    "    feature_names = np.array(tfidf.get_feature_names())[indices] # least important term to the most important term\n",
    "    \n",
    "    unigrams = [v for v in feature_names if len(v.split(' ')) == 1]\n",
    "    unigram_str = '\\n'.join(unigrams[-num_most_important:])\n",
    "    bigrams = [v for v in feature_names if len(v.split(' ')) == 2]\n",
    "    bigram_str = '\\n'.join(bigrams[-num_most_important:])\n",
    "  \n",
    "    \n",
    "    print(\"############### '{} ###############':\".format(labels))\n",
    "    print(\"## Most correlated unigrams ##\")\n",
    "    print(unigram_str)\n",
    "    print(\"\")\n",
    "    print(\"## Most correlated bigrams ##\")\n",
    "    print(bigram_str)\n",
    "    print(\"\")\n",
    "    "
   ]
  },
  {
   "cell_type": "markdown",
   "metadata": {},
   "source": [
    "## Modelling\n",
    "- As before, I will first split the data into train and test datasets\n",
    "- I will try 3 estimators: SVC, RandomForestClassifier, and AdaboostClassifier\n",
    "- I will create a pipeline with the following steps:\n",
    "    - tfidfvectorizer: represent each requirements with the tfidf weights of its tokens\n",
    "    - TruncatedSVD: pick the most important features\n",
    "    - clf: train classifier\n",
    " - For each estimator, I will use GridSearchCV to find its optimal hyperparameters based on its estimated test f1-score (marcro).\n"
   ]
  },
  {
   "cell_type": "code",
   "execution_count": 177,
   "metadata": {},
   "outputs": [],
   "source": [
    "# Test harness\n",
    "X = nfr[\"trigrams\"]\n",
    "y = nfr['labels_num'].values \n",
    "\n",
    "# Train test split with stratified sampling for evaluation\n",
    "X_train, X_test, y_train, y_test = train_test_split(X, y, test_size = 0.3, stratify=y, random_state = 10)"
   ]
  },
  {
   "cell_type": "code",
   "execution_count": 179,
   "metadata": {},
   "outputs": [],
   "source": [
    "# Classifiers\n",
    "models = {\n",
    "    'SVC': SVC(random_state=10),\n",
    "    'RandomForestClassifier': RandomForestClassifier(random_state=10),\n",
    "    'AdaBoostClassifier': AdaBoostClassifier(random_state=10)\n",
    "}\n",
    "\n",
    "#Parameters for GridSearchCV\n",
    "params = {\n",
    "    \n",
    "    'SVC':  { \n",
    "        \"clf__C\" : [ 1, 10, 100, 1000], # [1,10,100,1000]\n",
    "        \"clf__gamma\" : [1,0.1,0.001,0.0001], # [1,0.1,0.001,0.0001]\n",
    "    },\n",
    "    \n",
    "    'RandomForestClassifier':  { \n",
    "        \"clf__n_estimators\" : [200, 400, 800, 1000, 1200], # [200, 400, 600, 800, 1000, 1200, 1400, 1600, 1800] \n",
    "        \"clf__max_depth\"      : [10,30,50,80,100],  # [10, 20, 30, 40, 50, 60, 70, 80, 90, 100, None]\n",
    "        \"clf__min_samples_split\" : [2,5,10],  # [2, 5, 10]\n",
    "        \"clf__min_samples_leaf\" :   [1,2,4]   # [1, 2, 4]  \n",
    "    },\n",
    "    \n",
    "    'AdaBoostClassifier':  { \n",
    "        \"clf__n_estimators\" : [100, 500, 800, 1000], # [100, 500, 800, 1000]\n",
    "        \"clf__learning_rate\" : [0.01,0.05,0.1,0.5,1] # [0.01,0.05,0.1,0.5,1]\n",
    "    }\n",
    "}"
   ]
  },
  {
   "cell_type": "code",
   "execution_count": 191,
   "metadata": {},
   "outputs": [
    {
     "name": "stdout",
     "output_type": "stream",
     "text": [
      "Fitting 5 folds for each of 16 candidates, totalling 80 fits\n"
     ]
    },
    {
     "name": "stderr",
     "output_type": "stream",
     "text": [
      "[Parallel(n_jobs=-1)]: Using backend LokyBackend with 4 concurrent workers.\n",
      "[Parallel(n_jobs=-1)]: Done  33 tasks      | elapsed:   10.0s\n",
      "[Parallel(n_jobs=-1)]: Done  80 out of  80 | elapsed:   18.2s finished\n"
     ]
    },
    {
     "name": "stdout",
     "output_type": "stream",
     "text": [
      "The best parameters are: {'clf__C': 100, 'clf__gamma': 1}\n",
      "\n",
      "The best f1-macro score (on CV) are: 0.7248480924445109\n",
      "Fitting 5 folds for each of 225 candidates, totalling 1125 fits\n"
     ]
    },
    {
     "name": "stderr",
     "output_type": "stream",
     "text": [
      "[Parallel(n_jobs=-1)]: Using backend LokyBackend with 4 concurrent workers.\n",
      "[Parallel(n_jobs=-1)]: Done  33 tasks      | elapsed:   31.0s\n",
      "[Parallel(n_jobs=-1)]: Done 154 tasks      | elapsed:  2.7min\n",
      "[Parallel(n_jobs=-1)]: Done 357 tasks      | elapsed:  6.3min\n",
      "[Parallel(n_jobs=-1)]: Done 640 tasks      | elapsed: 11.8min\n",
      "[Parallel(n_jobs=-1)]: Done 1005 tasks      | elapsed: 17.7min\n",
      "[Parallel(n_jobs=-1)]: Done 1125 out of 1125 | elapsed: 20.0min finished\n"
     ]
    },
    {
     "name": "stdout",
     "output_type": "stream",
     "text": [
      "The best parameters are: {'clf__max_depth': 30, 'clf__min_samples_leaf': 1, 'clf__min_samples_split': 2, 'clf__n_estimators': 1200}\n",
      "\n",
      "The best f1-macro score (on CV) are: 0.6537736623560053\n",
      "Fitting 5 folds for each of 20 candidates, totalling 100 fits\n"
     ]
    },
    {
     "name": "stderr",
     "output_type": "stream",
     "text": [
      "[Parallel(n_jobs=-1)]: Using backend LokyBackend with 4 concurrent workers.\n",
      "[Parallel(n_jobs=-1)]: Done  33 tasks      | elapsed:   37.7s\n",
      "[Parallel(n_jobs=-1)]: Done 100 out of 100 | elapsed:  2.1min finished\n"
     ]
    },
    {
     "name": "stdout",
     "output_type": "stream",
     "text": [
      "The best parameters are: {'clf__learning_rate': 0.5, 'clf__n_estimators': 1000}\n",
      "\n",
      "The best f1-macro score (on CV) are: 0.3355453722621172\n"
     ]
    }
   ],
   "source": [
    " gscvs = []\n",
    "    \n",
    "for name in models.keys():\n",
    "    # Pipeline\n",
    "    pipeline = Pipeline([('tfidf', tfidf),  # compute for each term t in doc d its tf-idf weight\n",
    "                         ('lsa', TruncatedSVD(n_components=100, n_iter=10, random_state=10)), # pick only 100 features\n",
    "                         ('clf', models[name])])  # classifier\n",
    "    \n",
    "    est_params = params[name] # parameters for that model\n",
    "    \n",
    "    # Define the GridSearchCV object for that model\n",
    "    gscv = GridSearchCV(estimator=pipeline, \n",
    "                            param_grid=est_params, \n",
    "                            cv=5,\n",
    "                            verbose = 2,\n",
    "                            n_jobs=-1, \n",
    "                            scoring = \"f1_macro\") \n",
    "        \n",
    "    # Train the GridSearchCV object\n",
    "    gscv.fit(X_train, y_train)\n",
    "    \n",
    "    print(\"The best parameters are: {}\".format(gscv.best_params_))\n",
    "    print(\"\")\n",
    "    print(\"The best f1-macro score (on CV) are: {}\".format(gscv.best_score_))\n",
    "    \n",
    "    gscvs.append(gscv)\n",
    "    "
   ]
  },
  {
   "cell_type": "code",
   "execution_count": 196,
   "metadata": {},
   "outputs": [],
   "source": [
    "# Get the metrics of each model\n",
    "\n",
    "model_name, acc_score_list, precision_score_list, recall_score_list, f1_score_list = [], [], [], [], []\n",
    "for i,name in enumerate(models.keys()):\n",
    "    # Get predictions\n",
    "    y_pred = gscvs[i].predict(X_test)\n",
    "    \n",
    "    # model name\n",
    "    model_name.append(name)\n",
    "    \n",
    "    # Model performance\n",
    "    acc_score_list.append(accuracy_score(y_test, y_pred))\n",
    "    # compute precision of each class and take average\n",
    "    precision_score_list.append(precision_score(y_test, y_pred, average='macro')) \n",
    "    recall_score_list.append(recall_score(y_test, y_pred, average='macro'))\n",
    "    f1_score_list.append(f1_score(y_test, y_pred, average='macro'))\n",
    "    \n",
    "    # Organize metrics (on test dataset) for each model in a DataFrame\n",
    "    model_comparison_df = pd.DataFrame(list(zip(model_name, acc_score_list, precision_score_list,\n",
    "                                                recall_score_list, f1_score_list)), \n",
    "                                                columns= ['model_name', 'accuracy_score', \n",
    "                                                          'precision_score','recall_score', 'f1_score'])\n",
    "    \n",
    "    # sort by f1_score\n",
    "    model_comparison_df = model_comparison_df.sort_values(by='f1_score', ascending=False)\n"
   ]
  },
  {
   "cell_type": "code",
   "execution_count": 197,
   "metadata": {},
   "outputs": [
    {
     "data": {
      "text/html": [
       "<div>\n",
       "<style scoped>\n",
       "    .dataframe tbody tr th:only-of-type {\n",
       "        vertical-align: middle;\n",
       "    }\n",
       "\n",
       "    .dataframe tbody tr th {\n",
       "        vertical-align: top;\n",
       "    }\n",
       "\n",
       "    .dataframe thead th {\n",
       "        text-align: right;\n",
       "    }\n",
       "</style>\n",
       "<table border=\"1\" class=\"dataframe\">\n",
       "  <thead>\n",
       "    <tr style=\"text-align: right;\">\n",
       "      <th></th>\n",
       "      <th>model_name</th>\n",
       "      <th>accuracy_score</th>\n",
       "      <th>precision_score</th>\n",
       "      <th>recall_score</th>\n",
       "      <th>f1_score</th>\n",
       "    </tr>\n",
       "  </thead>\n",
       "  <tbody>\n",
       "    <tr>\n",
       "      <th>0</th>\n",
       "      <td>SVC</td>\n",
       "      <td>0.738739</td>\n",
       "      <td>0.763939</td>\n",
       "      <td>0.722028</td>\n",
       "      <td>0.734496</td>\n",
       "    </tr>\n",
       "    <tr>\n",
       "      <th>1</th>\n",
       "      <td>RandomForestClassifier</td>\n",
       "      <td>0.666667</td>\n",
       "      <td>0.788675</td>\n",
       "      <td>0.620939</td>\n",
       "      <td>0.635793</td>\n",
       "    </tr>\n",
       "    <tr>\n",
       "      <th>2</th>\n",
       "      <td>AdaBoostClassifier</td>\n",
       "      <td>0.423423</td>\n",
       "      <td>0.740839</td>\n",
       "      <td>0.383441</td>\n",
       "      <td>0.361828</td>\n",
       "    </tr>\n",
       "  </tbody>\n",
       "</table>\n",
       "</div>"
      ],
      "text/plain": [
       "               model_name  accuracy_score  precision_score  recall_score  \\\n",
       "0                     SVC        0.738739         0.763939      0.722028   \n",
       "1  RandomForestClassifier        0.666667         0.788675      0.620939   \n",
       "2      AdaBoostClassifier        0.423423         0.740839      0.383441   \n",
       "\n",
       "   f1_score  \n",
       "0  0.734496  \n",
       "1  0.635793  \n",
       "2  0.361828  "
      ]
     },
     "execution_count": 197,
     "metadata": {},
     "output_type": "execute_result"
    }
   ],
   "source": [
    "model_comparison_df"
   ]
  },
  {
   "cell_type": "markdown",
   "metadata": {},
   "source": [
    "**Again, SVC outperforms more complex models such as AdaBoostClassifier.  Given the class imbalance and the very small sample size, the performance for RandomForest and SVC is surprisingly good.**      "
   ]
  },
  {
   "cell_type": "code",
   "execution_count": 344,
   "metadata": {},
   "outputs": [
    {
     "data": {
      "image/png": "[encoded data removed]",
      "text/plain": [
       "<Figure size 720x432 with 1 Axes>"
      ]
     },
     "metadata": {
      "needs_background": "light"
     },
     "output_type": "display_data"
    }
   ],
   "source": [
    "## Plots\n",
    "fig,ax = plt.subplots(figsize=(10,6))\n",
    "sns.barplot(x=\"model_name\", y=\"f1_score\", data=model_comparison_df, axes=ax)\n",
    "\n",
    "ax.set_title('nfr dataset (multiclass non-functional requirements classification)')\n",
    "\n",
    "plt.savefig(\"../outputs/multi_class_classification_results.jpeg\")"
   ]
  },
  {
   "cell_type": "markdown",
   "metadata": {},
   "source": [
    "## Model evaluation\n",
    "- Let's look at the confusion matrix, classification report for SVC (our best model)"
   ]
  },
  {
   "cell_type": "code",
   "execution_count": 313,
   "metadata": {},
   "outputs": [],
   "source": [
    "model = gscvs[0]"
   ]
  },
  {
   "cell_type": "code",
   "execution_count": 315,
   "metadata": {},
   "outputs": [],
   "source": [
    "y_pred = model.predict(X_test)"
   ]
  },
  {
   "cell_type": "code",
   "execution_count": 316,
   "metadata": {},
   "outputs": [],
   "source": [
    "conf_mat = confusion_matrix(y_test, y_pred)"
   ]
  },
  {
   "cell_type": "markdown",
   "metadata": {},
   "source": [
    "**The diagonal elements are correctly predicted by the model.  I see small off-diagonal values.**"
   ]
  },
  {
   "cell_type": "code",
   "execution_count": 327,
   "metadata": {
    "scrolled": true
   },
   "outputs": [
    {
     "data": {
      "text/plain": [
       "array([[ 6,  2,  0,  0,  1,  2],\n",
       "       [ 0, 13,  0,  1,  0,  5],\n",
       "       [ 0,  1, 13,  1,  0,  1],\n",
       "       [ 0,  1,  2, 14,  2,  1],\n",
       "       [ 1,  1,  1,  0, 15,  2],\n",
       "       [ 0,  1,  0,  1,  2, 21]], dtype=int64)"
      ]
     },
     "execution_count": 327,
     "metadata": {},
     "output_type": "execute_result"
    }
   ],
   "source": [
    "conf_mat"
   ]
  },
  {
   "cell_type": "markdown",
   "metadata": {},
   "source": [
    "**Plot heatmap for confusion matrix**"
   ]
  },
  {
   "cell_type": "code",
   "execution_count": 347,
   "metadata": {},
   "outputs": [
    {
     "data": {
      "image/png": "[encoded data removed]",
      "text/plain": [
       "<Figure size 720x720 with 2 Axes>"
      ]
     },
     "metadata": {
      "needs_background": "light"
     },
     "output_type": "display_data"
    }
   ],
   "source": [
    "fig, ax = plt.subplots(figsize=(10,10))\n",
    "\n",
    "sns.heatmap(conf_mat, annot=True, fmt='d', xticklabels=list(label_dict.keys()),  yticklabels=list(label_dict.keys()))\n",
    "plt.ylabel('Actual')\n",
    "plt.xlabel('Predicted')\n",
    "plt.savefig(\"../outputs/multi_class_classification_svc_cm.jpeg\")\n",
    "plt.show()"
   ]
  },
  {
   "cell_type": "markdown",
   "metadata": {},
   "source": [
    "**The SVC model mostly incorrectly predicts \"O\" to \"others, but the vast majority of the predictions are correct.**"
   ]
  },
  {
   "cell_type": "markdown",
   "metadata": {},
   "source": [
    "**Classification reports for each class**"
   ]
  },
  {
   "cell_type": "code",
   "execution_count": 332,
   "metadata": {},
   "outputs": [
    {
     "name": "stdout",
     "output_type": "stream",
     "text": [
      "              precision    recall  f1-score   support\n",
      "\n",
      "          LF       0.86      0.55      0.67        11\n",
      "           O       0.68      0.68      0.68        19\n",
      "          PE       0.81      0.81      0.81        16\n",
      "          SE       0.82      0.70      0.76        20\n",
      "          US       0.75      0.75      0.75        20\n",
      "      others       0.66      0.84      0.74        25\n",
      "\n",
      "    accuracy                           0.74       111\n",
      "   macro avg       0.76      0.72      0.73       111\n",
      "weighted avg       0.75      0.74      0.74       111\n",
      "\n"
     ]
    }
   ],
   "source": [
    "print(classification_report(y_test, y_pred, target_names=list(label_dict.keys())))"
   ]
  },
  {
   "cell_type": "markdown",
   "metadata": {},
   "source": [
    "**Thoughts**\n",
    "\n",
    "Not surprisingly, the SVC model has a high precision but low recall for LF. This because LF accounts for the least amounts of requirements in the sample.  The model returns very few results, but most if its predictions are correct.\n",
    "On the other hand, the model has low precision and high recall for \"others\".  The class \"others\" basically lumps classes that appears very infrequently in the dataset.  The model makes a lot of predictions but a lot of them are not correct."
   ]
  },
  {
   "cell_type": "markdown",
   "metadata": {},
   "source": [
    "## Outputs"
   ]
  },
  {
   "cell_type": "code",
   "execution_count": 346,
   "metadata": {},
   "outputs": [],
   "source": [
    "model_comparison_df.to_csv(\"../outputs/multiclass_results.csv\", index=False)"
   ]
  },
  {
   "cell_type": "code",
   "execution_count": null,
   "metadata": {},
   "outputs": [],
   "source": []
  }
 ],
 "metadata": {
  "kernelspec": {
   "display_name": "Python 3",
   "language": "python",
   "name": "python3"
  },
  "language_info": {
   "codemirror_mode": {
    "name": "ipython",
    "version": 3
   },
   "file_extension": ".py",
   "mimetype": "text/x-python",
   "name": "python",
   "nbconvert_exporter": "python",
   "pygments_lexer": "ipython3",
   "version": "3.7.5"
  },
  "varInspector": {
   "cols": {
    "lenName": 16,
    "lenType": 16,
    "lenVar": 40
   },
   "kernels_config": {
    "python": {
     "delete_cmd_postfix": "",
     "delete_cmd_prefix": "del ",
     "library": "var_list.py",
     "varRefreshCmd": "print(var_dic_list())"
    },
    "r": {
     "delete_cmd_postfix": ") ",
     "delete_cmd_prefix": "rm(",
     "library": "var_list.r",
     "varRefreshCmd": "cat(var_dic_list()) "
    }
   },
   "types_to_exclude": [
    "module",
    "function",
    "builtin_function_or_method",
    "instance",
    "_Feature"
   ],
   "window_display": false
  }
 },
 "nbformat": 4,
 "nbformat_minor": 2
}
