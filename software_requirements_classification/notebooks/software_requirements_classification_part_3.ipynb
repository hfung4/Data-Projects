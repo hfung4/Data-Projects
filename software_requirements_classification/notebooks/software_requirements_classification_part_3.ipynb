{
 "cells": [
  {
   "cell_type": "code",
   "execution_count": 114,
   "metadata": {},
   "outputs": [],
   "source": [
    "'''data'''\n",
    "import pandas as pd\n",
    "import numpy as np\n",
    "import re\n",
    "\n",
    "%run helpers.ipynb\n",
    "\n",
    "'''plots'''\n",
    "import matplotlib.pyplot as plt \n",
    "import seaborn as sns\n",
    "\n",
    "'''keras'''\n",
    "from keras.preprocessing.text import Tokenizer\n",
    "from keras.preprocessing.sequence import pad_sequences\n",
    "from keras.utils.np_utils import to_categorical\n",
    "\n",
    "from keras.models import Sequential, Model\n",
    "from keras.layers import Embedding, Flatten, Dense, Input, Conv1D, Conv2D, MaxPooling1D, MaxPooling2D, GlobalMaxPooling1D\n",
    "from keras.layers import Dropout, concatenate\n",
    "from keras.layers.core import Reshape\n",
    "from keras.callbacks import EarlyStopping\n",
    "from keras.optimizers import SGD, RMSprop, Adam\n",
    "from keras import regularizers\n",
    "\n",
    "'''Gensim'''\n",
    "from gensim.models import Word2Vec\n",
    "from gensim.models.keyedvectors import KeyedVectors\n",
    "\n",
    "\n",
    "'''metrics'''\n",
    "from sklearn.metrics import accuracy_score, confusion_matrix, classification_report\n",
    "from sklearn.metrics import precision_score, recall_score, f1_score, auc, roc_curve\n",
    "from sklearn.model_selection import train_test_split"
   ]
  },
  {
   "cell_type": "markdown",
   "metadata": {},
   "source": [
    "**In general, pre-trained word embeddings are particularly useful on problems where there is very little training data (otherwise, I should train my word-embeddings on the corpus).  This is suitable to requirement classification since we usually don't have a large set of labelled data.  The labelling of software requirements need to be done manually by individual with domain expertise; thus even at Logapps, we only had a train dataset (labelled by trained interns in the previous summers) of about 5000 samples.**"
   ]
  },
  {
   "cell_type": "markdown",
   "metadata": {},
   "source": [
    "## Import data\n",
    "- Import the processed data from part 1 and part 2"
   ]
  },
  {
   "cell_type": "code",
   "execution_count": 115,
   "metadata": {},
   "outputs": [],
   "source": [
    "SecReq = pd.read_csv(\"../processed_data/SecReq_processed.csv\")\n",
    "nfr = pd.read_csv(\"../processed_data/nfr_processed.csv\")\n",
    "nfr_binary = pd.read_csv(\"../processed_data/nfr_binary_processed.csv\")"
   ]
  },
  {
   "cell_type": "markdown",
   "metadata": {},
   "source": [
    "## Process text\n",
    "- We no longer need to identify bigrams and trigrams using Phrase models ourselves since we are using CNN models.  We can define filters of size 2 and 3 (bigrams and trigrams) and during training, CNN will automatically (using backpropogation) extract/identify features (two or three word phrases) that are informative in predicting the class of the requirements.  "
   ]
  },
  {
   "cell_type": "code",
   "execution_count": 116,
   "metadata": {},
   "outputs": [],
   "source": [
    "# remove all functional class, I am only interested in classifying non-functional requirements to their subtypes\n",
    "nfr = nfr.loc[nfr.labels!=\"F\", :] "
   ]
  },
  {
   "cell_type": "code",
   "execution_count": 117,
   "metadata": {
    "scrolled": true
   },
   "outputs": [],
   "source": [
    "SecReq = SecReq[[\"text\", \"labels_num\"]]\n",
    "nfr = nfr[[\"text\",\"labels_num\"]]\n",
    "nfr_binary = nfr_binary[[\"text\",\"labels_num\"]]"
   ]
  },
  {
   "cell_type": "code",
   "execution_count": 118,
   "metadata": {
    "scrolled": false
   },
   "outputs": [
    {
     "data": {
      "text/plain": [
       "((471, 2), (370, 2), (625, 2))"
      ]
     },
     "execution_count": 118,
     "metadata": {},
     "output_type": "execute_result"
    }
   ],
   "source": [
    "SecReq.shape, nfr.shape, nfr_binary.shape"
   ]
  },
  {
   "cell_type": "markdown",
   "metadata": {},
   "source": [
    "**We have very small dataset (even smaller than the one I had at Logapps).  Hopefully, we can overcome this weakness with transfer-learning: using pre-trained word embeddings to learn \"generic low-level features\" and only focus on learning high level features with my small dataset.  We are very likely going to have overfitting problems with all our CNN models.**"
   ]
  },
  {
   "cell_type": "markdown",
   "metadata": {},
   "source": [
    "## Load the word2vec pre-trained word embeddings"
   ]
  },
  {
   "cell_type": "code",
   "execution_count": 119,
   "metadata": {},
   "outputs": [
    {
     "name": "stdout",
     "output_type": "stream",
     "text": [
      "Wall time: 6min 28s\n"
     ]
    }
   ],
   "source": [
    "%%time\n",
    "execute = True\n",
    "\n",
    "if execute:\n",
    "    # Load KeyedVectors for the Google News word embeddings\n",
    "    # Contains 3 million 300-D word embeddings trained from 100 billion words\n",
    "\n",
    "    # Load pretrained model (since intermediate data is not included, the model cannot be refined with additional data)\n",
    "    # The vectors is loaded from an existing file on disk in the original Google’s word2vec C format as \n",
    "    # a KeyedVectors instance\n",
    "    word_vectors = KeyedVectors.load_word2vec_format('../embeddings/GoogleNews-vectors-negative300.bin.gz', \n",
    "                                                                binary=True) # C bin format"
   ]
  },
  {
   "cell_type": "markdown",
   "metadata": {},
   "source": [
    "## Let's start with binary classification with the SecReq dataset"
   ]
  },
  {
   "cell_type": "markdown",
   "metadata": {},
   "source": [
    "**Process the text and build the embedding matrix**"
   ]
  },
  {
   "cell_type": "code",
   "execution_count": 120,
   "metadata": {},
   "outputs": [
    {
     "name": "stdout",
     "output_type": "stream",
     "text": [
      "Found 1310 unique tokens.\n",
      "\n",
      "The shape of the data tensor is: (471, 75)\n",
      "\n",
      "The shape of the label tensor is: (471, 2)\n"
     ]
    }
   ],
   "source": [
    "texts = SecReq[\"text\"]\n",
    "labels = SecReq[\"labels_num\"] \n",
    "\n",
    "X_train, X_val, y_train, y_val, embedding_matrix = keras_processing(texts, labels, max_words=1000, maxlen= 75) "
   ]
  },
  {
   "cell_type": "markdown",
   "metadata": {},
   "source": [
    "## Modelling\n",
    "- As per Kim Yoon's \"Convolutional Neural Networks for Sentence Classification\", we will only use conv layer to extract features using filter_size 1,2 and 3.\n",
    "- The size of the filter is (filter_size, embeding_dim). If filter_size = 1, I will only extract unigram features; and if filter_size=2, I will extract bigrams features.\n",
    "- I will use 1-max pooling to get the max value of the feature map of each filter.\n",
    "- Thus, if I have 6 filters, I will get a 6x1 vector after the 1-max pooling.\n",
    "- Finally, I will have a fully connected layer and softmax layer."
   ]
  },
  {
   "cell_type": "markdown",
   "metadata": {},
   "source": [
    "**Settings**"
   ]
  },
  {
   "cell_type": "code",
   "execution_count": 121,
   "metadata": {},
   "outputs": [],
   "source": [
    "sequence_length = X_train.shape[1] # number of words in each doc\n",
    "filter_sizes = [1,2] # filter size for conv layer 1, and for conv layer 2  (consider unigrams and bigrams)\n",
    "num_filters = 128 # number of filters for each conv layer\n",
    "drop = 0.5  # probability of dropping neurons\n",
    "\n",
    "vocabulary_size = embedding_matrix.shape[0]\n",
    "embedding_dim = embedding_matrix.shape[1]"
   ]
  },
  {
   "cell_type": "markdown",
   "metadata": {},
   "source": [
    "**Embedding layer**"
   ]
  },
  {
   "cell_type": "code",
   "execution_count": 122,
   "metadata": {},
   "outputs": [],
   "source": [
    "embedding_layer = Embedding(vocabulary_size,\n",
    "                            embedding_dim,\n",
    "                            weights=[embedding_matrix],\n",
    "                            trainable=False)"
   ]
  },
  {
   "cell_type": "markdown",
   "metadata": {},
   "source": [
    "**Build model**"
   ]
  },
  {
   "cell_type": "code",
   "execution_count": 123,
   "metadata": {},
   "outputs": [],
   "source": [
    "# The input to the embeddings layer for each doc is bascially an array of word index of length \"sequence_length\",\n",
    "# the length of each doc\n",
    "inputs = Input(shape=(sequence_length,))\n",
    "# Emedding layer:\n",
    "    # Input: word index of shape (75,)\n",
    "    # output: a 3D tensor of shape (samples, sequence_length, embedding_dim) = (samples, 75, 300)\n",
    "embedding = embedding_layer(inputs)\n",
    "# reshape the output of the embedding layer to shape (75, 300, 1 )\n",
    "reshape = Reshape((sequence_length,embedding_dim,1))(embedding)  \n",
    "\n",
    "# conv layer 1 (use filter window size 1: extract unigrams)\n",
    "# input is the \"reshaped\" embedding matrix\n",
    "conv_0 = Conv2D(num_filters, # number of filters (50) \n",
    "                (filter_sizes[0], embedding_dim), # shape of the filter \n",
    "                activation='relu', # activation function\n",
    "                # Regularizers allow you to apply penalties on layer parameters or layer activity during optimization. \n",
    "                # These penalties are summed into the loss function that the network optimizes.\n",
    "                kernel_regularizer=regularizers.l2(0.01))(reshape)\n",
    "\n",
    "# conv layer 2 (use filter window size 2: extract bigrams)\n",
    "# input is the \"reshaped\" embedding matrix\n",
    "conv_1 = Conv2D(num_filters, \n",
    "                (filter_sizes[1], embedding_dim),\n",
    "                activation='relu',\n",
    "                kernel_regularizer=regularizers.l2(0.01))(reshape)\n",
    "\n",
    "# Apply max pooling to the activation maps (100 of them) for EACH conv layer\n",
    "# sequence_length - filter_sizes[0] + 1 is the length of Each feature map\n",
    "maxpool_0 = MaxPooling2D((sequence_length - filter_sizes[0] + 1, 1), strides=(1,1))(conv_0) # size of 1x100\n",
    "maxpool_1 = MaxPooling2D((sequence_length - filter_sizes[1] + 1, 1), strides=(1,1))(conv_1)\n",
    "\n",
    "# I get a feature from each of the 1-max pooling layer, so I have 2 features in total\n",
    "# I concat the features to get a 2 feature vector of size 2x100\n",
    "merged_tensor = concatenate([maxpool_0, maxpool_1], axis=1) \n",
    "flatten = Flatten()(merged_tensor) \n",
    "\n",
    "dropout = Dropout(drop)(flatten)\n",
    "output = Dense(2, activation='sigmoid',kernel_regularizer=regularizers.l2(0.01))(dropout)"
   ]
  },
  {
   "cell_type": "code",
   "execution_count": 124,
   "metadata": {},
   "outputs": [
    {
     "name": "stdout",
     "output_type": "stream",
     "text": [
      "Model: \"model_4\"\n",
      "__________________________________________________________________________________________________\n",
      "Layer (type)                    Output Shape         Param #     Connected to                     \n",
      "==================================================================================================\n",
      "input_4 (InputLayer)            (None, 75)           0                                            \n",
      "__________________________________________________________________________________________________\n",
      "embedding_4 (Embedding)         (None, 75, 300)      300000      input_4[0][0]                    \n",
      "__________________________________________________________________________________________________\n",
      "reshape_4 (Reshape)             (None, 75, 300, 1)   0           embedding_4[0][0]                \n",
      "__________________________________________________________________________________________________\n",
      "conv2d_7 (Conv2D)               (None, 75, 1, 128)   38528       reshape_4[0][0]                  \n",
      "__________________________________________________________________________________________________\n",
      "conv2d_8 (Conv2D)               (None, 74, 1, 128)   76928       reshape_4[0][0]                  \n",
      "__________________________________________________________________________________________________\n",
      "max_pooling2d_7 (MaxPooling2D)  (None, 1, 1, 128)    0           conv2d_7[0][0]                   \n",
      "__________________________________________________________________________________________________\n",
      "max_pooling2d_8 (MaxPooling2D)  (None, 1, 1, 128)    0           conv2d_8[0][0]                   \n",
      "__________________________________________________________________________________________________\n",
      "concatenate_4 (Concatenate)     (None, 2, 1, 128)    0           max_pooling2d_7[0][0]            \n",
      "                                                                 max_pooling2d_8[0][0]            \n",
      "__________________________________________________________________________________________________\n",
      "flatten_4 (Flatten)             (None, 256)          0           concatenate_4[0][0]              \n",
      "__________________________________________________________________________________________________\n",
      "dropout_4 (Dropout)             (None, 256)          0           flatten_4[0][0]                  \n",
      "__________________________________________________________________________________________________\n",
      "dense_4 (Dense)                 (None, 2)            514         dropout_4[0][0]                  \n",
      "==================================================================================================\n",
      "Total params: 415,970\n",
      "Trainable params: 115,970\n",
      "Non-trainable params: 300,000\n",
      "__________________________________________________________________________________________________\n"
     ]
    }
   ],
   "source": [
    "# Creates a model class with takes a Keras.Input object and the outputs of the model as argument\n",
    "model = Model(inputs, output)\n",
    "model.summary()"
   ]
  },
  {
   "cell_type": "markdown",
   "metadata": {},
   "source": [
    "**Train model**"
   ]
  },
  {
   "cell_type": "code",
   "execution_count": 125,
   "metadata": {},
   "outputs": [
    {
     "name": "stdout",
     "output_type": "stream",
     "text": [
      "Train on 376 samples, validate on 95 samples\n",
      "Epoch 1/30\n",
      "376/376 [==============================] - 6s 15ms/step - loss: 0.6988 - accuracy: 0.6529 - val_loss: 0.6397 - val_accuracy: 0.7263\n",
      "Epoch 2/30\n",
      "376/376 [==============================] - 1s 2ms/step - loss: 0.6085 - accuracy: 0.7593 - val_loss: 0.5978 - val_accuracy: 0.8158\n",
      "Epoch 3/30\n",
      "376/376 [==============================] - 1s 2ms/step - loss: 0.5547 - accuracy: 0.8497 - val_loss: 0.5702 - val_accuracy: 0.7579\n",
      "Epoch 4/30\n",
      "376/376 [==============================] - 1s 2ms/step - loss: 0.5316 - accuracy: 0.8391 - val_loss: 0.5517 - val_accuracy: 0.7789\n",
      "Epoch 5/30\n",
      "376/376 [==============================] - 1s 2ms/step - loss: 0.4989 - accuracy: 0.8750 - val_loss: 0.5437 - val_accuracy: 0.8053\n",
      "Epoch 6/30\n",
      "376/376 [==============================] - 1s 2ms/step - loss: 0.4878 - accuracy: 0.8883 - val_loss: 0.5368 - val_accuracy: 0.7947\n",
      "Epoch 7/30\n",
      "376/376 [==============================] - 1s 2ms/step - loss: 0.4670 - accuracy: 0.9029 - val_loss: 0.5354 - val_accuracy: 0.7895\n",
      "Epoch 8/30\n",
      "376/376 [==============================] - 1s 2ms/step - loss: 0.4665 - accuracy: 0.9096 - val_loss: 0.5337 - val_accuracy: 0.8000\n",
      "Epoch 9/30\n",
      "376/376 [==============================] - ETA: 0s - loss: 0.4455 - accuracy: 0.92 - 1s 2ms/step - loss: 0.4472 - accuracy: 0.9242 - val_loss: 0.5240 - val_accuracy: 0.8211\n",
      "Epoch 10/30\n",
      "376/376 [==============================] - 1s 2ms/step - loss: 0.4378 - accuracy: 0.9348 - val_loss: 0.5229 - val_accuracy: 0.8421\n",
      "Epoch 11/30\n",
      "376/376 [==============================] - 1s 2ms/step - loss: 0.4291 - accuracy: 0.9375 - val_loss: 0.5330 - val_accuracy: 0.8053\n",
      "Epoch 12/30\n",
      "376/376 [==============================] - 1s 2ms/step - loss: 0.4263 - accuracy: 0.9309 - val_loss: 0.5226 - val_accuracy: 0.8526\n",
      "Epoch 13/30\n",
      "376/376 [==============================] - 1s 2ms/step - loss: 0.4246 - accuracy: 0.9441 - val_loss: 0.5229 - val_accuracy: 0.8526\n",
      "Epoch 14/30\n",
      "376/376 [==============================] - 1s 2ms/step - loss: 0.4152 - accuracy: 0.9441 - val_loss: 0.5471 - val_accuracy: 0.7947\n",
      "Epoch 15/30\n",
      "376/376 [==============================] - 1s 2ms/step - loss: 0.4079 - accuracy: 0.9495 - val_loss: 0.5184 - val_accuracy: 0.8526\n",
      "Epoch 16/30\n",
      "376/376 [==============================] - 1s 2ms/step - loss: 0.4056 - accuracy: 0.9548 - val_loss: 0.5196 - val_accuracy: 0.8632\n",
      "Epoch 17/30\n",
      "376/376 [==============================] - 1s 2ms/step - loss: 0.4002 - accuracy: 0.9508 - val_loss: 0.5327 - val_accuracy: 0.8474\n",
      "Epoch 18/30\n",
      "376/376 [==============================] - 1s 2ms/step - loss: 0.3975 - accuracy: 0.9614 - val_loss: 0.5211 - val_accuracy: 0.8632\n",
      "Epoch 19/30\n",
      "376/376 [==============================] - 1s 2ms/step - loss: 0.4046 - accuracy: 0.9521 - val_loss: 0.5264 - val_accuracy: 0.8632\n",
      "Epoch 20/30\n",
      "376/376 [==============================] - 1s 2ms/step - loss: 0.3935 - accuracy: 0.9614 - val_loss: 0.5304 - val_accuracy: 0.8579\n",
      "Epoch 21/30\n",
      "376/376 [==============================] - 1s 2ms/step - loss: 0.3899 - accuracy: 0.9734 - val_loss: 0.5403 - val_accuracy: 0.8368\n",
      "Epoch 22/30\n",
      "376/376 [==============================] - 1s 2ms/step - loss: 0.3892 - accuracy: 0.9601 - val_loss: 0.5266 - val_accuracy: 0.8526\n",
      "Epoch 23/30\n",
      "376/376 [==============================] - 1s 2ms/step - loss: 0.3902 - accuracy: 0.9614 - val_loss: 0.5422 - val_accuracy: 0.8211\n",
      "Epoch 24/30\n",
      "376/376 [==============================] - 1s 2ms/step - loss: 0.3808 - accuracy: 0.9654 - val_loss: 0.5222 - val_accuracy: 0.8474\n",
      "Epoch 25/30\n",
      "376/376 [==============================] - 1s 2ms/step - loss: 0.3879 - accuracy: 0.9521 - val_loss: 0.5368 - val_accuracy: 0.8579\n",
      "Epoch 26/30\n",
      "376/376 [==============================] - 1s 2ms/step - loss: 0.3874 - accuracy: 0.9734 - val_loss: 0.5320 - val_accuracy: 0.8526\n",
      "Epoch 27/30\n",
      "376/376 [==============================] - 1s 2ms/step - loss: 0.3836 - accuracy: 0.9628 - val_loss: 0.5250 - val_accuracy: 0.8474\n",
      "Epoch 28/30\n",
      "376/376 [==============================] - 1s 2ms/step - loss: 0.3822 - accuracy: 0.9654 - val_loss: 0.5236 - val_accuracy: 0.8526\n",
      "Epoch 29/30\n",
      "376/376 [==============================] - 1s 2ms/step - loss: 0.3793 - accuracy: 0.9694 - val_loss: 0.5541 - val_accuracy: 0.8316\n",
      "Epoch 30/30\n",
      "376/376 [==============================] - 1s 2ms/step - loss: 0.3823 - accuracy: 0.9707 - val_loss: 0.5242 - val_accuracy: 0.8526\n",
      "Wall time: 31.8 s\n"
     ]
    }
   ],
   "source": [
    "%%time\n",
    "# compile and train the network\n",
    "model.compile(optimizer = 'rmsprop',\n",
    "              loss = 'binary_crossentropy',\n",
    "              metrics = ['accuracy'])\n",
    "\n",
    "# Use early stopping\n",
    "# callbacks = [EarlyStopping(monitor='val_loss')]\n",
    "\n",
    "history = model.fit(X_train, y_train,\n",
    "                   epochs = 30,\n",
    "                   batch_size = 64,\n",
    "                   validation_data = (X_val, y_val))"
   ]
  },
  {
   "cell_type": "markdown",
   "metadata": {},
   "source": [
    "## Plot"
   ]
  },
  {
   "cell_type": "code",
   "execution_count": 126,
   "metadata": {},
   "outputs": [
    {
     "data": {
      "image/png": "[encoded data removed]",
      "text/plain": [
       "<Figure size 720x432 with 2 Axes>"
      ]
     },
     "metadata": {
      "needs_background": "light"
     },
     "output_type": "display_data"
    }
   ],
   "source": [
    "# Plot model performance over epochs\n",
    "train_acc = history.history[\"accuracy\"] # train accuracy of each of the 10 train epoch\n",
    "validation_acc = history.history[\"val_accuracy\"]\n",
    "train_loss = history.history[\"loss\"]\n",
    "validation_loss = history.history[\"val_loss\"]\n",
    "epochs = range(1,len(train_acc)+1,1)\n",
    "\n",
    "fig, axes = plt.subplots(1,2, figsize=(10,6))\n",
    "axes[0].plot(epochs, train_acc, 'bo', label = \"Training acc\")\n",
    "axes[0].plot(epochs,validation_acc, 'b', label = \"Validation acc\")\n",
    "axes[0].set_title(\"Training and validation accuracy\")\n",
    "axes[0].set_ylabel(\"accuracy\")\n",
    "axes[0].set_xlabel(\"epoch\")\n",
    "\n",
    "\n",
    "axes[1].plot(epochs, train_loss, 'bo', label = \"Training loss\")\n",
    "axes[1].plot(epochs,validation_loss, 'b', label = \"Validation loss\")\n",
    "axes[1].set_title(\"Training and validation loss\")\n",
    "axes[1].set_ylabel(\"loss\")\n",
    "axes[1].set_xlabel(\"epoch\")\n",
    "\n",
    "plt.show()"
   ]
  },
  {
   "cell_type": "markdown",
   "metadata": {},
   "source": [
    "**Results**"
   ]
  },
  {
   "cell_type": "code",
   "execution_count": 127,
   "metadata": {},
   "outputs": [],
   "source": [
    "# Empty lists of model name and model performance metrics\n",
    "model_name, acc_score_list, precision_score_list, recall_score_list, f1_score_list = [], [], [], [], []"
   ]
  },
  {
   "cell_type": "code",
   "execution_count": 128,
   "metadata": {},
   "outputs": [],
   "source": [
    "# make predictions\n",
    "y_pred = model.predict(X_val)\n",
    "# Get the predicted class by taking the max probability\n",
    "y_pred_classes = np.argmax(y_pred,axis=1)\n",
    "# Get the predicted classes of y_val\n",
    "y_val_classes = [np.argmax(y, axis=None, out=None) for y in y_val]\n",
    "y_val_classes = np.asarray(y_val_classes)"
   ]
  },
  {
   "cell_type": "code",
   "execution_count": 129,
   "metadata": {},
   "outputs": [],
   "source": [
    "# Update model performance lists\n",
    "\n",
    "# Model performance\n",
    "acc_score_list.append(accuracy_score(y_val_classes, y_pred_classes))\n",
    "# compute precision of each class and take average\n",
    "precision_score_list.append(precision_score(y_val_classes, y_pred_classes)) \n",
    "recall_score_list.append(recall_score(y_val_classes, y_pred_classes))\n",
    "f1_score_list.append(f1_score(y_val_classes, y_pred_classes))\n",
    "# model name\n",
    "model_name.append(\"CNN (SeqReq)\")"
   ]
  },
  {
   "cell_type": "code",
   "execution_count": 130,
   "metadata": {},
   "outputs": [
    {
     "name": "stdout",
     "output_type": "stream",
     "text": [
      "model name: CNN(SeqReq) \n",
      "       accuracy: 0.8526315789473684 \n",
      "       precision: 0.8571428571428571 \n",
      "       recall: 0.7058823529411765 \n",
      "       f1: 0.7741935483870968\n"
     ]
    }
   ],
   "source": [
    "print(f\"model name: CNN(SeqReq) \\n \\\n",
    "      accuracy: {accuracy_score(y_val_classes, y_pred_classes)} \\n \\\n",
    "      precision: {precision_score(y_val_classes, y_pred_classes)} \\n \\\n",
    "      recall: {recall_score(y_val_classes, y_pred_classes)} \\n \\\n",
    "      f1: {f1_score(y_val_classes, y_pred_classes)}\")"
   ]
  },
  {
   "cell_type": "code",
   "execution_count": null,
   "metadata": {},
   "outputs": [],
   "source": []
  },
  {
   "cell_type": "markdown",
   "metadata": {
    "code_folding": []
   },
   "source": [
    "## Binary classification with the nfr_binary dataset"
   ]
  },
  {
   "cell_type": "markdown",
   "metadata": {},
   "source": [
    "**Process the text and build the embedding matrix**"
   ]
  },
  {
   "cell_type": "code",
   "execution_count": 131,
   "metadata": {},
   "outputs": [
    {
     "data": {
      "text/html": [
       "<div>\n",
       "<style scoped>\n",
       "    .dataframe tbody tr th:only-of-type {\n",
       "        vertical-align: middle;\n",
       "    }\n",
       "\n",
       "    .dataframe tbody tr th {\n",
       "        vertical-align: top;\n",
       "    }\n",
       "\n",
       "    .dataframe thead th {\n",
       "        text-align: right;\n",
       "    }\n",
       "</style>\n",
       "<table border=\"1\" class=\"dataframe\">\n",
       "  <thead>\n",
       "    <tr style=\"text-align: right;\">\n",
       "      <th></th>\n",
       "      <th>text</th>\n",
       "      <th>labels_num</th>\n",
       "    </tr>\n",
       "  </thead>\n",
       "  <tbody>\n",
       "    <tr>\n",
       "      <th>0</th>\n",
       "      <td>The system shall refresh the display every 60 ...</td>\n",
       "      <td>1</td>\n",
       "    </tr>\n",
       "    <tr>\n",
       "      <th>1</th>\n",
       "      <td>The application shall match the color of the s...</td>\n",
       "      <td>1</td>\n",
       "    </tr>\n",
       "    <tr>\n",
       "      <th>2</th>\n",
       "      <td>If projected  the data must be readable.  On ...</td>\n",
       "      <td>1</td>\n",
       "    </tr>\n",
       "    <tr>\n",
       "      <th>3</th>\n",
       "      <td>The product shall be available during normal ...</td>\n",
       "      <td>1</td>\n",
       "    </tr>\n",
       "    <tr>\n",
       "      <th>4</th>\n",
       "      <td>If projected  the data must be understandable...</td>\n",
       "      <td>1</td>\n",
       "    </tr>\n",
       "  </tbody>\n",
       "</table>\n",
       "</div>"
      ],
      "text/plain": [
       "                                                text  labels_num\n",
       "0  The system shall refresh the display every 60 ...           1\n",
       "1  The application shall match the color of the s...           1\n",
       "2   If projected  the data must be readable.  On ...           1\n",
       "3   The product shall be available during normal ...           1\n",
       "4   If projected  the data must be understandable...           1"
      ]
     },
     "execution_count": 131,
     "metadata": {},
     "output_type": "execute_result"
    }
   ],
   "source": [
    "nfr_binary.head()"
   ]
  },
  {
   "cell_type": "code",
   "execution_count": 132,
   "metadata": {
    "scrolled": true
   },
   "outputs": [
    {
     "name": "stdout",
     "output_type": "stream",
     "text": [
      "Found 1697 unique tokens.\n",
      "\n",
      "The shape of the data tensor is: (625, 75)\n",
      "\n",
      "The shape of the label tensor is: (625, 2)\n"
     ]
    }
   ],
   "source": [
    "texts = nfr_binary[\"text\"]\n",
    "labels = nfr_binary[\"labels_num\"] \n",
    "\n",
    "X_train, X_val, y_train, y_val, embedding_matrix = keras_processing(texts, labels, max_words=1000, maxlen= 75) "
   ]
  },
  {
   "cell_type": "markdown",
   "metadata": {},
   "source": [
    "**Modelling**"
   ]
  },
  {
   "cell_type": "code",
   "execution_count": 133,
   "metadata": {},
   "outputs": [],
   "source": [
    "sequence_length = X_train.shape[1] # number of words in each doc\n",
    "filter_sizes = [1,2] # filter size for conv layer 1, and for conv layer 2  (consider unigrams and bigrams)\n",
    "num_filters = 64 # number of filters for each conv layer\n",
    "drop = 0.5  # probability of dropping neurons\n",
    "\n",
    "vocabulary_size = embedding_matrix.shape[0]\n",
    "embedding_dim = embedding_matrix.shape[1]"
   ]
  },
  {
   "cell_type": "code",
   "execution_count": 134,
   "metadata": {},
   "outputs": [],
   "source": [
    "embedding_layer = Embedding(vocabulary_size,\n",
    "                            embedding_dim,\n",
    "                            weights=[embedding_matrix],\n",
    "                            trainable=False)"
   ]
  },
  {
   "cell_type": "code",
   "execution_count": 135,
   "metadata": {},
   "outputs": [],
   "source": [
    "inputs = Input(shape=(sequence_length,))\n",
    "embedding = embedding_layer(inputs)\n",
    "reshape = Reshape((sequence_length,embedding_dim,1))(embedding)  \n",
    "conv_0 = Conv2D(num_filters, \n",
    "                (filter_sizes[0], embedding_dim),  \n",
    "                activation='relu', \n",
    "                kernel_regularizer=regularizers.l2(0.01))(reshape)\n",
    "conv_1 = Conv2D(num_filters, \n",
    "                (filter_sizes[1], embedding_dim),\n",
    "                activation='relu',\n",
    "                kernel_regularizer=regularizers.l2(0.01))(reshape)\n",
    "maxpool_0 = MaxPooling2D((sequence_length - filter_sizes[0] + 1, 1), strides=(1,1))(conv_0) # size of 1x100\n",
    "maxpool_1 = MaxPooling2D((sequence_length - filter_sizes[1] + 1, 1), strides=(1,1))(conv_1)\n",
    "merged_tensor = concatenate([maxpool_0, maxpool_1], axis=1) \n",
    "flatten = Flatten()(merged_tensor) \n",
    "dropout = Dropout(drop)(flatten)\n",
    "output = Dense(2, activation='sigmoid',kernel_regularizer=regularizers.l2(0.01))(dropout)"
   ]
  },
  {
   "cell_type": "code",
   "execution_count": 136,
   "metadata": {},
   "outputs": [
    {
     "name": "stdout",
     "output_type": "stream",
     "text": [
      "Model: \"model_5\"\n",
      "__________________________________________________________________________________________________\n",
      "Layer (type)                    Output Shape         Param #     Connected to                     \n",
      "==================================================================================================\n",
      "input_5 (InputLayer)            (None, 75)           0                                            \n",
      "__________________________________________________________________________________________________\n",
      "embedding_5 (Embedding)         (None, 75, 300)      300000      input_5[0][0]                    \n",
      "__________________________________________________________________________________________________\n",
      "reshape_5 (Reshape)             (None, 75, 300, 1)   0           embedding_5[0][0]                \n",
      "__________________________________________________________________________________________________\n",
      "conv2d_9 (Conv2D)               (None, 75, 1, 64)    19264       reshape_5[0][0]                  \n",
      "__________________________________________________________________________________________________\n",
      "conv2d_10 (Conv2D)              (None, 74, 1, 64)    38464       reshape_5[0][0]                  \n",
      "__________________________________________________________________________________________________\n",
      "max_pooling2d_9 (MaxPooling2D)  (None, 1, 1, 64)     0           conv2d_9[0][0]                   \n",
      "__________________________________________________________________________________________________\n",
      "max_pooling2d_10 (MaxPooling2D) (None, 1, 1, 64)     0           conv2d_10[0][0]                  \n",
      "__________________________________________________________________________________________________\n",
      "concatenate_5 (Concatenate)     (None, 2, 1, 64)     0           max_pooling2d_9[0][0]            \n",
      "                                                                 max_pooling2d_10[0][0]           \n",
      "__________________________________________________________________________________________________\n",
      "flatten_5 (Flatten)             (None, 128)          0           concatenate_5[0][0]              \n",
      "__________________________________________________________________________________________________\n",
      "dropout_5 (Dropout)             (None, 128)          0           flatten_5[0][0]                  \n",
      "__________________________________________________________________________________________________\n",
      "dense_5 (Dense)                 (None, 2)            258         dropout_5[0][0]                  \n",
      "==================================================================================================\n",
      "Total params: 357,986\n",
      "Trainable params: 57,986\n",
      "Non-trainable params: 300,000\n",
      "__________________________________________________________________________________________________\n"
     ]
    }
   ],
   "source": [
    "# Creates a model class with takes a Keras.Input object and the outputs of the model as argument\n",
    "model = Model(inputs, output)\n",
    "model.summary()"
   ]
  },
  {
   "cell_type": "markdown",
   "metadata": {},
   "source": [
    "**Train Model**"
   ]
  },
  {
   "cell_type": "code",
   "execution_count": 137,
   "metadata": {},
   "outputs": [
    {
     "name": "stdout",
     "output_type": "stream",
     "text": [
      "Wall time: 1min 3s\n"
     ]
    }
   ],
   "source": [
    "%%time\n",
    "# compile and train the network\n",
    "model.compile(optimizer = 'rmsprop',\n",
    "              loss = 'binary_crossentropy',\n",
    "              metrics = ['accuracy'])\n",
    "\n",
    "# Use early stopping\n",
    "# callbacks = [EarlyStopping(monitor='val_loss')]\n",
    "\n",
    "history = model.fit(X_train, y_train,\n",
    "                   epochs = 100,\n",
    "                   batch_size = 64,\n",
    "                   validation_data = (X_val, y_val),\n",
    "                   verbose = 0)"
   ]
  },
  {
   "cell_type": "code",
   "execution_count": 138,
   "metadata": {},
   "outputs": [
    {
     "data": {
      "image/png": "[encoded data removed]",
      "text/plain": [
       "<Figure size 720x432 with 2 Axes>"
      ]
     },
     "metadata": {
      "needs_background": "light"
     },
     "output_type": "display_data"
    }
   ],
   "source": [
    "# Plot model performance over epochs\n",
    "train_acc = history.history[\"accuracy\"] # train accuracy of each of the 10 train epoch\n",
    "validation_acc = history.history[\"val_accuracy\"]\n",
    "train_loss = history.history[\"loss\"]\n",
    "validation_loss = history.history[\"val_loss\"]\n",
    "epochs = range(1,len(train_acc)+1,1)\n",
    "\n",
    "fig, axes = plt.subplots(1,2, figsize=(10,6))\n",
    "axes[0].plot(epochs, train_acc, 'bo', label = \"Training acc\")\n",
    "axes[0].plot(epochs,validation_acc, 'b', label = \"Validation acc\")\n",
    "axes[0].set_title(\"Training and validation accuracy\")\n",
    "axes[0].set_ylabel(\"accuracy\")\n",
    "axes[0].set_xlabel(\"epoch\")\n",
    "\n",
    "\n",
    "axes[1].plot(epochs, train_loss, 'bo', label = \"Training loss\")\n",
    "axes[1].plot(epochs,validation_loss, 'b', label = \"Validation loss\")\n",
    "axes[1].set_title(\"Training and validation loss\")\n",
    "axes[1].set_ylabel(\"loss\")\n",
    "axes[1].set_xlabel(\"epoch\")\n",
    "\n",
    "plt.show()"
   ]
  },
  {
   "cell_type": "markdown",
   "metadata": {},
   "source": [
    "**Results**"
   ]
  },
  {
   "cell_type": "code",
   "execution_count": 139,
   "metadata": {},
   "outputs": [],
   "source": [
    "# make predictions\n",
    "y_pred = model.predict(X_val)\n",
    "# Get the predicted class by taking the max probability\n",
    "y_pred_classes = np.argmax(y_pred,axis=1)\n",
    "# Get the predicted classes of y_val\n",
    "y_val_classes = [np.argmax(y, axis=None, out=None) for y in y_val]\n",
    "y_val_classes = np.asarray(y_val_classes)"
   ]
  },
  {
   "cell_type": "code",
   "execution_count": 140,
   "metadata": {},
   "outputs": [],
   "source": [
    "# Update model performance lists\n",
    "\n",
    "# Model performance\n",
    "acc_score_list.append(accuracy_score(y_val_classes, y_pred_classes))\n",
    "# compute precision of each class and take average\n",
    "precision_score_list.append(precision_score(y_val_classes, y_pred_classes)) \n",
    "recall_score_list.append(recall_score(y_val_classes, y_pred_classes))\n",
    "f1_score_list.append(f1_score(y_val_classes, y_pred_classes))\n",
    "# model name\n",
    "model_name.append(\"CNN (nfr_binary)\")"
   ]
  },
  {
   "cell_type": "code",
   "execution_count": 141,
   "metadata": {},
   "outputs": [
    {
     "name": "stdout",
     "output_type": "stream",
     "text": [
      "model name: CNN(nfr_binary) \n",
      "       accuracy: 0.848 \n",
      "       precision: 0.8313253012048193 \n",
      "       recall: 0.9324324324324325 \n",
      "       f1: 0.8789808917197452\n"
     ]
    }
   ],
   "source": [
    "print(f\"model name: CNN(nfr_binary) \\n \\\n",
    "      accuracy: {accuracy_score(y_val_classes, y_pred_classes)} \\n \\\n",
    "      precision: {precision_score(y_val_classes, y_pred_classes)} \\n \\\n",
    "      recall: {recall_score(y_val_classes, y_pred_classes)} \\n \\\n",
    "      f1: {f1_score(y_val_classes, y_pred_classes)}\")"
   ]
  },
  {
   "cell_type": "code",
   "execution_count": null,
   "metadata": {},
   "outputs": [],
   "source": []
  },
  {
   "cell_type": "markdown",
   "metadata": {},
   "source": [
    "## Multi-class classification with the nfr dataset"
   ]
  },
  {
   "cell_type": "markdown",
   "metadata": {},
   "source": [
    "**Process the text and build the embedding matrix**"
   ]
  },
  {
   "cell_type": "code",
   "execution_count": 142,
   "metadata": {
    "scrolled": false
   },
   "outputs": [
    {
     "data": {
      "text/html": [
       "<div>\n",
       "<style scoped>\n",
       "    .dataframe tbody tr th:only-of-type {\n",
       "        vertical-align: middle;\n",
       "    }\n",
       "\n",
       "    .dataframe tbody tr th {\n",
       "        vertical-align: top;\n",
       "    }\n",
       "\n",
       "    .dataframe thead th {\n",
       "        text-align: right;\n",
       "    }\n",
       "</style>\n",
       "<table border=\"1\" class=\"dataframe\">\n",
       "  <thead>\n",
       "    <tr style=\"text-align: right;\">\n",
       "      <th></th>\n",
       "      <th>text</th>\n",
       "      <th>labels_num</th>\n",
       "    </tr>\n",
       "  </thead>\n",
       "  <tbody>\n",
       "    <tr>\n",
       "      <th>0</th>\n",
       "      <td>The system shall refresh the display every 60 ...</td>\n",
       "      <td>3</td>\n",
       "    </tr>\n",
       "    <tr>\n",
       "      <th>1</th>\n",
       "      <td>The application shall match the color of the s...</td>\n",
       "      <td>1</td>\n",
       "    </tr>\n",
       "    <tr>\n",
       "      <th>2</th>\n",
       "      <td>If projected  the data must be readable.  On ...</td>\n",
       "      <td>5</td>\n",
       "    </tr>\n",
       "    <tr>\n",
       "      <th>3</th>\n",
       "      <td>The product shall be available during normal ...</td>\n",
       "      <td>6</td>\n",
       "    </tr>\n",
       "    <tr>\n",
       "      <th>4</th>\n",
       "      <td>If projected  the data must be understandable...</td>\n",
       "      <td>5</td>\n",
       "    </tr>\n",
       "  </tbody>\n",
       "</table>\n",
       "</div>"
      ],
      "text/plain": [
       "                                                text  labels_num\n",
       "0  The system shall refresh the display every 60 ...           3\n",
       "1  The application shall match the color of the s...           1\n",
       "2   If projected  the data must be readable.  On ...           5\n",
       "3   The product shall be available during normal ...           6\n",
       "4   If projected  the data must be understandable...           5"
      ]
     },
     "execution_count": 142,
     "metadata": {},
     "output_type": "execute_result"
    }
   ],
   "source": [
    "nfr.head()"
   ]
  },
  {
   "cell_type": "code",
   "execution_count": 143,
   "metadata": {},
   "outputs": [
    {
     "name": "stdout",
     "output_type": "stream",
     "text": [
      "Found 1338 unique tokens.\n",
      "\n",
      "The shape of the data tensor is: (370, 75)\n",
      "\n",
      "The shape of the label tensor is: (370, 6)\n"
     ]
    }
   ],
   "source": [
    "texts = nfr[\"text\"]\n",
    "labels = nfr[\"labels_num\"] -1 # shift all labels_num to the left\n",
    "\n",
    "X_train, X_val, y_train, y_val, embedding_matrix = keras_processing(texts, labels, max_words=1000, maxlen= 75) "
   ]
  },
  {
   "cell_type": "markdown",
   "metadata": {},
   "source": [
    "**Modelling**"
   ]
  },
  {
   "cell_type": "code",
   "execution_count": 144,
   "metadata": {},
   "outputs": [],
   "source": [
    "sequence_length = X_train.shape[1] # number of words in each doc\n",
    "filter_sizes = [1,2] # filter size for conv layer 1, and for conv layer 2  (consider unigrams and bigrams)\n",
    "num_filters = 64 # number of filters for each conv layer\n",
    "drop = 0.5  # probability of dropping neurons\n",
    "\n",
    "vocabulary_size = embedding_matrix.shape[0]\n",
    "embedding_dim = embedding_matrix.shape[1]"
   ]
  },
  {
   "cell_type": "code",
   "execution_count": 145,
   "metadata": {},
   "outputs": [],
   "source": [
    "embedding_layer = Embedding(vocabulary_size,\n",
    "                            embedding_dim,\n",
    "                            weights=[embedding_matrix],\n",
    "                            trainable=False)"
   ]
  },
  {
   "cell_type": "code",
   "execution_count": 146,
   "metadata": {},
   "outputs": [],
   "source": [
    "inputs = Input(shape=(sequence_length,))\n",
    "embedding = embedding_layer(inputs)\n",
    "reshape = Reshape((sequence_length,embedding_dim,1))(embedding)  \n",
    "conv_0 = Conv2D(num_filters, \n",
    "                (filter_sizes[0], embedding_dim),  \n",
    "                activation='relu', \n",
    "                kernel_regularizer=regularizers.l2(0.01))(reshape)\n",
    "conv_1 = Conv2D(num_filters, \n",
    "                (filter_sizes[1], embedding_dim),\n",
    "                activation='relu',\n",
    "                kernel_regularizer=regularizers.l2(0.01))(reshape)\n",
    "maxpool_0 = MaxPooling2D((sequence_length - filter_sizes[0] + 1, 1), strides=(1,1))(conv_0) # size of 1x100\n",
    "maxpool_1 = MaxPooling2D((sequence_length - filter_sizes[1] + 1, 1), strides=(1,1))(conv_1)\n",
    "merged_tensor = concatenate([maxpool_0, maxpool_1], axis=1) \n",
    "flatten = Flatten()(merged_tensor) \n",
    "dropout = Dropout(drop)(flatten)\n",
    "output = Dense(6, activation='softmax',kernel_regularizer=regularizers.l2(0.01))(dropout)"
   ]
  },
  {
   "cell_type": "code",
   "execution_count": 147,
   "metadata": {},
   "outputs": [
    {
     "name": "stdout",
     "output_type": "stream",
     "text": [
      "Model: \"model_6\"\n",
      "__________________________________________________________________________________________________\n",
      "Layer (type)                    Output Shape         Param #     Connected to                     \n",
      "==================================================================================================\n",
      "input_6 (InputLayer)            (None, 75)           0                                            \n",
      "__________________________________________________________________________________________________\n",
      "embedding_6 (Embedding)         (None, 75, 300)      300000      input_6[0][0]                    \n",
      "__________________________________________________________________________________________________\n",
      "reshape_6 (Reshape)             (None, 75, 300, 1)   0           embedding_6[0][0]                \n",
      "__________________________________________________________________________________________________\n",
      "conv2d_11 (Conv2D)              (None, 75, 1, 64)    19264       reshape_6[0][0]                  \n",
      "__________________________________________________________________________________________________\n",
      "conv2d_12 (Conv2D)              (None, 74, 1, 64)    38464       reshape_6[0][0]                  \n",
      "__________________________________________________________________________________________________\n",
      "max_pooling2d_11 (MaxPooling2D) (None, 1, 1, 64)     0           conv2d_11[0][0]                  \n",
      "__________________________________________________________________________________________________\n",
      "max_pooling2d_12 (MaxPooling2D) (None, 1, 1, 64)     0           conv2d_12[0][0]                  \n",
      "__________________________________________________________________________________________________\n",
      "concatenate_6 (Concatenate)     (None, 2, 1, 64)     0           max_pooling2d_11[0][0]           \n",
      "                                                                 max_pooling2d_12[0][0]           \n",
      "__________________________________________________________________________________________________\n",
      "flatten_6 (Flatten)             (None, 128)          0           concatenate_6[0][0]              \n",
      "__________________________________________________________________________________________________\n",
      "dropout_6 (Dropout)             (None, 128)          0           flatten_6[0][0]                  \n",
      "__________________________________________________________________________________________________\n",
      "dense_6 (Dense)                 (None, 6)            774         dropout_6[0][0]                  \n",
      "==================================================================================================\n",
      "Total params: 358,502\n",
      "Trainable params: 58,502\n",
      "Non-trainable params: 300,000\n",
      "__________________________________________________________________________________________________\n"
     ]
    }
   ],
   "source": [
    "# Creates a model class with takes a Keras.Input object and the outputs of the model as argument\n",
    "model = Model(inputs, output)\n",
    "model.summary()"
   ]
  },
  {
   "cell_type": "markdown",
   "metadata": {},
   "source": [
    "**Train Model**"
   ]
  },
  {
   "cell_type": "code",
   "execution_count": 148,
   "metadata": {},
   "outputs": [
    {
     "name": "stdout",
     "output_type": "stream",
     "text": [
      "Wall time: 49 s\n"
     ]
    }
   ],
   "source": [
    "%%time\n",
    "# compile and train the network\n",
    "model.compile(optimizer = 'rmsprop',\n",
    "              loss = 'categorical_crossentropy',\n",
    "              metrics = ['accuracy'])\n",
    "\n",
    "# Use early stopping\n",
    "# callbacks = [EarlyStopping(monitor='val_loss')]\n",
    "\n",
    "history = model.fit(X_train, y_train,\n",
    "                   epochs = 140,\n",
    "                   batch_size = 128,\n",
    "                   validation_data = (X_val, y_val),\n",
    "                   verbose = 0)"
   ]
  },
  {
   "cell_type": "markdown",
   "metadata": {},
   "source": [
    "**Plot**"
   ]
  },
  {
   "cell_type": "code",
   "execution_count": 149,
   "metadata": {},
   "outputs": [
    {
     "data": {
      "image/png": "[encoded data removed]",
      "text/plain": [
       "<Figure size 720x432 with 2 Axes>"
      ]
     },
     "metadata": {
      "needs_background": "light"
     },
     "output_type": "display_data"
    }
   ],
   "source": [
    "# Plot model performance over epochs\n",
    "train_acc = history.history[\"accuracy\"] # train accuracy of each of the 10 train epoch\n",
    "validation_acc = history.history[\"val_accuracy\"]\n",
    "train_loss = history.history[\"loss\"]\n",
    "validation_loss = history.history[\"val_loss\"]\n",
    "epochs = range(1,len(train_acc)+1,1)\n",
    "\n",
    "fig, axes = plt.subplots(1,2, figsize=(10,6))\n",
    "axes[0].plot(epochs, train_acc, 'bo', label = \"Training acc\")\n",
    "axes[0].plot(epochs,validation_acc, 'b', label = \"Validation acc\")\n",
    "axes[0].set_title(\"Training and validation accuracy\")\n",
    "axes[0].set_ylabel(\"accuracy\")\n",
    "axes[0].set_xlabel(\"epoch\")\n",
    "\n",
    "\n",
    "axes[1].plot(epochs, train_loss, 'bo', label = \"Training loss\")\n",
    "axes[1].plot(epochs,validation_loss, 'b', label = \"Validation loss\")\n",
    "axes[1].set_title(\"Training and validation loss\")\n",
    "axes[1].set_ylabel(\"loss\")\n",
    "axes[1].set_xlabel(\"epoch\")\n",
    "\n",
    "plt.show()"
   ]
  },
  {
   "cell_type": "markdown",
   "metadata": {},
   "source": [
    "**Results**"
   ]
  },
  {
   "cell_type": "code",
   "execution_count": 150,
   "metadata": {},
   "outputs": [
    {
     "name": "stdout",
     "output_type": "stream",
     "text": [
      "74/74 [==============================] - 0s 446us/step\n"
     ]
    },
    {
     "data": {
      "text/plain": [
       "[1.2637582083006162, 0.7567567825317383]"
      ]
     },
     "execution_count": 150,
     "metadata": {},
     "output_type": "execute_result"
    }
   ],
   "source": [
    "model.evaluate(X_val, y_val)"
   ]
  },
  {
   "cell_type": "code",
   "execution_count": 151,
   "metadata": {},
   "outputs": [],
   "source": [
    "# make predictions\n",
    "y_pred = model.predict(X_val)\n",
    "# Get the predicted class by taking the max probability\n",
    "y_pred_classes = np.argmax(y_pred,axis=1)\n",
    "# Get the predicted classes of y_val\n",
    "y_val_classes = [np.argmax(y, axis=None, out=None) for y in y_val]\n",
    "y_val_classes = np.asarray(y_val_classes)"
   ]
  },
  {
   "cell_type": "code",
   "execution_count": 152,
   "metadata": {},
   "outputs": [],
   "source": [
    "# Update model performance lists\n",
    "acc = accuracy_score(y_val_classes, y_pred_classes)\n",
    "precision = precision_score(y_val_classes, y_pred_classes, average=\"macro\")\n",
    "recall = recall_score(y_val_classes, y_pred_classes,average=\"macro\")\n",
    "f1 = f1_score(y_val_classes, y_pred_classes,average=\"macro\")\n",
    "\n",
    "# Model performance\n",
    "acc_score_list.append(acc)\n",
    "# compute precision of each class and take average\n",
    "precision_score_list.append(precision) \n",
    "recall_score_list.append(recall)\n",
    "f1_score_list.append(f1)\n",
    "# model name\n",
    "model_name.append(\"CNN (nfr_multiclass)\")"
   ]
  },
  {
   "cell_type": "code",
   "execution_count": 153,
   "metadata": {},
   "outputs": [
    {
     "name": "stdout",
     "output_type": "stream",
     "text": [
      "model name: CNN(nfr_multiclass) \n",
      "       accuracy: 0.7567567567567568 \n",
      "       precision: 0.8142156862745099 \n",
      "       recall: 0.7484802778920426 \n",
      "       f1: 0.7615158247206928\n"
     ]
    }
   ],
   "source": [
    "print(f\"model name: CNN(nfr_multiclass) \\n \\\n",
    "      accuracy: {acc} \\n \\\n",
    "      precision: {precision} \\n \\\n",
    "      recall: {recall} \\n \\\n",
    "      f1: {f1}\") "
   ]
  },
  {
   "cell_type": "markdown",
   "metadata": {},
   "source": [
    "**Confusion matrix**"
   ]
  },
  {
   "cell_type": "code",
   "execution_count": 154,
   "metadata": {},
   "outputs": [
    {
     "data": {
      "text/plain": [
       "array([[ 4,  2,  0,  0,  2,  0],\n",
       "       [ 0, 10,  0,  0,  1,  1],\n",
       "       [ 0,  0,  9,  0,  0,  2],\n",
       "       [ 0,  1,  0, 11,  0,  1],\n",
       "       [ 0,  0,  0,  0, 11,  2],\n",
       "       [ 0,  4,  0,  1,  1, 11]], dtype=int64)"
      ]
     },
     "execution_count": 154,
     "metadata": {},
     "output_type": "execute_result"
    }
   ],
   "source": [
    "conf_mat = confusion_matrix(y_val_classes, y_pred_classes)\n",
    "conf_mat"
   ]
  },
  {
   "cell_type": "markdown",
   "metadata": {},
   "source": [
    "**The diagonal elements are correctly predicted by the model.  I see small off-diagonal values.**"
   ]
  },
  {
   "cell_type": "code",
   "execution_count": 155,
   "metadata": {},
   "outputs": [],
   "source": [
    "label_dict = {\"LF\":0, \"O\":1, \"PE\":2, \"SE\":3, \"US\":4, \"others\":5} # mapping of labels and label_num"
   ]
  },
  {
   "cell_type": "code",
   "execution_count": 156,
   "metadata": {},
   "outputs": [
    {
     "data": {
      "image/png": "[encoded data removed]",
      "text/plain": [
       "<Figure size 720x720 with 2 Axes>"
      ]
     },
     "metadata": {
      "needs_background": "light"
     },
     "output_type": "display_data"
    }
   ],
   "source": [
    "fig, ax = plt.subplots(figsize=(10,10))\n",
    "\n",
    "sns.heatmap(conf_mat, annot=True, fmt='d', xticklabels=list(label_dict.keys()),  yticklabels=list(label_dict.keys()))\n",
    "plt.ylabel('Actual')\n",
    "plt.xlabel('Predicted')\n",
    "plt.savefig(\"../outputs/multi_class_classification_cnn_cm.jpeg\")\n",
    "plt.show()"
   ]
  },
  {
   "cell_type": "code",
   "execution_count": 157,
   "metadata": {},
   "outputs": [
    {
     "name": "stdout",
     "output_type": "stream",
     "text": [
      "              precision    recall  f1-score   support\n",
      "\n",
      "          LF       1.00      0.50      0.67         8\n",
      "           O       0.59      0.83      0.69        12\n",
      "          PE       1.00      0.82      0.90        11\n",
      "          SE       0.92      0.85      0.88        13\n",
      "          US       0.73      0.85      0.79        13\n",
      "      others       0.65      0.65      0.65        17\n",
      "\n",
      "    accuracy                           0.76        74\n",
      "   macro avg       0.81      0.75      0.76        74\n",
      "weighted avg       0.79      0.76      0.76        74\n",
      "\n"
     ]
    }
   ],
   "source": [
    "print(classification_report(y_val_classes, y_pred_classes, target_names=list(label_dict.keys())))"
   ]
  },
  {
   "cell_type": "markdown",
   "metadata": {},
   "source": [
    "**Thoughts**\n",
    "\n",
    "The CNN model outperforms the SVC model for almost all classes (except for others). Despite the fact that CNN models require a large set of training data, we were able to compensate for this weakness with pre-trained word-embeddings."
   ]
  },
  {
   "cell_type": "code",
   "execution_count": null,
   "metadata": {},
   "outputs": [],
   "source": []
  },
  {
   "cell_type": "markdown",
   "metadata": {},
   "source": [
    "## Model Comparison\n",
    "- Compare CNN against \"traditional\" statistical learning methods for:\n",
    "    - SecReq Binary Classification (Security-related /Non-Security-related)\n",
    "    - nfr binary classification (Functional requirements/ Non-functional requirements)\n",
    "    - nfr multiclass classification (6 types of non-functional requirements)"
   ]
  },
  {
   "cell_type": "markdown",
   "metadata": {},
   "source": [
    "**Import results of traditional statistical learning methods**"
   ]
  },
  {
   "cell_type": "code",
   "execution_count": 161,
   "metadata": {},
   "outputs": [],
   "source": [
    "binary_results_trad = pd.read_csv(\"../outputs/binary_classification_results_traditional.csv\")\n",
    "multiclass_results_trad = pd.read_csv(\"../outputs/multiclass_results_traditional.csv\")"
   ]
  },
  {
   "cell_type": "code",
   "execution_count": 162,
   "metadata": {},
   "outputs": [],
   "source": [
    "binary_results_cnn = pd.DataFrame({\"dataset\":[\"SecReq\", \"nfr_binary\"],\n",
    "                                   \"wv_type\":[\"pre_trained_wv\", \"pre_trained_wv\"], \n",
    "                                   \"model_name\":[\"CNN\", \"CNN\"],\n",
    "                                   \"accuracy_score\":[acc_score_list[0], acc_score_list[1]],\n",
    "                                   \"precision_score\":[precision_score_list[0], precision_score_list[1]],\n",
    "                                   \"recall_score\":[recall_score_list[0], recall_score_list[1]],\n",
    "                                   \"f1_score\":[f1_score_list[0], f1_score_list[1]]})"
   ]
  },
  {
   "cell_type": "code",
   "execution_count": 163,
   "metadata": {},
   "outputs": [],
   "source": [
    "multiclass_results_cnn =  pd.DataFrame({\"dataset\":[\"nfr\"],\n",
    "                                   \"wv_type\":[\"pre_trained_wv\"], \n",
    "                                   \"model_name\":[\"CNN\"],\n",
    "                                   \"accuracy_score\":[acc_score_list[2]],\n",
    "                                   \"precision_score\":[precision_score_list[2]],\n",
    "                                   \"recall_score\":[recall_score_list[2]],\n",
    "                                   \"f1_score\":[f1_score_list[2]]})"
   ]
  },
  {
   "cell_type": "markdown",
   "metadata": {},
   "source": [
    "**Binary Classification Results**"
   ]
  },
  {
   "cell_type": "code",
   "execution_count": 168,
   "metadata": {},
   "outputs": [],
   "source": [
    "binary_results_all = pd.concat([binary_results_trad,binary_results_cnn], axis= 0)\n",
    "binary_results_all= binary_results_all.groupby(['dataset'], sort=False).apply(lambda x: x.sort_values([\"f1_score\"], \n",
    "                                                                                                      ascending=False))\n",
    "binary_results_all.to_csv(\"../outputs/final_model_comparison/binary_classification_results.csv\", index=False)"
   ]
  },
  {
   "cell_type": "code",
   "execution_count": 170,
   "metadata": {},
   "outputs": [
    {
     "data": {
      "text/html": [
       "<div>\n",
       "<style scoped>\n",
       "    .dataframe tbody tr th:only-of-type {\n",
       "        vertical-align: middle;\n",
       "    }\n",
       "\n",
       "    .dataframe tbody tr th {\n",
       "        vertical-align: top;\n",
       "    }\n",
       "\n",
       "    .dataframe thead th {\n",
       "        text-align: right;\n",
       "    }\n",
       "</style>\n",
       "<table border=\"1\" class=\"dataframe\">\n",
       "  <thead>\n",
       "    <tr style=\"text-align: right;\">\n",
       "      <th></th>\n",
       "      <th></th>\n",
       "      <th>dataset</th>\n",
       "      <th>wv_type</th>\n",
       "      <th>model_name</th>\n",
       "      <th>accuracy_score</th>\n",
       "      <th>precision_score</th>\n",
       "      <th>recall_score</th>\n",
       "      <th>f1_score</th>\n",
       "    </tr>\n",
       "    <tr>\n",
       "      <th>dataset</th>\n",
       "      <th></th>\n",
       "      <th></th>\n",
       "      <th></th>\n",
       "      <th></th>\n",
       "      <th></th>\n",
       "      <th></th>\n",
       "      <th></th>\n",
       "      <th></th>\n",
       "    </tr>\n",
       "  </thead>\n",
       "  <tbody>\n",
       "    <tr>\n",
       "      <th rowspan=\"7\" valign=\"top\">SecReq</th>\n",
       "      <th>6</th>\n",
       "      <td>SecReq</td>\n",
       "      <td>pre_trained_wv</td>\n",
       "      <td>AdaBoostClassifier</td>\n",
       "      <td>0.894366</td>\n",
       "      <td>0.884188</td>\n",
       "      <td>0.887417</td>\n",
       "      <td>0.885748</td>\n",
       "    </tr>\n",
       "    <tr>\n",
       "      <th>0</th>\n",
       "      <td>SecReq</td>\n",
       "      <td>tfidf</td>\n",
       "      <td>SVC</td>\n",
       "      <td>0.880282</td>\n",
       "      <td>0.871087</td>\n",
       "      <td>0.867809</td>\n",
       "      <td>0.869393</td>\n",
       "    </tr>\n",
       "    <tr>\n",
       "      <th>7</th>\n",
       "      <td>SecReq</td>\n",
       "      <td>pre_trained_wv</td>\n",
       "      <td>SVC</td>\n",
       "      <td>0.866197</td>\n",
       "      <td>0.858156</td>\n",
       "      <td>0.848201</td>\n",
       "      <td>0.852689</td>\n",
       "    </tr>\n",
       "    <tr>\n",
       "      <th>1</th>\n",
       "      <td>SecReq</td>\n",
       "      <td>tfidf</td>\n",
       "      <td>AdaBoostClassifier</td>\n",
       "      <td>0.852113</td>\n",
       "      <td>0.845335</td>\n",
       "      <td>0.828593</td>\n",
       "      <td>0.835603</td>\n",
       "    </tr>\n",
       "    <tr>\n",
       "      <th>8</th>\n",
       "      <td>SecReq</td>\n",
       "      <td>pre_trained_wv</td>\n",
       "      <td>RandomForestClassifier</td>\n",
       "      <td>0.816901</td>\n",
       "      <td>0.809490</td>\n",
       "      <td>0.783883</td>\n",
       "      <td>0.793281</td>\n",
       "    </tr>\n",
       "    <tr>\n",
       "      <th>2</th>\n",
       "      <td>SecReq</td>\n",
       "      <td>tfidf</td>\n",
       "      <td>RandomForestClassifier</td>\n",
       "      <td>0.816901</td>\n",
       "      <td>0.830441</td>\n",
       "      <td>0.766645</td>\n",
       "      <td>0.783181</td>\n",
       "    </tr>\n",
       "    <tr>\n",
       "      <th>0</th>\n",
       "      <td>SecReq</td>\n",
       "      <td>pre_trained_wv</td>\n",
       "      <td>CNN</td>\n",
       "      <td>0.852632</td>\n",
       "      <td>0.857143</td>\n",
       "      <td>0.705882</td>\n",
       "      <td>0.774194</td>\n",
       "    </tr>\n",
       "    <tr>\n",
       "      <th rowspan=\"7\" valign=\"top\">nfr_binary</th>\n",
       "      <th>1</th>\n",
       "      <td>nfr_binary</td>\n",
       "      <td>pre_trained_wv</td>\n",
       "      <td>CNN</td>\n",
       "      <td>0.848000</td>\n",
       "      <td>0.831325</td>\n",
       "      <td>0.932432</td>\n",
       "      <td>0.878981</td>\n",
       "    </tr>\n",
       "    <tr>\n",
       "      <th>3</th>\n",
       "      <td>nfr_binary</td>\n",
       "      <td>tfidf</td>\n",
       "      <td>SVC</td>\n",
       "      <td>0.877660</td>\n",
       "      <td>0.875415</td>\n",
       "      <td>0.870539</td>\n",
       "      <td>0.872730</td>\n",
       "    </tr>\n",
       "    <tr>\n",
       "      <th>9</th>\n",
       "      <td>nfr_binary</td>\n",
       "      <td>pre_trained_wv</td>\n",
       "      <td>SVC</td>\n",
       "      <td>0.877660</td>\n",
       "      <td>0.875415</td>\n",
       "      <td>0.870539</td>\n",
       "      <td>0.872730</td>\n",
       "    </tr>\n",
       "    <tr>\n",
       "      <th>10</th>\n",
       "      <td>nfr_binary</td>\n",
       "      <td>pre_trained_wv</td>\n",
       "      <td>RandomForestClassifier</td>\n",
       "      <td>0.856383</td>\n",
       "      <td>0.868280</td>\n",
       "      <td>0.836609</td>\n",
       "      <td>0.845916</td>\n",
       "    </tr>\n",
       "    <tr>\n",
       "      <th>4</th>\n",
       "      <td>nfr_binary</td>\n",
       "      <td>tfidf</td>\n",
       "      <td>RandomForestClassifier</td>\n",
       "      <td>0.835106</td>\n",
       "      <td>0.852122</td>\n",
       "      <td>0.810635</td>\n",
       "      <td>0.820870</td>\n",
       "    </tr>\n",
       "    <tr>\n",
       "      <th>5</th>\n",
       "      <td>nfr_binary</td>\n",
       "      <td>tfidf</td>\n",
       "      <td>AdaBoostClassifier</td>\n",
       "      <td>0.803191</td>\n",
       "      <td>0.811198</td>\n",
       "      <td>0.779630</td>\n",
       "      <td>0.787558</td>\n",
       "    </tr>\n",
       "    <tr>\n",
       "      <th>11</th>\n",
       "      <td>nfr_binary</td>\n",
       "      <td>pre_trained_wv</td>\n",
       "      <td>AdaBoostClassifier</td>\n",
       "      <td>0.787234</td>\n",
       "      <td>0.781991</td>\n",
       "      <td>0.774073</td>\n",
       "      <td>0.777146</td>\n",
       "    </tr>\n",
       "  </tbody>\n",
       "</table>\n",
       "</div>"
      ],
      "text/plain": [
       "                  dataset         wv_type              model_name  \\\n",
       "dataset                                                             \n",
       "SecReq     6       SecReq  pre_trained_wv      AdaBoostClassifier   \n",
       "           0       SecReq           tfidf                     SVC   \n",
       "           7       SecReq  pre_trained_wv                     SVC   \n",
       "           1       SecReq           tfidf      AdaBoostClassifier   \n",
       "           8       SecReq  pre_trained_wv  RandomForestClassifier   \n",
       "           2       SecReq           tfidf  RandomForestClassifier   \n",
       "           0       SecReq  pre_trained_wv                     CNN   \n",
       "nfr_binary 1   nfr_binary  pre_trained_wv                     CNN   \n",
       "           3   nfr_binary           tfidf                     SVC   \n",
       "           9   nfr_binary  pre_trained_wv                     SVC   \n",
       "           10  nfr_binary  pre_trained_wv  RandomForestClassifier   \n",
       "           4   nfr_binary           tfidf  RandomForestClassifier   \n",
       "           5   nfr_binary           tfidf      AdaBoostClassifier   \n",
       "           11  nfr_binary  pre_trained_wv      AdaBoostClassifier   \n",
       "\n",
       "               accuracy_score  precision_score  recall_score  f1_score  \n",
       "dataset                                                                 \n",
       "SecReq     6         0.894366         0.884188      0.887417  0.885748  \n",
       "           0         0.880282         0.871087      0.867809  0.869393  \n",
       "           7         0.866197         0.858156      0.848201  0.852689  \n",
       "           1         0.852113         0.845335      0.828593  0.835603  \n",
       "           8         0.816901         0.809490      0.783883  0.793281  \n",
       "           2         0.816901         0.830441      0.766645  0.783181  \n",
       "           0         0.852632         0.857143      0.705882  0.774194  \n",
       "nfr_binary 1         0.848000         0.831325      0.932432  0.878981  \n",
       "           3         0.877660         0.875415      0.870539  0.872730  \n",
       "           9         0.877660         0.875415      0.870539  0.872730  \n",
       "           10        0.856383         0.868280      0.836609  0.845916  \n",
       "           4         0.835106         0.852122      0.810635  0.820870  \n",
       "           5         0.803191         0.811198      0.779630  0.787558  \n",
       "           11        0.787234         0.781991      0.774073  0.777146  "
      ]
     },
     "execution_count": 170,
     "metadata": {},
     "output_type": "execute_result"
    }
   ],
   "source": [
    "binary_results_all"
   ]
  },
  {
   "cell_type": "code",
   "execution_count": 171,
   "metadata": {},
   "outputs": [
    {
     "data": {
      "image/png": "[encoded data removed]",
      "text/plain": [
       "<Figure size 1152x576 with 2 Axes>"
      ]
     },
     "metadata": {
      "needs_background": "light"
     },
     "output_type": "display_data"
    }
   ],
   "source": [
    "## Plots- Binary classification model comparisions\n",
    "fig, axes = plt.subplots(1,2,figsize=(16,8))\n",
    "p1= sns.barplot(x=\"model_name\", y=\"f1_score\",  data= binary_results_all[binary_results_all.dataset==\"SecReq\"], \n",
    "                ax=axes[0])\n",
    "p2 = sns.barplot(x=\"model_name\", y=\"f1_score\", data=binary_results_all[binary_results_all.dataset==\"nfr_binary\"], \n",
    "                 ax=axes[1])\n",
    "\n",
    "axes[0].title.set_text('SeqReq Dataset')\n",
    "axes[1].title.set_text('nfr binary Dataset')\n",
    "\n",
    "p1.set_xticklabels(p1.get_xticklabels(),rotation=45)\n",
    "p2.set_xticklabels(p2.get_xticklabels(),rotation=45)\n",
    "\n",
    "plt.savefig(\"../outputs/final_model_comparison/binary_classification_results_all.jpeg\")"
   ]
  },
  {
   "cell_type": "markdown",
   "metadata": {},
   "source": [
    "**Multiclass Classification Results**"
   ]
  },
  {
   "cell_type": "code",
   "execution_count": 180,
   "metadata": {},
   "outputs": [],
   "source": [
    "multiclass_results_all = pd.concat([multiclass_results_trad,multiclass_results_cnn], axis= 0)\n",
    "multiclass_results_all= multiclass_results_all.sort_values(\"f1_score\", ascending= False)\n",
    "multiclass_results_all.to_csv(\"../outputs/final_model_comparison/multiclass_classification_results.csv\", index=False)"
   ]
  },
  {
   "cell_type": "code",
   "execution_count": 181,
   "metadata": {},
   "outputs": [
    {
     "data": {
      "text/html": [
       "<div>\n",
       "<style scoped>\n",
       "    .dataframe tbody tr th:only-of-type {\n",
       "        vertical-align: middle;\n",
       "    }\n",
       "\n",
       "    .dataframe tbody tr th {\n",
       "        vertical-align: top;\n",
       "    }\n",
       "\n",
       "    .dataframe thead th {\n",
       "        text-align: right;\n",
       "    }\n",
       "</style>\n",
       "<table border=\"1\" class=\"dataframe\">\n",
       "  <thead>\n",
       "    <tr style=\"text-align: right;\">\n",
       "      <th></th>\n",
       "      <th>dataset</th>\n",
       "      <th>wv_type</th>\n",
       "      <th>model_name</th>\n",
       "      <th>accuracy_score</th>\n",
       "      <th>precision_score</th>\n",
       "      <th>recall_score</th>\n",
       "      <th>f1_score</th>\n",
       "    </tr>\n",
       "  </thead>\n",
       "  <tbody>\n",
       "    <tr>\n",
       "      <th>0</th>\n",
       "      <td>nfr</td>\n",
       "      <td>pre_trained_wv</td>\n",
       "      <td>CNN</td>\n",
       "      <td>0.756757</td>\n",
       "      <td>0.814216</td>\n",
       "      <td>0.748480</td>\n",
       "      <td>0.761516</td>\n",
       "    </tr>\n",
       "    <tr>\n",
       "      <th>0</th>\n",
       "      <td>nfr</td>\n",
       "      <td>tfidf</td>\n",
       "      <td>SVC</td>\n",
       "      <td>0.738739</td>\n",
       "      <td>0.796898</td>\n",
       "      <td>0.723694</td>\n",
       "      <td>0.744453</td>\n",
       "    </tr>\n",
       "    <tr>\n",
       "      <th>1</th>\n",
       "      <td>nfr</td>\n",
       "      <td>tfidf</td>\n",
       "      <td>RandomForestClassifier</td>\n",
       "      <td>0.657658</td>\n",
       "      <td>0.764148</td>\n",
       "      <td>0.619862</td>\n",
       "      <td>0.641585</td>\n",
       "    </tr>\n",
       "    <tr>\n",
       "      <th>2</th>\n",
       "      <td>nfr</td>\n",
       "      <td>tfidf</td>\n",
       "      <td>AdaBoostClassifier</td>\n",
       "      <td>0.423423</td>\n",
       "      <td>0.535246</td>\n",
       "      <td>0.414067</td>\n",
       "      <td>0.393084</td>\n",
       "    </tr>\n",
       "  </tbody>\n",
       "</table>\n",
       "</div>"
      ],
      "text/plain": [
       "  dataset         wv_type              model_name  accuracy_score  \\\n",
       "0     nfr  pre_trained_wv                     CNN        0.756757   \n",
       "0     nfr           tfidf                     SVC        0.738739   \n",
       "1     nfr           tfidf  RandomForestClassifier        0.657658   \n",
       "2     nfr           tfidf      AdaBoostClassifier        0.423423   \n",
       "\n",
       "   precision_score  recall_score  f1_score  \n",
       "0         0.814216      0.748480  0.761516  \n",
       "0         0.796898      0.723694  0.744453  \n",
       "1         0.764148      0.619862  0.641585  \n",
       "2         0.535246      0.414067  0.393084  "
      ]
     },
     "execution_count": 181,
     "metadata": {},
     "output_type": "execute_result"
    }
   ],
   "source": [
    "multiclass_results_all"
   ]
  },
  {
   "cell_type": "code",
   "execution_count": 184,
   "metadata": {},
   "outputs": [
    {
     "data": {
      "image/png": "[encoded data removed]",
      "text/plain": [
       "<Figure size 1152x576 with 1 Axes>"
      ]
     },
     "metadata": {
      "needs_background": "light"
     },
     "output_type": "display_data"
    }
   ],
   "source": [
    "## Plots- Multiclass classification model comparisions\n",
    "fig, axes = plt.subplots(1,1,figsize=(16,8))\n",
    "p1= sns.barplot(x=\"model_name\", y=\"f1_score\",  data= multiclass_results_all, \n",
    "                ax=axes)\n",
    "axes.title.set_text('nfr Dataset')\n",
    "p1.set_xticklabels(p1.get_xticklabels(),rotation=45)\n",
    "\n",
    "\n",
    "plt.savefig(\"../outputs/final_model_comparison/multiclass_classification_results_all.jpeg\")"
   ]
  },
  {
   "cell_type": "markdown",
   "metadata": {},
   "source": [
    "## Final Thoughts\n",
    "- CNN with pre-trained word embeddings outperforms SVC, Random Forest and Adaboost classifiers in 2 out of the 3 classification tasks.\n",
    "- For larger datasets, perhaps the performance difference would be wider.  One distinct advantage of CNN is that it automatically identify features that are informative in making predictions; thus, we don't have to learn the bigrams and trigrams engineer these features ourselves.\n",
    "- All models require hyperparameters tuning, some more than others.\n",
    "- SVC is a simple and the fastest model to train.  I would go with SVC in this case since its performance is almost as good as CNN and Adaboost.\n",
    "- Pre-trained word embeddings compensate for the small amount of train data-- note that for the multiclass classification problem, I have less than 400 train observations to train my CNN!"
   ]
  }
 ],
 "metadata": {
  "kernelspec": {
   "display_name": "Python 3",
   "language": "python",
   "name": "python3"
  },
  "language_info": {
   "codemirror_mode": {
    "name": "ipython",
    "version": 3
   },
   "file_extension": ".py",
   "mimetype": "text/x-python",
   "name": "python",
   "nbconvert_exporter": "python",
   "pygments_lexer": "ipython3",
   "version": "3.7.5"
  },
  "varInspector": {
   "cols": {
    "lenName": 16,
    "lenType": 16,
    "lenVar": 40
   },
   "kernels_config": {
    "python": {
     "delete_cmd_postfix": "",
     "delete_cmd_prefix": "del ",
     "library": "var_list.py",
     "varRefreshCmd": "print(var_dic_list())"
    },
    "r": {
     "delete_cmd_postfix": ") ",
     "delete_cmd_prefix": "rm(",
     "library": "var_list.r",
     "varRefreshCmd": "cat(var_dic_list()) "
    }
   },
   "types_to_exclude": [
    "module",
    "function",
    "builtin_function_or_method",
    "instance",
    "_Feature"
   ],
   "window_display": false
  }
 },
 "nbformat": 4,
 "nbformat_minor": 2
}
