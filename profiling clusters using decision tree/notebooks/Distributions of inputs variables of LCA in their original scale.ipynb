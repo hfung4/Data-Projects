{
 "cells": [
  {
   "cell_type": "code",
   "execution_count": 1,
   "id": "f45ccee2",
   "metadata": {},
   "outputs": [],
   "source": [
    "# to handle datasets\n",
    "import pandas as pd\n",
    "\n",
    "# Common imports\n",
    "import sys\n",
    "import re\n",
    "from pathlib import Path\n",
    "\n",
    "# automated exploratory analysis\n",
    "from pandas_profiling import ProfileReport"
   ]
  },
  {
   "cell_type": "markdown",
   "id": "12fe6d41",
   "metadata": {},
   "source": [
    "### Import project modules"
   ]
  },
  {
   "cell_type": "code",
   "execution_count": 2,
   "id": "81e7ccf8",
   "metadata": {},
   "outputs": [],
   "source": [
    "sys.path.append('../')\n",
    "# Load the \"autoreload\" extension so that code can change\n",
    "%load_ext autoreload\n",
    "# reload modules so any new changes gets loaded\n",
    "%autoreload 2\n",
    "from tb_analysis.config.core import config, PACKAGE_ROOT, DATA_DIR, IMAGES_DIR, TRAINED_MODEL_DIR\n",
    "from tb_analysis import preprocessors as pp, train as tr, rule_generation as cr, evaluate as ev\n",
    "from tb_analysis import __version__ as _version"
   ]
  },
  {
   "cell_type": "markdown",
   "id": "bfb61467",
   "metadata": {},
   "source": [
    "## Import data"
   ]
  },
  {
   "cell_type": "code",
   "execution_count": 3,
   "id": "b1ccb523",
   "metadata": {},
   "outputs": [
    {
     "name": "stdout",
     "output_type": "stream",
     "text": [
      "(204, 802)\n"
     ]
    }
   ],
   "source": [
    "raw = pd.read_csv(Path(f\"{DATA_DIR}/{config.app_config.data_file}\"))\n",
    "\n",
    "# rows and columns of the data\n",
    "print(raw.shape)"
   ]
  },
  {
   "cell_type": "markdown",
   "id": "09f0389b",
   "metadata": {},
   "source": [
    "## Rename input variables to prototype-specific LCA"
   ]
  },
  {
   "cell_type": "code",
   "execution_count": 4,
   "id": "48bb4d6a",
   "metadata": {},
   "outputs": [],
   "source": [
    "# read input variables to LCA: raw variable name and label\n",
    "data_dict= pd.read_csv(Path(f\"{DATA_DIR}/orig_scale_dict.csv\"))\n",
    "# create dictionary of {variable_names:variable_label}\n",
    "mapping_dict = dict(zip(data_dict.variable_names, data_dict.variable_labels))"
   ]
  },
  {
   "cell_type": "code",
   "execution_count": 5,
   "id": "579e42f1",
   "metadata": {},
   "outputs": [],
   "source": [
    "# Rename variables in dataframe using the mapping dict\n",
    "data = raw.rename(mapping_dict, axis=1)"
   ]
  },
  {
   "cell_type": "code",
   "execution_count": 6,
   "id": "69a0723d",
   "metadata": {},
   "outputs": [],
   "source": [
    "# Find all variables in the dataframe that ends with \"orig_scl\"\n",
    "pattern = re.compile(r\"_orig_scl$\")\n",
    "orig_scale_vars = [x for x in data.columns.values.tolist() if re.search(pattern, x)] \n",
    "\n",
    "# New scale vars has the same name as orig_scale variables, except w/o the \"orig_scale\" prefix\n",
    "new_scale_vars = [s.replace(\"_orig_scl\", \"\") for s in orig_scale_vars]\n",
    "\n",
    "selected_vars = orig_scale_vars + new_scale_vars"
   ]
  },
  {
   "cell_type": "code",
   "execution_count": 7,
   "id": "683871ae",
   "metadata": {},
   "outputs": [],
   "source": [
    "# Filter input variables to LCA in their original scale\n",
    "data = data.filter(items=selected_vars)\n",
    "# convert all columns to type 'category'\n",
    "for col in data.columns.values:\n",
    "    data[col] = data[col].astype('category',copy=False)\n",
    "    \n",
    "    \n",
    "# sort column names in alphabetical order\n",
    "data.sort_index(axis=1, inplace=True)"
   ]
  },
  {
   "cell_type": "markdown",
   "id": "5e984eb4",
   "metadata": {},
   "source": [
    "## AutoEDA"
   ]
  },
  {
   "cell_type": "code",
   "execution_count": 8,
   "id": "c0581e94",
   "metadata": {},
   "outputs": [
    {
     "data": {
      "application/vnd.jupyter.widget-view+json": {
       "model_id": "489fa3b765c94aeb890c74f5da9dc787",
       "version_major": 2,
       "version_minor": 0
      },
      "text/plain": [
       "Summarize dataset:   0%|          | 0/5 [00:00<?, ?it/s]"
      ]
     },
     "metadata": {},
     "output_type": "display_data"
    },
    {
     "data": {
      "application/vnd.jupyter.widget-view+json": {
       "model_id": "9714e90552cc4e509803571cd785611c",
       "version_major": 2,
       "version_minor": 0
      },
      "text/plain": [
       "Generate report structure:   0%|          | 0/1 [00:00<?, ?it/s]"
      ]
     },
     "metadata": {},
     "output_type": "display_data"
    },
    {
     "data": {
      "application/vnd.jupyter.widget-view+json": {
       "model_id": "99e460ba2eff4006acd6e3d422fc5a26",
       "version_major": 2,
       "version_minor": 0
      },
      "text/plain": [
       "Render HTML:   0%|          | 0/1 [00:00<?, ?it/s]"
      ]
     },
     "metadata": {},
     "output_type": "display_data"
    },
    {
     "data": {
      "application/vnd.jupyter.widget-view+json": {
       "model_id": "1c0ca0fb13fb4202b9c9a78d685540e2",
       "version_major": 2,
       "version_minor": 0
      },
      "text/plain": [
       "Export report to file:   0%|          | 0/1 [00:00<?, ?it/s]"
      ]
     },
     "metadata": {},
     "output_type": "display_data"
    }
   ],
   "source": [
    "profile = ProfileReport(data, minimal=True)\n",
    "profile.to_file(output_file=Path(f\"{IMAGES_DIR}/input_var_lca_orig_scale.html\"))"
   ]
  }
 ],
 "metadata": {
  "kernelspec": {
   "display_name": "Python 3",
   "language": "python",
   "name": "python3"
  },
  "language_info": {
   "codemirror_mode": {
    "name": "ipython",
    "version": 3
   },
   "file_extension": ".py",
   "mimetype": "text/x-python",
   "name": "python",
   "nbconvert_exporter": "python",
   "pygments_lexer": "ipython3",
   "version": "3.8.0"
  }
 },
 "nbformat": 4,
 "nbformat_minor": 5
}
