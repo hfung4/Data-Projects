{
 "cells": [
  {
   "cell_type": "markdown",
   "id": "e9488be7",
   "metadata": {},
   "source": [
    "\n",
    "\n",
    "   ## Modeling- binary classification\n",
    "- This notebook will focus on building models that predict the binarized poverty level of households\n",
    "- Along with training the model, there are a few processing steps that I will include in a sklearn pipeline "
   ]
  },
  {
   "cell_type": "markdown",
   "id": "7fff308b",
   "metadata": {},
   "source": [
    "In this notebook, I will binarize the outcome variable: \n",
    "- 1 = extreme poverty; 2 = moderate poverty ==> 1: high poverty\n",
    "- 3 = vulnerable households; 4 = non vulnerable households ==> 0: low poverty\n",
    "\n",
    "The positive class is also the minority class. As a rule of thumb, you should prefer AUPRC whenever the positive class is rare, or when you care more about the false positives than the false negatives. Otherwise, use AUROC.    "
   ]
  },
  {
   "cell_type": "markdown",
   "id": "9dd4db56",
   "metadata": {},
   "source": [
    "- **As a rule of thumb, you should prefer the precision recall (PR) curve whenever the positive class is rare (say I want to predict whether a number is 5 (positive case) or not 5 (negative case), and only 10% of the sample are actually 5), or when you care more about the false positives than the false negatives, and the ROC curve (FP does not appear!) otherwise.** \n"
   ]
  },
  {
   "cell_type": "code",
   "execution_count": 1,
   "id": "63f5ec60",
   "metadata": {},
   "outputs": [],
   "source": [
    "'''data'''\n",
    "import pandas as pd\n",
    "import numpy as np\n",
    "import itertools\n",
    "from itertools import compress\n",
    "\n",
    "\n",
    "'''common'''\n",
    "from pathlib import Path\n",
    "from collections import OrderedDict\n",
    "import pickle\n",
    "\n",
    "\n",
    "'''sklearn'''\n",
    "from sklearn.model_selection import (\n",
    "    StratifiedKFold,\n",
    "    cross_val_score, cross_val_predict, train_test_split,\n",
    "    cross_validate,\n",
    "    RandomizedSearchCV,GridSearchCV,\n",
    "    learning_curve)\n",
    "\n",
    "from sklearn.feature_selection import SelectFromModel\n",
    "from sklearn.pipeline import Pipeline\n",
    "from sklearn.preprocessing import MinMaxScaler\n",
    "\n",
    "\n",
    "'''feature engine'''\n",
    "from feature_engine.selection import DropConstantFeatures\n",
    "from feature_engine.imputation import MeanMedianImputer\n",
    "\n",
    "'''models'''\n",
    "from sklearn.dummy import DummyClassifier\n",
    "from sklearn.linear_model import SGDClassifier, LogisticRegression\n",
    "from sklearn.ensemble import RandomForestClassifier\n",
    "from sklearn.svm import LinearSVC\n",
    "from sklearn.naive_bayes import GaussianNB\n",
    "from sklearn.ensemble import ExtraTreesClassifier\n",
    "from sklearn.neighbors import KNeighborsClassifier\n",
    "\n",
    "\n",
    "'''metrics'''\n",
    "from sklearn.metrics import (\n",
    "    confusion_matrix,\n",
    "    precision_score, recall_score, f1_score, \n",
    "    precision_recall_curve, average_precision_score,\n",
    "    roc_curve, roc_auc_score\n",
    ")\n",
    "\n",
    "'''visualization'''\n",
    "import seaborn as sns\n",
    "import matplotlib.pyplot as plt\n",
    "\n",
    "'''warnings'''\n",
    "import warnings \n",
    "from sklearn.exceptions import ConvergenceWarning\n",
    "\n",
    "# Filter out warnings from models\n",
    "warnings.filterwarnings(\"ignore\", category = ConvergenceWarning)\n",
    "warnings.filterwarnings('ignore', category = DeprecationWarning)\n",
    "warnings.filterwarnings('ignore', category = UserWarning)"
   ]
  },
  {
   "cell_type": "markdown",
   "id": "ec1870ba",
   "metadata": {},
   "source": [
    "## Config"
   ]
  },
  {
   "cell_type": "code",
   "execution_count": 2,
   "id": "57c98ee4",
   "metadata": {},
   "outputs": [],
   "source": [
    "# Scoring method for models\n",
    "SCORING = \"f1_weighted\" #\"f1_macro\", \"average_precision\" \n",
    "# Random seed\n",
    "RANDOM_STATE = 10"
   ]
  },
  {
   "cell_type": "markdown",
   "id": "e684672f",
   "metadata": {},
   "source": [
    "## Custom estimator"
   ]
  },
  {
   "cell_type": "code",
   "execution_count": 3,
   "id": "a762184a",
   "metadata": {},
   "outputs": [],
   "source": [
    "from sklearn.base import BaseEstimator, TransformerMixin\n",
    "\n",
    "# This custom step saves the column names of its input dataframe as a .pkl file\n",
    "class save_col_names(BaseEstimator, TransformerMixin):\n",
    "    \"\"\"\n",
    "    Constructor\n",
    "\n",
    "    Args:\n",
    "        void\n",
    "\n",
    "    Returns:\n",
    "        void\n",
    "    \"\"\"\n",
    "\n",
    "    def __init__(self, step_name:str):\n",
    "        self.step_name = step_name # step_name is the name of the step prior to \"save_col_names\"\n",
    "\n",
    "\n",
    "    def fit(self, X,\n",
    "            y=None):  # need to have y as argument to make class compatible with sklearn pipeline\n",
    "        \"\"\" Fit\n",
    "\n",
    "        Args:\n",
    "            X (DataFrame): a input dataframe of features to train the transformer\n",
    "            y (DataFrame): a input Series of response variable to train the transformer (optional)\n",
    "\n",
    "        Returns:\n",
    "            self\n",
    "        \"\"\"\n",
    "\n",
    "        return self\n",
    "\n",
    "    def transform(self, X):\n",
    "        \"\"\" Transform\n",
    "\n",
    "        Args:\n",
    "            X (DataFrame): a input dataframe of features to be transformed\n",
    "\n",
    "        \"\"\"\n",
    "\n",
    "        # Make a copy of the input dataframe\n",
    "        # so we won't overwrite the original Dataframe that was passed as argument\n",
    "        X = X.copy()\n",
    "        \n",
    "        # Get feature names\n",
    "        feature_names = X.columns.tolist\n",
    "        \n",
    "        # Save as pickle\n",
    "        with open(Path('data','outputs',f'{self.step_name}_feature_names.pkl'), 'wb') as f:\n",
    "            pickle.dump(feature_names, f)\n",
    "\n",
    "        return X"
   ]
  },
  {
   "cell_type": "code",
   "execution_count": null,
   "id": "9e35a0ca",
   "metadata": {},
   "outputs": [],
   "source": []
  },
  {
   "cell_type": "code",
   "execution_count": null,
   "id": "fd6beb8d",
   "metadata": {},
   "outputs": [],
   "source": []
  },
  {
   "cell_type": "markdown",
   "id": "57d6ed26",
   "metadata": {},
   "source": [
    "## Import\n",
    "- Load the interim data "
   ]
  },
  {
   "cell_type": "code",
   "execution_count": 4,
   "id": "26d4e6ac",
   "metadata": {},
   "outputs": [],
   "source": [
    "file_path = Path(\"data\",\"interim\", \"interim.pkl\")\n",
    "df = pd.read_pickle(file_path)"
   ]
  },
  {
   "cell_type": "code",
   "execution_count": 5,
   "id": "aca0cdb8",
   "metadata": {},
   "outputs": [
    {
     "data": {
      "text/html": [
       "<div>\n",
       "<style scoped>\n",
       "    .dataframe tbody tr th:only-of-type {\n",
       "        vertical-align: middle;\n",
       "    }\n",
       "\n",
       "    .dataframe tbody tr th {\n",
       "        vertical-align: top;\n",
       "    }\n",
       "\n",
       "    .dataframe thead th {\n",
       "        text-align: right;\n",
       "    }\n",
       "</style>\n",
       "<table border=\"1\" class=\"dataframe\">\n",
       "  <thead>\n",
       "    <tr style=\"text-align: right;\">\n",
       "      <th></th>\n",
       "      <th>Id</th>\n",
       "      <th>idhogar</th>\n",
       "      <th>Target</th>\n",
       "      <th>hacdor</th>\n",
       "      <th>hacapo</th>\n",
       "      <th>v14a</th>\n",
       "      <th>refrig</th>\n",
       "      <th>paredblolad</th>\n",
       "      <th>paredzocalo</th>\n",
       "      <th>paredpreb</th>\n",
       "      <th>...</th>\n",
       "      <th>escolari_normalized_by_age-sum</th>\n",
       "      <th>escolari_normalized_by_age-std</th>\n",
       "      <th>escolari_normalized_by_age-range_</th>\n",
       "      <th>inst_normalized_by_age-max</th>\n",
       "      <th>inst_normalized_by_age-std</th>\n",
       "      <th>inst_normalized_by_age-range_</th>\n",
       "      <th>tech-min</th>\n",
       "      <th>tech-sum</th>\n",
       "      <th>tech-std</th>\n",
       "      <th>tech-range_</th>\n",
       "    </tr>\n",
       "  </thead>\n",
       "  <tbody>\n",
       "    <tr>\n",
       "      <th>0</th>\n",
       "      <td>ID_279628684</td>\n",
       "      <td>21eb7fcc1</td>\n",
       "      <td>4.0</td>\n",
       "      <td>0</td>\n",
       "      <td>0</td>\n",
       "      <td>1</td>\n",
       "      <td>1</td>\n",
       "      <td>1</td>\n",
       "      <td>0</td>\n",
       "      <td>0</td>\n",
       "      <td>...</td>\n",
       "      <td>0.232558</td>\n",
       "      <td>NaN</td>\n",
       "      <td>0.000000</td>\n",
       "      <td>0.069767</td>\n",
       "      <td>NaN</td>\n",
       "      <td>0.000000</td>\n",
       "      <td>1</td>\n",
       "      <td>1</td>\n",
       "      <td>NaN</td>\n",
       "      <td>0</td>\n",
       "    </tr>\n",
       "    <tr>\n",
       "      <th>1</th>\n",
       "      <td>ID_f29eb3ddd</td>\n",
       "      <td>0e5d7a658</td>\n",
       "      <td>4.0</td>\n",
       "      <td>0</td>\n",
       "      <td>0</td>\n",
       "      <td>1</td>\n",
       "      <td>1</td>\n",
       "      <td>0</td>\n",
       "      <td>0</td>\n",
       "      <td>0</td>\n",
       "      <td>...</td>\n",
       "      <td>0.179104</td>\n",
       "      <td>NaN</td>\n",
       "      <td>0.000000</td>\n",
       "      <td>0.104478</td>\n",
       "      <td>NaN</td>\n",
       "      <td>0.000000</td>\n",
       "      <td>2</td>\n",
       "      <td>2</td>\n",
       "      <td>NaN</td>\n",
       "      <td>0</td>\n",
       "    </tr>\n",
       "    <tr>\n",
       "      <th>2</th>\n",
       "      <td>ID_68de51c94</td>\n",
       "      <td>2c7317ea8</td>\n",
       "      <td>4.0</td>\n",
       "      <td>0</td>\n",
       "      <td>0</td>\n",
       "      <td>1</td>\n",
       "      <td>1</td>\n",
       "      <td>0</td>\n",
       "      <td>0</td>\n",
       "      <td>0</td>\n",
       "      <td>...</td>\n",
       "      <td>0.119565</td>\n",
       "      <td>NaN</td>\n",
       "      <td>0.000000</td>\n",
       "      <td>0.043478</td>\n",
       "      <td>NaN</td>\n",
       "      <td>0.000000</td>\n",
       "      <td>0</td>\n",
       "      <td>0</td>\n",
       "      <td>NaN</td>\n",
       "      <td>0</td>\n",
       "    </tr>\n",
       "    <tr>\n",
       "      <th>3</th>\n",
       "      <td>ID_ec05b1a7b</td>\n",
       "      <td>2b58d945f</td>\n",
       "      <td>4.0</td>\n",
       "      <td>0</td>\n",
       "      <td>0</td>\n",
       "      <td>1</td>\n",
       "      <td>1</td>\n",
       "      <td>1</td>\n",
       "      <td>0</td>\n",
       "      <td>0</td>\n",
       "      <td>...</td>\n",
       "      <td>1.366183</td>\n",
       "      <td>0.126943</td>\n",
       "      <td>0.279412</td>\n",
       "      <td>0.176471</td>\n",
       "      <td>0.033010</td>\n",
       "      <td>0.071207</td>\n",
       "      <td>2</td>\n",
       "      <td>8</td>\n",
       "      <td>0.0</td>\n",
       "      <td>0</td>\n",
       "    </tr>\n",
       "    <tr>\n",
       "      <th>4</th>\n",
       "      <td>ID_1284f8aad</td>\n",
       "      <td>d6dae86b7</td>\n",
       "      <td>4.0</td>\n",
       "      <td>1</td>\n",
       "      <td>0</td>\n",
       "      <td>1</td>\n",
       "      <td>1</td>\n",
       "      <td>1</td>\n",
       "      <td>0</td>\n",
       "      <td>0</td>\n",
       "      <td>...</td>\n",
       "      <td>0.965584</td>\n",
       "      <td>0.168946</td>\n",
       "      <td>0.392857</td>\n",
       "      <td>0.142857</td>\n",
       "      <td>0.060063</td>\n",
       "      <td>0.142857</td>\n",
       "      <td>1</td>\n",
       "      <td>4</td>\n",
       "      <td>0.0</td>\n",
       "      <td>0</td>\n",
       "    </tr>\n",
       "  </tbody>\n",
       "</table>\n",
       "<p>5 rows × 222 columns</p>\n",
       "</div>"
      ],
      "text/plain": [
       "             Id    idhogar  Target  hacdor  hacapo  v14a  refrig  paredblolad  \\\n",
       "0  ID_279628684  21eb7fcc1     4.0       0       0     1       1            1   \n",
       "1  ID_f29eb3ddd  0e5d7a658     4.0       0       0     1       1            0   \n",
       "2  ID_68de51c94  2c7317ea8     4.0       0       0     1       1            0   \n",
       "3  ID_ec05b1a7b  2b58d945f     4.0       0       0     1       1            1   \n",
       "4  ID_1284f8aad  d6dae86b7     4.0       1       0     1       1            1   \n",
       "\n",
       "   paredzocalo  paredpreb  ...  escolari_normalized_by_age-sum  \\\n",
       "0            0          0  ...                        0.232558   \n",
       "1            0          0  ...                        0.179104   \n",
       "2            0          0  ...                        0.119565   \n",
       "3            0          0  ...                        1.366183   \n",
       "4            0          0  ...                        0.965584   \n",
       "\n",
       "   escolari_normalized_by_age-std  escolari_normalized_by_age-range_  \\\n",
       "0                             NaN                           0.000000   \n",
       "1                             NaN                           0.000000   \n",
       "2                             NaN                           0.000000   \n",
       "3                        0.126943                           0.279412   \n",
       "4                        0.168946                           0.392857   \n",
       "\n",
       "   inst_normalized_by_age-max  inst_normalized_by_age-std  \\\n",
       "0                    0.069767                         NaN   \n",
       "1                    0.104478                         NaN   \n",
       "2                    0.043478                         NaN   \n",
       "3                    0.176471                    0.033010   \n",
       "4                    0.142857                    0.060063   \n",
       "\n",
       "   inst_normalized_by_age-range_  tech-min  tech-sum  tech-std  tech-range_  \n",
       "0                       0.000000         1         1       NaN            0  \n",
       "1                       0.000000         2         2       NaN            0  \n",
       "2                       0.000000         0         0       NaN            0  \n",
       "3                       0.071207         2         8       0.0            0  \n",
       "4                       0.142857         1         4       0.0            0  \n",
       "\n",
       "[5 rows x 222 columns]"
      ]
     },
     "execution_count": 5,
     "metadata": {},
     "output_type": "execute_result"
    }
   ],
   "source": [
    "df.head()"
   ]
  },
  {
   "cell_type": "code",
   "execution_count": 6,
   "id": "2ff4869b",
   "metadata": {},
   "outputs": [],
   "source": [
    "# Get feature names\n",
    "train_feature_names = df.columns.tolist()\n",
    "# Remove Target and the Id columns\n",
    "train_feature_names = [v for v in train_feature_names if v not in [\"Target\", \"Id\",\"idhogar\"]]"
   ]
  },
  {
   "cell_type": "code",
   "execution_count": 7,
   "id": "845e545e",
   "metadata": {},
   "outputs": [],
   "source": [
    "# For this notebook, we will binarize the target variable\n",
    "df[\"bin_target\"] = np.where(df[\"Target\"]<=2, 1, 0)"
   ]
  },
  {
   "cell_type": "code",
   "execution_count": 8,
   "id": "12f27d04",
   "metadata": {},
   "outputs": [],
   "source": [
    "poverty_mapping = OrderedDict({0: 'low poverty', 1: 'high poverty'})"
   ]
  },
  {
   "cell_type": "markdown",
   "id": "34459f6d",
   "metadata": {},
   "source": [
    "**Currently, the interim set contains both the train and test (hold-out) set. Separate them out.**"
   ]
  },
  {
   "cell_type": "code",
   "execution_count": 9,
   "id": "411c63b2",
   "metadata": {},
   "outputs": [],
   "source": [
    "# Rows in the interim dataframe that has non-null values for the Target column are from the train dataset\n",
    "X_train = df.loc[df[\"Target\"].notnull(), train_feature_names]\n",
    "y_train = df.loc[df[\"Target\"].notnull(),\"bin_target\"]"
   ]
  },
  {
   "cell_type": "code",
   "execution_count": 10,
   "id": "fca19ec9",
   "metadata": {},
   "outputs": [],
   "source": [
    "# rows in the interim dataframe that has null values for the Target column are from the test (holdout) dataset\n",
    "X_test  = df.loc[df[\"Target\"].isnull(), train_feature_names]"
   ]
  },
  {
   "cell_type": "markdown",
   "id": "c38eb85a",
   "metadata": {},
   "source": [
    "**Note that the unit of analysis for the interim dataframe is household, as we will only be fitting a model to make predictions at the household level. There are 2973 households in X_train.**"
   ]
  },
  {
   "cell_type": "code",
   "execution_count": 11,
   "id": "e1251157",
   "metadata": {},
   "outputs": [
    {
     "data": {
      "text/plain": [
       "((2973, 219), (2973,), (7334, 219))"
      ]
     },
     "execution_count": 11,
     "metadata": {},
     "output_type": "execute_result"
    }
   ],
   "source": [
    "X_train.shape, y_train.shape, X_test.shape"
   ]
  },
  {
   "cell_type": "code",
   "execution_count": 12,
   "id": "392fbce7",
   "metadata": {},
   "outputs": [],
   "source": [
    "# Make a copy of the household_id for the households in the test set\n",
    "test_ids = list(df.loc[df['Target'].isnull(), 'idhogar'])"
   ]
  },
  {
   "cell_type": "code",
   "execution_count": 13,
   "id": "1c9629ff",
   "metadata": {},
   "outputs": [
    {
     "data": {
      "text/plain": [
       "7334"
      ]
     },
     "execution_count": 13,
     "metadata": {},
     "output_type": "execute_result"
    }
   ],
   "source": [
    "len(test_ids)"
   ]
  },
  {
   "cell_type": "markdown",
   "id": "79d52d37",
   "metadata": {},
   "source": [
    "## Extent of missingness\n",
    "- Despite imputing some of the \"ignorable\" cases in the previous notebook, there are still some missing values in the X_train and X_test. In this section, we will investigate and impute the remaining missing values.\n",
    "- There is no missing value in y_train."
   ]
  },
  {
   "cell_type": "code",
   "execution_count": 14,
   "id": "58b93c7c",
   "metadata": {},
   "outputs": [],
   "source": [
    "def extent_missinginess(df):\n",
    "    return (df\n",
    "         .isnull()\n",
    "         .mean()\n",
    "         .mul(100)\n",
    "         .reset_index(name=\"percentage\")\n",
    "         .sort_values(by=\"percentage\", ascending=False))"
   ]
  },
  {
   "cell_type": "code",
   "execution_count": 15,
   "id": "c3ad9146",
   "metadata": {},
   "outputs": [
    {
     "data": {
      "text/html": [
       "<div>\n",
       "<style scoped>\n",
       "    .dataframe tbody tr th:only-of-type {\n",
       "        vertical-align: middle;\n",
       "    }\n",
       "\n",
       "    .dataframe tbody tr th {\n",
       "        vertical-align: top;\n",
       "    }\n",
       "\n",
       "    .dataframe thead th {\n",
       "        text-align: right;\n",
       "    }\n",
       "</style>\n",
       "<table border=\"1\" class=\"dataframe\">\n",
       "  <thead>\n",
       "    <tr style=\"text-align: right;\">\n",
       "      <th></th>\n",
       "      <th>index</th>\n",
       "      <th>percentage</th>\n",
       "    </tr>\n",
       "  </thead>\n",
       "  <tbody>\n",
       "    <tr>\n",
       "      <th>213</th>\n",
       "      <td>inst_normalized_by_age-std</td>\n",
       "      <td>13.084427</td>\n",
       "    </tr>\n",
       "    <tr>\n",
       "      <th>210</th>\n",
       "      <td>escolari_normalized_by_age-std</td>\n",
       "      <td>13.084427</td>\n",
       "    </tr>\n",
       "    <tr>\n",
       "      <th>114</th>\n",
       "      <td>estadocivil2-std</td>\n",
       "      <td>13.050790</td>\n",
       "    </tr>\n",
       "    <tr>\n",
       "      <th>134</th>\n",
       "      <td>parentesco2-std</td>\n",
       "      <td>13.050790</td>\n",
       "    </tr>\n",
       "    <tr>\n",
       "      <th>128</th>\n",
       "      <td>estadocivil7-std</td>\n",
       "      <td>13.050790</td>\n",
       "    </tr>\n",
       "    <tr>\n",
       "      <th>99</th>\n",
       "      <td>v18q-std</td>\n",
       "      <td>13.050790</td>\n",
       "    </tr>\n",
       "    <tr>\n",
       "      <th>202</th>\n",
       "      <td>age-std</td>\n",
       "      <td>13.050790</td>\n",
       "    </tr>\n",
       "    <tr>\n",
       "      <th>190</th>\n",
       "      <td>mobilephone-std</td>\n",
       "      <td>13.050790</td>\n",
       "    </tr>\n",
       "    <tr>\n",
       "      <th>131</th>\n",
       "      <td>parentesco1-std</td>\n",
       "      <td>13.050790</td>\n",
       "    </tr>\n",
       "    <tr>\n",
       "      <th>205</th>\n",
       "      <td>inst-std</td>\n",
       "      <td>13.050790</td>\n",
       "    </tr>\n",
       "  </tbody>\n",
       "</table>\n",
       "</div>"
      ],
      "text/plain": [
       "                              index  percentage\n",
       "213      inst_normalized_by_age-std   13.084427\n",
       "210  escolari_normalized_by_age-std   13.084427\n",
       "114                estadocivil2-std   13.050790\n",
       "134                 parentesco2-std   13.050790\n",
       "128                estadocivil7-std   13.050790\n",
       "99                         v18q-std   13.050790\n",
       "202                         age-std   13.050790\n",
       "190                 mobilephone-std   13.050790\n",
       "131                 parentesco1-std   13.050790\n",
       "205                        inst-std   13.050790"
      ]
     },
     "execution_count": 15,
     "metadata": {},
     "output_type": "execute_result"
    }
   ],
   "source": [
    "train_missing = extent_missinginess(X_train)\n",
    "train_missing.head(10)"
   ]
  },
  {
   "cell_type": "markdown",
   "id": "ad880c42",
   "metadata": {},
   "source": [
    "**At most I have 13% values missing in the train and test sets. Since the proportion of missingness is relatively small, I will impute with median.**"
   ]
  },
  {
   "cell_type": "markdown",
   "id": "2c653351",
   "metadata": {},
   "source": [
    "**I will drop features that have near zero variance as they will not be useful in predicting the outcome.**"
   ]
  },
  {
   "cell_type": "markdown",
   "id": "f4573d4f",
   "metadata": {},
   "source": [
    "**I also want to use MaxMinScaler to normalize all features as some models that we want to try might be scale variant.**"
   ]
  },
  {
   "cell_type": "code",
   "execution_count": null,
   "id": "4182f4e0",
   "metadata": {},
   "outputs": [],
   "source": []
  },
  {
   "cell_type": "markdown",
   "id": "e54086bf",
   "metadata": {},
   "source": [
    "## Data pipeline"
   ]
  },
  {
   "cell_type": "code",
   "execution_count": 16,
   "id": "9289626c",
   "metadata": {},
   "outputs": [],
   "source": [
    "# Create pipeline\n",
    "data_pipeline = Pipeline([\n",
    " \n",
    "     # === Imputation === #\n",
    "     (\"missing_imputation\", MeanMedianImputer(imputation_method=\"median\")),\n",
    " \n",
    "     # === drop qusai-constant variables === #\n",
    "     # drop variables with any level that appears in 0.75 of observations\n",
    "     ('drop_nzv', DropConstantFeatures(tol=0.75)),\n",
    "    \n",
    "    # === save feature names (of the df from the drop_nzv step) ===\n",
    "    ('save_feature_names', save_col_names(step_name='drop_nzv')),\n",
    " \n",
    "     # === normalization === #\n",
    "     ('scaler', MinMaxScaler()), \n",
    " ])"
   ]
  },
  {
   "cell_type": "markdown",
   "id": "9b42f23d",
   "metadata": {},
   "source": [
    "**NOTE: the output of pipeline with sklearn steps is a ndarray. It is only if the pipeline contains exclusively feature-engine steps will its output be a dataframe.**"
   ]
  },
  {
   "cell_type": "code",
   "execution_count": 17,
   "id": "71bff296",
   "metadata": {},
   "outputs": [],
   "source": [
    "# Fit and transform X_train\n",
    "x_tr_processed = data_pipeline.fit_transform(X_train) "
   ]
  },
  {
   "cell_type": "code",
   "execution_count": 18,
   "id": "f4c0c51e",
   "metadata": {},
   "outputs": [],
   "source": [
    "# Get saved feature names\n",
    "with open(Path('data','outputs','drop_nzv_feature_names.pkl'), 'rb') as f:\n",
    "    list_ = pickle.load(f)\n",
    "    \n",
    "saved_feature_names=list_()\n",
    "\n",
    "# Convert ndarray (output of data pipeline) to a dataframe with the saved feature names\n",
    "x_tr_processed = pd.DataFrame(x_tr_processed, columns = saved_feature_names)"
   ]
  },
  {
   "cell_type": "code",
   "execution_count": 19,
   "id": "049ff30b",
   "metadata": {},
   "outputs": [],
   "source": [
    "# Transform X_test\n",
    "x_tst_processed= data_pipeline.transform(X_test)\n",
    "x_tst_processed = pd.DataFrame(x_tst_processed, columns = saved_feature_names)"
   ]
  },
  {
   "cell_type": "markdown",
   "id": "e4e4cda6",
   "metadata": {},
   "source": [
    "## Save processed data"
   ]
  },
  {
   "cell_type": "code",
   "execution_count": 20,
   "id": "9b181d43",
   "metadata": {},
   "outputs": [],
   "source": [
    "x_tr_processed.to_pickle(Path(\"data\",\"processed\",\"x_tr_processed.pkl\"))\n",
    "x_tst_processed.to_pickle(Path(\"data\",\"processed\",\"x_tst_processed.pkl\"))\n",
    "\n",
    "y_train.to_pickle(Path(\"data\",\"processed\",\"y_tr_processed.pkl\"))"
   ]
  },
  {
   "cell_type": "code",
   "execution_count": null,
   "id": "23d69424",
   "metadata": {},
   "outputs": [],
   "source": []
  },
  {
   "cell_type": "markdown",
   "id": "85c79f94",
   "metadata": {},
   "source": [
    "## Feature Selection using a model (aka embedded method)\n",
    "- Feature selection is performed using \"Embedded methods\" (regularized logisitic regression) that concurrently performs feature selection and model training.\n",
    "- Use SelectFromModel(): SelectFromModel is a meta-transformer that can be used alongside any estimator that assigns importance to each feature through a specific attribute (such as coef_, feature_importances) or via an importance_getter callable after fitting.\n",
    "- Features are considered unimportant and removed (set to False in the output selector.get_support()) if the corresponding importance of the feature values are below the provided threshold parameter. Apart from specifying the threshold numerically, there are built-in heuristics for finding a threshold using a string argument. Available heuristics are “mean”, “median” and float multiples of these like “0.1*mean”. In combination with the threshold criteria, one can use the max_features parameter to set a limit on the number of features to select."
   ]
  },
  {
   "cell_type": "markdown",
   "id": "616d67c8",
   "metadata": {},
   "source": [
    "### Implementation\n",
    "- As a first pass, let's perform feature selection on the processed data\n",
    "- In a real-life data project, we should include this as a step in a data pipeline (which we will do later in this notebook)\n",
    "- Use SelectFromModel*( wrapper which requires a model for feature selection\n",
    "- I will use sklearn's LogisticRegression:\n",
    "    - L2 (Ridge) regularization is applied by default\n",
    "    - sklearn automatically detects the multiclass case and the training algorithm will default to use the one-vs-rest (OvR) scheme. I can also set the multi-class parameters to specify what scheme I want to use to deal with multicalss. sklearn will use cross-entropy loss if the ‘multi_class’ option is set to ‘multinomial’. "
   ]
  },
  {
   "cell_type": "code",
   "execution_count": 21,
   "id": "59e329f4",
   "metadata": {},
   "outputs": [],
   "source": [
    "# Model for feature selection\n",
    "sel_clf = LogisticRegression(penalty = 'l2',\n",
    "                C=0.1, # inverse of regularization strength, smaller values means stronger regularization\n",
    "                random_state=RANDOM_STATE)"
   ]
  },
  {
   "cell_type": "code",
   "execution_count": 22,
   "id": "9e10e5f3",
   "metadata": {},
   "outputs": [],
   "source": [
    "# Init the selector\n",
    "selector = SelectFromModel(estimator=sel_clf,\n",
    "                          threshold=\"1.25*mean\") # only keep feature whose coeff is above 1.25* mean(coeff) "
   ]
  },
  {
   "cell_type": "code",
   "execution_count": 23,
   "id": "a3dbd72a",
   "metadata": {},
   "outputs": [],
   "source": [
    "# Fit the selector with the processed train dataset\n",
    "selector=selector.fit(x_tr_processed,y_train)"
   ]
  },
  {
   "cell_type": "code",
   "execution_count": 24,
   "id": "3dae70e8",
   "metadata": {},
   "outputs": [
    {
     "data": {
      "text/plain": [
       "array([ True, False, False,  True, False, False, False, False,  True,\n",
       "       False,  True,  True, False, False, False, False,  True, False,\n",
       "       False, False,  True,  True, False, False,  True,  True, False,\n",
       "        True, False,  True,  True, False, False,  True,  True, False,\n",
       "       False, False,  True, False, False,  True, False,  True, False,\n",
       "       False, False, False, False, False, False, False, False,  True,\n",
       "       False,  True, False, False, False, False, False, False, False,\n",
       "       False, False,  True, False, False,  True,  True,  True, False,\n",
       "       False, False, False, False, False, False,  True, False, False,\n",
       "       False, False, False, False, False, False, False,  True,  True,\n",
       "       False])"
      ]
     },
     "execution_count": 24,
     "metadata": {},
     "output_type": "execute_result"
    }
   ],
   "source": [
    "# Look at the features that were selected (those that were assigned True)\n",
    "selector.get_support() # mask"
   ]
  },
  {
   "cell_type": "code",
   "execution_count": 25,
   "id": "2fe9245d",
   "metadata": {},
   "outputs": [
    {
     "name": "stdout",
     "output_type": "stream",
     "text": [
      "In total, 27 features out of the original 91 are selected.\n"
     ]
    }
   ],
   "source": [
    "print(f\"In total, {selector.get_support().sum()} features out of the original {len(x_tr_processed.columns)} are selected.\")"
   ]
  },
  {
   "cell_type": "code",
   "execution_count": 26,
   "id": "b9ac8a1f",
   "metadata": {},
   "outputs": [
    {
     "data": {
      "text/plain": [
       "Index(['paredblolad', 'energcocinar2', 'area1', 'dependency', 'edjefe', 'r4h2',\n",
       "       'r4t1', 'r4t2', 'hogar_nin', 'hogar_adul', 'qmobilephone', 'roof',\n",
       "       'floor', 'amenities', 'phones_per_capita', 'female-sum',\n",
       "       'estadocivil1-sum', 'estadocivil3-std', 'instlevel1-sum',\n",
       "       'instlevel2-sum', 'instlevel8-max', 'escolari-min', 'escolari-max',\n",
       "       'escolari-sum', 'inst-max', 'inst_normalized_by_age-range_',\n",
       "       'tech-min'],\n",
       "      dtype='object')"
      ]
     },
     "execution_count": 26,
     "metadata": {},
     "output_type": "execute_result"
    }
   ],
   "source": [
    "# Print the list of selected features\n",
    "selected_feats = x_tr_processed.columns[selector.get_support()]\n",
    "selected_feats"
   ]
  },
  {
   "cell_type": "markdown",
   "id": "bec3bf39",
   "metadata": {},
   "source": [
    "**We can include SelectFromModel as a step in the data pipeline. The transform function of SelectFromModel will extract only the selected columns from the input dataframe.**"
   ]
  },
  {
   "cell_type": "code",
   "execution_count": null,
   "id": "6395407c",
   "metadata": {},
   "outputs": [],
   "source": []
  },
  {
   "cell_type": "code",
   "execution_count": null,
   "id": "42e593a3",
   "metadata": {},
   "outputs": [],
   "source": []
  },
  {
   "cell_type": "markdown",
   "id": "8bec15bf",
   "metadata": {},
   "source": [
    "## Modelling"
   ]
  },
  {
   "cell_type": "markdown",
   "id": "da9a4301",
   "metadata": {},
   "source": [
    "- y_train is highly imbalanced: 22% of observations has high poverty (extremely, or moderately vulnerable), and 77% low poverty (no or low vulnerability).\n",
    "- **Test harness:** to ensure each of our folds has the same class distribution as the full train data, we need to use StratifiedKFold, or StratifiedShuffleSplit"
   ]
  },
  {
   "cell_type": "code",
   "execution_count": 27,
   "id": "c0b335f1",
   "metadata": {},
   "outputs": [
    {
     "data": {
      "text/plain": [
       "0    0.776657\n",
       "1    0.223343\n",
       "Name: bin_target, dtype: float64"
      ]
     },
     "execution_count": 27,
     "metadata": {},
     "output_type": "execute_result"
    }
   ],
   "source": [
    "y_train.value_counts(normalize=True)"
   ]
  },
  {
   "cell_type": "code",
   "execution_count": 28,
   "id": "18dadd08",
   "metadata": {},
   "outputs": [],
   "source": [
    "# Init the feature selector (repeat the steps above)\n",
    "\n",
    "# Model for feature selection\n",
    "sel_clf = LogisticRegression(penalty = 'l2',\n",
    "                # inverse of regularization strength, smaller values means stronger regularization, \n",
    "                # could be a tuneable parameter later in GridSearchCV\n",
    "                C=0.1, \n",
    "                #multi_class = 'ovr', # one vs rest\n",
    "                random_state=RANDOM_STATE)"
   ]
  },
  {
   "cell_type": "code",
   "execution_count": 29,
   "id": "095ceeae",
   "metadata": {},
   "outputs": [],
   "source": [
    "# Define function to compute cv_scores for a user-specified model\n",
    "def evaluate_model(X,y,clf,cv,scoring):\n",
    "    \n",
    "    # Create pipeline\n",
    "    data_pipeline = Pipeline([\n",
    " \n",
    "         # === Imputation === #\n",
    "         (\"missing_imputation\", MeanMedianImputer(imputation_method=\"median\")),\n",
    " \n",
    "         # === drop qusai-constant variables === #\n",
    "         # drop variables with a level that appears in 0.75 of observations\n",
    "         ('drop_nzv', DropConstantFeatures(tol=0.75)),\n",
    " \n",
    "         # === normalization === #\n",
    "         ('scaler', MinMaxScaler()),\n",
    "        \n",
    "        # === feature selection using logreg === #\n",
    "        (\"feature_selection\", SelectFromModel(estimator=sel_clf, threshold=\"1.25*mean\")),\n",
    "        \n",
    "         # === model === #\n",
    "         ('model', clf)\n",
    "     ])\n",
    "    \n",
    "    # Compute cv scores\n",
    "    cv_scores = cross_val_score(estimator = data_pipeline,\n",
    "                                X = X,\n",
    "                                y = y,\n",
    "                                scoring = scoring,\n",
    "                                cv = cv,\n",
    "                                n_jobs=1)\n",
    "    \n",
    "    return cv_scores"
   ]
  },
  {
   "cell_type": "code",
   "execution_count": 30,
   "id": "84652829",
   "metadata": {},
   "outputs": [
    {
     "data": {
      "text/plain": [
       "10"
      ]
     },
     "execution_count": 30,
     "metadata": {},
     "output_type": "execute_result"
    }
   ],
   "source": [
    "# Define the CV iterator\n",
    "skf = StratifiedKFold(\n",
    "    n_splits = 10,\n",
    "    shuffle = True,\n",
    "    random_state = RANDOM_STATE\n",
    ")\n",
    "skf.get_n_splits()"
   ]
  },
  {
   "cell_type": "code",
   "execution_count": 31,
   "id": "a06565ce",
   "metadata": {},
   "outputs": [],
   "source": [
    "# Define a dict of models\n",
    "models = {\"dummy\": DummyClassifier(),\n",
    "          \"SGD\" : SGDClassifier(),\n",
    "          \"Random Forest\": RandomForestClassifier(n_estimators= 1000),\n",
    "          \"Extra trees\": ExtraTreesClassifier(),\n",
    "          \"SVC\" : LinearSVC(),\n",
    "          \"Naive Bayes\": GaussianNB(),\n",
    "          \"KNN\": KNeighborsClassifier()\n",
    "         }"
   ]
  },
  {
   "cell_type": "code",
   "execution_count": 32,
   "id": "00f6fd4b",
   "metadata": {},
   "outputs": [
    {
     "name": "stdout",
     "output_type": "stream",
     "text": [
      "dummy\n",
      "mean f1_weighted: 0.68\n",
      "stdev f1_weighted: 0.0\n",
      "\n",
      "SGD\n",
      "mean f1_weighted: 0.77\n",
      "stdev f1_weighted: 0.02\n",
      "\n",
      "Random Forest\n",
      "mean f1_weighted: 0.78\n",
      "stdev f1_weighted: 0.02\n",
      "\n",
      "Extra trees\n",
      "mean f1_weighted: 0.76\n",
      "stdev f1_weighted: 0.02\n",
      "\n",
      "SVC\n",
      "mean f1_weighted: 0.78\n",
      "stdev f1_weighted: 0.02\n",
      "\n",
      "Naive Bayes\n",
      "mean f1_weighted: 0.75\n",
      "stdev f1_weighted: 0.01\n",
      "\n"
     ]
    },
    {
     "name": "stderr",
     "output_type": "stream",
     "text": [
      "/Users/hfung/.pyenv/versions/3.8.0/lib/python3.8/site-packages/sklearn/neighbors/_classification.py:230: FutureWarning: Unlike other reduction functions (e.g. `skew`, `kurtosis`), the default behavior of `mode` typically preserves the axis it acts along. In SciPy 1.11.0, this behavior will change: the default value of `keepdims` will become False, the `axis` over which the statistic is taken will be eliminated, and the value None will no longer be accepted. Set `keepdims` to True or False to avoid this warning.\n",
      "  mode, _ = stats.mode(_y[neigh_ind, k], axis=1)\n",
      "/Users/hfung/.pyenv/versions/3.8.0/lib/python3.8/site-packages/sklearn/neighbors/_classification.py:230: FutureWarning: Unlike other reduction functions (e.g. `skew`, `kurtosis`), the default behavior of `mode` typically preserves the axis it acts along. In SciPy 1.11.0, this behavior will change: the default value of `keepdims` will become False, the `axis` over which the statistic is taken will be eliminated, and the value None will no longer be accepted. Set `keepdims` to True or False to avoid this warning.\n",
      "  mode, _ = stats.mode(_y[neigh_ind, k], axis=1)\n",
      "/Users/hfung/.pyenv/versions/3.8.0/lib/python3.8/site-packages/sklearn/neighbors/_classification.py:230: FutureWarning: Unlike other reduction functions (e.g. `skew`, `kurtosis`), the default behavior of `mode` typically preserves the axis it acts along. In SciPy 1.11.0, this behavior will change: the default value of `keepdims` will become False, the `axis` over which the statistic is taken will be eliminated, and the value None will no longer be accepted. Set `keepdims` to True or False to avoid this warning.\n",
      "  mode, _ = stats.mode(_y[neigh_ind, k], axis=1)\n",
      "/Users/hfung/.pyenv/versions/3.8.0/lib/python3.8/site-packages/sklearn/neighbors/_classification.py:230: FutureWarning: Unlike other reduction functions (e.g. `skew`, `kurtosis`), the default behavior of `mode` typically preserves the axis it acts along. In SciPy 1.11.0, this behavior will change: the default value of `keepdims` will become False, the `axis` over which the statistic is taken will be eliminated, and the value None will no longer be accepted. Set `keepdims` to True or False to avoid this warning.\n",
      "  mode, _ = stats.mode(_y[neigh_ind, k], axis=1)\n",
      "/Users/hfung/.pyenv/versions/3.8.0/lib/python3.8/site-packages/sklearn/neighbors/_classification.py:230: FutureWarning: Unlike other reduction functions (e.g. `skew`, `kurtosis`), the default behavior of `mode` typically preserves the axis it acts along. In SciPy 1.11.0, this behavior will change: the default value of `keepdims` will become False, the `axis` over which the statistic is taken will be eliminated, and the value None will no longer be accepted. Set `keepdims` to True or False to avoid this warning.\n",
      "  mode, _ = stats.mode(_y[neigh_ind, k], axis=1)\n",
      "/Users/hfung/.pyenv/versions/3.8.0/lib/python3.8/site-packages/sklearn/neighbors/_classification.py:230: FutureWarning: Unlike other reduction functions (e.g. `skew`, `kurtosis`), the default behavior of `mode` typically preserves the axis it acts along. In SciPy 1.11.0, this behavior will change: the default value of `keepdims` will become False, the `axis` over which the statistic is taken will be eliminated, and the value None will no longer be accepted. Set `keepdims` to True or False to avoid this warning.\n",
      "  mode, _ = stats.mode(_y[neigh_ind, k], axis=1)\n",
      "/Users/hfung/.pyenv/versions/3.8.0/lib/python3.8/site-packages/sklearn/neighbors/_classification.py:230: FutureWarning: Unlike other reduction functions (e.g. `skew`, `kurtosis`), the default behavior of `mode` typically preserves the axis it acts along. In SciPy 1.11.0, this behavior will change: the default value of `keepdims` will become False, the `axis` over which the statistic is taken will be eliminated, and the value None will no longer be accepted. Set `keepdims` to True or False to avoid this warning.\n",
      "  mode, _ = stats.mode(_y[neigh_ind, k], axis=1)\n",
      "/Users/hfung/.pyenv/versions/3.8.0/lib/python3.8/site-packages/sklearn/neighbors/_classification.py:230: FutureWarning: Unlike other reduction functions (e.g. `skew`, `kurtosis`), the default behavior of `mode` typically preserves the axis it acts along. In SciPy 1.11.0, this behavior will change: the default value of `keepdims` will become False, the `axis` over which the statistic is taken will be eliminated, and the value None will no longer be accepted. Set `keepdims` to True or False to avoid this warning.\n",
      "  mode, _ = stats.mode(_y[neigh_ind, k], axis=1)\n",
      "/Users/hfung/.pyenv/versions/3.8.0/lib/python3.8/site-packages/sklearn/neighbors/_classification.py:230: FutureWarning: Unlike other reduction functions (e.g. `skew`, `kurtosis`), the default behavior of `mode` typically preserves the axis it acts along. In SciPy 1.11.0, this behavior will change: the default value of `keepdims` will become False, the `axis` over which the statistic is taken will be eliminated, and the value None will no longer be accepted. Set `keepdims` to True or False to avoid this warning.\n",
      "  mode, _ = stats.mode(_y[neigh_ind, k], axis=1)\n"
     ]
    },
    {
     "name": "stdout",
     "output_type": "stream",
     "text": [
      "KNN\n",
      "mean f1_weighted: 0.75\n",
      "stdev f1_weighted: 0.02\n",
      "\n"
     ]
    },
    {
     "name": "stderr",
     "output_type": "stream",
     "text": [
      "/Users/hfung/.pyenv/versions/3.8.0/lib/python3.8/site-packages/sklearn/neighbors/_classification.py:230: FutureWarning: Unlike other reduction functions (e.g. `skew`, `kurtosis`), the default behavior of `mode` typically preserves the axis it acts along. In SciPy 1.11.0, this behavior will change: the default value of `keepdims` will become False, the `axis` over which the statistic is taken will be eliminated, and the value None will no longer be accepted. Set `keepdims` to True or False to avoid this warning.\n",
      "  mode, _ = stats.mode(_y[neigh_ind, k], axis=1)\n"
     ]
    }
   ],
   "source": [
    "warnings.filterwarnings('ignore', category = ConvergenceWarning)\n",
    "\n",
    "# Train each model in the models dict, and then populate a dataframe with scores\n",
    "\n",
    "res = {} # empty results dictionary that will contain cv_scores for each model\n",
    "\n",
    "for k,v in models.items():\n",
    "    cv_scores = evaluate_model(X = X_train,\n",
    "                   y = y_train,\n",
    "                   clf = v,\n",
    "                   cv = skf,\n",
    "                   scoring = SCORING\n",
    "                  )\n",
    "    # update results dictionary\n",
    "    res.update({k:cv_scores})\n",
    "    \n",
    "    # print mean and sd cv scores of each model\\\n",
    "    print(f\"{k}\")\n",
    "    print(f\"mean {SCORING}: {np.round(np.mean(cv_scores),2)}\")\n",
    "    print(f\"stdev {SCORING}: {np.round(np.std(cv_scores),2)}\")\n",
    "    print()"
   ]
  },
  {
   "cell_type": "code",
   "execution_count": 33,
   "id": "10501b00",
   "metadata": {},
   "outputs": [
    {
     "data": {
      "text/plain": [
       "{'dummy': array([0.67698963, 0.67698963, 0.67698963, 0.68055556, 0.68055556,\n",
       "        0.68055556, 0.68055556, 0.68055556, 0.68055556, 0.67595627]),\n",
       " 'SGD': array([0.76125238, 0.77307925, 0.78323124, 0.77511478, 0.77064533,\n",
       "        0.79849976, 0.73188406, 0.7775309 , 0.78792572, 0.78711356]),\n",
       " 'Random Forest': array([0.75255312, 0.7753018 , 0.7856194 , 0.79611777, 0.75904827,\n",
       "        0.75421245, 0.79698709, 0.80695272, 0.79611777, 0.77980428]),\n",
       " 'Extra trees': array([0.73838253, 0.76886103, 0.77354222, 0.75384717, 0.75163437,\n",
       "        0.74422047, 0.78400488, 0.78870387, 0.77589071, 0.76752745]),\n",
       " 'SVC': array([0.76125238, 0.79622022, 0.76342331, 0.77858542, 0.74936676,\n",
       "        0.77266194, 0.77250214, 0.7753096 , 0.79012346, 0.80475353]),\n",
       " 'Naive Bayes': array([0.75059434, 0.74961875, 0.74224259, 0.75835373, 0.74580067,\n",
       "        0.74121408, 0.73556617, 0.74541063, 0.76358758, 0.75999569]),\n",
       " 'KNN': array([0.71739508, 0.77156166, 0.76369067, 0.75698345, 0.76199466,\n",
       "        0.72445579, 0.74676435, 0.7732053 , 0.75701305, 0.76048052])}"
      ]
     },
     "execution_count": 33,
     "metadata": {},
     "output_type": "execute_result"
    }
   ],
   "source": [
    "res"
   ]
  },
  {
   "cell_type": "code",
   "execution_count": 34,
   "id": "5d86b872",
   "metadata": {},
   "outputs": [
    {
     "data": {
      "text/html": [
       "<div>\n",
       "<style scoped>\n",
       "    .dataframe tbody tr th:only-of-type {\n",
       "        vertical-align: middle;\n",
       "    }\n",
       "\n",
       "    .dataframe tbody tr th {\n",
       "        vertical-align: top;\n",
       "    }\n",
       "\n",
       "    .dataframe thead th {\n",
       "        text-align: right;\n",
       "    }\n",
       "</style>\n",
       "<table border=\"1\" class=\"dataframe\">\n",
       "  <thead>\n",
       "    <tr style=\"text-align: right;\">\n",
       "      <th></th>\n",
       "      <th>dummy</th>\n",
       "      <th>SGD</th>\n",
       "      <th>Random Forest</th>\n",
       "      <th>Extra trees</th>\n",
       "      <th>SVC</th>\n",
       "      <th>Naive Bayes</th>\n",
       "      <th>KNN</th>\n",
       "    </tr>\n",
       "  </thead>\n",
       "  <tbody>\n",
       "    <tr>\n",
       "      <th>0</th>\n",
       "      <td>0.676990</td>\n",
       "      <td>0.761252</td>\n",
       "      <td>0.752553</td>\n",
       "      <td>0.738383</td>\n",
       "      <td>0.761252</td>\n",
       "      <td>0.750594</td>\n",
       "      <td>0.717395</td>\n",
       "    </tr>\n",
       "    <tr>\n",
       "      <th>1</th>\n",
       "      <td>0.676990</td>\n",
       "      <td>0.773079</td>\n",
       "      <td>0.775302</td>\n",
       "      <td>0.768861</td>\n",
       "      <td>0.796220</td>\n",
       "      <td>0.749619</td>\n",
       "      <td>0.771562</td>\n",
       "    </tr>\n",
       "    <tr>\n",
       "      <th>2</th>\n",
       "      <td>0.676990</td>\n",
       "      <td>0.783231</td>\n",
       "      <td>0.785619</td>\n",
       "      <td>0.773542</td>\n",
       "      <td>0.763423</td>\n",
       "      <td>0.742243</td>\n",
       "      <td>0.763691</td>\n",
       "    </tr>\n",
       "    <tr>\n",
       "      <th>3</th>\n",
       "      <td>0.680556</td>\n",
       "      <td>0.775115</td>\n",
       "      <td>0.796118</td>\n",
       "      <td>0.753847</td>\n",
       "      <td>0.778585</td>\n",
       "      <td>0.758354</td>\n",
       "      <td>0.756983</td>\n",
       "    </tr>\n",
       "    <tr>\n",
       "      <th>4</th>\n",
       "      <td>0.680556</td>\n",
       "      <td>0.770645</td>\n",
       "      <td>0.759048</td>\n",
       "      <td>0.751634</td>\n",
       "      <td>0.749367</td>\n",
       "      <td>0.745801</td>\n",
       "      <td>0.761995</td>\n",
       "    </tr>\n",
       "  </tbody>\n",
       "</table>\n",
       "</div>"
      ],
      "text/plain": [
       "      dummy       SGD  Random Forest  Extra trees       SVC  Naive Bayes  \\\n",
       "0  0.676990  0.761252       0.752553     0.738383  0.761252     0.750594   \n",
       "1  0.676990  0.773079       0.775302     0.768861  0.796220     0.749619   \n",
       "2  0.676990  0.783231       0.785619     0.773542  0.763423     0.742243   \n",
       "3  0.680556  0.775115       0.796118     0.753847  0.778585     0.758354   \n",
       "4  0.680556  0.770645       0.759048     0.751634  0.749367     0.745801   \n",
       "\n",
       "        KNN  \n",
       "0  0.717395  \n",
       "1  0.771562  \n",
       "2  0.763691  \n",
       "3  0.756983  \n",
       "4  0.761995  "
      ]
     },
     "execution_count": 34,
     "metadata": {},
     "output_type": "execute_result"
    }
   ],
   "source": [
    "# Create results dataframe\n",
    "df_res = pd.DataFrame.from_dict(res)\n",
    "df_res.head()"
   ]
  },
  {
   "cell_type": "markdown",
   "id": "daf56841",
   "metadata": {},
   "source": [
    "## Visualize cv scores"
   ]
  },
  {
   "cell_type": "code",
   "execution_count": 35,
   "id": "136a8622",
   "metadata": {},
   "outputs": [
    {
     "data": {
      "text/html": [
       "<div>\n",
       "<style scoped>\n",
       "    .dataframe tbody tr th:only-of-type {\n",
       "        vertical-align: middle;\n",
       "    }\n",
       "\n",
       "    .dataframe tbody tr th {\n",
       "        vertical-align: top;\n",
       "    }\n",
       "\n",
       "    .dataframe thead th {\n",
       "        text-align: right;\n",
       "    }\n",
       "</style>\n",
       "<table border=\"1\" class=\"dataframe\">\n",
       "  <thead>\n",
       "    <tr style=\"text-align: right;\">\n",
       "      <th></th>\n",
       "      <th></th>\n",
       "      <th>0</th>\n",
       "    </tr>\n",
       "  </thead>\n",
       "  <tbody>\n",
       "    <tr>\n",
       "      <th rowspan=\"5\" valign=\"top\">dummy</th>\n",
       "      <th>0</th>\n",
       "      <td>0.676990</td>\n",
       "    </tr>\n",
       "    <tr>\n",
       "      <th>1</th>\n",
       "      <td>0.676990</td>\n",
       "    </tr>\n",
       "    <tr>\n",
       "      <th>2</th>\n",
       "      <td>0.676990</td>\n",
       "    </tr>\n",
       "    <tr>\n",
       "      <th>3</th>\n",
       "      <td>0.680556</td>\n",
       "    </tr>\n",
       "    <tr>\n",
       "      <th>4</th>\n",
       "      <td>0.680556</td>\n",
       "    </tr>\n",
       "    <tr>\n",
       "      <th>...</th>\n",
       "      <th>...</th>\n",
       "      <td>...</td>\n",
       "    </tr>\n",
       "    <tr>\n",
       "      <th rowspan=\"5\" valign=\"top\">KNN</th>\n",
       "      <th>5</th>\n",
       "      <td>0.724456</td>\n",
       "    </tr>\n",
       "    <tr>\n",
       "      <th>6</th>\n",
       "      <td>0.746764</td>\n",
       "    </tr>\n",
       "    <tr>\n",
       "      <th>7</th>\n",
       "      <td>0.773205</td>\n",
       "    </tr>\n",
       "    <tr>\n",
       "      <th>8</th>\n",
       "      <td>0.757013</td>\n",
       "    </tr>\n",
       "    <tr>\n",
       "      <th>9</th>\n",
       "      <td>0.760481</td>\n",
       "    </tr>\n",
       "  </tbody>\n",
       "</table>\n",
       "<p>70 rows × 1 columns</p>\n",
       "</div>"
      ],
      "text/plain": [
       "                0\n",
       "dummy 0  0.676990\n",
       "      1  0.676990\n",
       "      2  0.676990\n",
       "      3  0.680556\n",
       "      4  0.680556\n",
       "...           ...\n",
       "KNN   5  0.724456\n",
       "      6  0.746764\n",
       "      7  0.773205\n",
       "      8  0.757013\n",
       "      9  0.760481\n",
       "\n",
       "[70 rows x 1 columns]"
      ]
     },
     "execution_count": 35,
     "metadata": {},
     "output_type": "execute_result"
    }
   ],
   "source": [
    "df_res.unstack().to_frame()"
   ]
  },
  {
   "cell_type": "code",
   "execution_count": 36,
   "id": "af38a9f9",
   "metadata": {},
   "outputs": [
    {
     "data": {
      "text/plain": [
       "Text(0.5, 0, 'CV average f1_weighted')"
      ]
     },
     "execution_count": 36,
     "metadata": {},
     "output_type": "execute_result"
    },
    {
     "data": {
      "image/png": "[encoded data removed]",
      "text/plain": [
       "<Figure size 720x360 with 1 Axes>"
      ]
     },
     "metadata": {},
     "output_type": "display_data"
    }
   ],
   "source": [
    "# Plot styling\n",
    "plt.style.use(\"fivethirtyeight\")\n",
    "plt.rcParams[\"font.size\"] = 12\n",
    "\n",
    "df_res = df_res.unstack().to_frame()\n",
    "\n",
    "fig = plt.figure(figsize=(10,5))\n",
    "sns.boxplot(\n",
    "    y=df_res.index.get_level_values(0),\n",
    "    x=df_res[0])\n",
    "plt.xlabel(f\"CV average {SCORING}\")"
   ]
  },
  {
   "cell_type": "code",
   "execution_count": null,
   "id": "2bfc2534",
   "metadata": {},
   "outputs": [],
   "source": []
  },
  {
   "cell_type": "code",
   "execution_count": null,
   "id": "22397426",
   "metadata": {},
   "outputs": [],
   "source": []
  },
  {
   "cell_type": "markdown",
   "id": "6ca85afe",
   "metadata": {},
   "source": [
    "## Hyperparameters tuning using RandomizedSearchCV\n",
    "- I will select RandomForestClassifer as the model to optimize\n",
    "- I will tune parameters for the processing transformers also (e.g., SelectModel)"
   ]
  },
  {
   "cell_type": "code",
   "execution_count": 37,
   "id": "efb21b62",
   "metadata": {},
   "outputs": [
    {
     "data": {
      "text/plain": [
       "5"
      ]
     },
     "execution_count": 37,
     "metadata": {},
     "output_type": "execute_result"
    }
   ],
   "source": [
    "# Define the CV iterator\n",
    "skf = StratifiedKFold(\n",
    "    n_splits = 5,\n",
    "    shuffle = True,\n",
    "    random_state = 10\n",
    ")\n",
    "skf.get_n_splits()"
   ]
  },
  {
   "cell_type": "code",
   "execution_count": 38,
   "id": "2407fd74",
   "metadata": {},
   "outputs": [],
   "source": [
    "# Create pipeline\n",
    "data_pipeline = Pipeline([\n",
    "    # === Imputation === #\n",
    "    (\"missing_imputation\", MeanMedianImputer(imputation_method=\"median\")),\n",
    "    \n",
    "    # === drop qusai-constant variables === #\n",
    "    # drop variables with a level that appears in tol of observations\n",
    "    ('drop_nzv', DropConstantFeatures()),\n",
    "    \n",
    "    # === normalization === #\n",
    "    ('scaler', MinMaxScaler()),\n",
    "    \n",
    "    # === feature selection using logreg === #\n",
    "    (\"fs\", SelectFromModel(estimator=sel_clf)),\n",
    "    \n",
    "    # === model === #\n",
    "    ('clf',  RandomForestClassifier())\n",
    " ])"
   ]
  },
  {
   "cell_type": "code",
   "execution_count": 39,
   "id": "bba13c34",
   "metadata": {},
   "outputs": [],
   "source": [
    "# random grid\n",
    "random_grid = {\n",
    "    \n",
    "    # drop_nzv parameterse\n",
    "    \"drop_nzv__tol\":[0.75, 0.8, 0.9],\n",
    "    \n",
    "    # feature selection parameters\n",
    "    \"fs__threshold\":[\"mean\",\"1.25*mean\", \"1.5*mean\"],\n",
    "    \n",
    "    # classifier parameters \n",
    "    \"clf__n_estimators\": [10, 100, 1000],\n",
    "    \"clf__max_depth\": [None,1,3,10,40,50],\n",
    "    \"clf__min_samples_split\": [2,5,10,50,100],\n",
    "    \"clf__min_samples_leaf\": [2,5,10,50,100]\n",
    "}"
   ]
  },
  {
   "cell_type": "code",
   "execution_count": 40,
   "id": "6f99197f",
   "metadata": {},
   "outputs": [],
   "source": [
    "# Perform random search of the parameters, using a 10 fold CV to estimate the test metric for each setting.\n",
    "\n",
    "# init random grid search object\n",
    "rand_grid_search = RandomizedSearchCV(estimator = data_pipeline,\n",
    "                                param_distributions = random_grid,\n",
    "                                n_iter = 10,  # randomly select 10 different settings to try\n",
    "                                cv = skf,       # use 5-fold CV for each setting to estimate its test metric\n",
    "                                scoring=SCORING,\n",
    "                                verbose = 1, #2   # show the process\n",
    "                                n_jobs =-1,  # use all processors\n",
    "                                random_state = RANDOM_STATE)"
   ]
  },
  {
   "cell_type": "code",
   "execution_count": 41,
   "id": "53b7cbcf",
   "metadata": {},
   "outputs": [
    {
     "name": "stdout",
     "output_type": "stream",
     "text": [
      "Fitting 5 folds for each of 10 candidates, totalling 50 fits\n"
     ]
    },
    {
     "data": {
      "text/plain": [
       "RandomizedSearchCV(cv=StratifiedKFold(n_splits=5, random_state=10, shuffle=True),\n",
       "                   estimator=Pipeline(steps=[('missing_imputation',\n",
       "                                              MeanMedianImputer()),\n",
       "                                             ('drop_nzv',\n",
       "                                              DropConstantFeatures()),\n",
       "                                             ('scaler', MinMaxScaler()),\n",
       "                                             ('fs',\n",
       "                                              SelectFromModel(estimator=LogisticRegression(C=0.1,\n",
       "                                                                                           random_state=10))),\n",
       "                                             ('clf',\n",
       "                                              RandomForestClassifier())]),\n",
       "                   n_jobs=-1,\n",
       "                   param_distributions={'clf__max_depth': [None, 1, 3, 10, 40,\n",
       "                                                           50],\n",
       "                                        'clf__min_samples_leaf': [2, 5, 10, 50,\n",
       "                                                                  100],\n",
       "                                        'clf__min_samples_split': [2, 5, 10, 50,\n",
       "                                                                   100],\n",
       "                                        'clf__n_estimators': [10, 100, 1000],\n",
       "                                        'drop_nzv__tol': [0.75, 0.8, 0.9],\n",
       "                                        'fs__threshold': ['mean', '1.25*mean',\n",
       "                                                          '1.5*mean']},\n",
       "                   random_state=10, scoring='f1_weighted', verbose=1)"
      ]
     },
     "execution_count": 41,
     "metadata": {},
     "output_type": "execute_result"
    }
   ],
   "source": [
    "# fit model\n",
    "rand_grid_search.fit(X_train, y_train)"
   ]
  },
  {
   "cell_type": "code",
   "execution_count": 42,
   "id": "5560c3ef",
   "metadata": {},
   "outputs": [
    {
     "name": "stdout",
     "output_type": "stream",
     "text": [
      "The mean CV f1_weighted of the best estimator is: 0.7821034899780663\n"
     ]
    }
   ],
   "source": [
    "print(f\"The mean CV {SCORING} of the best estimator is: {rand_grid_search.best_score_}\")"
   ]
  },
  {
   "cell_type": "code",
   "execution_count": 43,
   "id": "bcd4097b",
   "metadata": {},
   "outputs": [
    {
     "data": {
      "text/plain": [
       "{'fs__threshold': 'mean',\n",
       " 'drop_nzv__tol': 0.8,\n",
       " 'clf__n_estimators': 100,\n",
       " 'clf__min_samples_split': 10,\n",
       " 'clf__min_samples_leaf': 2,\n",
       " 'clf__max_depth': 50}"
      ]
     },
     "execution_count": 43,
     "metadata": {},
     "output_type": "execute_result"
    }
   ],
   "source": [
    "# Optimized parameters\n",
    "rand_grid_search.best_params_ "
   ]
  },
  {
   "cell_type": "code",
   "execution_count": null,
   "id": "c89121cf",
   "metadata": {},
   "outputs": [],
   "source": []
  },
  {
   "cell_type": "markdown",
   "id": "38ca8dec",
   "metadata": {},
   "source": [
    "## Hyperparameters tuning using GridSearchCV\n",
    "- Hone in on a smaller set of hyperparameters to tune (fine tuning)"
   ]
  },
  {
   "cell_type": "code",
   "execution_count": 44,
   "id": "356be8ba",
   "metadata": {},
   "outputs": [],
   "source": [
    "# Create pipeline, setting some parameters based on Random Search results\n",
    "data_pipeline = Pipeline([\n",
    "    # === Imputation === #\n",
    "    (\"missing_imputation\", MeanMedianImputer(imputation_method=\"median\")),\n",
    "    \n",
    "    # === drop qusai-constant variables === #\n",
    "    # drop variables with a level that appears in tol of observations\n",
    "    ('drop_nzv', DropConstantFeatures(tol=0.8)),\n",
    "    \n",
    "    # === normalization === #\n",
    "    ('scaler', MinMaxScaler()),\n",
    "    \n",
    "    # === feature selection using logreg === #\n",
    "    (\"fs\", SelectFromModel(estimator=sel_clf)),\n",
    "    \n",
    "    # === model === #\n",
    "    ('clf',  RandomForestClassifier(n_estimators=100))\n",
    " ])"
   ]
  },
  {
   "cell_type": "code",
   "execution_count": 45,
   "id": "f452334e",
   "metadata": {},
   "outputs": [],
   "source": [
    "# parameter grid\n",
    "param_grid = {\n",
    "     \n",
    "    # feature selection parameters\n",
    "    \"fs__threshold\":[\"0.5*mean\",\"0.75*mean\",\"mean\"],\n",
    "    \n",
    "    # classifier parameters \n",
    "    \"clf__max_depth\": [40, 50, 60],\n",
    "    \"clf__min_samples_split\": [8,10,15],\n",
    "    \"clf__min_samples_leaf\": [1,2,3]\n",
    "}"
   ]
  },
  {
   "cell_type": "code",
   "execution_count": 46,
   "id": "160af0a4",
   "metadata": {},
   "outputs": [],
   "source": [
    "# Instantiate the grid search model\n",
    "grid_search = GridSearchCV(estimator = data_pipeline, \n",
    "                           param_grid = param_grid, \n",
    "                           cv = skf, \n",
    "                           scoring=SCORING,\n",
    "                           verbose =1, # show the process\n",
    "                           n_jobs = -1)  # n_jobs = -1 means use all processors"
   ]
  },
  {
   "cell_type": "code",
   "execution_count": 47,
   "id": "36060143",
   "metadata": {},
   "outputs": [
    {
     "name": "stdout",
     "output_type": "stream",
     "text": [
      "Fitting 5 folds for each of 81 candidates, totalling 405 fits\n"
     ]
    },
    {
     "data": {
      "text/plain": [
       "GridSearchCV(cv=StratifiedKFold(n_splits=5, random_state=10, shuffle=True),\n",
       "             estimator=Pipeline(steps=[('missing_imputation',\n",
       "                                        MeanMedianImputer()),\n",
       "                                       ('drop_nzv',\n",
       "                                        DropConstantFeatures(tol=0.8)),\n",
       "                                       ('scaler', MinMaxScaler()),\n",
       "                                       ('fs',\n",
       "                                        SelectFromModel(estimator=LogisticRegression(C=0.1,\n",
       "                                                                                     random_state=10))),\n",
       "                                       ('clf', RandomForestClassifier())]),\n",
       "             n_jobs=-1,\n",
       "             param_grid={'clf__max_depth': [40, 50, 60],\n",
       "                         'clf__min_samples_leaf': [1, 2, 3],\n",
       "                         'clf__min_samples_split': [8, 10, 15],\n",
       "                         'fs__threshold': ['0.5*mean', '0.75*mean', 'mean']},\n",
       "             scoring='f1_weighted', verbose=1)"
      ]
     },
     "execution_count": 47,
     "metadata": {},
     "output_type": "execute_result"
    }
   ],
   "source": [
    "# fit model\n",
    "grid_search.fit(X_train, y_train)"
   ]
  },
  {
   "cell_type": "code",
   "execution_count": 48,
   "id": "bed38576",
   "metadata": {},
   "outputs": [
    {
     "data": {
      "text/plain": [
       "{'clf__max_depth': 40,\n",
       " 'clf__min_samples_leaf': 3,\n",
       " 'clf__min_samples_split': 10,\n",
       " 'fs__threshold': '0.75*mean'}"
      ]
     },
     "execution_count": 48,
     "metadata": {},
     "output_type": "execute_result"
    }
   ],
   "source": [
    "# Let's take a look at the optimal parameters\n",
    "grid_search.best_params_"
   ]
  },
  {
   "cell_type": "code",
   "execution_count": 49,
   "id": "f581d3da",
   "metadata": {},
   "outputs": [
    {
     "name": "stdout",
     "output_type": "stream",
     "text": [
      "The optimal model has f1_weighted of 0.794439583106374\n"
     ]
    }
   ],
   "source": [
    "# What is the score of the model with the optimal parameter\n",
    "print(f\"The optimal model has {SCORING} of {grid_search.best_score_}\")"
   ]
  },
  {
   "cell_type": "code",
   "execution_count": 50,
   "id": "f6127957",
   "metadata": {},
   "outputs": [],
   "source": [
    "# Persist the optimal pipeline (NOTE: the estimator of the grid_search object is a pipeline)\n",
    "grid_search_best_pipeline = grid_search.best_estimator_\n",
    "\n",
    "# Save as pickle\n",
    "with open(Path('models','grid_search_best_pipeline.pkl'), 'wb') as f:\n",
    "    pickle.dump(grid_search_best_pipeline, f)"
   ]
  },
  {
   "cell_type": "markdown",
   "id": "61000041",
   "metadata": {},
   "source": [
    "## Selected features"
   ]
  },
  {
   "cell_type": "code",
   "execution_count": 51,
   "id": "459e8b4a",
   "metadata": {},
   "outputs": [
    {
     "data": {
      "text/plain": [
       "219"
      ]
     },
     "execution_count": 51,
     "metadata": {},
     "output_type": "execute_result"
    }
   ],
   "source": [
    "# Original number of columns in X_train\n",
    "len(train_feature_names)"
   ]
  },
  {
   "cell_type": "code",
   "execution_count": 52,
   "id": "f607c3a3",
   "metadata": {},
   "outputs": [
    {
     "data": {
      "text/plain": [
       "117"
      ]
     },
     "execution_count": 52,
     "metadata": {},
     "output_type": "execute_result"
    }
   ],
   "source": [
    "# features dropped due to nzv\n",
    "dropped_features = grid_search_best_pipeline.named_steps.drop_nzv.features_to_drop_\n",
    "len(dropped_features)"
   ]
  },
  {
   "cell_type": "code",
   "execution_count": 53,
   "id": "b1258268",
   "metadata": {},
   "outputs": [
    {
     "data": {
      "text/plain": [
       "102"
      ]
     },
     "execution_count": 53,
     "metadata": {},
     "output_type": "execute_result"
    }
   ],
   "source": [
    "# features that remain after dropping those with nzv\n",
    "feature_names_post_nzv= [f for f in X_train.columns.values if f not in dropped_features]\n",
    "len(feature_names_post_nzv)"
   ]
  },
  {
   "cell_type": "code",
   "execution_count": 54,
   "id": "a7a4cafa",
   "metadata": {},
   "outputs": [
    {
     "data": {
      "text/plain": [
       "102"
      ]
     },
     "execution_count": 54,
     "metadata": {},
     "output_type": "execute_result"
    }
   ],
   "source": [
    "# Get the boolean mask of features that are selected by SelectFrom Model\n",
    "mask = (grid_search_best_pipeline.named_steps.fs.get_support())\n",
    "len(mask)"
   ]
  },
  {
   "cell_type": "code",
   "execution_count": 55,
   "id": "7291b9f4",
   "metadata": {},
   "outputs": [
    {
     "data": {
      "text/plain": [
       "59"
      ]
     },
     "execution_count": 55,
     "metadata": {},
     "output_type": "execute_result"
    }
   ],
   "source": [
    "# Get list of features that are selected\n",
    "selected_features=list(compress(feature_names_post_nzv, mask))\n",
    "len(selected_features)"
   ]
  },
  {
   "cell_type": "code",
   "execution_count": null,
   "id": "79a25117",
   "metadata": {},
   "outputs": [],
   "source": []
  },
  {
   "cell_type": "markdown",
   "id": "d8e421ef",
   "metadata": {},
   "source": [
    "## Feature importance from Random Forest"
   ]
  },
  {
   "cell_type": "code",
   "execution_count": 56,
   "id": "ee432846",
   "metadata": {},
   "outputs": [],
   "source": [
    "# Get best random forest model\n",
    "best_rf= grid_search_best_pipeline.named_steps[\"clf\"]"
   ]
  },
  {
   "cell_type": "code",
   "execution_count": 57,
   "id": "91ea2f2a",
   "metadata": {},
   "outputs": [
    {
     "data": {
      "text/html": [
       "<div>\n",
       "<style scoped>\n",
       "    .dataframe tbody tr th:only-of-type {\n",
       "        vertical-align: middle;\n",
       "    }\n",
       "\n",
       "    .dataframe tbody tr th {\n",
       "        vertical-align: top;\n",
       "    }\n",
       "\n",
       "    .dataframe thead th {\n",
       "        text-align: right;\n",
       "    }\n",
       "</style>\n",
       "<table border=\"1\" class=\"dataframe\">\n",
       "  <thead>\n",
       "    <tr style=\"text-align: right;\">\n",
       "      <th></th>\n",
       "      <th>feature</th>\n",
       "      <th>importance</th>\n",
       "    </tr>\n",
       "  </thead>\n",
       "  <tbody>\n",
       "    <tr>\n",
       "      <th>0</th>\n",
       "      <td>paredblolad</td>\n",
       "      <td>0.019170</td>\n",
       "    </tr>\n",
       "    <tr>\n",
       "      <th>1</th>\n",
       "      <td>pisomoscer</td>\n",
       "      <td>0.015528</td>\n",
       "    </tr>\n",
       "    <tr>\n",
       "      <th>2</th>\n",
       "      <td>sanitario3</td>\n",
       "      <td>0.003886</td>\n",
       "    </tr>\n",
       "    <tr>\n",
       "      <th>3</th>\n",
       "      <td>energcocinar2</td>\n",
       "      <td>0.007339</td>\n",
       "    </tr>\n",
       "    <tr>\n",
       "      <th>4</th>\n",
       "      <td>energcocinar3</td>\n",
       "      <td>0.006105</td>\n",
       "    </tr>\n",
       "  </tbody>\n",
       "</table>\n",
       "</div>"
      ],
      "text/plain": [
       "         feature  importance\n",
       "0    paredblolad    0.019170\n",
       "1     pisomoscer    0.015528\n",
       "2     sanitario3    0.003886\n",
       "3  energcocinar2    0.007339\n",
       "4  energcocinar3    0.006105"
      ]
     },
     "execution_count": 57,
     "metadata": {},
     "output_type": "execute_result"
    }
   ],
   "source": [
    "# Extract the feature importances into a dataframe\n",
    "feature_results = pd.DataFrame({'feature': selected_features, \n",
    "                                'importance': best_rf.feature_importances_})\n",
    "feature_results.head()"
   ]
  },
  {
   "cell_type": "code",
   "execution_count": 58,
   "id": "e4bb04ce",
   "metadata": {},
   "outputs": [
    {
     "data": {
      "text/plain": [
       "<AxesSubplot:title={'center':'Top 10 important features from random forest'}, xlabel='Features', ylabel='Normalized feature importance'>"
      ]
     },
     "execution_count": 58,
     "metadata": {},
     "output_type": "execute_result"
    },
    {
     "data": {
      "image/png": "[encoded data removed]",
      "text/plain": [
       "<Figure size 720x360 with 1 Axes>"
      ]
     },
     "metadata": {},
     "output_type": "display_data"
    }
   ],
   "source": [
    "# Bar plot\n",
    "fig = plt.figure(figsize=(10,5))\n",
    "ax = fig.add_subplot(1,1,1)\n",
    "\n",
    "(feature_results\n",
    "     .sort_values(\"importance\", ascending=False)\n",
    "     .set_index(\"feature\")\n",
    "     .head(10)\n",
    "     .plot.barh(\n",
    "         ax=ax,\n",
    "         color='k',\n",
    "         alpha=0.7,\n",
    "         title=\"Top 10 important features from random forest\",\n",
    "         ylabel=\"Normalized feature importance\",\n",
    "         xlabel=\"Features\"         \n",
    "     ))"
   ]
  },
  {
   "cell_type": "code",
   "execution_count": null,
   "id": "ad02cd87",
   "metadata": {},
   "outputs": [],
   "source": []
  },
  {
   "cell_type": "code",
   "execution_count": null,
   "id": "a7ea1685",
   "metadata": {},
   "outputs": [],
   "source": []
  },
  {
   "cell_type": "code",
   "execution_count": null,
   "id": "be7148d3",
   "metadata": {},
   "outputs": [],
   "source": []
  },
  {
   "cell_type": "code",
   "execution_count": null,
   "id": "a8e263cd",
   "metadata": {},
   "outputs": [],
   "source": []
  },
  {
   "cell_type": "markdown",
   "id": "e6da9900",
   "metadata": {},
   "source": [
    "## Assess model predictions\n",
    "- We selected a ML approach\n",
    "- We optimized it by tuning its hyperparameters using RandomizedSearch CV and GridSearchCV\n",
    "- We persisted the optimized data pipeline\n",
    "- Now, let's look at different evaluation metrics"
   ]
  },
  {
   "cell_type": "markdown",
   "id": "63fd1542",
   "metadata": {},
   "source": [
    "### Label distribution of the train data compared to that of the prediction\n",
    "- We would expect the distribution of the labels from the train data, and the predictions inferred from the test data  to have similar distributions.\n",
    "- The following histrograms are normalized, meaning that they show the relative frequency instead of the absolute counts. This is necessary because the raw counts differ in the training and testing data."
   ]
  },
  {
   "cell_type": "markdown",
   "id": "7e66a007",
   "metadata": {},
   "source": [
    "RECALL: When predicting, we only make one prediction for each household and then we merge the predictions dataframe on the household id (idhogar) with another dataframe with two columns: individual ID and household ID. Basically, I make the same prediction for everyone within a household."
   ]
  },
  {
   "cell_type": "code",
   "execution_count": null,
   "id": "f7fd12ca",
   "metadata": {},
   "outputs": [],
   "source": []
  },
  {
   "cell_type": "markdown",
   "id": "138131b1",
   "metadata": {},
   "source": [
    "Make predictions using the optimized pipeline"
   ]
  },
  {
   "cell_type": "code",
   "execution_count": 59,
   "id": "fa741a09",
   "metadata": {},
   "outputs": [],
   "source": [
    "# Call predict on the estimator with the best found parameters. This is same as doing \n",
    "# grid_search_best_pipeline.predict(X_test)\n",
    "preds = grid_search.predict(X_test)"
   ]
  },
  {
   "cell_type": "code",
   "execution_count": 60,
   "id": "5e698375",
   "metadata": {},
   "outputs": [
    {
     "data": {
      "text/plain": [
       "7334"
      ]
     },
     "execution_count": 60,
     "metadata": {},
     "output_type": "execute_result"
    }
   ],
   "source": [
    "len(preds) # these predictions are at the household level (one prediction per household)"
   ]
  },
  {
   "cell_type": "code",
   "execution_count": 61,
   "id": "8fe973cf",
   "metadata": {},
   "outputs": [
    {
     "data": {
      "text/plain": [
       "(2973,)"
      ]
     },
     "execution_count": 61,
     "metadata": {},
     "output_type": "execute_result"
    }
   ],
   "source": [
    "y_train.shape # these are the label of the train data, also at the household leve"
   ]
  },
  {
   "cell_type": "markdown",
   "id": "7281783e",
   "metadata": {},
   "source": [
    "Plot the histogram: counts are normalized to form a probability density, i.e., the area (or integral) under the histogram will sum to 1."
   ]
  },
  {
   "cell_type": "code",
   "execution_count": 62,
   "id": "b4920815",
   "metadata": {},
   "outputs": [
    {
     "data": {
      "text/plain": [
       "<matplotlib.legend.Legend at 0x1343c03d0>"
      ]
     },
     "execution_count": 62,
     "metadata": {},
     "output_type": "execute_result"
    },
    {
     "data": {
      "image/png": "[encoded data removed]",
      "text/plain": [
       "<Figure size 720x360 with 1 Axes>"
      ]
     },
     "metadata": {},
     "output_type": "display_data"
    }
   ],
   "source": [
    "fig = plt.figure(figsize=(10,5))\n",
    "\n",
    "\n",
    "# labels of the train set\n",
    "plt.hist([y_train.to_numpy(),preds],\n",
    "         label = [\"Train Label Distribution\", \"Prediction Distribution\"],\n",
    "         density=True,\n",
    "         edgecolor = 'k',\n",
    "         linewidth = 2)\n",
    "\n",
    "\n",
    "plt.xticks([0,1],poverty_mapping.values())\n",
    "plt.legend(loc='best')"
   ]
  },
  {
   "cell_type": "markdown",
   "id": "3a66d9db",
   "metadata": {},
   "source": [
    "- We see that the prediction over-represents low poverty (the majortiy class), and under-represents high poverty (the minority class). Two methods to handle this:\n",
    "- **Cost sensitive learning:** One solution is to include \"weights\" in ML models so that more emphasis will be given to the minority class (set class_weight parameter in RandomForestClassifier() to \"balanced\").\n",
    "- **Data augomentation:** another solution is to use data-augmentation methods like SMOTE to augment the number of observations in the minority class.\n",
    "- Both Cost sensitive learning and SMOTE will be implemented in a different notebook."
   ]
  },
  {
   "cell_type": "code",
   "execution_count": null,
   "id": "8ec012be",
   "metadata": {},
   "outputs": [],
   "source": []
  },
  {
   "cell_type": "markdown",
   "id": "be219518",
   "metadata": {},
   "source": [
    "### Confusion Matrix\n",
    "Method 1:\n",
    "- Create train and validation set\n",
    "- Train model on the train set\n",
    "- Test model with the validation set: assess with the confusion matrix"
   ]
  },
  {
   "cell_type": "markdown",
   "id": "29a2e897",
   "metadata": {},
   "source": [
    "Method 2:\n",
    "- Use the FULL train set (don't split it into train and validation set)\n",
    "- Performs K-fold CV (e.g., split FULL train set into 3 folds). Use 1 fold to test, and the remaining folds to train.\n",
    "- If I use corss_val_predict(), each \"test\" fold is used generate \"clean predictions\". Meaning that the predictions were generated from a model that never saw the test data during training.\n",
    "- I repeat this for all test folds to get a set clean predictions (has the same sample size as the FULL train set)."
   ]
  },
  {
   "cell_type": "markdown",
   "id": "ec6f5c02",
   "metadata": {},
   "source": [
    "We will use Method 2"
   ]
  },
  {
   "cell_type": "code",
   "execution_count": 63,
   "id": "e6826951",
   "metadata": {},
   "outputs": [
    {
     "data": {
      "text/plain": [
       "Pipeline(steps=[('missing_imputation', MeanMedianImputer()),\n",
       "                ('drop_nzv', DropConstantFeatures(tol=0.8)),\n",
       "                ('scaler', MinMaxScaler()),\n",
       "                ('fs',\n",
       "                 SelectFromModel(estimator=LogisticRegression(C=0.1,\n",
       "                                                              random_state=10),\n",
       "                                 threshold='0.75*mean')),\n",
       "                ('clf',\n",
       "                 RandomForestClassifier(max_depth=40, min_samples_leaf=3,\n",
       "                                        min_samples_split=10))])"
      ]
     },
     "execution_count": 63,
     "metadata": {},
     "output_type": "execute_result"
    }
   ],
   "source": [
    "grid_search_best_pipeline # optimal pipeline"
   ]
  },
  {
   "cell_type": "code",
   "execution_count": 64,
   "id": "1d64ee1d",
   "metadata": {},
   "outputs": [],
   "source": [
    "y_train_pred = cross_val_predict(\n",
    "    estimator = grid_search_best_pipeline, # an estimator could be a pipeline or model\n",
    "    X = X_train,\n",
    "    y = y_train,\n",
    "    cv = skf\n",
    ")"
   ]
  },
  {
   "cell_type": "code",
   "execution_count": 65,
   "id": "5b979430",
   "metadata": {},
   "outputs": [
    {
     "data": {
      "text/plain": [
       "((2973,), (2973,))"
      ]
     },
     "execution_count": 65,
     "metadata": {},
     "output_type": "execute_result"
    }
   ],
   "source": [
    "# I have a set of clean predictions in y_train_pred\n",
    "y_train_pred.shape, y_train.shape "
   ]
  },
  {
   "cell_type": "code",
   "execution_count": 66,
   "id": "c0cb192a",
   "metadata": {},
   "outputs": [
    {
     "data": {
      "text/plain": [
       "array([[2190,  119],\n",
       "       [ 453,  211]])"
      ]
     },
     "execution_count": 66,
     "metadata": {},
     "output_type": "execute_result"
    }
   ],
   "source": [
    "# Confusion matrix\n",
    "cm = confusion_matrix(y_train, y_train_pred)\n",
    "cm"
   ]
  },
  {
   "cell_type": "markdown",
   "id": "91a682a7",
   "metadata": {},
   "source": [
    "**Plot the confusion in a heatmap**"
   ]
  },
  {
   "cell_type": "code",
   "execution_count": 67,
   "id": "c99ffc1e",
   "metadata": {},
   "outputs": [],
   "source": [
    "def plot_confusion_matrix(cm, \n",
    "                          classes,\n",
    "                          normalize=False,\n",
    "                          title='Confusion matrix',\n",
    "                          cmap=plt.cm.Oranges):\n",
    "    \"\"\"\n",
    "    This function prints and plots the confusion matrix.\n",
    "    Normalization can be applied by setting `normalize=True`.\n",
    "    Source: http://scikit-learn.org/stable/auto_examples/model_selection/plot_confusion_matrix.html\n",
    "    \"\"\"\n",
    "    if normalize:\n",
    "        cm = cm.astype('float') / cm.sum(axis=1)[:, np.newaxis]\n",
    "        print(\"Normalized confusion matrix\")\n",
    "    else:\n",
    "        print('Confusion matrix, without normalization')\n",
    "\n",
    "    print(cm)\n",
    "\n",
    "    plt.figure(figsize = (10, 10))\n",
    "    plt.imshow(cm, interpolation='nearest', cmap=cmap)\n",
    "    plt.title(title, size = 24)\n",
    "    plt.colorbar(aspect=4)\n",
    "    tick_marks = np.arange(len(classes))\n",
    "    plt.xticks(tick_marks, classes, rotation=45, size = 14)\n",
    "    plt.yticks(tick_marks, classes, size = 14)\n",
    "\n",
    "    fmt = '.2f' if normalize else 'd'\n",
    "    thresh = cm.max() / 2.\n",
    "    \n",
    "    # Labeling the plot\n",
    "    for i, j in itertools.product(range(cm.shape[0]), range(cm.shape[1])):\n",
    "        plt.text(j, i, format(cm[i, j], fmt), fontsize = 20,\n",
    "                 horizontalalignment=\"center\",\n",
    "                 color=\"white\" if cm[i, j] > thresh else \"black\")\n",
    "        \n",
    "    plt.grid(None)\n",
    "    plt.tight_layout()\n",
    "    plt.ylabel('True label', size = 18)\n",
    "    plt.xlabel('Predicted label', size = 18)"
   ]
  },
  {
   "cell_type": "code",
   "execution_count": 68,
   "id": "06b03b65",
   "metadata": {},
   "outputs": [
    {
     "name": "stdout",
     "output_type": "stream",
     "text": [
      "Confusion matrix, without normalization\n",
      "[[2190  119]\n",
      " [ 453  211]]\n"
     ]
    },
    {
     "data": {
      "image/png": "[encoded data removed]",
      "text/plain": [
       "<Figure size 720x720 with 2 Axes>"
      ]
     },
     "metadata": {},
     "output_type": "display_data"
    }
   ],
   "source": [
    "plot_confusion_matrix(cm = cm, \n",
    "                      classes = ['Low poverty', 'High poverty'],\n",
    "                      normalize=False,\n",
    "                      title = 'Poverty Confusion Matrix')"
   ]
  },
  {
   "cell_type": "code",
   "execution_count": 69,
   "id": "6c76d504",
   "metadata": {},
   "outputs": [
    {
     "name": "stdout",
     "output_type": "stream",
     "text": [
      "Normalized confusion matrix\n",
      "[[0.94846254 0.05153746]\n",
      " [0.68222892 0.31777108]]\n"
     ]
    },
    {
     "data": {
      "image/png": "[encoded data removed]",
      "text/plain": [
       "<Figure size 720x720 with 2 Axes>"
      ]
     },
     "metadata": {},
     "output_type": "display_data"
    }
   ],
   "source": [
    "plot_confusion_matrix(cm = cm, \n",
    "                      classes = ['Low poverty', 'High poverty'],\n",
    "                      normalize=True,\n",
    "                      title = 'Poverty Confusion Matrix')"
   ]
  },
  {
   "cell_type": "markdown",
   "id": "f6f89dba",
   "metadata": {},
   "source": [
    "### Comments:\n",
    "- Our model only predicts observations with low poverty (the majority calss) well. For example, it correctly predicts 95% of the observations in the validation set that actually have low poverty, and only 5% of those observations incorrectly as having high poverty.\n",
    "\n",
    "- Since we are more interested in how well the model predicts high poverty level, we will look at the positive (and minority) class: \n",
    "    - The model only correctly predicts 0.32 of all observations that actually have high poverty. The model has 32% recall.\n",
    "    - The model has moderately low precision. It makes 330 positive (high poverty) predictions, of those, 119 (64%) were correctly predicted. So it has 64% precision."
   ]
  },
  {
   "cell_type": "code",
   "execution_count": null,
   "id": "dbc3d6dd",
   "metadata": {},
   "outputs": [],
   "source": []
  },
  {
   "cell_type": "markdown",
   "id": "a49c622b",
   "metadata": {},
   "source": [
    "### ROC curve\n",
    "- I use the optimized pipeline to compute the proba for each fold (y_scores)\n",
    "- I use these proba scores to compute the fpr and tpr for each possible threshold.\n",
    "- The results will be used to create ROC curve"
   ]
  },
  {
   "cell_type": "code",
   "execution_count": 70,
   "id": "263d1755",
   "metadata": {},
   "outputs": [],
   "source": [
    "y_train_pred_scores = cross_val_predict(\n",
    "    estimator = grid_search_best_pipeline, # an estimator could be a pipeline or model\n",
    "    X = X_train,\n",
    "    y = y_train,\n",
    "    cv = skf,\n",
    "    method = \"predict_proba\"\n",
    ")"
   ]
  },
  {
   "cell_type": "code",
   "execution_count": 71,
   "id": "4a5c5411",
   "metadata": {},
   "outputs": [
    {
     "data": {
      "text/plain": [
       "array([[0.9299338 , 0.0700662 ],\n",
       "       [0.90300139, 0.09699861],\n",
       "       [0.67896402, 0.32103598],\n",
       "       ...,\n",
       "       [0.54732748, 0.45267252],\n",
       "       [0.78999939, 0.21000061],\n",
       "       [0.82802795, 0.17197205]])"
      ]
     },
     "execution_count": 71,
     "metadata": {},
     "output_type": "execute_result"
    }
   ],
   "source": [
    "y_train_pred_scores"
   ]
  },
  {
   "cell_type": "code",
   "execution_count": 72,
   "id": "5f0e3bed",
   "metadata": {},
   "outputs": [
    {
     "data": {
      "text/plain": [
       "(2973, 2)"
      ]
     },
     "execution_count": 72,
     "metadata": {},
     "output_type": "execute_result"
    }
   ],
   "source": [
    "y_train_pred_scores.shape"
   ]
  },
  {
   "cell_type": "markdown",
   "id": "108b763f",
   "metadata": {},
   "source": [
    "**Plotting the ROC curve**"
   ]
  },
  {
   "cell_type": "code",
   "execution_count": 73,
   "id": "a3643a26",
   "metadata": {},
   "outputs": [
    {
     "data": {
      "text/plain": [
       "array([0.0700662 , 0.09699861, 0.32103598, ..., 0.45267252, 0.21000061,\n",
       "       0.17197205])"
      ]
     },
     "execution_count": 73,
     "metadata": {},
     "output_type": "execute_result"
    }
   ],
   "source": [
    "y_train_pred_scores[:,1] # proba of the positive class"
   ]
  },
  {
   "cell_type": "code",
   "execution_count": 74,
   "id": "a02c1baa",
   "metadata": {},
   "outputs": [],
   "source": [
    "fpr,tpr,thresholds = roc_curve(y_train, y_train_pred_scores[:,1])"
   ]
  },
  {
   "cell_type": "code",
   "execution_count": 75,
   "id": "042688a5",
   "metadata": {},
   "outputs": [],
   "source": [
    "def plot_roc_curve(fpr, tpr, label=None):\n",
    "    \n",
    "    plt.figure(figsize = (10, 8))\n",
    "    plt.style.use(\"fivethirtyeight\")\n",
    "    plt.rcParams[\"font.size\"] = 12\n",
    "    \n",
    "    plt.plot(fpr,tpr, linewidth=2, label=label)\n",
    "    plt.plot([0,1],[0,1], 'k--') # dashed diagonal\n",
    "    plt.xlabel(\"False Positive Rate (FPR)\")\n",
    "    plt.ylabel(\"True Positive Rate (Recall)\")"
   ]
  },
  {
   "cell_type": "code",
   "execution_count": 76,
   "id": "b3989285",
   "metadata": {},
   "outputs": [
    {
     "data": {
      "image/png": "[encoded data removed]",
      "text/plain": [
       "<Figure size 720x576 with 1 Axes>"
      ]
     },
     "metadata": {},
     "output_type": "display_data"
    }
   ],
   "source": [
    "plot_roc_curve(fpr, tpr)"
   ]
  },
  {
   "cell_type": "code",
   "execution_count": 77,
   "id": "e5dd9c5d",
   "metadata": {},
   "outputs": [
    {
     "name": "stdout",
     "output_type": "stream",
     "text": [
      "The roc_auc score is 0.814968405453777\n"
     ]
    }
   ],
   "source": [
    "print(f\"The roc_auc score is {roc_auc_score(y_train, y_train_pred_scores[:,1])}\")"
   ]
  },
  {
   "cell_type": "markdown",
   "id": "be1ab364",
   "metadata": {},
   "source": [
    "NOTE: since our dataset has imbalanced class, ROC_AUC score tends to be an overestimation of the model performance."
   ]
  },
  {
   "cell_type": "markdown",
   "id": "ea36d3cb",
   "metadata": {},
   "source": [
    "### Precision and Recall curve\n",
    "- As a rule of thumb, you should use AUPRC whenever the positive class is rare (as in our case) or when you care more about the false positives than the false negatives. Otherwise, we use AUROC.\n",
    "- If I set my threshold to a high value, say 0.8, the classifier will make less positive predictions. In this case, its precision will increase, but its recall will decrease. The inverse is true if the threshold is low (e.g., 0.3)."
   ]
  },
  {
   "cell_type": "code",
   "execution_count": 78,
   "id": "44fb21e7",
   "metadata": {},
   "outputs": [],
   "source": [
    "# Compute the precision and recall for every possible threshold\n",
    "precisions, recalls, thresholds = precision_recall_curve(y_train, y_train_pred_scores[:,1])"
   ]
  },
  {
   "cell_type": "markdown",
   "id": "a71e7abe",
   "metadata": {},
   "source": [
    "**Plot the precision recall curve**"
   ]
  },
  {
   "cell_type": "code",
   "execution_count": 79,
   "id": "b3b37439",
   "metadata": {},
   "outputs": [],
   "source": [
    "def plot_precision_recall_vs_threshold(precisions, recalls, thresholds):\n",
    "    \n",
    "    plt.figure(figsize = (10, 8))\n",
    "    plt.style.use(\"fivethirtyeight\")\n",
    "    plt.rcParams[\"font.size\"] = 12\n",
    "    \n",
    "    plt.plot(thresholds, precisions[:-1], \"b--\", label=\"Precision\")\n",
    "    plt.plot(thresholds, recalls[:-1], \"g--\", label=\"Recall\")\n",
    "    \n",
    "    plt.xlabel(\"Threshold\")\n",
    "    plt.ylabel(\"Metric\")\n",
    "    plt.title(\"Precision and Recall vs Threshold\")\n",
    "    plt.legend(loc=\"best\")"
   ]
  },
  {
   "cell_type": "code",
   "execution_count": 80,
   "id": "f492ef94",
   "metadata": {},
   "outputs": [
    {
     "data": {
      "image/png": "[encoded data removed]",
      "text/plain": [
       "<Figure size 720x576 with 1 Axes>"
      ]
     },
     "metadata": {},
     "output_type": "display_data"
    }
   ],
   "source": [
    "plot_precision_recall_vs_threshold(precisions, recalls, thresholds)"
   ]
  },
  {
   "cell_type": "code",
   "execution_count": 81,
   "id": "50ce718b",
   "metadata": {},
   "outputs": [],
   "source": [
    "def plot_precision_vs_recall(precisions, recalls):\n",
    "    \n",
    "    plt.figure(figsize = (10, 8))\n",
    "    plt.style.use(\"fivethirtyeight\")\n",
    "    plt.rcParams[\"font.size\"] = 12\n",
    "    \n",
    "    plt.plot(recalls[:-1], precisions[:-1])\n",
    "    \n",
    "    plt.xlabel(\"Recall\")\n",
    "    plt.ylabel(\"Precision\")\n",
    "    plt.title(\"Precision vs Recall\")"
   ]
  },
  {
   "cell_type": "code",
   "execution_count": 82,
   "id": "b8f016e1",
   "metadata": {},
   "outputs": [
    {
     "data": {
      "image/png": "[encoded data removed]",
      "text/plain": [
       "<Figure size 720x576 with 1 Axes>"
      ]
     },
     "metadata": {},
     "output_type": "display_data"
    }
   ],
   "source": [
    "plot_precision_vs_recall(precisions, recalls)"
   ]
  },
  {
   "cell_type": "markdown",
   "id": "7e81935c",
   "metadata": {},
   "source": [
    "**Compute the area under the precision recall curve (AUPRC)**\n",
    "- Recall that if AUROC = 0.5, that means the performance of the classifier is no better than random guessing.\n",
    "- The same is NOT true for AUPRC. The baseline value (lowest) for AUPRC is the proportion of positive outcomes in the sample:\n",
    "    - positive outcomes/total # of samples\n",
    "    - For us, that's around 0.22"
   ]
  },
  {
   "cell_type": "code",
   "execution_count": 83,
   "id": "25ca409f",
   "metadata": {},
   "outputs": [
    {
     "data": {
      "text/plain": [
       "0    0.776657\n",
       "1    0.223343\n",
       "Name: bin_target, dtype: float64"
      ]
     },
     "execution_count": 83,
     "metadata": {},
     "output_type": "execute_result"
    }
   ],
   "source": [
    "y_train.value_counts(normalize=True)"
   ]
  },
  {
   "cell_type": "code",
   "execution_count": 84,
   "id": "9621f23f",
   "metadata": {},
   "outputs": [],
   "source": [
    "auprc = average_precision_score(y_train, y_train_pred_scores[:,1])"
   ]
  },
  {
   "cell_type": "code",
   "execution_count": 85,
   "id": "c3a65a12",
   "metadata": {},
   "outputs": [
    {
     "name": "stdout",
     "output_type": "stream",
     "text": [
      "The area under the precision-recall curve (AUPRC) is 0.5692502258835752. The baseline value (random guessing) is 0.22.\n"
     ]
    }
   ],
   "source": [
    "print(f\"The area under the precision-recall curve (AUPRC) is {auprc}. The baseline value (random guessing) is 0.22.\")"
   ]
  },
  {
   "cell_type": "code",
   "execution_count": null,
   "id": "e14bb8c1",
   "metadata": {},
   "outputs": [],
   "source": []
  },
  {
   "cell_type": "markdown",
   "id": "25068b73",
   "metadata": {},
   "source": [
    "### Learning Curves\n",
    "- Purpose: check if my model is overfitting or underfitting the data.\n",
    "- Estimate the train and test metric of the model using k-fold CV. The model will be trained data with varying sizes (starting at n=1, n=2, ...) \n",
    "- NOTE: the train metric is computed by training the model with the train set (remaining folds), and assessing using the same train set.\n",
    "- At each iteration, I get different CV scores.\n",
    "- Plot the CV scores against sample size to get learning curves.\n",
    "- If the train metric is a lot higher than the test metric, then I am overfitting.\n",
    "- If both the train metric and test metric are low, then I am underfitting."
   ]
  },
  {
   "cell_type": "code",
   "execution_count": 86,
   "id": "c255156f",
   "metadata": {},
   "outputs": [],
   "source": [
    "train_sizes, train_scores, valid_scores = learning_curve(\n",
    "    estimator = grid_search_best_pipeline, \n",
    "    X = X_train, \n",
    "    y = y_train,\n",
    "    cv = skf,\n",
    "    scoring = SCORING,\n",
    "    train_sizes=[0.01,0.2,0.4,0.6,0.8,1.0]) # in proportion"
   ]
  },
  {
   "cell_type": "code",
   "execution_count": 87,
   "id": "bb2a533a",
   "metadata": {},
   "outputs": [
    {
     "data": {
      "text/plain": [
       "array([  23,  475,  951, 1426, 1902, 2378])"
      ]
     },
     "execution_count": 87,
     "metadata": {},
     "output_type": "execute_result"
    }
   ],
   "source": [
    "train_sizes"
   ]
  },
  {
   "cell_type": "code",
   "execution_count": 88,
   "id": "9a2dbf32",
   "metadata": {},
   "outputs": [
    {
     "data": {
      "text/plain": [
       "array([[0.8715415 , 0.8715415 , 0.80889788, 0.8715415 , 0.80889788],\n",
       "       [0.90483086, 0.91700915, 0.90522614, 0.90829158, 0.92733938],\n",
       "       [0.90286153, 0.91043333, 0.91264185, 0.91063122, 0.91186794],\n",
       "       [0.91308848, 0.90313263, 0.916222  , 0.91430333, 0.9200304 ],\n",
       "       [0.91777309, 0.9152574 , 0.92260168, 0.92606882, 0.91720413],\n",
       "       [0.9171202 , 0.91203264, 0.91769418, 0.91458839, 0.9104326 ]])"
      ]
     },
     "execution_count": 88,
     "metadata": {},
     "output_type": "execute_result"
    }
   ],
   "source": [
    "train_scores"
   ]
  },
  {
   "cell_type": "code",
   "execution_count": 89,
   "id": "46cf2fe5",
   "metadata": {},
   "outputs": [
    {
     "data": {
      "text/plain": [
       "array([[0.67876899, 0.67876899, 0.67876899, 0.68055556, 0.6782549 ],\n",
       "       [0.73700394, 0.77749897, 0.74547588, 0.74683312, 0.77447893],\n",
       "       [0.76417798, 0.78151096, 0.74321016, 0.76607579, 0.76475648],\n",
       "       [0.77176471, 0.7706796 , 0.75583917, 0.76673164, 0.79029602],\n",
       "       [0.77024619, 0.79875582, 0.75239067, 0.78707265, 0.78076559],\n",
       "       [0.78696166, 0.79993663, 0.755312  , 0.79453927, 0.78579223]])"
      ]
     },
     "execution_count": 89,
     "metadata": {},
     "output_type": "execute_result"
    }
   ],
   "source": [
    "valid_scores"
   ]
  },
  {
   "cell_type": "code",
   "execution_count": 90,
   "id": "da50cef8",
   "metadata": {},
   "outputs": [],
   "source": [
    "def plot_learning_curve(train_scores, valid_scores, train_sizes):\n",
    "    plt.figure(figsize = (10, 8))\n",
    "    plt.style.use(\"fivethirtyeight\")\n",
    "    plt.rcParams[\"font.size\"] = 12\n",
    "    \n",
    "\n",
    "    plt.plot(train_sizes, train_scores.mean(axis=1), \"r-\", label=\"train\")\n",
    "    plt.plot(train_sizes, valid_scores.mean(axis=1), \"b--\", label=\"val\")\n",
    "    \n",
    "    plt.xlabel(\"Training set size\")\n",
    "    plt.ylabel(f\"{SCORING}\")\n",
    "    plt.title(\"Learning Curves\")\n",
    "    plt.legend(loc=\"best\")"
   ]
  },
  {
   "cell_type": "code",
   "execution_count": 91,
   "id": "b4f67c8e",
   "metadata": {},
   "outputs": [
    {
     "data": {
      "image/png": "[encoded data removed]",
      "text/plain": [
       "<Figure size 720x576 with 1 Axes>"
      ]
     },
     "metadata": {},
     "output_type": "display_data"
    }
   ],
   "source": [
    "plot_learning_curve(train_scores, valid_scores, train_sizes)"
   ]
  },
  {
   "cell_type": "markdown",
   "id": "a8920058",
   "metadata": {},
   "source": [
    "**Comments** \n",
    "- My model seems to be overfitting as the validation f1 score is lower than the train f1 score by >0.10\n",
    "- I need to:\n",
    "    - increase sample size\n",
    "    - reduce model complexity"
   ]
  }
 ],
 "metadata": {
  "kernelspec": {
   "display_name": "Python 3",
   "language": "python",
   "name": "python3"
  },
  "language_info": {
   "codemirror_mode": {
    "name": "ipython",
    "version": 3
   },
   "file_extension": ".py",
   "mimetype": "text/x-python",
   "name": "python",
   "nbconvert_exporter": "python",
   "pygments_lexer": "ipython3",
   "version": "3.8.0"
  }
 },
 "nbformat": 4,
 "nbformat_minor": 5
}
