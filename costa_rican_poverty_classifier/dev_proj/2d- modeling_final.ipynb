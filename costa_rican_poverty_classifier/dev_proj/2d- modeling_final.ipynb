{
 "cells": [
  {
   "cell_type": "markdown",
   "id": "e9488be7",
   "metadata": {},
   "source": [
    "\n",
    "\n",
    "   ## Modeling- multiclass classification\n",
    "- This notebook will focus on building models that predict the poverty level of households\n",
    "- There is class imbalance in the dataset-- households with extreme poverty are the minority class (7%); households with moderate poverty and vulernable households only comprise of a small proportion of the sample, while households with no vulnerability is close to 65% of the sample.\n",
    "- We will deal with class imbalance by upsampling the minority classes with SMOTE, and downsampling the majority class.\n",
    "- We will look at the performance of 8 ML approaches (with one of them the dummy classifier which serves as the baseline). FRom these, we will select a ML approach and perform hyperparameter tuning.\n",
    "- Finally, we will assess the performance of the optimized model by 1) visualizing the confusion matrix, 2) plotting the ROC curves and exmaining the ROC-AUC scores, 3) plotting the precision-recall curve and exmaining AUPRC scores, and 4) plot the learning curves.\n",
    "    - *NOTE: As a rule of thumb, you should use the precision recall (PR) curve whenever the positive class is rare (say I want to predict whether a number is `5` (positive case) or `not 5` (negative case), and only 10% of the sample are actually `5`), or when you care more about the false positives (detecting a `5` when it is not a `5`, than the false negatives.* \n",
    "    - *I will use the ROC curve (FP does not appear!) in ther alternate case.*"
   ]
  },
  {
   "cell_type": "markdown",
   "id": "7fff308b",
   "metadata": {},
   "source": [
    "In this notebook, I will train a model to predict the poverty level of each household. The outcome variable has 4 levels; therefore, we have a multiclass classification problem\n",
    "- 1 = extreme poverty; 2 = moderate poverty; 3 = vulnerable households; 4 = non vulnerable households"
   ]
  },
  {
   "cell_type": "code",
   "execution_count": 1,
   "id": "63f5ec60",
   "metadata": {},
   "outputs": [],
   "source": [
    "'''data'''\n",
    "import pandas as pd\n",
    "import numpy as np\n",
    "import itertools\n",
    "from itertools import compress\n",
    "\n",
    "'''common'''\n",
    "from pathlib import Path\n",
    "from collections import OrderedDict\n",
    "import pickle\n",
    "\n",
    "'''sklearn'''\n",
    "from sklearn.model_selection import (\n",
    "    StratifiedKFold,\n",
    "    cross_val_score, cross_val_predict, \n",
    "    train_test_split,\n",
    "    cross_validate,\n",
    "    RandomizedSearchCV,GridSearchCV,\n",
    "    learning_curve)\n",
    "\n",
    "from sklearn.feature_selection import SelectFromModel\n",
    "#from sklearn.pipeline import Pipeline\n",
    "from sklearn.preprocessing import MinMaxScaler\n",
    "\n",
    "'''imblearn'''\n",
    "from imblearn.pipeline import Pipeline as imb_pipeline\n",
    "from imblearn.over_sampling import SMOTE\n",
    "from imblearn.under_sampling import RandomUnderSampler\n",
    "\n",
    "'''feature engine'''\n",
    "from feature_engine.selection import DropConstantFeatures\n",
    "from feature_engine.imputation import MeanMedianImputer\n",
    "\n",
    "'''models'''\n",
    "from sklearn.dummy import DummyClassifier\n",
    "from sklearn.linear_model import SGDClassifier, LogisticRegression\n",
    "from sklearn.ensemble import RandomForestClassifier\n",
    "from sklearn.svm import LinearSVC\n",
    "from sklearn.naive_bayes import GaussianNB\n",
    "from sklearn.ensemble import ExtraTreesClassifier\n",
    "from sklearn.neighbors import KNeighborsClassifier\n",
    "\n",
    "\n",
    "'''metrics'''\n",
    "from sklearn.metrics import (\n",
    "    confusion_matrix,\n",
    "    precision_score, recall_score, f1_score, \n",
    "    precision_recall_curve, average_precision_score,\n",
    "    roc_curve, roc_auc_score\n",
    ")\n",
    "\n",
    "'''visualization'''\n",
    "import seaborn as sns\n",
    "import matplotlib.pyplot as plt\n",
    "\n",
    "'''warnings'''\n",
    "import warnings \n",
    "from sklearn.exceptions import ConvergenceWarning\n",
    "\n",
    "# Filter out warnings from models\n",
    "warnings.filterwarnings(\"ignore\", category = ConvergenceWarning)\n",
    "warnings.filterwarnings('ignore', category = DeprecationWarning)\n",
    "warnings.filterwarnings('ignore', category = UserWarning)"
   ]
  },
  {
   "cell_type": "markdown",
   "id": "ec1870ba",
   "metadata": {},
   "source": [
    "## Config"
   ]
  },
  {
   "cell_type": "code",
   "execution_count": 2,
   "id": "57c98ee4",
   "metadata": {},
   "outputs": [],
   "source": [
    "# Scoring method for models\n",
    "SCORING = \"f1_weighted\" #\"f1_macro\", \"average_precision\" \n",
    "# Random seed\n",
    "RANDOM_STATE = 10"
   ]
  },
  {
   "cell_type": "markdown",
   "id": "e684672f",
   "metadata": {},
   "source": [
    "## Custom estimator"
   ]
  },
  {
   "cell_type": "code",
   "execution_count": 3,
   "id": "a762184a",
   "metadata": {},
   "outputs": [],
   "source": [
    "from sklearn.base import BaseEstimator, TransformerMixin\n",
    "\n",
    "# This custom step saves the column names of its input dataframe as a binary .pkl file\n",
    "class save_col_names(BaseEstimator, TransformerMixin):\n",
    "    \"\"\"\n",
    "    Constructor\n",
    "\n",
    "    Args:\n",
    "        step_name: the name of the step prior to \"save_col_names\". I want to save the column names of that step\n",
    "\n",
    "    Returns:\n",
    "        void\n",
    "    \"\"\"\n",
    "\n",
    "    def __init__(self, step_name:str):\n",
    "        self.step_name = step_name \n",
    "\n",
    "\n",
    "    def fit(self, X,\n",
    "            y=None):  # need to have y as argument to make class compatible with sklearn pipeline\n",
    "        \"\"\" Fit\n",
    "\n",
    "        Args:\n",
    "            X (DataFrame): a input dataframe of features to train the transformer\n",
    "            y (DataFrame): a input Series of response variable to train the transformer (optional)\n",
    "\n",
    "        Returns:\n",
    "            self\n",
    "        \"\"\"\n",
    "\n",
    "        return self\n",
    "\n",
    "    def transform(self, X):\n",
    "        \"\"\" Transform\n",
    "\n",
    "        Args:\n",
    "            X (DataFrame): a input dataframe of features to be transformed\n",
    "\n",
    "        \"\"\"\n",
    "\n",
    "        # Make a copy of the input dataframe\n",
    "        # so we won't overwrite the original Dataframe that was passed as argument\n",
    "        X = X.copy()\n",
    "        \n",
    "        # Get feature names\n",
    "        feature_names = X.columns.tolist\n",
    "        \n",
    "        # Save as pickle\n",
    "        with open(Path('data','outputs',f'{self.step_name}_feature_names.pkl'), 'wb') as f:\n",
    "            pickle.dump(feature_names, f)\n",
    "\n",
    "        return X"
   ]
  },
  {
   "cell_type": "code",
   "execution_count": null,
   "id": "9e35a0ca",
   "metadata": {},
   "outputs": [],
   "source": []
  },
  {
   "cell_type": "code",
   "execution_count": null,
   "id": "fd6beb8d",
   "metadata": {},
   "outputs": [],
   "source": []
  },
  {
   "cell_type": "markdown",
   "id": "57d6ed26",
   "metadata": {},
   "source": [
    "## Import\n",
    "- Load the interim data "
   ]
  },
  {
   "cell_type": "code",
   "execution_count": 4,
   "id": "26d4e6ac",
   "metadata": {},
   "outputs": [],
   "source": [
    "file_path = Path(\"data\",\"interim\", \"interim.pkl\")\n",
    "df = pd.read_pickle(file_path)"
   ]
  },
  {
   "cell_type": "code",
   "execution_count": 5,
   "id": "aca0cdb8",
   "metadata": {},
   "outputs": [
    {
     "data": {
      "text/html": [
       "<div>\n",
       "<style scoped>\n",
       "    .dataframe tbody tr th:only-of-type {\n",
       "        vertical-align: middle;\n",
       "    }\n",
       "\n",
       "    .dataframe tbody tr th {\n",
       "        vertical-align: top;\n",
       "    }\n",
       "\n",
       "    .dataframe thead th {\n",
       "        text-align: right;\n",
       "    }\n",
       "</style>\n",
       "<table border=\"1\" class=\"dataframe\">\n",
       "  <thead>\n",
       "    <tr style=\"text-align: right;\">\n",
       "      <th></th>\n",
       "      <th>Id</th>\n",
       "      <th>idhogar</th>\n",
       "      <th>Target</th>\n",
       "      <th>hacdor</th>\n",
       "      <th>hacapo</th>\n",
       "      <th>v14a</th>\n",
       "      <th>refrig</th>\n",
       "      <th>paredblolad</th>\n",
       "      <th>paredzocalo</th>\n",
       "      <th>paredpreb</th>\n",
       "      <th>...</th>\n",
       "      <th>escolari_normalized_by_age-sum</th>\n",
       "      <th>escolari_normalized_by_age-std</th>\n",
       "      <th>escolari_normalized_by_age-range_</th>\n",
       "      <th>inst_normalized_by_age-max</th>\n",
       "      <th>inst_normalized_by_age-std</th>\n",
       "      <th>inst_normalized_by_age-range_</th>\n",
       "      <th>tech-min</th>\n",
       "      <th>tech-sum</th>\n",
       "      <th>tech-std</th>\n",
       "      <th>tech-range_</th>\n",
       "    </tr>\n",
       "  </thead>\n",
       "  <tbody>\n",
       "    <tr>\n",
       "      <th>0</th>\n",
       "      <td>ID_279628684</td>\n",
       "      <td>21eb7fcc1</td>\n",
       "      <td>4.0</td>\n",
       "      <td>0</td>\n",
       "      <td>0</td>\n",
       "      <td>1</td>\n",
       "      <td>1</td>\n",
       "      <td>1</td>\n",
       "      <td>0</td>\n",
       "      <td>0</td>\n",
       "      <td>...</td>\n",
       "      <td>0.232558</td>\n",
       "      <td>NaN</td>\n",
       "      <td>0.000000</td>\n",
       "      <td>0.069767</td>\n",
       "      <td>NaN</td>\n",
       "      <td>0.000000</td>\n",
       "      <td>1</td>\n",
       "      <td>1</td>\n",
       "      <td>NaN</td>\n",
       "      <td>0</td>\n",
       "    </tr>\n",
       "    <tr>\n",
       "      <th>1</th>\n",
       "      <td>ID_f29eb3ddd</td>\n",
       "      <td>0e5d7a658</td>\n",
       "      <td>4.0</td>\n",
       "      <td>0</td>\n",
       "      <td>0</td>\n",
       "      <td>1</td>\n",
       "      <td>1</td>\n",
       "      <td>0</td>\n",
       "      <td>0</td>\n",
       "      <td>0</td>\n",
       "      <td>...</td>\n",
       "      <td>0.179104</td>\n",
       "      <td>NaN</td>\n",
       "      <td>0.000000</td>\n",
       "      <td>0.104478</td>\n",
       "      <td>NaN</td>\n",
       "      <td>0.000000</td>\n",
       "      <td>2</td>\n",
       "      <td>2</td>\n",
       "      <td>NaN</td>\n",
       "      <td>0</td>\n",
       "    </tr>\n",
       "    <tr>\n",
       "      <th>2</th>\n",
       "      <td>ID_68de51c94</td>\n",
       "      <td>2c7317ea8</td>\n",
       "      <td>4.0</td>\n",
       "      <td>0</td>\n",
       "      <td>0</td>\n",
       "      <td>1</td>\n",
       "      <td>1</td>\n",
       "      <td>0</td>\n",
       "      <td>0</td>\n",
       "      <td>0</td>\n",
       "      <td>...</td>\n",
       "      <td>0.119565</td>\n",
       "      <td>NaN</td>\n",
       "      <td>0.000000</td>\n",
       "      <td>0.043478</td>\n",
       "      <td>NaN</td>\n",
       "      <td>0.000000</td>\n",
       "      <td>0</td>\n",
       "      <td>0</td>\n",
       "      <td>NaN</td>\n",
       "      <td>0</td>\n",
       "    </tr>\n",
       "    <tr>\n",
       "      <th>3</th>\n",
       "      <td>ID_ec05b1a7b</td>\n",
       "      <td>2b58d945f</td>\n",
       "      <td>4.0</td>\n",
       "      <td>0</td>\n",
       "      <td>0</td>\n",
       "      <td>1</td>\n",
       "      <td>1</td>\n",
       "      <td>1</td>\n",
       "      <td>0</td>\n",
       "      <td>0</td>\n",
       "      <td>...</td>\n",
       "      <td>1.366183</td>\n",
       "      <td>0.126943</td>\n",
       "      <td>0.279412</td>\n",
       "      <td>0.176471</td>\n",
       "      <td>0.033010</td>\n",
       "      <td>0.071207</td>\n",
       "      <td>2</td>\n",
       "      <td>8</td>\n",
       "      <td>0.0</td>\n",
       "      <td>0</td>\n",
       "    </tr>\n",
       "    <tr>\n",
       "      <th>4</th>\n",
       "      <td>ID_1284f8aad</td>\n",
       "      <td>d6dae86b7</td>\n",
       "      <td>4.0</td>\n",
       "      <td>1</td>\n",
       "      <td>0</td>\n",
       "      <td>1</td>\n",
       "      <td>1</td>\n",
       "      <td>1</td>\n",
       "      <td>0</td>\n",
       "      <td>0</td>\n",
       "      <td>...</td>\n",
       "      <td>0.965584</td>\n",
       "      <td>0.168946</td>\n",
       "      <td>0.392857</td>\n",
       "      <td>0.142857</td>\n",
       "      <td>0.060063</td>\n",
       "      <td>0.142857</td>\n",
       "      <td>1</td>\n",
       "      <td>4</td>\n",
       "      <td>0.0</td>\n",
       "      <td>0</td>\n",
       "    </tr>\n",
       "  </tbody>\n",
       "</table>\n",
       "<p>5 rows × 222 columns</p>\n",
       "</div>"
      ],
      "text/plain": [
       "             Id    idhogar  Target  hacdor  hacapo  v14a  refrig  paredblolad  \\\n",
       "0  ID_279628684  21eb7fcc1     4.0       0       0     1       1            1   \n",
       "1  ID_f29eb3ddd  0e5d7a658     4.0       0       0     1       1            0   \n",
       "2  ID_68de51c94  2c7317ea8     4.0       0       0     1       1            0   \n",
       "3  ID_ec05b1a7b  2b58d945f     4.0       0       0     1       1            1   \n",
       "4  ID_1284f8aad  d6dae86b7     4.0       1       0     1       1            1   \n",
       "\n",
       "   paredzocalo  paredpreb  ...  escolari_normalized_by_age-sum  \\\n",
       "0            0          0  ...                        0.232558   \n",
       "1            0          0  ...                        0.179104   \n",
       "2            0          0  ...                        0.119565   \n",
       "3            0          0  ...                        1.366183   \n",
       "4            0          0  ...                        0.965584   \n",
       "\n",
       "   escolari_normalized_by_age-std  escolari_normalized_by_age-range_  \\\n",
       "0                             NaN                           0.000000   \n",
       "1                             NaN                           0.000000   \n",
       "2                             NaN                           0.000000   \n",
       "3                        0.126943                           0.279412   \n",
       "4                        0.168946                           0.392857   \n",
       "\n",
       "   inst_normalized_by_age-max  inst_normalized_by_age-std  \\\n",
       "0                    0.069767                         NaN   \n",
       "1                    0.104478                         NaN   \n",
       "2                    0.043478                         NaN   \n",
       "3                    0.176471                    0.033010   \n",
       "4                    0.142857                    0.060063   \n",
       "\n",
       "   inst_normalized_by_age-range_  tech-min  tech-sum  tech-std  tech-range_  \n",
       "0                       0.000000         1         1       NaN            0  \n",
       "1                       0.000000         2         2       NaN            0  \n",
       "2                       0.000000         0         0       NaN            0  \n",
       "3                       0.071207         2         8       0.0            0  \n",
       "4                       0.142857         1         4       0.0            0  \n",
       "\n",
       "[5 rows x 222 columns]"
      ]
     },
     "execution_count": 5,
     "metadata": {},
     "output_type": "execute_result"
    }
   ],
   "source": [
    "df.head()"
   ]
  },
  {
   "cell_type": "code",
   "execution_count": 6,
   "id": "6eec0001",
   "metadata": {},
   "outputs": [
    {
     "data": {
      "text/plain": [
       "(10307, 222)"
      ]
     },
     "execution_count": 6,
     "metadata": {},
     "output_type": "execute_result"
    }
   ],
   "source": [
    "df.shape"
   ]
  },
  {
   "cell_type": "code",
   "execution_count": 7,
   "id": "2ff4869b",
   "metadata": {},
   "outputs": [],
   "source": [
    "# Get feature names\n",
    "train_feature_names = df.columns.tolist()\n",
    "# Remove Target and the Id columns\n",
    "train_feature_names = [v for v in train_feature_names if v not in [\"Target\", \"Id\",\"idhogar\"]]"
   ]
  },
  {
   "cell_type": "code",
   "execution_count": 8,
   "id": "12f27d04",
   "metadata": {},
   "outputs": [],
   "source": [
    "# Create a dictionary that maps Target levels (numeric encoding) to string encoding. Use later in our plots\n",
    "poverty_mapping = OrderedDict({1: 'extreme', \n",
    "                               2: 'moderate',\n",
    "                               3: 'vulnerable',\n",
    "                               4: 'not vulnerable'})"
   ]
  },
  {
   "cell_type": "markdown",
   "id": "34459f6d",
   "metadata": {},
   "source": [
    "**Currently, the interim set contains both the train and test (hold-out) set. Separate them out.**"
   ]
  },
  {
   "cell_type": "code",
   "execution_count": 9,
   "id": "411c63b2",
   "metadata": {},
   "outputs": [],
   "source": [
    "# Rows in the interim dataframe that has non-null values for the Target column are from the train dataset\n",
    "X_train = df.loc[df[\"Target\"].notnull(), train_feature_names]\n",
    "y_train = df.loc[df[\"Target\"].notnull(),\"Target\"]"
   ]
  },
  {
   "cell_type": "code",
   "execution_count": 10,
   "id": "fca19ec9",
   "metadata": {},
   "outputs": [],
   "source": [
    "# rows in the interim dataframe that has null values for the Target column are from the test (holdout) dataset\n",
    "X_test  = df.loc[df[\"Target\"].isnull(), train_feature_names]"
   ]
  },
  {
   "cell_type": "markdown",
   "id": "c38eb85a",
   "metadata": {},
   "source": [
    "**Note that the unit of analysis for the interim dataframe is household, as we will only be fitting a model to make predictions at the household level. There are 2973 households in X_train.**"
   ]
  },
  {
   "cell_type": "code",
   "execution_count": 11,
   "id": "e1251157",
   "metadata": {},
   "outputs": [
    {
     "data": {
      "text/plain": [
       "((2973, 219), (2973,), (7334, 219))"
      ]
     },
     "execution_count": 11,
     "metadata": {},
     "output_type": "execute_result"
    }
   ],
   "source": [
    "X_train.shape, y_train.shape, X_test.shape"
   ]
  },
  {
   "cell_type": "code",
   "execution_count": null,
   "id": "2424f2b2",
   "metadata": {},
   "outputs": [],
   "source": []
  },
  {
   "cell_type": "markdown",
   "id": "79d52d37",
   "metadata": {},
   "source": [
    "## Extent of missingness\n",
    "- Despite imputing some of the \"ignorable\" cases in the previous notebook, there are still some missing values in the X_train and X_test. In this section, we will investigate and impute the remaining missing values.\n",
    "- There is no missing value in y_train."
   ]
  },
  {
   "cell_type": "code",
   "execution_count": 12,
   "id": "58b93c7c",
   "metadata": {},
   "outputs": [],
   "source": [
    "def extent_missinginess(df):\n",
    "    return (df\n",
    "         .isnull()\n",
    "         .mean()\n",
    "         .mul(100)\n",
    "         .reset_index(name=\"percentage\")\n",
    "         .sort_values(by=\"percentage\", ascending=False))"
   ]
  },
  {
   "cell_type": "code",
   "execution_count": 13,
   "id": "c3ad9146",
   "metadata": {},
   "outputs": [
    {
     "data": {
      "text/html": [
       "<div>\n",
       "<style scoped>\n",
       "    .dataframe tbody tr th:only-of-type {\n",
       "        vertical-align: middle;\n",
       "    }\n",
       "\n",
       "    .dataframe tbody tr th {\n",
       "        vertical-align: top;\n",
       "    }\n",
       "\n",
       "    .dataframe thead th {\n",
       "        text-align: right;\n",
       "    }\n",
       "</style>\n",
       "<table border=\"1\" class=\"dataframe\">\n",
       "  <thead>\n",
       "    <tr style=\"text-align: right;\">\n",
       "      <th></th>\n",
       "      <th>index</th>\n",
       "      <th>percentage</th>\n",
       "    </tr>\n",
       "  </thead>\n",
       "  <tbody>\n",
       "    <tr>\n",
       "      <th>213</th>\n",
       "      <td>inst_normalized_by_age-std</td>\n",
       "      <td>13.084427</td>\n",
       "    </tr>\n",
       "    <tr>\n",
       "      <th>210</th>\n",
       "      <td>escolari_normalized_by_age-std</td>\n",
       "      <td>13.084427</td>\n",
       "    </tr>\n",
       "    <tr>\n",
       "      <th>114</th>\n",
       "      <td>estadocivil2-std</td>\n",
       "      <td>13.050790</td>\n",
       "    </tr>\n",
       "    <tr>\n",
       "      <th>134</th>\n",
       "      <td>parentesco2-std</td>\n",
       "      <td>13.050790</td>\n",
       "    </tr>\n",
       "    <tr>\n",
       "      <th>128</th>\n",
       "      <td>estadocivil7-std</td>\n",
       "      <td>13.050790</td>\n",
       "    </tr>\n",
       "    <tr>\n",
       "      <th>99</th>\n",
       "      <td>v18q-std</td>\n",
       "      <td>13.050790</td>\n",
       "    </tr>\n",
       "    <tr>\n",
       "      <th>202</th>\n",
       "      <td>age-std</td>\n",
       "      <td>13.050790</td>\n",
       "    </tr>\n",
       "    <tr>\n",
       "      <th>190</th>\n",
       "      <td>mobilephone-std</td>\n",
       "      <td>13.050790</td>\n",
       "    </tr>\n",
       "    <tr>\n",
       "      <th>131</th>\n",
       "      <td>parentesco1-std</td>\n",
       "      <td>13.050790</td>\n",
       "    </tr>\n",
       "    <tr>\n",
       "      <th>205</th>\n",
       "      <td>inst-std</td>\n",
       "      <td>13.050790</td>\n",
       "    </tr>\n",
       "  </tbody>\n",
       "</table>\n",
       "</div>"
      ],
      "text/plain": [
       "                              index  percentage\n",
       "213      inst_normalized_by_age-std   13.084427\n",
       "210  escolari_normalized_by_age-std   13.084427\n",
       "114                estadocivil2-std   13.050790\n",
       "134                 parentesco2-std   13.050790\n",
       "128                estadocivil7-std   13.050790\n",
       "99                         v18q-std   13.050790\n",
       "202                         age-std   13.050790\n",
       "190                 mobilephone-std   13.050790\n",
       "131                 parentesco1-std   13.050790\n",
       "205                        inst-std   13.050790"
      ]
     },
     "execution_count": 13,
     "metadata": {},
     "output_type": "execute_result"
    }
   ],
   "source": [
    "train_missing = extent_missinginess(X_train)\n",
    "train_missing.head(10)"
   ]
  },
  {
   "cell_type": "markdown",
   "id": "ad880c42",
   "metadata": {},
   "source": [
    "**Data processing steps**\n",
    "- At most I have 13% values missing in the train and test sets. Since the proportion of missingness is relatively small, I will impute with median.\n",
    "- I will drop features that have near zero variance as they will not be useful in predicting the outcome.\n",
    "- I also want to use MaxMinScaler to normalize all features as some models that we want to try might be scale variant.\n",
    "- Handle imbalanced classes: upsample the minority classes and downsample the majority class"
   ]
  },
  {
   "cell_type": "markdown",
   "id": "0a9ebc52",
   "metadata": {},
   "source": [
    "## Handling imbalanced classes\n",
    "- Currently, the dataset has very imbalanced class. Class 4 (not vulnerable) is the majority class (0.65).\n",
    "- In contrast, only 7% of the train set is Class 1 (extreme). The trained model would have trouble correctly classifying an actual Class 1 sample.\n",
    "- Soultion: we will upsample the minority classes (Class 1,2,3) to have 0.25 of the sample in the majority class (around n=500 for each minority classes). I will also downsample the majority class (Class 4) so that the ratio of minority/majority is 0.5. I will have 1000 samples for the majority class (down from 2000)"
   ]
  },
  {
   "cell_type": "code",
   "execution_count": 14,
   "id": "7eb94316",
   "metadata": {},
   "outputs": [
    {
     "data": {
      "text/plain": [
       "4.0    1954\n",
       "2.0     442\n",
       "3.0     355\n",
       "1.0     222\n",
       "Name: Target, dtype: int64"
      ]
     },
     "execution_count": 14,
     "metadata": {},
     "output_type": "execute_result"
    }
   ],
   "source": [
    "y_train.value_counts()"
   ]
  },
  {
   "cell_type": "code",
   "execution_count": 15,
   "id": "7041674b",
   "metadata": {},
   "outputs": [
    {
     "data": {
      "text/plain": [
       "OrderedDict([(1, 'extreme'),\n",
       "             (2, 'moderate'),\n",
       "             (3, 'vulnerable'),\n",
       "             (4, 'not vulnerable')])"
      ]
     },
     "execution_count": 15,
     "metadata": {},
     "output_type": "execute_result"
    }
   ],
   "source": [
    "poverty_mapping"
   ]
  },
  {
   "cell_type": "code",
   "execution_count": 16,
   "id": "12ae594e",
   "metadata": {
    "scrolled": true
   },
   "outputs": [
    {
     "data": {
      "text/plain": [
       "Text(0, 0.5, 'Percentage')"
      ]
     },
     "execution_count": 16,
     "metadata": {},
     "output_type": "execute_result"
    },
    {
     "data": {
      "image/png": "[encoded data removed]",
      "text/plain": [
       "<Figure size 720x360 with 1 Axes>"
      ]
     },
     "metadata": {},
     "output_type": "display_data"
    }
   ],
   "source": [
    "# Plot styling\n",
    "plt.style.use(\"fivethirtyeight\")\n",
    "plt.rcParams[\"font.size\"] = 12\n",
    "fig = plt.figure(figsize=(10,5))\n",
    "\n",
    "(y_train\n",
    " .value_counts(normalize=True)\n",
    " .mul(100)\n",
    " .sort_index()\n",
    " .plot.bar())\n",
    "\n",
    "plt.xticks([0,1,2,3],poverty_mapping.values())\n",
    "plt.ylabel(\"Percentage\")"
   ]
  },
  {
   "cell_type": "markdown",
   "id": "5b3e5ef3",
   "metadata": {},
   "source": [
    "- By default, SMOTE will oversample all classes to have the same number of examples as the class with the most examples. So all classes will have 1954.\n",
    "- But instead of using the default strategy, we could instead specify the number of examples to oversample in each class.\n",
    "- Note: when using SMOTE, it must only be applied to the training dataset, not the entire dataset. I recommend using a Pipeline to ensure that the SMOTE does not cause data leakage from validation set to train set."
   ]
  },
  {
   "cell_type": "code",
   "execution_count": 17,
   "id": "d8140f6f",
   "metadata": {},
   "outputs": [],
   "source": [
    "data_pipeline = imb_pipeline(steps = [    \n",
    "    # === Imputation === #\n",
    "    (\"missing_imputation\", MeanMedianImputer(imputation_method=\"median\")),\n",
    "    \n",
    "    # === oversampling === # \n",
    "    # upsample the minority classes to have 0.25 of the majority class, so 500 for class 1-3\n",
    "    ('oversampling', SMOTE(sampling_strategy={1:500, 2:500, 3:500},\n",
    "                           random_state=RANDOM_STATE)),\n",
    "    \n",
    "    # === undersampling ==== # \n",
    "    # undersample the majority class to have 2x of minority class, so 1000 for class 4\n",
    "    ('undersampling', RandomUnderSampler(sampling_strategy={4:1000},\n",
    "                                         random_state=RANDOM_STATE)),  \n",
    "\n",
    "])"
   ]
  },
  {
   "cell_type": "code",
   "execution_count": 18,
   "id": "b2e70589",
   "metadata": {},
   "outputs": [],
   "source": [
    "# Since the last step is NOT a sklearn pipeline step, I can only use fit_resample() and not fit_transform()!\n",
    "# I need to include the missing imputation step since SMOTE and RandomUnderSampler \n",
    "# do not accept data with missing values\n",
    "X_processed, y_processed = data_pipeline.fit_resample(X_train, y_train)"
   ]
  },
  {
   "cell_type": "code",
   "execution_count": 19,
   "id": "f0bc128e",
   "metadata": {},
   "outputs": [
    {
     "data": {
      "text/plain": [
       "4.0    1000\n",
       "1.0     500\n",
       "2.0     500\n",
       "3.0     500\n",
       "Name: Target, dtype: int64"
      ]
     },
     "execution_count": 19,
     "metadata": {},
     "output_type": "execute_result"
    }
   ],
   "source": [
    "y_processed.value_counts()"
   ]
  },
  {
   "cell_type": "code",
   "execution_count": 20,
   "id": "9df40ad7",
   "metadata": {},
   "outputs": [
    {
     "data": {
      "text/plain": [
       "((2500, 219), (2500,))"
      ]
     },
     "execution_count": 20,
     "metadata": {},
     "output_type": "execute_result"
    }
   ],
   "source": [
    "X_processed.shape, y_processed.shape"
   ]
  },
  {
   "cell_type": "markdown",
   "id": "1dfe2baf",
   "metadata": {},
   "source": [
    "I successfully downsample class 4 and upsample classes 1-3 with SMOTE"
   ]
  },
  {
   "cell_type": "code",
   "execution_count": null,
   "id": "6cdd28fe",
   "metadata": {},
   "outputs": [],
   "source": []
  },
  {
   "cell_type": "markdown",
   "id": "e54086bf",
   "metadata": {},
   "source": [
    "## Full Data pipeline with drop nzv and scaling steps\n",
    "- Include imputation, drop nzv, up and down sampling, scaler steps"
   ]
  },
  {
   "cell_type": "code",
   "execution_count": 21,
   "id": "9289626c",
   "metadata": {},
   "outputs": [],
   "source": [
    "# Create pipeline\n",
    "data_pipeline = imb_pipeline([\n",
    " \n",
    "     # === Imputation === #\n",
    "     (\"missing_imputation\", MeanMedianImputer(imputation_method=\"median\")),\n",
    " \n",
    "     # === drop qusai-constant variables === #\n",
    "     # drop variables with any level that appears in 0.75 of observations\n",
    "     ('drop_nzv', DropConstantFeatures(tol=0.75)),\n",
    "    \n",
    "     # === save feature names (of the df from the drop_nzv step) ===\n",
    "     ('save_feature_names', save_col_names(step_name='feature_selection')),\n",
    "    \n",
    "     # === oversampling === # \n",
    "     # upsample the minority classes to have 0.25 of the majority class, so 500 for class 1-3\n",
    "     ('oversampling', SMOTE(sampling_strategy={1:500, 2:500, 3:500},\n",
    "                            random_state = RANDOM_STATE)),\n",
    "    \n",
    "     # === undersampling ==== # \n",
    "     # undersample the majority class to have 2x of minority class, so 1000 for class 4\n",
    "    ('undersampling', RandomUnderSampler(sampling_strategy={4:1000},\n",
    "                                         random_state=RANDOM_STATE)),  \n",
    "    \n",
    "    # === normalization === #\n",
    "    ('scaler', MinMaxScaler()), \n",
    "    \n",
    " ])"
   ]
  },
  {
   "cell_type": "markdown",
   "id": "9b42f23d",
   "metadata": {},
   "source": [
    "**NOTE 1: the output of pipeline with sklearn steps is a ndarray. It is only if the pipeline contains exclusively feature-engine steps will its output be a dataframe.**\n",
    "\n",
    "**NOTE 2: since the last step of the pipeline is a sklearn step, I can use .fit_transform()**\n"
   ]
  },
  {
   "cell_type": "code",
   "execution_count": 22,
   "id": "71bff296",
   "metadata": {},
   "outputs": [],
   "source": [
    "# Fit and transform X_train\n",
    "x_tr_processed = data_pipeline.fit_transform(X_train, y_train) "
   ]
  },
  {
   "cell_type": "code",
   "execution_count": 23,
   "id": "0a127ffc",
   "metadata": {},
   "outputs": [
    {
     "data": {
      "text/plain": [
       "(2500, 91)"
      ]
     },
     "execution_count": 23,
     "metadata": {},
     "output_type": "execute_result"
    }
   ],
   "source": [
    "x_tr_processed.shape"
   ]
  },
  {
   "cell_type": "code",
   "execution_count": 24,
   "id": "f4c0c51e",
   "metadata": {},
   "outputs": [],
   "source": [
    "# Get saved feature names\n",
    "with open(Path('data','outputs','feature_selection_feature_names.pkl'), 'rb') as f:\n",
    "    list_ = pickle.load(f)\n",
    "    \n",
    "saved_feature_names=list_()\n",
    "\n",
    "# Convert ndarray (output of data pipeline) to a dataframe with the saved feature names\n",
    "x_tr_processed = pd.DataFrame(x_tr_processed, columns = saved_feature_names)"
   ]
  },
  {
   "cell_type": "code",
   "execution_count": 25,
   "id": "e0432be8",
   "metadata": {},
   "outputs": [
    {
     "data": {
      "text/html": [
       "<div>\n",
       "<style scoped>\n",
       "    .dataframe tbody tr th:only-of-type {\n",
       "        vertical-align: middle;\n",
       "    }\n",
       "\n",
       "    .dataframe tbody tr th {\n",
       "        vertical-align: top;\n",
       "    }\n",
       "\n",
       "    .dataframe thead th {\n",
       "        text-align: right;\n",
       "    }\n",
       "</style>\n",
       "<table border=\"1\" class=\"dataframe\">\n",
       "  <thead>\n",
       "    <tr style=\"text-align: right;\">\n",
       "      <th></th>\n",
       "      <th>paredblolad</th>\n",
       "      <th>pisomoscer</th>\n",
       "      <th>cielorazo</th>\n",
       "      <th>energcocinar2</th>\n",
       "      <th>energcocinar3</th>\n",
       "      <th>tipovivi1</th>\n",
       "      <th>television</th>\n",
       "      <th>lugar1</th>\n",
       "      <th>area1</th>\n",
       "      <th>v2a1</th>\n",
       "      <th>...</th>\n",
       "      <th>escolari_normalized_by_age-min</th>\n",
       "      <th>escolari_normalized_by_age-max</th>\n",
       "      <th>escolari_normalized_by_age-sum</th>\n",
       "      <th>escolari_normalized_by_age-std</th>\n",
       "      <th>escolari_normalized_by_age-range_</th>\n",
       "      <th>inst_normalized_by_age-max</th>\n",
       "      <th>inst_normalized_by_age-std</th>\n",
       "      <th>inst_normalized_by_age-range_</th>\n",
       "      <th>tech-min</th>\n",
       "      <th>tech-sum</th>\n",
       "    </tr>\n",
       "  </thead>\n",
       "  <tbody>\n",
       "    <tr>\n",
       "      <th>0</th>\n",
       "      <td>0.0</td>\n",
       "      <td>1.0</td>\n",
       "      <td>1.0</td>\n",
       "      <td>0.0</td>\n",
       "      <td>1.0</td>\n",
       "      <td>0.0</td>\n",
       "      <td>0.0</td>\n",
       "      <td>1.0</td>\n",
       "      <td>1.0</td>\n",
       "      <td>0.175</td>\n",
       "      <td>...</td>\n",
       "      <td>0.000000</td>\n",
       "      <td>0.513185</td>\n",
       "      <td>0.124008</td>\n",
       "      <td>0.422204</td>\n",
       "      <td>0.541872</td>\n",
       "      <td>0.354680</td>\n",
       "      <td>0.312582</td>\n",
       "      <td>0.358621</td>\n",
       "      <td>0.5</td>\n",
       "      <td>0.227273</td>\n",
       "    </tr>\n",
       "    <tr>\n",
       "      <th>1</th>\n",
       "      <td>1.0</td>\n",
       "      <td>0.0</td>\n",
       "      <td>0.0</td>\n",
       "      <td>1.0</td>\n",
       "      <td>0.0</td>\n",
       "      <td>1.0</td>\n",
       "      <td>0.0</td>\n",
       "      <td>1.0</td>\n",
       "      <td>1.0</td>\n",
       "      <td>0.000</td>\n",
       "      <td>...</td>\n",
       "      <td>0.000000</td>\n",
       "      <td>0.541176</td>\n",
       "      <td>0.073420</td>\n",
       "      <td>0.520476</td>\n",
       "      <td>0.571429</td>\n",
       "      <td>0.308571</td>\n",
       "      <td>0.314502</td>\n",
       "      <td>0.312000</td>\n",
       "      <td>0.5</td>\n",
       "      <td>0.136364</td>\n",
       "    </tr>\n",
       "    <tr>\n",
       "      <th>2</th>\n",
       "      <td>1.0</td>\n",
       "      <td>1.0</td>\n",
       "      <td>1.0</td>\n",
       "      <td>1.0</td>\n",
       "      <td>0.0</td>\n",
       "      <td>1.0</td>\n",
       "      <td>0.0</td>\n",
       "      <td>1.0</td>\n",
       "      <td>1.0</td>\n",
       "      <td>0.000</td>\n",
       "      <td>...</td>\n",
       "      <td>0.142857</td>\n",
       "      <td>0.122995</td>\n",
       "      <td>0.016686</td>\n",
       "      <td>0.373198</td>\n",
       "      <td>0.000000</td>\n",
       "      <td>0.087662</td>\n",
       "      <td>0.287213</td>\n",
       "      <td>0.000000</td>\n",
       "      <td>0.0</td>\n",
       "      <td>0.000000</td>\n",
       "    </tr>\n",
       "    <tr>\n",
       "      <th>3</th>\n",
       "      <td>0.0</td>\n",
       "      <td>0.0</td>\n",
       "      <td>0.0</td>\n",
       "      <td>0.0</td>\n",
       "      <td>1.0</td>\n",
       "      <td>0.0</td>\n",
       "      <td>0.0</td>\n",
       "      <td>1.0</td>\n",
       "      <td>1.0</td>\n",
       "      <td>0.060</td>\n",
       "      <td>...</td>\n",
       "      <td>0.000000</td>\n",
       "      <td>0.307487</td>\n",
       "      <td>0.067937</td>\n",
       "      <td>0.258912</td>\n",
       "      <td>0.324675</td>\n",
       "      <td>0.367347</td>\n",
       "      <td>0.331315</td>\n",
       "      <td>0.371429</td>\n",
       "      <td>0.5</td>\n",
       "      <td>0.136364</td>\n",
       "    </tr>\n",
       "    <tr>\n",
       "      <th>4</th>\n",
       "      <td>0.0</td>\n",
       "      <td>0.0</td>\n",
       "      <td>0.0</td>\n",
       "      <td>1.0</td>\n",
       "      <td>0.0</td>\n",
       "      <td>1.0</td>\n",
       "      <td>0.0</td>\n",
       "      <td>1.0</td>\n",
       "      <td>1.0</td>\n",
       "      <td>0.000</td>\n",
       "      <td>...</td>\n",
       "      <td>0.000000</td>\n",
       "      <td>0.515406</td>\n",
       "      <td>0.069924</td>\n",
       "      <td>0.607095</td>\n",
       "      <td>0.544218</td>\n",
       "      <td>0.367347</td>\n",
       "      <td>0.458554</td>\n",
       "      <td>0.371429</td>\n",
       "      <td>0.5</td>\n",
       "      <td>0.090909</td>\n",
       "    </tr>\n",
       "  </tbody>\n",
       "</table>\n",
       "<p>5 rows × 91 columns</p>\n",
       "</div>"
      ],
      "text/plain": [
       "   paredblolad  pisomoscer  cielorazo  energcocinar2  energcocinar3  \\\n",
       "0          0.0         1.0        1.0            0.0            1.0   \n",
       "1          1.0         0.0        0.0            1.0            0.0   \n",
       "2          1.0         1.0        1.0            1.0            0.0   \n",
       "3          0.0         0.0        0.0            0.0            1.0   \n",
       "4          0.0         0.0        0.0            1.0            0.0   \n",
       "\n",
       "   tipovivi1  television  lugar1  area1   v2a1  ...  \\\n",
       "0        0.0         0.0     1.0    1.0  0.175  ...   \n",
       "1        1.0         0.0     1.0    1.0  0.000  ...   \n",
       "2        1.0         0.0     1.0    1.0  0.000  ...   \n",
       "3        0.0         0.0     1.0    1.0  0.060  ...   \n",
       "4        1.0         0.0     1.0    1.0  0.000  ...   \n",
       "\n",
       "   escolari_normalized_by_age-min  escolari_normalized_by_age-max  \\\n",
       "0                        0.000000                        0.513185   \n",
       "1                        0.000000                        0.541176   \n",
       "2                        0.142857                        0.122995   \n",
       "3                        0.000000                        0.307487   \n",
       "4                        0.000000                        0.515406   \n",
       "\n",
       "   escolari_normalized_by_age-sum  escolari_normalized_by_age-std  \\\n",
       "0                        0.124008                        0.422204   \n",
       "1                        0.073420                        0.520476   \n",
       "2                        0.016686                        0.373198   \n",
       "3                        0.067937                        0.258912   \n",
       "4                        0.069924                        0.607095   \n",
       "\n",
       "   escolari_normalized_by_age-range_  inst_normalized_by_age-max  \\\n",
       "0                           0.541872                    0.354680   \n",
       "1                           0.571429                    0.308571   \n",
       "2                           0.000000                    0.087662   \n",
       "3                           0.324675                    0.367347   \n",
       "4                           0.544218                    0.367347   \n",
       "\n",
       "   inst_normalized_by_age-std  inst_normalized_by_age-range_  tech-min  \\\n",
       "0                    0.312582                       0.358621       0.5   \n",
       "1                    0.314502                       0.312000       0.5   \n",
       "2                    0.287213                       0.000000       0.0   \n",
       "3                    0.331315                       0.371429       0.5   \n",
       "4                    0.458554                       0.371429       0.5   \n",
       "\n",
       "   tech-sum  \n",
       "0  0.227273  \n",
       "1  0.136364  \n",
       "2  0.000000  \n",
       "3  0.136364  \n",
       "4  0.090909  \n",
       "\n",
       "[5 rows x 91 columns]"
      ]
     },
     "execution_count": 25,
     "metadata": {},
     "output_type": "execute_result"
    }
   ],
   "source": [
    "x_tr_processed.head()"
   ]
  },
  {
   "cell_type": "code",
   "execution_count": 26,
   "id": "049ff30b",
   "metadata": {},
   "outputs": [],
   "source": [
    "# Transform X_test\n",
    "x_tst_processed= data_pipeline.transform(X_test)\n",
    "x_tst_processed = pd.DataFrame(x_tst_processed, columns = saved_feature_names)"
   ]
  },
  {
   "cell_type": "code",
   "execution_count": 27,
   "id": "73c7ed0f",
   "metadata": {},
   "outputs": [
    {
     "data": {
      "text/html": [
       "<div>\n",
       "<style scoped>\n",
       "    .dataframe tbody tr th:only-of-type {\n",
       "        vertical-align: middle;\n",
       "    }\n",
       "\n",
       "    .dataframe tbody tr th {\n",
       "        vertical-align: top;\n",
       "    }\n",
       "\n",
       "    .dataframe thead th {\n",
       "        text-align: right;\n",
       "    }\n",
       "</style>\n",
       "<table border=\"1\" class=\"dataframe\">\n",
       "  <thead>\n",
       "    <tr style=\"text-align: right;\">\n",
       "      <th></th>\n",
       "      <th>paredblolad</th>\n",
       "      <th>pisomoscer</th>\n",
       "      <th>cielorazo</th>\n",
       "      <th>energcocinar2</th>\n",
       "      <th>energcocinar3</th>\n",
       "      <th>tipovivi1</th>\n",
       "      <th>television</th>\n",
       "      <th>lugar1</th>\n",
       "      <th>area1</th>\n",
       "      <th>v2a1</th>\n",
       "      <th>...</th>\n",
       "      <th>escolari_normalized_by_age-min</th>\n",
       "      <th>escolari_normalized_by_age-max</th>\n",
       "      <th>escolari_normalized_by_age-sum</th>\n",
       "      <th>escolari_normalized_by_age-std</th>\n",
       "      <th>escolari_normalized_by_age-range_</th>\n",
       "      <th>inst_normalized_by_age-max</th>\n",
       "      <th>inst_normalized_by_age-std</th>\n",
       "      <th>inst_normalized_by_age-range_</th>\n",
       "      <th>tech-min</th>\n",
       "      <th>tech-sum</th>\n",
       "    </tr>\n",
       "  </thead>\n",
       "  <tbody>\n",
       "    <tr>\n",
       "      <th>0</th>\n",
       "      <td>1.0</td>\n",
       "      <td>1.0</td>\n",
       "      <td>1.0</td>\n",
       "      <td>0.0</td>\n",
       "      <td>1.0</td>\n",
       "      <td>1.0</td>\n",
       "      <td>0.0</td>\n",
       "      <td>1.0</td>\n",
       "      <td>1.0</td>\n",
       "      <td>0.000</td>\n",
       "      <td>...</td>\n",
       "      <td>0.000000</td>\n",
       "      <td>0.560976</td>\n",
       "      <td>0.147735</td>\n",
       "      <td>0.524370</td>\n",
       "      <td>0.592334</td>\n",
       "      <td>0.501742</td>\n",
       "      <td>0.482610</td>\n",
       "      <td>0.507317</td>\n",
       "      <td>0.5</td>\n",
       "      <td>0.136364</td>\n",
       "    </tr>\n",
       "    <tr>\n",
       "      <th>1</th>\n",
       "      <td>1.0</td>\n",
       "      <td>1.0</td>\n",
       "      <td>1.0</td>\n",
       "      <td>1.0</td>\n",
       "      <td>0.0</td>\n",
       "      <td>1.0</td>\n",
       "      <td>0.0</td>\n",
       "      <td>1.0</td>\n",
       "      <td>1.0</td>\n",
       "      <td>0.000</td>\n",
       "      <td>...</td>\n",
       "      <td>0.426150</td>\n",
       "      <td>0.366899</td>\n",
       "      <td>0.049776</td>\n",
       "      <td>0.373198</td>\n",
       "      <td>0.000000</td>\n",
       "      <td>0.305085</td>\n",
       "      <td>0.287213</td>\n",
       "      <td>0.000000</td>\n",
       "      <td>1.0</td>\n",
       "      <td>0.090909</td>\n",
       "    </tr>\n",
       "    <tr>\n",
       "      <th>2</th>\n",
       "      <td>1.0</td>\n",
       "      <td>1.0</td>\n",
       "      <td>1.0</td>\n",
       "      <td>1.0</td>\n",
       "      <td>0.0</td>\n",
       "      <td>0.0</td>\n",
       "      <td>0.0</td>\n",
       "      <td>1.0</td>\n",
       "      <td>1.0</td>\n",
       "      <td>0.175</td>\n",
       "      <td>...</td>\n",
       "      <td>0.960317</td>\n",
       "      <td>0.826797</td>\n",
       "      <td>0.112169</td>\n",
       "      <td>0.373198</td>\n",
       "      <td>0.000000</td>\n",
       "      <td>0.571429</td>\n",
       "      <td>0.287213</td>\n",
       "      <td>0.000000</td>\n",
       "      <td>1.0</td>\n",
       "      <td>0.090909</td>\n",
       "    </tr>\n",
       "    <tr>\n",
       "      <th>3</th>\n",
       "      <td>1.0</td>\n",
       "      <td>0.0</td>\n",
       "      <td>1.0</td>\n",
       "      <td>1.0</td>\n",
       "      <td>0.0</td>\n",
       "      <td>0.0</td>\n",
       "      <td>0.0</td>\n",
       "      <td>1.0</td>\n",
       "      <td>1.0</td>\n",
       "      <td>0.400</td>\n",
       "      <td>...</td>\n",
       "      <td>0.411565</td>\n",
       "      <td>0.569659</td>\n",
       "      <td>0.125357</td>\n",
       "      <td>0.253622</td>\n",
       "      <td>0.227354</td>\n",
       "      <td>0.473684</td>\n",
       "      <td>0.285591</td>\n",
       "      <td>0.231328</td>\n",
       "      <td>1.0</td>\n",
       "      <td>0.181818</td>\n",
       "    </tr>\n",
       "    <tr>\n",
       "      <th>4</th>\n",
       "      <td>1.0</td>\n",
       "      <td>1.0</td>\n",
       "      <td>1.0</td>\n",
       "      <td>0.0</td>\n",
       "      <td>1.0</td>\n",
       "      <td>0.0</td>\n",
       "      <td>0.0</td>\n",
       "      <td>1.0</td>\n",
       "      <td>1.0</td>\n",
       "      <td>0.300</td>\n",
       "      <td>...</td>\n",
       "      <td>1.000000</td>\n",
       "      <td>0.901961</td>\n",
       "      <td>0.239171</td>\n",
       "      <td>0.048292</td>\n",
       "      <td>0.043290</td>\n",
       "      <td>0.857143</td>\n",
       "      <td>0.048634</td>\n",
       "      <td>0.039394</td>\n",
       "      <td>1.0</td>\n",
       "      <td>0.181818</td>\n",
       "    </tr>\n",
       "  </tbody>\n",
       "</table>\n",
       "<p>5 rows × 91 columns</p>\n",
       "</div>"
      ],
      "text/plain": [
       "   paredblolad  pisomoscer  cielorazo  energcocinar2  energcocinar3  \\\n",
       "0          1.0         1.0        1.0            0.0            1.0   \n",
       "1          1.0         1.0        1.0            1.0            0.0   \n",
       "2          1.0         1.0        1.0            1.0            0.0   \n",
       "3          1.0         0.0        1.0            1.0            0.0   \n",
       "4          1.0         1.0        1.0            0.0            1.0   \n",
       "\n",
       "   tipovivi1  television  lugar1  area1   v2a1  ...  \\\n",
       "0        1.0         0.0     1.0    1.0  0.000  ...   \n",
       "1        1.0         0.0     1.0    1.0  0.000  ...   \n",
       "2        0.0         0.0     1.0    1.0  0.175  ...   \n",
       "3        0.0         0.0     1.0    1.0  0.400  ...   \n",
       "4        0.0         0.0     1.0    1.0  0.300  ...   \n",
       "\n",
       "   escolari_normalized_by_age-min  escolari_normalized_by_age-max  \\\n",
       "0                        0.000000                        0.560976   \n",
       "1                        0.426150                        0.366899   \n",
       "2                        0.960317                        0.826797   \n",
       "3                        0.411565                        0.569659   \n",
       "4                        1.000000                        0.901961   \n",
       "\n",
       "   escolari_normalized_by_age-sum  escolari_normalized_by_age-std  \\\n",
       "0                        0.147735                        0.524370   \n",
       "1                        0.049776                        0.373198   \n",
       "2                        0.112169                        0.373198   \n",
       "3                        0.125357                        0.253622   \n",
       "4                        0.239171                        0.048292   \n",
       "\n",
       "   escolari_normalized_by_age-range_  inst_normalized_by_age-max  \\\n",
       "0                           0.592334                    0.501742   \n",
       "1                           0.000000                    0.305085   \n",
       "2                           0.000000                    0.571429   \n",
       "3                           0.227354                    0.473684   \n",
       "4                           0.043290                    0.857143   \n",
       "\n",
       "   inst_normalized_by_age-std  inst_normalized_by_age-range_  tech-min  \\\n",
       "0                    0.482610                       0.507317       0.5   \n",
       "1                    0.287213                       0.000000       1.0   \n",
       "2                    0.287213                       0.000000       1.0   \n",
       "3                    0.285591                       0.231328       1.0   \n",
       "4                    0.048634                       0.039394       1.0   \n",
       "\n",
       "   tech-sum  \n",
       "0  0.136364  \n",
       "1  0.090909  \n",
       "2  0.090909  \n",
       "3  0.181818  \n",
       "4  0.181818  \n",
       "\n",
       "[5 rows x 91 columns]"
      ]
     },
     "execution_count": 27,
     "metadata": {},
     "output_type": "execute_result"
    }
   ],
   "source": [
    "x_tst_processed.head()"
   ]
  },
  {
   "cell_type": "markdown",
   "id": "8463a928",
   "metadata": {},
   "source": [
    "## Save processed data"
   ]
  },
  {
   "cell_type": "code",
   "execution_count": 28,
   "id": "9bad90b1",
   "metadata": {},
   "outputs": [],
   "source": [
    "x_tr_processed.to_pickle(Path(\"data\",\"processed\",\"x_tr_processed_final.pkl\"))\n",
    "x_tst_processed.to_pickle(Path(\"data\",\"processed\",\"x_tst_processed_final.pkl\"))\n",
    "\n",
    "y_train.to_pickle(Path(\"data\",\"processed\",\"y_tr_processed_final.pkl\"))"
   ]
  },
  {
   "cell_type": "code",
   "execution_count": null,
   "id": "e412aac0",
   "metadata": {},
   "outputs": [],
   "source": []
  },
  {
   "cell_type": "code",
   "execution_count": null,
   "id": "ed9ce03b",
   "metadata": {},
   "outputs": [],
   "source": []
  },
  {
   "cell_type": "code",
   "execution_count": null,
   "id": "402c12e5",
   "metadata": {},
   "outputs": [],
   "source": []
  },
  {
   "cell_type": "markdown",
   "id": "8bec15bf",
   "metadata": {},
   "source": [
    "## Modelling"
   ]
  },
  {
   "cell_type": "markdown",
   "id": "da9a4301",
   "metadata": {},
   "source": [
    "- The processed train set is less imbalanced after using SMOTE. But to ensure each of our folds has the same class distribution as the full train data, we still need to use StratifiedKFold, or StratifiedShuffleSplit (suitable for larger datasets as it is less computationally expense). We will use StratifiedKFold.\n",
    "- Include model selection step"
   ]
  },
  {
   "cell_type": "markdown",
   "id": "4b9cb58a",
   "metadata": {},
   "source": [
    "**Sklearn will automatically detect multiclass classification and will default to using ovr for logreg, SGD classifier\n",
    "and ovo for SVC. Tree-based models and NB can handle multiclass classification without using ovr or ovo.**"
   ]
  },
  {
   "cell_type": "markdown",
   "id": "8baf542d",
   "metadata": {},
   "source": [
    "## Model selection\n",
    "- We will use a feature selector to pre-select features based on importance\n",
    "- Only features with a certain importance (higher than some threshold: 1.25 * median importance) will be used for training\n",
    "- I chose a tree-based classifier for feature selection since it handles multiclass classification without having to use ovr or ovo (which requires training more models (e.g., for each pair of classes) under the hood)"
   ]
  },
  {
   "cell_type": "code",
   "execution_count": 29,
   "id": "591e107f",
   "metadata": {},
   "outputs": [],
   "source": [
    "sel_clf = ExtraTreesClassifier(n_estimators=100, random_state=RANDOM_STATE)"
   ]
  },
  {
   "cell_type": "code",
   "execution_count": 30,
   "id": "095ceeae",
   "metadata": {},
   "outputs": [],
   "source": [
    "# Define function to compute cv_scores for a user-specified model\n",
    "\n",
    "def evaluate_model(X,y,clf,cv,scoring):\n",
    "    \n",
    "    # Create pipeline\n",
    "    data_pipeline = imb_pipeline([\n",
    " \n",
    "         # === Imputation === #\n",
    "         (\"missing_imputation\", MeanMedianImputer(imputation_method=\"median\")),\n",
    " \n",
    "         # === drop qusai-constant variables === #\n",
    "         # drop variables with a level that appears in 0.75 of observations\n",
    "         ('drop_nzv', DropConstantFeatures(tol=0.75)),\n",
    "        \n",
    "        # === oversampling === # \n",
    "        # upsample the minority classes to have 0.25 of the majority class, so 500 for class 1-3\n",
    "        ('oversampling', SMOTE(sampling_strategy={1:500, 2:500, 3:500},\n",
    "                         random_state = RANDOM_STATE)),\n",
    "    \n",
    "         # === undersampling ==== # \n",
    "         # undersample the majority class to have 2x of minority class, so 1000 for class 4\n",
    "        ('undersampling', RandomUnderSampler(sampling_strategy={4:1000},\n",
    "                                             random_state=RANDOM_STATE)),  \n",
    " \n",
    "         # === normalization === #\n",
    "         ('scaler', MinMaxScaler()),\n",
    "        \n",
    "        # === feature selection using logreg === #\n",
    "        (\"feature_selection\", SelectFromModel(estimator=sel_clf, threshold=\"1.25*median\")),\n",
    "        \n",
    "         # === model === #\n",
    "         ('model', clf)\n",
    "     ])\n",
    "    \n",
    "    # Compute cv scores\n",
    "    cv_scores = cross_val_score(estimator = data_pipeline,\n",
    "                                X = X,\n",
    "                                y = y,\n",
    "                                scoring = scoring,\n",
    "                                cv = cv,\n",
    "                                n_jobs=1)\n",
    "    \n",
    "    return cv_scores"
   ]
  },
  {
   "cell_type": "code",
   "execution_count": 31,
   "id": "84652829",
   "metadata": {},
   "outputs": [
    {
     "data": {
      "text/plain": [
       "10"
      ]
     },
     "execution_count": 31,
     "metadata": {},
     "output_type": "execute_result"
    }
   ],
   "source": [
    "# Define the CV iterator\n",
    "skf = StratifiedKFold(\n",
    "    n_splits = 10,\n",
    "    shuffle = True,\n",
    "    random_state = RANDOM_STATE\n",
    ")\n",
    "skf.get_n_splits()"
   ]
  },
  {
   "cell_type": "code",
   "execution_count": 32,
   "id": "a06565ce",
   "metadata": {},
   "outputs": [],
   "source": [
    "# Define a dict of models\n",
    "models = {\"dummy\": DummyClassifier(random_state = RANDOM_STATE),\n",
    "          \"SGD\" : SGDClassifier(random_state = RANDOM_STATE),\n",
    "          \"Random Forest\": RandomForestClassifier(n_estimators= 1000, random_state = RANDOM_STATE),\n",
    "          \"Extra trees\": ExtraTreesClassifier(random_state = RANDOM_STATE),\n",
    "          \"SVC\" : LinearSVC(random_state = RANDOM_STATE),\n",
    "          \"Naive Bayes\": GaussianNB(),\n",
    "          \"KNN\": KNeighborsClassifier()\n",
    "         }"
   ]
  },
  {
   "cell_type": "code",
   "execution_count": 33,
   "id": "00f6fd4b",
   "metadata": {},
   "outputs": [
    {
     "name": "stdout",
     "output_type": "stream",
     "text": [
      "dummy\n",
      "mean f1_weighted: 0.52\n",
      "stdev f1_weighted: 0.0\n",
      "\n",
      "SGD\n",
      "mean f1_weighted: 0.6\n",
      "stdev f1_weighted: 0.03\n",
      "\n",
      "Random Forest\n",
      "mean f1_weighted: 0.62\n",
      "stdev f1_weighted: 0.02\n",
      "\n",
      "Extra trees\n",
      "mean f1_weighted: 0.62\n",
      "stdev f1_weighted: 0.03\n",
      "\n",
      "SVC\n",
      "mean f1_weighted: 0.61\n",
      "stdev f1_weighted: 0.02\n",
      "\n",
      "Naive Bayes\n",
      "mean f1_weighted: 0.58\n",
      "stdev f1_weighted: 0.02\n",
      "\n"
     ]
    },
    {
     "name": "stderr",
     "output_type": "stream",
     "text": [
      "/Users/hfung/.pyenv/versions/3.8.0/lib/python3.8/site-packages/sklearn/neighbors/_classification.py:230: FutureWarning: Unlike other reduction functions (e.g. `skew`, `kurtosis`), the default behavior of `mode` typically preserves the axis it acts along. In SciPy 1.11.0, this behavior will change: the default value of `keepdims` will become False, the `axis` over which the statistic is taken will be eliminated, and the value None will no longer be accepted. Set `keepdims` to True or False to avoid this warning.\n",
      "  mode, _ = stats.mode(_y[neigh_ind, k], axis=1)\n",
      "/Users/hfung/.pyenv/versions/3.8.0/lib/python3.8/site-packages/sklearn/neighbors/_classification.py:230: FutureWarning: Unlike other reduction functions (e.g. `skew`, `kurtosis`), the default behavior of `mode` typically preserves the axis it acts along. In SciPy 1.11.0, this behavior will change: the default value of `keepdims` will become False, the `axis` over which the statistic is taken will be eliminated, and the value None will no longer be accepted. Set `keepdims` to True or False to avoid this warning.\n",
      "  mode, _ = stats.mode(_y[neigh_ind, k], axis=1)\n",
      "/Users/hfung/.pyenv/versions/3.8.0/lib/python3.8/site-packages/sklearn/neighbors/_classification.py:230: FutureWarning: Unlike other reduction functions (e.g. `skew`, `kurtosis`), the default behavior of `mode` typically preserves the axis it acts along. In SciPy 1.11.0, this behavior will change: the default value of `keepdims` will become False, the `axis` over which the statistic is taken will be eliminated, and the value None will no longer be accepted. Set `keepdims` to True or False to avoid this warning.\n",
      "  mode, _ = stats.mode(_y[neigh_ind, k], axis=1)\n",
      "/Users/hfung/.pyenv/versions/3.8.0/lib/python3.8/site-packages/sklearn/neighbors/_classification.py:230: FutureWarning: Unlike other reduction functions (e.g. `skew`, `kurtosis`), the default behavior of `mode` typically preserves the axis it acts along. In SciPy 1.11.0, this behavior will change: the default value of `keepdims` will become False, the `axis` over which the statistic is taken will be eliminated, and the value None will no longer be accepted. Set `keepdims` to True or False to avoid this warning.\n",
      "  mode, _ = stats.mode(_y[neigh_ind, k], axis=1)\n",
      "/Users/hfung/.pyenv/versions/3.8.0/lib/python3.8/site-packages/sklearn/neighbors/_classification.py:230: FutureWarning: Unlike other reduction functions (e.g. `skew`, `kurtosis`), the default behavior of `mode` typically preserves the axis it acts along. In SciPy 1.11.0, this behavior will change: the default value of `keepdims` will become False, the `axis` over which the statistic is taken will be eliminated, and the value None will no longer be accepted. Set `keepdims` to True or False to avoid this warning.\n",
      "  mode, _ = stats.mode(_y[neigh_ind, k], axis=1)\n",
      "/Users/hfung/.pyenv/versions/3.8.0/lib/python3.8/site-packages/sklearn/neighbors/_classification.py:230: FutureWarning: Unlike other reduction functions (e.g. `skew`, `kurtosis`), the default behavior of `mode` typically preserves the axis it acts along. In SciPy 1.11.0, this behavior will change: the default value of `keepdims` will become False, the `axis` over which the statistic is taken will be eliminated, and the value None will no longer be accepted. Set `keepdims` to True or False to avoid this warning.\n",
      "  mode, _ = stats.mode(_y[neigh_ind, k], axis=1)\n",
      "/Users/hfung/.pyenv/versions/3.8.0/lib/python3.8/site-packages/sklearn/neighbors/_classification.py:230: FutureWarning: Unlike other reduction functions (e.g. `skew`, `kurtosis`), the default behavior of `mode` typically preserves the axis it acts along. In SciPy 1.11.0, this behavior will change: the default value of `keepdims` will become False, the `axis` over which the statistic is taken will be eliminated, and the value None will no longer be accepted. Set `keepdims` to True or False to avoid this warning.\n",
      "  mode, _ = stats.mode(_y[neigh_ind, k], axis=1)\n",
      "/Users/hfung/.pyenv/versions/3.8.0/lib/python3.8/site-packages/sklearn/neighbors/_classification.py:230: FutureWarning: Unlike other reduction functions (e.g. `skew`, `kurtosis`), the default behavior of `mode` typically preserves the axis it acts along. In SciPy 1.11.0, this behavior will change: the default value of `keepdims` will become False, the `axis` over which the statistic is taken will be eliminated, and the value None will no longer be accepted. Set `keepdims` to True or False to avoid this warning.\n",
      "  mode, _ = stats.mode(_y[neigh_ind, k], axis=1)\n",
      "/Users/hfung/.pyenv/versions/3.8.0/lib/python3.8/site-packages/sklearn/neighbors/_classification.py:230: FutureWarning: Unlike other reduction functions (e.g. `skew`, `kurtosis`), the default behavior of `mode` typically preserves the axis it acts along. In SciPy 1.11.0, this behavior will change: the default value of `keepdims` will become False, the `axis` over which the statistic is taken will be eliminated, and the value None will no longer be accepted. Set `keepdims` to True or False to avoid this warning.\n",
      "  mode, _ = stats.mode(_y[neigh_ind, k], axis=1)\n"
     ]
    },
    {
     "name": "stdout",
     "output_type": "stream",
     "text": [
      "KNN\n",
      "mean f1_weighted: 0.58\n",
      "stdev f1_weighted: 0.03\n",
      "\n"
     ]
    },
    {
     "name": "stderr",
     "output_type": "stream",
     "text": [
      "/Users/hfung/.pyenv/versions/3.8.0/lib/python3.8/site-packages/sklearn/neighbors/_classification.py:230: FutureWarning: Unlike other reduction functions (e.g. `skew`, `kurtosis`), the default behavior of `mode` typically preserves the axis it acts along. In SciPy 1.11.0, this behavior will change: the default value of `keepdims` will become False, the `axis` over which the statistic is taken will be eliminated, and the value None will no longer be accepted. Set `keepdims` to True or False to avoid this warning.\n",
      "  mode, _ = stats.mode(_y[neigh_ind, k], axis=1)\n"
     ]
    }
   ],
   "source": [
    "# Train each model in the models dict, and then populate a dataframe with scores\n",
    "\n",
    "res = {} # empty results dictionary that will contain cv_scores for each model\n",
    "\n",
    "for k,v in models.items():\n",
    "    cv_scores = evaluate_model(X = X_train,\n",
    "                   y = y_train,\n",
    "                   clf = v,\n",
    "                   cv = skf,\n",
    "                   scoring = SCORING\n",
    "                  )\n",
    "    # update results dictionary\n",
    "    res.update({k:cv_scores}) # .update(): row concat a dictionary with another dictionary \n",
    "    \n",
    "    # print mean and sd cv scores of each model\n",
    "    print(f\"{k}\")\n",
    "    print(f\"mean {SCORING}: {np.round(np.mean(cv_scores),2)}\")\n",
    "    print(f\"stdev {SCORING}: {np.round(np.std(cv_scores),2)}\")\n",
    "    print()"
   ]
  },
  {
   "cell_type": "code",
   "execution_count": 34,
   "id": "10501b00",
   "metadata": {},
   "outputs": [
    {
     "data": {
      "text/plain": [
       "{'dummy': array([0.52191397, 0.52191397, 0.52191397, 0.52473347, 0.52044839,\n",
       "        0.52044839, 0.52044839, 0.52044839, 0.52044839, 0.52044839]),\n",
       " 'SGD': array([0.60364679, 0.56969537, 0.63049307, 0.5781893 , 0.59738744,\n",
       "        0.54329407, 0.62325229, 0.62597803, 0.62343443, 0.59487132]),\n",
       " 'Random Forest': array([0.61887807, 0.62181387, 0.65281871, 0.59366047, 0.63392786,\n",
       "        0.57749494, 0.62579955, 0.65040785, 0.61286576, 0.62319534]),\n",
       " 'Extra trees': array([0.64361563, 0.61742729, 0.65617214, 0.57452543, 0.62970884,\n",
       "        0.58650053, 0.64729296, 0.60613442, 0.61972377, 0.60678494]),\n",
       " 'SVC': array([0.61586968, 0.60197882, 0.65576155, 0.60081177, 0.61461527,\n",
       "        0.58172037, 0.62072781, 0.61382642, 0.59468027, 0.61660174]),\n",
       " 'Naive Bayes': array([0.57194516, 0.57104131, 0.60979065, 0.58280666, 0.59920151,\n",
       "        0.56779507, 0.5884218 , 0.58576895, 0.55946662, 0.54311341]),\n",
       " 'KNN': array([0.58157194, 0.54886834, 0.61806083, 0.57369883, 0.60046898,\n",
       "        0.53542644, 0.61223006, 0.61400991, 0.56081213, 0.57394376])}"
      ]
     },
     "execution_count": 34,
     "metadata": {},
     "output_type": "execute_result"
    }
   ],
   "source": [
    "res"
   ]
  },
  {
   "cell_type": "code",
   "execution_count": 35,
   "id": "5d86b872",
   "metadata": {},
   "outputs": [
    {
     "data": {
      "text/html": [
       "<div>\n",
       "<style scoped>\n",
       "    .dataframe tbody tr th:only-of-type {\n",
       "        vertical-align: middle;\n",
       "    }\n",
       "\n",
       "    .dataframe tbody tr th {\n",
       "        vertical-align: top;\n",
       "    }\n",
       "\n",
       "    .dataframe thead th {\n",
       "        text-align: right;\n",
       "    }\n",
       "</style>\n",
       "<table border=\"1\" class=\"dataframe\">\n",
       "  <thead>\n",
       "    <tr style=\"text-align: right;\">\n",
       "      <th></th>\n",
       "      <th>dummy</th>\n",
       "      <th>SGD</th>\n",
       "      <th>Random Forest</th>\n",
       "      <th>Extra trees</th>\n",
       "      <th>SVC</th>\n",
       "      <th>Naive Bayes</th>\n",
       "      <th>KNN</th>\n",
       "    </tr>\n",
       "  </thead>\n",
       "  <tbody>\n",
       "    <tr>\n",
       "      <th>0</th>\n",
       "      <td>0.521914</td>\n",
       "      <td>0.603647</td>\n",
       "      <td>0.618878</td>\n",
       "      <td>0.643616</td>\n",
       "      <td>0.615870</td>\n",
       "      <td>0.571945</td>\n",
       "      <td>0.581572</td>\n",
       "    </tr>\n",
       "    <tr>\n",
       "      <th>1</th>\n",
       "      <td>0.521914</td>\n",
       "      <td>0.569695</td>\n",
       "      <td>0.621814</td>\n",
       "      <td>0.617427</td>\n",
       "      <td>0.601979</td>\n",
       "      <td>0.571041</td>\n",
       "      <td>0.548868</td>\n",
       "    </tr>\n",
       "    <tr>\n",
       "      <th>2</th>\n",
       "      <td>0.521914</td>\n",
       "      <td>0.630493</td>\n",
       "      <td>0.652819</td>\n",
       "      <td>0.656172</td>\n",
       "      <td>0.655762</td>\n",
       "      <td>0.609791</td>\n",
       "      <td>0.618061</td>\n",
       "    </tr>\n",
       "    <tr>\n",
       "      <th>3</th>\n",
       "      <td>0.524733</td>\n",
       "      <td>0.578189</td>\n",
       "      <td>0.593660</td>\n",
       "      <td>0.574525</td>\n",
       "      <td>0.600812</td>\n",
       "      <td>0.582807</td>\n",
       "      <td>0.573699</td>\n",
       "    </tr>\n",
       "    <tr>\n",
       "      <th>4</th>\n",
       "      <td>0.520448</td>\n",
       "      <td>0.597387</td>\n",
       "      <td>0.633928</td>\n",
       "      <td>0.629709</td>\n",
       "      <td>0.614615</td>\n",
       "      <td>0.599202</td>\n",
       "      <td>0.600469</td>\n",
       "    </tr>\n",
       "  </tbody>\n",
       "</table>\n",
       "</div>"
      ],
      "text/plain": [
       "      dummy       SGD  Random Forest  Extra trees       SVC  Naive Bayes  \\\n",
       "0  0.521914  0.603647       0.618878     0.643616  0.615870     0.571945   \n",
       "1  0.521914  0.569695       0.621814     0.617427  0.601979     0.571041   \n",
       "2  0.521914  0.630493       0.652819     0.656172  0.655762     0.609791   \n",
       "3  0.524733  0.578189       0.593660     0.574525  0.600812     0.582807   \n",
       "4  0.520448  0.597387       0.633928     0.629709  0.614615     0.599202   \n",
       "\n",
       "        KNN  \n",
       "0  0.581572  \n",
       "1  0.548868  \n",
       "2  0.618061  \n",
       "3  0.573699  \n",
       "4  0.600469  "
      ]
     },
     "execution_count": 35,
     "metadata": {},
     "output_type": "execute_result"
    }
   ],
   "source": [
    "# Create results dataframe\n",
    "df_res = pd.DataFrame.from_dict(res)\n",
    "df_res.head()"
   ]
  },
  {
   "cell_type": "markdown",
   "id": "daf56841",
   "metadata": {},
   "source": [
    "## Visualize cv scores"
   ]
  },
  {
   "cell_type": "code",
   "execution_count": 36,
   "id": "af38a9f9",
   "metadata": {},
   "outputs": [
    {
     "data": {
      "text/plain": [
       "Text(0.5, 0, 'CV average f1_weighted')"
      ]
     },
     "execution_count": 36,
     "metadata": {},
     "output_type": "execute_result"
    },
    {
     "data": {
      "image/png": "[encoded data removed]",
      "text/plain": [
       "<Figure size 720x360 with 1 Axes>"
      ]
     },
     "metadata": {},
     "output_type": "display_data"
    }
   ],
   "source": [
    "# Plot styling\n",
    "plt.style.use(\"fivethirtyeight\")\n",
    "plt.rcParams[\"font.size\"] = 12\n",
    "\n",
    "df_res = df_res.unstack().to_frame()\n",
    "\n",
    "fig = plt.figure(figsize=(10,5))\n",
    "sns.boxplot(\n",
    "    y=df_res.index.get_level_values(0),\n",
    "    x=df_res[0])\n",
    "plt.xlabel(f\"CV average {SCORING}\")"
   ]
  },
  {
   "cell_type": "markdown",
   "id": "325a3e5b",
   "metadata": {},
   "source": [
    "NOTE: I see a slight improvement in the f1_weighted score with SMOTE compared to no SMOTE. I will use Random Forest."
   ]
  },
  {
   "cell_type": "code",
   "execution_count": null,
   "id": "22397426",
   "metadata": {},
   "outputs": [],
   "source": []
  },
  {
   "cell_type": "markdown",
   "id": "6ca85afe",
   "metadata": {},
   "source": [
    "## Hyperparameters tuning using RandomizedSearchCV (SMOTE)\n",
    "- I will select RandomForestClassifer as the model to optimize\n",
    "- I will tune parameters for the processing transformers also (e.g., SelectModel)"
   ]
  },
  {
   "cell_type": "code",
   "execution_count": 37,
   "id": "efb21b62",
   "metadata": {},
   "outputs": [
    {
     "data": {
      "text/plain": [
       "5"
      ]
     },
     "execution_count": 37,
     "metadata": {},
     "output_type": "execute_result"
    }
   ],
   "source": [
    "# Define the CV iterator\n",
    "skf = StratifiedKFold(\n",
    "    n_splits = 5,\n",
    "    shuffle = True,\n",
    "    random_state = RANDOM_STATE\n",
    ")\n",
    "skf.get_n_splits()"
   ]
  },
  {
   "cell_type": "code",
   "execution_count": 38,
   "id": "2407fd74",
   "metadata": {},
   "outputs": [],
   "source": [
    "# Create pipeline\n",
    "data_pipeline = imb_pipeline([\n",
    "    \n",
    "    # === Imputation === #\n",
    "    (\"missing_imputation\", MeanMedianImputer(imputation_method=\"median\")),\n",
    "    \n",
    "    # === drop qusai-constant variables === #\n",
    "    # drop variables with a level that appears in 0.75 of observations\n",
    "    ('drop_nzv', DropConstantFeatures()),\n",
    "    \n",
    "    # === oversampling === # \n",
    "    # upsample the minority classes to have 0.25 of the majority class, so 500 for class 1-3\n",
    "    ('oversampling', SMOTE(sampling_strategy={1:500, 2:500, 3:500},\n",
    "                     random_state = RANDOM_STATE)),\n",
    "    \n",
    "    # === undersampling ==== # \n",
    "    # undersample the majority class to have 2x of minority class, so 1000 for class 4\n",
    "    ('undersampling', RandomUnderSampler(sampling_strategy={4:1000},\n",
    "                                         random_state=RANDOM_STATE)),  \n",
    "    \n",
    "    # === normalization === #\n",
    "    ('scaler', MinMaxScaler()),\n",
    "    \n",
    "    # === feature selection using logreg === #\n",
    "    (\"fs\", SelectFromModel(estimator=sel_clf)),\n",
    "    \n",
    "    # === model === #\n",
    "    ('clf',  RandomForestClassifier(random_state= RANDOM_STATE))\n",
    "     \n",
    "])"
   ]
  },
  {
   "cell_type": "code",
   "execution_count": 39,
   "id": "bba13c34",
   "metadata": {},
   "outputs": [],
   "source": [
    "# random grid\n",
    "random_grid = {\n",
    "    \n",
    "    # drop_nzv parameterse\n",
    "    \"drop_nzv__tol\":[0.75, 0.8, 0.9],\n",
    "    \n",
    "    # feature selection parameters\n",
    "    \"fs__threshold\":[\"median\",\"1.25*median\", \"1.5*median\"],\n",
    "    \n",
    "    # classifier parameters \n",
    "    \"clf__n_estimators\": [10, 100, 1000],\n",
    "    \"clf__max_depth\": [None,1,3,10,40,50],\n",
    "    \"clf__min_samples_split\": [2,5,10,50,100],\n",
    "    \"clf__min_samples_leaf\": [2,5,10,50,100]\n",
    "}"
   ]
  },
  {
   "cell_type": "code",
   "execution_count": 40,
   "id": "6f99197f",
   "metadata": {},
   "outputs": [],
   "source": [
    "# Perform random search of the parameters, using a 5 fold CV to estimate the test metric for each setting.\n",
    "\n",
    "# init random grid search object\n",
    "rand_grid_search = RandomizedSearchCV(estimator = data_pipeline,\n",
    "                                param_distributions = random_grid,\n",
    "                                n_iter = 10,  # randomly select 10 different settings to try\n",
    "                                cv = skf,       # use 5-fold CV for each setting to estimate its test metric\n",
    "                                scoring=SCORING,\n",
    "                                verbose = 1,  # show the process\n",
    "                                n_jobs =-1,  # use all processors\n",
    "                                random_state = RANDOM_STATE)"
   ]
  },
  {
   "cell_type": "code",
   "execution_count": 41,
   "id": "53b7cbcf",
   "metadata": {},
   "outputs": [
    {
     "name": "stdout",
     "output_type": "stream",
     "text": [
      "Fitting 5 folds for each of 10 candidates, totalling 50 fits\n"
     ]
    },
    {
     "data": {
      "text/plain": [
       "RandomizedSearchCV(cv=StratifiedKFold(n_splits=5, random_state=10, shuffle=True),\n",
       "                   estimator=Pipeline(steps=[('missing_imputation',\n",
       "                                              MeanMedianImputer()),\n",
       "                                             ('drop_nzv',\n",
       "                                              DropConstantFeatures()),\n",
       "                                             ('oversampling',\n",
       "                                              SMOTE(random_state=10,\n",
       "                                                    sampling_strategy={1: 500,\n",
       "                                                                       2: 500,\n",
       "                                                                       3: 500})),\n",
       "                                             ('undersampling',\n",
       "                                              RandomUnderSampler(random_state=10,\n",
       "                                                                 sampling_strategy={4: 1000})),\n",
       "                                             ('scale...\n",
       "                                              RandomForestClassifier(random_state=10))]),\n",
       "                   n_jobs=-1,\n",
       "                   param_distributions={'clf__max_depth': [None, 1, 3, 10, 40,\n",
       "                                                           50],\n",
       "                                        'clf__min_samples_leaf': [2, 5, 10, 50,\n",
       "                                                                  100],\n",
       "                                        'clf__min_samples_split': [2, 5, 10, 50,\n",
       "                                                                   100],\n",
       "                                        'clf__n_estimators': [10, 100, 1000],\n",
       "                                        'drop_nzv__tol': [0.75, 0.8, 0.9],\n",
       "                                        'fs__threshold': ['median',\n",
       "                                                          '1.25*median',\n",
       "                                                          '1.5*median']},\n",
       "                   random_state=10, scoring='f1_weighted', verbose=1)"
      ]
     },
     "execution_count": 41,
     "metadata": {},
     "output_type": "execute_result"
    }
   ],
   "source": [
    "# fit model\n",
    "rand_grid_search.fit(X_train, y_train)"
   ]
  },
  {
   "cell_type": "code",
   "execution_count": 42,
   "id": "5560c3ef",
   "metadata": {},
   "outputs": [
    {
     "name": "stdout",
     "output_type": "stream",
     "text": [
      "The mean CV f1_weighted of the best estimator is: 0.630373073453377\n"
     ]
    }
   ],
   "source": [
    "print(f\"The mean CV {SCORING} of the best estimator is: {rand_grid_search.best_score_}\")"
   ]
  },
  {
   "cell_type": "code",
   "execution_count": 43,
   "id": "bcd4097b",
   "metadata": {},
   "outputs": [
    {
     "data": {
      "text/plain": [
       "{'fs__threshold': 'median',\n",
       " 'drop_nzv__tol': 0.8,\n",
       " 'clf__n_estimators': 100,\n",
       " 'clf__min_samples_split': 10,\n",
       " 'clf__min_samples_leaf': 2,\n",
       " 'clf__max_depth': 50}"
      ]
     },
     "execution_count": 43,
     "metadata": {},
     "output_type": "execute_result"
    }
   ],
   "source": [
    "# Optimized parameters\n",
    "rand_grid_search.best_params_ "
   ]
  },
  {
   "cell_type": "code",
   "execution_count": null,
   "id": "c89121cf",
   "metadata": {},
   "outputs": [],
   "source": []
  },
  {
   "cell_type": "markdown",
   "id": "38ca8dec",
   "metadata": {},
   "source": [
    "## Hyperparameters tuning using GridSearchCV\n",
    "- Hone in on a smaller set of hyperparameters to tune (fine tuning)"
   ]
  },
  {
   "cell_type": "code",
   "execution_count": 44,
   "id": "356be8ba",
   "metadata": {},
   "outputs": [],
   "source": [
    "# Create pipeline, setting some parameters based on Random Search results\n",
    "data_pipeline = imb_pipeline([\n",
    "    \n",
    "    # === Imputation === #\n",
    "    (\"missing_imputation\", MeanMedianImputer(imputation_method=\"median\")),\n",
    "    \n",
    "    # === drop qusai-constant variables === #\n",
    "    # drop variables with a level that appears in 0.8 of observations\n",
    "    ('drop_nzv', DropConstantFeatures(tol=0.8)),\n",
    "    \n",
    "    # === oversampling === # \n",
    "    # upsample the minority classes to have 0.25 of the majority class, so 500 for class 1-3\n",
    "    ('oversampling', SMOTE(sampling_strategy={1:500, 2:500, 3:500},\n",
    "                     random_state = RANDOM_STATE)),\n",
    "    \n",
    "    # === undersampling ==== # \n",
    "    # undersample the majority class to have 2x of minority class, so 1000 for class 4\n",
    "    ('undersampling', RandomUnderSampler(sampling_strategy={4:1000},\n",
    "                                         random_state=RANDOM_STATE)),  \n",
    "    \n",
    "    # === normalization === #\n",
    "    ('scaler', MinMaxScaler()),\n",
    "    \n",
    "    # === feature selection using logreg === #\n",
    "    (\"fs\", SelectFromModel(estimator=sel_clf)),\n",
    "    \n",
    "    # === model === #\n",
    "    ('clf',  RandomForestClassifier(n_estimators = 100, random_state= RANDOM_STATE))\n",
    "     \n",
    "])"
   ]
  },
  {
   "cell_type": "code",
   "execution_count": 45,
   "id": "f452334e",
   "metadata": {},
   "outputs": [],
   "source": [
    "# parameter grid\n",
    "param_grid = {\n",
    "     \n",
    "    # feature selection parameters\n",
    "    \"fs__threshold\":[\"0.5*median\",\"0.75*median\",\"median\"],\n",
    "    \n",
    "    # classifier parameters \n",
    "    \"clf__max_depth\": [40, 50, 60],\n",
    "    \"clf__min_samples_split\": [8,10,15],\n",
    "    \"clf__min_samples_leaf\": [1,2,3]\n",
    "}"
   ]
  },
  {
   "cell_type": "code",
   "execution_count": 46,
   "id": "160af0a4",
   "metadata": {},
   "outputs": [],
   "source": [
    "# Instantiate the grid search model\n",
    "grid_search = GridSearchCV(estimator = data_pipeline, \n",
    "                           param_grid = param_grid, \n",
    "                           cv = skf, \n",
    "                           scoring=SCORING,\n",
    "                           verbose =1, # show the process\n",
    "                           n_jobs = -1)  # n_jobs = -1 means use all processors"
   ]
  },
  {
   "cell_type": "code",
   "execution_count": 47,
   "id": "36060143",
   "metadata": {},
   "outputs": [
    {
     "name": "stdout",
     "output_type": "stream",
     "text": [
      "Fitting 5 folds for each of 81 candidates, totalling 405 fits\n"
     ]
    },
    {
     "data": {
      "text/plain": [
       "GridSearchCV(cv=StratifiedKFold(n_splits=5, random_state=10, shuffle=True),\n",
       "             estimator=Pipeline(steps=[('missing_imputation',\n",
       "                                        MeanMedianImputer()),\n",
       "                                       ('drop_nzv',\n",
       "                                        DropConstantFeatures(tol=0.8)),\n",
       "                                       ('oversampling',\n",
       "                                        SMOTE(random_state=10,\n",
       "                                              sampling_strategy={1: 500, 2: 500,\n",
       "                                                                 3: 500})),\n",
       "                                       ('undersampling',\n",
       "                                        RandomUnderSampler(random_state=10,\n",
       "                                                           sampling_strategy={4: 1000})),\n",
       "                                       ('scaler', MinMaxScaler()),\n",
       "                                       ('fs',\n",
       "                                        SelectFromModel(estimator=ExtraTreesClassifier(random_state=10))),\n",
       "                                       ('clf',\n",
       "                                        RandomForestClassifier(random_state=10))]),\n",
       "             n_jobs=-1,\n",
       "             param_grid={'clf__max_depth': [40, 50, 60],\n",
       "                         'clf__min_samples_leaf': [1, 2, 3],\n",
       "                         'clf__min_samples_split': [8, 10, 15],\n",
       "                         'fs__threshold': ['0.5*median', '0.75*median',\n",
       "                                           'median']},\n",
       "             scoring='f1_weighted', verbose=1)"
      ]
     },
     "execution_count": 47,
     "metadata": {},
     "output_type": "execute_result"
    }
   ],
   "source": [
    "# fit model\n",
    "grid_search.fit(X_train, y_train)"
   ]
  },
  {
   "cell_type": "code",
   "execution_count": 48,
   "id": "bed38576",
   "metadata": {},
   "outputs": [
    {
     "data": {
      "text/plain": [
       "{'clf__max_depth': 40,\n",
       " 'clf__min_samples_leaf': 2,\n",
       " 'clf__min_samples_split': 15,\n",
       " 'fs__threshold': 'median'}"
      ]
     },
     "execution_count": 48,
     "metadata": {},
     "output_type": "execute_result"
    }
   ],
   "source": [
    "# Let's take a look at the optimal parameters\n",
    "grid_search.best_params_"
   ]
  },
  {
   "cell_type": "code",
   "execution_count": 49,
   "id": "f581d3da",
   "metadata": {},
   "outputs": [
    {
     "name": "stdout",
     "output_type": "stream",
     "text": [
      "The optimal model has f1_weighted of 0.6366130613705157\n"
     ]
    }
   ],
   "source": [
    "# What is the score of the model with the optimal parameter\n",
    "print(f\"The optimal model has {SCORING} of {grid_search.best_score_}\")"
   ]
  },
  {
   "cell_type": "code",
   "execution_count": 50,
   "id": "f6127957",
   "metadata": {},
   "outputs": [],
   "source": [
    "# Persist the optimal pipeline (NOTE: the estimator of the grid_search object is a pipeline)\n",
    "grid_search_best_pipeline_smote = grid_search.best_estimator_\n",
    "\n",
    "# Save as pickle\n",
    "with open(Path('models','mclass_smote_grid_search_best_pipeline.pkl'), 'wb') as f:\n",
    "    pickle.dump(grid_search_best_pipeline_smote, f)"
   ]
  },
  {
   "cell_type": "markdown",
   "id": "61000041",
   "metadata": {},
   "source": [
    "## Selected features"
   ]
  },
  {
   "cell_type": "code",
   "execution_count": 51,
   "id": "459e8b4a",
   "metadata": {},
   "outputs": [
    {
     "data": {
      "text/plain": [
       "219"
      ]
     },
     "execution_count": 51,
     "metadata": {},
     "output_type": "execute_result"
    }
   ],
   "source": [
    "# Original number of columns in X_train\n",
    "len(train_feature_names)"
   ]
  },
  {
   "cell_type": "code",
   "execution_count": 52,
   "id": "f607c3a3",
   "metadata": {},
   "outputs": [
    {
     "data": {
      "text/plain": [
       "117"
      ]
     },
     "execution_count": 52,
     "metadata": {},
     "output_type": "execute_result"
    }
   ],
   "source": [
    "# features dropped due to nzv\n",
    "dropped_features = grid_search_best_pipeline_smote.named_steps.drop_nzv.features_to_drop_\n",
    "len(dropped_features)"
   ]
  },
  {
   "cell_type": "code",
   "execution_count": 53,
   "id": "b1258268",
   "metadata": {},
   "outputs": [
    {
     "data": {
      "text/plain": [
       "102"
      ]
     },
     "execution_count": 53,
     "metadata": {},
     "output_type": "execute_result"
    }
   ],
   "source": [
    "# features that remain after dropping those with nzv\n",
    "feature_names_post_nzv= [f for f in X_train.columns.values if f not in dropped_features]\n",
    "len(feature_names_post_nzv)"
   ]
  },
  {
   "cell_type": "code",
   "execution_count": 54,
   "id": "a7a4cafa",
   "metadata": {},
   "outputs": [
    {
     "data": {
      "text/plain": [
       "102"
      ]
     },
     "execution_count": 54,
     "metadata": {},
     "output_type": "execute_result"
    }
   ],
   "source": [
    "# Get the boolean mask of features that are selected by SelectFrom Model\n",
    "mask = (grid_search_best_pipeline_smote.named_steps.fs.get_support())\n",
    "len(mask)"
   ]
  },
  {
   "cell_type": "code",
   "execution_count": 55,
   "id": "7291b9f4",
   "metadata": {},
   "outputs": [
    {
     "data": {
      "text/plain": [
       "51"
      ]
     },
     "execution_count": 55,
     "metadata": {},
     "output_type": "execute_result"
    }
   ],
   "source": [
    "# Get list of features that are selected\n",
    "selected_features=list(compress(feature_names_post_nzv, mask))\n",
    "len(selected_features)"
   ]
  },
  {
   "cell_type": "code",
   "execution_count": null,
   "id": "79a25117",
   "metadata": {},
   "outputs": [],
   "source": []
  },
  {
   "cell_type": "markdown",
   "id": "d8e421ef",
   "metadata": {},
   "source": [
    "## Feature importance from Random Forest"
   ]
  },
  {
   "cell_type": "code",
   "execution_count": 56,
   "id": "ee432846",
   "metadata": {},
   "outputs": [],
   "source": [
    "# Get best random forest model\n",
    "best_rf= grid_search_best_pipeline_smote.named_steps[\"clf\"]"
   ]
  },
  {
   "cell_type": "code",
   "execution_count": 57,
   "id": "91ea2f2a",
   "metadata": {},
   "outputs": [
    {
     "data": {
      "text/html": [
       "<div>\n",
       "<style scoped>\n",
       "    .dataframe tbody tr th:only-of-type {\n",
       "        vertical-align: middle;\n",
       "    }\n",
       "\n",
       "    .dataframe tbody tr th {\n",
       "        vertical-align: top;\n",
       "    }\n",
       "\n",
       "    .dataframe thead th {\n",
       "        text-align: right;\n",
       "    }\n",
       "</style>\n",
       "<table border=\"1\" class=\"dataframe\">\n",
       "  <thead>\n",
       "    <tr style=\"text-align: right;\">\n",
       "      <th></th>\n",
       "      <th>feature</th>\n",
       "      <th>importance</th>\n",
       "    </tr>\n",
       "  </thead>\n",
       "  <tbody>\n",
       "    <tr>\n",
       "      <th>0</th>\n",
       "      <td>paredblolad</td>\n",
       "      <td>0.016463</td>\n",
       "    </tr>\n",
       "    <tr>\n",
       "      <th>1</th>\n",
       "      <td>pisomoscer</td>\n",
       "      <td>0.011231</td>\n",
       "    </tr>\n",
       "    <tr>\n",
       "      <th>2</th>\n",
       "      <td>cielorazo</td>\n",
       "      <td>0.018453</td>\n",
       "    </tr>\n",
       "    <tr>\n",
       "      <th>3</th>\n",
       "      <td>energcocinar2</td>\n",
       "      <td>0.005937</td>\n",
       "    </tr>\n",
       "    <tr>\n",
       "      <th>4</th>\n",
       "      <td>energcocinar3</td>\n",
       "      <td>0.004804</td>\n",
       "    </tr>\n",
       "  </tbody>\n",
       "</table>\n",
       "</div>"
      ],
      "text/plain": [
       "         feature  importance\n",
       "0    paredblolad    0.016463\n",
       "1     pisomoscer    0.011231\n",
       "2      cielorazo    0.018453\n",
       "3  energcocinar2    0.005937\n",
       "4  energcocinar3    0.004804"
      ]
     },
     "execution_count": 57,
     "metadata": {},
     "output_type": "execute_result"
    }
   ],
   "source": [
    "# Extract the feature importances into a dataframe\n",
    "feature_results = pd.DataFrame({'feature': selected_features, \n",
    "                                'importance': best_rf.feature_importances_})\n",
    "feature_results.head()"
   ]
  },
  {
   "cell_type": "code",
   "execution_count": 58,
   "id": "e4bb04ce",
   "metadata": {},
   "outputs": [
    {
     "data": {
      "text/plain": [
       "<AxesSubplot:title={'center':'Top 10 important features from random forest'}, xlabel='Features', ylabel='Normalized feature importance'>"
      ]
     },
     "execution_count": 58,
     "metadata": {},
     "output_type": "execute_result"
    },
    {
     "data": {
      "image/png": "[encoded data removed]",
      "text/plain": [
       "<Figure size 720x360 with 1 Axes>"
      ]
     },
     "metadata": {},
     "output_type": "display_data"
    }
   ],
   "source": [
    "# Bar plot\n",
    "\n",
    "# Plot styling\n",
    "plt.style.use(\"fivethirtyeight\")\n",
    "plt.rcParams[\"font.size\"] = 12\n",
    "\n",
    "fig = plt.figure(figsize=(10,5))\n",
    "ax = fig.add_subplot(1,1,1)\n",
    "\n",
    "(feature_results\n",
    "     .sort_values(\"importance\", ascending=False)\n",
    "     .set_index(\"feature\")\n",
    "     .head(10)\n",
    "     .plot.barh(\n",
    "         ax=ax,\n",
    "         color='k',\n",
    "         alpha=0.7,\n",
    "         title=\"Top 10 important features from random forest\",\n",
    "         ylabel=\"Normalized feature importance\",\n",
    "         xlabel=\"Features\"         \n",
    "     ))"
   ]
  },
  {
   "cell_type": "markdown",
   "id": "e1bed4ba",
   "metadata": {},
   "source": [
    "Education-related variables, minimum age of the household, and phone ownership are the features that are most predictive of household poverty level."
   ]
  },
  {
   "cell_type": "code",
   "execution_count": null,
   "id": "0cafda21",
   "metadata": {},
   "outputs": [],
   "source": []
  },
  {
   "cell_type": "markdown",
   "id": "be219518",
   "metadata": {},
   "source": [
    "### Confusion Matrix\n",
    "Method 1:\n",
    "- Create train and validation set\n",
    "- Train model on the train set\n",
    "- Test model with the validation set: assess with the confusion matrix"
   ]
  },
  {
   "cell_type": "markdown",
   "id": "29a2e897",
   "metadata": {},
   "source": [
    "Method 2:\n",
    "- Use the FULL train set (don't split it into train and validation set)\n",
    "- Performs K-fold CV (e.g., split FULL train set into 10 folds). Use 1 fold to test, and the remaining folds to train.\n",
    "- If I use `cross_val_predict()`, each \"test\" fold is used generate \"clean predictions\". Meaning that the predictions were generated from a model that never saw the test data during training.\n",
    "- I repeat this for all test folds to get a set clean predictions (has the same sample size as the FULL train set)."
   ]
  },
  {
   "cell_type": "markdown",
   "id": "ec6f5c02",
   "metadata": {},
   "source": [
    "**We will use Method 2**"
   ]
  },
  {
   "cell_type": "code",
   "execution_count": 59,
   "id": "e6826951",
   "metadata": {},
   "outputs": [
    {
     "data": {
      "text/plain": [
       "Pipeline(steps=[('missing_imputation', MeanMedianImputer()),\n",
       "                ('drop_nzv', DropConstantFeatures(tol=0.8)),\n",
       "                ('oversampling',\n",
       "                 SMOTE(random_state=10,\n",
       "                       sampling_strategy={1: 500, 2: 500, 3: 500})),\n",
       "                ('undersampling',\n",
       "                 RandomUnderSampler(random_state=10,\n",
       "                                    sampling_strategy={4: 1000})),\n",
       "                ('scaler', MinMaxScaler()),\n",
       "                ('fs',\n",
       "                 SelectFromModel(estimator=ExtraTreesClassifier(random_state=10),\n",
       "                                 threshold='median')),\n",
       "                ('clf',\n",
       "                 RandomForestClassifier(max_depth=40, min_samples_leaf=2,\n",
       "                                        min_samples_split=15,\n",
       "                                        random_state=10))])"
      ]
     },
     "execution_count": 59,
     "metadata": {},
     "output_type": "execute_result"
    }
   ],
   "source": [
    "grid_search_best_pipeline_smote # optimal pipeline"
   ]
  },
  {
   "cell_type": "code",
   "execution_count": 60,
   "id": "1d64ee1d",
   "metadata": {},
   "outputs": [],
   "source": [
    "y_train_pred = cross_val_predict(\n",
    "    estimator = grid_search_best_pipeline_smote,\n",
    "    X = X_train,\n",
    "    y = y_train,\n",
    "    cv = skf\n",
    ")"
   ]
  },
  {
   "cell_type": "code",
   "execution_count": 61,
   "id": "5b979430",
   "metadata": {},
   "outputs": [
    {
     "data": {
      "text/plain": [
       "((2973,), (2973,))"
      ]
     },
     "execution_count": 61,
     "metadata": {},
     "output_type": "execute_result"
    }
   ],
   "source": [
    "# I have a set of clean predictions in y_train_pred\n",
    "y_train_pred.shape, y_train.shape "
   ]
  },
  {
   "cell_type": "code",
   "execution_count": 62,
   "id": "c0cb192a",
   "metadata": {},
   "outputs": [
    {
     "data": {
      "text/plain": [
       "array([[  69,   71,   17,   65],\n",
       "       [  62,  130,   67,  183],\n",
       "       [  31,   70,   60,  194],\n",
       "       [  54,  124,   91, 1685]])"
      ]
     },
     "execution_count": 62,
     "metadata": {},
     "output_type": "execute_result"
    }
   ],
   "source": [
    "# Confusion matrix\n",
    "cm = confusion_matrix(y_train, y_train_pred)\n",
    "cm"
   ]
  },
  {
   "cell_type": "markdown",
   "id": "91a682a7",
   "metadata": {},
   "source": [
    "**Plot the confusion in a heatmap**"
   ]
  },
  {
   "cell_type": "code",
   "execution_count": 63,
   "id": "c99ffc1e",
   "metadata": {},
   "outputs": [],
   "source": [
    "def plot_confusion_matrix(cm, \n",
    "                          classes,\n",
    "                          normalize=False,\n",
    "                          title='Confusion matrix',\n",
    "                          cmap=plt.cm.Oranges):\n",
    "    \"\"\"\n",
    "    This function prints and plots the confusion matrix.\n",
    "    Normalization can be applied by setting `normalize=True`.\n",
    "    Source: http://scikit-learn.org/stable/auto_examples/model_selection/plot_confusion_matrix.html\n",
    "    \"\"\"\n",
    "    if normalize:\n",
    "        cm = cm.astype('float') / cm.sum(axis=1)[:, np.newaxis]\n",
    "        print(\"Normalized confusion matrix\")\n",
    "    else:\n",
    "        print('Confusion matrix, without normalization')\n",
    "\n",
    "    print(cm)\n",
    "\n",
    "    plt.figure(figsize = (10, 10))\n",
    "    plt.imshow(cm, interpolation='nearest', cmap=cmap)\n",
    "    plt.title(title, size = 24)\n",
    "    plt.colorbar(aspect=4)\n",
    "    tick_marks = np.arange(len(classes))\n",
    "    plt.xticks(tick_marks, classes, rotation=45, size = 14)\n",
    "    plt.yticks(tick_marks, classes, size = 14)\n",
    "\n",
    "    fmt = '.2f' if normalize else 'd'\n",
    "    thresh = cm.max() / 2.\n",
    "    \n",
    "    # Labeling the plot\n",
    "    for i, j in itertools.product(range(cm.shape[0]), range(cm.shape[1])):\n",
    "        plt.text(j, i, format(cm[i, j], fmt), fontsize = 20,\n",
    "                 horizontalalignment=\"center\",\n",
    "                 color=\"white\" if cm[i, j] > thresh else \"black\")\n",
    "        \n",
    "    plt.grid(None)\n",
    "    plt.tight_layout()\n",
    "    plt.ylabel('True label', size = 18)\n",
    "    plt.xlabel('Predicted label', size = 18)"
   ]
  },
  {
   "cell_type": "code",
   "execution_count": 64,
   "id": "06b03b65",
   "metadata": {},
   "outputs": [
    {
     "name": "stdout",
     "output_type": "stream",
     "text": [
      "Confusion matrix, without normalization\n",
      "[[  69   71   17   65]\n",
      " [  62  130   67  183]\n",
      " [  31   70   60  194]\n",
      " [  54  124   91 1685]]\n"
     ]
    },
    {
     "data": {
      "image/png": "[encoded data removed]",
      "text/plain": [
       "<Figure size 720x720 with 2 Axes>"
      ]
     },
     "metadata": {},
     "output_type": "display_data"
    }
   ],
   "source": [
    "plot_confusion_matrix(cm = cm, \n",
    "                      classes = ['extreme', 'moderate', 'vulnerable', 'not vulnerable'],\n",
    "                      normalize=False,\n",
    "                      title = 'Poverty Confusion Matrix')"
   ]
  },
  {
   "cell_type": "code",
   "execution_count": 65,
   "id": "6c76d504",
   "metadata": {},
   "outputs": [
    {
     "name": "stdout",
     "output_type": "stream",
     "text": [
      "Normalized confusion matrix\n",
      "[[0.31081081 0.31981982 0.07657658 0.29279279]\n",
      " [0.14027149 0.29411765 0.15158371 0.41402715]\n",
      " [0.08732394 0.1971831  0.16901408 0.54647887]\n",
      " [0.02763562 0.06345957 0.04657114 0.86233367]]\n"
     ]
    },
    {
     "data": {
      "image/png": "[encoded data removed]",
      "text/plain": [
       "<Figure size 720x720 with 2 Axes>"
      ]
     },
     "metadata": {},
     "output_type": "display_data"
    }
   ],
   "source": [
    "plot_confusion_matrix(cm = cm, \n",
    "                      classes = ['extreme', 'moderate', 'vulnerable', 'not vulnerable'],\n",
    "                      normalize=True,\n",
    "                      title = 'Poverty Confusion Matrix')"
   ]
  },
  {
   "cell_type": "markdown",
   "id": "f6f89dba",
   "metadata": {},
   "source": [
    "### Comments:\n",
    "- Slightly better performance on minority class compared to no SMOTE/cost sensitive learning\n",
    "\n",
    "- Since we are more interested in how well the model predicts extreme poverty, we will look at the positive (and minority) class: \n",
    "    - The model only correctly predicts 0.31 of all observations that actually have extreme poverty. The model has 31% recall for the extreme poverty class. Model is not good at distinguishing extreme, moderate, and not vulnerable classes.\n",
    "    - The model makes 216 predictions that are extreme poverty. Of those, 69 are correct. The model therefore has 39/216 = 0.32 precision."
   ]
  },
  {
   "cell_type": "code",
   "execution_count": null,
   "id": "dbc3d6dd",
   "metadata": {},
   "outputs": [],
   "source": []
  },
  {
   "cell_type": "markdown",
   "id": "efeb0e8d",
   "metadata": {},
   "source": [
    "## Use cost-sensitive learning to handle imbalanced classes\n",
    "- Instead of changing the distribution of classes of the train set, let's instead try to put different weights on the error that the cost function of the statistical learning algorithm seeks to minimizes.\n",
    "- Not all error are the same. The error that involves minority classes are more \"serious\" than that of the majority class.\n",
    "- Set class_weight='balanced' for RandomForestClassifier. I will place more weight on the minority classes and less on the majority class"
   ]
  },
  {
   "cell_type": "code",
   "execution_count": 66,
   "id": "ff69085f",
   "metadata": {},
   "outputs": [],
   "source": [
    "# Create pipeline, setting some parameters based on Random Search results\n",
    "data_pipeline = imb_pipeline([\n",
    "    # === Imputation === #\n",
    "    (\"missing_imputation\", MeanMedianImputer(imputation_method=\"median\")),\n",
    "    \n",
    "    # === drop qusai-constant variables === #\n",
    "    # drop variables with a level that appears in tol of observations\n",
    "    ('drop_nzv', DropConstantFeatures(tol=0.8)),\n",
    "    \n",
    "    # === normalization === #\n",
    "    ('scaler', MinMaxScaler()),\n",
    "    \n",
    "    # === feature selection using logreg === #\n",
    "    (\"fs\", SelectFromModel(estimator=sel_clf)),\n",
    "    \n",
    "    # === model === #\n",
    "    ('clf',  RandomForestClassifier(n_estimators=100, \n",
    "                                    class_weight = 'balanced',\n",
    "                                    random_state=RANDOM_STATE))\n",
    " ])"
   ]
  },
  {
   "cell_type": "code",
   "execution_count": 67,
   "id": "ccc12fe8",
   "metadata": {
    "scrolled": true
   },
   "outputs": [
    {
     "name": "stdout",
     "output_type": "stream",
     "text": [
      "Fitting 5 folds for each of 81 candidates, totalling 405 fits\n"
     ]
    },
    {
     "data": {
      "text/plain": [
       "GridSearchCV(cv=StratifiedKFold(n_splits=5, random_state=10, shuffle=True),\n",
       "             estimator=Pipeline(steps=[('missing_imputation',\n",
       "                                        MeanMedianImputer()),\n",
       "                                       ('drop_nzv',\n",
       "                                        DropConstantFeatures(tol=0.8)),\n",
       "                                       ('scaler', MinMaxScaler()),\n",
       "                                       ('fs',\n",
       "                                        SelectFromModel(estimator=ExtraTreesClassifier(random_state=10))),\n",
       "                                       ('clf',\n",
       "                                        RandomForestClassifier(class_weight='balanced',\n",
       "                                                               random_state=10))]),\n",
       "             n_jobs=-1,\n",
       "             param_grid={'clf__max_depth': [40, 50, 60],\n",
       "                         'clf__min_samples_leaf': [1, 2, 3],\n",
       "                         'clf__min_samples_split': [8, 10, 15],\n",
       "                         'fs__threshold': ['0.5*median', '0.75*median',\n",
       "                                           'median']},\n",
       "             scoring='f1_weighted', verbose=1)"
      ]
     },
     "execution_count": 67,
     "metadata": {},
     "output_type": "execute_result"
    }
   ],
   "source": [
    "# parameter grid\n",
    "param_grid = {\n",
    "     \n",
    "    # feature selection parameters\n",
    "    \"fs__threshold\":[\"0.5*median\",\"0.75*median\",\"median\"],\n",
    "    \n",
    "    # classifier parameters \n",
    "    \"clf__max_depth\": [40, 50, 60],\n",
    "    \"clf__min_samples_split\": [8,10,15],\n",
    "    \"clf__min_samples_leaf\": [1,2,3]\n",
    "}\n",
    "\n",
    "# Instantiate the grid search model\n",
    "grid_search = GridSearchCV(estimator = data_pipeline, \n",
    "                           param_grid = param_grid, \n",
    "                           cv = skf, \n",
    "                           scoring=SCORING,\n",
    "                           verbose =1, # show the process\n",
    "                           n_jobs = -1)  # n_jobs = -1 means use all processors\n",
    "\n",
    "# fit model\n",
    "grid_search.fit(X_train, y_train)"
   ]
  },
  {
   "cell_type": "code",
   "execution_count": 68,
   "id": "995bc430",
   "metadata": {},
   "outputs": [
    {
     "data": {
      "text/plain": [
       "{'clf__max_depth': 40,\n",
       " 'clf__min_samples_leaf': 3,\n",
       " 'clf__min_samples_split': 8,\n",
       " 'fs__threshold': '0.5*median'}"
      ]
     },
     "execution_count": 68,
     "metadata": {},
     "output_type": "execute_result"
    }
   ],
   "source": [
    "# Let's take a look at the optimal parameters\n",
    "grid_search.best_params_"
   ]
  },
  {
   "cell_type": "code",
   "execution_count": 69,
   "id": "2b369308",
   "metadata": {},
   "outputs": [
    {
     "name": "stdout",
     "output_type": "stream",
     "text": [
      "The optimal model has f1_weighted of 0.6369150986711416\n"
     ]
    }
   ],
   "source": [
    "# What is the score of the model with the optimal parameter\n",
    "print(f\"The optimal model has {SCORING} of {grid_search.best_score_}\")"
   ]
  },
  {
   "cell_type": "code",
   "execution_count": 70,
   "id": "83854bda",
   "metadata": {},
   "outputs": [],
   "source": [
    "# Persist the optimal pipeline (NOTE: the estimator of the grid_search object is a pipeline)\n",
    "grid_search_best_pipeline_csl = grid_search.best_estimator_\n",
    "\n",
    "# Save as pickle\n",
    "with open(Path('models','mclass_csl_grid_search_best_pipeline.pkl'), 'wb') as f:\n",
    "    pickle.dump(grid_search_best_pipeline_csl, f)"
   ]
  },
  {
   "cell_type": "code",
   "execution_count": 71,
   "id": "848e435f",
   "metadata": {},
   "outputs": [
    {
     "data": {
      "text/plain": [
       "51"
      ]
     },
     "execution_count": 71,
     "metadata": {},
     "output_type": "execute_result"
    }
   ],
   "source": [
    "# Get list of features that are selected\n",
    "selected_features=list(compress(feature_names_post_nzv, mask))\n",
    "len(selected_features)"
   ]
  },
  {
   "cell_type": "code",
   "execution_count": null,
   "id": "198fb73d",
   "metadata": {},
   "outputs": [],
   "source": []
  },
  {
   "cell_type": "code",
   "execution_count": null,
   "id": "bb09de04",
   "metadata": {},
   "outputs": [],
   "source": []
  },
  {
   "cell_type": "markdown",
   "id": "a49c622b",
   "metadata": {},
   "source": [
    "### ROC curve\n",
    "- REF: https://stackoverflow.com/questions/50941223/plotting-roc-curve-with-multiple-classes\n",
    "- I use the optimized pipeline to compute the proba for each fold (y_scores)\n",
    "- I use these proba scores to compute the fpr and tpr for each possible threshold.\n",
    "- The results will be used to create ROC curve"
   ]
  },
  {
   "cell_type": "markdown",
   "id": "ce4efd06",
   "metadata": {},
   "source": [
    "#### A NOTE about the ROC_AUC score for multiclass classification\n",
    "- https://scikit-learn.org/stable/modules/generated/sklearn.metrics.roc_auc_score.html\n",
    "- `roc_auc_score(y_true, y_score, *, average='macro', sample_weight=None, max_fpr=None, multi_class='raise', labels=None)`\n",
    "- If `average` is set to `None` then the scores for each class are returned. Otherwise, this determines the type of averaging performed on the data. Note: multiclass ROC AUC currently only handles the ‘macro’ and ‘weighted’ averages. \n",
    "- `average` will be ignored if outcome is binary"
   ]
  },
  {
   "cell_type": "code",
   "execution_count": 72,
   "id": "d85c926c",
   "metadata": {},
   "outputs": [],
   "source": [
    "y_train_pred_scores = cross_val_predict(\n",
    "    estimator = grid_search_best_pipeline_csl,\n",
    "    X = X_train,\n",
    "    y = y_train,\n",
    "    cv = skf,\n",
    "    method = \"predict_proba\"\n",
    ")"
   ]
  },
  {
   "cell_type": "code",
   "execution_count": 73,
   "id": "64b8c839",
   "metadata": {},
   "outputs": [
    {
     "data": {
      "text/plain": [
       "(2973, 4)"
      ]
     },
     "execution_count": 73,
     "metadata": {},
     "output_type": "execute_result"
    }
   ],
   "source": [
    "y_train_pred_scores.shape # I have 4 sets of scores, one for each class"
   ]
  },
  {
   "cell_type": "code",
   "execution_count": 74,
   "id": "4a5c5411",
   "metadata": {
    "scrolled": true
   },
   "outputs": [
    {
     "data": {
      "text/plain": [
       "array([[0.08564388, 0.06884649, 0.10495768, 0.74055196],\n",
       "       [0.02363333, 0.1129662 , 0.06180913, 0.80159133],\n",
       "       [0.15416285, 0.31364749, 0.18299888, 0.34919077],\n",
       "       ...,\n",
       "       [0.24854817, 0.35322593, 0.23819839, 0.16002752],\n",
       "       [0.11733297, 0.19608084, 0.37804354, 0.30854265],\n",
       "       [0.10486712, 0.26555756, 0.32868145, 0.30089387]])"
      ]
     },
     "execution_count": 74,
     "metadata": {},
     "output_type": "execute_result"
    }
   ],
   "source": [
    "y_train_pred_scores"
   ]
  },
  {
   "cell_type": "markdown",
   "id": "108b763f",
   "metadata": {},
   "source": [
    "**Plotting the ROC curve**"
   ]
  },
  {
   "cell_type": "code",
   "execution_count": 75,
   "id": "a3643a26",
   "metadata": {},
   "outputs": [
    {
     "data": {
      "text/plain": [
       "array([0.06884649, 0.1129662 , 0.31364749, ..., 0.35322593, 0.19608084,\n",
       "       0.26555756])"
      ]
     },
     "execution_count": 75,
     "metadata": {},
     "output_type": "execute_result"
    }
   ],
   "source": [
    "y_train_pred_scores[:,1] # proba of the first class"
   ]
  },
  {
   "cell_type": "code",
   "execution_count": 76,
   "id": "857a1233",
   "metadata": {
    "scrolled": true
   },
   "outputs": [
    {
     "data": {
      "text/plain": [
       "0       4.0\n",
       "1       4.0\n",
       "2       4.0\n",
       "3       4.0\n",
       "4       4.0\n",
       "       ... \n",
       "2968    1.0\n",
       "2969    2.0\n",
       "2970    4.0\n",
       "2971    2.0\n",
       "2972    2.0\n",
       "Name: Target, Length: 2973, dtype: float64"
      ]
     },
     "execution_count": 76,
     "metadata": {},
     "output_type": "execute_result"
    }
   ],
   "source": [
    "y_train # Need to create dummy variables for each class, we will do it inside plot_multiclass_roc() function"
   ]
  },
  {
   "cell_type": "code",
   "execution_count": 77,
   "id": "43615609",
   "metadata": {},
   "outputs": [],
   "source": [
    "def plot_multiclass_roc(y_val, y_scores, mapping, figsize=(20, 8)):\n",
    "    \n",
    "    # structures\n",
    "    fpr = dict()\n",
    "    tpr = dict()\n",
    "    roc_auc = dict()\n",
    "\n",
    "    # get dummy variables for y_val, one for each level\n",
    "    y_val_dummies = pd.get_dummies(y_val, drop_first=False).values\n",
    "    \n",
    "    # Compute fpr and tpr for each class\n",
    "    # Also compute the ROC_AUC for each class\n",
    "    for k,v in mapping.items():\n",
    "        fpr[v], tpr[v], _ = roc_curve(y_val_dummies[:, k-1], y_scores[:, k-1])\n",
    "        roc_auc[v] = roc_auc_score(y_val_dummies[:, k-1], y_scores[:, k-1])\n",
    "\n",
    "    # plot roc for each class\n",
    "    fig, ax = plt.subplots(figsize=figsize)\n",
    "    plt.style.use(\"fivethirtyeight\")\n",
    "    plt.rcParams[\"font.size\"] = 12\n",
    "    \n",
    "    for _,v in mapping.items():\n",
    "        ax.plot(fpr[v], tpr[v], label=f\"ROC curve for class {v} (area = {round(roc_auc[v],2)})\")\n",
    "    \n",
    "    # plot settings\n",
    "    ax.plot([0, 1], [0, 1], 'k--') # plot the 45 deg line\n",
    "    \n",
    "    ax.set_xlim([0.0, 1.0]) # set x and y limits\n",
    "    ax.set_ylim([0.0, 1.05])\n",
    "    \n",
    "    ax.set_xlabel('False Positive Rate') # set x and y labels and title\n",
    "    ax.set_ylabel('True Positive Rate')\n",
    "    ax.set_title('ROCs')\n",
    "    \n",
    "    ax.legend(loc=\"best\")\n",
    "    plt.show()"
   ]
  },
  {
   "cell_type": "code",
   "execution_count": 78,
   "id": "67adeb75",
   "metadata": {},
   "outputs": [
    {
     "data": {
      "image/png": "[encoded data removed]",
      "text/plain": [
       "<Figure size 1440x576 with 1 Axes>"
      ]
     },
     "metadata": {},
     "output_type": "display_data"
    }
   ],
   "source": [
    "# Since my predictions are \"clean\" using cross_val_predict()\n",
    "# I can use train set as my validation set  \n",
    "plot_multiclass_roc(y_val = y_train,  \n",
    "               y_scores = y_train_pred_scores,\n",
    "               mapping = poverty_mapping)"
   ]
  },
  {
   "cell_type": "markdown",
   "id": "be1ab364",
   "metadata": {},
   "source": [
    "NOTE: since our dataset has imbalanced class, ROC_AUC score tends to be an overestimation of the model performance."
   ]
  },
  {
   "cell_type": "code",
   "execution_count": null,
   "id": "c5e38c0f",
   "metadata": {},
   "outputs": [],
   "source": []
  },
  {
   "cell_type": "markdown",
   "id": "ea36d3cb",
   "metadata": {},
   "source": [
    "### Precision and Recall curve\n",
    "- As a rule of thumb, you should use AUPRC whenever the positive class is rare (as in our case) or when you care more about the false positives than the false negatives. Otherwise, we use AUROC.\n",
    "- If I set my threshold to a high value, say 0.8, the classifier will make less positive predictions. In this case, its precision will increase, but its recall will decrease. The inverse is true if the threshold is low (e.g., 0.3)."
   ]
  },
  {
   "cell_type": "markdown",
   "id": "560b2230",
   "metadata": {},
   "source": [
    "#### A NOTE about the average_precision score for multiclass classification\n",
    "- https://scikit-learn.org/stable/modules/generated/sklearn.metrics.average_precision_score.html\n",
    "- `sklearn.metrics.average_precision_score(y_true, y_score, *, average='macro', pos_label=1, sample_weight=None)`\n",
    "- If `average` is set to `None` then the scores for each class are returned. Otherwise, this argument determines the type of averaging performed on the data: \"micro\", \"macro\", \"weighted\", \"sample\"\n",
    "- `average` will be ignored if outcome is binary"
   ]
  },
  {
   "cell_type": "code",
   "execution_count": null,
   "id": "875427c7",
   "metadata": {},
   "outputs": [],
   "source": []
  },
  {
   "cell_type": "code",
   "execution_count": 79,
   "id": "3555eb6c",
   "metadata": {},
   "outputs": [],
   "source": [
    "def plot_multiclass_prc(y_val, y_scores, mapping, figsize=(15, 8)):\n",
    "    \n",
    "    # structures\n",
    "    precisions = dict()\n",
    "    recalls = dict()\n",
    "    thresholds = dict()\n",
    "    auprcs = dict()\n",
    "    \n",
    "    # get dummy variables for y_val, one for each level\n",
    "    y_val_dummies = pd.get_dummies(y_val, drop_first=False).values\n",
    "    \n",
    "    # Compute precision, recall for each class\n",
    "    # Also compute the AUPRC for each class\n",
    "    for k,v in mapping.items():\n",
    "        precisions[v], recalls[v], _ = precision_recall_curve(y_val_dummies[:, k-1], y_scores[:, k-1])\n",
    "        auprcs[v] = average_precision_score(y_val_dummies[:, k-1], y_scores[:, k-1])\n",
    "    \n",
    "    \n",
    "    # plot precision and recall vs threshold for each class\n",
    "    fig, ax = plt.subplots(figsize=figsize)\n",
    "    plt.style.use(\"fivethirtyeight\")\n",
    "    plt.rcParams[\"font.size\"] = 12\n",
    "    \n",
    "    for _,v in mapping.items():\n",
    "        ax.plot(recalls[v], precisions[v], label=f\"PRCfor class {v} (area = {round(auprcs[v],2)})\")\n",
    "    \n",
    "    # Plot settings\n",
    "    ax.set_xlim([0.0, 1.0]) # set x and y limits\n",
    "    ax.set_ylim([0.0, 1.05])\n",
    "    \n",
    "    ax.set_xlabel('Recall') # set x and y labels and title\n",
    "    ax.set_ylabel('Precision')\n",
    "    ax.set_title('Precision and Recall Curves')\n",
    "    \n",
    "    ax.legend(loc=\"best\")\n",
    "    plt.show()"
   ]
  },
  {
   "cell_type": "code",
   "execution_count": 80,
   "id": "5bc6304c",
   "metadata": {},
   "outputs": [
    {
     "data": {
      "image/png": "[encoded data removed]",
      "text/plain": [
       "<Figure size 1080x576 with 1 Axes>"
      ]
     },
     "metadata": {},
     "output_type": "display_data"
    }
   ],
   "source": [
    "plot_multiclass_prc(y_val = y_train, \n",
    "                    y_scores = y_train_pred_scores, \n",
    "                    mapping = poverty_mapping)"
   ]
  },
  {
   "cell_type": "markdown",
   "id": "7e81935c",
   "metadata": {},
   "source": [
    "**NOTE about precision recall curve (AUPRC)**\n",
    "- Recall that if AUROC = 0.5, that means the performance of the classifier is no better than random guessing.\n",
    "- The same is NOT true for AUPRC. The baseline value (lowest) for AUPRC is the proportion of positive outcomes in the sample:\n",
    "    - positive outcomes/total # of samples\n",
    "    - For us, it is:\n",
    "        - 0.07 for extreme\n",
    "        - 0.14 for moderate\n",
    "        - 0.11 for vulnerable\n",
    "        - 0.65 for not vulnerable"
   ]
  },
  {
   "cell_type": "code",
   "execution_count": 81,
   "id": "4c8cae3a",
   "metadata": {},
   "outputs": [
    {
     "data": {
      "text/plain": [
       "4.0    0.657249\n",
       "2.0    0.148671\n",
       "3.0    0.119408\n",
       "1.0    0.074672\n",
       "Name: Target, dtype: float64"
      ]
     },
     "execution_count": 81,
     "metadata": {},
     "output_type": "execute_result"
    }
   ],
   "source": [
    "y_train.value_counts(normalize=True)"
   ]
  },
  {
   "cell_type": "code",
   "execution_count": null,
   "id": "29432985",
   "metadata": {},
   "outputs": [],
   "source": []
  },
  {
   "cell_type": "code",
   "execution_count": null,
   "id": "e14bb8c1",
   "metadata": {},
   "outputs": [],
   "source": []
  },
  {
   "cell_type": "markdown",
   "id": "25068b73",
   "metadata": {},
   "source": [
    "### Learning Curves\n",
    "- Purpose: check if my model is overfitting or underfitting the data.\n",
    "- Estimate the train and test metric of the model using k-fold CV. The model will be trained on data with varying sizes (starting at n=1, n=2, ...) \n",
    "- NOTE: the train metric is computed by training the model with the train set (remaining folds), and assessing using the same train set.\n",
    "- At each iteration, I get different CV scores.\n",
    "- Plot the CV scores against sample size to get learning curves.\n",
    "- If the train metric is a lot higher than the test metric, then I am overfitting.\n",
    "- If both the train metric and test metric are low, then I am underfitting."
   ]
  },
  {
   "cell_type": "code",
   "execution_count": 82,
   "id": "125c1834",
   "metadata": {},
   "outputs": [],
   "source": [
    "train_sizes, train_scores, valid_scores = learning_curve(\n",
    "    estimator = grid_search_best_pipeline_csl, \n",
    "    X = X_train, \n",
    "    y = y_train,\n",
    "    cv = skf,\n",
    "    scoring = SCORING, # need to use f1_weighted or f1_macro since I have multiclass\n",
    "    train_sizes=[0.01,0.2,0.4,0.6,0.8,1.0]) # in proportion"
   ]
  },
  {
   "cell_type": "code",
   "execution_count": 83,
   "id": "adc8597b",
   "metadata": {},
   "outputs": [
    {
     "data": {
      "text/plain": [
       "array([  23,  475,  951, 1426, 1902, 2378])"
      ]
     },
     "execution_count": 83,
     "metadata": {},
     "output_type": "execute_result"
    }
   ],
   "source": [
    "train_sizes"
   ]
  },
  {
   "cell_type": "code",
   "execution_count": 84,
   "id": "3c9b4d56",
   "metadata": {},
   "outputs": [
    {
     "data": {
      "text/plain": [
       "(6, 5)"
      ]
     },
     "execution_count": 84,
     "metadata": {},
     "output_type": "execute_result"
    }
   ],
   "source": [
    "train_scores.shape # 5 folds, 6 training sets with varying sizes"
   ]
  },
  {
   "cell_type": "code",
   "execution_count": 85,
   "id": "584dc411",
   "metadata": {},
   "outputs": [
    {
     "data": {
      "text/plain": [
       "(6, 5)"
      ]
     },
     "execution_count": 85,
     "metadata": {},
     "output_type": "execute_result"
    }
   ],
   "source": [
    "valid_scores.shape"
   ]
  },
  {
   "cell_type": "code",
   "execution_count": 86,
   "id": "da50cef8",
   "metadata": {},
   "outputs": [],
   "source": [
    "def plot_learning_curve(train_scores, valid_scores, train_sizes):\n",
    "    plt.figure(figsize = (10, 8))\n",
    "    plt.style.use(\"fivethirtyeight\")\n",
    "    plt.rcParams[\"font.size\"] = 12\n",
    "    \n",
    "\n",
    "    plt.plot(train_sizes, train_scores.mean(axis=1), \"r-\", label=\"train\")\n",
    "    plt.plot(train_sizes, valid_scores.mean(axis=1), \"b--\", label=\"val\")\n",
    "    \n",
    "    plt.xlabel(\"Training set size\")\n",
    "    plt.ylabel(f\"{SCORING}\")\n",
    "    plt.title(\"Learning Curves\")\n",
    "    plt.legend(loc=\"best\")"
   ]
  },
  {
   "cell_type": "code",
   "execution_count": 87,
   "id": "b4f67c8e",
   "metadata": {},
   "outputs": [
    {
     "data": {
      "image/png": "[encoded data removed]",
      "text/plain": [
       "<Figure size 720x576 with 1 Axes>"
      ]
     },
     "metadata": {},
     "output_type": "display_data"
    }
   ],
   "source": [
    "plot_learning_curve(train_scores, valid_scores, train_sizes)"
   ]
  },
  {
   "cell_type": "markdown",
   "id": "a8920058",
   "metadata": {},
   "source": [
    "**Comments** \n",
    "- My model is overfitting as the validation f1 score is 0.3 to 0.4 lower than the train f1 score\n",
    "- I need to:\n",
    "    - increase sample size\n",
    "    - reduce model complexity\n",
    "    - Use k-fold CV to estimate the test error/metric"
   ]
  }
 ],
 "metadata": {
  "kernelspec": {
   "display_name": "Python 3",
   "language": "python",
   "name": "python3"
  },
  "language_info": {
   "codemirror_mode": {
    "name": "ipython",
    "version": 3
   },
   "file_extension": ".py",
   "mimetype": "text/x-python",
   "name": "python",
   "nbconvert_exporter": "python",
   "pygments_lexer": "ipython3",
   "version": "3.8.0"
  }
 },
 "nbformat": 4,
 "nbformat_minor": 5
}
