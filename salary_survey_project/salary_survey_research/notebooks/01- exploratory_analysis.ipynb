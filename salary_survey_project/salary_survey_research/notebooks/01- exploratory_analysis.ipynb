{
 "cells": [
  {
   "cell_type": "markdown",
   "id": "a59c9d7d",
   "metadata": {},
   "source": [
    "# Salary survey analysis- EDA\n",
    "- Train a predictive model to predict salary from information about the employee's job title, job position, years of experience etc...\n",
    "- Identify the most salient determinants of salary\n",
    "- The dependent variable in this dataset is \"annual_salary\", which is a continuous variable. Therefore, we have a regression problem.\n",
    "- This notebook will focus primarily on exploring the dataset"
   ]
  },
  {
   "cell_type": "code",
   "execution_count": 1,
   "id": "b6e6d286",
   "metadata": {},
   "outputs": [],
   "source": [
    "import sys\n",
    "import os\n",
    "from pathlib import Path\n",
    "from collections import defaultdict\n",
    "\n",
    "'''data'''\n",
    "import pandas as pd\n",
    "import numpy as np\n",
    "\n",
    "'''visualization'''\n",
    "import matplotlib.pyplot as plt\n",
    "import seaborn as sns\n",
    "\n",
    "'''sklearn'''\n",
    "from sklearn.preprocessing import LabelEncoder\n",
    "\n",
    "'''stats'''\n",
    "from scipy.stats import chi2_contingency\n",
    "\n",
    "sns.set_theme(style=\"whitegrid\")"
   ]
  },
  {
   "cell_type": "code",
   "execution_count": 2,
   "id": "74b9c472",
   "metadata": {},
   "outputs": [],
   "source": [
    "# set working directory to be one level above /notebook during the INIT RUN \n",
    "try: INIT_RUN\n",
    "except NameError:\n",
    "    os.chdir(os.path.dirname(os.getcwd()))\n",
    "    INIT_RUN=True"
   ]
  },
  {
   "cell_type": "markdown",
   "id": "9ad23ddf",
   "metadata": {},
   "source": [
    "**Pathnames**"
   ]
  },
  {
   "cell_type": "code",
   "execution_count": 3,
   "id": "2d63a347",
   "metadata": {},
   "outputs": [],
   "source": [
    "# get root and data directory of project\n",
    "ROOT_DIR = os.getcwd()\n",
    "RAW_DATA_DIR = Path(ROOT_DIR,\"data\",\"raw\")"
   ]
  },
  {
   "cell_type": "markdown",
   "id": "64044e6c",
   "metadata": {},
   "source": [
    "## Import data"
   ]
  },
  {
   "cell_type": "code",
   "execution_count": 4,
   "id": "92b54c9d",
   "metadata": {},
   "outputs": [],
   "source": [
    "survey = pd.read_csv(Path(RAW_DATA_DIR,\"survey.csv\"))"
   ]
  },
  {
   "cell_type": "markdown",
   "id": "225be718",
   "metadata": {},
   "source": [
    "**Get some basic information about the data**"
   ]
  },
  {
   "cell_type": "code",
   "execution_count": 5,
   "id": "d9346ce9",
   "metadata": {},
   "outputs": [
    {
     "name": "stdout",
     "output_type": "stream",
     "text": [
      "There are 26232 rows and 18 columns in the dataset.\n"
     ]
    }
   ],
   "source": [
    "print(f\"There are {survey.shape[0]} rows and {survey.shape[1]} columns in the dataset.\")"
   ]
  },
  {
   "cell_type": "code",
   "execution_count": 6,
   "id": "8deaa34c",
   "metadata": {},
   "outputs": [
    {
     "data": {
      "text/html": [
       "<div>\n",
       "<style scoped>\n",
       "    .dataframe tbody tr th:only-of-type {\n",
       "        vertical-align: middle;\n",
       "    }\n",
       "\n",
       "    .dataframe tbody tr th {\n",
       "        vertical-align: top;\n",
       "    }\n",
       "\n",
       "    .dataframe thead th {\n",
       "        text-align: right;\n",
       "    }\n",
       "</style>\n",
       "<table border=\"1\" class=\"dataframe\">\n",
       "  <thead>\n",
       "    <tr style=\"text-align: right;\">\n",
       "      <th></th>\n",
       "      <th>timestamp</th>\n",
       "      <th>how_old_are_you</th>\n",
       "      <th>industry</th>\n",
       "      <th>job_title</th>\n",
       "      <th>additional_context_on_job_title</th>\n",
       "      <th>annual_salary</th>\n",
       "      <th>other_monetary_comp</th>\n",
       "      <th>currency</th>\n",
       "      <th>currency_other</th>\n",
       "      <th>additional_context_on_income</th>\n",
       "      <th>country</th>\n",
       "      <th>state</th>\n",
       "      <th>city</th>\n",
       "      <th>overall_years_of_professional_experience</th>\n",
       "      <th>years_of_experience_in_field</th>\n",
       "      <th>highest_level_of_education_completed</th>\n",
       "      <th>gender</th>\n",
       "      <th>race</th>\n",
       "    </tr>\n",
       "  </thead>\n",
       "  <tbody>\n",
       "    <tr>\n",
       "      <th>4518</th>\n",
       "      <td>4/27/2021 12:37:28</td>\n",
       "      <td>45-54</td>\n",
       "      <td>Government and Public Administration</td>\n",
       "      <td>Communications Specialist</td>\n",
       "      <td>NaN</td>\n",
       "      <td>76000</td>\n",
       "      <td>NaN</td>\n",
       "      <td>USD</td>\n",
       "      <td>NaN</td>\n",
       "      <td>NaN</td>\n",
       "      <td>US</td>\n",
       "      <td>Wisconsin</td>\n",
       "      <td>Madison</td>\n",
       "      <td>21 - 30 years</td>\n",
       "      <td>11 - 20 years</td>\n",
       "      <td>Master's degree</td>\n",
       "      <td>Woman</td>\n",
       "      <td>White</td>\n",
       "    </tr>\n",
       "    <tr>\n",
       "      <th>4275</th>\n",
       "      <td>4/27/2021 12:29:38</td>\n",
       "      <td>25-34</td>\n",
       "      <td>Law</td>\n",
       "      <td>Paralegal</td>\n",
       "      <td>Immigration Law</td>\n",
       "      <td>70210</td>\n",
       "      <td>15000.0</td>\n",
       "      <td>USD</td>\n",
       "      <td>NaN</td>\n",
       "      <td>NaN</td>\n",
       "      <td>United States</td>\n",
       "      <td>California</td>\n",
       "      <td>Santa Clara</td>\n",
       "      <td>2 - 4 years</td>\n",
       "      <td>5-7 years</td>\n",
       "      <td>College degree</td>\n",
       "      <td>Woman</td>\n",
       "      <td>White</td>\n",
       "    </tr>\n",
       "    <tr>\n",
       "      <th>15402</th>\n",
       "      <td>4/28/2021 17:05:56</td>\n",
       "      <td>35-44</td>\n",
       "      <td>Life Sciences</td>\n",
       "      <td>Senior statistical analytical programmwr</td>\n",
       "      <td>NaN</td>\n",
       "      <td>69000</td>\n",
       "      <td>20000.0</td>\n",
       "      <td>GBP</td>\n",
       "      <td>NaN</td>\n",
       "      <td>NaN</td>\n",
       "      <td>Uk</td>\n",
       "      <td>NaN</td>\n",
       "      <td>London</td>\n",
       "      <td>11 - 20 years</td>\n",
       "      <td>5-7 years</td>\n",
       "      <td>PhD</td>\n",
       "      <td>Man</td>\n",
       "      <td>White</td>\n",
       "    </tr>\n",
       "    <tr>\n",
       "      <th>9200</th>\n",
       "      <td>4/27/2021 17:25:08</td>\n",
       "      <td>25-34</td>\n",
       "      <td>Government and Public Administration</td>\n",
       "      <td>Director of Policy</td>\n",
       "      <td>I work at a public housing authority</td>\n",
       "      <td>107000</td>\n",
       "      <td>0.0</td>\n",
       "      <td>USD</td>\n",
       "      <td>NaN</td>\n",
       "      <td>NaN</td>\n",
       "      <td>United States</td>\n",
       "      <td>California</td>\n",
       "      <td>NaN</td>\n",
       "      <td>8 - 10 years</td>\n",
       "      <td>5-7 years</td>\n",
       "      <td>Master's degree</td>\n",
       "      <td>Woman</td>\n",
       "      <td>Asian or Asian American, White</td>\n",
       "    </tr>\n",
       "    <tr>\n",
       "      <th>8650</th>\n",
       "      <td>4/27/2021 16:25:55</td>\n",
       "      <td>45-54</td>\n",
       "      <td>Computing or Tech</td>\n",
       "      <td>Developer</td>\n",
       "      <td>ERP system programmer</td>\n",
       "      <td>240000</td>\n",
       "      <td>12000.0</td>\n",
       "      <td>Other</td>\n",
       "      <td>ILS/NIS</td>\n",
       "      <td>Plus car and running costs</td>\n",
       "      <td>Israel</td>\n",
       "      <td>NaN</td>\n",
       "      <td>Hod Hasharon</td>\n",
       "      <td>11 - 20 years</td>\n",
       "      <td>11 - 20 years</td>\n",
       "      <td>College degree</td>\n",
       "      <td>Man</td>\n",
       "      <td>Another option not listed here or prefer not t...</td>\n",
       "    </tr>\n",
       "  </tbody>\n",
       "</table>\n",
       "</div>"
      ],
      "text/plain": [
       "                timestamp how_old_are_you  \\\n",
       "4518   4/27/2021 12:37:28           45-54   \n",
       "4275   4/27/2021 12:29:38           25-34   \n",
       "15402  4/28/2021 17:05:56           35-44   \n",
       "9200   4/27/2021 17:25:08           25-34   \n",
       "8650   4/27/2021 16:25:55           45-54   \n",
       "\n",
       "                                   industry  \\\n",
       "4518   Government and Public Administration   \n",
       "4275                                    Law   \n",
       "15402                         Life Sciences   \n",
       "9200   Government and Public Administration   \n",
       "8650                      Computing or Tech   \n",
       "\n",
       "                                      job_title  \\\n",
       "4518                  Communications Specialist   \n",
       "4275                                  Paralegal   \n",
       "15402  Senior statistical analytical programmwr   \n",
       "9200                         Director of Policy   \n",
       "8650                                  Developer   \n",
       "\n",
       "            additional_context_on_job_title  annual_salary  \\\n",
       "4518                                    NaN          76000   \n",
       "4275                        Immigration Law          70210   \n",
       "15402                                   NaN          69000   \n",
       "9200   I work at a public housing authority         107000   \n",
       "8650                  ERP system programmer         240000   \n",
       "\n",
       "       other_monetary_comp currency currency_other  \\\n",
       "4518                   NaN      USD            NaN   \n",
       "4275               15000.0      USD            NaN   \n",
       "15402              20000.0      GBP            NaN   \n",
       "9200                   0.0      USD            NaN   \n",
       "8650               12000.0    Other        ILS/NIS   \n",
       "\n",
       "      additional_context_on_income        country       state          city  \\\n",
       "4518                           NaN             US   Wisconsin       Madison   \n",
       "4275                           NaN  United States  California   Santa Clara   \n",
       "15402                          NaN             Uk         NaN        London   \n",
       "9200                           NaN  United States  California           NaN   \n",
       "8650    Plus car and running costs         Israel         NaN  Hod Hasharon   \n",
       "\n",
       "      overall_years_of_professional_experience years_of_experience_in_field  \\\n",
       "4518                             21 - 30 years                11 - 20 years   \n",
       "4275                               2 - 4 years                    5-7 years   \n",
       "15402                            11 - 20 years                    5-7 years   \n",
       "9200                              8 - 10 years                    5-7 years   \n",
       "8650                             11 - 20 years                11 - 20 years   \n",
       "\n",
       "      highest_level_of_education_completed gender  \\\n",
       "4518                       Master's degree  Woman   \n",
       "4275                        College degree  Woman   \n",
       "15402                                  PhD    Man   \n",
       "9200                       Master's degree  Woman   \n",
       "8650                        College degree    Man   \n",
       "\n",
       "                                                    race  \n",
       "4518                                               White  \n",
       "4275                                               White  \n",
       "15402                                              White  \n",
       "9200                      Asian or Asian American, White  \n",
       "8650   Another option not listed here or prefer not t...  "
      ]
     },
     "execution_count": 6,
     "metadata": {},
     "output_type": "execute_result"
    }
   ],
   "source": [
    "survey.sample(5)"
   ]
  },
  {
   "cell_type": "code",
   "execution_count": 7,
   "id": "4878f25c",
   "metadata": {},
   "outputs": [
    {
     "name": "stdout",
     "output_type": "stream",
     "text": [
      "<class 'pandas.core.frame.DataFrame'>\n",
      "RangeIndex: 26232 entries, 0 to 26231\n",
      "Data columns (total 18 columns):\n",
      " #   Column                                    Non-Null Count  Dtype  \n",
      "---  ------                                    --------------  -----  \n",
      " 0   timestamp                                 26232 non-null  object \n",
      " 1   how_old_are_you                           26232 non-null  object \n",
      " 2   industry                                  26173 non-null  object \n",
      " 3   job_title                                 26232 non-null  object \n",
      " 4   additional_context_on_job_title           6763 non-null   object \n",
      " 5   annual_salary                             26232 non-null  int64  \n",
      " 6   other_monetary_comp                       19447 non-null  float64\n",
      " 7   currency                                  26232 non-null  object \n",
      " 8   currency_other                            166 non-null    object \n",
      " 9   additional_context_on_income              2872 non-null   object \n",
      " 10  country                                   26232 non-null  object \n",
      " 11  state                                     21545 non-null  object \n",
      " 12  city                                      26154 non-null  object \n",
      " 13  overall_years_of_professional_experience  26232 non-null  object \n",
      " 14  years_of_experience_in_field              26232 non-null  object \n",
      " 15  highest_level_of_education_completed      26036 non-null  object \n",
      " 16  gender                                    26084 non-null  object \n",
      " 17  race                                      26086 non-null  object \n",
      "dtypes: float64(1), int64(1), object(16)\n",
      "memory usage: 3.6+ MB\n"
     ]
    }
   ],
   "source": [
    "survey.info()"
   ]
  },
  {
   "cell_type": "code",
   "execution_count": 8,
   "id": "add9e5f9",
   "metadata": {},
   "outputs": [
    {
     "data": {
      "text/html": [
       "<div>\n",
       "<style scoped>\n",
       "    .dataframe tbody tr th:only-of-type {\n",
       "        vertical-align: middle;\n",
       "    }\n",
       "\n",
       "    .dataframe tbody tr th {\n",
       "        vertical-align: top;\n",
       "    }\n",
       "\n",
       "    .dataframe thead th {\n",
       "        text-align: right;\n",
       "    }\n",
       "</style>\n",
       "<table border=\"1\" class=\"dataframe\">\n",
       "  <thead>\n",
       "    <tr style=\"text-align: right;\">\n",
       "      <th></th>\n",
       "      <th>annual_salary</th>\n",
       "      <th>other_monetary_comp</th>\n",
       "    </tr>\n",
       "  </thead>\n",
       "  <tbody>\n",
       "    <tr>\n",
       "      <th>count</th>\n",
       "      <td>2.623200e+04</td>\n",
       "      <td>1.944700e+04</td>\n",
       "    </tr>\n",
       "    <tr>\n",
       "      <th>mean</th>\n",
       "      <td>1.457254e+05</td>\n",
       "      <td>1.848935e+04</td>\n",
       "    </tr>\n",
       "    <tr>\n",
       "      <th>std</th>\n",
       "      <td>5.543526e+06</td>\n",
       "      <td>8.616672e+05</td>\n",
       "    </tr>\n",
       "    <tr>\n",
       "      <th>min</th>\n",
       "      <td>0.000000e+00</td>\n",
       "      <td>0.000000e+00</td>\n",
       "    </tr>\n",
       "    <tr>\n",
       "      <th>25%</th>\n",
       "      <td>5.400000e+04</td>\n",
       "      <td>0.000000e+00</td>\n",
       "    </tr>\n",
       "    <tr>\n",
       "      <th>50%</th>\n",
       "      <td>7.600000e+04</td>\n",
       "      <td>2.000000e+03</td>\n",
       "    </tr>\n",
       "    <tr>\n",
       "      <th>75%</th>\n",
       "      <td>1.100000e+05</td>\n",
       "      <td>1.000000e+04</td>\n",
       "    </tr>\n",
       "    <tr>\n",
       "      <th>max</th>\n",
       "      <td>8.700000e+08</td>\n",
       "      <td>1.200000e+08</td>\n",
       "    </tr>\n",
       "  </tbody>\n",
       "</table>\n",
       "</div>"
      ],
      "text/plain": [
       "       annual_salary  other_monetary_comp\n",
       "count   2.623200e+04         1.944700e+04\n",
       "mean    1.457254e+05         1.848935e+04\n",
       "std     5.543526e+06         8.616672e+05\n",
       "min     0.000000e+00         0.000000e+00\n",
       "25%     5.400000e+04         0.000000e+00\n",
       "50%     7.600000e+04         2.000000e+03\n",
       "75%     1.100000e+05         1.000000e+04\n",
       "max     8.700000e+08         1.200000e+08"
      ]
     },
     "execution_count": 8,
     "metadata": {},
     "output_type": "execute_result"
    }
   ],
   "source": [
    "survey.describe(include=[\"float\",\"int\"])"
   ]
  },
  {
   "cell_type": "markdown",
   "id": "67c1f068",
   "metadata": {},
   "source": [
    "We want to predict employee's base salary, so we will most likely ignore other compensation. From \"max\", there could be some outliers that we should remove from annual_salary."
   ]
  },
  {
   "cell_type": "code",
   "execution_count": 9,
   "id": "4f1d14a0",
   "metadata": {},
   "outputs": [
    {
     "data": {
      "text/html": [
       "<div>\n",
       "<style scoped>\n",
       "    .dataframe tbody tr th:only-of-type {\n",
       "        vertical-align: middle;\n",
       "    }\n",
       "\n",
       "    .dataframe tbody tr th {\n",
       "        vertical-align: top;\n",
       "    }\n",
       "\n",
       "    .dataframe thead th {\n",
       "        text-align: right;\n",
       "    }\n",
       "</style>\n",
       "<table border=\"1\" class=\"dataframe\">\n",
       "  <thead>\n",
       "    <tr style=\"text-align: right;\">\n",
       "      <th></th>\n",
       "      <th>timestamp</th>\n",
       "      <th>how_old_are_you</th>\n",
       "      <th>industry</th>\n",
       "      <th>job_title</th>\n",
       "      <th>additional_context_on_job_title</th>\n",
       "      <th>currency</th>\n",
       "      <th>currency_other</th>\n",
       "      <th>additional_context_on_income</th>\n",
       "      <th>country</th>\n",
       "      <th>state</th>\n",
       "      <th>city</th>\n",
       "      <th>overall_years_of_professional_experience</th>\n",
       "      <th>years_of_experience_in_field</th>\n",
       "      <th>highest_level_of_education_completed</th>\n",
       "      <th>gender</th>\n",
       "      <th>race</th>\n",
       "    </tr>\n",
       "  </thead>\n",
       "  <tbody>\n",
       "    <tr>\n",
       "      <th>count</th>\n",
       "      <td>26232</td>\n",
       "      <td>26232</td>\n",
       "      <td>26173</td>\n",
       "      <td>26232</td>\n",
       "      <td>6763</td>\n",
       "      <td>26232</td>\n",
       "      <td>166</td>\n",
       "      <td>2872</td>\n",
       "      <td>26232</td>\n",
       "      <td>21545</td>\n",
       "      <td>26154</td>\n",
       "      <td>26232</td>\n",
       "      <td>26232</td>\n",
       "      <td>26036</td>\n",
       "      <td>26084</td>\n",
       "      <td>26086</td>\n",
       "    </tr>\n",
       "    <tr>\n",
       "      <th>unique</th>\n",
       "      <td>23454</td>\n",
       "      <td>7</td>\n",
       "      <td>1068</td>\n",
       "      <td>12622</td>\n",
       "      <td>6479</td>\n",
       "      <td>11</td>\n",
       "      <td>99</td>\n",
       "      <td>2804</td>\n",
       "      <td>294</td>\n",
       "      <td>124</td>\n",
       "      <td>4009</td>\n",
       "      <td>8</td>\n",
       "      <td>8</td>\n",
       "      <td>6</td>\n",
       "      <td>5</td>\n",
       "      <td>47</td>\n",
       "    </tr>\n",
       "    <tr>\n",
       "      <th>top</th>\n",
       "      <td>4/27/2021 11:24:33</td>\n",
       "      <td>25-34</td>\n",
       "      <td>Computing or Tech</td>\n",
       "      <td>Software Engineer</td>\n",
       "      <td>Fundraising</td>\n",
       "      <td>USD</td>\n",
       "      <td>USD</td>\n",
       "      <td>Base salary + commission</td>\n",
       "      <td>United States</td>\n",
       "      <td>California</td>\n",
       "      <td>Boston</td>\n",
       "      <td>11 - 20 years</td>\n",
       "      <td>11 - 20 years</td>\n",
       "      <td>College degree</td>\n",
       "      <td>Woman</td>\n",
       "      <td>White</td>\n",
       "    </tr>\n",
       "    <tr>\n",
       "      <th>freq</th>\n",
       "      <td>5</td>\n",
       "      <td>11748</td>\n",
       "      <td>4360</td>\n",
       "      <td>289</td>\n",
       "      <td>23</td>\n",
       "      <td>21852</td>\n",
       "      <td>10</td>\n",
       "      <td>4</td>\n",
       "      <td>9010</td>\n",
       "      <td>2436</td>\n",
       "      <td>794</td>\n",
       "      <td>9139</td>\n",
       "      <td>6245</td>\n",
       "      <td>12584</td>\n",
       "      <td>20359</td>\n",
       "      <td>21909</td>\n",
       "    </tr>\n",
       "  </tbody>\n",
       "</table>\n",
       "</div>"
      ],
      "text/plain": [
       "                 timestamp how_old_are_you           industry  \\\n",
       "count                26232           26232              26173   \n",
       "unique               23454               7               1068   \n",
       "top     4/27/2021 11:24:33           25-34  Computing or Tech   \n",
       "freq                     5           11748               4360   \n",
       "\n",
       "                job_title additional_context_on_job_title currency  \\\n",
       "count               26232                            6763    26232   \n",
       "unique              12622                            6479       11   \n",
       "top     Software Engineer                     Fundraising      USD   \n",
       "freq                  289                              23    21852   \n",
       "\n",
       "       currency_other additional_context_on_income        country       state  \\\n",
       "count             166                         2872          26232       21545   \n",
       "unique             99                         2804            294         124   \n",
       "top               USD     Base salary + commission  United States  California   \n",
       "freq               10                            4           9010        2436   \n",
       "\n",
       "          city overall_years_of_professional_experience  \\\n",
       "count    26154                                    26232   \n",
       "unique    4009                                        8   \n",
       "top     Boston                            11 - 20 years   \n",
       "freq       794                                     9139   \n",
       "\n",
       "       years_of_experience_in_field highest_level_of_education_completed  \\\n",
       "count                         26232                                26036   \n",
       "unique                            8                                    6   \n",
       "top                   11 - 20 years                       College degree   \n",
       "freq                           6245                                12584   \n",
       "\n",
       "       gender   race  \n",
       "count   26084  26086  \n",
       "unique      5     47  \n",
       "top     Woman  White  \n",
       "freq    20359  21909  "
      ]
     },
     "execution_count": 9,
     "metadata": {},
     "output_type": "execute_result"
    }
   ],
   "source": [
    "survey.describe(include=[\"O\"])"
   ]
  },
  {
   "cell_type": "markdown",
   "id": "09c13ec1",
   "metadata": {},
   "source": [
    "Many levels for some columns such as job_title, country, city, state (>51) and race could be 1) open response, and/or 2) multiple selection questions since there are relatively high number of levels."
   ]
  },
  {
   "cell_type": "code",
   "execution_count": 10,
   "id": "deb42e0d",
   "metadata": {},
   "outputs": [
    {
     "data": {
      "text/plain": [
       "dtype('O')"
      ]
     },
     "execution_count": 10,
     "metadata": {},
     "output_type": "execute_result"
    }
   ],
   "source": [
    "# convert timestamp to a datetime variable\n",
    "survey[\"timestamp\"].dtype"
   ]
  },
  {
   "cell_type": "code",
   "execution_count": 11,
   "id": "bf2f9cd2",
   "metadata": {},
   "outputs": [],
   "source": [
    "# can reformat timestamp column with an additional arugment\n",
    "# format='%y%m%d%h%m%s' \n",
    "survey[\"timestamp\"]=pd.to_datetime(survey['timestamp'])"
   ]
  },
  {
   "cell_type": "markdown",
   "id": "4dfa98fc",
   "metadata": {},
   "source": [
    "## Data processing\n",
    "- Identify data processing steps for features that might be of interest in predicting annual_salary\n",
    "- I can implement some of these data processing steps with custom functions for now (to be used in EDA). Later on, we will replace these custom functions with skelarn/feature-engine transformers in a data processing pipeline. "
   ]
  },
  {
   "cell_type": "code",
   "execution_count": 12,
   "id": "b1ba4431",
   "metadata": {},
   "outputs": [
    {
     "data": {
      "text/plain": [
       "['how_old_are_you',\n",
       " 'industry',\n",
       " 'job_title',\n",
       " 'additional_context_on_job_title',\n",
       " 'currency',\n",
       " 'currency_other',\n",
       " 'additional_context_on_income',\n",
       " 'country',\n",
       " 'state',\n",
       " 'city',\n",
       " 'overall_years_of_professional_experience',\n",
       " 'years_of_experience_in_field',\n",
       " 'highest_level_of_education_completed',\n",
       " 'gender',\n",
       " 'race']"
      ]
     },
     "execution_count": 12,
     "metadata": {},
     "output_type": "execute_result"
    }
   ],
   "source": [
    "cat_vars = [var for var in survey.columns if survey[var].dtype=='O']\n",
    "cat_vars"
   ]
  },
  {
   "cell_type": "code",
   "execution_count": 13,
   "id": "dff1bb1a",
   "metadata": {},
   "outputs": [
    {
     "data": {
      "text/plain": [
       "['timestamp', 'annual_salary', 'other_monetary_comp']"
      ]
     },
     "execution_count": 13,
     "metadata": {},
     "output_type": "execute_result"
    }
   ],
   "source": [
    "num_vars = [var for var in survey.columns if survey[var].dtype!='O']\n",
    "num_vars"
   ]
  },
  {
   "cell_type": "markdown",
   "id": "591298f8",
   "metadata": {},
   "source": [
    "### Currrency"
   ]
  },
  {
   "cell_type": "code",
   "execution_count": 14,
   "id": "b0dc58a9",
   "metadata": {},
   "outputs": [
    {
     "data": {
      "text/plain": [
       "USD        0.833028\n",
       "CAD        0.059622\n",
       "GBP        0.057983\n",
       "EUR        0.022301\n",
       "AUD/NZD    0.017879\n",
       "Other      0.005070\n",
       "CHF        0.001334\n",
       "SEK        0.001296\n",
       "JPY        0.000839\n",
       "ZAR        0.000496\n",
       "HKD        0.000152\n",
       "Name: currency, dtype: float64"
      ]
     },
     "execution_count": 14,
     "metadata": {},
     "output_type": "execute_result"
    }
   ],
   "source": [
    "survey[\"currency\"].value_counts(normalize=True)"
   ]
  },
  {
   "cell_type": "markdown",
   "id": "69df32c6",
   "metadata": {},
   "source": [
    "Mostly USD, a small percentage of respondents are paid in CAD, or GBP (10% in total). Let's just consider respondents who are paid in USD."
   ]
  },
  {
   "cell_type": "code",
   "execution_count": 15,
   "id": "834d41f5",
   "metadata": {},
   "outputs": [],
   "source": [
    "# filter respondents who are paid in USD\n",
    "survey_usd = survey.loc[survey[\"currency\"]=='USD']"
   ]
  },
  {
   "cell_type": "markdown",
   "id": "91ec4360",
   "metadata": {},
   "source": [
    "## Check for outliers in the depedent variable\n",
    "- I want to see if there are outliers for annual salary\n",
    "- It is likely that the outliers are naturally occuring-- in that there are people who actually make very high/low salary\n",
    "- I will be conservative when removing outliers\n",
    "    - On the lower end, an extreme outlier is first quartile -3 IQR\n",
    "    - Higher end, and extreme outlier is third qaurtile + 3 IQR"
   ]
  },
  {
   "cell_type": "code",
   "execution_count": 16,
   "id": "537a990f",
   "metadata": {},
   "outputs": [],
   "source": [
    "quartile_1 = survey_usd[\"annual_salary\"].describe().loc[\"25%\"]\n",
    "quartile_3 = survey_usd[\"annual_salary\"].describe().loc[\"75%\"]\n",
    "IQR = quartile_3-quartile_1\n",
    "\n",
    "upr = quartile_3+3*IQR\n",
    "lwr = 5000 # quartile_1-3*IQR\n",
    "\n",
    "# Remove outliers\n",
    "survey_usd = (survey_usd\n",
    "                  .loc[survey_usd[\"annual_salary\"].between(lwr,upr)])"
   ]
  },
  {
   "cell_type": "code",
   "execution_count": 17,
   "id": "10e9f61a",
   "metadata": {
    "scrolled": true
   },
   "outputs": [
    {
     "data": {
      "text/plain": [
       "(21583, 18)"
      ]
     },
     "execution_count": 17,
     "metadata": {},
     "output_type": "execute_result"
    }
   ],
   "source": [
    "survey_usd.shape #down from 26000 observations"
   ]
  },
  {
   "cell_type": "markdown",
   "id": "845239c8",
   "metadata": {},
   "source": [
    "### Extent of missing values"
   ]
  },
  {
   "cell_type": "code",
   "execution_count": 18,
   "id": "4a6bbd0b",
   "metadata": {
    "scrolled": true
   },
   "outputs": [
    {
     "data": {
      "text/plain": [
       "currency_other                              0.999166\n",
       "additional_context_on_income                0.892045\n",
       "additional_context_on_job_title             0.737664\n",
       "state                                       0.014873\n",
       "highest_level_of_education_completed        0.006209\n",
       "race                                        0.005745\n",
       "gender                                      0.005653\n",
       "city                                        0.002734\n",
       "industry                                    0.002131\n",
       "how_old_are_you                             0.000000\n",
       "job_title                                   0.000000\n",
       "currency                                    0.000000\n",
       "country                                     0.000000\n",
       "overall_years_of_professional_experience    0.000000\n",
       "years_of_experience_in_field                0.000000\n",
       "dtype: float64"
      ]
     },
     "execution_count": 18,
     "metadata": {},
     "output_type": "execute_result"
    }
   ],
   "source": [
    "# categorical variables\n",
    "survey_usd.loc[:,cat_vars].isna().mean().sort_values(ascending=False)"
   ]
  },
  {
   "cell_type": "markdown",
   "id": "49a0f5fb",
   "metadata": {},
   "source": [
    "Since I am only focusing on respondents who are earning USD. I can ignore currency_other. The additional context variables might not be worthwhile to be included as features, given the very high percentage of missing values. Very small (<5%) percentage of missing values in state, education, race, gender.... I can either impute with mode, or drop missing values."
   ]
  },
  {
   "cell_type": "code",
   "execution_count": 19,
   "id": "a871bb51",
   "metadata": {},
   "outputs": [
    {
     "data": {
      "text/plain": [
       "other_monetary_comp    0.249826\n",
       "timestamp              0.000000\n",
       "annual_salary          0.000000\n",
       "dtype: float64"
      ]
     },
     "execution_count": 19,
     "metadata": {},
     "output_type": "execute_result"
    }
   ],
   "source": [
    "survey_usd.loc[:,num_vars].isna().mean().sort_values(ascending=False)"
   ]
  },
  {
   "cell_type": "markdown",
   "id": "6e6c5979",
   "metadata": {},
   "source": [
    "Likely won't use other_monetary_comp as I am only interested in predicting employees' base salary."
   ]
  },
  {
   "cell_type": "markdown",
   "id": "b2aa0f21",
   "metadata": {},
   "source": [
    "### Geographic location"
   ]
  },
  {
   "cell_type": "code",
   "execution_count": 20,
   "id": "974e6aae",
   "metadata": {},
   "outputs": [
    {
     "data": {
      "text/plain": [
       "United States               0.413010\n",
       "USA                         0.361674\n",
       "US                          0.113191\n",
       "U.S.                        0.025900\n",
       "United States of America    0.019599\n",
       "                              ...   \n",
       "Uniteed States              0.000046\n",
       "USS                         0.000046\n",
       "U.s.a.                      0.000046\n",
       "Virginia                    0.000046\n",
       "South africa                0.000046\n",
       "Name: country, Length: 185, dtype: float64"
      ]
     },
     "execution_count": 20,
     "metadata": {},
     "output_type": "execute_result"
    }
   ],
   "source": [
    "survey_usd[\"country\"].value_counts(sort=True, normalize=True)"
   ]
  },
  {
   "cell_type": "markdown",
   "id": "43908ff4",
   "metadata": {},
   "source": [
    "It seems that country is an open response question: I see multiple ways of writing United States."
   ]
  },
  {
   "cell_type": "code",
   "execution_count": 21,
   "id": "e1e523d7",
   "metadata": {},
   "outputs": [
    {
     "data": {
      "text/plain": [
       "California                 0.111984\n",
       "New York                   0.094206\n",
       "Massachusetts              0.067726\n",
       "Texas                      0.054510\n",
       "Illinois                   0.052253\n",
       "                             ...   \n",
       "Nevada, Oregon             0.000047\n",
       "New Jersey, Virginia       0.000047\n",
       "Montana, Wyoming           0.000047\n",
       "Colorado, Massachusetts    0.000047\n",
       "Oregon, Washington         0.000047\n",
       "Name: state, Length: 124, dtype: float64"
      ]
     },
     "execution_count": 21,
     "metadata": {},
     "output_type": "execute_result"
    }
   ],
   "source": [
    "survey_usd[\"state\"].value_counts(normalize=True, sort=True)"
   ]
  },
  {
   "cell_type": "code",
   "execution_count": 22,
   "id": "cc81d768",
   "metadata": {},
   "outputs": [
    {
     "data": {
      "text/plain": [
       "California, Texas                   1\n",
       "Indiana, Ohio                       1\n",
       "Florida, Georgia, South Carolina    1\n",
       "Iowa, Utah, Vermont                 1\n",
       "Georgia, Massachusetts              1\n",
       "Name: state, dtype: int64"
      ]
     },
     "execution_count": 22,
     "metadata": {},
     "output_type": "execute_result"
    }
   ],
   "source": [
    "(survey_usd[\"state\"]\n",
    "     .value_counts()\n",
    "     .nsmallest(5))"
   ]
  },
  {
   "cell_type": "markdown",
   "id": "83a73fb8",
   "metadata": {},
   "source": [
    "There are 124 states, this is because state is also an open response question. Some people can enter multiple states. I am assuming the first state the respondent enters is his/her \"primary\" location. For simplicity, We can consider each respondent's primary state and ignore the rest."
   ]
  },
  {
   "cell_type": "code",
   "execution_count": 23,
   "id": "16124f4a",
   "metadata": {},
   "outputs": [],
   "source": [
    "# Only take the first state in the response and ignore the rest\n",
    "survey_usd[\"state\"]=survey_usd[\"state\"].str.split(',').str[0]"
   ]
  },
  {
   "cell_type": "code",
   "execution_count": 24,
   "id": "a875571b",
   "metadata": {},
   "outputs": [
    {
     "data": {
      "text/plain": [
       "52"
      ]
     },
     "execution_count": 24,
     "metadata": {},
     "output_type": "execute_result"
    }
   ],
   "source": [
    "len(survey_usd[\"state\"].unique()) # 52 states (51 states + DC)"
   ]
  },
  {
   "cell_type": "code",
   "execution_count": 25,
   "id": "70644867",
   "metadata": {},
   "outputs": [
    {
     "data": {
      "text/plain": [
       "Boston                                                   784\n",
       "Chicago                                                  753\n",
       "New York                                                 723\n",
       "Seattle                                                  683\n",
       "San Francisco                                            531\n",
       "                                                        ... \n",
       "Rural California                                           1\n",
       "Boulder but we are remote                                  1\n",
       "Cerritos                                                   1\n",
       "Clarendon Hills                                            1\n",
       "NA (work from home in small town, decline to specify)      1\n",
       "Name: city, Length: 3250, dtype: int64"
      ]
     },
     "execution_count": 25,
     "metadata": {},
     "output_type": "execute_result"
    }
   ],
   "source": [
    "survey_usd[\"city\"].value_counts()"
   ]
  },
  {
   "cell_type": "code",
   "execution_count": 26,
   "id": "f06aad96",
   "metadata": {},
   "outputs": [
    {
     "data": {
      "text/plain": [
       "Los Angeles area            1\n",
       "Belo Horizonte              1\n",
       "Los Altos                   1\n",
       "Cheraw                      1\n",
       "Commerce                    1\n",
       "Upper Penninsula            1\n",
       "Orange county               1\n",
       "Greeley surrounding area    1\n",
       "rural area                  1\n",
       "Westerville                 1\n",
       "Name: city, dtype: int64"
      ]
     },
     "execution_count": 26,
     "metadata": {},
     "output_type": "execute_result"
    }
   ],
   "source": [
    "survey_usd[\"city\"].value_counts().nsmallest(10)"
   ]
  },
  {
   "cell_type": "markdown",
   "id": "c607ae64",
   "metadata": {},
   "source": [
    "City is an open response (since there are incorrect spellings), but respondents seem to only enter one city (unlike state, where there are multiple responses). **Consider lumping rare levels to \"others\" and only retaining the first n most common levels. Also apply this to states.** We need to do this since when we one-hot encode these nominal variables, we want to minimize the number of levels."
   ]
  },
  {
   "cell_type": "code",
   "execution_count": 27,
   "id": "f9ab26ba",
   "metadata": {},
   "outputs": [],
   "source": [
    "# config parameters\n",
    "n_state_retain = 10 # retain the first 10 common states, label the rest as others\n",
    "n_city_retain = 10 # retain the first 10 common cities, label the rest as others"
   ]
  },
  {
   "cell_type": "code",
   "execution_count": 28,
   "id": "514c6f1b",
   "metadata": {},
   "outputs": [
    {
     "data": {
      "text/plain": [
       "Index(['California', 'New York', 'Massachusetts', 'Texas', 'Illinois',\n",
       "       'Washington', 'District of Columbia', 'Pennsylvania', 'Virginia',\n",
       "       'Minnesota'],\n",
       "      dtype='object')"
      ]
     },
     "execution_count": 28,
     "metadata": {},
     "output_type": "execute_result"
    }
   ],
   "source": [
    "top_n = survey_usd[\"state\"].value_counts().index[:n_state_retain]\n",
    "top_n"
   ]
  },
  {
   "cell_type": "code",
   "execution_count": 29,
   "id": "691515e8",
   "metadata": {},
   "outputs": [
    {
     "data": {
      "text/plain": [
       "0        Massachusetts\n",
       "2                Other\n",
       "3                Other\n",
       "4                Other\n",
       "5                Other\n",
       "             ...      \n",
       "26227         New York\n",
       "26228     Pennsylvania\n",
       "26229       California\n",
       "26230       Washington\n",
       "26231            Other\n",
       "Name: state, Length: 21583, dtype: object"
      ]
     },
     "execution_count": 29,
     "metadata": {},
     "output_type": "execute_result"
    }
   ],
   "source": [
    "survey_usd[\"state\"].where(survey_usd[\"state\"].isin(top_n),\n",
    "                \"Other\")"
   ]
  },
  {
   "cell_type": "code",
   "execution_count": 30,
   "id": "87bf761c",
   "metadata": {},
   "outputs": [],
   "source": [
    "# Let's encapsulate the above in a function\n",
    "def fct_lump(df_in,col,n_retain, rare_label=\"Other\"):\n",
    "    df = df_in.copy() # make a copy of the input dataframe\n",
    "    \n",
    "    # compute the top n levels in a column to retain\n",
    "    top_n = df[col].value_counts().index[:n_retain]\n",
    "    \n",
    "    # relabel column-- retain the top n levels, and relabel the rest of the labels to \"Other\"\n",
    "    df[col] = df[col].where(df[col].isin(top_n),\n",
    "                rare_label)\n",
    "    \n",
    "    return df"
   ]
  },
  {
   "cell_type": "code",
   "execution_count": 31,
   "id": "f69d88fa",
   "metadata": {},
   "outputs": [
    {
     "data": {
      "text/plain": [
       "Other                   9150\n",
       "California              2393\n",
       "New York                2005\n",
       "Massachusetts           1446\n",
       "Texas                   1160\n",
       "Illinois                1114\n",
       "Washington              1104\n",
       "District of Columbia     944\n",
       "Pennsylvania             873\n",
       "Virginia                 726\n",
       "Minnesota                668\n",
       "Name: state, dtype: int64"
      ]
     },
     "execution_count": 31,
     "metadata": {},
     "output_type": "execute_result"
    }
   ],
   "source": [
    "(fct_lump(df_in=survey_usd,\n",
    "         col= \"state\",\n",
    "         n_retain=n_state_retain)\n",
    "     .state\n",
    "     .value_counts())"
   ]
  },
  {
   "cell_type": "code",
   "execution_count": 32,
   "id": "25a416b6",
   "metadata": {},
   "outputs": [],
   "source": [
    "survey_usd=fct_lump(df_in=survey_usd,\n",
    "         col= \"state\",\n",
    "         n_retain=n_state_retain)"
   ]
  },
  {
   "cell_type": "code",
   "execution_count": 33,
   "id": "66bcdcfa",
   "metadata": {},
   "outputs": [
    {
     "data": {
      "text/plain": [
       "Other            15994\n",
       "Boston             784\n",
       "Chicago            753\n",
       "New York           723\n",
       "Seattle            683\n",
       "San Francisco      531\n",
       "New York City      478\n",
       "Los Angeles        470\n",
       "Portland           448\n",
       "Minneapolis        360\n",
       "Washington         359\n",
       "Name: city, dtype: int64"
      ]
     },
     "execution_count": 33,
     "metadata": {},
     "output_type": "execute_result"
    }
   ],
   "source": [
    "# Apply the function to the \"city\" column\n",
    "(fct_lump(df_in=survey_usd,\n",
    "         col= \"city\",\n",
    "         n_retain=n_city_retain)\n",
    "     .city\n",
    "     .value_counts())"
   ]
  },
  {
   "cell_type": "code",
   "execution_count": 34,
   "id": "51d713d5",
   "metadata": {},
   "outputs": [],
   "source": [
    "survey_usd=fct_lump(df_in=survey_usd,\n",
    "         col= \"city\",\n",
    "         n_retain=n_city_retain)"
   ]
  },
  {
   "cell_type": "code",
   "execution_count": 112,
   "id": "84d0a8e5",
   "metadata": {},
   "outputs": [
    {
     "data": {
      "text/plain": [
       "Other                   9818\n",
       "California              2393\n",
       "New York                2005\n",
       "Massachusetts           1446\n",
       "Texas                   1160\n",
       "Illinois                1114\n",
       "Washington              1104\n",
       "District of Columbia     944\n",
       "Pennsylvania             873\n",
       "Virginia                 726\n",
       "Name: state, dtype: int64"
      ]
     },
     "execution_count": 112,
     "metadata": {},
     "output_type": "execute_result"
    }
   ],
   "source": [
    "(fct_lump(df_in=survey_usd,\n",
    "         col= \"state\",\n",
    "         n_retain=n_state_retain)\n",
    "     .state\n",
    "     .value_counts())"
   ]
  },
  {
   "cell_type": "markdown",
   "id": "edf754f5",
   "metadata": {},
   "source": [
    "### Years of experience"
   ]
  },
  {
   "cell_type": "code",
   "execution_count": 35,
   "id": "f0340e98",
   "metadata": {},
   "outputs": [
    {
     "data": {
      "text/plain": [
       "11 - 20 years       7613\n",
       "8 - 10 years        4132\n",
       "5-7 years           3670\n",
       "21 - 30 years       2866\n",
       "2 - 4 years         2180\n",
       "31 - 40 years        677\n",
       "1 year or less       341\n",
       "41 years or more     104\n",
       "Name: overall_years_of_professional_experience, dtype: int64"
      ]
     },
     "execution_count": 35,
     "metadata": {},
     "output_type": "execute_result"
    }
   ],
   "source": [
    "survey_usd[\"overall_years_of_professional_experience\"].value_counts()"
   ]
  },
  {
   "cell_type": "markdown",
   "id": "d799d847",
   "metadata": {},
   "source": [
    "- There are some levels with 11 - 20 years and other with 5-7 years. We need to fix this.\n",
    "- We should make this into an ordered categorical variable, parsed by the first numeric number"
   ]
  },
  {
   "cell_type": "code",
   "execution_count": 36,
   "id": "07ff75a7",
   "metadata": {},
   "outputs": [],
   "source": [
    "survey_usd['overall_years_of_professional_experience'] = (survey_usd['overall_years_of_professional_experience']\n",
    "                                                      .str\n",
    "                                                      .replace(' - ','-'))"
   ]
  },
  {
   "cell_type": "code",
   "execution_count": 37,
   "id": "1b8836c3",
   "metadata": {},
   "outputs": [
    {
     "data": {
      "text/plain": [
       "['1 year or less',\n",
       " '2-4 years',\n",
       " '5-7 years',\n",
       " '8-10 years',\n",
       " '11-20 years',\n",
       " '21-30 years',\n",
       " '31-40 years',\n",
       " '41 years or more']"
      ]
     },
     "execution_count": 37,
     "metadata": {},
     "output_type": "execute_result"
    }
   ],
   "source": [
    "ordered_levels = (survey_usd['overall_years_of_professional_experience']\n",
    "    .value_counts()\n",
    "    .reset_index()\n",
    "    .rename(columns={'index':'levels'})\n",
    "     # extract the first one (or more) digits\n",
    "    .assign(num_levels=lambda x: x.levels.str.extract(r'(\\d+)').astype(int))\n",
    "    .sort_values(\"num_levels\")\n",
    "    .levels\n",
    "    .tolist())\n",
    "\n",
    "ordered_levels"
   ]
  },
  {
   "cell_type": "code",
   "execution_count": 38,
   "id": "7b5597f5",
   "metadata": {},
   "outputs": [],
   "source": [
    "# Let's try putting the above as a function since we will be using this a few times\n",
    "def parse_num_get_levels(df,col):\n",
    "    ordered_levels = (df[col]\n",
    "    .value_counts()\n",
    "    .reset_index()\n",
    "    .rename(columns={'index':'levels'})\n",
    "     # extract the first one (or more) digits\n",
    "    .assign(num_levels=lambda x: x.levels.str.extract(r'(\\d+)').astype(int))\n",
    "    .sort_values(\"num_levels\")\n",
    "    .levels\n",
    "    .tolist())\n",
    "    \n",
    "    # create categorical type\n",
    "    categorical_type =  pd.api.types.CategoricalDtype(\n",
    "    categories=ordered_levels,\n",
    "    ordered=True)\n",
    "    \n",
    "    # convert col to ordered categorical type\n",
    "    df[col] = df[col].astype(categorical_type)"
   ]
  },
  {
   "cell_type": "code",
   "execution_count": 39,
   "id": "89e05d6a",
   "metadata": {},
   "outputs": [],
   "source": [
    "parse_num_get_levels(survey_usd,\n",
    "                     \"overall_years_of_professional_experience\")"
   ]
  },
  {
   "cell_type": "code",
   "execution_count": 40,
   "id": "524ec3ec",
   "metadata": {},
   "outputs": [
    {
     "data": {
      "text/plain": [
       "0          5-7 years\n",
       "2          2-4 years\n",
       "3         8-10 years\n",
       "4         8-10 years\n",
       "5         8-10 years\n",
       "            ...     \n",
       "26227      5-7 years\n",
       "26228    11-20 years\n",
       "26229    11-20 years\n",
       "26230      2-4 years\n",
       "26231    11-20 years\n",
       "Name: overall_years_of_professional_experience, Length: 21583, dtype: category\n",
       "Categories (8, object): ['1 year or less' < '2-4 years' < '5-7 years' < '8-10 years' < '11-20 years' < '21-30 years' < '31-40 years' < '41 years or more']"
      ]
     },
     "execution_count": 40,
     "metadata": {},
     "output_type": "execute_result"
    }
   ],
   "source": [
    "survey_usd[\"overall_years_of_professional_experience\"]"
   ]
  },
  {
   "cell_type": "markdown",
   "id": "7a0e00d5",
   "metadata": {},
   "source": [
    "**Using the same approach, convert \"years_of_experience_in_field\" to an ordered categorical variable**"
   ]
  },
  {
   "cell_type": "code",
   "execution_count": 41,
   "id": "28447e3f",
   "metadata": {},
   "outputs": [
    {
     "data": {
      "text/plain": [
       "11 - 20 years       5187\n",
       "5-7 years           5070\n",
       "2 - 4 years         4595\n",
       "8 - 10 years        3938\n",
       "21 - 30 years       1461\n",
       "1 year or less       988\n",
       "31 - 40 years        312\n",
       "41 years or more      32\n",
       "Name: years_of_experience_in_field, dtype: int64"
      ]
     },
     "execution_count": 41,
     "metadata": {},
     "output_type": "execute_result"
    }
   ],
   "source": [
    "survey_usd[\"years_of_experience_in_field\"].value_counts().sort_values(ascending=False)"
   ]
  },
  {
   "cell_type": "markdown",
   "id": "99abbd1d",
   "metadata": {},
   "source": [
    "**Most people have 11-20 years of experience in field, followed by 5-7 years**"
   ]
  },
  {
   "cell_type": "code",
   "execution_count": 42,
   "id": "441d769b",
   "metadata": {},
   "outputs": [],
   "source": [
    "survey_usd['years_of_experience_in_field'] = (survey_usd['years_of_experience_in_field']\n",
    "                                                      .str\n",
    "                                                      .replace(' - ','-'))"
   ]
  },
  {
   "cell_type": "code",
   "execution_count": 43,
   "id": "af365e5f",
   "metadata": {},
   "outputs": [
    {
     "data": {
      "text/plain": [
       "11-20 years         5187\n",
       "5-7 years           5070\n",
       "2-4 years           4595\n",
       "8-10 years          3938\n",
       "21-30 years         1461\n",
       "1 year or less       988\n",
       "31-40 years          312\n",
       "41 years or more      32\n",
       "Name: years_of_experience_in_field, dtype: int64"
      ]
     },
     "execution_count": 43,
     "metadata": {},
     "output_type": "execute_result"
    }
   ],
   "source": [
    "survey_usd[\"years_of_experience_in_field\"].value_counts()"
   ]
  },
  {
   "cell_type": "code",
   "execution_count": 44,
   "id": "6deac334",
   "metadata": {},
   "outputs": [],
   "source": [
    "parse_num_get_levels(survey_usd,\n",
    "                     \"years_of_experience_in_field\")"
   ]
  },
  {
   "cell_type": "code",
   "execution_count": 45,
   "id": "ff96e406",
   "metadata": {
    "scrolled": true
   },
   "outputs": [
    {
     "data": {
      "text/plain": [
       "0          5-7 years\n",
       "2          2-4 years\n",
       "3          5-7 years\n",
       "4          5-7 years\n",
       "5          2-4 years\n",
       "            ...     \n",
       "26227      5-7 years\n",
       "26228      2-4 years\n",
       "26229    11-20 years\n",
       "26230      2-4 years\n",
       "26231     8-10 years\n",
       "Name: years_of_experience_in_field, Length: 21583, dtype: category\n",
       "Categories (8, object): ['1 year or less' < '2-4 years' < '5-7 years' < '8-10 years' < '11-20 years' < '21-30 years' < '31-40 years' < '41 years or more']"
      ]
     },
     "execution_count": 45,
     "metadata": {},
     "output_type": "execute_result"
    }
   ],
   "source": [
    "survey_usd[\"years_of_experience_in_field\"]"
   ]
  },
  {
   "cell_type": "markdown",
   "id": "e1315474",
   "metadata": {},
   "source": [
    "We can put this function as a custom transformer later on so that I can include this as a step in my data processing sklearn pipeline."
   ]
  },
  {
   "cell_type": "markdown",
   "id": "b30b491c",
   "metadata": {},
   "source": [
    "### Age"
   ]
  },
  {
   "cell_type": "code",
   "execution_count": 46,
   "id": "e5134d9f",
   "metadata": {},
   "outputs": [
    {
     "data": {
      "text/plain": [
       "25-34         9549\n",
       "35-44         7800\n",
       "45-54         2519\n",
       "18-24          823\n",
       "55-64          802\n",
       "65 or over      81\n",
       "under 18         9\n",
       "Name: how_old_are_you, dtype: int64"
      ]
     },
     "execution_count": 46,
     "metadata": {},
     "output_type": "execute_result"
    }
   ],
   "source": [
    "survey_usd[\"how_old_are_you\"].value_counts()"
   ]
  },
  {
   "cell_type": "markdown",
   "id": "6a326f94",
   "metadata": {},
   "source": [
    "Again, I can set this as an ordered categorical variable"
   ]
  },
  {
   "cell_type": "code",
   "execution_count": 47,
   "id": "92ed5eb9",
   "metadata": {},
   "outputs": [],
   "source": [
    "# Need to rename the \"under 18\" level to \"17 or under\" so it can be parsed by my function\n",
    "survey_usd[\"how_old_are_you\"]=survey_usd[\"how_old_are_you\"].replace(to_replace = \"under 18\",\n",
    "                                                                   value=\"17 or under\")"
   ]
  },
  {
   "cell_type": "code",
   "execution_count": 48,
   "id": "cabc2efe",
   "metadata": {},
   "outputs": [
    {
     "data": {
      "text/plain": [
       "25-34          9549\n",
       "35-44          7800\n",
       "45-54          2519\n",
       "18-24           823\n",
       "55-64           802\n",
       "65 or over       81\n",
       "17 or under       9\n",
       "Name: how_old_are_you, dtype: int64"
      ]
     },
     "execution_count": 48,
     "metadata": {},
     "output_type": "execute_result"
    }
   ],
   "source": [
    "survey_usd[\"how_old_are_you\"].value_counts()"
   ]
  },
  {
   "cell_type": "markdown",
   "id": "246c29f1",
   "metadata": {},
   "source": [
    "**I have most people in the 25-34 and 35-44 age group**"
   ]
  },
  {
   "cell_type": "code",
   "execution_count": 49,
   "id": "b58212cf",
   "metadata": {},
   "outputs": [],
   "source": [
    "parse_num_get_levels(survey_usd,\n",
    "                     \"how_old_are_you\")"
   ]
  },
  {
   "cell_type": "code",
   "execution_count": 50,
   "id": "b7cd866f",
   "metadata": {},
   "outputs": [],
   "source": [
    "survey_usd=survey_usd.rename(columns={\"how_old_are_you\": \"age_category\"}, errors=\"raise\")"
   ]
  },
  {
   "cell_type": "code",
   "execution_count": 51,
   "id": "f0ad66ab",
   "metadata": {},
   "outputs": [
    {
     "data": {
      "text/plain": [
       "0        25-34\n",
       "2        25-34\n",
       "3        25-34\n",
       "4        25-34\n",
       "5        25-34\n",
       "         ...  \n",
       "26227    25-34\n",
       "26228    35-44\n",
       "26229    25-34\n",
       "26230    25-34\n",
       "26231    35-44\n",
       "Name: age_category, Length: 21583, dtype: category\n",
       "Categories (7, object): ['17 or under' < '18-24' < '25-34' < '35-44' < '45-54' < '55-64' < '65 or over']"
      ]
     },
     "execution_count": 51,
     "metadata": {},
     "output_type": "execute_result"
    }
   ],
   "source": [
    "survey_usd[\"age_category\"]"
   ]
  },
  {
   "cell_type": "markdown",
   "id": "edc31ed5",
   "metadata": {},
   "source": [
    "### Race"
   ]
  },
  {
   "cell_type": "code",
   "execution_count": 52,
   "id": "82e3acaa",
   "metadata": {},
   "outputs": [
    {
     "data": {
      "text/plain": [
       "White                                                     0.837830\n",
       "Asian or Asian American                                   0.045435\n",
       "Black or African American                                 0.025351\n",
       "Hispanic, Latino, or Spanish origin                       0.021623\n",
       "Another option not listed here or prefer not to answer    0.019293\n",
       "Name: race, dtype: float64"
      ]
     },
     "execution_count": 52,
     "metadata": {},
     "output_type": "execute_result"
    }
   ],
   "source": [
    "survey_usd.race.value_counts(sort=True, normalize=True).iloc[:5]"
   ]
  },
  {
   "cell_type": "code",
   "execution_count": 53,
   "id": "1ba23971",
   "metadata": {},
   "outputs": [
    {
     "name": "stdout",
     "output_type": "stream",
     "text": [
      "There are 0.57 % missing for race.\n"
     ]
    }
   ],
   "source": [
    "print(f\"There are {round(100*survey_usd.race.isna().mean(),2)} % missing for race.\")"
   ]
  },
  {
   "cell_type": "markdown",
   "id": "b8045e46",
   "metadata": {},
   "source": [
    "Vast majority are White, following by a few small groups (all <5%): Asian, Black, Hispanic, prefer not to answer. A small number of people identify themselves with multiple race. I will classify them as Others along with people with NA."
   ]
  },
  {
   "cell_type": "code",
   "execution_count": 54,
   "id": "e8391428",
   "metadata": {},
   "outputs": [],
   "source": [
    "# coalesce all NA to \"Other\"\n",
    "survey_usd[\"race\"]=survey_usd[\"race\"].fillna(\"Other\")"
   ]
  },
  {
   "cell_type": "code",
   "execution_count": 55,
   "id": "f642c99e",
   "metadata": {},
   "outputs": [
    {
     "data": {
      "text/plain": [
       "White                                  17979\n",
       "Other                                   1621\n",
       "Asian or Asian American                  975\n",
       "Black or African American                544\n",
       "Hispanic, Latino, or Spanish origin      464\n",
       "Name: race, dtype: int64"
      ]
     },
     "execution_count": 55,
     "metadata": {},
     "output_type": "execute_result"
    }
   ],
   "source": [
    "n_race_retain = 4\n",
    "\n",
    "# retain the 4 most common race, lump the rest of the levels to \"Other\"\n",
    "(fct_lump(df_in=survey_usd,\n",
    "         col= \"race\",\n",
    "         n_retain=n_race_retain)\n",
    "     .race\n",
    "     .value_counts())"
   ]
  },
  {
   "cell_type": "code",
   "execution_count": 56,
   "id": "82d32781",
   "metadata": {},
   "outputs": [],
   "source": [
    "survey_usd=fct_lump(df_in=survey_usd,\n",
    "         col= \"race\",\n",
    "         n_retain=n_race_retain)"
   ]
  },
  {
   "cell_type": "markdown",
   "id": "117b4072",
   "metadata": {},
   "source": [
    "### Gender"
   ]
  },
  {
   "cell_type": "code",
   "execution_count": 57,
   "id": "56052090",
   "metadata": {},
   "outputs": [
    {
     "data": {
      "text/plain": [
       "0.005652596951304267"
      ]
     },
     "execution_count": 57,
     "metadata": {},
     "output_type": "execute_result"
    }
   ],
   "source": [
    "survey_usd.gender.isna().mean()"
   ]
  },
  {
   "cell_type": "code",
   "execution_count": 58,
   "id": "2410343e",
   "metadata": {},
   "outputs": [
    {
     "data": {
      "text/plain": [
       "Woman                            17024\n",
       "Man                               3656\n",
       "Non-binary                         565\n",
       "Other or prefer not to answer      215\n",
       "Prefer not to answer                 1\n",
       "Name: gender, dtype: int64"
      ]
     },
     "execution_count": 58,
     "metadata": {},
     "output_type": "execute_result"
    }
   ],
   "source": [
    "survey_usd.gender.value_counts(sort=True)"
   ]
  },
  {
   "cell_type": "markdown",
   "id": "f2f9e187",
   "metadata": {},
   "source": [
    "First, coalesce all NA to \"Other or prefer not to answer\". Next retain only Woman and Man (the top 2 most common levels and lump the remaining level to \"Other or prefer not to answer\""
   ]
  },
  {
   "cell_type": "code",
   "execution_count": 59,
   "id": "e1c2542e",
   "metadata": {},
   "outputs": [],
   "source": [
    "survey_usd[\"gender\"] = survey_usd[\"gender\"].fillna(\"Other or prefer not to answer\")  "
   ]
  },
  {
   "cell_type": "code",
   "execution_count": 60,
   "id": "09c7b00f",
   "metadata": {},
   "outputs": [
    {
     "data": {
      "text/plain": [
       "Woman                            17024\n",
       "Man                               3656\n",
       "Other or prefer not to answer      903\n",
       "Name: gender, dtype: int64"
      ]
     },
     "execution_count": 60,
     "metadata": {},
     "output_type": "execute_result"
    }
   ],
   "source": [
    "n_gender_retain = 2\n",
    "\n",
    "# lump the rare levels to \"Other\"\n",
    "(fct_lump(df_in=survey_usd,\n",
    "         col= \"gender\",\n",
    "         n_retain=n_gender_retain,\n",
    "         rare_label = \"Other or prefer not to answer\")\n",
    "     .gender\n",
    "     .value_counts())"
   ]
  },
  {
   "cell_type": "code",
   "execution_count": 61,
   "id": "53c95745",
   "metadata": {},
   "outputs": [],
   "source": [
    "survey_usd=fct_lump(df_in=survey_usd,\n",
    "         col= \"gender\",\n",
    "         n_retain=n_gender_retain,\n",
    "         rare_label = \"Other or prefer not to answer\")"
   ]
  },
  {
   "cell_type": "markdown",
   "id": "34a2323e",
   "metadata": {},
   "source": [
    "### Education"
   ]
  },
  {
   "cell_type": "code",
   "execution_count": 62,
   "id": "b4bfbd0b",
   "metadata": {},
   "outputs": [
    {
     "data": {
      "text/plain": [
       "College degree                        0.489067\n",
       "Master's degree                       0.328827\n",
       "Some college                          0.068255\n",
       "PhD                                   0.049513\n",
       "Professional degree (MD, JD, etc.)    0.047695\n",
       "High School                           0.016644\n",
       "Name: highest_level_of_education_completed, dtype: float64"
      ]
     },
     "execution_count": 62,
     "metadata": {},
     "output_type": "execute_result"
    }
   ],
   "source": [
    "survey_usd[\"highest_level_of_education_completed\"].value_counts(sort=True, normalize=True)"
   ]
  },
  {
   "cell_type": "code",
   "execution_count": 63,
   "id": "065c869b",
   "metadata": {},
   "outputs": [
    {
     "data": {
      "text/plain": [
       "0.006208590094055506"
      ]
     },
     "execution_count": 63,
     "metadata": {},
     "output_type": "execute_result"
    }
   ],
   "source": [
    "survey_usd[\"highest_level_of_education_completed\"].isna().mean()"
   ]
  },
  {
   "cell_type": "markdown",
   "id": "f0d7d620",
   "metadata": {},
   "source": [
    "Use this variable as is, imputed NA with \"unknown\""
   ]
  },
  {
   "cell_type": "code",
   "execution_count": 64,
   "id": "d0c88409",
   "metadata": {},
   "outputs": [],
   "source": [
    "survey_usd[\"education\"] = survey_usd[\"highest_level_of_education_completed\"].fillna(\"Unknown\")"
   ]
  },
  {
   "cell_type": "markdown",
   "id": "f367799b",
   "metadata": {},
   "source": [
    "### Industry"
   ]
  },
  {
   "cell_type": "code",
   "execution_count": 65,
   "id": "5b939951",
   "metadata": {},
   "outputs": [
    {
     "data": {
      "text/plain": [
       "Computing or Tech                0.159818\n",
       "Nonprofits                       0.095510\n",
       "Education (Higher Education)     0.093049\n",
       "Health care                      0.068440\n",
       "Accounting, Banking & Finance    0.063983\n",
       "                                   ...   \n",
       "Aerospace/Aviation               0.000046\n",
       "I work for Indeed.com            0.000046\n",
       "Archives/Library Science         0.000046\n",
       "Geospatial                       0.000046\n",
       "Landscaping                      0.000046\n",
       "Name: industry, Length: 913, dtype: float64"
      ]
     },
     "execution_count": 65,
     "metadata": {},
     "output_type": "execute_result"
    }
   ],
   "source": [
    "survey_usd[\"industry\"].value_counts(sort=True, normalize=True)"
   ]
  },
  {
   "cell_type": "code",
   "execution_count": 66,
   "id": "19179a88",
   "metadata": {},
   "outputs": [
    {
     "data": {
      "text/plain": [
       "0.0021313070472130844"
      ]
     },
     "execution_count": 66,
     "metadata": {},
     "output_type": "execute_result"
    }
   ],
   "source": [
    "survey_usd[\"industry\"].isna().mean()"
   ]
  },
  {
   "cell_type": "markdown",
   "id": "8671e29d",
   "metadata": {},
   "source": [
    "Industry is an open response variable, along with some fixed categories. I can lump all rare levels to others and retain the first 10 most common levels."
   ]
  },
  {
   "cell_type": "code",
   "execution_count": 67,
   "id": "72eb3465",
   "metadata": {},
   "outputs": [],
   "source": [
    "survey_usd[\"industry\"]= survey_usd[\"industry\"].fillna(\"Other\")"
   ]
  },
  {
   "cell_type": "code",
   "execution_count": 68,
   "id": "47a937d1",
   "metadata": {
    "scrolled": true
   },
   "outputs": [
    {
     "data": {
      "text/plain": [
       "Other                                   6143\n",
       "Computing or Tech                       3442\n",
       "Nonprofits                              2057\n",
       "Education (Higher Education)            2004\n",
       "Health care                             1474\n",
       "Accounting, Banking & Finance           1378\n",
       "Government and Public Administration    1368\n",
       "Engineering or Manufacturing            1287\n",
       "Law                                      873\n",
       "Marketing, Advertising & PR              869\n",
       "Education (Primary/Secondary)            688\n",
       "Name: industry, dtype: int64"
      ]
     },
     "execution_count": 68,
     "metadata": {},
     "output_type": "execute_result"
    }
   ],
   "source": [
    "n_industry_retain = 10\n",
    "\n",
    "# lump the rare levels to \"Other\"\n",
    "(fct_lump(df_in=survey_usd,\n",
    "         col= \"industry\",\n",
    "         n_retain=n_industry_retain)\n",
    "     .industry\n",
    "     .value_counts())"
   ]
  },
  {
   "cell_type": "code",
   "execution_count": 69,
   "id": "16904386",
   "metadata": {},
   "outputs": [],
   "source": [
    "survey_usd=fct_lump(df_in=survey_usd,\n",
    "         col= \"industry\",\n",
    "         n_retain=n_industry_retain,\n",
    "         rare_label = \"Other\")"
   ]
  },
  {
   "cell_type": "markdown",
   "id": "bb9566fb",
   "metadata": {},
   "source": [
    "### Job title"
   ]
  },
  {
   "cell_type": "code",
   "execution_count": 70,
   "id": "afdf632c",
   "metadata": {},
   "outputs": [
    {
     "data": {
      "text/plain": [
       "Software Engineer               0.010842\n",
       "Project Manager                 0.008803\n",
       "Director                        0.008386\n",
       "Senior Software Engineer        0.007506\n",
       "Librarian                       0.006579\n",
       "                                  ...   \n",
       "Administrative professional     0.000046\n",
       "Conservation Ecologist          0.000046\n",
       "Senior Cataloging Librarian     0.000046\n",
       "Advisory Software Engineer      0.000046\n",
       "Knowledge Management Manager    0.000046\n",
       "Name: job_title, Length: 10568, dtype: float64"
      ]
     },
     "execution_count": 70,
     "metadata": {},
     "output_type": "execute_result"
    }
   ],
   "source": [
    "survey_usd[\"job_title\"].value_counts(sort=True, normalize=True)"
   ]
  },
  {
   "cell_type": "code",
   "execution_count": 71,
   "id": "310c4749",
   "metadata": {},
   "outputs": [
    {
     "data": {
      "text/plain": [
       "0.0"
      ]
     },
     "execution_count": 71,
     "metadata": {},
     "output_type": "execute_result"
    }
   ],
   "source": [
    "survey_usd[\"job_title\"].isna().mean()"
   ]
  },
  {
   "cell_type": "markdown",
   "id": "a0946809",
   "metadata": {},
   "source": [
    "There are 10631 job titles. This could be an open response question with some fixed categories. I will lump all rare levels to \"Other\" while only retain the first 20 most common levels."
   ]
  },
  {
   "cell_type": "code",
   "execution_count": 72,
   "id": "100e199f",
   "metadata": {},
   "outputs": [
    {
     "data": {
      "text/plain": [
       "Other                       19243\n",
       "Software Engineer             234\n",
       "Project Manager               190\n",
       "Director                      181\n",
       "Senior Software Engineer      162\n",
       "Librarian                     142\n",
       "Program Manager               136\n",
       "Teacher                       136\n",
       "Executive Assistant           126\n",
       "Manager                       115\n",
       "Administrative Assistant      109\n",
       "Attorney                      101\n",
       "Product Manager               100\n",
       "Office Manager                 85\n",
       "Paralegal                      80\n",
       "Data Analyst                   79\n",
       "Executive Director             77\n",
       "Associate                      74\n",
       "Assistant Professor            72\n",
       "Analyst                        71\n",
       "Marketing Manager              70\n",
       "Name: job_title, dtype: int64"
      ]
     },
     "execution_count": 72,
     "metadata": {},
     "output_type": "execute_result"
    }
   ],
   "source": [
    "n_job_title_retain = 20\n",
    "\n",
    "# lump the rare levels to \"Other\"\n",
    "(fct_lump(df_in=survey_usd,\n",
    "         col= \"job_title\",\n",
    "         n_retain=n_job_title_retain)\n",
    "     .job_title\n",
    "     .value_counts())"
   ]
  },
  {
   "cell_type": "code",
   "execution_count": 73,
   "id": "b9e98e18",
   "metadata": {},
   "outputs": [],
   "source": [
    "survey_usd=fct_lump(df_in=survey_usd,\n",
    "         col= \"job_title\",\n",
    "         n_retain=n_job_title_retain,\n",
    "         rare_label = \"Other\")"
   ]
  },
  {
   "cell_type": "markdown",
   "id": "3bab73b2",
   "metadata": {},
   "source": [
    "## Exploratory analysis\n",
    "- Look at the distribution of the dependent variable\n",
    "- Look for relationship between features and the dependent variable\n",
    "- Correlation between features and dependent variable and amongst the features (pairplot and correlation matrix)"
   ]
  },
  {
   "cell_type": "markdown",
   "id": "9f8e3fa6",
   "metadata": {},
   "source": [
    "### distribution of annual salary"
   ]
  },
  {
   "cell_type": "markdown",
   "id": "51c5ac9e",
   "metadata": {},
   "source": [
    "log transform annual salary (need to remove 0 first)"
   ]
  },
  {
   "cell_type": "code",
   "execution_count": 74,
   "id": "24f0afd0",
   "metadata": {},
   "outputs": [],
   "source": [
    "survey_usd=survey_usd.loc[survey_usd[\"annual_salary\"]!=0]\n",
    "survey_usd[\"log_annual_salary\"] = np.log(survey_usd[\"annual_salary\"])"
   ]
  },
  {
   "cell_type": "code",
   "execution_count": 75,
   "id": "4b42c2a3",
   "metadata": {},
   "outputs": [
    {
     "data": {
      "image/png": "[encoded data removed]",
      "text/plain": [
       "<Figure size 1080x720 with 2 Axes>"
      ]
     },
     "metadata": {
      "needs_background": "light"
     },
     "output_type": "display_data"
    }
   ],
   "source": [
    "fig,axes = plt.subplots(2,1,\n",
    "                       figsize = (15,10))\n",
    "survey_usd[\"annual_salary\"].plot.hist(ax=axes[0],\n",
    "                                      color = 'k',\n",
    "                                      alpha=0.7,\n",
    "                                      bins =50,\n",
    "                                      title = \"annual salary histogram\")\n",
    "axes[0].set_xlabel('annual salary')\n",
    "\n",
    "survey_usd[\"log_annual_salary\"].plot.hist(ax=axes[1],\n",
    "                                          color='b',\n",
    "                                          alpha = 0.7,\n",
    "                                          bins = 50,\n",
    "                                          title = \"log annual salary histogram\")\n",
    "axes[1].set_xlabel('log annual salary')\n",
    "\n",
    "# adjust space between plots\n",
    "plt.subplots_adjust(wspace=0.5, hspace=0.5)"
   ]
  },
  {
   "cell_type": "markdown",
   "id": "1d318123",
   "metadata": {},
   "source": [
    "- Annual salary is right skewed with long tail. After transforming it with log, it is more normal (compress far apart salary and spread out the ones that are close to each other).\n",
    "- I would transform the response variable if non-normal error and/or non-common Var(u) are the ONLY problems with the model AND nonlinearity is NOT a problem."
   ]
  },
  {
   "cell_type": "markdown",
   "id": "6cf00554",
   "metadata": {},
   "source": [
    "### annual salary X state\n",
    "- Boxplot of annual salary for each state categories\n",
    "- Compute the median annual salary for each state and create barplot (use median since it is robust to outliers)"
   ]
  },
  {
   "cell_type": "code",
   "execution_count": 76,
   "id": "685c7660",
   "metadata": {},
   "outputs": [],
   "source": [
    "# order levels of state by median salary\n",
    "rank = (survey_usd\n",
    "        .loc[survey_usd[\"annual_salary\"]<1e5]\n",
    "        .groupby(\"state\")\n",
    "        .annual_salary\n",
    "        .median()\n",
    "        .sort_values(ascending=False)\n",
    "        .index)"
   ]
  },
  {
   "cell_type": "code",
   "execution_count": 77,
   "id": "16079f3a",
   "metadata": {
    "scrolled": true
   },
   "outputs": [
    {
     "data": {
      "image/png": "[encoded data removed]",
      "text/plain": [
       "<Figure size 720x360 with 1 Axes>"
      ]
     },
     "metadata": {
      "needs_background": "light"
     },
     "output_type": "display_data"
    }
   ],
   "source": [
    "fig = plt.figure(figsize=(10,5))\n",
    "ax1=fig.add_subplot(1,1,1)\n",
    "\n",
    "# Using seaborn\n",
    "ax1=sns.boxplot(x=\"annual_salary\",\n",
    "                y=\"state\",\n",
    "                data = (survey_usd\n",
    "                        .loc[survey_usd[\"annual_salary\"]<1e5]),\n",
    "                order = rank)"
   ]
  },
  {
   "cell_type": "markdown",
   "id": "ee6865f9",
   "metadata": {},
   "source": [
    "There seems to be a correlation between states and annual salary as there are difference in median salary across states."
   ]
  },
  {
   "cell_type": "markdown",
   "id": "7490d879",
   "metadata": {},
   "source": [
    "Let's encapsulate the above as a function (except we use barplots instead of boxplot, and not filter annual_salary)\n",
    "- Lump the levels of the categorical variable, retaining only the first n most common levels\n",
    "- Find the \"rank\" of the levels of the categorical variable in terms of median annual salary\n",
    "- Create barplot and order the levels of the categorical variable based on the \"rank\" "
   ]
  },
  {
   "cell_type": "code",
   "execution_count": 78,
   "id": "c0525ca4",
   "metadata": {},
   "outputs": [],
   "source": [
    "def plot_categorical(df,col,n=10):\n",
    "    \n",
    "    # Get dataframe with categorical variables with rare levels lumped to \"Other\"\n",
    "    \n",
    "    data = df.copy() # make a copy of input dataframe\n",
    "    \n",
    "    # Lump rare levels in col to \"Other\"\n",
    "    data=fct_lump(df_in=data,\n",
    "         col= col,\n",
    "         n_retain=n)\n",
    "\n",
    "    # Get ordered levels by median annual salary\n",
    "    rank = (data\n",
    "            .groupby(col)\n",
    "            .annual_salary\n",
    "            .median()\n",
    "            .sort_values(ascending=False)\n",
    "            .index)\n",
    "\n",
    "    # generate boxplot\n",
    "    fig = plt.figure(figsize=(10,5))\n",
    "    ax1=fig.add_subplot(1,1,1)\n",
    "\n",
    "    # Using bar\n",
    "    sns.barplot(x=\"annual_salary\",\n",
    "                y=col,\n",
    "                ax=ax1,\n",
    "                estimator=np.median,\n",
    "                data = data,\n",
    "                order = rank)\n",
    "    \n",
    "    ax1.set_xlabel(\"annual salary in USD\")\n",
    "    ax1.set_title(f\"annual salary vs {col}\")"
   ]
  },
  {
   "cell_type": "code",
   "execution_count": 79,
   "id": "efae3892",
   "metadata": {},
   "outputs": [
    {
     "data": {
      "image/png": "[encoded data removed]",
      "text/plain": [
       "<Figure size 720x360 with 1 Axes>"
      ]
     },
     "metadata": {
      "needs_background": "light"
     },
     "output_type": "display_data"
    }
   ],
   "source": [
    "plot_categorical(survey,\"state\",10)"
   ]
  },
  {
   "cell_type": "markdown",
   "id": "118aeed8",
   "metadata": {},
   "source": [
    "## annual_salary vs industry\n",
    "- Next, let's look at industry. There is probably a relationship between the industry people are working in and their annual salary. The barplot gives suggestive evidence of this. I probably should train a regularized regression model using state, industry, (and a few other variables like years of experience) as predictors"
   ]
  },
  {
   "cell_type": "code",
   "execution_count": 80,
   "id": "3fd4aa77",
   "metadata": {},
   "outputs": [
    {
     "data": {
      "image/png": "[encoded data removed]",
      "text/plain": [
       "<Figure size 720x360 with 1 Axes>"
      ]
     },
     "metadata": {
      "needs_background": "light"
     },
     "output_type": "display_data"
    }
   ],
   "source": [
    "plot_categorical(survey,\"industry\",10)"
   ]
  },
  {
   "cell_type": "markdown",
   "id": "140d8d2a",
   "metadata": {},
   "source": [
    "## annual_salary vs job_title\n",
    "- Senior SW engineer's median salary that is higher than Director! This most likely has to do with years of experience (need to control for that!) A Director at a startup likely will have lower salary on average than a Senior SWE with 15+ years experience at tech companies"
   ]
  },
  {
   "cell_type": "code",
   "execution_count": 81,
   "id": "a124f533",
   "metadata": {},
   "outputs": [
    {
     "data": {
      "image/png": "[encoded data removed]",
      "text/plain": [
       "<Figure size 720x360 with 1 Axes>"
      ]
     },
     "metadata": {
      "needs_background": "light"
     },
     "output_type": "display_data"
    }
   ],
   "source": [
    "plot_categorical(survey,\"job_title\",15)"
   ]
  },
  {
   "cell_type": "markdown",
   "id": "2b00a4f7",
   "metadata": {},
   "source": [
    "## annual_salary vs years of experience\n",
    "- overall_years_of_professional_experience\n",
    "- years_of_experience_in_field"
   ]
  },
  {
   "cell_type": "code",
   "execution_count": 82,
   "id": "399e02dc",
   "metadata": {},
   "outputs": [
    {
     "data": {
      "image/png": "[encoded data removed]",
      "text/plain": [
       "<Figure size 720x360 with 1 Axes>"
      ]
     },
     "metadata": {
      "needs_background": "light"
     },
     "output_type": "display_data"
    }
   ],
   "source": [
    "plot_categorical(survey_usd,\"overall_years_of_professional_experience\",10)"
   ]
  },
  {
   "cell_type": "markdown",
   "id": "b39b213a",
   "metadata": {},
   "source": [
    "On the whole, annual salary increases with overall years of professional experience and years in field"
   ]
  },
  {
   "cell_type": "code",
   "execution_count": 83,
   "id": "9dc58fe3",
   "metadata": {},
   "outputs": [
    {
     "data": {
      "image/png": "[encoded data removed]",
      "text/plain": [
       "<Figure size 720x360 with 1 Axes>"
      ]
     },
     "metadata": {
      "needs_background": "light"
     },
     "output_type": "display_data"
    }
   ],
   "source": [
    "plot_categorical(survey_usd,\"years_of_experience_in_field\",10)"
   ]
  },
  {
   "cell_type": "markdown",
   "id": "b7d75f03",
   "metadata": {},
   "source": [
    "## Age, race, and education vs annual_salary"
   ]
  },
  {
   "cell_type": "code",
   "execution_count": 84,
   "id": "5bc3a127",
   "metadata": {},
   "outputs": [
    {
     "data": {
      "image/png": "[encoded data removed]",
      "text/plain": [
       "<Figure size 720x360 with 1 Axes>"
      ]
     },
     "metadata": {
      "needs_background": "light"
     },
     "output_type": "display_data"
    }
   ],
   "source": [
    "plot_categorical(survey_usd,\"age_category\",15)"
   ]
  },
  {
   "cell_type": "markdown",
   "id": "f26ef9f6",
   "metadata": {},
   "source": [
    "Higher age categories is correlated with higher annual salary."
   ]
  },
  {
   "cell_type": "code",
   "execution_count": 85,
   "id": "316868e3",
   "metadata": {},
   "outputs": [
    {
     "data": {
      "image/png": "[encoded data removed]",
      "text/plain": [
       "<Figure size 720x360 with 1 Axes>"
      ]
     },
     "metadata": {
      "needs_background": "light"
     },
     "output_type": "display_data"
    }
   ],
   "source": [
    "plot_categorical(survey_usd,\"highest_level_of_education_completed\",15)"
   ]
  },
  {
   "cell_type": "markdown",
   "id": "0d689f1c",
   "metadata": {},
   "source": [
    "Higher level of education is correlated with higher levels of salary"
   ]
  },
  {
   "cell_type": "code",
   "execution_count": 86,
   "id": "10b6c2d2",
   "metadata": {},
   "outputs": [
    {
     "data": {
      "image/png": "[encoded data removed]",
      "text/plain": [
       "<Figure size 720x360 with 1 Axes>"
      ]
     },
     "metadata": {
      "needs_background": "light"
     },
     "output_type": "display_data"
    }
   ],
   "source": [
    "plot_categorical(survey_usd,\"gender\")"
   ]
  },
  {
   "cell_type": "markdown",
   "id": "07b7452d",
   "metadata": {},
   "source": [
    "The result might suggest Man makes more than Woman, but it could also be confounded by education, and the types of jobs that man hold vs woman. "
   ]
  },
  {
   "cell_type": "code",
   "execution_count": 87,
   "id": "e8cc609f",
   "metadata": {},
   "outputs": [
    {
     "data": {
      "image/png": "[encoded data removed]",
      "text/plain": [
       "<Figure size 720x360 with 1 Axes>"
      ]
     },
     "metadata": {
      "needs_background": "light"
     },
     "output_type": "display_data"
    }
   ],
   "source": [
    "plot_categorical(survey_usd,\"race\")"
   ]
  },
  {
   "cell_type": "markdown",
   "id": "2f936064",
   "metadata": {},
   "source": [
    "Except for Asian or Asian American, which holds higher salary than the other races, all other races have similar median salary (might not be statistically different from each other)."
   ]
  },
  {
   "cell_type": "markdown",
   "id": "dee8c0e5",
   "metadata": {},
   "source": [
    "## Let's check for interaction: for example, are there difference in the relationship between experience X annual salary across gender groups?"
   ]
  },
  {
   "cell_type": "code",
   "execution_count": 88,
   "id": "33f3956b",
   "metadata": {},
   "outputs": [
    {
     "data": {
      "text/plain": [
       "<AxesSubplot:xlabel='annual_salary', ylabel='years_of_experience_in_field'>"
      ]
     },
     "execution_count": 88,
     "metadata": {},
     "output_type": "execute_result"
    },
    {
     "data": {
      "image/png": "[encoded data removed]",
      "text/plain": [
       "<Figure size 720x360 with 1 Axes>"
      ]
     },
     "metadata": {
      "needs_background": "light"
     },
     "output_type": "display_data"
    }
   ],
   "source": [
    "fig = plt.figure(figsize=(10,5))\n",
    "ax=fig.add_subplot(1,1,1)\n",
    "\n",
    "sns.barplot(\n",
    "    x='annual_salary',\n",
    "    y='years_of_experience_in_field',\n",
    "    hue='gender',\n",
    "    orient='h',\n",
    "    axes=ax,\n",
    "    data=survey_usd \n",
    ")"
   ]
  },
  {
   "cell_type": "markdown",
   "id": "97791c56",
   "metadata": {},
   "source": [
    "The gap in median salary across gender groups seems to widen with years of experience"
   ]
  },
  {
   "cell_type": "code",
   "execution_count": 89,
   "id": "c25e3605",
   "metadata": {},
   "outputs": [
    {
     "data": {
      "text/plain": [
       "<seaborn.axisgrid.FacetGrid at 0x134f69d60>"
      ]
     },
     "execution_count": 89,
     "metadata": {},
     "output_type": "execute_result"
    },
    {
     "data": {
      "image/png": "[encoded data removed]",
      "text/plain": [
       "<Figure size 1440x1440 with 7 Axes>"
      ]
     },
     "metadata": {
      "needs_background": "light"
     },
     "output_type": "display_data"
    }
   ],
   "source": [
    "# sns.catplot do not have a axes parameter\n",
    "# But you can set size of the figure with the height and aspect parameters\n",
    "sns.catplot(\n",
    "    x='annual_salary',\n",
    "    y='years_of_experience_in_field',\n",
    "    col='education',\n",
    "    col_wrap=2,\n",
    "    kind='bar',\n",
    "    height=5,\n",
    "    aspect=2,\n",
    "    data=survey_usd \n",
    ")"
   ]
  },
  {
   "cell_type": "markdown",
   "id": "4af14c5e",
   "metadata": {},
   "source": [
    "Relationship between years of experience and annual salary is similar across all levels of education."
   ]
  },
  {
   "cell_type": "code",
   "execution_count": 90,
   "id": "918c0617",
   "metadata": {},
   "outputs": [
    {
     "data": {
      "text/plain": [
       "<seaborn.axisgrid.FacetGrid at 0x1351a3b50>"
      ]
     },
     "execution_count": 90,
     "metadata": {},
     "output_type": "execute_result"
    },
    {
     "data": {
      "image/png": "[encoded data removed]",
      "text/plain": [
       "<Figure size 1440x1080 with 5 Axes>"
      ]
     },
     "metadata": {
      "needs_background": "light"
     },
     "output_type": "display_data"
    }
   ],
   "source": [
    "data = survey_usd.copy() # make a copy of input dataframe\n",
    "    \n",
    "# Lump rare levels in col to \"Other\"\n",
    "data=fct_lump(df_in=data,\n",
    "              col= \"industry\",\n",
    "              n_retain=5)\n",
    "\n",
    "sns.catplot(\n",
    "    x='annual_salary',\n",
    "    y='years_of_experience_in_field',\n",
    "    col='industry',\n",
    "    col_wrap=2,\n",
    "    kind='bar',\n",
    "    height=5,\n",
    "    aspect=2,\n",
    "    data=data \n",
    ")\n",
    "    "
   ]
  },
  {
   "cell_type": "markdown",
   "id": "553cc26a",
   "metadata": {},
   "source": [
    "In general, years of experience increases with experience for all industries, except for computing and tech after 21-30 years. "
   ]
  },
  {
   "cell_type": "markdown",
   "id": "a51bce45",
   "metadata": {},
   "source": [
    "## Identify collinear features\n",
    "- Highly collinear features have a significant correlation coefficent between them. \n",
    "- It will lead to high standard deviation for the estimated regression coefficent in linear regression models (we are less certain about our estimated betas). But this is not a problem for tree-based methods like random forest regressor.\n",
    "- Since all of our features are categorical, we need to use Cramer's V as a measure of correlation between pairs of categorical variables."
   ]
  },
  {
   "cell_type": "code",
   "execution_count": 91,
   "id": "a5dceb93",
   "metadata": {},
   "outputs": [],
   "source": [
    "features_of_interest = [\"age_category\",\"industry\",\"job_title\",\"state\",\"city\",\n",
    "                       \"overall_years_of_professional_experience\",\"years_of_experience_in_field\",\n",
    "                       \"education\",\"gender\",\"race\"]"
   ]
  },
  {
   "cell_type": "code",
   "execution_count": 92,
   "id": "68d01e1d",
   "metadata": {},
   "outputs": [],
   "source": [
    "# Get features of interest (excluding some variables like \"additional conext of salary\" \n",
    "# that we don't think should be included in the model)\n",
    "features = survey_usd.loc[:,features_of_interest]"
   ]
  },
  {
   "cell_type": "code",
   "execution_count": 93,
   "id": "340c4dfe",
   "metadata": {},
   "outputs": [
    {
     "data": {
      "text/html": [
       "<div>\n",
       "<style scoped>\n",
       "    .dataframe tbody tr th:only-of-type {\n",
       "        vertical-align: middle;\n",
       "    }\n",
       "\n",
       "    .dataframe tbody tr th {\n",
       "        vertical-align: top;\n",
       "    }\n",
       "\n",
       "    .dataframe thead th {\n",
       "        text-align: right;\n",
       "    }\n",
       "</style>\n",
       "<table border=\"1\" class=\"dataframe\">\n",
       "  <thead>\n",
       "    <tr style=\"text-align: right;\">\n",
       "      <th></th>\n",
       "      <th>age_category</th>\n",
       "      <th>industry</th>\n",
       "      <th>job_title</th>\n",
       "      <th>state</th>\n",
       "      <th>city</th>\n",
       "      <th>overall_years_of_professional_experience</th>\n",
       "      <th>years_of_experience_in_field</th>\n",
       "      <th>education</th>\n",
       "      <th>gender</th>\n",
       "      <th>race</th>\n",
       "    </tr>\n",
       "  </thead>\n",
       "  <tbody>\n",
       "    <tr>\n",
       "      <th>0</th>\n",
       "      <td>25-34</td>\n",
       "      <td>Education (Higher Education)</td>\n",
       "      <td>Other</td>\n",
       "      <td>Massachusetts</td>\n",
       "      <td>Boston</td>\n",
       "      <td>5-7 years</td>\n",
       "      <td>5-7 years</td>\n",
       "      <td>Master's degree</td>\n",
       "      <td>Woman</td>\n",
       "      <td>White</td>\n",
       "    </tr>\n",
       "    <tr>\n",
       "      <th>2</th>\n",
       "      <td>25-34</td>\n",
       "      <td>Accounting, Banking &amp; Finance</td>\n",
       "      <td>Other</td>\n",
       "      <td>Other</td>\n",
       "      <td>Other</td>\n",
       "      <td>2-4 years</td>\n",
       "      <td>2-4 years</td>\n",
       "      <td>College degree</td>\n",
       "      <td>Woman</td>\n",
       "      <td>White</td>\n",
       "    </tr>\n",
       "    <tr>\n",
       "      <th>3</th>\n",
       "      <td>25-34</td>\n",
       "      <td>Nonprofits</td>\n",
       "      <td>Program Manager</td>\n",
       "      <td>Other</td>\n",
       "      <td>Other</td>\n",
       "      <td>8-10 years</td>\n",
       "      <td>5-7 years</td>\n",
       "      <td>College degree</td>\n",
       "      <td>Woman</td>\n",
       "      <td>White</td>\n",
       "    </tr>\n",
       "    <tr>\n",
       "      <th>4</th>\n",
       "      <td>25-34</td>\n",
       "      <td>Accounting, Banking &amp; Finance</td>\n",
       "      <td>Other</td>\n",
       "      <td>Other</td>\n",
       "      <td>Other</td>\n",
       "      <td>8-10 years</td>\n",
       "      <td>5-7 years</td>\n",
       "      <td>College degree</td>\n",
       "      <td>Woman</td>\n",
       "      <td>White</td>\n",
       "    </tr>\n",
       "    <tr>\n",
       "      <th>5</th>\n",
       "      <td>25-34</td>\n",
       "      <td>Education (Higher Education)</td>\n",
       "      <td>Other</td>\n",
       "      <td>Other</td>\n",
       "      <td>Other</td>\n",
       "      <td>8-10 years</td>\n",
       "      <td>2-4 years</td>\n",
       "      <td>Master's degree</td>\n",
       "      <td>Man</td>\n",
       "      <td>White</td>\n",
       "    </tr>\n",
       "  </tbody>\n",
       "</table>\n",
       "</div>"
      ],
      "text/plain": [
       "  age_category                       industry        job_title          state  \\\n",
       "0        25-34   Education (Higher Education)            Other  Massachusetts   \n",
       "2        25-34  Accounting, Banking & Finance            Other          Other   \n",
       "3        25-34                     Nonprofits  Program Manager          Other   \n",
       "4        25-34  Accounting, Banking & Finance            Other          Other   \n",
       "5        25-34   Education (Higher Education)            Other          Other   \n",
       "\n",
       "     city overall_years_of_professional_experience  \\\n",
       "0  Boston                                5-7 years   \n",
       "2   Other                                2-4 years   \n",
       "3   Other                               8-10 years   \n",
       "4   Other                               8-10 years   \n",
       "5   Other                               8-10 years   \n",
       "\n",
       "  years_of_experience_in_field        education gender   race  \n",
       "0                    5-7 years  Master's degree  Woman  White  \n",
       "2                    2-4 years   College degree  Woman  White  \n",
       "3                    5-7 years   College degree  Woman  White  \n",
       "4                    5-7 years   College degree  Woman  White  \n",
       "5                    2-4 years  Master's degree    Man  White  "
      ]
     },
     "execution_count": 93,
     "metadata": {},
     "output_type": "execute_result"
    }
   ],
   "source": [
    "features.head()"
   ]
  },
  {
   "cell_type": "code",
   "execution_count": 94,
   "id": "2d0fe70f",
   "metadata": {},
   "outputs": [],
   "source": [
    "# We need to label encode the categorical features\n"
   ]
  },
  {
   "cell_type": "code",
   "execution_count": 95,
   "id": "91a0d838",
   "metadata": {},
   "outputs": [],
   "source": [
    "# Init a defaultdict that will contain the column name as key, and init LabelEncoder() \n",
    "# transformer as value (default value of the dictionary). Each of these LabelEncoder will be fitted and\n",
    "# will be associated to its key (which is the column name)\n",
    "d = defaultdict(LabelEncoder)"
   ]
  },
  {
   "cell_type": "code",
   "execution_count": 96,
   "id": "e9e465ef",
   "metadata": {},
   "outputs": [],
   "source": [
    "# Note: pd.Series.name gets the name of the series (name of the column in the dataframe)\n",
    "labelled_features = features.apply(lambda x: d[x.name].fit_transform(x))"
   ]
  },
  {
   "cell_type": "code",
   "execution_count": 97,
   "id": "afe31077",
   "metadata": {},
   "outputs": [
    {
     "data": {
      "text/html": [
       "<div>\n",
       "<style scoped>\n",
       "    .dataframe tbody tr th:only-of-type {\n",
       "        vertical-align: middle;\n",
       "    }\n",
       "\n",
       "    .dataframe tbody tr th {\n",
       "        vertical-align: top;\n",
       "    }\n",
       "\n",
       "    .dataframe thead th {\n",
       "        text-align: right;\n",
       "    }\n",
       "</style>\n",
       "<table border=\"1\" class=\"dataframe\">\n",
       "  <thead>\n",
       "    <tr style=\"text-align: right;\">\n",
       "      <th></th>\n",
       "      <th>age_category</th>\n",
       "      <th>industry</th>\n",
       "      <th>job_title</th>\n",
       "      <th>state</th>\n",
       "      <th>city</th>\n",
       "      <th>overall_years_of_professional_experience</th>\n",
       "      <th>years_of_experience_in_field</th>\n",
       "      <th>education</th>\n",
       "      <th>gender</th>\n",
       "      <th>race</th>\n",
       "    </tr>\n",
       "  </thead>\n",
       "  <tbody>\n",
       "    <tr>\n",
       "      <th>0</th>\n",
       "      <td>2</td>\n",
       "      <td>2</td>\n",
       "      <td>13</td>\n",
       "      <td>3</td>\n",
       "      <td>0</td>\n",
       "      <td>6</td>\n",
       "      <td>6</td>\n",
       "      <td>2</td>\n",
       "      <td>2</td>\n",
       "      <td>4</td>\n",
       "    </tr>\n",
       "    <tr>\n",
       "      <th>2</th>\n",
       "      <td>2</td>\n",
       "      <td>0</td>\n",
       "      <td>13</td>\n",
       "      <td>6</td>\n",
       "      <td>6</td>\n",
       "      <td>2</td>\n",
       "      <td>2</td>\n",
       "      <td>0</td>\n",
       "      <td>2</td>\n",
       "      <td>4</td>\n",
       "    </tr>\n",
       "    <tr>\n",
       "      <th>3</th>\n",
       "      <td>2</td>\n",
       "      <td>9</td>\n",
       "      <td>16</td>\n",
       "      <td>6</td>\n",
       "      <td>6</td>\n",
       "      <td>7</td>\n",
       "      <td>6</td>\n",
       "      <td>0</td>\n",
       "      <td>2</td>\n",
       "      <td>4</td>\n",
       "    </tr>\n",
       "    <tr>\n",
       "      <th>4</th>\n",
       "      <td>2</td>\n",
       "      <td>0</td>\n",
       "      <td>13</td>\n",
       "      <td>6</td>\n",
       "      <td>6</td>\n",
       "      <td>7</td>\n",
       "      <td>6</td>\n",
       "      <td>0</td>\n",
       "      <td>2</td>\n",
       "      <td>4</td>\n",
       "    </tr>\n",
       "    <tr>\n",
       "      <th>5</th>\n",
       "      <td>2</td>\n",
       "      <td>2</td>\n",
       "      <td>13</td>\n",
       "      <td>6</td>\n",
       "      <td>6</td>\n",
       "      <td>7</td>\n",
       "      <td>2</td>\n",
       "      <td>2</td>\n",
       "      <td>0</td>\n",
       "      <td>4</td>\n",
       "    </tr>\n",
       "    <tr>\n",
       "      <th>...</th>\n",
       "      <td>...</td>\n",
       "      <td>...</td>\n",
       "      <td>...</td>\n",
       "      <td>...</td>\n",
       "      <td>...</td>\n",
       "      <td>...</td>\n",
       "      <td>...</td>\n",
       "      <td>...</td>\n",
       "      <td>...</td>\n",
       "      <td>...</td>\n",
       "    </tr>\n",
       "    <tr>\n",
       "      <th>26227</th>\n",
       "      <td>2</td>\n",
       "      <td>10</td>\n",
       "      <td>13</td>\n",
       "      <td>5</td>\n",
       "      <td>5</td>\n",
       "      <td>6</td>\n",
       "      <td>6</td>\n",
       "      <td>0</td>\n",
       "      <td>2</td>\n",
       "      <td>4</td>\n",
       "    </tr>\n",
       "    <tr>\n",
       "      <th>26228</th>\n",
       "      <td>3</td>\n",
       "      <td>9</td>\n",
       "      <td>13</td>\n",
       "      <td>7</td>\n",
       "      <td>6</td>\n",
       "      <td>1</td>\n",
       "      <td>2</td>\n",
       "      <td>0</td>\n",
       "      <td>2</td>\n",
       "      <td>0</td>\n",
       "    </tr>\n",
       "    <tr>\n",
       "      <th>26229</th>\n",
       "      <td>2</td>\n",
       "      <td>1</td>\n",
       "      <td>13</td>\n",
       "      <td>0</td>\n",
       "      <td>6</td>\n",
       "      <td>1</td>\n",
       "      <td>1</td>\n",
       "      <td>2</td>\n",
       "      <td>2</td>\n",
       "      <td>4</td>\n",
       "    </tr>\n",
       "    <tr>\n",
       "      <th>26230</th>\n",
       "      <td>2</td>\n",
       "      <td>8</td>\n",
       "      <td>13</td>\n",
       "      <td>10</td>\n",
       "      <td>9</td>\n",
       "      <td>2</td>\n",
       "      <td>2</td>\n",
       "      <td>0</td>\n",
       "      <td>2</td>\n",
       "      <td>4</td>\n",
       "    </tr>\n",
       "    <tr>\n",
       "      <th>26231</th>\n",
       "      <td>3</td>\n",
       "      <td>7</td>\n",
       "      <td>13</td>\n",
       "      <td>6</td>\n",
       "      <td>6</td>\n",
       "      <td>1</td>\n",
       "      <td>7</td>\n",
       "      <td>2</td>\n",
       "      <td>2</td>\n",
       "      <td>4</td>\n",
       "    </tr>\n",
       "  </tbody>\n",
       "</table>\n",
       "<p>21583 rows × 10 columns</p>\n",
       "</div>"
      ],
      "text/plain": [
       "       age_category  industry  job_title  state  city  \\\n",
       "0                 2         2         13      3     0   \n",
       "2                 2         0         13      6     6   \n",
       "3                 2         9         16      6     6   \n",
       "4                 2         0         13      6     6   \n",
       "5                 2         2         13      6     6   \n",
       "...             ...       ...        ...    ...   ...   \n",
       "26227             2        10         13      5     5   \n",
       "26228             3         9         13      7     6   \n",
       "26229             2         1         13      0     6   \n",
       "26230             2         8         13     10     9   \n",
       "26231             3         7         13      6     6   \n",
       "\n",
       "       overall_years_of_professional_experience  years_of_experience_in_field  \\\n",
       "0                                             6                             6   \n",
       "2                                             2                             2   \n",
       "3                                             7                             6   \n",
       "4                                             7                             6   \n",
       "5                                             7                             2   \n",
       "...                                         ...                           ...   \n",
       "26227                                         6                             6   \n",
       "26228                                         1                             2   \n",
       "26229                                         1                             1   \n",
       "26230                                         2                             2   \n",
       "26231                                         1                             7   \n",
       "\n",
       "       education  gender  race  \n",
       "0              2       2     4  \n",
       "2              0       2     4  \n",
       "3              0       2     4  \n",
       "4              0       2     4  \n",
       "5              2       0     4  \n",
       "...          ...     ...   ...  \n",
       "26227          0       2     4  \n",
       "26228          0       2     0  \n",
       "26229          2       2     4  \n",
       "26230          0       2     4  \n",
       "26231          2       2     4  \n",
       "\n",
       "[21583 rows x 10 columns]"
      ]
     },
     "execution_count": 97,
     "metadata": {},
     "output_type": "execute_result"
    }
   ],
   "source": [
    "labelled_features"
   ]
  },
  {
   "cell_type": "markdown",
   "id": "1fefa933",
   "metadata": {},
   "source": [
    "**A few side notes**"
   ]
  },
  {
   "cell_type": "code",
   "execution_count": 98,
   "id": "0b54a11d",
   "metadata": {},
   "outputs": [
    {
     "data": {
      "text/plain": [
       "defaultdict(sklearn.preprocessing._label.LabelEncoder,\n",
       "            {'age_category': LabelEncoder(),\n",
       "             'industry': LabelEncoder(),\n",
       "             'job_title': LabelEncoder(),\n",
       "             'state': LabelEncoder(),\n",
       "             'city': LabelEncoder(),\n",
       "             'overall_years_of_professional_experience': LabelEncoder(),\n",
       "             'years_of_experience_in_field': LabelEncoder(),\n",
       "             'education': LabelEncoder(),\n",
       "             'gender': LabelEncoder(),\n",
       "             'race': LabelEncoder()})"
      ]
     },
     "execution_count": 98,
     "metadata": {},
     "output_type": "execute_result"
    }
   ],
   "source": [
    "# Dictionary of column names (key) and fitted LabelEncoder (value)\n",
    "d"
   ]
  },
  {
   "cell_type": "code",
   "execution_count": 99,
   "id": "cd78f86b",
   "metadata": {},
   "outputs": [],
   "source": [
    "# We can reverse the encoded if needed:\n",
    "labelled_features.apply(lambda x: d[x.name].inverse_transform(x));\n",
    "\n",
    "# We can use the dictionary of fitted LabelEncoder to transform (label) new data \n",
    "# df_test.apply(lambda x: d[x.name].transform(x))"
   ]
  },
  {
   "cell_type": "markdown",
   "id": "0be37b9b",
   "metadata": {},
   "source": [
    "**Building the Cramer's V matrix**"
   ]
  },
  {
   "cell_type": "code",
   "execution_count": 100,
   "id": "92959a58",
   "metadata": {},
   "outputs": [],
   "source": [
    "def cramers_V(var1,var2) :\n",
    "    crosstab =np.array(pd.crosstab(var1,var2, rownames=None, colnames=None)) # Cross table building\n",
    "    stat = chi2_contingency(crosstab)[0] # Keeping of the test statistic of the Chi2 test\n",
    "    obs = np.sum(crosstab) # Number of observations\n",
    "    mini = min(crosstab.shape)-1 # Take the minimum value between the columns and the rows of the cross table\n",
    "    \n",
    "    return (stat/(obs*mini))"
   ]
  },
  {
   "cell_type": "code",
   "execution_count": 106,
   "id": "81bb902a",
   "metadata": {},
   "outputs": [],
   "source": [
    "rows= []\n",
    "\n",
    "for var1 in labelled_features:\n",
    "    col = []\n",
    "    for var2 in labelled_features :\n",
    "        cramers =cramers_V(labelled_features[var1], labelled_features[var2]) # Cramer's V test\n",
    "        col.append(round(cramers,2)) # Keeping of the rounded value of the Cramer's V  \n",
    "    rows.append(col)\n",
    "\n",
    "cramers_results = np.array(rows)"
   ]
  },
  {
   "cell_type": "code",
   "execution_count": 107,
   "id": "319edb2f",
   "metadata": {},
   "outputs": [],
   "source": [
    "df_cramer = pd.DataFrame(cramers_results, \n",
    "                         columns = labelled_features.columns, \n",
    "                         index =labelled_features.columns)"
   ]
  },
  {
   "cell_type": "code",
   "execution_count": 109,
   "id": "3cb7b721",
   "metadata": {},
   "outputs": [
    {
     "data": {
      "text/html": [
       "<div>\n",
       "<style scoped>\n",
       "    .dataframe tbody tr th:only-of-type {\n",
       "        vertical-align: middle;\n",
       "    }\n",
       "\n",
       "    .dataframe tbody tr th {\n",
       "        vertical-align: top;\n",
       "    }\n",
       "\n",
       "    .dataframe thead th {\n",
       "        text-align: right;\n",
       "    }\n",
       "</style>\n",
       "<table border=\"1\" class=\"dataframe\">\n",
       "  <thead>\n",
       "    <tr style=\"text-align: right;\">\n",
       "      <th></th>\n",
       "      <th>age_category</th>\n",
       "      <th>industry</th>\n",
       "      <th>job_title</th>\n",
       "      <th>state</th>\n",
       "      <th>city</th>\n",
       "      <th>overall_years_of_professional_experience</th>\n",
       "      <th>years_of_experience_in_field</th>\n",
       "      <th>education</th>\n",
       "      <th>gender</th>\n",
       "      <th>race</th>\n",
       "    </tr>\n",
       "  </thead>\n",
       "  <tbody>\n",
       "    <tr>\n",
       "      <th>age_category</th>\n",
       "      <td>1.00</td>\n",
       "      <td>0.00</td>\n",
       "      <td>0.00</td>\n",
       "      <td>0.00</td>\n",
       "      <td>0.00</td>\n",
       "      <td>0.26</td>\n",
       "      <td>0.15</td>\n",
       "      <td>0.01</td>\n",
       "      <td>0.00</td>\n",
       "      <td>0.00</td>\n",
       "    </tr>\n",
       "    <tr>\n",
       "      <th>industry</th>\n",
       "      <td>0.00</td>\n",
       "      <td>1.00</td>\n",
       "      <td>0.05</td>\n",
       "      <td>0.01</td>\n",
       "      <td>0.01</td>\n",
       "      <td>0.00</td>\n",
       "      <td>0.00</td>\n",
       "      <td>0.07</td>\n",
       "      <td>0.04</td>\n",
       "      <td>0.00</td>\n",
       "    </tr>\n",
       "    <tr>\n",
       "      <th>job_title</th>\n",
       "      <td>0.00</td>\n",
       "      <td>0.05</td>\n",
       "      <td>1.00</td>\n",
       "      <td>0.00</td>\n",
       "      <td>0.00</td>\n",
       "      <td>0.00</td>\n",
       "      <td>0.00</td>\n",
       "      <td>0.03</td>\n",
       "      <td>0.01</td>\n",
       "      <td>0.00</td>\n",
       "    </tr>\n",
       "    <tr>\n",
       "      <th>state</th>\n",
       "      <td>0.00</td>\n",
       "      <td>0.01</td>\n",
       "      <td>0.00</td>\n",
       "      <td>1.00</td>\n",
       "      <td>0.36</td>\n",
       "      <td>0.00</td>\n",
       "      <td>0.00</td>\n",
       "      <td>0.00</td>\n",
       "      <td>0.00</td>\n",
       "      <td>0.01</td>\n",
       "    </tr>\n",
       "    <tr>\n",
       "      <th>city</th>\n",
       "      <td>0.00</td>\n",
       "      <td>0.01</td>\n",
       "      <td>0.00</td>\n",
       "      <td>0.36</td>\n",
       "      <td>1.00</td>\n",
       "      <td>0.00</td>\n",
       "      <td>0.00</td>\n",
       "      <td>0.00</td>\n",
       "      <td>0.00</td>\n",
       "      <td>0.01</td>\n",
       "    </tr>\n",
       "    <tr>\n",
       "      <th>overall_years_of_professional_experience</th>\n",
       "      <td>0.26</td>\n",
       "      <td>0.00</td>\n",
       "      <td>0.00</td>\n",
       "      <td>0.00</td>\n",
       "      <td>0.00</td>\n",
       "      <td>1.00</td>\n",
       "      <td>0.28</td>\n",
       "      <td>0.01</td>\n",
       "      <td>0.00</td>\n",
       "      <td>0.01</td>\n",
       "    </tr>\n",
       "    <tr>\n",
       "      <th>years_of_experience_in_field</th>\n",
       "      <td>0.15</td>\n",
       "      <td>0.00</td>\n",
       "      <td>0.00</td>\n",
       "      <td>0.00</td>\n",
       "      <td>0.00</td>\n",
       "      <td>0.28</td>\n",
       "      <td>1.00</td>\n",
       "      <td>0.00</td>\n",
       "      <td>0.01</td>\n",
       "      <td>0.00</td>\n",
       "    </tr>\n",
       "    <tr>\n",
       "      <th>education</th>\n",
       "      <td>0.01</td>\n",
       "      <td>0.07</td>\n",
       "      <td>0.03</td>\n",
       "      <td>0.00</td>\n",
       "      <td>0.00</td>\n",
       "      <td>0.01</td>\n",
       "      <td>0.00</td>\n",
       "      <td>1.00</td>\n",
       "      <td>0.01</td>\n",
       "      <td>0.00</td>\n",
       "    </tr>\n",
       "    <tr>\n",
       "      <th>gender</th>\n",
       "      <td>0.00</td>\n",
       "      <td>0.04</td>\n",
       "      <td>0.01</td>\n",
       "      <td>0.00</td>\n",
       "      <td>0.00</td>\n",
       "      <td>0.00</td>\n",
       "      <td>0.01</td>\n",
       "      <td>0.01</td>\n",
       "      <td>1.00</td>\n",
       "      <td>0.01</td>\n",
       "    </tr>\n",
       "    <tr>\n",
       "      <th>race</th>\n",
       "      <td>0.00</td>\n",
       "      <td>0.00</td>\n",
       "      <td>0.00</td>\n",
       "      <td>0.01</td>\n",
       "      <td>0.01</td>\n",
       "      <td>0.01</td>\n",
       "      <td>0.00</td>\n",
       "      <td>0.00</td>\n",
       "      <td>0.01</td>\n",
       "      <td>1.00</td>\n",
       "    </tr>\n",
       "  </tbody>\n",
       "</table>\n",
       "</div>"
      ],
      "text/plain": [
       "                                          age_category  industry  job_title  \\\n",
       "age_category                                      1.00      0.00       0.00   \n",
       "industry                                          0.00      1.00       0.05   \n",
       "job_title                                         0.00      0.05       1.00   \n",
       "state                                             0.00      0.01       0.00   \n",
       "city                                              0.00      0.01       0.00   \n",
       "overall_years_of_professional_experience          0.26      0.00       0.00   \n",
       "years_of_experience_in_field                      0.15      0.00       0.00   \n",
       "education                                         0.01      0.07       0.03   \n",
       "gender                                            0.00      0.04       0.01   \n",
       "race                                              0.00      0.00       0.00   \n",
       "\n",
       "                                          state  city  \\\n",
       "age_category                               0.00  0.00   \n",
       "industry                                   0.01  0.01   \n",
       "job_title                                  0.00  0.00   \n",
       "state                                      1.00  0.36   \n",
       "city                                       0.36  1.00   \n",
       "overall_years_of_professional_experience   0.00  0.00   \n",
       "years_of_experience_in_field               0.00  0.00   \n",
       "education                                  0.00  0.00   \n",
       "gender                                     0.00  0.00   \n",
       "race                                       0.01  0.01   \n",
       "\n",
       "                                          overall_years_of_professional_experience  \\\n",
       "age_category                                                                  0.26   \n",
       "industry                                                                      0.00   \n",
       "job_title                                                                     0.00   \n",
       "state                                                                         0.00   \n",
       "city                                                                          0.00   \n",
       "overall_years_of_professional_experience                                      1.00   \n",
       "years_of_experience_in_field                                                  0.28   \n",
       "education                                                                     0.01   \n",
       "gender                                                                        0.00   \n",
       "race                                                                          0.01   \n",
       "\n",
       "                                          years_of_experience_in_field  \\\n",
       "age_category                                                      0.15   \n",
       "industry                                                          0.00   \n",
       "job_title                                                         0.00   \n",
       "state                                                             0.00   \n",
       "city                                                              0.00   \n",
       "overall_years_of_professional_experience                          0.28   \n",
       "years_of_experience_in_field                                      1.00   \n",
       "education                                                         0.00   \n",
       "gender                                                            0.01   \n",
       "race                                                              0.00   \n",
       "\n",
       "                                          education  gender  race  \n",
       "age_category                                   0.01    0.00  0.00  \n",
       "industry                                       0.07    0.04  0.00  \n",
       "job_title                                      0.03    0.01  0.00  \n",
       "state                                          0.00    0.00  0.01  \n",
       "city                                           0.00    0.00  0.01  \n",
       "overall_years_of_professional_experience       0.01    0.00  0.01  \n",
       "years_of_experience_in_field                   0.00    0.01  0.00  \n",
       "education                                      1.00    0.01  0.00  \n",
       "gender                                         0.01    1.00  0.01  \n",
       "race                                           0.00    0.01  1.00  "
      ]
     },
     "execution_count": 109,
     "metadata": {},
     "output_type": "execute_result"
    }
   ],
   "source": [
    "df_cramer"
   ]
  },
  {
   "cell_type": "markdown",
   "id": "585f882c",
   "metadata": {},
   "source": [
    "## Heatmap"
   ]
  },
  {
   "cell_type": "code",
   "execution_count": 110,
   "id": "571557b7",
   "metadata": {},
   "outputs": [
    {
     "name": "stderr",
     "output_type": "stream",
     "text": [
      "/var/folders/0t/47qwfn79375230vlpg79zkdh0000gn/T/ipykernel_36391/613395922.py:1: DeprecationWarning: `np.bool` is a deprecated alias for the builtin `bool`. To silence this warning, use `bool` by itself. Doing this will not modify any behavior and is safe. If you specifically wanted the numpy scalar type, use `np.bool_` here.\n",
      "Deprecated in NumPy 1.20; for more details and guidance: https://numpy.org/devdocs/release/1.20.0-notes.html#deprecations\n",
      "  mask = np.zeros_like(df_cramer, dtype=np.bool)\n"
     ]
    },
    {
     "data": {
      "image/png": "[encoded data removed]",
      "text/plain": [
       "<Figure size 432x288 with 2 Axes>"
      ]
     },
     "metadata": {},
     "output_type": "display_data"
    }
   ],
   "source": [
    "mask = np.zeros_like(df_cramer, dtype=np.bool)\n",
    "mask[np.triu_indices_from(mask)] = True\n",
    "\n",
    "with sns.axes_style(\"white\"):\n",
    "    ax = sns.heatmap(df_cramer, \n",
    "                     mask= mask,\n",
    "                     vmin=0.0, \n",
    "                     vmax=1, \n",
    "                     square=True)\n",
    "\n",
    "plt.show()"
   ]
  },
  {
   "cell_type": "markdown",
   "id": "237017c6",
   "metadata": {},
   "source": [
    "With the exception of city-state (Cramer's V 0.36), none of the feature pairs have correlation that exceeds 0.3. Even the two years of experience features only have Cramer's V of 0.28. We can start by including all of the above features into regression model and only reconsider dropping some features (e.g., city, or overall_years_of_professional_experience) if the VIF is very high for the linear regression model."
   ]
  }
 ],
 "metadata": {
  "kernelspec": {
   "display_name": "Python 3",
   "language": "python",
   "name": "python3"
  },
  "language_info": {
   "codemirror_mode": {
    "name": "ipython",
    "version": 3
   },
   "file_extension": ".py",
   "mimetype": "text/x-python",
   "name": "python",
   "nbconvert_exporter": "python",
   "pygments_lexer": "ipython3",
   "version": "3.9.0"
  }
 },
 "nbformat": 4,
 "nbformat_minor": 5
}
