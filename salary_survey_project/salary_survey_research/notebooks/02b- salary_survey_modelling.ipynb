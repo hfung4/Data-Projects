{
 "cells": [
  {
   "cell_type": "markdown",
   "id": "680b9018",
   "metadata": {},
   "source": [
    "# Salary analysis- modelling and performance evaluation\n",
    "- This notebook explores different ways to create models once we have a processed dataframe\n",
    "- We will explore the following:\n",
    "    - Performance evaluation with the validation set approach (train model with no tuning, no CV, just estimate the test performance metric like test rmse with the test set)\n",
    "    - Use k-fold CV to estimate the test performance metric (e.g., mean rmse across all CV folds)\n",
    "    - Use RandomizedSearchCV to identify a set of potential optimal values for the hyperparameter. Refine the tuning with GridSearchCV. Get the mean CV score of the best model. Make predictions with the best model using the test set and get the test metric of the test set.\n",
    "    - Get CV scores of multiple models. We identify the model (amongst a set of models) with the best CV score. Then we only spend time fine-tuning (using GridSearchCV) the model with the best CV score.\n",
    "    - Use GridSearchCV to tune hyperparameters for multiple pipelines (which has the model as the last transformer in the pipeline)."
   ]
  },
  {
   "cell_type": "markdown",
   "id": "d53fe7e5",
   "metadata": {},
   "source": [
    "## Please place this notebook in the \"notebook\" directory before running it!"
   ]
  },
  {
   "cell_type": "code",
   "execution_count": 1,
   "id": "a54646a5",
   "metadata": {},
   "outputs": [],
   "source": [
    "import sys\n",
    "import os\n",
    "from pathlib import Path\n",
    "\n",
    "'''data'''\n",
    "import pandas as pd\n",
    "import numpy as np\n",
    "\n",
    "'''visualization'''\n",
    "import matplotlib.pyplot as plt\n",
    "import seaborn as sns\n",
    "\n",
    "'''sklearn'''\n",
    "from sklearn.pipeline import Pipeline\n",
    "from sklearn.model_selection import train_test_split\n",
    "\n",
    "'''feature engine'''\n",
    "from feature_engine.imputation import CategoricalImputer\n",
    "\n",
    "from feature_engine.encoding import (\n",
    "    RareLabelEncoder,\n",
    "    OneHotEncoder)\n",
    "\n",
    "from feature_engine.wrappers import SklearnTransformerWrapper"
   ]
  },
  {
   "cell_type": "code",
   "execution_count": 2,
   "id": "f610fafa",
   "metadata": {},
   "outputs": [],
   "source": [
    "# set working directory to be one level above /notebook during the INIT RUN \n",
    "try: INIT_RUN\n",
    "except NameError:\n",
    "    os.chdir(os.path.dirname(os.getcwd()))\n",
    "    INIT_RUN=True"
   ]
  },
  {
   "cell_type": "markdown",
   "id": "51e577f1",
   "metadata": {},
   "source": [
    "## Project Parameters\n",
    "- Gather all project parameters here, they will be set inside a yaml config file in a future iteration of this project"
   ]
  },
  {
   "cell_type": "code",
   "execution_count": 3,
   "id": "8ac1ae29",
   "metadata": {},
   "outputs": [],
   "source": [
    "# get root and data directory of project\n",
    "ROOT_DIR = os.getcwd()\n",
    "RAW_DATA_DIR = Path(ROOT_DIR,\"data\",\"raw\")\n",
    "PROCESSED_DATA_DIR = Path(ROOT_DIR,\"data\",\"processed\")\n",
    "\n",
    "# Selected features\n",
    "FEATURES = [\"age_category\",\"industry\",\"state\",\"city\",\n",
    "            \"overall_experience\",\"in_field_experience\",\n",
    "            \"education\",\"gender\",\"race\"]\n",
    "\n",
    "# Modelling parameters\n",
    "RANDOM = 10\n",
    "TEST_SIZE = 0.2\n",
    "\n",
    "# Custom lower bound for outlier removal\n",
    "OUTLIER_LWR_BOUND = 5000\n",
    "\n",
    "\n",
    "# Data pipeline\n",
    "# Variables that I retain the X most frequent level and lump the rest as \"Other\"\n",
    "CAT_VARS_10_MOST_FREQ = [\"state\",\"city\",\"industry\"]\n",
    "CAT_VARS_2_MOST_FREQ = [\"gender\"]\n",
    "CAT_VARS_4_MOST_FREQ = [\"race\"]\n",
    "\n",
    "# impute missing values with \"missing\"\n",
    "CATEGORICAL_VARS_WITH_NA_MISSING = [\"industry\",\"state\",\"city\",\"education\",\"gender\",\"race\"]\n",
    "\n",
    "# variable mappings (string to integer encoding)\n",
    "EXPERIENCE_VARS = [\"overall_experience\",\"in_field_experience\"]\n",
    "AGE_VARS = [\"age_category\"]\n",
    "\n",
    "# one-hot encoding\n",
    "NOMINAL_VARIABLES = [\"industry\",\"state\",\"city\",\"gender\",\"race\",\"education\"]\n",
    "\n",
    "# Fit Gradient boosted tree and random forest models\n",
    "EXECUTE = True"
   ]
  },
  {
   "cell_type": "markdown",
   "id": "5d0e6c15",
   "metadata": {},
   "source": [
    "## Helper functions\n",
    "- Will be placed in a separate module later on"
   ]
  },
  {
   "cell_type": "code",
   "execution_count": 4,
   "id": "051811c1",
   "metadata": {},
   "outputs": [],
   "source": [
    "def parse_num_get_levels(df,col):\n",
    "    ordered_levels = (df[col]\n",
    "    .value_counts()\n",
    "    .reset_index()\n",
    "    .rename(columns={'index':'levels'})\n",
    "     # extract the first one (or more) digits\n",
    "    .assign(num_levels=lambda x: x.levels.str.extract(r'(\\d+)').astype(int))\n",
    "    .sort_values(\"num_levels\")\n",
    "    .levels\n",
    "    .tolist())\n",
    "    \n",
    "    # create categorical type\n",
    "    categorical_type =  pd.api.types.CategoricalDtype(\n",
    "    categories=ordered_levels,\n",
    "    ordered=True)\n",
    "    \n",
    "    # convert col to ordered categorical type\n",
    "    df[col] = df[col].astype(categorical_type)"
   ]
  },
  {
   "cell_type": "code",
   "execution_count": 5,
   "id": "c21de67b",
   "metadata": {},
   "outputs": [],
   "source": [
    "def remove_outlier(df_in, col_name, lwr_bound =None, upr_bound=None):\n",
    "    q1 = df_in[col_name].quantile(0.25)\n",
    "    q3 = df_in[col_name].quantile(0.75)\n",
    "    iqr = q3-q1 #Interquartile range\n",
    "    \n",
    "    if lwr_bound is None:\n",
    "        lwr_bound  = q1-1.5*iqr\n",
    "    \n",
    "    if upr_bound is None:\n",
    "        upr_bound = q3+1.5*iqr\n",
    "    \n",
    "    df_out = df_in.loc[(df_in[col_name] > lwr_bound) & (df_in[col_name] < upr_bound)]\n",
    "    return df_out"
   ]
  },
  {
   "cell_type": "markdown",
   "id": "c0e52bc0",
   "metadata": {},
   "source": [
    "### Custom transformer\n",
    "- Map string levels to numeric levels"
   ]
  },
  {
   "cell_type": "code",
   "execution_count": 6,
   "id": "9a6c5e32",
   "metadata": {},
   "outputs": [],
   "source": [
    "from sklearn.base import BaseEstimator, TransformerMixin\n",
    "\n",
    "# Categorical variables encoding (the encoding of categorical variables that already have ordered\n",
    "# levels from strings to numeric)\n",
    "\n",
    "class Mapper(BaseEstimator, TransformerMixin):\n",
    "    \"\"\"\n",
    "    Constructor\n",
    "\n",
    "    Args:\n",
    "        variables (List[str]): a list of variables to be recoded (specified by user)\n",
    "        mappings (dict): a dictionary of mappings from old to new encoding\n",
    "\n",
    "    Returns:\n",
    "        void\n",
    "    \"\"\"\n",
    "\n",
    "    def __init__(self, variables, mappings):\n",
    "\n",
    "        # Error handling: check to ensure variables is a list\n",
    "        if not isinstance(variables, list):\n",
    "            raise ValueError('variables should be a list')\n",
    "\n",
    "        # Error handling: check to ensure variables is a dict\n",
    "        if not isinstance(mappings, dict):\n",
    "            raise ValueError('mapping should be a dictionary')\n",
    "\n",
    "        # set attributes at instantiation of class\n",
    "        self.variables = variables\n",
    "        self.mappings = mappings\n",
    "\n",
    "    def fit(self, X,\n",
    "            y=None):  # need to have y as argument to make class compatible with sklearn pipeline\n",
    "        \"\"\" Fit\n",
    "\n",
    "        Args:\n",
    "            X (DataFrame): a input dataframe of features to train the transformer\n",
    "            y (DataFrame): a input Series of response variable to train the transformer (optional)\n",
    "\n",
    "        Returns:\n",
    "            self\n",
    "        \"\"\"\n",
    "        # We don't need to learn any parameters for this transformer. Nonetheless, we still need\n",
    "        # to include a fit method so that the Transformer class would be compatible to sklearn\n",
    "\n",
    "        return self\n",
    "\n",
    "    def transform(self, X):\n",
    "        \"\"\" Transform\n",
    "\n",
    "        Args:\n",
    "            X (DataFrame): a input dataframe of features to be transformed\n",
    "\n",
    "        Returns:\n",
    "            X (DataFrame): the transformed Dataframe of features\n",
    "        \"\"\"\n",
    "\n",
    "        # Make a copy of the input Dataframe of features to be transformed\n",
    "        # so we won't overwrite the original Dataframe that was passed as argument\n",
    "        X = X.copy()\n",
    "\n",
    "        # Perform recoding of the levels of var\n",
    "        for var in self.variables:\n",
    "            X[var] = X[var].map(self.mappings)\n",
    "\n",
    "        return X"
   ]
  },
  {
   "cell_type": "markdown",
   "id": "a9cd4cc9",
   "metadata": {},
   "source": [
    "## Import data"
   ]
  },
  {
   "cell_type": "code",
   "execution_count": 7,
   "id": "5ac6f950",
   "metadata": {},
   "outputs": [],
   "source": [
    "survey = pd.read_csv(Path(RAW_DATA_DIR,\"survey.csv\"))"
   ]
  },
  {
   "cell_type": "code",
   "execution_count": 11,
   "id": "87d8cef7",
   "metadata": {},
   "outputs": [],
   "source": [
    "# We will only focus on respondents (>83% of them) that are paid in USD\n",
    "survey_usd = survey.loc[survey[\"currency\"]=='USD'].copy()"
   ]
  },
  {
   "cell_type": "code",
   "execution_count": 12,
   "id": "776fbc8e",
   "metadata": {},
   "outputs": [],
   "source": [
    "# categorical variables and numeric variables\n",
    "cat_vars = [var for var in survey_usd.columns if survey_usd[var].dtype=='O']\n",
    "num_vars = [var for var in survey_usd.columns if survey_usd[var].dtype!='O']"
   ]
  },
  {
   "cell_type": "markdown",
   "id": "f4e5873e",
   "metadata": {},
   "source": [
    "## Clean and reformat data\n",
    "- Convert timestamp to datetime\n",
    "- Reformat state, overall_experience, in_field_experience, and age, and convert these variables to ordered categorical variables\n",
    "- Rename variables\n",
    "- Remove outliers (5000,75th percentile+3*IQR)    "
   ]
  },
  {
   "cell_type": "markdown",
   "id": "154630e5",
   "metadata": {},
   "source": [
    "**These are steps that do not have to be included in a data pipeline (does not cause data leakage). Let's implement these steps here.** "
   ]
  },
  {
   "cell_type": "code",
   "execution_count": 13,
   "id": "d92d460c",
   "metadata": {},
   "outputs": [],
   "source": [
    "# Convert timestamp to datetime\n",
    "survey_usd.loc[:,'timestamp'] = survey_usd.loc[:,'timestamp'].astype('datetime64[ns]')\n",
    "\n",
    "# state\n",
    "# Only take the first state in the response and ignore the rest\n",
    "survey_usd[\"state\"]=survey_usd[\"state\"].str.split(',').str[0]\n",
    "\n",
    "# overall_years_of_professional_experience\n",
    "survey_usd['overall_years_of_professional_experience'] = (survey_usd['overall_years_of_professional_experience']\n",
    "                                                      .str\n",
    "                                                      .replace(' - ','-'))\n",
    "\n",
    "parse_num_get_levels(survey_usd,\n",
    "                     \"overall_years_of_professional_experience\")\n",
    "\n",
    "# years_of_experience_in_field\n",
    "survey_usd['years_of_experience_in_field'] = (survey_usd['years_of_experience_in_field']\n",
    "                                                      .str\n",
    "                                                      .replace(' - ','-'))\n",
    "\n",
    "parse_num_get_levels(survey_usd,\n",
    "                     \"years_of_experience_in_field\")\n",
    "\n",
    "\n",
    "# age\n",
    "\n",
    "# Need to rename the \"under 18\" level to \"17 or under\" so it can be parsed by the parse_num_get_levels() function\n",
    "survey_usd[\"how_old_are_you\"]=survey_usd[\"how_old_are_you\"].replace(to_replace = \"under 18\",\n",
    "                                                                   value=\"17 or under\")\n",
    "\n",
    "parse_num_get_levels(survey_usd,\n",
    "                     \"how_old_are_you\")\n",
    "\n",
    "# rename variables\n",
    "survey_usd=survey_usd.rename(columns={\"how_old_are_you\": \"age_category\",\n",
    "                                      \"overall_years_of_professional_experience\":\"overall_experience\",\n",
    "                                      \"years_of_experience_in_field\": \"in_field_experience\",\n",
    "                                      \"highest_level_of_education_completed\":\"education\"},                             \n",
    "                             errors=\"raise\")\n",
    "\n",
    "# Remove outliers\n",
    "survey_usd = remove_outlier(df_in = survey_usd, \n",
    "                            col_name = \"annual_salary\",\n",
    "                            lwr_bound = 5000)"
   ]
  },
  {
   "cell_type": "markdown",
   "id": "260e88fe",
   "metadata": {},
   "source": [
    "**Get a dictionary that maps the ordered levels of overall_experience (note: in_field_experience has the same levels) to an integer ordered from (0,number of levels -1). This will be used in the recoding transformer that will be used on overall_experience and in_field_experience**"
   ]
  },
  {
   "cell_type": "code",
   "execution_count": 11,
   "id": "709ddb0c",
   "metadata": {},
   "outputs": [],
   "source": [
    "temp=dict(enumerate(survey_usd['overall_experience'].cat.categories))\n",
    "\n",
    "# Set key to value and value to key as per the requirements of \n",
    "# .map() method used in Mapper transformer in preprocessing.py\n",
    "DICT_EXPERIENCE_ORDERED_LEVELS = {v: k for k, v in temp.items()}"
   ]
  },
  {
   "cell_type": "code",
   "execution_count": 12,
   "id": "5e17930f",
   "metadata": {},
   "outputs": [
    {
     "data": {
      "text/plain": [
       "{'1 year or less': 0,\n",
       " '2-4 years': 1,\n",
       " '5-7 years': 2,\n",
       " '8-10 years': 3,\n",
       " '11-20 years': 4,\n",
       " '21-30 years': 5,\n",
       " '31-40 years': 6,\n",
       " '41 years or more': 7}"
      ]
     },
     "execution_count": 12,
     "metadata": {},
     "output_type": "execute_result"
    }
   ],
   "source": [
    "DICT_EXPERIENCE_ORDERED_LEVELS"
   ]
  },
  {
   "cell_type": "markdown",
   "id": "0bf4daeb",
   "metadata": {},
   "source": [
    "**Get a dictionary that maps the ordered levels of age_category to an integer ordered from (0,number of levels -1). This will be used in the Mapper function for age.**"
   ]
  },
  {
   "cell_type": "code",
   "execution_count": 13,
   "id": "aa67fdaf",
   "metadata": {},
   "outputs": [],
   "source": [
    "temp=dict(enumerate(survey_usd['age_category'].cat.categories))\n",
    "DICT_AGE_ORDERED_LEVELS= {v: k for k, v in temp.items()}"
   ]
  },
  {
   "cell_type": "code",
   "execution_count": 14,
   "id": "19e338e4",
   "metadata": {},
   "outputs": [
    {
     "data": {
      "text/plain": [
       "{'17 or under': 0,\n",
       " '18-24': 1,\n",
       " '25-34': 2,\n",
       " '35-44': 3,\n",
       " '45-54': 4,\n",
       " '55-64': 5,\n",
       " '65 or over': 6}"
      ]
     },
     "execution_count": 14,
     "metadata": {},
     "output_type": "execute_result"
    }
   ],
   "source": [
    "DICT_AGE_ORDERED_LEVELS"
   ]
  },
  {
   "cell_type": "markdown",
   "id": "842a4f57",
   "metadata": {},
   "source": [
    "## Test train split"
   ]
  },
  {
   "cell_type": "code",
   "execution_count": 15,
   "id": "78a71528",
   "metadata": {},
   "outputs": [
    {
     "data": {
      "text/plain": [
       "((16734, 17), (4184, 17))"
      ]
     },
     "execution_count": 15,
     "metadata": {},
     "output_type": "execute_result"
    }
   ],
   "source": [
    "X_train, X_test, y_train, y_test = train_test_split(\n",
    "    survey_usd.drop([\"annual_salary\"], axis=\"columns\"), # features\n",
    "    survey_usd[\"annual_salary\"], # target\n",
    "    test_size = TEST_SIZE,\n",
    "    random_state = RANDOM\n",
    ")\n",
    "\n",
    "X_train.shape, X_test.shape"
   ]
  },
  {
   "cell_type": "markdown",
   "id": "c7e1ff31",
   "metadata": {},
   "source": [
    "**Apply log transformation on DV**"
   ]
  },
  {
   "cell_type": "code",
   "execution_count": 16,
   "id": "19cbcf96",
   "metadata": {},
   "outputs": [],
   "source": [
    "y_train = np.log(y_train)\n",
    "y_test = np.log(y_test)"
   ]
  },
  {
   "cell_type": "markdown",
   "id": "b75581a9",
   "metadata": {},
   "source": [
    "**Get data subset of selected features**"
   ]
  },
  {
   "cell_type": "code",
   "execution_count": 17,
   "id": "5bcfe16c",
   "metadata": {},
   "outputs": [],
   "source": [
    "X_train = X_train[FEATURES]\n",
    "X_test = X_test[FEATURES]"
   ]
  },
  {
   "cell_type": "markdown",
   "id": "3de7cc3e",
   "metadata": {},
   "source": [
    "## Data pipeline"
   ]
  },
  {
   "cell_type": "markdown",
   "id": "7fc8a9ba",
   "metadata": {},
   "source": [
    "- We need to impute missing values for 6 features with a new level called \"missing\".\n",
    "- Lump the rare levels of the following categorical variables to \"Other\":\n",
    "    - state\n",
    "    - city\n",
    "    - race \n",
    "    - gender \n",
    "    - industry \n",
    "- Map string encoding to integer encoding for the following ordinal variables:\n",
    "    - overall_experience\n",
    "    - in_field_experience\n",
    "    - age_category\n",
    "- One hot encode nominal features    "
   ]
  },
  {
   "cell_type": "code",
   "execution_count": 18,
   "id": "4cf886ac",
   "metadata": {},
   "outputs": [],
   "source": [
    "salary_pipeline = Pipeline([\n",
    "    \n",
    "    \n",
    "    # === Imputation ===\n",
    "    # Imputing missing values in categorical variables (with a new \"missing\" level)\n",
    "    # CategoricalImputer from feature_engine\n",
    "    ('missing_imputation', CategoricalImputer(imputation_method='missing',\n",
    "                                             variables=CATEGORICAL_VARS_WITH_NA_MISSING)),\n",
    "    \n",
    "    \n",
    "    # === Recoding categorical variables ===\n",
    "    (\"rare_label_encoder_10\", RareLabelEncoder(tol=0.01,\n",
    "                                            max_n_categories = 10,\n",
    "                                            n_categories=1,\n",
    "                                            replace_with = \"Other\",\n",
    "                                            variables = CAT_VARS_10_MOST_FREQ)),\n",
    "    \n",
    "    (\"rare_label_encoder_2\", RareLabelEncoder(tol=0.01,\n",
    "                                            max_n_categories = 2,\n",
    "                                            n_categories=1,\n",
    "                                            replace_with = \"Other\",\n",
    "                                            variables = CAT_VARS_2_MOST_FREQ)),\n",
    "    \n",
    "    (\"rare_label_encoder_4\", RareLabelEncoder(tol=0.01,\n",
    "                                            max_n_categories = 4,\n",
    "                                            n_categories=1,\n",
    "                                            replace_with = \"Other\",\n",
    "                                            variables = CAT_VARS_4_MOST_FREQ)),\n",
    "    \n",
    "    # === Recoding categorical variables with ordered level ===\n",
    "    \n",
    "    # Recode categorical variables with ordered level: map from string encoding to numeric encoding\n",
    "    # Use custom class from 'preprocessing.py' Mappers\n",
    "    ('mapper_exp',Mapper(\n",
    "        variables=EXPERIENCE_VARS, mappings=DICT_EXPERIENCE_ORDERED_LEVELS)),\n",
    "\n",
    "    ('mapper_age', Mapper(\n",
    "        variables=AGE_VARS, mappings=DICT_AGE_ORDERED_LEVELS)),\n",
    "    \n",
    "     # === One-hot enccode nominal variables ===\n",
    "    ('one_hot_encoder', OneHotEncoder(drop_last=True, # avoid dummy variable trap\n",
    "                                      variables = NOMINAL_VARIABLES))\n",
    "    \n",
    "\n",
    "])                    "
   ]
  },
  {
   "cell_type": "code",
   "execution_count": 19,
   "id": "5a18c20d",
   "metadata": {},
   "outputs": [
    {
     "data": {
      "text/html": [
       "<style>#sk-container-id-1 {color: black;background-color: white;}#sk-container-id-1 pre{padding: 0;}#sk-container-id-1 div.sk-toggleable {background-color: white;}#sk-container-id-1 label.sk-toggleable__label {cursor: pointer;display: block;width: 100%;margin-bottom: 0;padding: 0.3em;box-sizing: border-box;text-align: center;}#sk-container-id-1 label.sk-toggleable__label-arrow:before {content: \"▸\";float: left;margin-right: 0.25em;color: #696969;}#sk-container-id-1 label.sk-toggleable__label-arrow:hover:before {color: black;}#sk-container-id-1 div.sk-estimator:hover label.sk-toggleable__label-arrow:before {color: black;}#sk-container-id-1 div.sk-toggleable__content {max-height: 0;max-width: 0;overflow: hidden;text-align: left;background-color: #f0f8ff;}#sk-container-id-1 div.sk-toggleable__content pre {margin: 0.2em;color: black;border-radius: 0.25em;background-color: #f0f8ff;}#sk-container-id-1 input.sk-toggleable__control:checked~div.sk-toggleable__content {max-height: 200px;max-width: 100%;overflow: auto;}#sk-container-id-1 input.sk-toggleable__control:checked~label.sk-toggleable__label-arrow:before {content: \"▾\";}#sk-container-id-1 div.sk-estimator input.sk-toggleable__control:checked~label.sk-toggleable__label {background-color: #d4ebff;}#sk-container-id-1 div.sk-label input.sk-toggleable__control:checked~label.sk-toggleable__label {background-color: #d4ebff;}#sk-container-id-1 input.sk-hidden--visually {border: 0;clip: rect(1px 1px 1px 1px);clip: rect(1px, 1px, 1px, 1px);height: 1px;margin: -1px;overflow: hidden;padding: 0;position: absolute;width: 1px;}#sk-container-id-1 div.sk-estimator {font-family: monospace;background-color: #f0f8ff;border: 1px dotted black;border-radius: 0.25em;box-sizing: border-box;margin-bottom: 0.5em;}#sk-container-id-1 div.sk-estimator:hover {background-color: #d4ebff;}#sk-container-id-1 div.sk-parallel-item::after {content: \"\";width: 100%;border-bottom: 1px solid gray;flex-grow: 1;}#sk-container-id-1 div.sk-label:hover label.sk-toggleable__label {background-color: #d4ebff;}#sk-container-id-1 div.sk-serial::before {content: \"\";position: absolute;border-left: 1px solid gray;box-sizing: border-box;top: 0;bottom: 0;left: 50%;z-index: 0;}#sk-container-id-1 div.sk-serial {display: flex;flex-direction: column;align-items: center;background-color: white;padding-right: 0.2em;padding-left: 0.2em;position: relative;}#sk-container-id-1 div.sk-item {position: relative;z-index: 1;}#sk-container-id-1 div.sk-parallel {display: flex;align-items: stretch;justify-content: center;background-color: white;position: relative;}#sk-container-id-1 div.sk-item::before, #sk-container-id-1 div.sk-parallel-item::before {content: \"\";position: absolute;border-left: 1px solid gray;box-sizing: border-box;top: 0;bottom: 0;left: 50%;z-index: -1;}#sk-container-id-1 div.sk-parallel-item {display: flex;flex-direction: column;z-index: 1;position: relative;background-color: white;}#sk-container-id-1 div.sk-parallel-item:first-child::after {align-self: flex-end;width: 50%;}#sk-container-id-1 div.sk-parallel-item:last-child::after {align-self: flex-start;width: 50%;}#sk-container-id-1 div.sk-parallel-item:only-child::after {width: 0;}#sk-container-id-1 div.sk-dashed-wrapped {border: 1px dashed gray;margin: 0 0.4em 0.5em 0.4em;box-sizing: border-box;padding-bottom: 0.4em;background-color: white;}#sk-container-id-1 div.sk-label label {font-family: monospace;font-weight: bold;display: inline-block;line-height: 1.2em;}#sk-container-id-1 div.sk-label-container {text-align: center;}#sk-container-id-1 div.sk-container {/* jupyter's `normalize.less` sets `[hidden] { display: none; }` but bootstrap.min.css set `[hidden] { display: none !important; }` so we also need the `!important` here to be able to override the default hidden behavior on the sphinx rendered scikit-learn.org. See: https://github.com/scikit-learn/scikit-learn/issues/21755 */display: inline-block !important;position: relative;}#sk-container-id-1 div.sk-text-repr-fallback {display: none;}</style><div id=\"sk-container-id-1\" class=\"sk-top-container\"><div class=\"sk-text-repr-fallback\"><pre>Pipeline(steps=[(&#x27;missing_imputation&#x27;,\n",
       "                 CategoricalImputer(variables=[&#x27;industry&#x27;, &#x27;state&#x27;, &#x27;city&#x27;,\n",
       "                                               &#x27;education&#x27;, &#x27;gender&#x27;,\n",
       "                                               &#x27;race&#x27;])),\n",
       "                (&#x27;rare_label_encoder_10&#x27;,\n",
       "                 RareLabelEncoder(max_n_categories=10, n_categories=1,\n",
       "                                  replace_with=&#x27;Other&#x27;, tol=0.01,\n",
       "                                  variables=[&#x27;state&#x27;, &#x27;city&#x27;, &#x27;industry&#x27;])),\n",
       "                (&#x27;rare_label_encoder_2&#x27;,\n",
       "                 RareLabelEncoder(max_n_categories=2, n_categories=1,\n",
       "                                  rep...\n",
       "                                  &#x27;31-40 years&#x27;: 6, &#x27;41 years or more&#x27;: 7,\n",
       "                                  &#x27;5-7 years&#x27;: 2, &#x27;8-10 years&#x27;: 3},\n",
       "                        variables=[&#x27;overall_experience&#x27;,\n",
       "                                   &#x27;in_field_experience&#x27;])),\n",
       "                (&#x27;mapper_age&#x27;,\n",
       "                 Mapper(mappings={&#x27;17 or under&#x27;: 0, &#x27;18-24&#x27;: 1, &#x27;25-34&#x27;: 2,\n",
       "                                  &#x27;35-44&#x27;: 3, &#x27;45-54&#x27;: 4, &#x27;55-64&#x27;: 5,\n",
       "                                  &#x27;65 or over&#x27;: 6},\n",
       "                        variables=[&#x27;age_category&#x27;])),\n",
       "                (&#x27;one_hot_encoder&#x27;,\n",
       "                 OneHotEncoder(drop_last=True,\n",
       "                               variables=[&#x27;industry&#x27;, &#x27;state&#x27;, &#x27;city&#x27;, &#x27;gender&#x27;,\n",
       "                                          &#x27;race&#x27;, &#x27;education&#x27;]))])</pre><b>In a Jupyter environment, please rerun this cell to show the HTML representation or trust the notebook. <br />On GitHub, the HTML representation is unable to render, please try loading this page with nbviewer.org.</b></div><div class=\"sk-container\" hidden><div class=\"sk-item sk-dashed-wrapped\"><div class=\"sk-label-container\"><div class=\"sk-label sk-toggleable\"><input class=\"sk-toggleable__control sk-hidden--visually\" id=\"sk-estimator-id-1\" type=\"checkbox\" ><label for=\"sk-estimator-id-1\" class=\"sk-toggleable__label sk-toggleable__label-arrow\">Pipeline</label><div class=\"sk-toggleable__content\"><pre>Pipeline(steps=[(&#x27;missing_imputation&#x27;,\n",
       "                 CategoricalImputer(variables=[&#x27;industry&#x27;, &#x27;state&#x27;, &#x27;city&#x27;,\n",
       "                                               &#x27;education&#x27;, &#x27;gender&#x27;,\n",
       "                                               &#x27;race&#x27;])),\n",
       "                (&#x27;rare_label_encoder_10&#x27;,\n",
       "                 RareLabelEncoder(max_n_categories=10, n_categories=1,\n",
       "                                  replace_with=&#x27;Other&#x27;, tol=0.01,\n",
       "                                  variables=[&#x27;state&#x27;, &#x27;city&#x27;, &#x27;industry&#x27;])),\n",
       "                (&#x27;rare_label_encoder_2&#x27;,\n",
       "                 RareLabelEncoder(max_n_categories=2, n_categories=1,\n",
       "                                  rep...\n",
       "                                  &#x27;31-40 years&#x27;: 6, &#x27;41 years or more&#x27;: 7,\n",
       "                                  &#x27;5-7 years&#x27;: 2, &#x27;8-10 years&#x27;: 3},\n",
       "                        variables=[&#x27;overall_experience&#x27;,\n",
       "                                   &#x27;in_field_experience&#x27;])),\n",
       "                (&#x27;mapper_age&#x27;,\n",
       "                 Mapper(mappings={&#x27;17 or under&#x27;: 0, &#x27;18-24&#x27;: 1, &#x27;25-34&#x27;: 2,\n",
       "                                  &#x27;35-44&#x27;: 3, &#x27;45-54&#x27;: 4, &#x27;55-64&#x27;: 5,\n",
       "                                  &#x27;65 or over&#x27;: 6},\n",
       "                        variables=[&#x27;age_category&#x27;])),\n",
       "                (&#x27;one_hot_encoder&#x27;,\n",
       "                 OneHotEncoder(drop_last=True,\n",
       "                               variables=[&#x27;industry&#x27;, &#x27;state&#x27;, &#x27;city&#x27;, &#x27;gender&#x27;,\n",
       "                                          &#x27;race&#x27;, &#x27;education&#x27;]))])</pre></div></div></div><div class=\"sk-serial\"><div class=\"sk-item\"><div class=\"sk-estimator sk-toggleable\"><input class=\"sk-toggleable__control sk-hidden--visually\" id=\"sk-estimator-id-2\" type=\"checkbox\" ><label for=\"sk-estimator-id-2\" class=\"sk-toggleable__label sk-toggleable__label-arrow\">CategoricalImputer</label><div class=\"sk-toggleable__content\"><pre>CategoricalImputer(variables=[&#x27;industry&#x27;, &#x27;state&#x27;, &#x27;city&#x27;, &#x27;education&#x27;,\n",
       "                              &#x27;gender&#x27;, &#x27;race&#x27;])</pre></div></div></div><div class=\"sk-item\"><div class=\"sk-estimator sk-toggleable\"><input class=\"sk-toggleable__control sk-hidden--visually\" id=\"sk-estimator-id-3\" type=\"checkbox\" ><label for=\"sk-estimator-id-3\" class=\"sk-toggleable__label sk-toggleable__label-arrow\">RareLabelEncoder</label><div class=\"sk-toggleable__content\"><pre>RareLabelEncoder(max_n_categories=10, n_categories=1, replace_with=&#x27;Other&#x27;,\n",
       "                 tol=0.01, variables=[&#x27;state&#x27;, &#x27;city&#x27;, &#x27;industry&#x27;])</pre></div></div></div><div class=\"sk-item\"><div class=\"sk-estimator sk-toggleable\"><input class=\"sk-toggleable__control sk-hidden--visually\" id=\"sk-estimator-id-4\" type=\"checkbox\" ><label for=\"sk-estimator-id-4\" class=\"sk-toggleable__label sk-toggleable__label-arrow\">RareLabelEncoder</label><div class=\"sk-toggleable__content\"><pre>RareLabelEncoder(max_n_categories=2, n_categories=1, replace_with=&#x27;Other&#x27;,\n",
       "                 tol=0.01, variables=[&#x27;gender&#x27;])</pre></div></div></div><div class=\"sk-item\"><div class=\"sk-estimator sk-toggleable\"><input class=\"sk-toggleable__control sk-hidden--visually\" id=\"sk-estimator-id-5\" type=\"checkbox\" ><label for=\"sk-estimator-id-5\" class=\"sk-toggleable__label sk-toggleable__label-arrow\">RareLabelEncoder</label><div class=\"sk-toggleable__content\"><pre>RareLabelEncoder(max_n_categories=4, n_categories=1, replace_with=&#x27;Other&#x27;,\n",
       "                 tol=0.01, variables=[&#x27;race&#x27;])</pre></div></div></div><div class=\"sk-item\"><div class=\"sk-estimator sk-toggleable\"><input class=\"sk-toggleable__control sk-hidden--visually\" id=\"sk-estimator-id-6\" type=\"checkbox\" ><label for=\"sk-estimator-id-6\" class=\"sk-toggleable__label sk-toggleable__label-arrow\">Mapper</label><div class=\"sk-toggleable__content\"><pre>Mapper(mappings={&#x27;1 year or less&#x27;: 0, &#x27;11-20 years&#x27;: 4, &#x27;2-4 years&#x27;: 1,\n",
       "                 &#x27;21-30 years&#x27;: 5, &#x27;31-40 years&#x27;: 6, &#x27;41 years or more&#x27;: 7,\n",
       "                 &#x27;5-7 years&#x27;: 2, &#x27;8-10 years&#x27;: 3},\n",
       "       variables=[&#x27;overall_experience&#x27;, &#x27;in_field_experience&#x27;])</pre></div></div></div><div class=\"sk-item\"><div class=\"sk-estimator sk-toggleable\"><input class=\"sk-toggleable__control sk-hidden--visually\" id=\"sk-estimator-id-7\" type=\"checkbox\" ><label for=\"sk-estimator-id-7\" class=\"sk-toggleable__label sk-toggleable__label-arrow\">Mapper</label><div class=\"sk-toggleable__content\"><pre>Mapper(mappings={&#x27;17 or under&#x27;: 0, &#x27;18-24&#x27;: 1, &#x27;25-34&#x27;: 2, &#x27;35-44&#x27;: 3,\n",
       "                 &#x27;45-54&#x27;: 4, &#x27;55-64&#x27;: 5, &#x27;65 or over&#x27;: 6},\n",
       "       variables=[&#x27;age_category&#x27;])</pre></div></div></div><div class=\"sk-item\"><div class=\"sk-estimator sk-toggleable\"><input class=\"sk-toggleable__control sk-hidden--visually\" id=\"sk-estimator-id-8\" type=\"checkbox\" ><label for=\"sk-estimator-id-8\" class=\"sk-toggleable__label sk-toggleable__label-arrow\">OneHotEncoder</label><div class=\"sk-toggleable__content\"><pre>OneHotEncoder(drop_last=True,\n",
       "              variables=[&#x27;industry&#x27;, &#x27;state&#x27;, &#x27;city&#x27;, &#x27;gender&#x27;, &#x27;race&#x27;,\n",
       "                         &#x27;education&#x27;])</pre></div></div></div></div></div></div></div>"
      ],
      "text/plain": [
       "Pipeline(steps=[('missing_imputation',\n",
       "                 CategoricalImputer(variables=['industry', 'state', 'city',\n",
       "                                               'education', 'gender',\n",
       "                                               'race'])),\n",
       "                ('rare_label_encoder_10',\n",
       "                 RareLabelEncoder(max_n_categories=10, n_categories=1,\n",
       "                                  replace_with='Other', tol=0.01,\n",
       "                                  variables=['state', 'city', 'industry'])),\n",
       "                ('rare_label_encoder_2',\n",
       "                 RareLabelEncoder(max_n_categories=2, n_categories=1,\n",
       "                                  rep...\n",
       "                                  '31-40 years': 6, '41 years or more': 7,\n",
       "                                  '5-7 years': 2, '8-10 years': 3},\n",
       "                        variables=['overall_experience',\n",
       "                                   'in_field_experience'])),\n",
       "                ('mapper_age',\n",
       "                 Mapper(mappings={'17 or under': 0, '18-24': 1, '25-34': 2,\n",
       "                                  '35-44': 3, '45-54': 4, '55-64': 5,\n",
       "                                  '65 or over': 6},\n",
       "                        variables=['age_category'])),\n",
       "                ('one_hot_encoder',\n",
       "                 OneHotEncoder(drop_last=True,\n",
       "                               variables=['industry', 'state', 'city', 'gender',\n",
       "                                          'race', 'education']))])"
      ]
     },
     "execution_count": 19,
     "metadata": {},
     "output_type": "execute_result"
    }
   ],
   "source": [
    "# Fit pipeline to train data\n",
    "salary_pipeline.fit(X_train,y_train)"
   ]
  },
  {
   "cell_type": "markdown",
   "id": "91fe176f",
   "metadata": {},
   "source": [
    "## Save the processed data"
   ]
  },
  {
   "cell_type": "code",
   "execution_count": 20,
   "id": "f8478b0c",
   "metadata": {},
   "outputs": [],
   "source": [
    "# Transform X_train and X_test with the fitted pipeline\n",
    "X_train = salary_pipeline.transform(X_train)\n",
    "X_test = salary_pipeline.transform(X_test)"
   ]
  },
  {
   "cell_type": "code",
   "execution_count": 21,
   "id": "298bc017",
   "metadata": {},
   "outputs": [],
   "source": [
    "feature_columns = X_train.columns.values # save the column names of the processed X_train data."
   ]
  },
  {
   "cell_type": "code",
   "execution_count": 22,
   "id": "86206392",
   "metadata": {},
   "outputs": [],
   "source": [
    "# Save the processed X_train, X_test, y_train and y_test\n",
    "X_train.to_csv(Path(PROCESSED_DATA_DIR,\"X_train.csv\"))\n",
    "X_test.to_csv(Path(PROCESSED_DATA_DIR,\"X_test.csv\"))\n",
    "\n",
    "y_train.to_csv(Path(PROCESSED_DATA_DIR,\"y_train.csv\"))\n",
    "y_test.to_csv(Path(PROCESSED_DATA_DIR,\"y_test.csv\"))"
   ]
  },
  {
   "cell_type": "markdown",
   "id": "1b9ed14e",
   "metadata": {},
   "source": [
    "## Up to this point, all the code is same as \"02-salary_survey_analysis\" notebook. From this point on, we will explore different ways to train and evaluate models."
   ]
  },
  {
   "cell_type": "code",
   "execution_count": null,
   "id": "28517a84",
   "metadata": {},
   "outputs": [],
   "source": []
  },
  {
   "cell_type": "markdown",
   "id": "c9015662",
   "metadata": {},
   "source": [
    "# Modelling"
   ]
  },
  {
   "cell_type": "code",
   "execution_count": 23,
   "id": "74438637",
   "metadata": {},
   "outputs": [],
   "source": [
    "'''models'''\n",
    "from sklearn.dummy import DummyRegressor\n",
    "from sklearn.linear_model import LinearRegression, Lasso\n",
    "from sklearn.ensemble import RandomForestRegressor, GradientBoostingRegressor\n",
    "\n",
    "'''performance evaluation'''\n",
    "from sklearn.metrics import mean_squared_error,mean_absolute_error,r2_score\n",
    "from sklearn.model_selection import cross_val_score\n",
    "from sklearn.model_selection import RandomizedSearchCV,GridSearchCV\n",
    "\n",
    "'''others'''\n",
    "from random import sample # randomly sample elements from a list\n",
    "import joblib # persist models"
   ]
  },
  {
   "cell_type": "markdown",
   "id": "02331c36",
   "metadata": {},
   "source": [
    "## 00- Baseline model\n",
    "- A naive guess of what the employee salary are. We make the same predictions for each employee-- the median salary across all employees in the train (and test) data.\n",
    "- Having a baseline prediction will allow us to see how much of an improvement I can get if I use an statistical learning approach. If the improvement is very small, then perhaps statistical learning is not a suitable approach for this problem."
   ]
  },
  {
   "cell_type": "code",
   "execution_count": 24,
   "id": "7eae2f5a",
   "metadata": {
    "scrolled": true
   },
   "outputs": [
    {
     "data": {
      "text/plain": [
       "0    11.240867\n",
       "0    11.240867\n",
       "0    11.240867\n",
       "0    11.240867\n",
       "0    11.240867\n",
       "       ...    \n",
       "0    11.240867\n",
       "0    11.240867\n",
       "0    11.240867\n",
       "0    11.240867\n",
       "0    11.240867\n",
       "Length: 4184, dtype: float64"
      ]
     },
     "execution_count": 24,
     "metadata": {},
     "output_type": "execute_result"
    }
   ],
   "source": [
    "baseline_pred = np.median(np.log(survey_usd[\"annual_salary\"]))\n",
    "# make this into a pd.Series with the same length as y_test\n",
    "y_pred_baseline = pd.Series(baseline_pred).repeat(y_test.shape[0])\n",
    "y_pred_baseline"
   ]
  },
  {
   "cell_type": "code",
   "execution_count": 25,
   "id": "ae053bd0",
   "metadata": {
    "scrolled": true
   },
   "outputs": [
    {
     "name": "stdout",
     "output_type": "stream",
     "text": [
      "The rmse of the baseline model is 0.47\n"
     ]
    }
   ],
   "source": [
    "print(f\"The rmse of the baseline model is {round(mean_squared_error(y_test,y_pred_baseline, squared=False),2)}\")"
   ]
  },
  {
   "cell_type": "markdown",
   "id": "e454ccd5",
   "metadata": {},
   "source": [
    "**Alternatively, use sklearn.DummyRegressor**"
   ]
  },
  {
   "cell_type": "code",
   "execution_count": 26,
   "id": "1a2c05a4",
   "metadata": {},
   "outputs": [
    {
     "data": {
      "text/html": [
       "<style>#sk-container-id-2 {color: black;background-color: white;}#sk-container-id-2 pre{padding: 0;}#sk-container-id-2 div.sk-toggleable {background-color: white;}#sk-container-id-2 label.sk-toggleable__label {cursor: pointer;display: block;width: 100%;margin-bottom: 0;padding: 0.3em;box-sizing: border-box;text-align: center;}#sk-container-id-2 label.sk-toggleable__label-arrow:before {content: \"▸\";float: left;margin-right: 0.25em;color: #696969;}#sk-container-id-2 label.sk-toggleable__label-arrow:hover:before {color: black;}#sk-container-id-2 div.sk-estimator:hover label.sk-toggleable__label-arrow:before {color: black;}#sk-container-id-2 div.sk-toggleable__content {max-height: 0;max-width: 0;overflow: hidden;text-align: left;background-color: #f0f8ff;}#sk-container-id-2 div.sk-toggleable__content pre {margin: 0.2em;color: black;border-radius: 0.25em;background-color: #f0f8ff;}#sk-container-id-2 input.sk-toggleable__control:checked~div.sk-toggleable__content {max-height: 200px;max-width: 100%;overflow: auto;}#sk-container-id-2 input.sk-toggleable__control:checked~label.sk-toggleable__label-arrow:before {content: \"▾\";}#sk-container-id-2 div.sk-estimator input.sk-toggleable__control:checked~label.sk-toggleable__label {background-color: #d4ebff;}#sk-container-id-2 div.sk-label input.sk-toggleable__control:checked~label.sk-toggleable__label {background-color: #d4ebff;}#sk-container-id-2 input.sk-hidden--visually {border: 0;clip: rect(1px 1px 1px 1px);clip: rect(1px, 1px, 1px, 1px);height: 1px;margin: -1px;overflow: hidden;padding: 0;position: absolute;width: 1px;}#sk-container-id-2 div.sk-estimator {font-family: monospace;background-color: #f0f8ff;border: 1px dotted black;border-radius: 0.25em;box-sizing: border-box;margin-bottom: 0.5em;}#sk-container-id-2 div.sk-estimator:hover {background-color: #d4ebff;}#sk-container-id-2 div.sk-parallel-item::after {content: \"\";width: 100%;border-bottom: 1px solid gray;flex-grow: 1;}#sk-container-id-2 div.sk-label:hover label.sk-toggleable__label {background-color: #d4ebff;}#sk-container-id-2 div.sk-serial::before {content: \"\";position: absolute;border-left: 1px solid gray;box-sizing: border-box;top: 0;bottom: 0;left: 50%;z-index: 0;}#sk-container-id-2 div.sk-serial {display: flex;flex-direction: column;align-items: center;background-color: white;padding-right: 0.2em;padding-left: 0.2em;position: relative;}#sk-container-id-2 div.sk-item {position: relative;z-index: 1;}#sk-container-id-2 div.sk-parallel {display: flex;align-items: stretch;justify-content: center;background-color: white;position: relative;}#sk-container-id-2 div.sk-item::before, #sk-container-id-2 div.sk-parallel-item::before {content: \"\";position: absolute;border-left: 1px solid gray;box-sizing: border-box;top: 0;bottom: 0;left: 50%;z-index: -1;}#sk-container-id-2 div.sk-parallel-item {display: flex;flex-direction: column;z-index: 1;position: relative;background-color: white;}#sk-container-id-2 div.sk-parallel-item:first-child::after {align-self: flex-end;width: 50%;}#sk-container-id-2 div.sk-parallel-item:last-child::after {align-self: flex-start;width: 50%;}#sk-container-id-2 div.sk-parallel-item:only-child::after {width: 0;}#sk-container-id-2 div.sk-dashed-wrapped {border: 1px dashed gray;margin: 0 0.4em 0.5em 0.4em;box-sizing: border-box;padding-bottom: 0.4em;background-color: white;}#sk-container-id-2 div.sk-label label {font-family: monospace;font-weight: bold;display: inline-block;line-height: 1.2em;}#sk-container-id-2 div.sk-label-container {text-align: center;}#sk-container-id-2 div.sk-container {/* jupyter's `normalize.less` sets `[hidden] { display: none; }` but bootstrap.min.css set `[hidden] { display: none !important; }` so we also need the `!important` here to be able to override the default hidden behavior on the sphinx rendered scikit-learn.org. See: https://github.com/scikit-learn/scikit-learn/issues/21755 */display: inline-block !important;position: relative;}#sk-container-id-2 div.sk-text-repr-fallback {display: none;}</style><div id=\"sk-container-id-2\" class=\"sk-top-container\"><div class=\"sk-text-repr-fallback\"><pre>DummyRegressor(strategy=&#x27;median&#x27;)</pre><b>In a Jupyter environment, please rerun this cell to show the HTML representation or trust the notebook. <br />On GitHub, the HTML representation is unable to render, please try loading this page with nbviewer.org.</b></div><div class=\"sk-container\" hidden><div class=\"sk-item\"><div class=\"sk-estimator sk-toggleable\"><input class=\"sk-toggleable__control sk-hidden--visually\" id=\"sk-estimator-id-9\" type=\"checkbox\" checked><label for=\"sk-estimator-id-9\" class=\"sk-toggleable__label sk-toggleable__label-arrow\">DummyRegressor</label><div class=\"sk-toggleable__content\"><pre>DummyRegressor(strategy=&#x27;median&#x27;)</pre></div></div></div></div></div>"
      ],
      "text/plain": [
       "DummyRegressor(strategy='median')"
      ]
     },
     "execution_count": 26,
     "metadata": {},
     "output_type": "execute_result"
    }
   ],
   "source": [
    "# Init the dummy regressor\n",
    "dummy_regr = DummyRegressor(strategy=\"median\")\n",
    "# Train the model\n",
    "dummy_regr.fit(X_train, y_train)"
   ]
  },
  {
   "cell_type": "code",
   "execution_count": 27,
   "id": "51e82c2f",
   "metadata": {},
   "outputs": [
    {
     "name": "stdout",
     "output_type": "stream",
     "text": [
      "The rmse of the baseline model is 0.47.\n"
     ]
    }
   ],
   "source": [
    "# Make predictions and get baseline performance\n",
    "y_pred_baseline=dummy_regr.predict(X_test)\n",
    "print(f\"The rmse of the baseline model is {round(mean_squared_error(y_test,y_pred_baseline, squared=False),2)}.\")"
   ]
  },
  {
   "cell_type": "markdown",
   "id": "9d0299e9",
   "metadata": {},
   "source": [
    "## 1.1 Linear regression model with no tuning (validation approach)\n",
    "- Linear regression model\n",
    "- Evaluate model performance with the validation set approach: estimate the test metric using the test (aka validation) set.\n",
    "- In general, rather than calculating multiple metrics and trying to determine how important each one is, we should use a single metric. Except for the Linear regression model, henceforth, we will use rmse as our evaluation metric.\n",
    "    - NOTE: RMSE (aka SER): provides the absolute measure of the \"typical distance\" that the data points fall from the regression line. It is in the units of the dependent variable.\n",
    "    - Interpretation of RMSE or MAE if the dependent variable is log transformed: it is (roughly) the typical percentage deviation away from the geometric mean of the DV, conditional on the IVs\n",
    "    - https://stats.stackexchange.com/questions/314490/regression-rmse-when-dependent-variable-is-log-transformed"
   ]
  },
  {
   "cell_type": "code",
   "execution_count": 28,
   "id": "b35e4a42",
   "metadata": {},
   "outputs": [],
   "source": [
    "# Init model\n",
    "reg = LinearRegression()\n",
    "\n",
    "# Train model\n",
    "reg.fit(X_train, y_train)\n",
    "\n",
    "# use the trained model to predict log employee salary from X_test\n",
    "y_pred = reg.predict(X_test)"
   ]
  },
  {
   "cell_type": "code",
   "execution_count": 29,
   "id": "e683d074",
   "metadata": {},
   "outputs": [
    {
     "data": {
      "text/plain": [
       "array([11.16440194, 11.52152978, 10.84067777, ..., 11.28744253,\n",
       "       11.87515363, 11.21895769])"
      ]
     },
     "execution_count": 29,
     "metadata": {},
     "output_type": "execute_result"
    }
   ],
   "source": [
    "y_pred"
   ]
  },
  {
   "cell_type": "markdown",
   "id": "7d8cce6d",
   "metadata": {},
   "source": [
    "**Evaluate the model**"
   ]
  },
  {
   "cell_type": "code",
   "execution_count": 30,
   "id": "3af53774",
   "metadata": {},
   "outputs": [],
   "source": [
    "# Get the estimated test metrics using validation set approach\n",
    "rmse = round(mean_squared_error(y_test,y_pred,squared=False),2)\n",
    "mae= round(mean_absolute_error(y_test, y_pred),2)\n",
    "r2 = round(r2_score(y_test,y_pred),2)\n",
    "r2_adj = round(1 - (1-r2)*(len(y_test)-1)/(len(y_test)-X_test.shape[1]-1),2)"
   ]
  },
  {
   "cell_type": "code",
   "execution_count": 31,
   "id": "fd7db830",
   "metadata": {},
   "outputs": [
    {
     "name": "stdout",
     "output_type": "stream",
     "text": [
      " rmse: 0.36 \n",
      " mae: 0.27 \n",
      " r2: 0.41 \n",
      " r2_adj: 0.4\n"
     ]
    }
   ],
   "source": [
    "print(f\" rmse: {rmse} \\n mae: {mae} \\n r2: {r2} \\n r2_adj: {r2_adj}\")"
   ]
  },
  {
   "cell_type": "code",
   "execution_count": 32,
   "id": "12704e7d",
   "metadata": {},
   "outputs": [
    {
     "data": {
      "text/plain": [
       "['/Users/hfung/Documents/PycharmProjects/practice_projects/salary_survey_analysis/models/linear_regression.joblib']"
      ]
     },
     "execution_count": 32,
     "metadata": {},
     "output_type": "execute_result"
    }
   ],
   "source": [
    "# Persist model\n",
    "joblib.dump(reg, Path(ROOT_DIR,\"models\",\"linear_regression.joblib\")) "
   ]
  },
  {
   "cell_type": "markdown",
   "id": "6c5f2869",
   "metadata": {},
   "source": [
    "**The typical percentage deviation of each data point from the geometric mean of annual salary is 100*(1-exp(0.36)) = 43%, which is lower than the baseline model (60% deviation)**"
   ]
  },
  {
   "cell_type": "markdown",
   "id": "ee059039",
   "metadata": {},
   "source": [
    "## 1.2 Linear regression model with no tuning (k-fold CV)\n",
    "- To get a better estimate of the test metric (with less bias and variance), we use 10-fold cross validation.\n",
    "- Randomly divide train observations into k folds of equal size. Use one fold as the test set and the remaining folds as the train set. Compute rmse.\n",
    "- Repeat this k times until all k folds are used as the test set. I have k rmse (aka CV scores).\n",
    "- Compute the mean CV score across all folds."
   ]
  },
  {
   "cell_type": "code",
   "execution_count": 33,
   "id": "3d944bb3",
   "metadata": {},
   "outputs": [],
   "source": [
    "# Compute CV rmse for each fold\n",
    "l_cv_rmse = cross_val_score(\n",
    "    estimator = LinearRegression(),\n",
    "    X = X_train,\n",
    "    y = y_train,\n",
    "    cv = 10,\n",
    "    scoring = \"neg_root_mean_squared_error\")  "
   ]
  },
  {
   "cell_type": "code",
   "execution_count": 34,
   "id": "b66409c1",
   "metadata": {},
   "outputs": [
    {
     "data": {
      "text/plain": [
       "array([-0.35668112, -0.34845976, -0.35222272, -0.35747606, -0.36471218,\n",
       "       -0.34201147, -0.34826188, -0.3625287 , -0.35697226, -0.35543842])"
      ]
     },
     "execution_count": 34,
     "metadata": {},
     "output_type": "execute_result"
    }
   ],
   "source": [
    "# See below for more details as to why the values are -ve\n",
    "l_cv_rmse "
   ]
  },
  {
   "cell_type": "code",
   "execution_count": 35,
   "id": "813030f2",
   "metadata": {},
   "outputs": [
    {
     "data": {
      "text/plain": [
       "-0.35"
      ]
     },
     "execution_count": 35,
     "metadata": {},
     "output_type": "execute_result"
    }
   ],
   "source": [
    "cv_rmse = round(l_cv_rmse.mean(),2)\n",
    "cv_rmse"
   ]
  },
  {
   "cell_type": "markdown",
   "id": "f6b40341",
   "metadata": {},
   "source": [
    "## 1.3 LASSO regression model with tuning (RandomSearchCV)\n",
    "- We have a grid of values for lambda (aka alpha)\n",
    "- We randomly sample X lambdas from this grid, and then train a model for each lambda and obtain its mean CV score.\n",
    "- For each value of lambda in the grid, we compute the estimated test metric from CV:\n",
    "    - Divide the train data into 10 parts, use 9 parts to train, 1 part to test, and set lambda = 0.01 (assuming this is the current lambda in the grid that we are using).\n",
    "    - Repeat this for each fold. In the end we get cv_rmse_1,...,cv_rmse_10\n",
    "    - Take the mean and we get the cv_rmse for lambda=0.1 \n",
    "- Repeat this for each randomly selected lambda from the grid. For each model (lambda), we get a cv_rmse. \n",
    "- We choose the best lambda* that produces a model with the smallest cv_rmse."
   ]
  },
  {
   "cell_type": "code",
   "execution_count": 36,
   "id": "ab107869",
   "metadata": {},
   "outputs": [
    {
     "data": {
      "text/plain": [
       "[0.04948979591836735,\n",
       " 0.06161224489795919,\n",
       " 0.02928571428571429,\n",
       " 0.059591836734693884,\n",
       " 0.01716326530612245,\n",
       " 0.07171428571428572,\n",
       " 0.035346938775510206,\n",
       " 0.0030204081632653063,\n",
       " 0.03938775510204082,\n",
       " 0.0636326530612245]"
      ]
     },
     "execution_count": 36,
     "metadata": {},
     "output_type": "execute_result"
    }
   ],
   "source": [
    "# define a range of alphas to try\n",
    "# get 50 evenly spaced values between 0.001 and 0.1 \n",
    "_alpha = [x for x in np.linspace(start = 0.001, stop = 0.1, num = 50)] \n",
    "sample(_alpha,10)"
   ]
  },
  {
   "cell_type": "code",
   "execution_count": 37,
   "id": "8154e8bd",
   "metadata": {},
   "outputs": [],
   "source": [
    "# create the grid\n",
    "random_grid = {'alpha': _alpha}\n",
    "# init the model\n",
    "reg= Lasso()"
   ]
  },
  {
   "cell_type": "code",
   "execution_count": 38,
   "id": "a8151957",
   "metadata": {},
   "outputs": [],
   "source": [
    "# Perform random search of the parameters, using a 10 fold CV to estimate the test metric for each setting.\n",
    "rand_grid_search = RandomizedSearchCV(estimator = reg,\n",
    "                                param_distributions = random_grid,\n",
    "                                n_iter = 20,  # randomly select 20 different settings to try\n",
    "                                cv = 10,       # use 10-fold CV for each setting to estimate its test metric\n",
    "                                scoring=\"neg_root_mean_squared_error\",\n",
    "                                verbose = 1, #2   # show the process\n",
    "                                n_jobs =-1,  # use all processors\n",
    "                                random_state = RANDOM)"
   ]
  },
  {
   "cell_type": "code",
   "execution_count": 39,
   "id": "e18de636",
   "metadata": {},
   "outputs": [
    {
     "name": "stdout",
     "output_type": "stream",
     "text": [
      "Fitting 10 folds for each of 20 candidates, totalling 200 fits\n"
     ]
    },
    {
     "data": {
      "text/html": [
       "<style>#sk-container-id-3 {color: black;background-color: white;}#sk-container-id-3 pre{padding: 0;}#sk-container-id-3 div.sk-toggleable {background-color: white;}#sk-container-id-3 label.sk-toggleable__label {cursor: pointer;display: block;width: 100%;margin-bottom: 0;padding: 0.3em;box-sizing: border-box;text-align: center;}#sk-container-id-3 label.sk-toggleable__label-arrow:before {content: \"▸\";float: left;margin-right: 0.25em;color: #696969;}#sk-container-id-3 label.sk-toggleable__label-arrow:hover:before {color: black;}#sk-container-id-3 div.sk-estimator:hover label.sk-toggleable__label-arrow:before {color: black;}#sk-container-id-3 div.sk-toggleable__content {max-height: 0;max-width: 0;overflow: hidden;text-align: left;background-color: #f0f8ff;}#sk-container-id-3 div.sk-toggleable__content pre {margin: 0.2em;color: black;border-radius: 0.25em;background-color: #f0f8ff;}#sk-container-id-3 input.sk-toggleable__control:checked~div.sk-toggleable__content {max-height: 200px;max-width: 100%;overflow: auto;}#sk-container-id-3 input.sk-toggleable__control:checked~label.sk-toggleable__label-arrow:before {content: \"▾\";}#sk-container-id-3 div.sk-estimator input.sk-toggleable__control:checked~label.sk-toggleable__label {background-color: #d4ebff;}#sk-container-id-3 div.sk-label input.sk-toggleable__control:checked~label.sk-toggleable__label {background-color: #d4ebff;}#sk-container-id-3 input.sk-hidden--visually {border: 0;clip: rect(1px 1px 1px 1px);clip: rect(1px, 1px, 1px, 1px);height: 1px;margin: -1px;overflow: hidden;padding: 0;position: absolute;width: 1px;}#sk-container-id-3 div.sk-estimator {font-family: monospace;background-color: #f0f8ff;border: 1px dotted black;border-radius: 0.25em;box-sizing: border-box;margin-bottom: 0.5em;}#sk-container-id-3 div.sk-estimator:hover {background-color: #d4ebff;}#sk-container-id-3 div.sk-parallel-item::after {content: \"\";width: 100%;border-bottom: 1px solid gray;flex-grow: 1;}#sk-container-id-3 div.sk-label:hover label.sk-toggleable__label {background-color: #d4ebff;}#sk-container-id-3 div.sk-serial::before {content: \"\";position: absolute;border-left: 1px solid gray;box-sizing: border-box;top: 0;bottom: 0;left: 50%;z-index: 0;}#sk-container-id-3 div.sk-serial {display: flex;flex-direction: column;align-items: center;background-color: white;padding-right: 0.2em;padding-left: 0.2em;position: relative;}#sk-container-id-3 div.sk-item {position: relative;z-index: 1;}#sk-container-id-3 div.sk-parallel {display: flex;align-items: stretch;justify-content: center;background-color: white;position: relative;}#sk-container-id-3 div.sk-item::before, #sk-container-id-3 div.sk-parallel-item::before {content: \"\";position: absolute;border-left: 1px solid gray;box-sizing: border-box;top: 0;bottom: 0;left: 50%;z-index: -1;}#sk-container-id-3 div.sk-parallel-item {display: flex;flex-direction: column;z-index: 1;position: relative;background-color: white;}#sk-container-id-3 div.sk-parallel-item:first-child::after {align-self: flex-end;width: 50%;}#sk-container-id-3 div.sk-parallel-item:last-child::after {align-self: flex-start;width: 50%;}#sk-container-id-3 div.sk-parallel-item:only-child::after {width: 0;}#sk-container-id-3 div.sk-dashed-wrapped {border: 1px dashed gray;margin: 0 0.4em 0.5em 0.4em;box-sizing: border-box;padding-bottom: 0.4em;background-color: white;}#sk-container-id-3 div.sk-label label {font-family: monospace;font-weight: bold;display: inline-block;line-height: 1.2em;}#sk-container-id-3 div.sk-label-container {text-align: center;}#sk-container-id-3 div.sk-container {/* jupyter's `normalize.less` sets `[hidden] { display: none; }` but bootstrap.min.css set `[hidden] { display: none !important; }` so we also need the `!important` here to be able to override the default hidden behavior on the sphinx rendered scikit-learn.org. See: https://github.com/scikit-learn/scikit-learn/issues/21755 */display: inline-block !important;position: relative;}#sk-container-id-3 div.sk-text-repr-fallback {display: none;}</style><div id=\"sk-container-id-3\" class=\"sk-top-container\"><div class=\"sk-text-repr-fallback\"><pre>RandomizedSearchCV(cv=10, estimator=Lasso(), n_iter=20, n_jobs=-1,\n",
       "                   param_distributions={&#x27;alpha&#x27;: [0.001, 0.0030204081632653063,\n",
       "                                                  0.0050408163265306125,\n",
       "                                                  0.007061224489795919,\n",
       "                                                  0.009081632653061226,\n",
       "                                                  0.011102040816326531,\n",
       "                                                  0.013122448979591837,\n",
       "                                                  0.015142857142857145,\n",
       "                                                  0.01716326530612245,\n",
       "                                                  0.019183673469387756,\n",
       "                                                  0.02120408163265306,\n",
       "                                                  0.02322448979591837,\n",
       "                                                  0.025244897959183676,...\n",
       "                                                  0.0333265306122449,\n",
       "                                                  0.035346938775510206,\n",
       "                                                  0.03736734693877551,\n",
       "                                                  0.03938775510204082,\n",
       "                                                  0.04140816326530612,\n",
       "                                                  0.043428571428571434,\n",
       "                                                  0.04544897959183674,\n",
       "                                                  0.047469387755102045,\n",
       "                                                  0.04948979591836735,\n",
       "                                                  0.051510204081632656,\n",
       "                                                  0.05353061224489796,\n",
       "                                                  0.05555102040816327,\n",
       "                                                  0.05757142857142858,\n",
       "                                                  0.059591836734693884, ...]},\n",
       "                   random_state=10, scoring=&#x27;neg_root_mean_squared_error&#x27;,\n",
       "                   verbose=1)</pre><b>In a Jupyter environment, please rerun this cell to show the HTML representation or trust the notebook. <br />On GitHub, the HTML representation is unable to render, please try loading this page with nbviewer.org.</b></div><div class=\"sk-container\" hidden><div class=\"sk-item sk-dashed-wrapped\"><div class=\"sk-label-container\"><div class=\"sk-label sk-toggleable\"><input class=\"sk-toggleable__control sk-hidden--visually\" id=\"sk-estimator-id-10\" type=\"checkbox\" ><label for=\"sk-estimator-id-10\" class=\"sk-toggleable__label sk-toggleable__label-arrow\">RandomizedSearchCV</label><div class=\"sk-toggleable__content\"><pre>RandomizedSearchCV(cv=10, estimator=Lasso(), n_iter=20, n_jobs=-1,\n",
       "                   param_distributions={&#x27;alpha&#x27;: [0.001, 0.0030204081632653063,\n",
       "                                                  0.0050408163265306125,\n",
       "                                                  0.007061224489795919,\n",
       "                                                  0.009081632653061226,\n",
       "                                                  0.011102040816326531,\n",
       "                                                  0.013122448979591837,\n",
       "                                                  0.015142857142857145,\n",
       "                                                  0.01716326530612245,\n",
       "                                                  0.019183673469387756,\n",
       "                                                  0.02120408163265306,\n",
       "                                                  0.02322448979591837,\n",
       "                                                  0.025244897959183676,...\n",
       "                                                  0.0333265306122449,\n",
       "                                                  0.035346938775510206,\n",
       "                                                  0.03736734693877551,\n",
       "                                                  0.03938775510204082,\n",
       "                                                  0.04140816326530612,\n",
       "                                                  0.043428571428571434,\n",
       "                                                  0.04544897959183674,\n",
       "                                                  0.047469387755102045,\n",
       "                                                  0.04948979591836735,\n",
       "                                                  0.051510204081632656,\n",
       "                                                  0.05353061224489796,\n",
       "                                                  0.05555102040816327,\n",
       "                                                  0.05757142857142858,\n",
       "                                                  0.059591836734693884, ...]},\n",
       "                   random_state=10, scoring=&#x27;neg_root_mean_squared_error&#x27;,\n",
       "                   verbose=1)</pre></div></div></div><div class=\"sk-parallel\"><div class=\"sk-parallel-item\"><div class=\"sk-item\"><div class=\"sk-label-container\"><div class=\"sk-label sk-toggleable\"><input class=\"sk-toggleable__control sk-hidden--visually\" id=\"sk-estimator-id-11\" type=\"checkbox\" ><label for=\"sk-estimator-id-11\" class=\"sk-toggleable__label sk-toggleable__label-arrow\">estimator: Lasso</label><div class=\"sk-toggleable__content\"><pre>Lasso()</pre></div></div></div><div class=\"sk-serial\"><div class=\"sk-item\"><div class=\"sk-estimator sk-toggleable\"><input class=\"sk-toggleable__control sk-hidden--visually\" id=\"sk-estimator-id-12\" type=\"checkbox\" ><label for=\"sk-estimator-id-12\" class=\"sk-toggleable__label sk-toggleable__label-arrow\">Lasso</label><div class=\"sk-toggleable__content\"><pre>Lasso()</pre></div></div></div></div></div></div></div></div></div></div>"
      ],
      "text/plain": [
       "RandomizedSearchCV(cv=10, estimator=Lasso(), n_iter=20, n_jobs=-1,\n",
       "                   param_distributions={'alpha': [0.001, 0.0030204081632653063,\n",
       "                                                  0.0050408163265306125,\n",
       "                                                  0.007061224489795919,\n",
       "                                                  0.009081632653061226,\n",
       "                                                  0.011102040816326531,\n",
       "                                                  0.013122448979591837,\n",
       "                                                  0.015142857142857145,\n",
       "                                                  0.01716326530612245,\n",
       "                                                  0.019183673469387756,\n",
       "                                                  0.02120408163265306,\n",
       "                                                  0.02322448979591837,\n",
       "                                                  0.025244897959183676,...\n",
       "                                                  0.0333265306122449,\n",
       "                                                  0.035346938775510206,\n",
       "                                                  0.03736734693877551,\n",
       "                                                  0.03938775510204082,\n",
       "                                                  0.04140816326530612,\n",
       "                                                  0.043428571428571434,\n",
       "                                                  0.04544897959183674,\n",
       "                                                  0.047469387755102045,\n",
       "                                                  0.04948979591836735,\n",
       "                                                  0.051510204081632656,\n",
       "                                                  0.05353061224489796,\n",
       "                                                  0.05555102040816327,\n",
       "                                                  0.05757142857142858,\n",
       "                                                  0.059591836734693884, ...]},\n",
       "                   random_state=10, scoring='neg_root_mean_squared_error',\n",
       "                   verbose=1)"
      ]
     },
     "execution_count": 39,
     "metadata": {},
     "output_type": "execute_result"
    }
   ],
   "source": [
    "# Fit the random search model\n",
    "rand_grid_search.fit(X_train, y_train)"
   ]
  },
  {
   "cell_type": "markdown",
   "id": "13da2896",
   "metadata": {},
   "source": [
    "**NOTE: Why rmse is negative when used in model tuning functions (need to specify 'neg_root_mean_squared_error' in : RandomizeSearchCV, GridSearchCV, and cross_val_score), but positive when I just use mean_squared_error(y_true, y_pred)?**\n",
    "- **Please see link for more details:** https://stackoverflow.com/questions/48244219/is-sklearn-metrics-mean-squared-error-the-larger-the-better-negated"
   ]
  },
  {
   "cell_type": "code",
   "execution_count": 40,
   "id": "3113731a",
   "metadata": {},
   "outputs": [
    {
     "name": "stdout",
     "output_type": "stream",
     "text": [
      "The mean CV score (rmse) of the best estimator is: 0.37096963715122805\n"
     ]
    }
   ],
   "source": [
    "print(f\"The mean CV score (rmse) of the best estimator is: {-rand_grid_search.best_score_}\")"
   ]
  },
  {
   "cell_type": "code",
   "execution_count": 41,
   "id": "6acd1aba",
   "metadata": {},
   "outputs": [
    {
     "name": "stdout",
     "output_type": "stream",
     "text": [
      "The best alpha for the LASSO model from RandomGridSearch is {'alpha': 0.0050408163265306125}\n"
     ]
    }
   ],
   "source": [
    "print(f\"The best alpha for the LASSO model from RandomGridSearch is {rand_grid_search.best_params_}\") "
   ]
  },
  {
   "cell_type": "markdown",
   "id": "91e4ef3a",
   "metadata": {},
   "source": [
    "I should hone in and fine-tune alpha by defining a grid of alphas that have very small values. I would then compute the CV score for this set of smaller alphas and find the optimal one using GridSearchCV."
   ]
  },
  {
   "cell_type": "markdown",
   "id": "0fc0a564",
   "metadata": {},
   "source": [
    "## 1.4 LASSO regression model with tuning (GridSearchCV)\n",
    "- We have a user defined grid of values for lambda (aka alpha)\n",
    "- For each value of lambda in the grid, we compute the estimated test metric from CV:\n",
    "    - Divide the train data into 10 parts, use 9 parts to train, 1 part to test, and setting lambda = 0.1 (assuming this is the current lambda in the grid that we are using).\n",
    "    - Repeat this for each fold. In the end we get cv_rmse_1,...,cv_rmse_10\n",
    "    - Take the mean and we get the cv_rmse for lambda=0.1 \n",
    "- Repeat this for all lambdas in the grid. For each model (lambda in the grid), we get a cv_rmse. \n",
    "- We choose the best lambda* that produces a model with the smallest cv_rmse.\n",
    "- Using this lambda*, we use the full train dataset to train a final \"best model\" (this is done automatically by GridSearchCV) "
   ]
  },
  {
   "cell_type": "code",
   "execution_count": 42,
   "id": "d28746ab",
   "metadata": {},
   "outputs": [
    {
     "data": {
      "text/plain": [
       "{'alpha': [0.001,\n",
       "  0.002,\n",
       "  0.003,\n",
       "  0.004,\n",
       "  0.005,\n",
       "  0.006,\n",
       "  0.007,\n",
       "  0.008,\n",
       "  0.009000000000000001]}"
      ]
     },
     "execution_count": 42,
     "metadata": {},
     "output_type": "execute_result"
    }
   ],
   "source": [
    "# Init model\n",
    "reg = Lasso()\n",
    "\n",
    "# parameter grid\n",
    "param_grid = {\"alpha\":list(np.arange(0.001,0.01, 0.001))}\n",
    "param_grid"
   ]
  },
  {
   "cell_type": "code",
   "execution_count": 43,
   "id": "1ccb83ef",
   "metadata": {},
   "outputs": [],
   "source": [
    "# Instantiate the grid search model\n",
    "grid_search = GridSearchCV(estimator = reg, \n",
    "                           param_grid = param_grid, \n",
    "                           cv = 10, \n",
    "                           scoring=\"neg_root_mean_squared_error\",\n",
    "                           verbose =1, # show the process\n",
    "                           n_jobs = -1)  # n_jobs = -1 means use all processors"
   ]
  },
  {
   "cell_type": "code",
   "execution_count": 44,
   "id": "55f1cfdd",
   "metadata": {},
   "outputs": [
    {
     "name": "stdout",
     "output_type": "stream",
     "text": [
      "Fitting 10 folds for each of 9 candidates, totalling 90 fits\n"
     ]
    },
    {
     "data": {
      "text/html": [
       "<style>#sk-container-id-4 {color: black;background-color: white;}#sk-container-id-4 pre{padding: 0;}#sk-container-id-4 div.sk-toggleable {background-color: white;}#sk-container-id-4 label.sk-toggleable__label {cursor: pointer;display: block;width: 100%;margin-bottom: 0;padding: 0.3em;box-sizing: border-box;text-align: center;}#sk-container-id-4 label.sk-toggleable__label-arrow:before {content: \"▸\";float: left;margin-right: 0.25em;color: #696969;}#sk-container-id-4 label.sk-toggleable__label-arrow:hover:before {color: black;}#sk-container-id-4 div.sk-estimator:hover label.sk-toggleable__label-arrow:before {color: black;}#sk-container-id-4 div.sk-toggleable__content {max-height: 0;max-width: 0;overflow: hidden;text-align: left;background-color: #f0f8ff;}#sk-container-id-4 div.sk-toggleable__content pre {margin: 0.2em;color: black;border-radius: 0.25em;background-color: #f0f8ff;}#sk-container-id-4 input.sk-toggleable__control:checked~div.sk-toggleable__content {max-height: 200px;max-width: 100%;overflow: auto;}#sk-container-id-4 input.sk-toggleable__control:checked~label.sk-toggleable__label-arrow:before {content: \"▾\";}#sk-container-id-4 div.sk-estimator input.sk-toggleable__control:checked~label.sk-toggleable__label {background-color: #d4ebff;}#sk-container-id-4 div.sk-label input.sk-toggleable__control:checked~label.sk-toggleable__label {background-color: #d4ebff;}#sk-container-id-4 input.sk-hidden--visually {border: 0;clip: rect(1px 1px 1px 1px);clip: rect(1px, 1px, 1px, 1px);height: 1px;margin: -1px;overflow: hidden;padding: 0;position: absolute;width: 1px;}#sk-container-id-4 div.sk-estimator {font-family: monospace;background-color: #f0f8ff;border: 1px dotted black;border-radius: 0.25em;box-sizing: border-box;margin-bottom: 0.5em;}#sk-container-id-4 div.sk-estimator:hover {background-color: #d4ebff;}#sk-container-id-4 div.sk-parallel-item::after {content: \"\";width: 100%;border-bottom: 1px solid gray;flex-grow: 1;}#sk-container-id-4 div.sk-label:hover label.sk-toggleable__label {background-color: #d4ebff;}#sk-container-id-4 div.sk-serial::before {content: \"\";position: absolute;border-left: 1px solid gray;box-sizing: border-box;top: 0;bottom: 0;left: 50%;z-index: 0;}#sk-container-id-4 div.sk-serial {display: flex;flex-direction: column;align-items: center;background-color: white;padding-right: 0.2em;padding-left: 0.2em;position: relative;}#sk-container-id-4 div.sk-item {position: relative;z-index: 1;}#sk-container-id-4 div.sk-parallel {display: flex;align-items: stretch;justify-content: center;background-color: white;position: relative;}#sk-container-id-4 div.sk-item::before, #sk-container-id-4 div.sk-parallel-item::before {content: \"\";position: absolute;border-left: 1px solid gray;box-sizing: border-box;top: 0;bottom: 0;left: 50%;z-index: -1;}#sk-container-id-4 div.sk-parallel-item {display: flex;flex-direction: column;z-index: 1;position: relative;background-color: white;}#sk-container-id-4 div.sk-parallel-item:first-child::after {align-self: flex-end;width: 50%;}#sk-container-id-4 div.sk-parallel-item:last-child::after {align-self: flex-start;width: 50%;}#sk-container-id-4 div.sk-parallel-item:only-child::after {width: 0;}#sk-container-id-4 div.sk-dashed-wrapped {border: 1px dashed gray;margin: 0 0.4em 0.5em 0.4em;box-sizing: border-box;padding-bottom: 0.4em;background-color: white;}#sk-container-id-4 div.sk-label label {font-family: monospace;font-weight: bold;display: inline-block;line-height: 1.2em;}#sk-container-id-4 div.sk-label-container {text-align: center;}#sk-container-id-4 div.sk-container {/* jupyter's `normalize.less` sets `[hidden] { display: none; }` but bootstrap.min.css set `[hidden] { display: none !important; }` so we also need the `!important` here to be able to override the default hidden behavior on the sphinx rendered scikit-learn.org. See: https://github.com/scikit-learn/scikit-learn/issues/21755 */display: inline-block !important;position: relative;}#sk-container-id-4 div.sk-text-repr-fallback {display: none;}</style><div id=\"sk-container-id-4\" class=\"sk-top-container\"><div class=\"sk-text-repr-fallback\"><pre>GridSearchCV(cv=10, estimator=Lasso(), n_jobs=-1,\n",
       "             param_grid={&#x27;alpha&#x27;: [0.001, 0.002, 0.003, 0.004, 0.005, 0.006,\n",
       "                                   0.007, 0.008, 0.009000000000000001]},\n",
       "             scoring=&#x27;neg_root_mean_squared_error&#x27;, verbose=1)</pre><b>In a Jupyter environment, please rerun this cell to show the HTML representation or trust the notebook. <br />On GitHub, the HTML representation is unable to render, please try loading this page with nbviewer.org.</b></div><div class=\"sk-container\" hidden><div class=\"sk-item sk-dashed-wrapped\"><div class=\"sk-label-container\"><div class=\"sk-label sk-toggleable\"><input class=\"sk-toggleable__control sk-hidden--visually\" id=\"sk-estimator-id-13\" type=\"checkbox\" ><label for=\"sk-estimator-id-13\" class=\"sk-toggleable__label sk-toggleable__label-arrow\">GridSearchCV</label><div class=\"sk-toggleable__content\"><pre>GridSearchCV(cv=10, estimator=Lasso(), n_jobs=-1,\n",
       "             param_grid={&#x27;alpha&#x27;: [0.001, 0.002, 0.003, 0.004, 0.005, 0.006,\n",
       "                                   0.007, 0.008, 0.009000000000000001]},\n",
       "             scoring=&#x27;neg_root_mean_squared_error&#x27;, verbose=1)</pre></div></div></div><div class=\"sk-parallel\"><div class=\"sk-parallel-item\"><div class=\"sk-item\"><div class=\"sk-label-container\"><div class=\"sk-label sk-toggleable\"><input class=\"sk-toggleable__control sk-hidden--visually\" id=\"sk-estimator-id-14\" type=\"checkbox\" ><label for=\"sk-estimator-id-14\" class=\"sk-toggleable__label sk-toggleable__label-arrow\">estimator: Lasso</label><div class=\"sk-toggleable__content\"><pre>Lasso()</pre></div></div></div><div class=\"sk-serial\"><div class=\"sk-item\"><div class=\"sk-estimator sk-toggleable\"><input class=\"sk-toggleable__control sk-hidden--visually\" id=\"sk-estimator-id-15\" type=\"checkbox\" ><label for=\"sk-estimator-id-15\" class=\"sk-toggleable__label sk-toggleable__label-arrow\">Lasso</label><div class=\"sk-toggleable__content\"><pre>Lasso()</pre></div></div></div></div></div></div></div></div></div></div>"
      ],
      "text/plain": [
       "GridSearchCV(cv=10, estimator=Lasso(), n_jobs=-1,\n",
       "             param_grid={'alpha': [0.001, 0.002, 0.003, 0.004, 0.005, 0.006,\n",
       "                                   0.007, 0.008, 0.009000000000000001]},\n",
       "             scoring='neg_root_mean_squared_error', verbose=1)"
      ]
     },
     "execution_count": 44,
     "metadata": {},
     "output_type": "execute_result"
    }
   ],
   "source": [
    "# Fit the grid search to the data\n",
    "grid_search.fit(X_train, y_train)"
   ]
  },
  {
   "cell_type": "code",
   "execution_count": 45,
   "id": "920ef9ee",
   "metadata": {},
   "outputs": [
    {
     "name": "stdout",
     "output_type": "stream",
     "text": [
      "The optimal parameter from GridSearchCV is: {'alpha': 0.001}\n",
      "\n",
      "The mean CV score (rmse) of the model with the best parameter is: 0.35726026819675716\n"
     ]
    }
   ],
   "source": [
    "# The optimal parameter\n",
    "print(f\"The optimal parameter from GridSearchCV is: {grid_search.best_params_}\")\n",
    "\n",
    "# The score of the model with the optimal parameter\n",
    "print(f\"\\nThe mean CV score (rmse) of the model with the best parameter is: {-grid_search.best_score_}\")"
   ]
  },
  {
   "cell_type": "code",
   "execution_count": 46,
   "id": "970a142f",
   "metadata": {},
   "outputs": [],
   "source": [
    "# Get the model that uses the \"best\" hp, trained from the full train set\n",
    "best_reg = grid_search.best_estimator_\n",
    "# Make predictions using X_test\n",
    "y_pred = best_reg.predict(X_test)"
   ]
  },
  {
   "cell_type": "code",
   "execution_count": 47,
   "id": "4eaaa0f5",
   "metadata": {},
   "outputs": [
    {
     "name": "stdout",
     "output_type": "stream",
     "text": [
      "The test rmse of the tuned model estimated using the test set is: 0.36\n"
     ]
    }
   ],
   "source": [
    "# Evaluate the performance of the model (rmse) with the test set\n",
    "print(f\"The test rmse of the tuned model estimated using the test set is: {round(mean_squared_error(y_test,y_pred,squared=False),2)}\")"
   ]
  },
  {
   "cell_type": "markdown",
   "id": "04cd9f7a",
   "metadata": {},
   "source": [
    "**The fact that a very small alpha 0.001 has a lower performance (higher rmse) than the unregularized linear regression model suggest that all included regressors are important in predicting salary. I should use LinearRegression with no regularization**"
   ]
  },
  {
   "cell_type": "markdown",
   "id": "e47a5d33",
   "metadata": {},
   "source": [
    "## 2.1 Using multiple statistical approaches (no tuning, k-fold CV)\n",
    "- We will train a linear regression model, gradient boosted regressor, and random forest regressor"
   ]
  },
  {
   "cell_type": "code",
   "execution_count": 48,
   "id": "79f7cf97",
   "metadata": {},
   "outputs": [],
   "source": [
    "# define models to test\n",
    "def get_models():\n",
    "    # init list of models with associated names\n",
    "    models,names = list(), list()\n",
    "    \n",
    "    # linear regression\n",
    "    models.append(LinearRegression())\n",
    "    names.append(\"linear_regression\")\n",
    "    \n",
    "    # Random Forest Regressor\n",
    "    models.append(RandomForestRegressor())\n",
    "    names.append(\"random_forest\")\n",
    "    \n",
    "    # Gradient Boosted Trees\n",
    "    models.append(GradientBoostingRegressor())\n",
    "    names.append(\"gradient_boosting\")\n",
    "    \n",
    "    return models, names"
   ]
  },
  {
   "cell_type": "code",
   "execution_count": 49,
   "id": "b62152a5",
   "metadata": {},
   "outputs": [],
   "source": [
    "# Evaluate a model with k-fold cross validation\n",
    "def evaluate_model(X,y,model):\n",
    "    scores = cross_val_score(\n",
    "        estimator = model,\n",
    "        X = X,\n",
    "        y = y,\n",
    "        cv = 10,\n",
    "        scoring = \"neg_root_mean_squared_error\",\n",
    "        n_jobs=-1)\n",
    "    \n",
    "    return scores"
   ]
  },
  {
   "cell_type": "markdown",
   "id": "75cb475b",
   "metadata": {},
   "source": [
    "**Initiate models**"
   ]
  },
  {
   "cell_type": "code",
   "execution_count": 50,
   "id": "82732ca3",
   "metadata": {},
   "outputs": [],
   "source": [
    "models, names = get_models()"
   ]
  },
  {
   "cell_type": "code",
   "execution_count": 51,
   "id": "f9c056ea",
   "metadata": {},
   "outputs": [
    {
     "data": {
      "text/plain": [
       "([LinearRegression(), RandomForestRegressor(), GradientBoostingRegressor()],\n",
       " ['linear_regression', 'random_forest', 'gradient_boosting'])"
      ]
     },
     "execution_count": 51,
     "metadata": {},
     "output_type": "execute_result"
    }
   ],
   "source": [
    "models, names"
   ]
  },
  {
   "cell_type": "markdown",
   "id": "46a88958",
   "metadata": {},
   "source": [
    "**Evaluate models**"
   ]
  },
  {
   "cell_type": "code",
   "execution_count": 52,
   "id": "48d1d954",
   "metadata": {},
   "outputs": [
    {
     "name": "stdout",
     "output_type": "stream",
     "text": [
      "('linear_regression', 0.35, 0.01)\n",
      "('random_forest', 0.38, 0.01)\n",
      "('gradient_boosting', 0.36, 0.01)\n"
     ]
    }
   ],
   "source": [
    "# Evaluate each model (get estimated test metric) and store the results in a list \"l_mean_cv_scores\"\n",
    "l_cv_scores = list()\n",
    "for model, name in list(zip(models, names)):\n",
    "    \n",
    "    # Compute cv scores of each model\n",
    "    cv_scores = evaluate_model(X_train, y_train, model)\n",
    "    \n",
    "    # Update the list of model results, each row represent the cv scores of a model\n",
    "    l_cv_scores.append(cv_scores)\n",
    "\n",
    "    # Summary of model performance\n",
    "    print((name, round(-cv_scores.mean(),2), round(np.std(cv_scores),2)))"
   ]
  },
  {
   "cell_type": "code",
   "execution_count": 53,
   "id": "5050ce5b",
   "metadata": {},
   "outputs": [
    {
     "data": {
      "text/plain": [
       "Text(0, 0.5, 'negative rmse')"
      ]
     },
     "execution_count": 53,
     "metadata": {},
     "output_type": "execute_result"
    },
    {
     "data": {
      "image/png": "[encoded data removed]",
      "text/plain": [
       "<Figure size 1080x720 with 1 Axes>"
      ]
     },
     "metadata": {
      "needs_background": "light"
     },
     "output_type": "display_data"
    }
   ],
   "source": [
    "fig = plt.figure(figsize=(15,10))\n",
    "plt.boxplot(l_cv_scores, labels=names, showmeans=True)\n",
    "plt.ylabel(\"negative rmse\")"
   ]
  },
  {
   "cell_type": "markdown",
   "id": "49ef9f23",
   "metadata": {},
   "source": [
    "- Linear regression model has the best performance-- it has the least rmse (average percent deviation of data from geometric mean of annual salary across all train observations)\n",
    "- We can tune random forest and gradient boosting to see if the tuned models can outperform linear regression."
   ]
  },
  {
   "cell_type": "markdown",
   "id": "96ea0b49",
   "metadata": {},
   "source": [
    "## 2.2 Using multiple statistical approaches (with hyperparameter tuning)\n",
    "- Here, I will tune both the random forest and gradient boosted tree models"
   ]
  },
  {
   "cell_type": "markdown",
   "id": "a210dc2c",
   "metadata": {},
   "source": [
    "### Random Forest"
   ]
  },
  {
   "cell_type": "code",
   "execution_count": 54,
   "id": "9852b24f",
   "metadata": {},
   "outputs": [],
   "source": [
    "reg = RandomForestRegressor()"
   ]
  },
  {
   "cell_type": "markdown",
   "id": "b4bfff63",
   "metadata": {},
   "source": [
    "**RandomizedSearchCV for Random Forest**"
   ]
  },
  {
   "cell_type": "code",
   "execution_count": 55,
   "id": "63b48572",
   "metadata": {},
   "outputs": [],
   "source": [
    "random_grid = {\n",
    "   \"n_estimators\": [10, 100, 1000],\n",
    "    \"max_features\": ['sqrt','log2'],\n",
    "    \"max_depth\": [None,1,3,10,40,50],\n",
    "    \"min_samples_split\": [2,5,10,50,100],\n",
    "    \"min_samples_leaf\": [2,5,10,50,100]\n",
    "}"
   ]
  },
  {
   "cell_type": "code",
   "execution_count": 56,
   "id": "2a73e8c7",
   "metadata": {},
   "outputs": [],
   "source": [
    "# Perform random search of the parameters, using a 10 fold CV to estimate the test metric for each setting.\n",
    "rand_grid_search = RandomizedSearchCV(estimator = reg,\n",
    "                                param_distributions = random_grid,\n",
    "                                n_iter = 20,  # randomly select 20 different settings to try\n",
    "                                cv = 10,       # use 10-fold CV for each setting to estimate its test metric\n",
    "                                scoring=\"neg_root_mean_squared_error\",\n",
    "                                verbose = 1, #2   # show the process\n",
    "                                n_jobs =-1,  # use all processors\n",
    "                                random_state = RANDOM)"
   ]
  },
  {
   "cell_type": "code",
   "execution_count": 57,
   "id": "56625df9",
   "metadata": {},
   "outputs": [
    {
     "name": "stdout",
     "output_type": "stream",
     "text": [
      "Fitting 10 folds for each of 20 candidates, totalling 200 fits\n"
     ]
    },
    {
     "data": {
      "text/html": [
       "<style>#sk-container-id-5 {color: black;background-color: white;}#sk-container-id-5 pre{padding: 0;}#sk-container-id-5 div.sk-toggleable {background-color: white;}#sk-container-id-5 label.sk-toggleable__label {cursor: pointer;display: block;width: 100%;margin-bottom: 0;padding: 0.3em;box-sizing: border-box;text-align: center;}#sk-container-id-5 label.sk-toggleable__label-arrow:before {content: \"▸\";float: left;margin-right: 0.25em;color: #696969;}#sk-container-id-5 label.sk-toggleable__label-arrow:hover:before {color: black;}#sk-container-id-5 div.sk-estimator:hover label.sk-toggleable__label-arrow:before {color: black;}#sk-container-id-5 div.sk-toggleable__content {max-height: 0;max-width: 0;overflow: hidden;text-align: left;background-color: #f0f8ff;}#sk-container-id-5 div.sk-toggleable__content pre {margin: 0.2em;color: black;border-radius: 0.25em;background-color: #f0f8ff;}#sk-container-id-5 input.sk-toggleable__control:checked~div.sk-toggleable__content {max-height: 200px;max-width: 100%;overflow: auto;}#sk-container-id-5 input.sk-toggleable__control:checked~label.sk-toggleable__label-arrow:before {content: \"▾\";}#sk-container-id-5 div.sk-estimator input.sk-toggleable__control:checked~label.sk-toggleable__label {background-color: #d4ebff;}#sk-container-id-5 div.sk-label input.sk-toggleable__control:checked~label.sk-toggleable__label {background-color: #d4ebff;}#sk-container-id-5 input.sk-hidden--visually {border: 0;clip: rect(1px 1px 1px 1px);clip: rect(1px, 1px, 1px, 1px);height: 1px;margin: -1px;overflow: hidden;padding: 0;position: absolute;width: 1px;}#sk-container-id-5 div.sk-estimator {font-family: monospace;background-color: #f0f8ff;border: 1px dotted black;border-radius: 0.25em;box-sizing: border-box;margin-bottom: 0.5em;}#sk-container-id-5 div.sk-estimator:hover {background-color: #d4ebff;}#sk-container-id-5 div.sk-parallel-item::after {content: \"\";width: 100%;border-bottom: 1px solid gray;flex-grow: 1;}#sk-container-id-5 div.sk-label:hover label.sk-toggleable__label {background-color: #d4ebff;}#sk-container-id-5 div.sk-serial::before {content: \"\";position: absolute;border-left: 1px solid gray;box-sizing: border-box;top: 0;bottom: 0;left: 50%;z-index: 0;}#sk-container-id-5 div.sk-serial {display: flex;flex-direction: column;align-items: center;background-color: white;padding-right: 0.2em;padding-left: 0.2em;position: relative;}#sk-container-id-5 div.sk-item {position: relative;z-index: 1;}#sk-container-id-5 div.sk-parallel {display: flex;align-items: stretch;justify-content: center;background-color: white;position: relative;}#sk-container-id-5 div.sk-item::before, #sk-container-id-5 div.sk-parallel-item::before {content: \"\";position: absolute;border-left: 1px solid gray;box-sizing: border-box;top: 0;bottom: 0;left: 50%;z-index: -1;}#sk-container-id-5 div.sk-parallel-item {display: flex;flex-direction: column;z-index: 1;position: relative;background-color: white;}#sk-container-id-5 div.sk-parallel-item:first-child::after {align-self: flex-end;width: 50%;}#sk-container-id-5 div.sk-parallel-item:last-child::after {align-self: flex-start;width: 50%;}#sk-container-id-5 div.sk-parallel-item:only-child::after {width: 0;}#sk-container-id-5 div.sk-dashed-wrapped {border: 1px dashed gray;margin: 0 0.4em 0.5em 0.4em;box-sizing: border-box;padding-bottom: 0.4em;background-color: white;}#sk-container-id-5 div.sk-label label {font-family: monospace;font-weight: bold;display: inline-block;line-height: 1.2em;}#sk-container-id-5 div.sk-label-container {text-align: center;}#sk-container-id-5 div.sk-container {/* jupyter's `normalize.less` sets `[hidden] { display: none; }` but bootstrap.min.css set `[hidden] { display: none !important; }` so we also need the `!important` here to be able to override the default hidden behavior on the sphinx rendered scikit-learn.org. See: https://github.com/scikit-learn/scikit-learn/issues/21755 */display: inline-block !important;position: relative;}#sk-container-id-5 div.sk-text-repr-fallback {display: none;}</style><div id=\"sk-container-id-5\" class=\"sk-top-container\"><div class=\"sk-text-repr-fallback\"><pre>RandomizedSearchCV(cv=10, estimator=RandomForestRegressor(), n_iter=20,\n",
       "                   n_jobs=-1,\n",
       "                   param_distributions={&#x27;max_depth&#x27;: [None, 1, 3, 10, 40, 50],\n",
       "                                        &#x27;max_features&#x27;: [&#x27;sqrt&#x27;, &#x27;log2&#x27;],\n",
       "                                        &#x27;min_samples_leaf&#x27;: [2, 5, 10, 50, 100],\n",
       "                                        &#x27;min_samples_split&#x27;: [2, 5, 10, 50,\n",
       "                                                              100],\n",
       "                                        &#x27;n_estimators&#x27;: [10, 100, 1000]},\n",
       "                   random_state=10, scoring=&#x27;neg_root_mean_squared_error&#x27;,\n",
       "                   verbose=1)</pre><b>In a Jupyter environment, please rerun this cell to show the HTML representation or trust the notebook. <br />On GitHub, the HTML representation is unable to render, please try loading this page with nbviewer.org.</b></div><div class=\"sk-container\" hidden><div class=\"sk-item sk-dashed-wrapped\"><div class=\"sk-label-container\"><div class=\"sk-label sk-toggleable\"><input class=\"sk-toggleable__control sk-hidden--visually\" id=\"sk-estimator-id-16\" type=\"checkbox\" ><label for=\"sk-estimator-id-16\" class=\"sk-toggleable__label sk-toggleable__label-arrow\">RandomizedSearchCV</label><div class=\"sk-toggleable__content\"><pre>RandomizedSearchCV(cv=10, estimator=RandomForestRegressor(), n_iter=20,\n",
       "                   n_jobs=-1,\n",
       "                   param_distributions={&#x27;max_depth&#x27;: [None, 1, 3, 10, 40, 50],\n",
       "                                        &#x27;max_features&#x27;: [&#x27;sqrt&#x27;, &#x27;log2&#x27;],\n",
       "                                        &#x27;min_samples_leaf&#x27;: [2, 5, 10, 50, 100],\n",
       "                                        &#x27;min_samples_split&#x27;: [2, 5, 10, 50,\n",
       "                                                              100],\n",
       "                                        &#x27;n_estimators&#x27;: [10, 100, 1000]},\n",
       "                   random_state=10, scoring=&#x27;neg_root_mean_squared_error&#x27;,\n",
       "                   verbose=1)</pre></div></div></div><div class=\"sk-parallel\"><div class=\"sk-parallel-item\"><div class=\"sk-item\"><div class=\"sk-label-container\"><div class=\"sk-label sk-toggleable\"><input class=\"sk-toggleable__control sk-hidden--visually\" id=\"sk-estimator-id-17\" type=\"checkbox\" ><label for=\"sk-estimator-id-17\" class=\"sk-toggleable__label sk-toggleable__label-arrow\">estimator: RandomForestRegressor</label><div class=\"sk-toggleable__content\"><pre>RandomForestRegressor()</pre></div></div></div><div class=\"sk-serial\"><div class=\"sk-item\"><div class=\"sk-estimator sk-toggleable\"><input class=\"sk-toggleable__control sk-hidden--visually\" id=\"sk-estimator-id-18\" type=\"checkbox\" ><label for=\"sk-estimator-id-18\" class=\"sk-toggleable__label sk-toggleable__label-arrow\">RandomForestRegressor</label><div class=\"sk-toggleable__content\"><pre>RandomForestRegressor()</pre></div></div></div></div></div></div></div></div></div></div>"
      ],
      "text/plain": [
       "RandomizedSearchCV(cv=10, estimator=RandomForestRegressor(), n_iter=20,\n",
       "                   n_jobs=-1,\n",
       "                   param_distributions={'max_depth': [None, 1, 3, 10, 40, 50],\n",
       "                                        'max_features': ['sqrt', 'log2'],\n",
       "                                        'min_samples_leaf': [2, 5, 10, 50, 100],\n",
       "                                        'min_samples_split': [2, 5, 10, 50,\n",
       "                                                              100],\n",
       "                                        'n_estimators': [10, 100, 1000]},\n",
       "                   random_state=10, scoring='neg_root_mean_squared_error',\n",
       "                   verbose=1)"
      ]
     },
     "execution_count": 57,
     "metadata": {},
     "output_type": "execute_result"
    }
   ],
   "source": [
    "rand_grid_search.fit(X_train,y_train)"
   ]
  },
  {
   "cell_type": "code",
   "execution_count": 58,
   "id": "b4cc73f4",
   "metadata": {},
   "outputs": [
    {
     "name": "stdout",
     "output_type": "stream",
     "text": [
      "The mean CV score (rmse) of the best estimator is: 0.35709661135510834\n",
      "The best alpha for the rf model from RandomGridSearch is {'n_estimators': 1000, 'min_samples_split': 5, 'min_samples_leaf': 2, 'max_features': 'sqrt', 'max_depth': 40}\n"
     ]
    }
   ],
   "source": [
    "print(f\"The mean CV score (rmse) of the best estimator is: {-rand_grid_search.best_score_}\")\n",
    "print(f\"The best alpha for the rf model from RandomGridSearch is {rand_grid_search.best_params_}\") "
   ]
  },
  {
   "cell_type": "markdown",
   "id": "7c2ad231",
   "metadata": {},
   "source": [
    "**GridSearchCV for Random Forest**"
   ]
  },
  {
   "cell_type": "code",
   "execution_count": 59,
   "id": "1845705c",
   "metadata": {},
   "outputs": [],
   "source": [
    "reg = RandomForestRegressor(n_estimators=1000,\n",
    "                           max_features=\"sqrt\")"
   ]
  },
  {
   "cell_type": "code",
   "execution_count": 60,
   "id": "42360204",
   "metadata": {},
   "outputs": [],
   "source": [
    "param_grid = {\n",
    "    \"max_depth\": [35,40,45],\n",
    "    \"min_samples_split\": [4,5,6],\n",
    "    \"min_samples_leaf\": [1,2,3]\n",
    "}"
   ]
  },
  {
   "cell_type": "code",
   "execution_count": 61,
   "id": "6be085c7",
   "metadata": {},
   "outputs": [],
   "source": [
    "# Instantiate the grid search model\n",
    "grid_search = GridSearchCV(estimator = reg, \n",
    "                           param_grid = param_grid, \n",
    "                           cv = 10, \n",
    "                           scoring=\"neg_root_mean_squared_error\",\n",
    "                           verbose =1, # show the process\n",
    "                           n_jobs = -1)  # n_jobs = -1 means use all processors"
   ]
  },
  {
   "cell_type": "code",
   "execution_count": 62,
   "id": "cdd481cb",
   "metadata": {},
   "outputs": [
    {
     "name": "stdout",
     "output_type": "stream",
     "text": [
      "Fitting 10 folds for each of 27 candidates, totalling 270 fits\n",
      "The optimal parameter from GridSearchCV is: {'max_depth': 40, 'min_samples_leaf': 3, 'min_samples_split': 6}\n",
      "\n",
      "The mean CV score (rmse) of the model with the best parameter is: 0.3568170638312602\n",
      "The test rmse of the tuned model estimated using the test set is: 0.36\n"
     ]
    }
   ],
   "source": [
    "if EXECUTE:\n",
    "    grid_search.fit(X_train,y_train)\n",
    "    \n",
    "    # The optimal parameter\n",
    "    print(f\"The optimal parameter from GridSearchCV is: {grid_search.best_params_}\")\n",
    "\n",
    "    # The score of the model with the optimal parameter\n",
    "    print(f\"\\nThe mean CV score (rmse) of the model with the best parameter is: {-grid_search.best_score_}\")\n",
    "    \n",
    "    # Get the model that uses the \"best\" hp, trained from the full train set\n",
    "    best_reg = grid_search.best_estimator_\n",
    "\n",
    "    # Make predictions using X_test\n",
    "    y_pred = best_reg.predict(X_test)\n",
    "    \n",
    "    # Evaluate the performance of the model (rmse) with the test set\n",
    "    print(f\"The test rmse of the tuned model estimated using the test set is: {round(mean_squared_error(y_test,y_pred,squared=False),2)}\")"
   ]
  },
  {
   "cell_type": "markdown",
   "id": "7b937fca",
   "metadata": {},
   "source": [
    "### Gradient Boosted Trees"
   ]
  },
  {
   "cell_type": "code",
   "execution_count": 63,
   "id": "f2ca359e",
   "metadata": {},
   "outputs": [],
   "source": [
    "reg = GradientBoostingRegressor()"
   ]
  },
  {
   "cell_type": "markdown",
   "id": "451e4cb7",
   "metadata": {},
   "source": [
    "**RandomizedSearchCV for gb**"
   ]
  },
  {
   "cell_type": "code",
   "execution_count": 64,
   "id": "b931e358",
   "metadata": {},
   "outputs": [],
   "source": [
    "random_grid = {\n",
    "   \"n_estimators\": [100, 500, 1000], # number of trees to build\n",
    "   \"learning_rate\": [0.01,0.05,0.1], # learning rate\n",
    "   \"max_depth\":[4,6,8,10], # maximum depth of each tree\n",
    "   \"subsample\":[0.5,0.75,1.0], # prop of train set (observations) to consider for each tree\n",
    "   \"max_features\":[0.4,0.6,0.8,1.0] # prop of features to consider for each split\n",
    "}"
   ]
  },
  {
   "cell_type": "code",
   "execution_count": 65,
   "id": "f350f372",
   "metadata": {},
   "outputs": [],
   "source": [
    "# Perform random search of the parameters, using a 10 fold CV to estimate the test metric for each setting.\n",
    "rand_grid_search = RandomizedSearchCV(estimator = reg,\n",
    "                                param_distributions = random_grid,\n",
    "                                n_iter = 20,  # randomly select 20 different settings to try\n",
    "                                cv = 10,       # use 10-fold CV for each setting to estimate its test metric\n",
    "                                scoring=\"neg_root_mean_squared_error\",\n",
    "                                verbose = 1, #2   # show the process\n",
    "                                n_jobs =-1,  # use all processors\n",
    "                                random_state = RANDOM)"
   ]
  },
  {
   "cell_type": "code",
   "execution_count": 66,
   "id": "d28a604f",
   "metadata": {},
   "outputs": [
    {
     "name": "stdout",
     "output_type": "stream",
     "text": [
      "Fitting 10 folds for each of 20 candidates, totalling 200 fits\n"
     ]
    },
    {
     "data": {
      "text/html": [
       "<style>#sk-container-id-6 {color: black;background-color: white;}#sk-container-id-6 pre{padding: 0;}#sk-container-id-6 div.sk-toggleable {background-color: white;}#sk-container-id-6 label.sk-toggleable__label {cursor: pointer;display: block;width: 100%;margin-bottom: 0;padding: 0.3em;box-sizing: border-box;text-align: center;}#sk-container-id-6 label.sk-toggleable__label-arrow:before {content: \"▸\";float: left;margin-right: 0.25em;color: #696969;}#sk-container-id-6 label.sk-toggleable__label-arrow:hover:before {color: black;}#sk-container-id-6 div.sk-estimator:hover label.sk-toggleable__label-arrow:before {color: black;}#sk-container-id-6 div.sk-toggleable__content {max-height: 0;max-width: 0;overflow: hidden;text-align: left;background-color: #f0f8ff;}#sk-container-id-6 div.sk-toggleable__content pre {margin: 0.2em;color: black;border-radius: 0.25em;background-color: #f0f8ff;}#sk-container-id-6 input.sk-toggleable__control:checked~div.sk-toggleable__content {max-height: 200px;max-width: 100%;overflow: auto;}#sk-container-id-6 input.sk-toggleable__control:checked~label.sk-toggleable__label-arrow:before {content: \"▾\";}#sk-container-id-6 div.sk-estimator input.sk-toggleable__control:checked~label.sk-toggleable__label {background-color: #d4ebff;}#sk-container-id-6 div.sk-label input.sk-toggleable__control:checked~label.sk-toggleable__label {background-color: #d4ebff;}#sk-container-id-6 input.sk-hidden--visually {border: 0;clip: rect(1px 1px 1px 1px);clip: rect(1px, 1px, 1px, 1px);height: 1px;margin: -1px;overflow: hidden;padding: 0;position: absolute;width: 1px;}#sk-container-id-6 div.sk-estimator {font-family: monospace;background-color: #f0f8ff;border: 1px dotted black;border-radius: 0.25em;box-sizing: border-box;margin-bottom: 0.5em;}#sk-container-id-6 div.sk-estimator:hover {background-color: #d4ebff;}#sk-container-id-6 div.sk-parallel-item::after {content: \"\";width: 100%;border-bottom: 1px solid gray;flex-grow: 1;}#sk-container-id-6 div.sk-label:hover label.sk-toggleable__label {background-color: #d4ebff;}#sk-container-id-6 div.sk-serial::before {content: \"\";position: absolute;border-left: 1px solid gray;box-sizing: border-box;top: 0;bottom: 0;left: 50%;z-index: 0;}#sk-container-id-6 div.sk-serial {display: flex;flex-direction: column;align-items: center;background-color: white;padding-right: 0.2em;padding-left: 0.2em;position: relative;}#sk-container-id-6 div.sk-item {position: relative;z-index: 1;}#sk-container-id-6 div.sk-parallel {display: flex;align-items: stretch;justify-content: center;background-color: white;position: relative;}#sk-container-id-6 div.sk-item::before, #sk-container-id-6 div.sk-parallel-item::before {content: \"\";position: absolute;border-left: 1px solid gray;box-sizing: border-box;top: 0;bottom: 0;left: 50%;z-index: -1;}#sk-container-id-6 div.sk-parallel-item {display: flex;flex-direction: column;z-index: 1;position: relative;background-color: white;}#sk-container-id-6 div.sk-parallel-item:first-child::after {align-self: flex-end;width: 50%;}#sk-container-id-6 div.sk-parallel-item:last-child::after {align-self: flex-start;width: 50%;}#sk-container-id-6 div.sk-parallel-item:only-child::after {width: 0;}#sk-container-id-6 div.sk-dashed-wrapped {border: 1px dashed gray;margin: 0 0.4em 0.5em 0.4em;box-sizing: border-box;padding-bottom: 0.4em;background-color: white;}#sk-container-id-6 div.sk-label label {font-family: monospace;font-weight: bold;display: inline-block;line-height: 1.2em;}#sk-container-id-6 div.sk-label-container {text-align: center;}#sk-container-id-6 div.sk-container {/* jupyter's `normalize.less` sets `[hidden] { display: none; }` but bootstrap.min.css set `[hidden] { display: none !important; }` so we also need the `!important` here to be able to override the default hidden behavior on the sphinx rendered scikit-learn.org. See: https://github.com/scikit-learn/scikit-learn/issues/21755 */display: inline-block !important;position: relative;}#sk-container-id-6 div.sk-text-repr-fallback {display: none;}</style><div id=\"sk-container-id-6\" class=\"sk-top-container\"><div class=\"sk-text-repr-fallback\"><pre>RandomizedSearchCV(cv=10, estimator=GradientBoostingRegressor(), n_iter=20,\n",
       "                   n_jobs=-1,\n",
       "                   param_distributions={&#x27;learning_rate&#x27;: [0.01, 0.05, 0.1],\n",
       "                                        &#x27;max_depth&#x27;: [4, 6, 8, 10],\n",
       "                                        &#x27;max_features&#x27;: [0.4, 0.6, 0.8, 1.0],\n",
       "                                        &#x27;n_estimators&#x27;: [100, 500, 1000],\n",
       "                                        &#x27;subsample&#x27;: [0.5, 0.75, 1.0]},\n",
       "                   random_state=10, scoring=&#x27;neg_root_mean_squared_error&#x27;,\n",
       "                   verbose=1)</pre><b>In a Jupyter environment, please rerun this cell to show the HTML representation or trust the notebook. <br />On GitHub, the HTML representation is unable to render, please try loading this page with nbviewer.org.</b></div><div class=\"sk-container\" hidden><div class=\"sk-item sk-dashed-wrapped\"><div class=\"sk-label-container\"><div class=\"sk-label sk-toggleable\"><input class=\"sk-toggleable__control sk-hidden--visually\" id=\"sk-estimator-id-19\" type=\"checkbox\" ><label for=\"sk-estimator-id-19\" class=\"sk-toggleable__label sk-toggleable__label-arrow\">RandomizedSearchCV</label><div class=\"sk-toggleable__content\"><pre>RandomizedSearchCV(cv=10, estimator=GradientBoostingRegressor(), n_iter=20,\n",
       "                   n_jobs=-1,\n",
       "                   param_distributions={&#x27;learning_rate&#x27;: [0.01, 0.05, 0.1],\n",
       "                                        &#x27;max_depth&#x27;: [4, 6, 8, 10],\n",
       "                                        &#x27;max_features&#x27;: [0.4, 0.6, 0.8, 1.0],\n",
       "                                        &#x27;n_estimators&#x27;: [100, 500, 1000],\n",
       "                                        &#x27;subsample&#x27;: [0.5, 0.75, 1.0]},\n",
       "                   random_state=10, scoring=&#x27;neg_root_mean_squared_error&#x27;,\n",
       "                   verbose=1)</pre></div></div></div><div class=\"sk-parallel\"><div class=\"sk-parallel-item\"><div class=\"sk-item\"><div class=\"sk-label-container\"><div class=\"sk-label sk-toggleable\"><input class=\"sk-toggleable__control sk-hidden--visually\" id=\"sk-estimator-id-20\" type=\"checkbox\" ><label for=\"sk-estimator-id-20\" class=\"sk-toggleable__label sk-toggleable__label-arrow\">estimator: GradientBoostingRegressor</label><div class=\"sk-toggleable__content\"><pre>GradientBoostingRegressor()</pre></div></div></div><div class=\"sk-serial\"><div class=\"sk-item\"><div class=\"sk-estimator sk-toggleable\"><input class=\"sk-toggleable__control sk-hidden--visually\" id=\"sk-estimator-id-21\" type=\"checkbox\" ><label for=\"sk-estimator-id-21\" class=\"sk-toggleable__label sk-toggleable__label-arrow\">GradientBoostingRegressor</label><div class=\"sk-toggleable__content\"><pre>GradientBoostingRegressor()</pre></div></div></div></div></div></div></div></div></div></div>"
      ],
      "text/plain": [
       "RandomizedSearchCV(cv=10, estimator=GradientBoostingRegressor(), n_iter=20,\n",
       "                   n_jobs=-1,\n",
       "                   param_distributions={'learning_rate': [0.01, 0.05, 0.1],\n",
       "                                        'max_depth': [4, 6, 8, 10],\n",
       "                                        'max_features': [0.4, 0.6, 0.8, 1.0],\n",
       "                                        'n_estimators': [100, 500, 1000],\n",
       "                                        'subsample': [0.5, 0.75, 1.0]},\n",
       "                   random_state=10, scoring='neg_root_mean_squared_error',\n",
       "                   verbose=1)"
      ]
     },
     "execution_count": 66,
     "metadata": {},
     "output_type": "execute_result"
    }
   ],
   "source": [
    "rand_grid_search.fit(X_train,y_train)"
   ]
  },
  {
   "cell_type": "code",
   "execution_count": 67,
   "id": "ff883006",
   "metadata": {},
   "outputs": [
    {
     "name": "stdout",
     "output_type": "stream",
     "text": [
      "The mean CV score (rmse) of the best estimator is: 0.350999775450384\n",
      "The best alpha for the gb model from RandomGridSearch is {'subsample': 1.0, 'n_estimators': 1000, 'max_features': 0.4, 'max_depth': 4, 'learning_rate': 0.05}\n"
     ]
    }
   ],
   "source": [
    "print(f\"The mean CV score (rmse) of the best estimator is: {-rand_grid_search.best_score_}\")\n",
    "print(f\"The best alpha for the gb model from RandomGridSearch is {rand_grid_search.best_params_}\") "
   ]
  },
  {
   "cell_type": "markdown",
   "id": "7e6736ab",
   "metadata": {},
   "source": [
    "**GridSearchCV for Gradient Boosted trees**"
   ]
  },
  {
   "cell_type": "code",
   "execution_count": 68,
   "id": "f0d96744",
   "metadata": {},
   "outputs": [],
   "source": [
    "reg = GradientBoostingRegressor(n_estimators=1000,\n",
    "                                subsample=1.0)"
   ]
  },
  {
   "cell_type": "code",
   "execution_count": 69,
   "id": "1ee22a89",
   "metadata": {},
   "outputs": [],
   "source": [
    "param_grid = {\n",
    "    \"learning_rate\":[0.02,0.05,0.08],\n",
    "    \"max_depth\": [3,4,5],\n",
    "    \"max_features\": [0.3,0.4,0.5]\n",
    "}"
   ]
  },
  {
   "cell_type": "code",
   "execution_count": 70,
   "id": "9c0b41bb",
   "metadata": {},
   "outputs": [],
   "source": [
    "# Instantiate the grid search model\n",
    "grid_search = GridSearchCV(estimator = reg, \n",
    "                           param_grid = param_grid, \n",
    "                           cv = 10, \n",
    "                           scoring=\"neg_root_mean_squared_error\",\n",
    "                           verbose =1, # show the process\n",
    "                           n_jobs = -1)  # n_jobs = -1 means use all processors"
   ]
  },
  {
   "cell_type": "code",
   "execution_count": 71,
   "id": "904cbf4b",
   "metadata": {},
   "outputs": [
    {
     "name": "stdout",
     "output_type": "stream",
     "text": [
      "Fitting 10 folds for each of 27 candidates, totalling 270 fits\n",
      "The optimal parameter from GridSearchCV is: {'learning_rate': 0.08, 'max_depth': 3, 'max_features': 0.3}\n",
      "\n",
      "The mean CV score (rmse) of the model with the best parameter is: 0.35038119618826086\n",
      "The test rmse of the tuned model estimated using the test set is: 0.35\n"
     ]
    }
   ],
   "source": [
    "if EXECUTE:\n",
    "    grid_search.fit(X_train,y_train)\n",
    "    \n",
    "    # The optimal parameter\n",
    "    print(f\"The optimal parameter from GridSearchCV is: {grid_search.best_params_}\")\n",
    "\n",
    "    # The score of the model with the optimal parameter\n",
    "    print(f\"\\nThe mean CV score (rmse) of the model with the best parameter is: {-grid_search.best_score_}\")\n",
    "    \n",
    "    # Get the model that uses the \"best\" hp, trained from the full train set\n",
    "    best_reg = grid_search.best_estimator_\n",
    "    # Make predictions using X_test\n",
    "    y_pred = best_reg.predict(X_test)\n",
    "    \n",
    "    # Evaluate the performance of the model (rmse) with the test set\n",
    "    print(f\"The test rmse of the tuned model estimated using the test set is: {round(mean_squared_error(y_test,y_pred,squared=False),2)}\")"
   ]
  },
  {
   "cell_type": "markdown",
   "id": "6c81044f",
   "metadata": {},
   "source": [
    "**By tuning hyperparameters, the performance of random forest and gb is close to linear regression model (close to 0.35). However, since linear regression has fast training time and interpretible, we will use linear regression.**"
   ]
  },
  {
   "cell_type": "markdown",
   "id": "b1632ce0",
   "metadata": {},
   "source": [
    "## 3.1 Using multiple statistical approaches with data processing pipeline and tuning"
   ]
  },
  {
   "cell_type": "markdown",
   "id": "6f9110a9",
   "metadata": {},
   "source": [
    "### Test harness"
   ]
  },
  {
   "cell_type": "code",
   "execution_count": 72,
   "id": "c414de50",
   "metadata": {},
   "outputs": [
    {
     "data": {
      "text/plain": [
       "((16734, 17), (4184, 17))"
      ]
     },
     "execution_count": 72,
     "metadata": {},
     "output_type": "execute_result"
    }
   ],
   "source": [
    "X_train, X_test, y_train, y_test = train_test_split(\n",
    "    survey_usd.drop([\"annual_salary\"], axis=\"columns\"), # features\n",
    "    survey_usd[\"annual_salary\"], # target\n",
    "    test_size = TEST_SIZE,\n",
    "    random_state = RANDOM\n",
    ")\n",
    "\n",
    "X_train.shape, X_test.shape"
   ]
  },
  {
   "cell_type": "code",
   "execution_count": 73,
   "id": "74178fa0",
   "metadata": {},
   "outputs": [],
   "source": [
    "y_train = np.log(y_train)\n",
    "y_test = np.log(y_test)\n",
    "\n",
    "X_train = X_train[FEATURES]\n",
    "X_test = X_test[FEATURES]"
   ]
  },
  {
   "cell_type": "markdown",
   "id": "99338986",
   "metadata": {},
   "source": [
    "**A list of models to tune**"
   ]
  },
  {
   "cell_type": "code",
   "execution_count": 74,
   "id": "812ea7c4",
   "metadata": {},
   "outputs": [],
   "source": [
    "models = {\n",
    "    \"random_forest\": RandomForestRegressor(n_estimators=1000,\n",
    "                                            max_features=\"sqrt\"),\n",
    "    \"gradient_boosting\": GradientBoostingRegressor(n_estimators=1000,\n",
    "                                               subsample=1.0)    \n",
    "}"
   ]
  },
  {
   "cell_type": "markdown",
   "id": "869ddefa",
   "metadata": {},
   "source": [
    "**Hyperparameters for data processing steps in pipeline (if any) and for each model**"
   ]
  },
  {
   "cell_type": "code",
   "execution_count": 75,
   "id": "a3d371b1",
   "metadata": {},
   "outputs": [],
   "source": [
    "# A dict of dicts\n",
    "param_grid = {\n",
    "    # == random forest ==\n",
    "    \"random_forest\": {\n",
    "        \"regressor__max_depth\": [35,40,45],\n",
    "        \"regressor__min_samples_split\":[4,5,6],\n",
    "        \"regressor__min_samples_leaf\":[1,2,3]    \n",
    "    },\n",
    "    # == gradient boosting ==\n",
    "    \"gradient_boosting\":{\n",
    "        \"regressor__learning_rate\": [0.02,0.05,0.08],\n",
    "        \"regressor__max_depth\": [3,4,5],\n",
    "        \"regressor__max_features\": [0.3,0.4,0.5]        \n",
    "    }\n",
    "}"
   ]
  },
  {
   "cell_type": "code",
   "execution_count": 77,
   "id": "10137116",
   "metadata": {},
   "outputs": [
    {
     "name": "stdout",
     "output_type": "stream",
     "text": [
      "Fitting 5 folds for each of 27 candidates, totalling 135 fits\n",
      "Fitting 5 folds for each of 27 candidates, totalling 135 fits\n"
     ]
    }
   ],
   "source": [
    "if EXECUTE:\n",
    "    results=[] # init a list that contains results for each model\n",
    "\n",
    "    for model_name in models.keys():\n",
    "       \n",
    "        # append current model to pipeline as the last step (ex: 'regressor, RandomForestRegressor()')\n",
    "        salary_pipeline.steps.append(['regressor', models[model_name]])\n",
    "    \n",
    "        # Get the params for the current model\n",
    "        params = param_grid[model_name]\n",
    "    \n",
    "        # Init GridSearchCV \n",
    "        grid = GridSearchCV(estimator = salary_pipeline, \n",
    "                            param_grid = params, \n",
    "                            cv = 5, \n",
    "                            scoring=\"neg_root_mean_squared_error\",\n",
    "                            verbose =1, # show the process\n",
    "                            n_jobs = -1)  # n_jobs = -1 means use all processors    \n",
    "    \n",
    "        # Fit GridSearchCV\n",
    "        grid.fit(X_train, y_train)\n",
    "    \n",
    "        # remove last step (model) of the pipeline so it can be reused for the next iter (model)\n",
    "        salary_pipeline=salary_pipeline[:-1]\n",
    "    \n",
    "        # Collect results of GridSearchCV\n",
    "        results.append({\n",
    "            'model_name': model_name,\n",
    "            'grid': grid,\n",
    "            'best_estimator': grid.best_estimator_,\n",
    "            'best_score': grid.best_score_,\n",
    "            'best_params': grid.best_params_\n",
    "        })\n",
    "        \n",
    "        # Persist model\n",
    "        joblib.dump(grid.best_estimator_,Path(ROOT_DIR,\"models\",f\"{model_name}.joblib\"))\n",
    "\n",
    "    # Look at results\n",
    "    df_results = pd.DataFrame(results)\n",
    "    df_results = (df_results\n",
    "                  .rename(df_results[\"model_name\"],axis=\"index\"))\n",
    "    df_results[\"best_score\"] = -1*df_results[\"best_score\"]\n",
    "    "
   ]
  },
  {
   "cell_type": "code",
   "execution_count": 78,
   "id": "845f6b3b",
   "metadata": {},
   "outputs": [
    {
     "data": {
      "text/html": [
       "<div>\n",
       "<style scoped>\n",
       "    .dataframe tbody tr th:only-of-type {\n",
       "        vertical-align: middle;\n",
       "    }\n",
       "\n",
       "    .dataframe tbody tr th {\n",
       "        vertical-align: top;\n",
       "    }\n",
       "\n",
       "    .dataframe thead th {\n",
       "        text-align: right;\n",
       "    }\n",
       "</style>\n",
       "<table border=\"1\" class=\"dataframe\">\n",
       "  <thead>\n",
       "    <tr style=\"text-align: right;\">\n",
       "      <th></th>\n",
       "      <th>model_name</th>\n",
       "      <th>grid</th>\n",
       "      <th>best_estimator</th>\n",
       "      <th>best_score</th>\n",
       "      <th>best_params</th>\n",
       "    </tr>\n",
       "  </thead>\n",
       "  <tbody>\n",
       "    <tr>\n",
       "      <th>random_forest</th>\n",
       "      <td>random_forest</td>\n",
       "      <td>GridSearchCV(cv=5,\\n             estimator=Pip...</td>\n",
       "      <td>(CategoricalImputer(variables=['industry', 'st...</td>\n",
       "      <td>0.357079</td>\n",
       "      <td>{'regressor__max_depth': 35, 'regressor__min_s...</td>\n",
       "    </tr>\n",
       "    <tr>\n",
       "      <th>gradient_boosting</th>\n",
       "      <td>gradient_boosting</td>\n",
       "      <td>GridSearchCV(cv=5,\\n             estimator=Pip...</td>\n",
       "      <td>(CategoricalImputer(variables=['industry', 'st...</td>\n",
       "      <td>0.351140</td>\n",
       "      <td>{'regressor__learning_rate': 0.05, 'regressor_...</td>\n",
       "    </tr>\n",
       "  </tbody>\n",
       "</table>\n",
       "</div>"
      ],
      "text/plain": [
       "                          model_name  \\\n",
       "random_forest          random_forest   \n",
       "gradient_boosting  gradient_boosting   \n",
       "\n",
       "                                                                grid  \\\n",
       "random_forest      GridSearchCV(cv=5,\\n             estimator=Pip...   \n",
       "gradient_boosting  GridSearchCV(cv=5,\\n             estimator=Pip...   \n",
       "\n",
       "                                                      best_estimator  \\\n",
       "random_forest      (CategoricalImputer(variables=['industry', 'st...   \n",
       "gradient_boosting  (CategoricalImputer(variables=['industry', 'st...   \n",
       "\n",
       "                   best_score  \\\n",
       "random_forest        0.357079   \n",
       "gradient_boosting    0.351140   \n",
       "\n",
       "                                                         best_params  \n",
       "random_forest      {'regressor__max_depth': 35, 'regressor__min_s...  \n",
       "gradient_boosting  {'regressor__learning_rate': 0.05, 'regressor_...  "
      ]
     },
     "execution_count": 78,
     "metadata": {},
     "output_type": "execute_result"
    }
   ],
   "source": [
    "df_results"
   ]
  },
  {
   "cell_type": "markdown",
   "id": "1797b4ef",
   "metadata": {},
   "source": [
    "**Both the tuned random forest and gradient boosting have a similar rmse to the linear regression model (0.35). The performance (rmse) is not very different across the three model. Due to the simplicity, low training time and computational requirement, and interpretibility of the linear regression model, I will select this model for this problem.**"
   ]
  },
  {
   "cell_type": "markdown",
   "id": "4a23bd02",
   "metadata": {},
   "source": [
    "## 4.1 Feature importance from Random Forest"
   ]
  },
  {
   "cell_type": "code",
   "execution_count": 79,
   "id": "689d70a7",
   "metadata": {},
   "outputs": [],
   "source": [
    "# load best random forest model pipeline\n",
    "best_rf_pipeline=joblib.load(Path(ROOT_DIR,\"models\",\"random_forest.joblib\"))\n",
    "# Get best random forest model\n",
    "best_rf= best_rf_pipeline.named_steps[\"regressor\"]"
   ]
  },
  {
   "cell_type": "code",
   "execution_count": 81,
   "id": "90c7b5c2",
   "metadata": {},
   "outputs": [],
   "source": [
    "# Extract the feature importances into a dataframe\n",
    "feature_results = pd.DataFrame({'feature': feature_columns, \n",
    "                                'importance': best_rf.feature_importances_})"
   ]
  },
  {
   "cell_type": "code",
   "execution_count": 82,
   "id": "8c616850",
   "metadata": {
    "scrolled": true
   },
   "outputs": [
    {
     "data": {
      "text/plain": [
       "<AxesSubplot:title={'center':'Feature importance from random forest'}, ylabel='relative feature importance'>"
      ]
     },
     "execution_count": 82,
     "metadata": {},
     "output_type": "execute_result"
    },
    {
     "data": {
      "image/png": "[encoded data removed]",
      "text/plain": [
       "<Figure size 720x360 with 1 Axes>"
      ]
     },
     "metadata": {
      "needs_background": "light"
     },
     "output_type": "display_data"
    }
   ],
   "source": [
    "# Bar plot\n",
    "fig = plt.figure(figsize=(10,5))\n",
    "ax = fig.add_subplot(1,1,1)\n",
    "\n",
    "(feature_results\n",
    "     .sort_values(\"importance\", ascending=False)\n",
    "     .set_index(\"feature\")\n",
    "     .head(10)\n",
    "     .plot.barh(\n",
    "         ax=ax,\n",
    "         color='k',\n",
    "         alpha=0.7,\n",
    "         title=\"Feature importance from random forest\",\n",
    "         xlabel=\"relative feature importance\",\n",
    "         ylabel=\"features\"         \n",
    "     ))"
   ]
  },
  {
   "cell_type": "markdown",
   "id": "a9218eda",
   "metadata": {},
   "source": [
    "**There are only a few important determinants of annual salary (from random forest model): being in the computing or tech industry, years of experience and work: (in field experience, overall experience and age). Gender and education level matters but to a relatively smaller extent.**"
   ]
  },
  {
   "cell_type": "markdown",
   "id": "82771e68",
   "metadata": {},
   "source": [
    "## 4.2 Linear Regression Output\n",
    "- Use linear regression from statsmodel to output regression table, and then write it as a TeX or .txt file using stargazer"
   ]
  },
  {
   "cell_type": "code",
   "execution_count": 83,
   "id": "c4d358fd",
   "metadata": {},
   "outputs": [],
   "source": [
    "import statsmodels.api as sm\n",
    "from stargazer.stargazer import Stargazer"
   ]
  },
  {
   "cell_type": "code",
   "execution_count": 84,
   "id": "3b286c83",
   "metadata": {},
   "outputs": [],
   "source": [
    "# Get processed data\n",
    "X_train_processed = salary_pipeline.fit_transform(X_train, y_train)\n",
    "X_test_processed = salary_pipeline.transform(X_test)"
   ]
  },
  {
   "cell_type": "code",
   "execution_count": 85,
   "id": "f5e670be",
   "metadata": {},
   "outputs": [],
   "source": [
    "# Init the OLS model object\n",
    "X_train_processed = sm.add_constant(X_train_processed) # sm does not automatically add constant to predictors\n",
    "feat_names = list(X_train_processed.columns.values)\n",
    " \n",
    "regr = sm.OLS(y_train,\n",
    "              X_train_processed)"
   ]
  },
  {
   "cell_type": "code",
   "execution_count": 86,
   "id": "932c44fd",
   "metadata": {},
   "outputs": [
    {
     "name": "stdout",
     "output_type": "stream",
     "text": [
      "                            OLS Regression Results                            \n",
      "==============================================================================\n",
      "Dep. Variable:          annual_salary   R-squared:                       0.402\n",
      "Model:                            OLS   Adj. R-squared:                  0.401\n",
      "Method:                 Least Squares   F-statistic:                     249.8\n",
      "Date:                Mon, 04 Jul 2022   Prob (F-statistic):               0.00\n",
      "Time:                        13:19:25   Log-Likelihood:                -6340.9\n",
      "No. Observations:               16734   AIC:                         1.277e+04\n",
      "Df Residuals:                   16688   BIC:                         1.313e+04\n",
      "Df Model:                          45                                         \n",
      "Covariance Type:            nonrobust                                         \n",
      "=================================================================================================================\n",
      "                                                    coef    std err          t      P>|t|      [0.025      0.975]\n",
      "-----------------------------------------------------------------------------------------------------------------\n",
      "const                                            10.9001      0.053    205.682      0.000      10.796      11.004\n",
      "age_category                                     -0.0274      0.005     -5.572      0.000      -0.037      -0.018\n",
      "overall_experience                                0.0308      0.004      8.221      0.000       0.023       0.038\n",
      "in_field_experience                               0.0959      0.003     32.249      0.000       0.090       0.102\n",
      "industry_Computing or Tech                        0.6135      0.017     35.739      0.000       0.580       0.647\n",
      "industry_Government and Public Administration     0.2336      0.019     12.424      0.000       0.197       0.270\n",
      "industry_Other                                    0.2315      0.016     14.267      0.000       0.200       0.263\n",
      "industry_Education (Higher Education)             0.0244      0.018      1.373      0.170      -0.010       0.059\n",
      "industry_Law                                      0.2462      0.022     11.086      0.000       0.203       0.290\n",
      "industry_Accounting, Banking & Finance            0.3525      0.019     18.726      0.000       0.316       0.389\n",
      "industry_Nonprofits                               0.1003      0.018      5.648      0.000       0.065       0.135\n",
      "industry_Marketing, Advertising & PR              0.3571      0.021     17.256      0.000       0.317       0.398\n",
      "industry_Health care                              0.3005      0.019     16.134      0.000       0.264       0.337\n",
      "industry_Engineering or Manufacturing             0.4658      0.019     24.569      0.000       0.429       0.503\n",
      "state_Washington                                  0.0861      0.028      3.061      0.002       0.031       0.141\n",
      "state_Other                                      -0.0004      0.021     -0.017      0.986      -0.042       0.041\n",
      "state_Massachusetts                               0.1578      0.026      6.112      0.000       0.107       0.208\n",
      "state_California                                  0.2292      0.023      9.793      0.000       0.183       0.275\n",
      "state_Minnesota                                   0.0495      0.030      1.640      0.101      -0.010       0.109\n",
      "state_Texas                                       0.0887      0.024      3.718      0.000       0.042       0.135\n",
      "state_District of Columbia                        0.2730      0.027     10.251      0.000       0.221       0.325\n",
      "state_New York                                    0.1207      0.025      4.821      0.000       0.072       0.170\n",
      "state_Virginia                                    0.1289      0.026      5.028      0.000       0.079       0.179\n",
      "state_Pennsylvania                                0.0372      0.025      1.509      0.131      -0.011       0.086\n",
      "city_Other                                       -0.1631      0.023     -7.137      0.000      -0.208      -0.118\n",
      "city_Los Angeles                                 -0.1415      0.032     -4.489      0.000      -0.203      -0.080\n",
      "city_Boston                                      -0.0722      0.031     -2.334      0.020      -0.133      -0.012\n",
      "city_Seattle                                     -0.0091      0.033     -0.271      0.786      -0.075       0.057\n",
      "city_San Francisco                                0.0448      0.032      1.415      0.157      -0.017       0.107\n",
      "city_New York                                     0.0136      0.024      0.580      0.562      -0.032       0.060\n",
      "city_Washington                                  -0.1055      0.035     -2.996      0.003      -0.175      -0.036\n",
      "city_Minneapolis                                 -0.0986      0.038     -2.586      0.010      -0.173      -0.024\n",
      "city_Portland                                    -0.0581      0.030     -1.909      0.056      -0.118       0.002\n",
      "city_Chicago                                     -0.0092      0.034     -0.271      0.787      -0.076       0.057\n",
      "gender_Other                                     -0.1629      0.015    -10.669      0.000      -0.193      -0.133\n",
      "gender_Woman                                     -0.0996      0.008    -12.640      0.000      -0.115      -0.084\n",
      "race_White                                       -0.0447      0.017     -2.568      0.010      -0.079      -0.011\n",
      "race_Hispanic, Latino, or Spanish origin         -0.0567      0.026     -2.220      0.026      -0.107      -0.007\n",
      "race_Other                                       -0.0233      0.020     -1.173      0.241      -0.062       0.016\n",
      "race_Asian or Asian American                      0.0697      0.022      3.224      0.001       0.027       0.112\n",
      "education_High School                            -0.3400      0.041     -8.305      0.000      -0.420      -0.260\n",
      "education_Master's degree                         0.0306      0.035      0.865      0.387      -0.039       0.100\n",
      "education_PhD                                     0.2647      0.037      7.114      0.000       0.192       0.338\n",
      "education_College degree                         -0.0880      0.035     -2.497      0.013      -0.157      -0.019\n",
      "education_Some college                           -0.2797      0.037     -7.650      0.000      -0.351      -0.208\n",
      "education_Professional degree (MD, JD, etc.)      0.2953      0.038      7.762      0.000       0.221       0.370\n",
      "==============================================================================\n",
      "Omnibus:                     1658.488   Durbin-Watson:                   2.003\n",
      "Prob(Omnibus):                  0.000   Jarque-Bera (JB):             4854.949\n",
      "Skew:                          -0.536   Prob(JB):                         0.00\n",
      "Kurtosis:                       5.411   Cond. No.                         199.\n",
      "==============================================================================\n",
      "\n",
      "Notes:\n",
      "[1] Standard Errors assume that the covariance matrix of the errors is correctly specified.\n"
     ]
    }
   ],
   "source": [
    "res = regr.fit()\n",
    "print(res.summary(xname=feat_names))"
   ]
  },
  {
   "cell_type": "code",
   "execution_count": 87,
   "id": "f326c720",
   "metadata": {},
   "outputs": [],
   "source": [
    "## Use Stargazer to render regression output"
   ]
  },
  {
   "cell_type": "code",
   "execution_count": 88,
   "id": "178e845e",
   "metadata": {},
   "outputs": [],
   "source": [
    "# res must be a sm.ols fitted model with pd.Series (DV) and pd.Dataframe (IV) inputs\n",
    "stargazer = Stargazer([res])\n",
    "\n",
    "# Customize the regression table\n",
    "stargazer.title('Salary survey analysis') # custom title\n",
    "stargazer.show_confidence_intervals(True) # show 95% CI\n",
    "stargazer.rename_covariates({'city_Boston': 'city:Boston'})"
   ]
  },
  {
   "cell_type": "code",
   "execution_count": 89,
   "id": "1132e008",
   "metadata": {},
   "outputs": [
    {
     "data": {
      "text/html": [
       "Salary survey analysis<br><table style=\"text-align:center\"><tr><td colspan=\"2\" style=\"border-bottom: 1px solid black\"></td></tr><tr><td style=\"text-align:left\"></td><td colspan=\"1\"><em>Dependent variable:annual_salary</em></td></tr><tr><td style=\"text-align:left\"></td><tr><td style=\"text-align:left\"></td><td>(1)</td></tr><tr><td colspan=\"2\" style=\"border-bottom: 1px solid black\"></td></tr><tr><td style=\"text-align:left\">age_category</td><td>-0.027<sup>***</sup></td></tr><tr><td style=\"text-align:left\"></td><td>(-0.037 , -0.018)</td></tr><tr><td style=\"text-align:left\">city:Boston</td><td>-0.072<sup>**</sup></td></tr><tr><td style=\"text-align:left\"></td><td>(-0.133 , -0.012)</td></tr><tr><td style=\"text-align:left\">city_Chicago</td><td>-0.009<sup></sup></td></tr><tr><td style=\"text-align:left\"></td><td>(-0.076 , 0.057)</td></tr><tr><td style=\"text-align:left\">city_Los Angeles</td><td>-0.141<sup>***</sup></td></tr><tr><td style=\"text-align:left\"></td><td>(-0.203 , -0.080)</td></tr><tr><td style=\"text-align:left\">city_Minneapolis</td><td>-0.099<sup>***</sup></td></tr><tr><td style=\"text-align:left\"></td><td>(-0.173 , -0.024)</td></tr><tr><td style=\"text-align:left\">city_New York</td><td>0.014<sup></sup></td></tr><tr><td style=\"text-align:left\"></td><td>(-0.032 , 0.060)</td></tr><tr><td style=\"text-align:left\">city_Other</td><td>-0.163<sup>***</sup></td></tr><tr><td style=\"text-align:left\"></td><td>(-0.208 , -0.118)</td></tr><tr><td style=\"text-align:left\">city_Portland</td><td>-0.058<sup>*</sup></td></tr><tr><td style=\"text-align:left\"></td><td>(-0.118 , 0.002)</td></tr><tr><td style=\"text-align:left\">city_San Francisco</td><td>0.045<sup></sup></td></tr><tr><td style=\"text-align:left\"></td><td>(-0.017 , 0.107)</td></tr><tr><td style=\"text-align:left\">city_Seattle</td><td>-0.009<sup></sup></td></tr><tr><td style=\"text-align:left\"></td><td>(-0.075 , 0.057)</td></tr><tr><td style=\"text-align:left\">city_Washington</td><td>-0.106<sup>***</sup></td></tr><tr><td style=\"text-align:left\"></td><td>(-0.175 , -0.036)</td></tr><tr><td style=\"text-align:left\">const</td><td>10.900<sup>***</sup></td></tr><tr><td style=\"text-align:left\"></td><td>(10.796 , 11.004)</td></tr><tr><td style=\"text-align:left\">education_College degree</td><td>-0.088<sup>**</sup></td></tr><tr><td style=\"text-align:left\"></td><td>(-0.157 , -0.019)</td></tr><tr><td style=\"text-align:left\">education_High School</td><td>-0.340<sup>***</sup></td></tr><tr><td style=\"text-align:left\"></td><td>(-0.420 , -0.260)</td></tr><tr><td style=\"text-align:left\">education_Master's degree</td><td>0.031<sup></sup></td></tr><tr><td style=\"text-align:left\"></td><td>(-0.039 , 0.100)</td></tr><tr><td style=\"text-align:left\">education_PhD</td><td>0.265<sup>***</sup></td></tr><tr><td style=\"text-align:left\"></td><td>(0.192 , 0.338)</td></tr><tr><td style=\"text-align:left\">education_Professional degree (MD, JD, etc.)</td><td>0.295<sup>***</sup></td></tr><tr><td style=\"text-align:left\"></td><td>(0.221 , 0.370)</td></tr><tr><td style=\"text-align:left\">education_Some college</td><td>-0.280<sup>***</sup></td></tr><tr><td style=\"text-align:left\"></td><td>(-0.351 , -0.208)</td></tr><tr><td style=\"text-align:left\">gender_Other</td><td>-0.163<sup>***</sup></td></tr><tr><td style=\"text-align:left\"></td><td>(-0.193 , -0.133)</td></tr><tr><td style=\"text-align:left\">gender_Woman</td><td>-0.100<sup>***</sup></td></tr><tr><td style=\"text-align:left\"></td><td>(-0.115 , -0.084)</td></tr><tr><td style=\"text-align:left\">in_field_experience</td><td>0.096<sup>***</sup></td></tr><tr><td style=\"text-align:left\"></td><td>(0.090 , 0.102)</td></tr><tr><td style=\"text-align:left\">industry_Accounting, Banking & Finance</td><td>0.353<sup>***</sup></td></tr><tr><td style=\"text-align:left\"></td><td>(0.316 , 0.389)</td></tr><tr><td style=\"text-align:left\">industry_Computing or Tech</td><td>0.613<sup>***</sup></td></tr><tr><td style=\"text-align:left\"></td><td>(0.580 , 0.647)</td></tr><tr><td style=\"text-align:left\">industry_Education (Higher Education)</td><td>0.024<sup></sup></td></tr><tr><td style=\"text-align:left\"></td><td>(-0.010 , 0.059)</td></tr><tr><td style=\"text-align:left\">industry_Engineering or Manufacturing</td><td>0.466<sup>***</sup></td></tr><tr><td style=\"text-align:left\"></td><td>(0.429 , 0.503)</td></tr><tr><td style=\"text-align:left\">industry_Government and Public Administration</td><td>0.234<sup>***</sup></td></tr><tr><td style=\"text-align:left\"></td><td>(0.197 , 0.270)</td></tr><tr><td style=\"text-align:left\">industry_Health care</td><td>0.301<sup>***</sup></td></tr><tr><td style=\"text-align:left\"></td><td>(0.264 , 0.337)</td></tr><tr><td style=\"text-align:left\">industry_Law</td><td>0.246<sup>***</sup></td></tr><tr><td style=\"text-align:left\"></td><td>(0.203 , 0.290)</td></tr><tr><td style=\"text-align:left\">industry_Marketing, Advertising & PR</td><td>0.357<sup>***</sup></td></tr><tr><td style=\"text-align:left\"></td><td>(0.317 , 0.398)</td></tr><tr><td style=\"text-align:left\">industry_Nonprofits</td><td>0.100<sup>***</sup></td></tr><tr><td style=\"text-align:left\"></td><td>(0.065 , 0.135)</td></tr><tr><td style=\"text-align:left\">industry_Other</td><td>0.232<sup>***</sup></td></tr><tr><td style=\"text-align:left\"></td><td>(0.200 , 0.263)</td></tr><tr><td style=\"text-align:left\">overall_experience</td><td>0.031<sup>***</sup></td></tr><tr><td style=\"text-align:left\"></td><td>(0.023 , 0.038)</td></tr><tr><td style=\"text-align:left\">race_Asian or Asian American</td><td>0.070<sup>***</sup></td></tr><tr><td style=\"text-align:left\"></td><td>(0.027 , 0.112)</td></tr><tr><td style=\"text-align:left\">race_Hispanic, Latino, or Spanish origin</td><td>-0.057<sup>**</sup></td></tr><tr><td style=\"text-align:left\"></td><td>(-0.107 , -0.007)</td></tr><tr><td style=\"text-align:left\">race_Other</td><td>-0.023<sup></sup></td></tr><tr><td style=\"text-align:left\"></td><td>(-0.062 , 0.016)</td></tr><tr><td style=\"text-align:left\">race_White</td><td>-0.045<sup>**</sup></td></tr><tr><td style=\"text-align:left\"></td><td>(-0.079 , -0.011)</td></tr><tr><td style=\"text-align:left\">state_California</td><td>0.229<sup>***</sup></td></tr><tr><td style=\"text-align:left\"></td><td>(0.183 , 0.275)</td></tr><tr><td style=\"text-align:left\">state_District of Columbia</td><td>0.273<sup>***</sup></td></tr><tr><td style=\"text-align:left\"></td><td>(0.221 , 0.325)</td></tr><tr><td style=\"text-align:left\">state_Massachusetts</td><td>0.158<sup>***</sup></td></tr><tr><td style=\"text-align:left\"></td><td>(0.107 , 0.208)</td></tr><tr><td style=\"text-align:left\">state_Minnesota</td><td>0.050<sup></sup></td></tr><tr><td style=\"text-align:left\"></td><td>(-0.010 , 0.109)</td></tr><tr><td style=\"text-align:left\">state_New York</td><td>0.121<sup>***</sup></td></tr><tr><td style=\"text-align:left\"></td><td>(0.072 , 0.170)</td></tr><tr><td style=\"text-align:left\">state_Other</td><td>-0.000<sup></sup></td></tr><tr><td style=\"text-align:left\"></td><td>(-0.042 , 0.041)</td></tr><tr><td style=\"text-align:left\">state_Pennsylvania</td><td>0.037<sup></sup></td></tr><tr><td style=\"text-align:left\"></td><td>(-0.011 , 0.086)</td></tr><tr><td style=\"text-align:left\">state_Texas</td><td>0.089<sup>***</sup></td></tr><tr><td style=\"text-align:left\"></td><td>(0.042 , 0.135)</td></tr><tr><td style=\"text-align:left\">state_Virginia</td><td>0.129<sup>***</sup></td></tr><tr><td style=\"text-align:left\"></td><td>(0.079 , 0.179)</td></tr><tr><td style=\"text-align:left\">state_Washington</td><td>0.086<sup>***</sup></td></tr><tr><td style=\"text-align:left\"></td><td>(0.031 , 0.141)</td></tr><td colspan=\"2\" style=\"border-bottom: 1px solid black\"></td></tr><tr><td style=\"text-align: left\">Observations</td><td>16,734</td></tr><tr><td style=\"text-align: left\">R<sup>2</sup></td><td>0.402</td></tr><tr><td style=\"text-align: left\">Adjusted R<sup>2</sup></td><td>0.401</td></tr><tr><td style=\"text-align: left\">Residual Std. Error</td><td>0.354 (df=16688)</td></tr><tr><td style=\"text-align: left\">F Statistic</td><td>249.808<sup>***</sup> (df=45; 16688)</td></tr><tr><td colspan=\"2\" style=\"border-bottom: 1px solid black\"></td></tr><tr><td style=\"text-align: left\">Note:</td>\n",
       " <td colspan=\"1\" style=\"text-align: right\">\n",
       "  <sup>*</sup>p&lt;0.1;\n",
       "  <sup>**</sup>p&lt;0.05;\n",
       "  <sup>***</sup>p&lt;0.01\n",
       " </td></tr></table>"
      ],
      "text/plain": [
       "<stargazer.stargazer.Stargazer at 0x12fb7b940>"
      ]
     },
     "execution_count": 89,
     "metadata": {},
     "output_type": "execute_result"
    }
   ],
   "source": [
    "stargazer"
   ]
  },
  {
   "cell_type": "markdown",
   "id": "d5f9f282",
   "metadata": {},
   "source": [
    "**Render html code using stargazer and output .html file**"
   ]
  },
  {
   "cell_type": "code",
   "execution_count": 90,
   "id": "d8e418a9",
   "metadata": {},
   "outputs": [],
   "source": [
    "# I can render latex code, or html code and write it onto a file\n",
    "html_code=stargazer.render_html()"
   ]
  },
  {
   "cell_type": "code",
   "execution_count": 91,
   "id": "5d89c5fe",
   "metadata": {},
   "outputs": [],
   "source": [
    "html_file = open(Path(\"outputs\",\"linear_regression_results.html\"), \"w\")\n",
    "_n = html_file.write(html_code)\n",
    "html_file.close()"
   ]
  },
  {
   "cell_type": "markdown",
   "id": "42d00616",
   "metadata": {},
   "source": [
    "**Render LaTeX code using stargazer and output .tex file**"
   ]
  },
  {
   "cell_type": "code",
   "execution_count": 92,
   "id": "cee4161a",
   "metadata": {},
   "outputs": [],
   "source": [
    "tex_code=stargazer.render_latex()"
   ]
  },
  {
   "cell_type": "code",
   "execution_count": 93,
   "id": "457f0aa9",
   "metadata": {},
   "outputs": [],
   "source": [
    "tex_file = open(Path(\"outputs\",\"linear_regression_results.tex\"), \"w\")\n",
    "_n = tex_file.write(tex_code)\n",
    "tex_file.close()"
   ]
  }
 ],
 "metadata": {
  "kernelspec": {
   "display_name": "Python 3",
   "language": "python",
   "name": "python3"
  },
  "language_info": {
   "codemirror_mode": {
    "name": "ipython",
    "version": 3
   },
   "file_extension": ".py",
   "mimetype": "text/x-python",
   "name": "python",
   "nbconvert_exporter": "python",
   "pygments_lexer": "ipython3",
   "version": "3.9.0"
  }
 },
 "nbformat": 4,
 "nbformat_minor": 5
}
