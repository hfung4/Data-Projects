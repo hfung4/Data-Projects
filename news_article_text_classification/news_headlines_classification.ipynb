{
 "cells": [
  {
   "cell_type": "markdown",
   "metadata": {},
   "source": [
    "**In this project, I will process labelled news headlines, explore the text data, perform topic modelling, and then build predictive models to classify news headlines into different domains: Business, SciTech, Sports, World.**"
   ]
  },
  {
   "cell_type": "code",
   "execution_count": 397,
   "metadata": {
    "scrolled": true
   },
   "outputs": [],
   "source": [
    "'''data'''\n",
    "import pandas as pd\n",
    "import numpy as np\n",
    "import spacy\n",
    "import re\n",
    "import os\n",
    "import json\n",
    "import itertools as it\n",
    "import pickle\n",
    "\n",
    "%run headlines_helper_functions.ipynb\n",
    "\n",
    "'''Visualization'''\n",
    "import matplotlib.pyplot as plt\n",
    "import seaborn as sns\n",
    "\n",
    "''' Features'''\n",
    "from sklearn.preprocessing import LabelEncoder, label_binarize\n",
    "from sklearn.feature_extraction.text import TfidfVectorizer\n",
    "from sklearn.decomposition import TruncatedSVD\n",
    "\n",
    "'''Estimators'''\n",
    "from sklearn.linear_model import SGDClassifier\n",
    "from sklearn.neighbors import KNeighborsClassifier\n",
    "from sklearn.naive_bayes import GaussianNB\n",
    "from sklearn.ensemble import RandomForestClassifier, AdaBoostClassifier\n",
    "from sklearn.multiclass import OneVsRestClassifier\n",
    "\n",
    "'''Modelling'''\n",
    "from sklearn.model_selection import train_test_split, GridSearchCV\n",
    "from sklearn.metrics import accuracy_score, recall_score, precision_score \n",
    "from sklearn.metrics import roc_auc_score, f1_score, roc_curve, auc, confusion_matrix"
   ]
  },
  {
   "cell_type": "markdown",
   "metadata": {},
   "source": [
    "## Import data"
   ]
  },
  {
   "cell_type": "code",
   "execution_count": 195,
   "metadata": {},
   "outputs": [
    {
     "name": "stdout",
     "output_type": "stream",
     "text": [
      "{\"content\": \"Unions representing workers at Turner   Newall say they are 'disappointed' after talks with stricken parent firm Federal Mogul.\",\"annotation\":{\"notes\":\"\",\"label\":[\"Business\"]},\"extras\":null,\"metadata\":{\"first_done_at\":1521027375000,\"last_updated_at\":1521027375000,\"sec_taken\":0,\"last_updated_by\":\"nlYZXxNBQefF2u9VX52CdONFp0C3\",\"status\":\"done\",\"evaluation\":\"NONE\"}}\n",
      "\n"
     ]
    }
   ],
   "source": [
    "# Take a look at what the first headline looks like\n",
    "with open(\"news_article_data.json\") as file:\n",
    "    first_record = file.readline()\n",
    "\n",
    "print(first_record)  # two fields are of interest: \"content\" and \"annotation\"."
   ]
  },
  {
   "cell_type": "code",
   "execution_count": 197,
   "metadata": {
    "code_folding": []
   },
   "outputs": [],
   "source": [
    "# Read in each headline and convert it to a Python dict, \n",
    "# get the text of each headline, and write it into a new text file that  \n",
    "# contains  one headline per line in the file.\n",
    "\n",
    "scratch_directory = os.path.join('scratch')\n",
    "\n",
    "# create a scratch directory if one doesn't already exist\n",
    "try:\n",
    "    os.mkdir(scratch_directory)\n",
    "except FileExistsError:\n",
    "    pass\n",
    "\n",
    "# name of the text file that contains all headline text\n",
    "headline_txt_filepath = os.path.join(scratch_directory, 'headline_text_all.txt') "
   ]
  },
  {
   "cell_type": "code",
   "execution_count": 198,
   "metadata": {},
   "outputs": [],
   "source": [
    "headline_count = 0 #  init headline counter\n",
    "labels = [] # a list for the headline labels\n",
    "\n",
    "# create and open a new file in write mode\n",
    "with open(headline_txt_filepath, 'w') as headline_txt_file:\n",
    "    \n",
    "    # open \"news_article_data.json\" in read mode (the original data file)\n",
    "    with open (\"news_article_data.json\", 'r') as headline_json_file:\n",
    "        \n",
    "        # convert each json record into dict and write the headline text into the new file\n",
    "        for line in headline_json_file:\n",
    "            headline = json.loads(line)\n",
    "            headline_txt_file.write(headline['content'] + '\\n')\n",
    "            headline_count +=1\n",
    "            \n",
    "            #Get label\n",
    "            labels.append(headline['annotation']['label'][0])  \n",
    "            "
   ]
  },
  {
   "cell_type": "code",
   "execution_count": 199,
   "metadata": {},
   "outputs": [
    {
     "data": {
      "text/plain": [
       "(7600, 7600)"
      ]
     },
     "execution_count": 199,
     "metadata": {},
     "output_type": "execute_result"
    }
   ],
   "source": [
    "len(labels), headline_count"
   ]
  },
  {
   "cell_type": "markdown",
   "metadata": {},
   "source": [
    "************************************************************************************************************"
   ]
  },
  {
   "cell_type": "markdown",
   "metadata": {},
   "source": [
    "## Using spaCy to process text"
   ]
  },
  {
   "cell_type": "code",
   "execution_count": 200,
   "metadata": {},
   "outputs": [],
   "source": [
    "nlp = spacy.load('en_core_web_sm')"
   ]
  },
  {
   "cell_type": "markdown",
   "metadata": {},
   "source": [
    "**Grab a sample headline to \"play\" with and try out the functionalities of spaCy.**"
   ]
  },
  {
   "cell_type": "code",
   "execution_count": 201,
   "metadata": {
    "scrolled": true
   },
   "outputs": [
    {
     "name": "stdout",
     "output_type": "stream",
     "text": [
      "Bea Arthur sparked a security scare at Logan Airport in Boston this week when she tried to board a Cape Air flight with a pocketknife in her handbag.    The \"Golden Girls\" star, now 81, was flagged by a Transportation Security Administration agent, who discovered the knife - a strict no-no following 9/11.    \"She started yelling that it wasn't hers and said 'The terrorists put it there,' \" a fellow passenger said. \"She kept yelling about the 'terrorists, the terrorists, the terrorists.' \"    After the blade was confiscated, Arthur took a keyring from her bag and told the agent it belonged to the \"terrorists,\" before throwing it at them.  - via philly.com\n"
     ]
    }
   ],
   "source": [
    "headline_num = 789\n",
    "\n",
    "with open(\"news_article_data.json\") as file:\n",
    "    # convert the json record to a Python dict. \"data\" is a list of dicts\n",
    "    data=[json.loads(line) for line in file]\n",
    "    \n",
    "sample_headline = data[headline_num]['content']\n",
    "print(sample_headline)"
   ]
  },
  {
   "cell_type": "code",
   "execution_count": 202,
   "metadata": {},
   "outputs": [
    {
     "data": {
      "text/plain": [
       "['tagger', 'parser', 'ner']"
      ]
     },
     "execution_count": 202,
     "metadata": {},
     "output_type": "execute_result"
    }
   ],
   "source": [
    "nlp.pipe_names # nlp pipeline contains tagger, parser and ner models"
   ]
  },
  {
   "cell_type": "code",
   "execution_count": 203,
   "metadata": {},
   "outputs": [],
   "source": [
    "parsed_headline = nlp(sample_headline) # apply spaCy nlp models to the sample headline (ex: tagger, parser, ner )"
   ]
  },
  {
   "cell_type": "code",
   "execution_count": 204,
   "metadata": {},
   "outputs": [
    {
     "name": "stdout",
     "output_type": "stream",
     "text": [
      "Bea Arthur sparked a security scare at Logan Airport in Boston this week when she tried to board a Cape Air flight with a pocketknife in her handbag.    The \"Golden Girls\" star, now 81, was flagged by a Transportation Security Administration agent, who discovered the knife - a strict no-no following 9/11.    \"She started yelling that it wasn't hers and said 'The terrorists put it there,' \" a fellow passenger said. \"She kept yelling about the 'terrorists, the terrorists, the terrorists.' \"    After the blade was confiscated, Arthur took a keyring from her bag and told the agent it belonged to the \"terrorists,\" before throwing it at them.  - via philly.com\n"
     ]
    }
   ],
   "source": [
    "print(parsed_headline)"
   ]
  },
  {
   "cell_type": "markdown",
   "metadata": {},
   "source": [
    "**The text looks the same so far, but spaCy already performed all the sentence detection, tokenization, normalization etc...**"
   ]
  },
  {
   "cell_type": "code",
   "execution_count": null,
   "metadata": {},
   "outputs": [],
   "source": []
  },
  {
   "cell_type": "markdown",
   "metadata": {},
   "source": [
    "**Sentence Detection**"
   ]
  },
  {
   "cell_type": "code",
   "execution_count": 205,
   "metadata": {
    "scrolled": true
   },
   "outputs": [
    {
     "data": {
      "text/plain": [
       "<generator at 0x1adc1feec28>"
      ]
     },
     "execution_count": 205,
     "metadata": {},
     "output_type": "execute_result"
    }
   ],
   "source": [
    "parsed_headline.sents # sentencize the sample headline, I get a generator"
   ]
  },
  {
   "cell_type": "code",
   "execution_count": 206,
   "metadata": {},
   "outputs": [
    {
     "name": "stdout",
     "output_type": "stream",
     "text": [
      "Sentence number:0\n",
      "Bea Arthur sparked a security scare at Logan Airport in Boston this week when she tried to board a Cape Air flight with a pocketknife in her handbag.    \n",
      "\n",
      "Sentence number:1\n",
      "The \"Golden Girls\" star, now 81, was flagged by a Transportation Security Administration agent, who discovered the knife - a strict no-no following 9/11.    \n",
      "\n",
      "Sentence number:2\n",
      "\"She started yelling that it wasn't hers and said 'The terrorists put it there,' \" a fellow passenger said.\n",
      "\n",
      "Sentence number:3\n",
      "\"She kept yelling about the 'terrorists, the terrorists, the terrorists.' \"    \n",
      "\n",
      "Sentence number:4\n",
      "After the blade was confiscated, Arthur took a keyring from her bag and told the agent it belonged to the \"terrorists,\" before throwing it at them.  \n",
      "\n",
      "Sentence number:5\n",
      "- via philly.com\n",
      "\n"
     ]
    }
   ],
   "source": [
    "for i, text in enumerate(parsed_headline.sents):\n",
    "    print(\"Sentence number:{}\".format(i))\n",
    "    print(text)\n",
    "    print('')"
   ]
  },
  {
   "cell_type": "markdown",
   "metadata": {},
   "source": [
    "**The headline is \"sub-divided\" into its sentences.  In other words, the headline is \"sentencize\".**"
   ]
  },
  {
   "cell_type": "markdown",
   "metadata": {},
   "source": [
    "**Tokenization, lemmatization, and token shape analysis**"
   ]
  },
  {
   "cell_type": "code",
   "execution_count": 207,
   "metadata": {},
   "outputs": [],
   "source": [
    "token_text = [token.text for token in parsed_headline] \n",
    "token_lemma = [token.lemma_ for token in parsed_headline] \n",
    "token_shape = [token.shape_ for token in parsed_headline]"
   ]
  },
  {
   "cell_type": "code",
   "execution_count": 208,
   "metadata": {},
   "outputs": [
    {
     "data": {
      "text/html": [
       "<div>\n",
       "<style scoped>\n",
       "    .dataframe tbody tr th:only-of-type {\n",
       "        vertical-align: middle;\n",
       "    }\n",
       "\n",
       "    .dataframe tbody tr th {\n",
       "        vertical-align: top;\n",
       "    }\n",
       "\n",
       "    .dataframe thead th {\n",
       "        text-align: right;\n",
       "    }\n",
       "</style>\n",
       "<table border=\"1\" class=\"dataframe\">\n",
       "  <thead>\n",
       "    <tr style=\"text-align: right;\">\n",
       "      <th></th>\n",
       "      <th>token text</th>\n",
       "      <th>token lemma</th>\n",
       "      <th>token shape</th>\n",
       "    </tr>\n",
       "  </thead>\n",
       "  <tbody>\n",
       "    <tr>\n",
       "      <th>87</th>\n",
       "      <td>.</td>\n",
       "      <td>.</td>\n",
       "      <td>.</td>\n",
       "    </tr>\n",
       "    <tr>\n",
       "      <th>123</th>\n",
       "      <td>it</td>\n",
       "      <td>-PRON-</td>\n",
       "      <td>xx</td>\n",
       "    </tr>\n",
       "    <tr>\n",
       "      <th>68</th>\n",
       "      <td>it</td>\n",
       "      <td>-PRON-</td>\n",
       "      <td>xx</td>\n",
       "    </tr>\n",
       "    <tr>\n",
       "      <th>36</th>\n",
       "      <td>,</td>\n",
       "      <td>,</td>\n",
       "      <td>,</td>\n",
       "    </tr>\n",
       "    <tr>\n",
       "      <th>21</th>\n",
       "      <td>flight</td>\n",
       "      <td>flight</td>\n",
       "      <td>xxxx</td>\n",
       "    </tr>\n",
       "  </tbody>\n",
       "</table>\n",
       "</div>"
      ],
      "text/plain": [
       "    token text token lemma token shape\n",
       "87           .           .           .\n",
       "123         it      -PRON-          xx\n",
       "68          it      -PRON-          xx\n",
       "36           ,           ,           ,\n",
       "21      flight      flight        xxxx"
      ]
     },
     "execution_count": 208,
     "metadata": {},
     "output_type": "execute_result"
    }
   ],
   "source": [
    "temp= pd.DataFrame(zip(token_text, token_lemma, token_shape),\n",
    "            columns= ['token text', 'token lemma', 'token shape'])\n",
    "\n",
    "temp.sample(5)"
   ]
  },
  {
   "cell_type": "code",
   "execution_count": null,
   "metadata": {},
   "outputs": [],
   "source": []
  },
  {
   "cell_type": "markdown",
   "metadata": {},
   "source": [
    "### spaCY also performs part of speech tagging (detects the verb, noun, proper noun etc... in a sentence)\n",
    "- Noun (N)- Daniel, London, table, dog, teacher, pen, city, happiness, hope\n",
    "- Verb (V)- go, speak, run, eat, play, live, walk, have, like, are, is\n",
    "- Adjective(ADJ)- big, happy, green, young, fun, crazy, three\n",
    "- Adverb(ADV)- slowly, quietly, very, always, never, too, well, tomorrow\n",
    "- Preposition (P)- at, on, in, from, with, near, between, about, under\n",
    "- Conjunction (CON)- and, or, but, because, so, yet, unless, since, if\n",
    "- Pronoun(PRO)- I, you, we, they, he, she, it, me, us, them, him, her, this\n",
    "- Interjection (INT)- Ouch! Wow! Great! Help! Oh! Hey! Hi!"
   ]
  },
  {
   "cell_type": "code",
   "execution_count": 209,
   "metadata": {},
   "outputs": [
    {
     "data": {
      "text/html": [
       "<div>\n",
       "<style scoped>\n",
       "    .dataframe tbody tr th:only-of-type {\n",
       "        vertical-align: middle;\n",
       "    }\n",
       "\n",
       "    .dataframe tbody tr th {\n",
       "        vertical-align: top;\n",
       "    }\n",
       "\n",
       "    .dataframe thead th {\n",
       "        text-align: right;\n",
       "    }\n",
       "</style>\n",
       "<table border=\"1\" class=\"dataframe\">\n",
       "  <thead>\n",
       "    <tr style=\"text-align: right;\">\n",
       "      <th></th>\n",
       "      <th>token</th>\n",
       "      <th>part_of_speech</th>\n",
       "    </tr>\n",
       "  </thead>\n",
       "  <tbody>\n",
       "    <tr>\n",
       "      <th>99</th>\n",
       "      <td>,</td>\n",
       "      <td>PUNCT</td>\n",
       "    </tr>\n",
       "    <tr>\n",
       "      <th>57</th>\n",
       "      <td>-</td>\n",
       "      <td>PUNCT</td>\n",
       "    </tr>\n",
       "    <tr>\n",
       "      <th>118</th>\n",
       "      <td>bag</td>\n",
       "      <td>NOUN</td>\n",
       "    </tr>\n",
       "    <tr>\n",
       "      <th>121</th>\n",
       "      <td>the</td>\n",
       "      <td>DET</td>\n",
       "    </tr>\n",
       "    <tr>\n",
       "      <th>20</th>\n",
       "      <td>Air</td>\n",
       "      <td>PROPN</td>\n",
       "    </tr>\n",
       "    <tr>\n",
       "      <th>64</th>\n",
       "      <td>She</td>\n",
       "      <td>PRON</td>\n",
       "    </tr>\n",
       "    <tr>\n",
       "      <th>120</th>\n",
       "      <td>told</td>\n",
       "      <td>VERB</td>\n",
       "    </tr>\n",
       "    <tr>\n",
       "      <th>37</th>\n",
       "      <td>now</td>\n",
       "      <td>ADV</td>\n",
       "    </tr>\n",
       "    <tr>\n",
       "      <th>137</th>\n",
       "      <td></td>\n",
       "      <td>SPACE</td>\n",
       "    </tr>\n",
       "    <tr>\n",
       "      <th>135</th>\n",
       "      <td>them</td>\n",
       "      <td>PRON</td>\n",
       "    </tr>\n",
       "  </tbody>\n",
       "</table>\n",
       "</div>"
      ],
      "text/plain": [
       "    token part_of_speech\n",
       "99      ,          PUNCT\n",
       "57      -          PUNCT\n",
       "118   bag           NOUN\n",
       "121   the            DET\n",
       "20    Air          PROPN\n",
       "64    She           PRON\n",
       "120  told           VERB\n",
       "37    now            ADV\n",
       "137                SPACE\n",
       "135  them           PRON"
      ]
     },
     "execution_count": 209,
     "metadata": {},
     "output_type": "execute_result"
    }
   ],
   "source": [
    "token_pos = [token.pos_ for token in parsed_headline]\n",
    "temp = pd.DataFrame(\n",
    "    zip(token_text, token_pos),\n",
    "    columns=['token', 'part_of_speech']\n",
    "    )\n",
    "\n",
    "temp.sample(10)"
   ]
  },
  {
   "cell_type": "code",
   "execution_count": null,
   "metadata": {},
   "outputs": [],
   "source": []
  },
  {
   "cell_type": "markdown",
   "metadata": {},
   "source": [
    "### Name Entity Recognition (NER)\n",
    "- A name entity is a \"real world object\" that is assigned a name.  For example:\n",
    "    - A person\n",
    "    - A country\n",
    "    - A product\n",
    "    - A book title\n",
    "        \n",
    "- If my text data is a chapter of a fiction, and my task is to find out the character that appeared the most in that chapter, then I need NER.\n",
    "- First, I need to identify the names in a sentence.\n",
    "- Then I need to get a list of all the unique names that appear in all the sentences in the chapter.\n",
    "- Finally, I count the number of times that each name appear."
   ]
  },
  {
   "cell_type": "code",
   "execution_count": 210,
   "metadata": {},
   "outputs": [
    {
     "data": {
      "text/plain": [
       "Bea Arthur sparked a security scare at Logan Airport in Boston this week when she tried to board a Cape Air flight with a pocketknife in her handbag.    The \"Golden Girls\" star, now 81, was flagged by a Transportation Security Administration agent, who discovered the knife - a strict no-no following 9/11.    \"She started yelling that it wasn't hers and said 'The terrorists put it there,' \" a fellow passenger said. \"She kept yelling about the 'terrorists, the terrorists, the terrorists.' \"    After the blade was confiscated, Arthur took a keyring from her bag and told the agent it belonged to the \"terrorists,\" before throwing it at them.  - via philly.com"
      ]
     },
     "execution_count": 210,
     "metadata": {},
     "output_type": "execute_result"
    }
   ],
   "source": [
    "parsed_headline"
   ]
  },
  {
   "cell_type": "code",
   "execution_count": 211,
   "metadata": {
    "scrolled": false
   },
   "outputs": [
    {
     "data": {
      "text/plain": [
       "(Bea Arthur,\n",
       " Logan Airport,\n",
       " Boston,\n",
       " this week,\n",
       " Cape Air,\n",
       " The \"Golden Girls\" star,\n",
       " 81,\n",
       " Transportation Security Administration,\n",
       " 9/11,\n",
       " Arthur)"
      ]
     },
     "execution_count": 211,
     "metadata": {},
     "output_type": "execute_result"
    }
   ],
   "source": [
    "parsed_headline.ents # get the named entities"
   ]
  },
  {
   "cell_type": "code",
   "execution_count": 212,
   "metadata": {},
   "outputs": [
    {
     "name": "stdout",
     "output_type": "stream",
     "text": [
      "<class 'tuple'>\n"
     ]
    }
   ],
   "source": [
    "print(type(parsed_headline.ents)) # tuples that contains the word phrases (can be 1 or more words) and its named entity"
   ]
  },
  {
   "cell_type": "code",
   "execution_count": 213,
   "metadata": {},
   "outputs": [
    {
     "name": "stdout",
     "output_type": "stream",
     "text": [
      "Entity 1: Bea Arthur - PERSON\n",
      "Entity 2: Logan Airport - FAC\n",
      "Entity 3: Boston - GPE\n",
      "Entity 4: this week - DATE\n",
      "Entity 5: Cape Air - PRODUCT\n",
      "Entity 6: The \"Golden Girls\" star - FAC\n",
      "Entity 7: 81 - DATE\n",
      "Entity 8: Transportation Security Administration - ORG\n",
      "Entity 9: 9/11 - CARDINAL\n",
      "Entity 10: Arthur - PERSON\n"
     ]
    }
   ],
   "source": [
    "for i, entity in enumerate(parsed_headline.ents):\n",
    "    print(\"Entity {}: {} - {}\".format(i+1, entity, entity.label_))"
   ]
  },
  {
   "cell_type": "code",
   "execution_count": null,
   "metadata": {},
   "outputs": [],
   "source": []
  },
  {
   "cell_type": "markdown",
   "metadata": {},
   "source": [
    "### Token-level attributes\n",
    "- Whether or not a token is a:\n",
    "    - stopword?\n",
    "    - punctuation?\n",
    "    - whitespace?\n",
    "    - a number?\n",
    "    - is part of spaCy's default vocabulary?"
   ]
  },
  {
   "cell_type": "code",
   "execution_count": 214,
   "metadata": {},
   "outputs": [],
   "source": [
    "token_attributes = [(\n",
    "        token.text,  # text\n",
    "        token.prob, # log prob (frequency of word)\n",
    "        token.is_stop, # stop word?\n",
    "        token.is_punct, # a puncuation?\n",
    "        token.is_space, # a whitespace?\n",
    "        token.like_num, # a number?\n",
    "        token.is_oov # not a spaCy vocab?\n",
    "        ) for token in parsed_headline\n",
    "    ]"
   ]
  },
  {
   "cell_type": "code",
   "execution_count": 215,
   "metadata": {},
   "outputs": [],
   "source": [
    "temp = pd.DataFrame(token_attributes,\n",
    "       columns=['text', 'log_probability',\n",
    "        'stop?', 'punctuation?',\n",
    "        'whitespace?', 'number?',\n",
    "        'out of vocab.?']\n",
    "    )"
   ]
  },
  {
   "cell_type": "code",
   "execution_count": 216,
   "metadata": {
    "scrolled": true
   },
   "outputs": [
    {
     "data": {
      "text/html": [
       "<div>\n",
       "<style scoped>\n",
       "    .dataframe tbody tr th:only-of-type {\n",
       "        vertical-align: middle;\n",
       "    }\n",
       "\n",
       "    .dataframe tbody tr th {\n",
       "        vertical-align: top;\n",
       "    }\n",
       "\n",
       "    .dataframe thead th {\n",
       "        text-align: right;\n",
       "    }\n",
       "</style>\n",
       "<table border=\"1\" class=\"dataframe\">\n",
       "  <thead>\n",
       "    <tr style=\"text-align: right;\">\n",
       "      <th></th>\n",
       "      <th>text</th>\n",
       "      <th>log_probability</th>\n",
       "      <th>stop?</th>\n",
       "      <th>punctuation?</th>\n",
       "      <th>whitespace?</th>\n",
       "      <th>number?</th>\n",
       "      <th>out of vocab.?</th>\n",
       "    </tr>\n",
       "  </thead>\n",
       "  <tbody>\n",
       "    <tr>\n",
       "      <th>131</th>\n",
       "      <td>before</td>\n",
       "      <td>-20.0</td>\n",
       "      <td>Yes</td>\n",
       "      <td></td>\n",
       "      <td></td>\n",
       "      <td></td>\n",
       "      <td>Yes</td>\n",
       "    </tr>\n",
       "    <tr>\n",
       "      <th>132</th>\n",
       "      <td>throwing</td>\n",
       "      <td>-20.0</td>\n",
       "      <td></td>\n",
       "      <td></td>\n",
       "      <td></td>\n",
       "      <td></td>\n",
       "      <td>Yes</td>\n",
       "    </tr>\n",
       "    <tr>\n",
       "      <th>133</th>\n",
       "      <td>it</td>\n",
       "      <td>-20.0</td>\n",
       "      <td>Yes</td>\n",
       "      <td></td>\n",
       "      <td></td>\n",
       "      <td></td>\n",
       "      <td>Yes</td>\n",
       "    </tr>\n",
       "    <tr>\n",
       "      <th>134</th>\n",
       "      <td>at</td>\n",
       "      <td>-20.0</td>\n",
       "      <td>Yes</td>\n",
       "      <td></td>\n",
       "      <td></td>\n",
       "      <td></td>\n",
       "      <td>Yes</td>\n",
       "    </tr>\n",
       "    <tr>\n",
       "      <th>135</th>\n",
       "      <td>them</td>\n",
       "      <td>-20.0</td>\n",
       "      <td>Yes</td>\n",
       "      <td></td>\n",
       "      <td></td>\n",
       "      <td></td>\n",
       "      <td>Yes</td>\n",
       "    </tr>\n",
       "    <tr>\n",
       "      <th>136</th>\n",
       "      <td>.</td>\n",
       "      <td>-20.0</td>\n",
       "      <td></td>\n",
       "      <td>Yes</td>\n",
       "      <td></td>\n",
       "      <td></td>\n",
       "      <td>Yes</td>\n",
       "    </tr>\n",
       "    <tr>\n",
       "      <th>137</th>\n",
       "      <td></td>\n",
       "      <td>-20.0</td>\n",
       "      <td></td>\n",
       "      <td></td>\n",
       "      <td>Yes</td>\n",
       "      <td></td>\n",
       "      <td>Yes</td>\n",
       "    </tr>\n",
       "    <tr>\n",
       "      <th>138</th>\n",
       "      <td>-</td>\n",
       "      <td>-20.0</td>\n",
       "      <td></td>\n",
       "      <td>Yes</td>\n",
       "      <td></td>\n",
       "      <td></td>\n",
       "      <td>Yes</td>\n",
       "    </tr>\n",
       "    <tr>\n",
       "      <th>139</th>\n",
       "      <td>via</td>\n",
       "      <td>-20.0</td>\n",
       "      <td>Yes</td>\n",
       "      <td></td>\n",
       "      <td></td>\n",
       "      <td></td>\n",
       "      <td>Yes</td>\n",
       "    </tr>\n",
       "    <tr>\n",
       "      <th>140</th>\n",
       "      <td>philly.com</td>\n",
       "      <td>-20.0</td>\n",
       "      <td></td>\n",
       "      <td></td>\n",
       "      <td></td>\n",
       "      <td></td>\n",
       "      <td>Yes</td>\n",
       "    </tr>\n",
       "  </tbody>\n",
       "</table>\n",
       "</div>"
      ],
      "text/plain": [
       "           text  log_probability stop? punctuation? whitespace? number?  \\\n",
       "131      before            -20.0   Yes                                    \n",
       "132    throwing            -20.0                                          \n",
       "133          it            -20.0   Yes                                    \n",
       "134          at            -20.0   Yes                                    \n",
       "135        them            -20.0   Yes                                    \n",
       "136           .            -20.0                Yes                       \n",
       "137                        -20.0                            Yes           \n",
       "138           -            -20.0                Yes                       \n",
       "139         via            -20.0   Yes                                    \n",
       "140  philly.com            -20.0                                          \n",
       "\n",
       "    out of vocab.?  \n",
       "131            Yes  \n",
       "132            Yes  \n",
       "133            Yes  \n",
       "134            Yes  \n",
       "135            Yes  \n",
       "136            Yes  \n",
       "137            Yes  \n",
       "138            Yes  \n",
       "139            Yes  \n",
       "140            Yes  "
      ]
     },
     "execution_count": 216,
     "metadata": {},
     "output_type": "execute_result"
    }
   ],
   "source": [
    "temp.loc[:, 'stop?':'out of vocab.?'] = (\n",
    "    temp.loc[:, 'stop?':'out of vocab.?']\n",
    "    .applymap(lambda x: 'Yes' if x else '')\n",
    "    )\n",
    "                                               \n",
    "temp.tail(10)"
   ]
  },
  {
   "cell_type": "markdown",
   "metadata": {},
   "source": [
    "**NOTE:** \n",
    "\n",
    "- The interpretation of oov is, \"tokens that don't have a meaningful probability value are words that are not in the vocab.\"\n",
    "\n",
    "- oov is not that useful in the _sm models, and in general might not work well in data packs if there wasn't a big frequency count used to build the vocab."
   ]
  },
  {
   "cell_type": "markdown",
   "metadata": {},
   "source": [
    "************************************************************************************************************"
   ]
  },
  {
   "cell_type": "markdown",
   "metadata": {},
   "source": [
    "## Processing Text\n",
    "- Use spaCy to remove punctuation and lemmatize the text.\n",
    "- Train and apply first-order phrase model to join word pairs.\n",
    "- Train and apply second-order phrase model to join longer phrases.\n",
    "- Remove stopwords.\n",
    "- Create a bag-of-words representation."
   ]
  },
  {
   "cell_type": "code",
   "execution_count": 217,
   "metadata": {},
   "outputs": [],
   "source": [
    "from gensim.models.phrases import Phrases, Phraser\n",
    "from gensim.models.word2vec import LineSentence"
   ]
  },
  {
   "cell_type": "code",
   "execution_count": 218,
   "metadata": {},
   "outputs": [],
   "source": [
    "nlp = spacy.load('en_core_web_sm')"
   ]
  },
  {
   "cell_type": "code",
   "execution_count": 219,
   "metadata": {},
   "outputs": [],
   "source": [
    "# text file that contains cleaned and lemmatized text\n",
    "lemm_hl_filepath = os.path.join(scratch_directory, 'lemm_headline_txt_all.txt') \n",
    "# contains cleaned, lemmatized, and sentencized text \n",
    "lemm_hl_sent_filepath = os.path.join(scratch_directory, 'lemm_headline_sentence_all.txt') "
   ]
  },
  {
   "cell_type": "code",
   "execution_count": 220,
   "metadata": {},
   "outputs": [
    {
     "name": "stdout",
     "output_type": "stream",
     "text": [
      "Wall time: 0 ns\n"
     ]
    }
   ],
   "source": [
    "%%time\n",
    "execute = False\n",
    "\n",
    "if execute:\n",
    "    \n",
    "    with open(lemm_hl_filepath, 'w') as lemm_hl_file:   # open lemm_headline_txt_all.txt in write mode\n",
    "         with open(lemm_hl_sent_filepath, 'w') as lemm_sentence_file: # open lemm_headline_sentence_all.txt in write mode\n",
    "                \n",
    "                # stream in the headlines from \"headline_txt_all.txt\" 500 at a time.\n",
    "                # nlp.pipe applies nlp to each headline\n",
    "                pipe = nlp.pipe( \n",
    "                    # read line for file that contains all headline text (one per line)\n",
    "                    get_line_headline(headline_txt_filepath), \n",
    "                    batch_size = 500, \n",
    "                    n_threads=8)\n",
    "        \n",
    "                for headline in pipe:                    \n",
    "                    # lemmatize each headline (convert from a list of tokens to a string)\n",
    "                    lemm_headline = ' '.join([lemm(token) for token in headline if (not punct_space(token) and \n",
    "                                                                            get_alphanumeric(token))])\n",
    "            \n",
    "                    # Save the lemmatized text in \"lemm_headline_txt_all.txt\"\n",
    "                    lemm_hl_file.write(lemm_headline + '\\n')\n",
    "            \n",
    "            \n",
    "                    # Sentencize each headline, and then lemmatize each sentence\n",
    "                    for sentence in headline.sents: # sentencize each headline\n",
    "                        # lemm each sentence\n",
    "                        lemm_sentence = ' '.join([lemm(token) for token in sentence if (not punct_space(token) and\n",
    "                                                                               get_alphanumeric(token))])\n",
    "                        \n",
    "                        #Save each of the lemmatized sentence as a new line in \"lemm_headline_sentence_all.txt\"\n",
    "                        lemm_sentence_file.write(lemm_sentence + '\\n')"
   ]
  },
  {
   "cell_type": "markdown",
   "metadata": {},
   "source": [
    "- In \"lemm_headline_sentence_all.txt\", I have one sentence of each headline per line.\n",
    "- I use gensim LineSentence class to get an iterator of sentences. The LineSentence class allows me to easily work with other gensim components by streaming the docs (sentences) from disk (and not hold entire dataset/corpora in RAM at once).  \n",
    "- Thus, using LineSentence from gensim, I can to up-scale my modelling pipeline to very large corpora."
   ]
  },
  {
   "cell_type": "code",
   "execution_count": 224,
   "metadata": {},
   "outputs": [],
   "source": [
    "sentences_unigrams = LineSentence(lemm_hl_sent_filepath) # a LineStence object that holds all sentences in my dataset"
   ]
  },
  {
   "cell_type": "code",
   "execution_count": 225,
   "metadata": {},
   "outputs": [
    {
     "data": {
      "text/plain": [
       "gensim.models.word2vec.LineSentence"
      ]
     },
     "execution_count": 225,
     "metadata": {},
     "output_type": "execute_result"
    }
   ],
   "source": [
    "type(sentences_unigrams)"
   ]
  },
  {
   "cell_type": "markdown",
   "metadata": {},
   "source": [
    "**Let's Take a look at a few sample sentences in the transformed corpora.**"
   ]
  },
  {
   "cell_type": "code",
   "execution_count": 226,
   "metadata": {},
   "outputs": [
    {
     "name": "stdout",
     "output_type": "stream",
     "text": [
      "['emi', 'have', 'apparently', 'negotiate', 'end', 'well', 'so', 'that', 'child', 'in', 'school', 'will', 'now', 'be', 'indoctrinate', 'about', 'the', 'illegality', 'of', 'download', 'music']\n",
      "['the', 'ignorance', 'and', 'audacity', 'of', 'this', 'get', 'to', 'a', 'little', 'so', 'write', 'an', 'open', 'letter', 'to', 'the', 'dfes', 'about']\n",
      "['unfortunately', 'pedantic', 'as', 'suppose', 'have', 'to', 'be', 'when', 'write', 'to', 'goverment', 'representative']\n",
      "['but', 'hope', 'find', 'useful', 'and', 'perhaps', 'feel', 'inspired', 'to', 'do', 'something', 'similar', 'if', 'or', 'when', 'the', 'same', 'thing', 'have', 'happen', 'in', 'area']\n",
      "['jaschan', 'self', 'confess', 'author', 'of', 'the', 'netsky', 'and', 'sasser', 'virus', 'for', '70', 'percent', 'of', 'virus', 'infection', 'in', '2004', 'accord', 'to', 'a', 'six', 'roundup', 'publish', 'wednesday', 'by', 'antivirus', 'company', 'sophos']\n"
     ]
    }
   ],
   "source": [
    "# look at sentences with index 10 to 20   (it.islice(iterator, start, end, step))\n",
    "for sent_unigram in it.islice(sentences_unigrams, 10, 15):  \n",
    "    print(sent_unigram)"
   ]
  },
  {
   "cell_type": "code",
   "execution_count": 227,
   "metadata": {},
   "outputs": [
    {
     "name": "stdout",
     "output_type": "stream",
     "text": [
      "emi have apparently negotiate end well so that child in school will now be indoctrinate about the illegality of download music\n",
      "\n",
      "the ignorance and audacity of this get to a little so write an open letter to the dfes about\n",
      "\n",
      "unfortunately pedantic as suppose have to be when write to goverment representative\n",
      "\n",
      "but hope find useful and perhaps feel inspired to do something similar if or when the same thing have happen in area\n",
      "\n",
      "jaschan self confess author of the netsky and sasser virus for 70 percent of virus infection in 2004 accord to a six roundup publish wednesday by antivirus company sophos\n",
      "\n"
     ]
    }
   ],
   "source": [
    "for sent_unigram in it.islice(sentences_unigrams, 10, 15): \n",
    "    print(' '.join(sent_unigram)) # convert to string\n",
    "    print('') # add space between sentences"
   ]
  },
  {
   "cell_type": "code",
   "execution_count": null,
   "metadata": {},
   "outputs": [],
   "source": []
  },
  {
   "cell_type": "markdown",
   "metadata": {},
   "source": [
    "## Phrase Modelling\n",
    "- Learn combinations of tokens that together represents meaningful multi-word concepts (ex: \"United States\", \"happy hour\")\n",
    "- These phrase models are developed by examining all the words in The headlines and looking for words that co-occur (i.e., appear one after another) together much more frequently than you would expect them to by random chance. \n",
    "\n",
    "- Two important parameters for phrase models:\n",
    "    - $count_{min}$ is a user-defined parameter to ensure that accepted phrases occur a minimum number of times.\n",
    "    - $threshold$ is a user-defined parameter to control how strong of a relationship between two tokens the model requires before accepting them as a phrase.\n",
    "\n",
    "- Once our phrase model has been trained on our corpus, we can apply it to new text. When our model encounters two tokens in new text that identifies as a phrase, it will merge the two into a single new token.\n",
    "- We would get multi-word expressions that represent common concepts, but aren't specifically named entities (ex: happy hour, in addition to named entities such as New York) to become phrases in the model."
   ]
  },
  {
   "cell_type": "markdown",
   "metadata": {},
   "source": [
    "**Finding Bigrams (first order phrase model)**\n",
    "- Train a phrase model using the headline corpora to identify/link words into 2-word phrases (or bigrams).  For example, words that often appear together in the corpora will be linked together into a single token (ex: happy hour==> happy_hour)  "
   ]
  },
  {
   "cell_type": "code",
   "execution_count": 228,
   "metadata": {},
   "outputs": [],
   "source": [
    "bigram_model_filepath = os.path.join(scratch_directory, 'bigram_phrase_model') "
   ]
  },
  {
   "cell_type": "code",
   "execution_count": 229,
   "metadata": {},
   "outputs": [],
   "source": [
    "# Train the bigram model\n",
    "execute = False\n",
    "if execute:\n",
    "    # train the phrase model using the processed sentences (LineSentence object)\n",
    "    bigram_phrases_model = Phrases(sentences_unigrams)\n",
    "    # Use the Phraser function to turn the phrase model into a \"Phraser\" object, which is optimized for speed and memory use\n",
    "    bigram_phrases_model = Phraser(bigram_phrases_model)\n",
    "    #Save the model for future use\n",
    "    bigram_phrases_model.save(bigram_model_filepath)"
   ]
  },
  {
   "cell_type": "code",
   "execution_count": 230,
   "metadata": {},
   "outputs": [],
   "source": [
    "# Load the trained model from disk\n",
    "bigram_phrases_model = Phraser.load(bigram_model_filepath)"
   ]
  },
  {
   "cell_type": "code",
   "execution_count": 231,
   "metadata": {},
   "outputs": [
    {
     "data": {
      "text/plain": [
       "<gensim.models.phrases.Phraser at 0x1add8ab94c8>"
      ]
     },
     "execution_count": 231,
     "metadata": {},
     "output_type": "execute_result"
    }
   ],
   "source": [
    "bigram_phrases_model"
   ]
  },
  {
   "cell_type": "markdown",
   "metadata": {},
   "source": [
    "**Apply the trained Phrase model to our lemmatized sentences**"
   ]
  },
  {
   "cell_type": "code",
   "execution_count": 232,
   "metadata": {},
   "outputs": [],
   "source": [
    "# new file that contains transformed sentences (with bigrams)\n",
    "sentences_bigrams_filepath = os.path.join(scratch_directory, 'sentence_bigram_phrases_all.txt')"
   ]
  },
  {
   "cell_type": "code",
   "execution_count": 233,
   "metadata": {},
   "outputs": [],
   "source": [
    "execute = False\n",
    "\n",
    "if execute:\n",
    "    # write the sentences (with bigrams) in \"sentence_bigram_phrases_all.txt\"\n",
    "    with open(sentences_bigrams_filepath, 'w') as bigram_file:\n",
    "        for sent in sentences_unigrams: # sent is a list of tokens\n",
    "            sent_with_bigram = ' '.join(bigram_phrases_model[sent])  # apply the phrase model to each lemmatized sentences\n",
    "            bigram_file.write(sent_with_bigram + '\\n') # write each transformed sentences into a text file"
   ]
  },
  {
   "cell_type": "markdown",
   "metadata": {},
   "source": [
    "**The first-order transformed data is now organized with one document (sentence) per line in \"sentence_bigram_phrases_all.txt\".  As before, I use the gensim LineSentence class to get an LineSentence object for the entire set of documents.**"
   ]
  },
  {
   "cell_type": "code",
   "execution_count": 234,
   "metadata": {},
   "outputs": [],
   "source": [
    "# load headlines with bigrams\n",
    "sentences_bigrams = LineSentence(sentences_bigrams_filepath)"
   ]
  },
  {
   "cell_type": "code",
   "execution_count": 235,
   "metadata": {},
   "outputs": [
    {
     "data": {
      "text/plain": [
       "gensim.models.word2vec.LineSentence"
      ]
     },
     "execution_count": 235,
     "metadata": {},
     "output_type": "execute_result"
    }
   ],
   "source": [
    "type(sentences_bigrams)"
   ]
  },
  {
   "cell_type": "code",
   "execution_count": null,
   "metadata": {},
   "outputs": [],
   "source": []
  },
  {
   "cell_type": "markdown",
   "metadata": {},
   "source": [
    "**Finding Trigrams (second order phrase model)**\n",
    "- I apply the second-order phrase model on top of the transformed data in \"sentence_bigrams_phrases_all.txt\"), so that incomplete word combinations like \"big bad_wolf\" will become fully joined to \"big_bad_wolf\"."
   ]
  },
  {
   "cell_type": "markdown",
   "metadata": {},
   "source": [
    "**Train trigram model**"
   ]
  },
  {
   "cell_type": "code",
   "execution_count": 236,
   "metadata": {},
   "outputs": [],
   "source": [
    "# new filepath for transformed sentences (with trigrams)\n",
    "trigram_model_filepath = os.path.join(scratch_directory, 'trigram_phrase_model')"
   ]
  },
  {
   "cell_type": "code",
   "execution_count": 237,
   "metadata": {},
   "outputs": [],
   "source": [
    "execute = False\n",
    "if execute:\n",
    "    trigram_phrases_model = Phrases(sentences_bigrams)\n",
    "    trigram_phrases_model = Phraser(trigram_phrases_model)\n",
    "    \n",
    "    # Save model\n",
    "    trigram_phrases_model.save(trigram_model_filepath)"
   ]
  },
  {
   "cell_type": "code",
   "execution_count": 238,
   "metadata": {},
   "outputs": [],
   "source": [
    "# Load the trained model from disk\n",
    "trigram_phrases_model = Phraser.load(trigram_model_filepath)"
   ]
  },
  {
   "cell_type": "markdown",
   "metadata": {},
   "source": [
    "**Apply trained trigram phrase model to our \"first-order transformed sentences\" (aka sentences with bigrams). Then we will write the \"second-order transformed sentences\" (aka sentences with trigrams) into a file.**"
   ]
  },
  {
   "cell_type": "code",
   "execution_count": 239,
   "metadata": {},
   "outputs": [],
   "source": [
    "sentences_trigrams_filepath = os.path.join(scratch_directory, 'sentence_trigram_phrases_all.txt')"
   ]
  },
  {
   "cell_type": "code",
   "execution_count": 240,
   "metadata": {},
   "outputs": [],
   "source": [
    "execute = False\n",
    "if execute:\n",
    "    with open(sentences_trigrams_filepath, 'w') as trigram_file:\n",
    "        for sent_bigram in sentences_bigrams: # iterate the LineSentence object that contains the set of docs with bigrams\n",
    "            sent_trigram = ' '.join(trigram_phrases_model[sent_bigram])\n",
    "            \n",
    "            # write the transformed sentence into 'sentence_trigram_phrases_all.txt'\n",
    "            trigram_file.write(sent_trigram + '\\n')"
   ]
  },
  {
   "cell_type": "markdown",
   "metadata": {},
   "source": [
    "**The second-order transformed data is now organized with one document (sentence) per line in \"sentence_trigram_phrases_all.txt\". As before, I use gensim LineSentence class to get a LineSentence object for the entire set of documents.**"
   ]
  },
  {
   "cell_type": "code",
   "execution_count": 241,
   "metadata": {},
   "outputs": [],
   "source": [
    "# load headlines with trigrams\n",
    "sentences_trigrams = LineSentence(sentences_trigrams_filepath)"
   ]
  },
  {
   "cell_type": "code",
   "execution_count": null,
   "metadata": {},
   "outputs": [],
   "source": []
  },
  {
   "cell_type": "markdown",
   "metadata": {},
   "source": [
    "## Process headlines\n",
    "- Now that I have the trained bigram and trigram phraser models (from each individual sentences in my set of headlines), I will now process the lemmatized headlines data (that is not broken down into individual sentences).\n",
    "- I will first create the gensim LineSentence object for the lemmatized headlines corpus.\n",
    "- Second, I will apply the first and second order transformation to the headlines.\n",
    "- Third, I will remove stopwords. Stopwords are very common words, like a, the, and, and so on, that serve functional roles in natural language, but typically don't contribute to the overall meaning of text (adds only noise). Filtering stopwords is a common procedure that allows higher-level NLP modeling techniques to focus on the words that carry more semantic weight.\n",
    "- Finally, I will write the transformed headlines (with trigrams, one for each line) into a file."
   ]
  },
  {
   "cell_type": "code",
   "execution_count": 242,
   "metadata": {},
   "outputs": [],
   "source": [
    "headlines_trigrams_filepath = os.path.join(scratch_directory, 'headlines_trigrams_all.txt')"
   ]
  },
  {
   "cell_type": "code",
   "execution_count": 243,
   "metadata": {},
   "outputs": [],
   "source": [
    "execute = True\n",
    "l_hl_trigrams = []\n",
    "\n",
    "if execute:\n",
    "    # create the LineSentence iterator for the lemmatized headlines\n",
    "    lemm_headlines = LineSentence(lemm_hl_filepath)\n",
    "    \n",
    "    # write the transformed headlines into \"headlines_trigrams_all.txt\"\n",
    "    with open(headlines_trigrams_filepath, 'w') as headlines_trigram_file:\n",
    "        \n",
    "        for hl_unigram in lemm_headlines: # get each headline from the lemm_headlines LineSentence object\n",
    "            # apply the trained bigram and trigram phrase models to each headline\n",
    "            hl_bigram = bigram_phrases_model[hl_unigram]\n",
    "            hl_trigram = trigram_phrases_model[hl_bigram]\n",
    "            \n",
    "            # remove stopwords from each of the transformed headline\n",
    "            hl_trigram = [t for t in hl_trigram if t not in nlp.Defaults.stop_words]\n",
    "            l_hl_trigrams.append(hl_trigram) # a list of list of transformed tokens\n",
    "            \n",
    "            # convert the list of tokens into a single string for each transformed headline\n",
    "            hl_trigram = ' '.join(hl_trigram)\n",
    "            \n",
    "            # write the transformed headline (with trigram) into \"headlines_trigrams_all.txt\"\n",
    "            headlines_trigram_file.write(hl_trigram + '\\n')            "
   ]
  },
  {
   "cell_type": "markdown",
   "metadata": {},
   "source": [
    "**Compared the original headline and transformed headline**\n",
    "- What I did?\n",
    "    - Tokenized and lemmatized text.\n",
    "    - Removed stopwords, punctuations, and non-alphanumeric characters.\n",
    "    - Include bigrams and trigrams."
   ]
  },
  {
   "cell_type": "code",
   "execution_count": 244,
   "metadata": {},
   "outputs": [
    {
     "name": "stdout",
     "output_type": "stream",
     "text": [
      "Original:\n",
      "\n",
      "Single mothers, poverty were big factors in school performance    HealthDayNews -- American teenagers who live with poor single mothers are more likely to get into trouble at school and have poor marks and are less likely to think they'll go to college, says a Rice University study.    Holly Heard, an assistant professor of sociology, analyzed data from thousands of teens who took part in the National Longitudinal Study of Adolescent Health...\n",
      "\n",
      "\n",
      "Transformed:\n",
      "\n",
      "single mother poverty big factor school performance healthdaynew american teenager live poor single mother likely trouble school poor mark likely think college rice university study holly heard assistant professor sociology analyze datum thousand_of teen take_part national longitudinal study adolescent health\n",
      "\n"
     ]
    }
   ],
   "source": [
    "headline_num = 200\n",
    "\n",
    "with open(\"news_article_data.json\") as file:  \n",
    "    data=[json.loads(line) for line in file]\n",
    "    \n",
    "sample_headline = data[headline_num]['content']\n",
    "print('Original:' + '\\n')\n",
    "print(sample_headline)\n",
    "\n",
    "\n",
    "print('\\n')\n",
    "print('Transformed:' + '\\n')\n",
    "\n",
    "with open(headlines_trigrams_filepath) as file:\n",
    "    for transformed_sample in it.islice(file, headline_num, headline_num+1):\n",
    "        print(transformed_sample)"
   ]
  },
  {
   "cell_type": "code",
   "execution_count": null,
   "metadata": {},
   "outputs": [],
   "source": []
  },
  {
   "cell_type": "markdown",
   "metadata": {},
   "source": [
    "## Explore the text data\n",
    "- Find the most frequent words in all of the headlines\n",
    "- Average word count by category\n",
    "- Most frequent bigrams\n",
    "- The distribution of word count of headlines by category"
   ]
  },
  {
   "cell_type": "code",
   "execution_count": 245,
   "metadata": {},
   "outputs": [],
   "source": [
    "df = pd.DataFrame(list(zip(l_hl_trigrams, labels)), columns = ['headline', 'label'])"
   ]
  },
  {
   "cell_type": "code",
   "execution_count": 246,
   "metadata": {},
   "outputs": [],
   "source": [
    "# remove \\n \n",
    "df[\"headline\"] = df[\"headline\"].apply(lambda x: [token.replace('\\n','') for token in x])  "
   ]
  },
  {
   "cell_type": "code",
   "execution_count": 247,
   "metadata": {},
   "outputs": [
    {
     "data": {
      "text/html": [
       "<div>\n",
       "<style scoped>\n",
       "    .dataframe tbody tr th:only-of-type {\n",
       "        vertical-align: middle;\n",
       "    }\n",
       "\n",
       "    .dataframe tbody tr th {\n",
       "        vertical-align: top;\n",
       "    }\n",
       "\n",
       "    .dataframe thead th {\n",
       "        text-align: right;\n",
       "    }\n",
       "</style>\n",
       "<table border=\"1\" class=\"dataframe\">\n",
       "  <thead>\n",
       "    <tr style=\"text-align: right;\">\n",
       "      <th></th>\n",
       "      <th>words</th>\n",
       "      <th>counts</th>\n",
       "    </tr>\n",
       "  </thead>\n",
       "  <tbody>\n",
       "    <tr>\n",
       "      <th>0</th>\n",
       "      <td>company</td>\n",
       "      <td>610</td>\n",
       "    </tr>\n",
       "    <tr>\n",
       "      <th>1</th>\n",
       "      <td>new</td>\n",
       "      <td>593</td>\n",
       "    </tr>\n",
       "    <tr>\n",
       "      <th>2</th>\n",
       "      <td>ap</td>\n",
       "      <td>539</td>\n",
       "    </tr>\n",
       "    <tr>\n",
       "      <th>3</th>\n",
       "      <td>reuters</td>\n",
       "      <td>428</td>\n",
       "    </tr>\n",
       "    <tr>\n",
       "      <th>4</th>\n",
       "      <td>win</td>\n",
       "      <td>361</td>\n",
       "    </tr>\n",
       "    <tr>\n",
       "      <th>5</th>\n",
       "      <td>yesterday</td>\n",
       "      <td>347</td>\n",
       "    </tr>\n",
       "    <tr>\n",
       "      <th>6</th>\n",
       "      <td>report</td>\n",
       "      <td>338</td>\n",
       "    </tr>\n",
       "    <tr>\n",
       "      <th>7</th>\n",
       "      <td>year</td>\n",
       "      <td>279</td>\n",
       "    </tr>\n",
       "    <tr>\n",
       "      <th>8</th>\n",
       "      <td>group</td>\n",
       "      <td>276</td>\n",
       "    </tr>\n",
       "    <tr>\n",
       "      <th>9</th>\n",
       "      <td>game</td>\n",
       "      <td>265</td>\n",
       "    </tr>\n",
       "    <tr>\n",
       "      <th>10</th>\n",
       "      <td>end</td>\n",
       "      <td>264</td>\n",
       "    </tr>\n",
       "    <tr>\n",
       "      <th>11</th>\n",
       "      <td>government</td>\n",
       "      <td>263</td>\n",
       "    </tr>\n",
       "    <tr>\n",
       "      <th>12</th>\n",
       "      <td>team</td>\n",
       "      <td>259</td>\n",
       "    </tr>\n",
       "    <tr>\n",
       "      <th>13</th>\n",
       "      <td>million</td>\n",
       "      <td>256</td>\n",
       "    </tr>\n",
       "    <tr>\n",
       "      <th>14</th>\n",
       "      <td>on_tuesday</td>\n",
       "      <td>252</td>\n",
       "    </tr>\n",
       "    <tr>\n",
       "      <th>15</th>\n",
       "      <td>world</td>\n",
       "      <td>244</td>\n",
       "    </tr>\n",
       "    <tr>\n",
       "      <th>16</th>\n",
       "      <td>microsoft</td>\n",
       "      <td>243</td>\n",
       "    </tr>\n",
       "    <tr>\n",
       "      <th>17</th>\n",
       "      <td>on_monday</td>\n",
       "      <td>243</td>\n",
       "    </tr>\n",
       "    <tr>\n",
       "      <th>18</th>\n",
       "      <td>lead</td>\n",
       "      <td>242</td>\n",
       "    </tr>\n",
       "    <tr>\n",
       "      <th>19</th>\n",
       "      <td>quot</td>\n",
       "      <td>233</td>\n",
       "    </tr>\n",
       "  </tbody>\n",
       "</table>\n",
       "</div>"
      ],
      "text/plain": [
       "         words  counts\n",
       "0      company     610\n",
       "1          new     593\n",
       "2           ap     539\n",
       "3      reuters     428\n",
       "4          win     361\n",
       "5    yesterday     347\n",
       "6       report     338\n",
       "7         year     279\n",
       "8        group     276\n",
       "9         game     265\n",
       "10         end     264\n",
       "11  government     263\n",
       "12        team     259\n",
       "13     million     256\n",
       "14  on_tuesday     252\n",
       "15       world     244\n",
       "16   microsoft     243\n",
       "17   on_monday     243\n",
       "18        lead     242\n",
       "19        quot     233"
      ]
     },
     "execution_count": 247,
     "metadata": {},
     "output_type": "execute_result"
    }
   ],
   "source": [
    "# Get the top 10 most frequent words int he corpus\n",
    "wf = word_freq(l_hl_trigrams, 20) # use a list of list of transformed tokens\n",
    "wf.head(20)"
   ]
  },
  {
   "cell_type": "markdown",
   "metadata": {},
   "source": [
    "**Average word count by category**"
   ]
  },
  {
   "cell_type": "code",
   "execution_count": 248,
   "metadata": {},
   "outputs": [],
   "source": [
    "#Avg word count by category\n",
    "df['word_count'] = df['headline'].apply(word_count)"
   ]
  },
  {
   "cell_type": "code",
   "execution_count": 249,
   "metadata": {},
   "outputs": [
    {
     "data": {
      "text/html": [
       "<div>\n",
       "<style scoped>\n",
       "    .dataframe tbody tr th:only-of-type {\n",
       "        vertical-align: middle;\n",
       "    }\n",
       "\n",
       "    .dataframe tbody tr th {\n",
       "        vertical-align: top;\n",
       "    }\n",
       "\n",
       "    .dataframe thead th {\n",
       "        text-align: right;\n",
       "    }\n",
       "</style>\n",
       "<table border=\"1\" class=\"dataframe\">\n",
       "  <thead>\n",
       "    <tr style=\"text-align: right;\">\n",
       "      <th></th>\n",
       "      <th>headline</th>\n",
       "      <th>label</th>\n",
       "      <th>word_count</th>\n",
       "    </tr>\n",
       "  </thead>\n",
       "  <tbody>\n",
       "    <tr>\n",
       "      <th>0</th>\n",
       "      <td>[union, represent, worker, turner, newall, dis...</td>\n",
       "      <td>Business</td>\n",
       "      <td>12</td>\n",
       "    </tr>\n",
       "    <tr>\n",
       "      <th>1</th>\n",
       "      <td>[toronto, canada, rocketeer, compete, million_...</td>\n",
       "      <td>SciTech</td>\n",
       "      <td>15</td>\n",
       "    </tr>\n",
       "    <tr>\n",
       "      <th>2</th>\n",
       "      <td>[ap, company, found, chemistry, researcher, un...</td>\n",
       "      <td>SciTech</td>\n",
       "      <td>20</td>\n",
       "    </tr>\n",
       "    <tr>\n",
       "      <th>3</th>\n",
       "      <td>[ap, barely, dawn, mike, fitzpatrick, start, s...</td>\n",
       "      <td>SciTech</td>\n",
       "      <td>27</td>\n",
       "    </tr>\n",
       "    <tr>\n",
       "      <th>4</th>\n",
       "      <td>[ap, southern_california, smog, fighting, agen...</td>\n",
       "      <td>SciTech</td>\n",
       "      <td>18</td>\n",
       "    </tr>\n",
       "  </tbody>\n",
       "</table>\n",
       "</div>"
      ],
      "text/plain": [
       "                                            headline     label  word_count\n",
       "0  [union, represent, worker, turner, newall, dis...  Business          12\n",
       "1  [toronto, canada, rocketeer, compete, million_...   SciTech          15\n",
       "2  [ap, company, found, chemistry, researcher, un...   SciTech          20\n",
       "3  [ap, barely, dawn, mike, fitzpatrick, start, s...   SciTech          27\n",
       "4  [ap, southern_california, smog, fighting, agen...   SciTech          18"
      ]
     },
     "execution_count": 249,
     "metadata": {},
     "output_type": "execute_result"
    }
   ],
   "source": [
    "df.head()"
   ]
  },
  {
   "cell_type": "code",
   "execution_count": 250,
   "metadata": {},
   "outputs": [
    {
     "name": "stdout",
     "output_type": "stream",
     "text": [
      "      label  word_count\n",
      "0  Business   16.598421\n",
      "1   SciTech   16.630526\n",
      "2    Sports   16.703684\n",
      "3     World   17.061053\n"
     ]
    }
   ],
   "source": [
    "avg_word_count = df.groupby('label').mean().reset_index()\n",
    "print(avg_word_count)"
   ]
  },
  {
   "cell_type": "markdown",
   "metadata": {},
   "source": [
    "**Top 15 words by category** "
   ]
  },
  {
   "cell_type": "code",
   "execution_count": 251,
   "metadata": {},
   "outputs": [],
   "source": [
    "top_n = 15"
   ]
  },
  {
   "cell_type": "code",
   "execution_count": 252,
   "metadata": {},
   "outputs": [],
   "source": [
    "text_bus = df.loc[df.label=='Business','headline'].tolist()\n",
    "text_sci_t = df.loc[df.label=='SciTech','headline'].tolist()\n",
    "text_sports = df.loc[df.label=='Sports','headline'].tolist()\n",
    "text_world = df.loc[df.label=='World','headline'].tolist()\n",
    "\n",
    "l_text = [text_bus, text_sci_t, text_sports, text_world]"
   ]
  },
  {
   "cell_type": "code",
   "execution_count": 253,
   "metadata": {},
   "outputs": [],
   "source": [
    "wf =[word_freq(l,top_n) for l in l_text]"
   ]
  },
  {
   "cell_type": "code",
   "execution_count": 254,
   "metadata": {},
   "outputs": [
    {
     "data": {
      "text/html": [
       "<div>\n",
       "<style scoped>\n",
       "    .dataframe tbody tr th:only-of-type {\n",
       "        vertical-align: middle;\n",
       "    }\n",
       "\n",
       "    .dataframe tbody tr th {\n",
       "        vertical-align: top;\n",
       "    }\n",
       "\n",
       "    .dataframe thead th {\n",
       "        text-align: right;\n",
       "    }\n",
       "</style>\n",
       "<table border=\"1\" class=\"dataframe\">\n",
       "  <thead>\n",
       "    <tr style=\"text-align: right;\">\n",
       "      <th></th>\n",
       "      <th>business</th>\n",
       "      <th>count</th>\n",
       "      <th>sci tech</th>\n",
       "      <th>count</th>\n",
       "      <th>sports</th>\n",
       "      <th>count</th>\n",
       "      <th>world</th>\n",
       "      <th>count</th>\n",
       "    </tr>\n",
       "  </thead>\n",
       "  <tbody>\n",
       "    <tr>\n",
       "      <th>0</th>\n",
       "      <td>company</td>\n",
       "      <td>313</td>\n",
       "      <td>new</td>\n",
       "      <td>293</td>\n",
       "      <td>win</td>\n",
       "      <td>251</td>\n",
       "      <td>ap</td>\n",
       "      <td>206</td>\n",
       "    </tr>\n",
       "    <tr>\n",
       "      <th>1</th>\n",
       "      <td>report</td>\n",
       "      <td>149</td>\n",
       "      <td>company</td>\n",
       "      <td>274</td>\n",
       "      <td>team</td>\n",
       "      <td>207</td>\n",
       "      <td>reuters</td>\n",
       "      <td>186</td>\n",
       "    </tr>\n",
       "    <tr>\n",
       "      <th>2</th>\n",
       "      <td>new</td>\n",
       "      <td>139</td>\n",
       "      <td>microsoft</td>\n",
       "      <td>213</td>\n",
       "      <td>game</td>\n",
       "      <td>206</td>\n",
       "      <td>afp</td>\n",
       "      <td>151</td>\n",
       "    </tr>\n",
       "    <tr>\n",
       "      <th>3</th>\n",
       "      <td>stock</td>\n",
       "      <td>127</td>\n",
       "      <td>software</td>\n",
       "      <td>147</td>\n",
       "      <td>ap</td>\n",
       "      <td>204</td>\n",
       "      <td>people</td>\n",
       "      <td>144</td>\n",
       "    </tr>\n",
       "    <tr>\n",
       "      <th>4</th>\n",
       "      <td>million</td>\n",
       "      <td>124</td>\n",
       "      <td>service</td>\n",
       "      <td>140</td>\n",
       "      <td>season</td>\n",
       "      <td>158</td>\n",
       "      <td>leader</td>\n",
       "      <td>136</td>\n",
       "    </tr>\n",
       "    <tr>\n",
       "      <th>5</th>\n",
       "      <td>new_york_reuters</td>\n",
       "      <td>117</td>\n",
       "      <td>use</td>\n",
       "      <td>137</td>\n",
       "      <td>play</td>\n",
       "      <td>119</td>\n",
       "      <td>government</td>\n",
       "      <td>130</td>\n",
       "    </tr>\n",
       "    <tr>\n",
       "      <th>6</th>\n",
       "      <td>rise</td>\n",
       "      <td>116</td>\n",
       "      <td>internet</td>\n",
       "      <td>124</td>\n",
       "      <td>lead</td>\n",
       "      <td>114</td>\n",
       "      <td>country</td>\n",
       "      <td>130</td>\n",
       "    </tr>\n",
       "    <tr>\n",
       "      <th>7</th>\n",
       "      <td>billion</td>\n",
       "      <td>115</td>\n",
       "      <td>technology</td>\n",
       "      <td>121</td>\n",
       "      <td>player</td>\n",
       "      <td>109</td>\n",
       "      <td>kill</td>\n",
       "      <td>113</td>\n",
       "    </tr>\n",
       "    <tr>\n",
       "      <th>8</th>\n",
       "      <td>sale</td>\n",
       "      <td>115</td>\n",
       "      <td>launch</td>\n",
       "      <td>118</td>\n",
       "      <td>yesterday</td>\n",
       "      <td>107</td>\n",
       "      <td>new</td>\n",
       "      <td>106</td>\n",
       "    </tr>\n",
       "    <tr>\n",
       "      <th>9</th>\n",
       "      <td>yesterday</td>\n",
       "      <td>113</td>\n",
       "      <td>ap</td>\n",
       "      <td>111</td>\n",
       "      <td>time</td>\n",
       "      <td>104</td>\n",
       "      <td>group</td>\n",
       "      <td>105</td>\n",
       "    </tr>\n",
       "    <tr>\n",
       "      <th>10</th>\n",
       "      <td>percent</td>\n",
       "      <td>109</td>\n",
       "      <td>announce</td>\n",
       "      <td>100</td>\n",
       "      <td>final</td>\n",
       "      <td>101</td>\n",
       "      <td>yesterday</td>\n",
       "      <td>100</td>\n",
       "    </tr>\n",
       "    <tr>\n",
       "      <th>11</th>\n",
       "      <td>share</td>\n",
       "      <td>108</td>\n",
       "      <td>computer</td>\n",
       "      <td>96</td>\n",
       "      <td>second</td>\n",
       "      <td>100</td>\n",
       "      <td>president</td>\n",
       "      <td>98</td>\n",
       "    </tr>\n",
       "    <tr>\n",
       "      <th>12</th>\n",
       "      <td>on_tuesday</td>\n",
       "      <td>105</td>\n",
       "      <td>reuters</td>\n",
       "      <td>93</td>\n",
       "      <td>score</td>\n",
       "      <td>100</td>\n",
       "      <td>iraq</td>\n",
       "      <td>98</td>\n",
       "    </tr>\n",
       "    <tr>\n",
       "      <th>13</th>\n",
       "      <td>on_monday</td>\n",
       "      <td>104</td>\n",
       "      <td>security</td>\n",
       "      <td>87</td>\n",
       "      <td>run</td>\n",
       "      <td>97</td>\n",
       "      <td>election</td>\n",
       "      <td>94</td>\n",
       "    </tr>\n",
       "    <tr>\n",
       "      <th>14</th>\n",
       "      <td>market</td>\n",
       "      <td>103</td>\n",
       "      <td>million</td>\n",
       "      <td>85</td>\n",
       "      <td>start</td>\n",
       "      <td>97</td>\n",
       "      <td>baghdad</td>\n",
       "      <td>91</td>\n",
       "    </tr>\n",
       "  </tbody>\n",
       "</table>\n",
       "</div>"
      ],
      "text/plain": [
       "            business  count    sci tech  count     sports  count       world  \\\n",
       "0            company    313         new    293        win    251          ap   \n",
       "1             report    149     company    274       team    207     reuters   \n",
       "2                new    139   microsoft    213       game    206         afp   \n",
       "3              stock    127    software    147         ap    204      people   \n",
       "4            million    124     service    140     season    158      leader   \n",
       "5   new_york_reuters    117         use    137       play    119  government   \n",
       "6               rise    116    internet    124       lead    114     country   \n",
       "7            billion    115  technology    121     player    109        kill   \n",
       "8               sale    115      launch    118  yesterday    107         new   \n",
       "9          yesterday    113          ap    111       time    104       group   \n",
       "10           percent    109    announce    100      final    101   yesterday   \n",
       "11             share    108    computer     96     second    100   president   \n",
       "12        on_tuesday    105     reuters     93      score    100        iraq   \n",
       "13         on_monday    104    security     87        run     97    election   \n",
       "14            market    103     million     85      start     97     baghdad   \n",
       "\n",
       "    count  \n",
       "0     206  \n",
       "1     186  \n",
       "2     151  \n",
       "3     144  \n",
       "4     136  \n",
       "5     130  \n",
       "6     130  \n",
       "7     113  \n",
       "8     106  \n",
       "9     105  \n",
       "10    100  \n",
       "11     98  \n",
       "12     98  \n",
       "13     94  \n",
       "14     91  "
      ]
     },
     "execution_count": 254,
     "metadata": {},
     "output_type": "execute_result"
    }
   ],
   "source": [
    "df_wf = pd.concat(wf, axis=1)\n",
    "cols = ['business', 'count', 'sci tech', 'count', 'sports', 'count', 'world', 'count']\n",
    "df_wf.columns = cols\n",
    "df_wf"
   ]
  },
  {
   "cell_type": "markdown",
   "metadata": {},
   "source": [
    "**Top 15 word phrases (bigrams or trigrams) by category** "
   ]
  },
  {
   "cell_type": "code",
   "execution_count": 255,
   "metadata": {
    "scrolled": true
   },
   "outputs": [],
   "source": [
    "nf =[ngrams_freq(l,top_n) for l in l_text]"
   ]
  },
  {
   "cell_type": "code",
   "execution_count": 256,
   "metadata": {},
   "outputs": [
    {
     "data": {
      "text/html": [
       "<div>\n",
       "<style scoped>\n",
       "    .dataframe tbody tr th:only-of-type {\n",
       "        vertical-align: middle;\n",
       "    }\n",
       "\n",
       "    .dataframe tbody tr th {\n",
       "        vertical-align: top;\n",
       "    }\n",
       "\n",
       "    .dataframe thead th {\n",
       "        text-align: right;\n",
       "    }\n",
       "</style>\n",
       "<table border=\"1\" class=\"dataframe\">\n",
       "  <thead>\n",
       "    <tr style=\"text-align: right;\">\n",
       "      <th></th>\n",
       "      <th>business</th>\n",
       "      <th>count</th>\n",
       "      <th>sci tech</th>\n",
       "      <th>count</th>\n",
       "      <th>sports</th>\n",
       "      <th>count</th>\n",
       "      <th>world</th>\n",
       "      <th>count</th>\n",
       "    </tr>\n",
       "  </thead>\n",
       "  <tbody>\n",
       "    <tr>\n",
       "      <th>0</th>\n",
       "      <td>new_york_reuters</td>\n",
       "      <td>117</td>\n",
       "      <td>plan_to</td>\n",
       "      <td>63</td>\n",
       "      <td>sports_network</td>\n",
       "      <td>77</td>\n",
       "      <td>in_iraq</td>\n",
       "      <td>72</td>\n",
       "    </tr>\n",
       "    <tr>\n",
       "      <th>1</th>\n",
       "      <td>on_tuesday</td>\n",
       "      <td>105</td>\n",
       "      <td>accord_to</td>\n",
       "      <td>62</td>\n",
       "      <td>on_sunday</td>\n",
       "      <td>61</td>\n",
       "      <td>official_say</td>\n",
       "      <td>72</td>\n",
       "    </tr>\n",
       "    <tr>\n",
       "      <th>2</th>\n",
       "      <td>on_monday</td>\n",
       "      <td>104</td>\n",
       "      <td>version_of</td>\n",
       "      <td>52</td>\n",
       "      <td>victory_over</td>\n",
       "      <td>56</td>\n",
       "      <td>president_bush</td>\n",
       "      <td>70</td>\n",
       "    </tr>\n",
       "    <tr>\n",
       "      <th>3</th>\n",
       "      <td>on_thursday</td>\n",
       "      <td>85</td>\n",
       "      <td>on_tuesday</td>\n",
       "      <td>51</td>\n",
       "      <td>win_over</td>\n",
       "      <td>56</td>\n",
       "      <td>prime_minister</td>\n",
       "      <td>66</td>\n",
       "    </tr>\n",
       "    <tr>\n",
       "      <th>4</th>\n",
       "      <td>on_wednesday</td>\n",
       "      <td>83</td>\n",
       "      <td>on_monday</td>\n",
       "      <td>48</td>\n",
       "      <td>last_night</td>\n",
       "      <td>54</td>\n",
       "      <td>on_tuesday</td>\n",
       "      <td>65</td>\n",
       "    </tr>\n",
       "    <tr>\n",
       "      <th>5</th>\n",
       "      <td>oil_price</td>\n",
       "      <td>81</td>\n",
       "      <td>this_week</td>\n",
       "      <td>46</td>\n",
       "      <td>on_saturday</td>\n",
       "      <td>54</td>\n",
       "      <td>be_kill</td>\n",
       "      <td>63</td>\n",
       "    </tr>\n",
       "    <tr>\n",
       "      <th>6</th>\n",
       "      <td>on_friday</td>\n",
       "      <td>67</td>\n",
       "      <td>and_other</td>\n",
       "      <td>44</td>\n",
       "      <td>new_york</td>\n",
       "      <td>49</td>\n",
       "      <td>on_monday</td>\n",
       "      <td>62</td>\n",
       "    </tr>\n",
       "    <tr>\n",
       "      <th>7</th>\n",
       "      <td>quote_profile_research</td>\n",
       "      <td>64</td>\n",
       "      <td>on_wednesday</td>\n",
       "      <td>42</td>\n",
       "      <td>on_wednesday</td>\n",
       "      <td>41</td>\n",
       "      <td>on_thursday</td>\n",
       "      <td>61</td>\n",
       "    </tr>\n",
       "    <tr>\n",
       "      <th>8</th>\n",
       "      <td>plan_to</td>\n",
       "      <td>63</td>\n",
       "      <td>more_than</td>\n",
       "      <td>36</td>\n",
       "      <td>red_sox</td>\n",
       "      <td>38</td>\n",
       "      <td>on_friday</td>\n",
       "      <td>60</td>\n",
       "    </tr>\n",
       "    <tr>\n",
       "      <th>9</th>\n",
       "      <td>new_york</td>\n",
       "      <td>62</td>\n",
       "      <td>mobile_phone</td>\n",
       "      <td>36</td>\n",
       "      <td>united_states</td>\n",
       "      <td>37</td>\n",
       "      <td>united_nations</td>\n",
       "      <td>56</td>\n",
       "    </tr>\n",
       "    <tr>\n",
       "      <th>10</th>\n",
       "      <td>more_than</td>\n",
       "      <td>59</td>\n",
       "      <td>operating_system</td>\n",
       "      <td>35</td>\n",
       "      <td>boston_red_sox</td>\n",
       "      <td>35</td>\n",
       "      <td>on_sunday</td>\n",
       "      <td>55</td>\n",
       "    </tr>\n",
       "    <tr>\n",
       "      <th>11</th>\n",
       "      <td>united_states</td>\n",
       "      <td>46</td>\n",
       "      <td>search_engine</td>\n",
       "      <td>35</td>\n",
       "      <td>on_friday</td>\n",
       "      <td>35</td>\n",
       "      <td>united_states</td>\n",
       "      <td>51</td>\n",
       "    </tr>\n",
       "    <tr>\n",
       "      <th>12</th>\n",
       "      <td>third_quarter</td>\n",
       "      <td>44</td>\n",
       "      <td>on_thursday</td>\n",
       "      <td>34</td>\n",
       "      <td>gold_medal</td>\n",
       "      <td>31</td>\n",
       "      <td>at_least</td>\n",
       "      <td>47</td>\n",
       "    </tr>\n",
       "    <tr>\n",
       "      <th>13</th>\n",
       "      <td>accord_to</td>\n",
       "      <td>40</td>\n",
       "      <td>e_mail</td>\n",
       "      <td>33</td>\n",
       "      <td>on_tuesday</td>\n",
       "      <td>31</td>\n",
       "      <td>on_wednesday</td>\n",
       "      <td>46</td>\n",
       "    </tr>\n",
       "    <tr>\n",
       "      <th>14</th>\n",
       "      <td>this_year</td>\n",
       "      <td>40</td>\n",
       "      <td>open_source</td>\n",
       "      <td>32</td>\n",
       "      <td>on_thursday</td>\n",
       "      <td>31</td>\n",
       "      <td>north_korea</td>\n",
       "      <td>42</td>\n",
       "    </tr>\n",
       "  </tbody>\n",
       "</table>\n",
       "</div>"
      ],
      "text/plain": [
       "                  business count          sci tech count          sports  \\\n",
       "0         new_york_reuters   117           plan_to    63  sports_network   \n",
       "1               on_tuesday   105         accord_to    62       on_sunday   \n",
       "2                on_monday   104        version_of    52    victory_over   \n",
       "3              on_thursday    85        on_tuesday    51        win_over   \n",
       "4             on_wednesday    83         on_monday    48      last_night   \n",
       "5                oil_price    81         this_week    46     on_saturday   \n",
       "6                on_friday    67         and_other    44        new_york   \n",
       "7   quote_profile_research    64      on_wednesday    42    on_wednesday   \n",
       "8                  plan_to    63         more_than    36         red_sox   \n",
       "9                 new_york    62      mobile_phone    36   united_states   \n",
       "10               more_than    59  operating_system    35  boston_red_sox   \n",
       "11           united_states    46     search_engine    35       on_friday   \n",
       "12           third_quarter    44       on_thursday    34      gold_medal   \n",
       "13               accord_to    40            e_mail    33      on_tuesday   \n",
       "14               this_year    40       open_source    32     on_thursday   \n",
       "\n",
       "   count           world count  \n",
       "0     77         in_iraq    72  \n",
       "1     61    official_say    72  \n",
       "2     56  president_bush    70  \n",
       "3     56  prime_minister    66  \n",
       "4     54      on_tuesday    65  \n",
       "5     54         be_kill    63  \n",
       "6     49       on_monday    62  \n",
       "7     41     on_thursday    61  \n",
       "8     38       on_friday    60  \n",
       "9     37  united_nations    56  \n",
       "10    35       on_sunday    55  \n",
       "11    35   united_states    51  \n",
       "12    31        at_least    47  \n",
       "13    31    on_wednesday    46  \n",
       "14    31     north_korea    42  "
      ]
     },
     "execution_count": 256,
     "metadata": {},
     "output_type": "execute_result"
    }
   ],
   "source": [
    "df_ngf = pd.concat(nf, axis=1)\n",
    "cols = ['business', 'count', 'sci tech', 'count', 'sports', 'count', 'world', 'count']\n",
    "df_ngf.columns = cols\n",
    "df_ngf"
   ]
  },
  {
   "cell_type": "markdown",
   "metadata": {},
   "source": [
    "**Plot the distribution of word count by headline**"
   ]
  },
  {
   "cell_type": "code",
   "execution_count": 257,
   "metadata": {},
   "outputs": [
    {
     "data": {
      "text/plain": [
       "(0, 80)"
      ]
     },
     "execution_count": 257,
     "metadata": {},
     "output_type": "execute_result"
    },
    {
     "data": {
      "image/png": "[encoded data removed]",
      "text/plain": [
       "<Figure size 864x720 with 4 Axes>"
      ]
     },
     "metadata": {
      "needs_background": "light"
     },
     "output_type": "display_data"
    }
   ],
   "source": [
    "fig, ax = plt.subplots(2, 2, figsize = (12,10)) # 4 subplots, one for each class\n",
    "fig.suptitle('Distribution of Word Count by Category', fontsize=15) # super title\n",
    "\n",
    "bins = 30\n",
    "\n",
    "ax[0,0].hist(df.loc[df.label == \"Business\", \"word_count\"], bins = bins, color = '#41924F')\n",
    "ax[0,0].set_title('Business headlines', fontsize = 13)\n",
    "ax[0,0].set_xlim(0, 80)\n",
    "\n",
    "ax[1,0].hist(df.loc[df.label == \"SciTech\", \"word_count\"], bins = bins, color = '#59C7EA')\n",
    "ax[1,0].set_title('SciTech headlines', fontsize = 13)\n",
    "ax[1,0].set_xlim(0, 80)\n",
    "\n",
    "ax[0,1].hist(df.loc[df.label == \"Sports\", \"word_count\"], bins = bins, color = '#FFC300')\n",
    "ax[0,1].set_title('Sports headlines', fontsize = 13)\n",
    "ax[0,1].set_xlim(0, 80)\n",
    "\n",
    "ax[1,1].hist(df.loc[df.label == \"World\", \"word_count\"], bins = bins, color = '#a98ff3')\n",
    "ax[1,1].set_title('World headlines', fontsize = 13)\n",
    "ax[1,1].set_xlim(0, 80)"
   ]
  },
  {
   "cell_type": "markdown",
   "metadata": {},
   "source": [
    "- Expected word count is About 15-18 words in each headline for each class\n",
    "- A few really long headlines for SciTech\n",
    "- Normally distributed, slightly right skewed"
   ]
  },
  {
   "cell_type": "code",
   "execution_count": null,
   "metadata": {},
   "outputs": [],
   "source": []
  },
  {
   "cell_type": "markdown",
   "metadata": {},
   "source": [
    "## Topic Modelling\n",
    "- Topic modeling is a method for unsupervised classification of documents, similar to clustering on numeric data, which finds some natural groups of items (topics) even when we’re not sure what we’re looking for.\n",
    "- It is similar to clustering for numerical data.\n",
    "- Topic modeling provides methods for automatically organizing, understanding, searching, and summarizing large electronic archives.\n",
    "    - Discovering the hidden themes in the collection.\n",
    "    - Classifying the documents into the discovered themes.\n",
    "    - Using the classification to organize/summarize/search the documents.\n",
    "    - For example, let’s say a document belongs to the topics food, dogs and health. So if a user queries “dog food”, they might find the above-mentioned document relevant because it covers those topics(among other topics).  Therefore, by annotating the document, based on the topics predicted by the modeling method, we are able to optimize our search process."
   ]
  },
  {
   "cell_type": "markdown",
   "metadata": {},
   "source": [
    "## LDA basics:\n",
    "https://blog.echen.me/2011/08/22/introduction-to-latent-dirichlet-allocation/\n",
    "- One of the most popular topic modeling methods. \n",
    "-  Each document is made up of various words, and each topic also has various words belonging to it. \n",
    "-  The aim of LDA is to find topics a document belongs to, based on the words in it.\n",
    "- Assumptions:\n",
    "    - We know beforehand how many topics we want. ‘k’ is pre-decided.\n",
    "    - Each document is just a collection of words or a “bag of words”.\n",
    "   \n",
    "- Two parts in LDA:\n",
    "    - The words that belong to a document, that we already know.\n",
    "    - The words that belong to a topic or the probability of words belonging into a topic, that we need to calculate.\n",
    "- We use an algorithm to find the latter.\n",
    "\n",
    "- LDA represents documents as a mixture of topics. Similarly, a topic is a mixture of words. If a word has high probability of being in a topic, all the documents having w will be more strongly associated with t as well. \n",
    "- Similarly, if w is not very probable to be in t, the documents which contain the w will be having very low probability of being in t, because rest of the words in d will belong to some other topic and hence d will have a higher probability for those topic. \n",
    "- So even if w gets added to t, it won’t be bringing many such documents to t."
   ]
  },
  {
   "cell_type": "code",
   "execution_count": 260,
   "metadata": {},
   "outputs": [],
   "source": [
    "from gensim.corpora import Dictionary, MmCorpus\n",
    "from gensim.models.ldamulticore import LdaMulticore\n",
    "import pyLDAvis.gensim\n",
    "import warnings\n",
    "import pickle"
   ]
  },
  {
   "cell_type": "markdown",
   "metadata": {},
   "source": [
    "**The first step to creating an LDA model is to learn the full vocabulary of the corpus to be modeled. I use \"gensim.corpora Dictionary\" class for this.**"
   ]
  },
  {
   "cell_type": "code",
   "execution_count": 261,
   "metadata": {},
   "outputs": [],
   "source": [
    "corpus_dict_filepath = os.path.join(scratch_directory, 'trigram_dict_all.dict')"
   ]
  },
  {
   "cell_type": "code",
   "execution_count": 262,
   "metadata": {},
   "outputs": [],
   "source": [
    "# Create the LineSentence object\n",
    "headline_trigrams = LineSentence(headlines_trigrams_filepath)\n",
    "\n",
    "execute = False\n",
    "if execute:\n",
    "    # learn the dictionary by iterating over all of the headlines\n",
    "    dictionary_trigrams = Dictionary(headline_trigrams)\n",
    "\n",
    "    # Filter tokens that are very rare or too common in the dictionary (filter_extremes) and reassign integer ids (compactify)\n",
    "    dictionary_trigrams.filter_extremes(no_below=20, no_above=0.4)\n",
    "    dictionary_trigrams.compactify()\n",
    "\n",
    "    # Save the corpus dictionary\n",
    "    dictionary_trigrams.save(corpus_dict_filepath)"
   ]
  },
  {
   "cell_type": "code",
   "execution_count": 263,
   "metadata": {},
   "outputs": [],
   "source": [
    "# load the finished dictionary from disk\n",
    "dictionary_trigrams = Dictionary.load(corpus_dict_filepath)"
   ]
  },
  {
   "cell_type": "markdown",
   "metadata": {},
   "source": [
    "- LDA assumes that documents are represented by the bag-of-words model. In the bag-of-words model, a document is represented by the counts of distinct terms that occur within it. Additional information, such as word order, is discarded.\n",
    "- BOW vectors are sparsed (mostly 0s) and large.\n",
    "- I generate a bag-of-words representation for each headline (implemented by the trigram_bow_generator function) Then I save the resulting bag-of-words representations of the headlines as a matrix (each row is a document, each column is a sparse vector for each token in the document)."
   ]
  },
  {
   "cell_type": "code",
   "execution_count": 264,
   "metadata": {},
   "outputs": [],
   "source": [
    "# file for the BOW matrix (represents documents)\n",
    "bow_corpus_filepath = os.path.join(scratch_directory, 'bow_trigrams_corpus_all.mm') "
   ]
  },
  {
   "cell_type": "code",
   "execution_count": 265,
   "metadata": {},
   "outputs": [],
   "source": [
    "# generator function to read headlines from a file and yield a bag-of-words representation\n",
    "def bow_generator(filepath):\n",
    "    for hl in LineSentence(filepath):\n",
    "        yield dictionary_trigrams.doc2bow(hl) # for each document, get its bow representation using the corpora dictionary"
   ]
  },
  {
   "cell_type": "code",
   "execution_count": 266,
   "metadata": {},
   "outputs": [],
   "source": [
    "execute = False\n",
    "if execute:\n",
    "    # Generate bag-of-words representations for all headlines and save them as a matrix\n",
    "    MmCorpus.serialize(bow_corpus_filepath, bow_generator(headlines_trigrams_filepath))"
   ]
  },
  {
   "cell_type": "code",
   "execution_count": 267,
   "metadata": {},
   "outputs": [],
   "source": [
    "# Load the finished bag-of-words corpus from disk\n",
    "trigram_bow_corpus = MmCorpus(bow_corpus_filepath)"
   ]
  },
  {
   "cell_type": "markdown",
   "metadata": {},
   "source": [
    "- With the bag-of-words corpus, we are start to learn our topic model from the headlines. We need to pass the bag-of-words matrix and Dictionary from our to the LdaMulticore function as inputs. \n",
    "- We also need to specify the number of topics the model should learn. \n",
    "- We specifiy K=4 topics (which coincide with the \"true\" number of topics that we have in our headline corpus)."
   ]
  },
  {
   "cell_type": "code",
   "execution_count": 271,
   "metadata": {},
   "outputs": [
    {
     "data": {
      "text/plain": [
       "{'Business', 'SciTech', 'Sports', 'World'}"
      ]
     },
     "execution_count": 271,
     "metadata": {},
     "output_type": "execute_result"
    }
   ],
   "source": [
    "set(labels) # I have 4 \"true\" classes"
   ]
  },
  {
   "cell_type": "code",
   "execution_count": 272,
   "metadata": {},
   "outputs": [],
   "source": [
    "lda_model_filepath = os.path.join(scratch_directory, 'lda_model_all')"
   ]
  },
  {
   "cell_type": "code",
   "execution_count": 273,
   "metadata": {},
   "outputs": [],
   "source": [
    " with warnings.catch_warnings():\n",
    "        warnings.simplefilter('ignore')\n",
    "        \n",
    "        # workers => sets the parallelism, and should be\n",
    "        # set to your number of physical cores minus one\n",
    "        lda = LdaMulticore(\n",
    "            trigram_bow_corpus,\n",
    "            num_topics=4,\n",
    "            id2word=dictionary_trigrams,\n",
    "            workers=1\n",
    "            )\n",
    "lda.save(lda_model_filepath)"
   ]
  },
  {
   "cell_type": "code",
   "execution_count": 274,
   "metadata": {},
   "outputs": [],
   "source": [
    "# load the trained LDA model from disk\n",
    "lda = LdaMulticore.load(lda_model_filepath)"
   ]
  },
  {
   "cell_type": "markdown",
   "metadata": {},
   "source": [
    "- Our topic model is now trained and ready to be used. \n",
    "- Since each topic is represented as a mixture of tokens, you can manually inspect which tokens have been grouped together into which topics to try to understand the patterns the model has discovered in the data."
   ]
  },
  {
   "cell_type": "code",
   "execution_count": 275,
   "metadata": {},
   "outputs": [],
   "source": [
    "# use a user-supplied topic number and print out a formatted list of the top tokens\n",
    "def explore_topic(topic_number, topn=15):\n",
    "    print(f'{\"term\":20} {\"frequency\"}' + '\\n') # column headers\n",
    "    \n",
    "    for term, frequency in lda.show_topic(topic_number, topn):\n",
    "        print(f'{term:20} {round(frequency, 3):.3f}')"
   ]
  },
  {
   "cell_type": "code",
   "execution_count": 276,
   "metadata": {},
   "outputs": [
    {
     "ename": "NameError",
     "evalue": "name 'label' is not defined",
     "output_type": "error",
     "traceback": [
      "\u001b[1;31m---------------------------------------------------------------------------\u001b[0m",
      "\u001b[1;31mNameError\u001b[0m                                 Traceback (most recent call last)",
      "\u001b[1;32m<ipython-input-276-a3dedd701cf3>\u001b[0m in \u001b[0;36m<module>\u001b[1;34m\u001b[0m\n\u001b[1;32m----> 1\u001b[1;33m \u001b[0mset\u001b[0m\u001b[1;33m(\u001b[0m\u001b[0mlabel\u001b[0m\u001b[1;33m)\u001b[0m\u001b[1;33m\u001b[0m\u001b[1;33m\u001b[0m\u001b[0m\n\u001b[0m",
      "\u001b[1;31mNameError\u001b[0m: name 'label' is not defined"
     ]
    }
   ],
   "source": [
    "set(label)"
   ]
  },
  {
   "cell_type": "code",
   "execution_count": null,
   "metadata": {
    "scrolled": false
   },
   "outputs": [],
   "source": [
    "explore_topic(topic_number=0)   # Business"
   ]
  },
  {
   "cell_type": "code",
   "execution_count": null,
   "metadata": {},
   "outputs": [],
   "source": [
    "explore_topic(topic_number=1)    # World or Business?"
   ]
  },
  {
   "cell_type": "code",
   "execution_count": null,
   "metadata": {},
   "outputs": [],
   "source": [
    "explore_topic(topic_number=2) # SciTech?"
   ]
  },
  {
   "cell_type": "code",
   "execution_count": null,
   "metadata": {},
   "outputs": [],
   "source": [
    "explore_topic(topic_number=3) # sports"
   ]
  },
  {
   "cell_type": "markdown",
   "metadata": {},
   "source": [
    "**In case the news headlines are not labelled in this problem, then I can apply LDA to the corpus and examine the tokens that are grouped in each topic and figure out what the topic might be. Then I can labelled each of the documents/headlines with these topics.**"
   ]
  },
  {
   "cell_type": "markdown",
   "metadata": {},
   "source": [
    "- Manually review the top terms for each topic is a helpful exercise to figure out what the topic might be. \n",
    "- But to get a deeper understanding of the topics and how they relate to each other, we need to visualize the data — preferably in an interactive format.  - We use the pyLDAvis libary for that.  It is a library that takes topic models from gensim and prepare visualizations with the data."
   ]
  },
  {
   "cell_type": "code",
   "execution_count": null,
   "metadata": {},
   "outputs": [],
   "source": [
    "LDAvis_data_filepath = os.path.join(scratch_directory, 'ldavis_prepared')"
   ]
  },
  {
   "cell_type": "code",
   "execution_count": null,
   "metadata": {},
   "outputs": [],
   "source": [
    "'''\n",
    "The pyLDAvis.gensim.prepare function takes the gensim lda model, the bow representation of the documents (a matrix), and \n",
    "the corpus dictionary generated from gensim as inputs\n",
    "'''\n",
    "execute = False\n",
    "if execute:\n",
    "    LDAvis_prepared = pyLDAvis.gensim.prepare(lda, trigram_bow_corpus, dictionary_trigrams)\n",
    "\n",
    "    with open(LDAvis_data_filepath, 'wb') as f:  # write binary (file mode)\n",
    "        pickle.dump(LDAvis_prepared, f)"
   ]
  },
  {
   "cell_type": "code",
   "execution_count": null,
   "metadata": {},
   "outputs": [],
   "source": [
    "# load the prepared pyLDAvis data from disk\n",
    "with open(LDAvis_data_filepath, 'rb') as f:\n",
    "    LDAvis_prepared = pickle.load(f)"
   ]
  },
  {
   "cell_type": "markdown",
   "metadata": {},
   "source": [
    "- Use the pyLDAvis display function to display the topic model visualization inline in the notebook\n",
    "\n",
    "- The interactive visualization pyLDAvis produces is helpful for both:\n",
    "    - (1) Better understanding and interpreting individual topics, and\n",
    "    - (2) Better understanding the relationships between the topics.\n",
    "\n",
    "- For (1), you can manually select each topic to view its top most freqeuent and/or \"relevant\" terms, using different values of the $\\lambda$ parameter. This can help when you're trying to assign a human interpretable name or \"meaning\" to each topic.\n",
    "\n",
    "- For (2), exploring the Intertopic Distance Plot can help you learn about how topics relate to each other, including potential higher-level structure between groups of topics."
   ]
  },
  {
   "cell_type": "code",
   "execution_count": null,
   "metadata": {},
   "outputs": [],
   "source": [
    "pyLDAvis.display(LDAvis_prepared)"
   ]
  },
  {
   "cell_type": "markdown",
   "metadata": {},
   "source": [
    "## Text Description for LDA\n",
    "- Besides \"clustering\" documents into topics, one of the main uses of LDA is to provide a compact and qunatitative description of text data.\n",
    "- Once LDA model is trained, it can be used to represent documents as a mixture of topics (some with more weights/probability than others).\n",
    "- This mixture can be interpreted as a probability distribution across the topics, so the LDA representation of a paragraph of text might look like 50% Topic A, 20% Topic B, 20% Topic C, and 10% Topic D."
   ]
  },
  {
   "cell_type": "markdown",
   "metadata": {},
   "source": [
    "**Here I use \"existing\" headlines from the dataset.  However, if I have \"new\" headlines that are unlabelled, then I can use LDA (trained from existing labelled headlines) to estimate the label for the new unlabelled headlines.**"
   ]
  },
  {
   "cell_type": "code",
   "execution_count": 278,
   "metadata": {},
   "outputs": [
    {
     "name": "stdout",
     "output_type": "stream",
     "text": [
      "The global extinction crisis is worse than thought, because thousands of  quot;affiliated quot; species also at risk do not figure in calculations.\n"
     ]
    }
   ],
   "source": [
    "headline_num = 1452 \n",
    "\n",
    "with open(\"news_article_data.json\") as file:\n",
    "    # convert the json record to a Python dict. \"data\" is a list of dicts\n",
    "    data=[json.loads(line) for line in file]\n",
    "    \n",
    "\n",
    "sample_headline = data[headline_num]['content']\n",
    "print(sample_headline)"
   ]
  },
  {
   "cell_type": "code",
   "execution_count": 285,
   "metadata": {},
   "outputs": [
    {
     "name": "stdout",
     "output_type": "stream",
     "text": [
      "Sports                    0.657\n",
      "Business                  0.290\n"
     ]
    }
   ],
   "source": [
    "lda_description(sample_headline)"
   ]
  },
  {
   "cell_type": "code",
   "execution_count": null,
   "metadata": {},
   "outputs": [],
   "source": []
  },
  {
   "cell_type": "markdown",
   "metadata": {},
   "source": [
    "## Word Embeddings representations with word2vec\n",
    "- The goal of word vector embedding models is to learn dense, numerical vector representations for each term in a corpus vocabulary.\n",
    "- The vectors it learns about each term should encode some information about the meaning or concept the term represents, and the relationship between it and other terms in the vocabulary. \n",
    "- Word vector models are also fully unsupervised — they learn all of these meanings and relationships solely by analyzing the text of the corpus, without any advance knowledge provided.\n",
    "- Perhaps the best-known word vector model is word2vec, originally proposed in 2013. The general idea of word2vec is, for a given focus word, to use the context of the word — i.e., the other words immediately before and after it — to provide hints about what the focus word might mean. To do this, word2vec uses a sliding window technique, where it considers snippets of text only a few tokens long at a time."
   ]
  },
  {
   "cell_type": "markdown",
   "metadata": {},
   "source": [
    "- At the start of the learning process, the model initializes random vectors for all terms in the corpus vocabulary. \n",
    "- The model then slides the window across every snippet of text in the corpus, with each word taking turns as the focus word. \n",
    "- Each time the model considers a new snippet, it tries to learn some information about the focus word based on the surrouding context, and it \"nudges\" the words' vector representations accordingly. \n",
    "- One complete pass sliding the window across all of the corpus text is known as a training epoch. It's common to train a word2vec model for multiple passes/epochs over the corpus. \n",
    "- Over time, the model rearranges the terms' vector representations such that terms that frequently appear in similar contexts have vector representations that are close to each other in vector space."
   ]
  },
  {
   "cell_type": "markdown",
   "metadata": {},
   "source": [
    "- Word2vec has a number of user-defined hyperparameters, including:\n",
    "    - The dimensionality of the vectors. I choose 300 for this example.\n",
    "    - The width of the sliding window, in tokens. Five is a common default choice, but narrower and wider windows are possible.\n",
    "    - The number of training epochs."
   ]
  },
  {
   "cell_type": "markdown",
   "metadata": {},
   "source": [
    "**If I want to train my own word2vec model with my corpus, gensim comes with a highly-optimized implementation word2vec algorithm with its Word2Vec class.**"
   ]
  },
  {
   "cell_type": "code",
   "execution_count": 286,
   "metadata": {},
   "outputs": [],
   "source": [
    "from gensim.models import Word2Vec\n",
    "\n",
    "# get LineSentence iterator of my headlines (with trigrams and stopwords removed)\n",
    "sentences_trigrams = LineSentence(sentences_trigrams_filepath) \n",
    "word2vec_filepath = os.path.join(scratch_directory, 'word2vec_model_all')"
   ]
  },
  {
   "cell_type": "code",
   "execution_count": 287,
   "metadata": {},
   "outputs": [],
   "source": [
    "execute = False\n",
    "\n",
    "if execute:\n",
    "    \n",
    "    # initiate the model and perform the 20 epoch of training\n",
    "    w2v = Word2Vec( \n",
    "        sentences_trigrams, # LineSentence object of the transformed headline corpus\n",
    "        size=300, # size of the word vector\n",
    "        window=5, # size of the window\n",
    "        min_count=3, # Ignores all words with total frequency lower than this.\n",
    "        sg=1, # Training algorithm: 1 for skip-gram; otherwise CBOW.\n",
    "        workers=1, # Use these many worker threads to train the model\n",
    "        iter=20 # number of epoch\n",
    "        )\n",
    "    \n",
    "    # save model\n",
    "    w2v.save(word2vec_filepath)"
   ]
  },
  {
   "cell_type": "markdown",
   "metadata": {},
   "source": [
    "**The training is streamed, meaning sentences can be a generator, reading input data from disk on-the-fly, without loading the entire corpus into RAM. It also means you can continue training the model later:**"
   ]
  },
  {
   "cell_type": "code",
   "execution_count": 288,
   "metadata": {},
   "outputs": [
    {
     "name": "stdout",
     "output_type": "stream",
     "text": [
      "The model was trained with 20 epochs.\n"
     ]
    }
   ],
   "source": [
    "# load model\n",
    "w2v = Word2Vec.load(word2vec_filepath)\n",
    "\n",
    "print(f'The model was trained with {w2v.epochs} epochs.')\n",
    "\n",
    "# train with new words if necessary\n",
    "# w2v.train([['hello','world','I','am','here']], total_examples=1, epochs=1)\n",
    "\n",
    "# The trained word vectors are stored in a KeyedVectors instance in w2v.wv:\n",
    "# vector = w2v.wv['computer']  # numpy vector of a word\n",
    "\n",
    "\n",
    "# Gensim instances of KeyedVectors (the common interface of sets of word-vectors) \n",
    "# contain a method init_sims(), which internally calculates unit-length \n",
    "# normalized vectors using a native vector operation for speed.\n",
    "\n",
    "w2v.init_sims() # precompute the normalized vectors"
   ]
  },
  {
   "cell_type": "markdown",
   "metadata": {},
   "source": [
    "The reason for separating the trained vectors into KeyedVectors is that if you don’t need the full model state any more (don’t need to continue training), the state can discarded, resulting in a much smaller and faster object that can be mmapped for lightning fast loading and sharing the vectors in RAM between processes:"
   ]
  },
  {
   "cell_type": "code",
   "execution_count": 289,
   "metadata": {},
   "outputs": [],
   "source": [
    "# from gensim.models import KeyedVectors\n",
    "\n",
    "# path = get_tmpfile(\"wordvectors.kv\") # path the save model as a keyvector file\n",
    "# word_vectors = KeyedVectors.load(word2vec_filepath, mmap='r')\n",
    "# vector = word_vectors['computer']  # numpy vector of a word"
   ]
  },
  {
   "cell_type": "code",
   "execution_count": 290,
   "metadata": {},
   "outputs": [
    {
     "name": "stdout",
     "output_type": "stream",
     "text": [
      "561 terms in the w2v vocabulary, each with its 300x1 dense vector representations.\n"
     ]
    }
   ],
   "source": [
    "print(f'{len(w2v.wv.vocab):,} terms in the w2v vocabulary, each with its 300x1 dense vector representations.')"
   ]
  },
  {
   "cell_type": "code",
   "execution_count": 291,
   "metadata": {},
   "outputs": [],
   "source": [
    "# Build a DataFrame that contains a set of word embeddings that I learnt\n",
    "# I can get the index and count (frequency of word)\n",
    "ordered_vocab=[(term, voc.index, voc.count) for term, voc in w2v.wv.vocab.items()]"
   ]
  },
  {
   "cell_type": "code",
   "execution_count": 292,
   "metadata": {},
   "outputs": [
    {
     "data": {
      "text/plain": [
       "[('union', 434, 61),\n",
       " ('worker', 294, 81),\n",
       " ('at', 15, 1070),\n",
       " ('say', 13, 1133),\n",
       " ('be', 6, 3754)]"
      ]
     },
     "execution_count": 292,
     "metadata": {},
     "output_type": "execute_result"
    }
   ],
   "source": [
    "ordered_vocab[:5]"
   ]
  },
  {
   "cell_type": "code",
   "execution_count": 293,
   "metadata": {},
   "outputs": [],
   "source": [
    "# sort by the term counts, so the most common terms appear first\n",
    "ordered_vocab = sorted(ordered_vocab, key=lambda term_tuple: -term_tuple[2])"
   ]
  },
  {
   "cell_type": "code",
   "execution_count": 294,
   "metadata": {},
   "outputs": [
    {
     "data": {
      "text/plain": [
       "[('the', 0, 12464),\n",
       " ('a', 1, 6424),\n",
       " ('of', 2, 5085),\n",
       " ('to', 3, 4820),\n",
       " ('in', 4, 4548)]"
      ]
     },
     "execution_count": 294,
     "metadata": {},
     "output_type": "execute_result"
    }
   ],
   "source": [
    "ordered_vocab[:5]"
   ]
  },
  {
   "cell_type": "code",
   "execution_count": 295,
   "metadata": {},
   "outputs": [],
   "source": [
    "# unzip the terms, integer indices, and counts into separate lists\n",
    "ordered_terms, term_indices, term_counts = zip(*ordered_vocab)"
   ]
  },
  {
   "cell_type": "code",
   "execution_count": 296,
   "metadata": {},
   "outputs": [
    {
     "data": {
      "text/plain": [
       "('the', 'a', 'of', 'to', 'in')"
      ]
     },
     "execution_count": 296,
     "metadata": {},
     "output_type": "execute_result"
    }
   ],
   "source": [
    "ordered_terms[:5]"
   ]
  },
  {
   "cell_type": "code",
   "execution_count": 297,
   "metadata": {},
   "outputs": [
    {
     "data": {
      "text/plain": [
       "(0, 1, 2, 3, 4)"
      ]
     },
     "execution_count": 297,
     "metadata": {},
     "output_type": "execute_result"
    }
   ],
   "source": [
    "term_indices[:5]"
   ]
  },
  {
   "cell_type": "code",
   "execution_count": 298,
   "metadata": {},
   "outputs": [
    {
     "data": {
      "text/plain": [
       "(12464, 6424, 5085, 4820, 4548)"
      ]
     },
     "execution_count": 298,
     "metadata": {},
     "output_type": "execute_result"
    }
   ],
   "source": [
    "term_counts[:5]"
   ]
  },
  {
   "cell_type": "code",
   "execution_count": 299,
   "metadata": {},
   "outputs": [
    {
     "data": {
      "text/html": [
       "<div>\n",
       "<style scoped>\n",
       "    .dataframe tbody tr th:only-of-type {\n",
       "        vertical-align: middle;\n",
       "    }\n",
       "\n",
       "    .dataframe tbody tr th {\n",
       "        vertical-align: top;\n",
       "    }\n",
       "\n",
       "    .dataframe thead th {\n",
       "        text-align: right;\n",
       "    }\n",
       "</style>\n",
       "<table border=\"1\" class=\"dataframe\">\n",
       "  <thead>\n",
       "    <tr style=\"text-align: right;\">\n",
       "      <th></th>\n",
       "      <th>0</th>\n",
       "      <th>1</th>\n",
       "      <th>2</th>\n",
       "      <th>3</th>\n",
       "      <th>4</th>\n",
       "      <th>5</th>\n",
       "      <th>6</th>\n",
       "      <th>7</th>\n",
       "      <th>8</th>\n",
       "      <th>9</th>\n",
       "      <th>...</th>\n",
       "      <th>290</th>\n",
       "      <th>291</th>\n",
       "      <th>292</th>\n",
       "      <th>293</th>\n",
       "      <th>294</th>\n",
       "      <th>295</th>\n",
       "      <th>296</th>\n",
       "      <th>297</th>\n",
       "      <th>298</th>\n",
       "      <th>299</th>\n",
       "    </tr>\n",
       "  </thead>\n",
       "  <tbody>\n",
       "    <tr>\n",
       "      <th>injury</th>\n",
       "      <td>-0.028678</td>\n",
       "      <td>0.003672</td>\n",
       "      <td>-0.046433</td>\n",
       "      <td>0.042980</td>\n",
       "      <td>-0.050665</td>\n",
       "      <td>-0.097703</td>\n",
       "      <td>0.064402</td>\n",
       "      <td>-0.070111</td>\n",
       "      <td>-0.047728</td>\n",
       "      <td>-0.100487</td>\n",
       "      <td>...</td>\n",
       "      <td>0.014500</td>\n",
       "      <td>-0.022889</td>\n",
       "      <td>0.005913</td>\n",
       "      <td>-0.019160</td>\n",
       "      <td>0.071120</td>\n",
       "      <td>0.065715</td>\n",
       "      <td>-0.033689</td>\n",
       "      <td>-0.061767</td>\n",
       "      <td>-0.013519</td>\n",
       "      <td>0.056492</td>\n",
       "    </tr>\n",
       "    <tr>\n",
       "      <th>question</th>\n",
       "      <td>0.015104</td>\n",
       "      <td>0.026804</td>\n",
       "      <td>0.020081</td>\n",
       "      <td>0.060929</td>\n",
       "      <td>0.007962</td>\n",
       "      <td>-0.014428</td>\n",
       "      <td>0.025457</td>\n",
       "      <td>0.004132</td>\n",
       "      <td>0.097565</td>\n",
       "      <td>-0.015763</td>\n",
       "      <td>...</td>\n",
       "      <td>-0.062230</td>\n",
       "      <td>-0.069003</td>\n",
       "      <td>-0.033870</td>\n",
       "      <td>-0.006200</td>\n",
       "      <td>0.068917</td>\n",
       "      <td>0.057053</td>\n",
       "      <td>-0.040870</td>\n",
       "      <td>-0.122160</td>\n",
       "      <td>-0.024437</td>\n",
       "      <td>-0.005812</td>\n",
       "    </tr>\n",
       "    <tr>\n",
       "      <th>airline</th>\n",
       "      <td>0.044040</td>\n",
       "      <td>-0.012662</td>\n",
       "      <td>0.028198</td>\n",
       "      <td>0.082535</td>\n",
       "      <td>-0.037324</td>\n",
       "      <td>-0.018668</td>\n",
       "      <td>0.063906</td>\n",
       "      <td>0.016214</td>\n",
       "      <td>-0.075572</td>\n",
       "      <td>-0.100135</td>\n",
       "      <td>...</td>\n",
       "      <td>-0.085299</td>\n",
       "      <td>-0.071514</td>\n",
       "      <td>-0.059542</td>\n",
       "      <td>-0.056584</td>\n",
       "      <td>-0.014410</td>\n",
       "      <td>0.062958</td>\n",
       "      <td>-0.046979</td>\n",
       "      <td>-0.038288</td>\n",
       "      <td>0.031768</td>\n",
       "      <td>0.111603</td>\n",
       "    </tr>\n",
       "    <tr>\n",
       "      <th>receive</th>\n",
       "      <td>-0.047220</td>\n",
       "      <td>-0.005763</td>\n",
       "      <td>0.046993</td>\n",
       "      <td>0.097229</td>\n",
       "      <td>0.050526</td>\n",
       "      <td>-0.048636</td>\n",
       "      <td>-0.066621</td>\n",
       "      <td>-0.022332</td>\n",
       "      <td>-0.029707</td>\n",
       "      <td>-0.148279</td>\n",
       "      <td>...</td>\n",
       "      <td>-0.025118</td>\n",
       "      <td>-0.040520</td>\n",
       "      <td>-0.031505</td>\n",
       "      <td>-0.143225</td>\n",
       "      <td>-0.014615</td>\n",
       "      <td>0.158997</td>\n",
       "      <td>0.005598</td>\n",
       "      <td>0.012431</td>\n",
       "      <td>0.008274</td>\n",
       "      <td>0.027896</td>\n",
       "    </tr>\n",
       "    <tr>\n",
       "      <th>tokyo</th>\n",
       "      <td>-0.054072</td>\n",
       "      <td>-0.102392</td>\n",
       "      <td>0.026237</td>\n",
       "      <td>0.039517</td>\n",
       "      <td>0.032118</td>\n",
       "      <td>-0.006891</td>\n",
       "      <td>-0.020864</td>\n",
       "      <td>0.052435</td>\n",
       "      <td>-0.102598</td>\n",
       "      <td>-0.110021</td>\n",
       "      <td>...</td>\n",
       "      <td>-0.029326</td>\n",
       "      <td>-0.031980</td>\n",
       "      <td>-0.043148</td>\n",
       "      <td>0.001361</td>\n",
       "      <td>-0.081997</td>\n",
       "      <td>0.072917</td>\n",
       "      <td>-0.051460</td>\n",
       "      <td>0.011985</td>\n",
       "      <td>0.001258</td>\n",
       "      <td>0.040532</td>\n",
       "    </tr>\n",
       "  </tbody>\n",
       "</table>\n",
       "<p>5 rows × 300 columns</p>\n",
       "</div>"
      ],
      "text/plain": [
       "               0         1         2         3         4         5    \\\n",
       "injury   -0.028678  0.003672 -0.046433  0.042980 -0.050665 -0.097703   \n",
       "question  0.015104  0.026804  0.020081  0.060929  0.007962 -0.014428   \n",
       "airline   0.044040 -0.012662  0.028198  0.082535 -0.037324 -0.018668   \n",
       "receive  -0.047220 -0.005763  0.046993  0.097229  0.050526 -0.048636   \n",
       "tokyo    -0.054072 -0.102392  0.026237  0.039517  0.032118 -0.006891   \n",
       "\n",
       "               6         7         8         9    ...       290       291  \\\n",
       "injury    0.064402 -0.070111 -0.047728 -0.100487  ...  0.014500 -0.022889   \n",
       "question  0.025457  0.004132  0.097565 -0.015763  ... -0.062230 -0.069003   \n",
       "airline   0.063906  0.016214 -0.075572 -0.100135  ... -0.085299 -0.071514   \n",
       "receive  -0.066621 -0.022332 -0.029707 -0.148279  ... -0.025118 -0.040520   \n",
       "tokyo    -0.020864  0.052435 -0.102598 -0.110021  ... -0.029326 -0.031980   \n",
       "\n",
       "               292       293       294       295       296       297  \\\n",
       "injury    0.005913 -0.019160  0.071120  0.065715 -0.033689 -0.061767   \n",
       "question -0.033870 -0.006200  0.068917  0.057053 -0.040870 -0.122160   \n",
       "airline  -0.059542 -0.056584 -0.014410  0.062958 -0.046979 -0.038288   \n",
       "receive  -0.031505 -0.143225 -0.014615  0.158997  0.005598  0.012431   \n",
       "tokyo    -0.043148  0.001361 -0.081997  0.072917 -0.051460  0.011985   \n",
       "\n",
       "               298       299  \n",
       "injury   -0.013519  0.056492  \n",
       "question -0.024437 -0.005812  \n",
       "airline   0.031768  0.111603  \n",
       "receive   0.008274  0.027896  \n",
       "tokyo     0.001258  0.040532  \n",
       "\n",
       "[5 rows x 300 columns]"
      ]
     },
     "execution_count": 299,
     "metadata": {},
     "output_type": "execute_result"
    }
   ],
   "source": [
    "# create a DataFrame with the w2v vectors as data, and the terms as row labels\n",
    "word_vectors_df = pd.DataFrame(\n",
    "    w2v.wv.vectors_norm[term_indices, :],\n",
    "    index=ordered_terms\n",
    "    )\n",
    "\n",
    "word_vectors_df.tail()"
   ]
  },
  {
   "cell_type": "markdown",
   "metadata": {},
   "source": [
    "**The w2v model has \"embedded\" the terms into a 300-dimensional vector space.**"
   ]
  },
  {
   "cell_type": "code",
   "execution_count": 300,
   "metadata": {},
   "outputs": [],
   "source": [
    "# This function prints the 10 most similar words to the target word\n",
    "def get_related_terms(token, top_n=10):\n",
    "\n",
    "    for word, similarity in w2v.wv.most_similar(positive=[token], topn=top_n):\n",
    "\n",
    "        print(f'{word:20} {round(similarity, 3)}')"
   ]
  },
  {
   "cell_type": "code",
   "execution_count": 301,
   "metadata": {},
   "outputs": [
    {
     "name": "stdout",
     "output_type": "stream",
     "text": [
      "microsoft            0.601\n",
      "server               0.595\n",
      "computer             0.594\n",
      "device               0.59\n",
      "pc                   0.578\n",
      "version_of           0.575\n",
      "digital              0.565\n",
      "product              0.551\n",
      "intel                0.551\n",
      "wireless             0.543\n"
     ]
    }
   ],
   "source": [
    "# words similar in context to \"software\"\n",
    "get_related_terms(\"software\")"
   ]
  },
  {
   "cell_type": "code",
   "execution_count": 302,
   "metadata": {},
   "outputs": [
    {
     "name": "stdout",
     "output_type": "stream",
     "text": [
      "yard                 0.792\n",
      "victory_over         0.766\n",
      "minute               0.703\n",
      "throw                0.684\n",
      "defeat               0.682\n",
      "win_over             0.627\n",
      "sports_network       0.613\n",
      "beat                 0.602\n",
      "point                0.59\n",
      "night                0.58\n"
     ]
    }
   ],
   "source": [
    "get_related_terms(\"score\")"
   ]
  },
  {
   "cell_type": "code",
   "execution_count": 303,
   "metadata": {},
   "outputs": [
    {
     "name": "stdout",
     "output_type": "stream",
     "text": [
      "near                 0.583\n",
      "new_york_reuters     0.548\n",
      "send                 0.545\n",
      "japanese             0.52\n",
      "trade                0.513\n",
      "rebel                0.507\n",
      "unit                 0.506\n",
      "target               0.504\n",
      "force                0.493\n",
      "global               0.491\n"
     ]
    }
   ],
   "source": [
    "get_related_terms(\"tokyo\")"
   ]
  },
  {
   "cell_type": "code",
   "execution_count": null,
   "metadata": {},
   "outputs": [],
   "source": []
  },
  {
   "cell_type": "markdown",
   "metadata": {},
   "source": [
    "### Experimenting with word embeddings\n",
    "- Provide a set of words or phrases that you'd like to add or subtract.\n",
    "- Look up the vectors that represent those terms in the word vector model.\n",
    "- Add and subtract those vectors to produce a new, combined vector.\n",
    "- Look up the most similar vector(s) to this new, combined vector via cosine similarity.\n",
    "- Return the word(s) associated with the similar vector(s)."
   ]
  },
  {
   "cell_type": "code",
   "execution_count": 304,
   "metadata": {},
   "outputs": [],
   "source": [
    "def word_algebra(add=[], subtract=[], topn=1):\n",
    "    \"\"\"\n",
    "    combine the vectors associated with the words provided\n",
    "    in add= and subtract=, look up the topn most similar\n",
    "    terms to the combined vector, and print the result(s)\n",
    "    \"\"\"\n",
    "    answers = w2v.wv.most_similar(positive=add, negative=subtract, topn=topn) # get the resultant word embedding\n",
    "    \n",
    "    for term, similarity in answers:\n",
    "        print(term)"
   ]
  },
  {
   "cell_type": "code",
   "execution_count": 305,
   "metadata": {},
   "outputs": [
    {
     "name": "stdout",
     "output_type": "stream",
     "text": [
      "tokyo\n"
     ]
    }
   ],
   "source": [
    "word_algebra(add=['trade', 'new_york'])"
   ]
  },
  {
   "cell_type": "code",
   "execution_count": 306,
   "metadata": {},
   "outputs": [
    {
     "name": "stdout",
     "output_type": "stream",
     "text": [
      "network\n"
     ]
    }
   ],
   "source": [
    "word_algebra(add=['computer', 'wireless'], subtract=['system'])"
   ]
  },
  {
   "cell_type": "code",
   "execution_count": null,
   "metadata": {},
   "outputs": [],
   "source": []
  },
  {
   "cell_type": "markdown",
   "metadata": {},
   "source": [
    "## Word Vector Visualization with t-SNE\n",
    "- t-Distributed Stochastic Neighbor Embedding, or t-SNE for short, is a dimensionality reduction technique to assist with visualizing high-dimensional datasets. It attempts to map high-dimensional data onto a low two- or three-dimensional representation such that the relative distances between points are preserved as closely as possible in both high-dimensional and low-dimensional space."
   ]
  },
  {
   "cell_type": "code",
   "execution_count": 307,
   "metadata": {},
   "outputs": [],
   "source": [
    "# scikit-learn has a TSNE class, we will use that implementation of t-sne\n",
    "from sklearn.manifold import TSNE"
   ]
  },
  {
   "cell_type": "markdown",
   "metadata": {},
   "source": [
    "**Our input for t-SNE will be the DataFrame of word vectors we created before. But beore that, we will:**\n",
    "- Drop stopwords — it's probably not too interesting to visualize the, of, or, and so on\n"
   ]
  },
  {
   "cell_type": "code",
   "execution_count": 308,
   "metadata": {
    "scrolled": true
   },
   "outputs": [
    {
     "data": {
      "text/html": [
       "<div>\n",
       "<style scoped>\n",
       "    .dataframe tbody tr th:only-of-type {\n",
       "        vertical-align: middle;\n",
       "    }\n",
       "\n",
       "    .dataframe tbody tr th {\n",
       "        vertical-align: top;\n",
       "    }\n",
       "\n",
       "    .dataframe thead th {\n",
       "        text-align: right;\n",
       "    }\n",
       "</style>\n",
       "<table border=\"1\" class=\"dataframe\">\n",
       "  <thead>\n",
       "    <tr style=\"text-align: right;\">\n",
       "      <th></th>\n",
       "      <th>0</th>\n",
       "      <th>1</th>\n",
       "      <th>2</th>\n",
       "      <th>3</th>\n",
       "      <th>4</th>\n",
       "      <th>5</th>\n",
       "      <th>6</th>\n",
       "      <th>7</th>\n",
       "      <th>8</th>\n",
       "      <th>9</th>\n",
       "      <th>...</th>\n",
       "      <th>290</th>\n",
       "      <th>291</th>\n",
       "      <th>292</th>\n",
       "      <th>293</th>\n",
       "      <th>294</th>\n",
       "      <th>295</th>\n",
       "      <th>296</th>\n",
       "      <th>297</th>\n",
       "      <th>298</th>\n",
       "      <th>299</th>\n",
       "    </tr>\n",
       "  </thead>\n",
       "  <tbody>\n",
       "    <tr>\n",
       "      <th>company</th>\n",
       "      <td>-0.022861</td>\n",
       "      <td>-0.050449</td>\n",
       "      <td>0.001595</td>\n",
       "      <td>0.035906</td>\n",
       "      <td>0.096397</td>\n",
       "      <td>-0.034569</td>\n",
       "      <td>0.135193</td>\n",
       "      <td>0.068926</td>\n",
       "      <td>-0.020791</td>\n",
       "      <td>-0.061270</td>\n",
       "      <td>...</td>\n",
       "      <td>-0.013287</td>\n",
       "      <td>-0.100581</td>\n",
       "      <td>0.022391</td>\n",
       "      <td>-0.050550</td>\n",
       "      <td>0.023841</td>\n",
       "      <td>0.087962</td>\n",
       "      <td>0.017231</td>\n",
       "      <td>0.007809</td>\n",
       "      <td>0.009132</td>\n",
       "      <td>0.013007</td>\n",
       "    </tr>\n",
       "    <tr>\n",
       "      <th>new</th>\n",
       "      <td>0.039907</td>\n",
       "      <td>-0.026529</td>\n",
       "      <td>0.048099</td>\n",
       "      <td>-0.049626</td>\n",
       "      <td>0.114245</td>\n",
       "      <td>-0.084603</td>\n",
       "      <td>-0.062243</td>\n",
       "      <td>0.019767</td>\n",
       "      <td>0.012817</td>\n",
       "      <td>-0.024371</td>\n",
       "      <td>...</td>\n",
       "      <td>0.072619</td>\n",
       "      <td>-0.117317</td>\n",
       "      <td>-0.022663</td>\n",
       "      <td>-0.022308</td>\n",
       "      <td>-0.037683</td>\n",
       "      <td>0.077738</td>\n",
       "      <td>0.077305</td>\n",
       "      <td>-0.045504</td>\n",
       "      <td>-0.005399</td>\n",
       "      <td>-0.119434</td>\n",
       "    </tr>\n",
       "    <tr>\n",
       "      <th>ap</th>\n",
       "      <td>0.033210</td>\n",
       "      <td>0.013962</td>\n",
       "      <td>-0.063282</td>\n",
       "      <td>0.082089</td>\n",
       "      <td>-0.033795</td>\n",
       "      <td>-0.086432</td>\n",
       "      <td>-0.101568</td>\n",
       "      <td>-0.060251</td>\n",
       "      <td>0.016080</td>\n",
       "      <td>-0.090278</td>\n",
       "      <td>...</td>\n",
       "      <td>0.032503</td>\n",
       "      <td>0.004069</td>\n",
       "      <td>-0.017299</td>\n",
       "      <td>0.011773</td>\n",
       "      <td>-0.001047</td>\n",
       "      <td>0.078769</td>\n",
       "      <td>0.004370</td>\n",
       "      <td>-0.135862</td>\n",
       "      <td>0.022339</td>\n",
       "      <td>-0.077558</td>\n",
       "    </tr>\n",
       "    <tr>\n",
       "      <th>reuters</th>\n",
       "      <td>-0.035826</td>\n",
       "      <td>-0.120221</td>\n",
       "      <td>-0.046875</td>\n",
       "      <td>0.050515</td>\n",
       "      <td>-0.033914</td>\n",
       "      <td>0.000618</td>\n",
       "      <td>-0.061435</td>\n",
       "      <td>-0.067835</td>\n",
       "      <td>0.005880</td>\n",
       "      <td>-0.093429</td>\n",
       "      <td>...</td>\n",
       "      <td>0.015985</td>\n",
       "      <td>-0.075737</td>\n",
       "      <td>-0.038027</td>\n",
       "      <td>-0.056025</td>\n",
       "      <td>-0.032797</td>\n",
       "      <td>0.113574</td>\n",
       "      <td>-0.008005</td>\n",
       "      <td>-0.163231</td>\n",
       "      <td>0.056703</td>\n",
       "      <td>-0.078024</td>\n",
       "    </tr>\n",
       "    <tr>\n",
       "      <th>win</th>\n",
       "      <td>0.021388</td>\n",
       "      <td>0.031692</td>\n",
       "      <td>-0.012135</td>\n",
       "      <td>0.066727</td>\n",
       "      <td>0.079087</td>\n",
       "      <td>-0.052649</td>\n",
       "      <td>-0.011732</td>\n",
       "      <td>-0.106668</td>\n",
       "      <td>-0.040447</td>\n",
       "      <td>-0.039560</td>\n",
       "      <td>...</td>\n",
       "      <td>0.047772</td>\n",
       "      <td>-0.129981</td>\n",
       "      <td>0.052506</td>\n",
       "      <td>0.026554</td>\n",
       "      <td>-0.018875</td>\n",
       "      <td>0.082755</td>\n",
       "      <td>0.032691</td>\n",
       "      <td>-0.056480</td>\n",
       "      <td>-0.069349</td>\n",
       "      <td>0.018326</td>\n",
       "    </tr>\n",
       "  </tbody>\n",
       "</table>\n",
       "<p>5 rows × 300 columns</p>\n",
       "</div>"
      ],
      "text/plain": [
       "              0         1         2         3         4         5         6    \\\n",
       "company -0.022861 -0.050449  0.001595  0.035906  0.096397 -0.034569  0.135193   \n",
       "new      0.039907 -0.026529  0.048099 -0.049626  0.114245 -0.084603 -0.062243   \n",
       "ap       0.033210  0.013962 -0.063282  0.082089 -0.033795 -0.086432 -0.101568   \n",
       "reuters -0.035826 -0.120221 -0.046875  0.050515 -0.033914  0.000618 -0.061435   \n",
       "win      0.021388  0.031692 -0.012135  0.066727  0.079087 -0.052649 -0.011732   \n",
       "\n",
       "              7         8         9    ...       290       291       292  \\\n",
       "company  0.068926 -0.020791 -0.061270  ... -0.013287 -0.100581  0.022391   \n",
       "new      0.019767  0.012817 -0.024371  ...  0.072619 -0.117317 -0.022663   \n",
       "ap      -0.060251  0.016080 -0.090278  ...  0.032503  0.004069 -0.017299   \n",
       "reuters -0.067835  0.005880 -0.093429  ...  0.015985 -0.075737 -0.038027   \n",
       "win     -0.106668 -0.040447 -0.039560  ...  0.047772 -0.129981  0.052506   \n",
       "\n",
       "              293       294       295       296       297       298       299  \n",
       "company -0.050550  0.023841  0.087962  0.017231  0.007809  0.009132  0.013007  \n",
       "new     -0.022308 -0.037683  0.077738  0.077305 -0.045504 -0.005399 -0.119434  \n",
       "ap       0.011773 -0.001047  0.078769  0.004370 -0.135862  0.022339 -0.077558  \n",
       "reuters -0.056025 -0.032797  0.113574 -0.008005 -0.163231  0.056703 -0.078024  \n",
       "win      0.026554 -0.018875  0.082755  0.032691 -0.056480 -0.069349  0.018326  \n",
       "\n",
       "[5 rows x 300 columns]"
      ]
     },
     "execution_count": 308,
     "metadata": {},
     "output_type": "execute_result"
    }
   ],
   "source": [
    "tsne_input = (word_vectors_df.drop(nlp.Defaults.stop_words, errors='ignore')) #drop stopwords from the word embeddings\n",
    "tsne_input.head()"
   ]
  },
  {
   "cell_type": "code",
   "execution_count": 309,
   "metadata": {},
   "outputs": [
    {
     "data": {
      "text/plain": [
       "array([[-0.02286081, -0.0504493 ,  0.00159523, ...,  0.00780879,\n",
       "         0.00913223,  0.01300692],\n",
       "       [ 0.03990682, -0.02652893,  0.0480987 , ..., -0.04550416,\n",
       "        -0.00539919, -0.11943393],\n",
       "       [ 0.03321031,  0.01396197, -0.06328236, ..., -0.13586223,\n",
       "         0.0223388 , -0.07755819],\n",
       "       ...,\n",
       "       [ 0.04403977, -0.01266175,  0.02819777, ..., -0.03828754,\n",
       "         0.03176774,  0.11160297],\n",
       "       [-0.04722004, -0.00576312,  0.04699276, ...,  0.01243058,\n",
       "         0.00827442,  0.02789558],\n",
       "       [-0.05407192, -0.10239225,  0.02623746, ...,  0.01198477,\n",
       "         0.0012576 ,  0.04053189]], dtype=float32)"
      ]
     },
     "execution_count": 309,
     "metadata": {},
     "output_type": "execute_result"
    }
   ],
   "source": [
    "tsne_input.values # array of arrays"
   ]
  },
  {
   "cell_type": "code",
   "execution_count": 310,
   "metadata": {},
   "outputs": [],
   "source": [
    "tsne_filepath = os.path.join(scratch_directory, 'tsne_model')\n",
    "tsne_vectors_filepath = os.path.join(scratch_directory, 'tsne_vectors.npy')"
   ]
  },
  {
   "cell_type": "code",
   "execution_count": 311,
   "metadata": {},
   "outputs": [],
   "source": [
    "execute = True\n",
    "if execute:\n",
    "    # init the tsne object\n",
    "    tsne=TSNE() \n",
    "    tsne_vectors = tsne.fit_transform(tsne_input.values) # array of 300-D word embedding arrays as input\n",
    "    \n",
    "    with open(tsne_filepath, 'wb') as f:\n",
    "        pickle.dump(tsne, f) # save the tsne model\n",
    "        pd.np.save(tsne_vectors_filepath, tsne_vectors) # save the transformed tsne_vectors"
   ]
  },
  {
   "cell_type": "code",
   "execution_count": 312,
   "metadata": {},
   "outputs": [],
   "source": [
    "# load the tsne_vectors\n",
    "with open(tsne_filepath, 'rb') as f:\n",
    "    tsne = pickle.load(f) # get the tsne model\n",
    "\n",
    "tsne_vectors = pd.np.load(tsne_vectors_filepath) # get the tsne vectors    \n",
    "\n",
    "# put tsne vectors into a DataFrame\n",
    "tsne_vectors = pd.DataFrame(\n",
    "    tsne_vectors,\n",
    "    index=pd.Index(tsne_input.index), # row index are the tokens\n",
    "    columns=['x_coord', 'y_coord']  # each token nly have 2 dimensions now \n",
    "    )"
   ]
  },
  {
   "cell_type": "code",
   "execution_count": 313,
   "metadata": {},
   "outputs": [
    {
     "data": {
      "text/html": [
       "<div>\n",
       "<style scoped>\n",
       "    .dataframe tbody tr th:only-of-type {\n",
       "        vertical-align: middle;\n",
       "    }\n",
       "\n",
       "    .dataframe tbody tr th {\n",
       "        vertical-align: top;\n",
       "    }\n",
       "\n",
       "    .dataframe thead th {\n",
       "        text-align: right;\n",
       "    }\n",
       "</style>\n",
       "<table border=\"1\" class=\"dataframe\">\n",
       "  <thead>\n",
       "    <tr style=\"text-align: right;\">\n",
       "      <th></th>\n",
       "      <th>x_coord</th>\n",
       "      <th>y_coord</th>\n",
       "    </tr>\n",
       "  </thead>\n",
       "  <tbody>\n",
       "    <tr>\n",
       "      <th>company</th>\n",
       "      <td>0.960939</td>\n",
       "      <td>10.573793</td>\n",
       "    </tr>\n",
       "    <tr>\n",
       "      <th>new</th>\n",
       "      <td>11.290567</td>\n",
       "      <td>15.837771</td>\n",
       "    </tr>\n",
       "    <tr>\n",
       "      <th>ap</th>\n",
       "      <td>4.219782</td>\n",
       "      <td>-18.188538</td>\n",
       "    </tr>\n",
       "    <tr>\n",
       "      <th>reuters</th>\n",
       "      <td>-9.832167</td>\n",
       "      <td>10.965966</td>\n",
       "    </tr>\n",
       "    <tr>\n",
       "      <th>win</th>\n",
       "      <td>21.045237</td>\n",
       "      <td>-9.763946</td>\n",
       "    </tr>\n",
       "  </tbody>\n",
       "</table>\n",
       "</div>"
      ],
      "text/plain": [
       "           x_coord    y_coord\n",
       "company   0.960939  10.573793\n",
       "new      11.290567  15.837771\n",
       "ap        4.219782 -18.188538\n",
       "reuters  -9.832167  10.965966\n",
       "win      21.045237  -9.763946"
      ]
     },
     "execution_count": 313,
     "metadata": {},
     "output_type": "execute_result"
    }
   ],
   "source": [
    "tsne_vectors.head()  # tsne vectors are 2-D represnetations of the 300D word-embedding vectors"
   ]
  },
  {
   "cell_type": "code",
   "execution_count": 314,
   "metadata": {},
   "outputs": [
    {
     "data": {
      "text/html": [
       "<div>\n",
       "<style scoped>\n",
       "    .dataframe tbody tr th:only-of-type {\n",
       "        vertical-align: middle;\n",
       "    }\n",
       "\n",
       "    .dataframe tbody tr th {\n",
       "        vertical-align: top;\n",
       "    }\n",
       "\n",
       "    .dataframe thead th {\n",
       "        text-align: right;\n",
       "    }\n",
       "</style>\n",
       "<table border=\"1\" class=\"dataframe\">\n",
       "  <thead>\n",
       "    <tr style=\"text-align: right;\">\n",
       "      <th></th>\n",
       "      <th>x_coord</th>\n",
       "      <th>y_coord</th>\n",
       "      <th>word</th>\n",
       "    </tr>\n",
       "  </thead>\n",
       "  <tbody>\n",
       "    <tr>\n",
       "      <th>company</th>\n",
       "      <td>0.960939</td>\n",
       "      <td>10.573793</td>\n",
       "      <td>company</td>\n",
       "    </tr>\n",
       "    <tr>\n",
       "      <th>new</th>\n",
       "      <td>11.290567</td>\n",
       "      <td>15.837771</td>\n",
       "      <td>new</td>\n",
       "    </tr>\n",
       "    <tr>\n",
       "      <th>ap</th>\n",
       "      <td>4.219782</td>\n",
       "      <td>-18.188538</td>\n",
       "      <td>ap</td>\n",
       "    </tr>\n",
       "    <tr>\n",
       "      <th>reuters</th>\n",
       "      <td>-9.832167</td>\n",
       "      <td>10.965966</td>\n",
       "      <td>reuters</td>\n",
       "    </tr>\n",
       "    <tr>\n",
       "      <th>win</th>\n",
       "      <td>21.045237</td>\n",
       "      <td>-9.763946</td>\n",
       "      <td>win</td>\n",
       "    </tr>\n",
       "  </tbody>\n",
       "</table>\n",
       "</div>"
      ],
      "text/plain": [
       "           x_coord    y_coord     word\n",
       "company   0.960939  10.573793  company\n",
       "new      11.290567  15.837771      new\n",
       "ap        4.219782 -18.188538       ap\n",
       "reuters  -9.832167  10.965966  reuters\n",
       "win      21.045237  -9.763946      win"
      ]
     },
     "execution_count": 314,
     "metadata": {},
     "output_type": "execute_result"
    }
   ],
   "source": [
    "tsne_vectors['word'] = tsne_vectors.index \n",
    "tsne_vectors.head()"
   ]
  },
  {
   "cell_type": "code",
   "execution_count": null,
   "metadata": {},
   "outputs": [],
   "source": []
  },
  {
   "cell_type": "markdown",
   "metadata": {
    "code_folding": []
   },
   "source": [
    "## Plotting Word Vectors with Bokeh"
   ]
  },
  {
   "cell_type": "code",
   "execution_count": 315,
   "metadata": {},
   "outputs": [],
   "source": [
    "from bokeh.plotting import figure, show, output_notebook\n",
    "from bokeh.models import HoverTool, ColumnDataSource, value"
   ]
  },
  {
   "cell_type": "code",
   "execution_count": 316,
   "metadata": {},
   "outputs": [],
   "source": [
    "# add our DataFrame as a ColumnDataSource for Bokeh\n",
    "plot_data = ColumnDataSource(tsne_vectors)\n",
    "\n",
    "# create the plot and configure the\n",
    "# title, dimensions, and tools\n",
    "tsne_plot = figure(\n",
    "    title='t-SNE Word Embeddings',\n",
    "    plot_width=800,\n",
    "    plot_height=800,\n",
    "    tools=(\n",
    "        'pan, wheel_zoom, box_zoom,'\n",
    "        'box_select, reset'\n",
    "        ),\n",
    "    active_scroll='wheel_zoom'\n",
    "    )\n",
    "\n",
    "# add a hover tool to display words on roll-over\n",
    "tsne_plot.add_tools(\n",
    "    HoverTool(tooltips = '@word')\n",
    "    )\n",
    "\n",
    "# draw the words as circles on the plot\n",
    "tsne_plot.circle(\n",
    "    'x_coord',\n",
    "    'y_coord',\n",
    "    source=plot_data,\n",
    "    color='blue',\n",
    "    line_alpha=0.2,\n",
    "    fill_alpha=0.1,\n",
    "    size=10,\n",
    "    hover_line_color='black'\n",
    "    )\n",
    "\n",
    "# configure visual elements of the plotc\n",
    "tsne_plot.title.text_font_size = value('16pt')\n",
    "tsne_plot.xaxis.visible = False\n",
    "tsne_plot.yaxis.visible = False\n",
    "tsne_plot.grid.grid_line_color = None\n",
    "tsne_plot.outline_line_color = None\n",
    "\n",
    "# engage!\n",
    "show(tsne_plot);"
   ]
  },
  {
   "cell_type": "code",
   "execution_count": null,
   "metadata": {},
   "outputs": [],
   "source": []
  },
  {
   "cell_type": "markdown",
   "metadata": {},
   "source": [
    "## Text Categorization with spaCy's textcat\n",
    "\n",
    "- https://www.kaggle.com/poonaml/text-classification-using-spacy\n",
    "- https://datascience.stackexchange.com/questions/55896/how-to-train-a-spacy-model-for-text-classification"
   ]
  },
  {
   "cell_type": "markdown",
   "metadata": {},
   "source": [
    "## Process data"
   ]
  },
  {
   "cell_type": "markdown",
   "metadata": {},
   "source": [
    "**I need to wrangle the data to a form that is preferred by spAcy textcat**"
   ]
  },
  {
   "cell_type": "code",
   "execution_count": 317,
   "metadata": {},
   "outputs": [
    {
     "name": "stdout",
     "output_type": "stream",
     "text": [
      "{\"content\": \"Unions representing workers at Turner   Newall say they are 'disappointed' after talks with stricken parent firm Federal Mogul.\",\"annotation\":{\"notes\":\"\",\"label\":[\"Business\"]},\"extras\":null,\"metadata\":{\"first_done_at\":1521027375000,\"last_updated_at\":1521027375000,\"sec_taken\":0,\"last_updated_by\":\"nlYZXxNBQefF2u9VX52CdONFp0C3\",\"status\":\"done\",\"evaluation\":\"NONE\"}}\n",
      "\n"
     ]
    }
   ],
   "source": [
    "with open(\"news_article_data.json\") as file:\n",
    "    first_record = file.readline()\n",
    "\n",
    "print(first_record)"
   ]
  },
  {
   "cell_type": "code",
   "execution_count": 320,
   "metadata": {},
   "outputs": [
    {
     "data": {
      "text/plain": [
       "{'Business', 'SciTech', 'Sports', 'World'}"
      ]
     },
     "execution_count": 320,
     "metadata": {},
     "output_type": "execute_result"
    }
   ],
   "source": [
    "set(labels)"
   ]
  },
  {
   "cell_type": "code",
   "execution_count": 321,
   "metadata": {},
   "outputs": [],
   "source": [
    "# a list of headlines that belong to one of the four classes\n",
    "business_headlines = [] # a list of tuples of text and a dict of labels\n",
    "scitech_headlines = []\n",
    "sports_headlines = []\n",
    "world_headlines = []"
   ]
  },
  {
   "cell_type": "code",
   "execution_count": 322,
   "metadata": {},
   "outputs": [],
   "source": [
    "# lists that contain the text and the labels from all the headlines\n",
    "all_content = []\n",
    "all_type = []"
   ]
  },
  {
   "cell_type": "code",
   "execution_count": 323,
   "metadata": {},
   "outputs": [],
   "source": [
    "with open('news_article_data.json') as file:\n",
    "    for i, headline in enumerate(file):\n",
    "        headline = json.loads(headline) # convert to dict\n",
    "        \n",
    "        # populate text and label from all headlines\n",
    "        all_content.append(headline['content'])\n",
    "        all_type.append(headline['annotation']['label'][0])\n",
    "    \n",
    "        # populate the list of (text, label) tuples in a format that is preferred by spaCy textcat\n",
    "        if headline['annotation']['label'][0] ==\"Business\":\n",
    "            business_headlines.append((\n",
    "            headline['content'], # text\n",
    "            {'cats': {'business': 1.0, 'scitech': 0.0, 'sports': 0.0, 'world': 0.0}} # labels\n",
    "            ))\n",
    "            continue\n",
    "            \n",
    "        if headline['annotation']['label'][0] == \"SciTech\":\n",
    "            scitech_headlines.append((\n",
    "            headline['content'], # text\n",
    "            {'cats': {'business': 0.0, 'scitech': 1.0, 'sports': 0.0, 'world': 0.0}} # labels\n",
    "            ))\n",
    "            continue\n",
    "            \n",
    "        if headline['annotation']['label'][0] == \"Sports\":\n",
    "            sports_headlines.append((\n",
    "            headline['content'], # text\n",
    "            {'cats': {'business': 0.0, 'scitech': 0.0, 'sports': 1.0, 'world': 0.0}} # labels\n",
    "            ))\n",
    "            continue\n",
    "            \n",
    "        if headline['annotation']['label'][0] == \"World\":\n",
    "            world_headlines.append((\n",
    "            headline['content'], # text\n",
    "            {'cats': {'business': 0.0, 'scitech': 0.0, 'sports': 0.0, 'world': 1.0}} # labels\n",
    "            ))\n",
    "            continue"
   ]
  },
  {
   "cell_type": "markdown",
   "metadata": {},
   "source": [
    "**Take a look at a headline in spaCy's preferred format**"
   ]
  },
  {
   "cell_type": "code",
   "execution_count": 324,
   "metadata": {},
   "outputs": [
    {
     "name": "stdout",
     "output_type": "stream",
     "text": [
      "Reuters - Apparel retailers are hoping their\\back-to-school fashions will make the grade among\\style-conscious teens and young adults this fall, but it could\\be a tough sell, with students and parents keeping a tighter\\hold on their wallets.\n",
      "\n",
      "{'cats': {'business': 1.0, 'scitech': 0.0, 'sports': 0.0, 'world': 0.0}}\n"
     ]
    }
   ],
   "source": [
    "headline_text, headline_label = business_headlines[1]\n",
    "print(headline_text)\n",
    "print('')\n",
    "print(headline_label)"
   ]
  },
  {
   "cell_type": "code",
   "execution_count": 325,
   "metadata": {
    "scrolled": true
   },
   "outputs": [
    {
     "name": "stdout",
     "output_type": "stream",
     "text": [
      "AP - A company founded by a chemistry researcher at the University of Louisville won a grant to develop a method of producing better peptides, which are short chains of amino acids, the building blocks of proteins.\n",
      "\n",
      "{'cats': {'business': 0.0, 'scitech': 1.0, 'sports': 0.0, 'world': 0.0}}\n"
     ]
    }
   ],
   "source": [
    "headline_text, headline_label = scitech_headlines[1]\n",
    "print(headline_text)\n",
    "print('')\n",
    "print(headline_label)"
   ]
  },
  {
   "cell_type": "code",
   "execution_count": 326,
   "metadata": {
    "scrolled": true
   },
   "outputs": [
    {
     "name": "stdout",
     "output_type": "stream",
     "text": [
      "FOXBOROUGH -- Looking at his ridiculously developed upper body, with huge biceps and hardly an ounce of fat, it's easy to see why Ty Law, arguably the best cornerback in football, chooses physical play over finesse. That's not to imply that he's lacking a finesse component, because he can shut down his side of the field much as Deion Sanders ...\n",
      "\n",
      "{'cats': {'business': 0.0, 'scitech': 0.0, 'sports': 1.0, 'world': 0.0}}\n"
     ]
    }
   ],
   "source": [
    "headline_text, headline_label = sports_headlines[1]\n",
    "print(headline_text)\n",
    "print('')\n",
    "print(headline_label)"
   ]
  },
  {
   "cell_type": "code",
   "execution_count": 327,
   "metadata": {},
   "outputs": [
    {
     "name": "stdout",
     "output_type": "stream",
     "text": [
      "AP - The man who claims Gov. James E. McGreevey sexually harassed him was pushing for a cash settlement of up to  #36;50 million before the governor decided to announce that he was gay and had an extramarital affair, sources told The Associated Press.\n",
      "\n",
      "{'cats': {'business': 0.0, 'scitech': 0.0, 'sports': 0.0, 'world': 1.0}}\n"
     ]
    }
   ],
   "source": [
    "headline_text, headline_label = world_headlines[1]\n",
    "print(headline_text)\n",
    "print('')\n",
    "print(headline_label)"
   ]
  },
  {
   "cell_type": "code",
   "execution_count": 328,
   "metadata": {},
   "outputs": [
    {
     "data": {
      "text/plain": [
       "(1900, 1900, 1900, 1900)"
      ]
     },
     "execution_count": 328,
     "metadata": {},
     "output_type": "execute_result"
    }
   ],
   "source": [
    "len(business_headlines), len(scitech_headlines), len(sports_headlines), len(world_headlines)"
   ]
  },
  {
   "cell_type": "code",
   "execution_count": null,
   "metadata": {},
   "outputs": [],
   "source": []
  },
  {
   "cell_type": "markdown",
   "metadata": {},
   "source": [
    "### In addition to using the original headline text as features, we also want to try using the \"transformed\" text as features (tokenized, lemmatized, stopwords and non-alphanumeric characters removed, bigrams and trigrams identified)"
   ]
  },
  {
   "cell_type": "markdown",
   "metadata": {},
   "source": [
    "**Wrangle the transformed text in a format that is preferrable by textcat**"
   ]
  },
  {
   "cell_type": "code",
   "execution_count": 329,
   "metadata": {},
   "outputs": [],
   "source": [
    "# get the processed text\n",
    "transformed_content = []\n",
    "with open(headlines_trigrams_filepath) as file:\n",
    "    for headline in file:\n",
    "        transformed_content.append(headline)"
   ]
  },
  {
   "cell_type": "code",
   "execution_count": 330,
   "metadata": {},
   "outputs": [],
   "source": [
    "headline_df = pd.DataFrame(list(zip(all_content, transformed_content, all_type)), columns = ['content', 'transformed', 'type'])"
   ]
  },
  {
   "cell_type": "code",
   "execution_count": 331,
   "metadata": {},
   "outputs": [
    {
     "data": {
      "text/html": [
       "<div>\n",
       "<style scoped>\n",
       "    .dataframe tbody tr th:only-of-type {\n",
       "        vertical-align: middle;\n",
       "    }\n",
       "\n",
       "    .dataframe tbody tr th {\n",
       "        vertical-align: top;\n",
       "    }\n",
       "\n",
       "    .dataframe thead th {\n",
       "        text-align: right;\n",
       "    }\n",
       "</style>\n",
       "<table border=\"1\" class=\"dataframe\">\n",
       "  <thead>\n",
       "    <tr style=\"text-align: right;\">\n",
       "      <th></th>\n",
       "      <th>content</th>\n",
       "      <th>transformed</th>\n",
       "      <th>type</th>\n",
       "    </tr>\n",
       "  </thead>\n",
       "  <tbody>\n",
       "    <tr>\n",
       "      <th>0</th>\n",
       "      <td>Unions representing workers at Turner   Newall...</td>\n",
       "      <td>union represent worker turner newall disappoin...</td>\n",
       "      <td>Business</td>\n",
       "    </tr>\n",
       "    <tr>\n",
       "      <th>1</th>\n",
       "      <td>SPACE.com - TORONTO, Canada -- A second\\team o...</td>\n",
       "      <td>toronto canada rocketeer compete million_ansar...</td>\n",
       "      <td>SciTech</td>\n",
       "    </tr>\n",
       "    <tr>\n",
       "      <th>2</th>\n",
       "      <td>AP - A company founded by a chemistry research...</td>\n",
       "      <td>ap company found chemistry researcher universi...</td>\n",
       "      <td>SciTech</td>\n",
       "    </tr>\n",
       "    <tr>\n",
       "      <th>3</th>\n",
       "      <td>AP - It's barely dawn when Mike Fitzpatrick st...</td>\n",
       "      <td>ap barely dawn mike fitzpatrick start shift bl...</td>\n",
       "      <td>SciTech</td>\n",
       "    </tr>\n",
       "    <tr>\n",
       "      <th>4</th>\n",
       "      <td>AP - Southern California's smog-fighting agenc...</td>\n",
       "      <td>ap southern_california smog fighting agency em...</td>\n",
       "      <td>SciTech</td>\n",
       "    </tr>\n",
       "  </tbody>\n",
       "</table>\n",
       "</div>"
      ],
      "text/plain": [
       "                                             content  \\\n",
       "0  Unions representing workers at Turner   Newall...   \n",
       "1  SPACE.com - TORONTO, Canada -- A second\\team o...   \n",
       "2  AP - A company founded by a chemistry research...   \n",
       "3  AP - It's barely dawn when Mike Fitzpatrick st...   \n",
       "4  AP - Southern California's smog-fighting agenc...   \n",
       "\n",
       "                                         transformed      type  \n",
       "0  union represent worker turner newall disappoin...  Business  \n",
       "1  toronto canada rocketeer compete million_ansar...   SciTech  \n",
       "2  ap company found chemistry researcher universi...   SciTech  \n",
       "3  ap barely dawn mike fitzpatrick start shift bl...   SciTech  \n",
       "4  ap southern_california smog fighting agency em...   SciTech  "
      ]
     },
     "execution_count": 331,
     "metadata": {},
     "output_type": "execute_result"
    }
   ],
   "source": [
    "headline_df.head()"
   ]
  },
  {
   "cell_type": "code",
   "execution_count": 332,
   "metadata": {},
   "outputs": [],
   "source": [
    "headline_df[\"transformed\"] = headline_df[\"transformed\"].apply(lambda x: x.replace('\\n',''))  # remove \\n"
   ]
  },
  {
   "cell_type": "code",
   "execution_count": 333,
   "metadata": {},
   "outputs": [],
   "source": [
    "# get DataFrames of transformed headline texts for each class\n",
    "t_business_df = headline_df.loc[headline_df.type==\"Business\", [\"transformed\", \"type\"]]\n",
    "t_scitech_df = headline_df.loc[headline_df.type==\"SciTech\",  [\"transformed\", \"type\"]]\n",
    "t_sports_df = headline_df.loc[headline_df.type==\"Sports\",  [\"transformed\", \"type\"]]\n",
    "t_world_df = headline_df.loc[headline_df.type==\"World\",  [\"transformed\", \"type\"]]"
   ]
  },
  {
   "cell_type": "code",
   "execution_count": 334,
   "metadata": {},
   "outputs": [],
   "source": [
    " # a list of tuples that contains the transformed text and its associated label in spaCy textcat's preferrable format\n",
    "t_business_headlines = [] \n",
    "t_scitech_headlines = []\n",
    "t_sports_headlines = []\n",
    "t_world_headlines = []\n",
    "\n",
    "for row in t_business_df.values.tolist():\n",
    "    t_business_headlines.append((row[0], # text\n",
    "                                 {'cats': {'business': 1.0, 'scitech': 0.0, 'sports': 0.0, 'world': 0.0}} )) # labels  \n",
    "        \n",
    "for row in t_scitech_df.values.tolist():\n",
    "    t_scitech_headlines.append((row[0], # text\n",
    "                                 {'cats': {'business': 0.0, 'scitech': 1.0, 'sports': 0.0, 'world': 0.0}} )) # labels  \n",
    "\n",
    "        \n",
    "for row in t_sports_df.values.tolist():\n",
    "    t_sports_headlines.append((row[0], # text\n",
    "                                 {'cats': {'business': 0.0, 'scitech': 0.0, 'sports': 1.0, 'world': 0.0}} )) # labels\n",
    "    \n",
    "        \n",
    "for row in t_world_df.values.tolist():\n",
    "    t_world_headlines.append((row[0], # text\n",
    "                                 {'cats': {'business': 0.0, 'scitech': 0.0, 'sports': 0.0, 'world': 1.0}} )) # labels "
   ]
  },
  {
   "cell_type": "code",
   "execution_count": 335,
   "metadata": {},
   "outputs": [
    {
     "name": "stdout",
     "output_type": "stream",
     "text": [
      "union represent worker turner newall disappoint talk_with stricken parent firm federal mogul\n",
      "\n",
      "{'cats': {'business': 1.0, 'scitech': 0.0, 'sports': 0.0, 'world': 0.0}}\n"
     ]
    }
   ],
   "source": [
    "# take a look at a headline\n",
    "text, cat = t_business_headlines[0]\n",
    "print(text)\n",
    "print('')\n",
    "print(cat)"
   ]
  },
  {
   "cell_type": "code",
   "execution_count": 336,
   "metadata": {},
   "outputs": [
    {
     "name": "stdout",
     "output_type": "stream",
     "text": [
      "toronto canada rocketeer compete million_ansari_x_prize contest fund suborbital space flight officially announce date manned rocket\n",
      "\n",
      "{'cats': {'business': 0.0, 'scitech': 1.0, 'sports': 0.0, 'world': 0.0}}\n"
     ]
    }
   ],
   "source": [
    "text, cat = t_scitech_headlines[0]\n",
    "print(text)\n",
    "print('')\n",
    "print(cat)"
   ]
  },
  {
   "cell_type": "code",
   "execution_count": 337,
   "metadata": {},
   "outputs": [
    {
     "name": "stdout",
     "output_type": "stream",
     "text": [
      "michael_phelps win gold_medal 400 individual medley set world_record time 4 minute second\n",
      "\n",
      "{'cats': {'business': 0.0, 'scitech': 0.0, 'sports': 1.0, 'world': 0.0}}\n"
     ]
    }
   ],
   "source": [
    "text, cat = t_sports_headlines[0]\n",
    "print(text)\n",
    "print('')\n",
    "print(cat)"
   ]
  },
  {
   "cell_type": "code",
   "execution_count": 338,
   "metadata": {},
   "outputs": [
    {
     "name": "stdout",
     "output_type": "stream",
     "text": [
      "canadian_press vancouver cp sister man_who die violent confrontation police demand city chief constable resign defend officer involve\n",
      "\n",
      "{'cats': {'business': 0.0, 'scitech': 0.0, 'sports': 0.0, 'world': 1.0}}\n"
     ]
    }
   ],
   "source": [
    "text, cat = t_world_headlines[0]\n",
    "print(text)\n",
    "print('')\n",
    "print(cat)"
   ]
  },
  {
   "cell_type": "code",
   "execution_count": null,
   "metadata": {},
   "outputs": [],
   "source": []
  },
  {
   "cell_type": "markdown",
   "metadata": {},
   "source": [
    "### We'll split the data 70/30 into train and test sets, then randomly shuffle each set."
   ]
  },
  {
   "cell_type": "code",
   "execution_count": 343,
   "metadata": {},
   "outputs": [],
   "source": [
    "import random"
   ]
  },
  {
   "cell_type": "code",
   "execution_count": 348,
   "metadata": {},
   "outputs": [],
   "source": [
    "train_data = business_headlines[:int(len(business_headlines) *0.7)] + scitech_headlines[:int(len(scitech_headlines) * 0.7)] + sports_headlines[:int(len(sports_headlines) *0.7)] + world_headlines[:int(len(world_headlines) * 0.7)]\n",
    "\n",
    "test_data = business_headlines[int(len(business_headlines) * 0.7):] + scitech_headlines[int(len(scitech_headlines) * 0.7):] + sports_headlines[int(len(sports_headlines) * 0.7):] + world_headlines[int(len(world_headlines) * 0.7):] "
   ]
  },
  {
   "cell_type": "code",
   "execution_count": 349,
   "metadata": {},
   "outputs": [],
   "source": [
    "random.shuffle(train_data)\n",
    "random.shuffle(test_data)"
   ]
  },
  {
   "cell_type": "code",
   "execution_count": 350,
   "metadata": {},
   "outputs": [
    {
     "data": {
      "text/plain": [
       "(5320, 2280)"
      ]
     },
     "execution_count": 350,
     "metadata": {},
     "output_type": "execute_result"
    }
   ],
   "source": [
    "len(train_data), len(test_data)"
   ]
  },
  {
   "cell_type": "markdown",
   "metadata": {},
   "source": [
    "**Repeat the same thing for the transformed data**"
   ]
  },
  {
   "cell_type": "code",
   "execution_count": 351,
   "metadata": {},
   "outputs": [],
   "source": [
    "t_train_data = t_business_headlines[:int(len(t_business_headlines) * 0.7)] + t_scitech_headlines[:int(len(t_scitech_headlines) *0.7)] + t_sports_headlines[:int(len(t_sports_headlines) *0.7)] + t_world_headlines[:int(len(t_world_headlines) *0.7)]\n",
    "t_test_data = t_business_headlines[int(len(t_business_headlines) *0.7):] + t_scitech_headlines[int(len(t_scitech_headlines) *0.7):] + t_sports_headlines[int(len(t_sports_headlines)*0.7):] + t_world_headlines[int(len(t_world_headlines)*0.7):] "
   ]
  },
  {
   "cell_type": "code",
   "execution_count": 352,
   "metadata": {},
   "outputs": [],
   "source": [
    "random.shuffle(t_train_data)\n",
    "random.shuffle(t_test_data)"
   ]
  },
  {
   "cell_type": "code",
   "execution_count": 353,
   "metadata": {},
   "outputs": [
    {
     "data": {
      "text/plain": [
       "(5320, 2280)"
      ]
     },
     "execution_count": 353,
     "metadata": {},
     "output_type": "execute_result"
    }
   ],
   "source": [
    "len(t_train_data), len(t_test_data)"
   ]
  },
  {
   "cell_type": "code",
   "execution_count": null,
   "metadata": {},
   "outputs": [],
   "source": []
  },
  {
   "cell_type": "markdown",
   "metadata": {},
   "source": [
    "**Next, we'll create a new textcat model and add it to our existing nlp spaCy pipeline.**"
   ]
  },
  {
   "cell_type": "code",
   "execution_count": 354,
   "metadata": {},
   "outputs": [
    {
     "data": {
      "text/plain": [
       "['tagger', 'parser', 'ner']"
      ]
     },
     "execution_count": 354,
     "metadata": {},
     "output_type": "execute_result"
    }
   ],
   "source": [
    "original_pipe_names = nlp.pipe_names\n",
    "original_pipe_names"
   ]
  },
  {
   "cell_type": "code",
   "execution_count": 355,
   "metadata": {},
   "outputs": [
    {
     "data": {
      "text/plain": [
       "1"
      ]
     },
     "execution_count": 355,
     "metadata": {},
     "output_type": "execute_result"
    }
   ],
   "source": [
    "# create the textcat model, default model that it uses is CNN\n",
    "textcat = nlp.create_pipe(\n",
    "    'textcat',\n",
    "    config={'exclusive_classes': True} # classes are mutually exclusive (binary classification)\n",
    "    )\n",
    "\n",
    "# add labels to the model\n",
    "textcat.add_label('business')\n",
    "textcat.add_label('scitech')\n",
    "textcat.add_label('sports')\n",
    "textcat.add_label('world')"
   ]
  },
  {
   "cell_type": "code",
   "execution_count": 356,
   "metadata": {},
   "outputs": [
    {
     "data": {
      "text/plain": [
       "['tagger', 'parser', 'ner', 'textcat']"
      ]
     },
     "execution_count": 356,
     "metadata": {},
     "output_type": "execute_result"
    }
   ],
   "source": [
    "# add textcat model to the pipe\n",
    "nlp.add_pipe(textcat)\n",
    "nlp.pipe_names"
   ]
  },
  {
   "cell_type": "code",
   "execution_count": 357,
   "metadata": {},
   "outputs": [],
   "source": [
    "# This function helps us evaluate the performance of our text classification model\n",
    "def evaluate(tokenizer, textcat, texts, cats):\n",
    "    \n",
    "    docs = (tokenizer(text) for text in texts)\n",
    "    \n",
    "    tp = 0.0  # True positives\n",
    "    fp = 1e-8  # False positives\n",
    "    fn = 1e-8  # False negatives\n",
    "    tn = 0.0  # True negatives\n",
    "    \n",
    "    for i, doc in enumerate(textcat.pipe(docs)):\n",
    "        # get the labels for each headline in the test dataset (ex: {Business:1, SciTech:0, Sports:0, World:0})\n",
    "        gold = cats[i]['cats'] \n",
    "        \n",
    "        # label and score and the predicted z-score for each label\n",
    "        for label, score in doc.cats.items(): \n",
    "            #print((label, score))\n",
    "            \n",
    "            if label not in gold:\n",
    "                continue\n",
    "            if score >= 0.5 and gold[label] >= 0.5:\n",
    "                tp += 1.0\n",
    "            elif score >= 0.5 and gold[label] < 0.5:\n",
    "                fp += 1.0\n",
    "            elif score < 0.5 and gold[label] < 0.5:\n",
    "                tn += 1\n",
    "            elif score < 0.5 and gold[label] >= 0.5:\n",
    "                fn += 1\n",
    "    \n",
    "    # Compute the estimated test precision, recall and f1-score (from the validation-set approach)\n",
    "    precision = tp / (tp + fp)  # I use micro-averaging method here\n",
    "    recall = tp / (tp + fn)\n",
    "    \n",
    "    if (precision + recall) == 0:\n",
    "        f_score = 0.0\n",
    "    else:\n",
    "        f_score = 2 * (precision * recall) / (precision + recall)\n",
    "    \n",
    "    return {\"textcat_p\": precision, \"textcat_r\": recall, \"textcat_f\": f_score}"
   ]
  },
  {
   "cell_type": "markdown",
   "metadata": {},
   "source": [
    "**We start the training loop for our textcat model, using train_data for training the model and test_data for evaluating its performance.**"
   ]
  },
  {
   "cell_type": "code",
   "execution_count": 358,
   "metadata": {},
   "outputs": [],
   "source": [
    "from spacy.util import minibatch"
   ]
  },
  {
   "cell_type": "code",
   "execution_count": 359,
   "metadata": {},
   "outputs": [
    {
     "name": "stdout",
     "output_type": "stream",
     "text": [
      "Training the model...\n",
      "LOSS \t  P  \t  R  \t  F  \n",
      "6.682\t0.812\t0.317\t0.456\n",
      "3.815\t0.830\t0.752\t0.789\n",
      "2.260\t0.831\t0.795\t0.813\n",
      "1.513\t0.846\t0.813\t0.829\n",
      "1.036\t0.835\t0.807\t0.820\n",
      "0.715\t0.828\t0.806\t0.817\n",
      "0.597\t0.832\t0.818\t0.825\n",
      "0.526\t0.834\t0.821\t0.827\n",
      "0.408\t0.832\t0.818\t0.825\n",
      "0.332\t0.830\t0.818\t0.824\n"
     ]
    }
   ],
   "source": [
    "with nlp.disable_pipes(*original_pipe_names): # disable ner, tagger, and parser, leaving only textcat enabled in nlp \n",
    "    \n",
    "    optimizer = nlp.begin_training() # initialize weights in CNN model (the default model of textcat)\n",
    "    \n",
    "    print(\"Training the model...\")\n",
    "    print(\"{:^5}\\t{:^5}\\t{:^5}\\t{:^5}\".format(\"LOSS\", \"P\", \"R\", \"F\"))\n",
    "    \n",
    "    for i in range(10):\n",
    "        losses = {}\n",
    "\n",
    "        # batch up the examples using spaCy's minibatch\n",
    "        random.shuffle(train_data)\n",
    "\n",
    "        batches = minibatch(train_data, size=8)\n",
    "\n",
    "        for batch in batches:\n",
    "            texts, cats = zip(*batch)  # train text and labels\n",
    "            nlp.update(texts, cats, sgd=optimizer, drop=0.2, losses=losses) # update model with new train data\n",
    "\n",
    "        with textcat.model.use_params(optimizer.averages):\n",
    "\n",
    "            # evaluate model on the test data \n",
    "            test_texts, test_cats = zip(*test_data)\n",
    "            scores = evaluate(nlp.tokenizer, textcat, test_texts, test_cats)\n",
    "\n",
    "        print(\n",
    "            \"{0:.3f}\\t{1:.3f}\\t{2:.3f}\\t{3:.3f}\".format(  # print a simple table of train loss, and test precision, recall and f-score of each epoch\n",
    "                losses[\"textcat\"],\n",
    "                scores[\"textcat_p\"],\n",
    "                scores[\"textcat_r\"],\n",
    "                scores[\"textcat_f\"],\n",
    "                )\n",
    "            )"
   ]
  },
  {
   "cell_type": "markdown",
   "metadata": {},
   "source": [
    "**Train and assess model using transformed data**"
   ]
  },
  {
   "cell_type": "code",
   "execution_count": 360,
   "metadata": {},
   "outputs": [
    {
     "name": "stdout",
     "output_type": "stream",
     "text": [
      "Training the model...\n",
      "LOSS \t  P  \t  R  \t  F  \n",
      "2.598\t0.799\t0.759\t0.778\n",
      "1.210\t0.796\t0.773\t0.784\n",
      "0.782\t0.797\t0.783\t0.790\n",
      "0.573\t0.792\t0.778\t0.785\n",
      "0.357\t0.794\t0.783\t0.788\n",
      "0.346\t0.793\t0.780\t0.787\n",
      "0.266\t0.787\t0.778\t0.783\n",
      "0.218\t0.789\t0.780\t0.785\n",
      "0.206\t0.790\t0.780\t0.785\n",
      "0.238\t0.791\t0.782\t0.786\n"
     ]
    }
   ],
   "source": [
    "with nlp.disable_pipes(*original_pipe_names):\n",
    "    \n",
    "    optimizer = nlp.begin_training()\n",
    "    \n",
    "    print(\"Training the model...\")\n",
    "    print(\"{:^5}\\t{:^5}\\t{:^5}\\t{:^5}\".format(\"LOSS\", \"P\", \"R\", \"F\"))\n",
    "    \n",
    "    for i in range(10):\n",
    "        losses = {}\n",
    "\n",
    "        # batch up the examples using spaCy's minibatch\n",
    "        random.shuffle(t_train_data)\n",
    "\n",
    "        batches = minibatch(t_train_data, size=8)\n",
    "\n",
    "        for batch in batches:\n",
    "            texts, cats = zip(*batch)\n",
    "            nlp.update(texts, cats, sgd=optimizer, drop=0.2, losses=losses)\n",
    "\n",
    "        with textcat.model.use_params(optimizer.averages):\n",
    "\n",
    "            # evaluate on the dev data split off in load_data()\n",
    "            test_texts, test_cats = zip(*t_test_data)\n",
    "            scores = evaluate(nlp.tokenizer, textcat, test_texts, test_cats)\n",
    "\n",
    "        print(\n",
    "            \"{0:.3f}\\t{1:.3f}\\t{2:.3f}\\t{3:.3f}\".format(  # print a simple table\n",
    "                losses[\"textcat\"],\n",
    "                scores[\"textcat_p\"],\n",
    "                scores[\"textcat_r\"],\n",
    "                scores[\"textcat_f\"],\n",
    "                )\n",
    "            )"
   ]
  },
  {
   "cell_type": "markdown",
   "metadata": {},
   "source": [
    "## Thoughts:\n",
    "- If the lemmatized, cleaned, and transformed text is used to trained the CNN model, its performance is actually worse than if I used the original text.\n",
    "- The train loss decreased at each epoch while the test metrics do not change much, this indicates overfitting.  I might only need 10 epoches since the test metrics do not change much.\n",
    "- What is good enough? Perhaps a f1-score close to 0.8 is already good enough for the client.  If so, I might as well go with textcat from spaCY(CNN): no hyperparameters tuning, no model selection, straight-forward to implement."
   ]
  },
  {
   "cell_type": "code",
   "execution_count": null,
   "metadata": {},
   "outputs": [],
   "source": []
  },
  {
   "cell_type": "markdown",
   "metadata": {},
   "source": [
    "## Let's try traditional\" statistical learning methods and see how they compare to CNN in spaCY"
   ]
  },
  {
   "cell_type": "code",
   "execution_count": 362,
   "metadata": {},
   "outputs": [],
   "source": [
    "#Encode the labels into numbers\n",
    "le = LabelEncoder()\n",
    "df['label_num'] = le.fit_transform(df['label'])"
   ]
  },
  {
   "cell_type": "code",
   "execution_count": 363,
   "metadata": {},
   "outputs": [
    {
     "data": {
      "text/html": [
       "<div>\n",
       "<style scoped>\n",
       "    .dataframe tbody tr th:only-of-type {\n",
       "        vertical-align: middle;\n",
       "    }\n",
       "\n",
       "    .dataframe tbody tr th {\n",
       "        vertical-align: top;\n",
       "    }\n",
       "\n",
       "    .dataframe thead th {\n",
       "        text-align: right;\n",
       "    }\n",
       "</style>\n",
       "<table border=\"1\" class=\"dataframe\">\n",
       "  <thead>\n",
       "    <tr style=\"text-align: right;\">\n",
       "      <th></th>\n",
       "      <th>headline</th>\n",
       "      <th>label</th>\n",
       "      <th>word_count</th>\n",
       "      <th>label_num</th>\n",
       "    </tr>\n",
       "  </thead>\n",
       "  <tbody>\n",
       "    <tr>\n",
       "      <th>0</th>\n",
       "      <td>[union, represent, worker, turner, newall, dis...</td>\n",
       "      <td>Business</td>\n",
       "      <td>12</td>\n",
       "      <td>0</td>\n",
       "    </tr>\n",
       "    <tr>\n",
       "      <th>1</th>\n",
       "      <td>[toronto, canada, rocketeer, compete, million_...</td>\n",
       "      <td>SciTech</td>\n",
       "      <td>15</td>\n",
       "      <td>1</td>\n",
       "    </tr>\n",
       "    <tr>\n",
       "      <th>2</th>\n",
       "      <td>[ap, company, found, chemistry, researcher, un...</td>\n",
       "      <td>SciTech</td>\n",
       "      <td>20</td>\n",
       "      <td>1</td>\n",
       "    </tr>\n",
       "    <tr>\n",
       "      <th>3</th>\n",
       "      <td>[ap, barely, dawn, mike, fitzpatrick, start, s...</td>\n",
       "      <td>SciTech</td>\n",
       "      <td>27</td>\n",
       "      <td>1</td>\n",
       "    </tr>\n",
       "    <tr>\n",
       "      <th>4</th>\n",
       "      <td>[ap, southern_california, smog, fighting, agen...</td>\n",
       "      <td>SciTech</td>\n",
       "      <td>18</td>\n",
       "      <td>1</td>\n",
       "    </tr>\n",
       "  </tbody>\n",
       "</table>\n",
       "</div>"
      ],
      "text/plain": [
       "                                            headline     label  word_count  \\\n",
       "0  [union, represent, worker, turner, newall, dis...  Business          12   \n",
       "1  [toronto, canada, rocketeer, compete, million_...   SciTech          15   \n",
       "2  [ap, company, found, chemistry, researcher, un...   SciTech          20   \n",
       "3  [ap, barely, dawn, mike, fitzpatrick, start, s...   SciTech          27   \n",
       "4  [ap, southern_california, smog, fighting, agen...   SciTech          18   \n",
       "\n",
       "   label_num  \n",
       "0          0  \n",
       "1          1  \n",
       "2          1  \n",
       "3          1  \n",
       "4          1  "
      ]
     },
     "execution_count": 363,
     "metadata": {},
     "output_type": "execute_result"
    }
   ],
   "source": [
    "df.head()"
   ]
  },
  {
   "attachments": {},
   "cell_type": "markdown",
   "metadata": {},
   "source": [
    "**Represent headlines with tf-idf vectors**\n",
    "- Tf-idf is a weighting scheme that assigns each word in a document a weight based on its term frequency (tf) and inverse document frequency (idf).  It is defined for a term t in a document d: tf-idf(t,d)\n",
    "- Terms with higher weight are considered to be more \"important/relevant\".\n",
    "- If the term appears a lot in a document, then its importance increases.  But this importance is offset by the frequency of its appearance in the documents of the corpus."
   ]
  },
  {
   "cell_type": "code",
   "execution_count": 364,
   "metadata": {},
   "outputs": [],
   "source": [
    "# Creating the features (tf-idf weights) for the processed text\n",
    "texts = df['headline']"
   ]
  },
  {
   "cell_type": "code",
   "execution_count": 365,
   "metadata": {},
   "outputs": [
    {
     "data": {
      "text/plain": [
       "0       [union, represent, worker, turner, newall, dis...\n",
       "1       [toronto, canada, rocketeer, compete, million_...\n",
       "2       [ap, company, found, chemistry, researcher, un...\n",
       "3       [ap, barely, dawn, mike, fitzpatrick, start, s...\n",
       "4       [ap, southern_california, smog, fighting, agen...\n",
       "                              ...                        \n",
       "7595    [ukrainian, presidential_candidate, viktor, yu...\n",
       "7596    [supply, attractive, pitching, option, dwindle...\n",
       "7597    [like, roger_clemens, exactly, eight_year, ear...\n",
       "7598    [singapore, doctor, united_states, warn_that, ...\n",
       "7599    [ebay, plan_to_buy, apartment, home, rental, s...\n",
       "Name: headline, Length: 7600, dtype: object"
      ]
     },
     "execution_count": 365,
     "metadata": {},
     "output_type": "execute_result"
    }
   ],
   "source": [
    "texts"
   ]
  },
  {
   "cell_type": "code",
   "execution_count": 366,
   "metadata": {},
   "outputs": [
    {
     "data": {
      "text/plain": [
       "(7600,)"
      ]
     },
     "execution_count": 366,
     "metadata": {},
     "output_type": "execute_result"
    }
   ],
   "source": [
    "texts.shape"
   ]
  },
  {
   "cell_type": "code",
   "execution_count": 367,
   "metadata": {},
   "outputs": [],
   "source": [
    "texts = texts.astype('str') # convert from list to str"
   ]
  },
  {
   "cell_type": "code",
   "execution_count": 369,
   "metadata": {},
   "outputs": [],
   "source": [
    "# Init the tf-idf vectorizer\n",
    "tfidf_vectorizer = TfidfVectorizer(ngram_range=(1, 2), \n",
    "                                   min_df = 2, \n",
    "                                   max_df = .95)"
   ]
  },
  {
   "cell_type": "code",
   "execution_count": 370,
   "metadata": {},
   "outputs": [],
   "source": [
    "# Train the tf-idf vectorizer and fit to the clean texts (a series of a list of strings)\n",
    "# I will use the tf-idf representation of headlines as my features\n",
    "X = tfidf_vectorizer.fit_transform(texts)"
   ]
  },
  {
   "cell_type": "code",
   "execution_count": 371,
   "metadata": {},
   "outputs": [
    {
     "data": {
      "text/plain": [
       "(7600, 19471)"
      ]
     },
     "execution_count": 371,
     "metadata": {},
     "output_type": "execute_result"
    }
   ],
   "source": [
    "X.shape"
   ]
  },
  {
   "cell_type": "code",
   "execution_count": 373,
   "metadata": {},
   "outputs": [
    {
     "data": {
      "text/plain": [
       "scipy.sparse.csr.csr_matrix"
      ]
     },
     "execution_count": 373,
     "metadata": {},
     "output_type": "execute_result"
    }
   ],
   "source": [
    "type(X)"
   ]
  },
  {
   "cell_type": "code",
   "execution_count": 374,
   "metadata": {},
   "outputs": [
    {
     "data": {
      "text/plain": [
       "array([0, 1, 1, ..., 2, 0, 0])"
      ]
     },
     "execution_count": 374,
     "metadata": {},
     "output_type": "execute_result"
    }
   ],
   "source": [
    "# The response variable is the label_nums\n",
    "y = df['label_num'].values \n",
    "y"
   ]
  },
  {
   "cell_type": "markdown",
   "metadata": {},
   "source": [
    "**Use TruncatedSVD to perform dimensionality reduction-- I only use 100 features instead of around 19000**"
   ]
  },
  {
   "cell_type": "code",
   "execution_count": 375,
   "metadata": {},
   "outputs": [
    {
     "data": {
      "text/plain": [
       "(7600, 100)"
      ]
     },
     "execution_count": 375,
     "metadata": {},
     "output_type": "execute_result"
    }
   ],
   "source": [
    "# Init the TruncatedSVD model\n",
    "# TruncateSVD is used for dimenionality reduction for X. I only use 100 features\n",
    "lsa = TruncatedSVD(n_components=100, \n",
    "                   n_iter=10, \n",
    "                   random_state=3)\n",
    "\n",
    "X = lsa.fit_transform(X)\n",
    "X.shape"
   ]
  },
  {
   "cell_type": "code",
   "execution_count": 377,
   "metadata": {},
   "outputs": [
    {
     "data": {
      "text/plain": [
       "array([[ 0.03412406,  0.00463693,  0.01146776, ..., -0.04431791,\n",
       "        -0.01159514,  0.00118449],\n",
       "       [ 0.04037659,  0.00557632, -0.01581732, ..., -0.02522068,\n",
       "        -0.00535284,  0.01475032],\n",
       "       [ 0.07524283, -0.00571227, -0.04507114, ..., -0.01167568,\n",
       "        -0.01101929, -0.01206794],\n",
       "       ...,\n",
       "       [ 0.04863976, -0.02553478, -0.03945044, ..., -0.04559406,\n",
       "        -0.00662437, -0.00902562],\n",
       "       [ 0.04337709, -0.00671121,  0.02532739, ...,  0.00285921,\n",
       "         0.01326625, -0.03635294],\n",
       "       [ 0.06287661,  0.0471027 , -0.04062914, ..., -0.00636089,\n",
       "         0.02506302, -0.02581575]])"
      ]
     },
     "execution_count": 377,
     "metadata": {},
     "output_type": "execute_result"
    }
   ],
   "source": [
    "X"
   ]
  },
  {
   "cell_type": "markdown",
   "metadata": {},
   "source": [
    "## Modelling"
   ]
  },
  {
   "cell_type": "markdown",
   "metadata": {},
   "source": [
    "**Train-test split**"
   ]
  },
  {
   "cell_type": "code",
   "execution_count": 379,
   "metadata": {},
   "outputs": [],
   "source": [
    "# Train test split with stratified sampling for evaluation\n",
    "X_train, X_test, y_train, y_test = train_test_split(X, y, test_size = 0.3, random_state = 10)"
   ]
  },
  {
   "cell_type": "code",
   "execution_count": 380,
   "metadata": {},
   "outputs": [],
   "source": [
    "# A dictionary of model name and model objects\n",
    "models = {'Stochastic Gradient Descent' : SGDClassifier(random_state=10, loss='log'),\n",
    "          'KNN': KNeighborsClassifier(),\n",
    "          'Gaussian Naive Bayes': GaussianNB(),\n",
    "          'Random Forest': RandomForestClassifier(random_state=10),\n",
    "          'AdaBoost': AdaBoostClassifier(random_state=10)}"
   ]
  },
  {
   "cell_type": "code",
   "execution_count": 393,
   "metadata": {},
   "outputs": [
    {
     "data": {
      "text/html": [
       "<div>\n",
       "<style scoped>\n",
       "    .dataframe tbody tr th:only-of-type {\n",
       "        vertical-align: middle;\n",
       "    }\n",
       "\n",
       "    .dataframe tbody tr th {\n",
       "        vertical-align: top;\n",
       "    }\n",
       "\n",
       "    .dataframe thead th {\n",
       "        text-align: right;\n",
       "    }\n",
       "</style>\n",
       "<table border=\"1\" class=\"dataframe\">\n",
       "  <thead>\n",
       "    <tr style=\"text-align: right;\">\n",
       "      <th></th>\n",
       "      <th>model_name</th>\n",
       "      <th>accuracy_score</th>\n",
       "      <th>precision_score</th>\n",
       "      <th>recall_score</th>\n",
       "      <th>f1_score</th>\n",
       "    </tr>\n",
       "  </thead>\n",
       "  <tbody>\n",
       "    <tr>\n",
       "      <th>0</th>\n",
       "      <td>Stochastic Gradient Descent</td>\n",
       "      <td>0.810088</td>\n",
       "      <td>0.813460</td>\n",
       "      <td>0.812373</td>\n",
       "      <td>0.808424</td>\n",
       "    </tr>\n",
       "    <tr>\n",
       "      <th>3</th>\n",
       "      <td>Random Forest</td>\n",
       "      <td>0.791228</td>\n",
       "      <td>0.790373</td>\n",
       "      <td>0.792491</td>\n",
       "      <td>0.790539</td>\n",
       "    </tr>\n",
       "    <tr>\n",
       "      <th>4</th>\n",
       "      <td>AdaBoost</td>\n",
       "      <td>0.764474</td>\n",
       "      <td>0.763816</td>\n",
       "      <td>0.765490</td>\n",
       "      <td>0.764469</td>\n",
       "    </tr>\n",
       "    <tr>\n",
       "      <th>1</th>\n",
       "      <td>KNN</td>\n",
       "      <td>0.696491</td>\n",
       "      <td>0.704312</td>\n",
       "      <td>0.699901</td>\n",
       "      <td>0.695536</td>\n",
       "    </tr>\n",
       "    <tr>\n",
       "      <th>2</th>\n",
       "      <td>Gaussian Naive Bayes</td>\n",
       "      <td>0.683772</td>\n",
       "      <td>0.695923</td>\n",
       "      <td>0.685093</td>\n",
       "      <td>0.681555</td>\n",
       "    </tr>\n",
       "  </tbody>\n",
       "</table>\n",
       "</div>"
      ],
      "text/plain": [
       "                    model_name  accuracy_score  precision_score  recall_score  \\\n",
       "0  Stochastic Gradient Descent        0.810088         0.813460      0.812373   \n",
       "3                Random Forest        0.791228         0.790373      0.792491   \n",
       "4                     AdaBoost        0.764474         0.763816      0.765490   \n",
       "1                          KNN        0.696491         0.704312      0.699901   \n",
       "2         Gaussian Naive Bayes        0.683772         0.695923      0.685093   \n",
       "\n",
       "   f1_score  \n",
       "0  0.808424  \n",
       "3  0.790539  \n",
       "4  0.764469  \n",
       "1  0.695536  \n",
       "2  0.681555  "
      ]
     },
     "execution_count": 393,
     "metadata": {},
     "output_type": "execute_result"
    }
   ],
   "source": [
    "'''Train the models with the train set and compute \n",
    "the estimated test accuracy, precision, recall and f1 scores with the test set.\n",
    "'''\n",
    "model_score(models)"
   ]
  },
  {
   "cell_type": "code",
   "execution_count": null,
   "metadata": {},
   "outputs": [],
   "source": []
  },
  {
   "cell_type": "markdown",
   "metadata": {},
   "source": [
    "## Model Optimization\n",
    "- I will pick the top two performing models in terms of f1 score and performing further optimization (hyperparameters tuning)."
   ]
  },
  {
   "cell_type": "code",
   "execution_count": 395,
   "metadata": {},
   "outputs": [],
   "source": [
    "# A dict with model name and object\n",
    "models = {'SGD': SGDClassifier(loss = 'log'),\n",
    "          'RandomForestClassifier': RandomForestClassifier(min_samples_leaf=1, max_features='auto')}"
   ]
  },
  {
   "cell_type": "code",
   "execution_count": 396,
   "metadata": {},
   "outputs": [],
   "source": [
    "# Use a dictionary of dictionaries to set grid params for sgd and rf\n",
    "params = {\n",
    "    'SGD':  {\n",
    "        \"penalty\": ['l2', 'l1'],\n",
    "        \"alpha\":  [1e-6, 1e-3, 1e-1, 1e0],\n",
    "        \"max_iter\":  [5, 1000, 5000],\n",
    "        \"eta0\": [0.1, 0.001]\n",
    "        },\n",
    "    \n",
    "    'RandomForestClassifier':  { \n",
    "        \"n_estimators\" : [1400, 1500],\n",
    "        \"max_depth\"    : [10,50],\n",
    "        \"min_samples_split\": [5,10]\n",
    "    }\n",
    "\n",
    "}"
   ]
  },
  {
   "cell_type": "markdown",
   "metadata": {},
   "source": [
    "**GridSearchCV**"
   ]
  },
  {
   "cell_type": "code",
   "execution_count": 398,
   "metadata": {},
   "outputs": [
    {
     "name": "stdout",
     "output_type": "stream",
     "text": [
      "Fitting 5 folds for each of 48 candidates, totalling 240 fits\n"
     ]
    },
    {
     "name": "stderr",
     "output_type": "stream",
     "text": [
      "[Parallel(n_jobs=-1)]: Using backend LokyBackend with 4 concurrent workers.\n",
      "[Parallel(n_jobs=-1)]: Done  33 tasks      | elapsed:   16.3s\n",
      "[Parallel(n_jobs=-1)]: Done 154 tasks      | elapsed:   36.4s\n",
      "[Parallel(n_jobs=-1)]: Done 240 out of 240 | elapsed:   42.1s finished\n"
     ]
    },
    {
     "name": "stdout",
     "output_type": "stream",
     "text": [
      "The best parameters are: {'alpha': 1e-06, 'eta0': 0.1, 'max_iter': 5000, 'penalty': 'l1'}\n",
      "Fitting 5 folds for each of 8 candidates, totalling 40 fits\n"
     ]
    },
    {
     "name": "stderr",
     "output_type": "stream",
     "text": [
      "[Parallel(n_jobs=-1)]: Using backend LokyBackend with 4 concurrent workers.\n",
      "[Parallel(n_jobs=-1)]: Done  33 tasks      | elapsed: 12.2min\n",
      "[Parallel(n_jobs=-1)]: Done  40 out of  40 | elapsed: 14.0min finished\n"
     ]
    },
    {
     "name": "stdout",
     "output_type": "stream",
     "text": [
      "The best parameters are: {'max_depth': 50, 'min_samples_split': 5, 'n_estimators': 1500}\n"
     ]
    }
   ],
   "source": [
    "execute = False\n",
    "if execute:\n",
    "    best_models=fit_assess(X_train,y_train)"
   ]
  },
  {
   "cell_type": "code",
   "execution_count": 399,
   "metadata": {},
   "outputs": [],
   "source": [
    "# save the best models to disk\n",
    "pickle.dump(best_models[0], open('saved_models/best_sgd_model.sav', 'wb'))\n",
    "pickle.dump(best_models[1], open('saved_models/best_rf_model.sav', 'wb'))"
   ]
  },
  {
   "cell_type": "code",
   "execution_count": 400,
   "metadata": {},
   "outputs": [],
   "source": [
    "# load the model from disk\n",
    "best_models[0] = pickle.load(open('saved_models/best_sgd_model.sav', 'rb'))\n",
    "best_models[1] = pickle.load(open('saved_models/best_rf_model.sav', 'rb'))"
   ]
  },
  {
   "cell_type": "markdown",
   "metadata": {},
   "source": [
    "**Armed with the optimized models from GridSearchCV, I can choose the \"best\" statistical learning approach based on the hgihest fl score (on the test dataset)**"
   ]
  },
  {
   "cell_type": "code",
   "execution_count": 401,
   "metadata": {},
   "outputs": [
    {
     "name": "stdout",
     "output_type": "stream",
     "text": [
      "\n",
      "\n",
      "SGD\n",
      "Best parameters are: {'alpha': 1e-06, 'eta0': 0.1, 'max_iter': 5000, 'penalty': 'l1'}\n",
      "Best estimated test accuracy (from CV): 0.8109022556390977\n",
      "The f1 score of the model with the best parameters (on the test dataset): 0.8150193063632896\n",
      "\n",
      "\n",
      "RandomForestClassifier\n",
      "Best parameters are: {'max_depth': 50, 'min_samples_split': 5, 'n_estimators': 1500}\n",
      "Best estimated test accuracy (from CV): 0.8099624060150376\n",
      "The f1 score of the model with the best parameters (on the test dataset): 0.7965617937816524\n",
      "\n",
      " The best statistical learning approach (on the test dataset) is SGD\n"
     ]
    }
   ],
   "source": [
    "best_f1=0\n",
    "best_gs = ''\n",
    "\n",
    "for i, gs in enumerate(best_models):\n",
    "    \n",
    "    # Get best parameters\n",
    "    print(\"\\n\")\n",
    "    print(list(models.keys())[i])\n",
    "    print(\"Best parameters are: {}\".format(gs.best_params_))\n",
    "    \n",
    "    # Get best score (from CV)\n",
    "    print(\"Best estimated test accuracy (from CV): {}\".format(gs.best_score_))\n",
    "    \n",
    "    # test predictions \n",
    "    y_pred = gs.predict(X_test)\n",
    "    \n",
    "    print(\"The f1 score of the model with the best parameters (on the test dataset): {}\".format(f1_score(y_test,y_pred,\n",
    "                                                                                                        average='macro')))\n",
    "    \n",
    "    # Get the best statistical learning approach\n",
    "    if f1_score(y_test,y_pred, average = 'macro') >= best_f1:\n",
    "        best_f1 = f1_score(y_test,y_pred, average='macro')  # update best f1 score\n",
    "        best_gs = gs  # update the best statistical learning approach\n",
    "        best_clf_index = i\n",
    "        \n",
    "\n",
    "print(\"\\n The best statistical learning approach (on the test dataset) is {}\".format(list(models.keys())[best_clf_index]))"
   ]
  },
  {
   "cell_type": "code",
   "execution_count": null,
   "metadata": {},
   "outputs": [],
   "source": []
  },
  {
   "cell_type": "markdown",
   "metadata": {},
   "source": [
    "## I will plot the ROC for the \"best\" model: SGD"
   ]
  },
  {
   "cell_type": "code",
   "execution_count": 402,
   "metadata": {},
   "outputs": [],
   "source": [
    "#Plot the ROC - SGD\n",
    "\n",
    "#Binarize the labels\n",
    "y_b = label_binarize(y, classes = [0, 1, 2, 3])\n",
    "n_classes = y_b.shape[1] # y is now an array of array"
   ]
  },
  {
   "cell_type": "code",
   "execution_count": 403,
   "metadata": {},
   "outputs": [
    {
     "data": {
      "text/plain": [
       "array([[1, 0, 0, 0],\n",
       "       [0, 1, 0, 0],\n",
       "       [0, 1, 0, 0],\n",
       "       ...,\n",
       "       [0, 0, 1, 0],\n",
       "       [1, 0, 0, 0],\n",
       "       [1, 0, 0, 0]])"
      ]
     },
     "execution_count": 403,
     "metadata": {},
     "output_type": "execute_result"
    }
   ],
   "source": [
    "y_b"
   ]
  },
  {
   "cell_type": "code",
   "execution_count": 404,
   "metadata": {},
   "outputs": [
    {
     "data": {
      "text/plain": [
       "(7600, 4)"
      ]
     },
     "execution_count": 404,
     "metadata": {},
     "output_type": "execute_result"
    }
   ],
   "source": [
    "y_b.shape"
   ]
  },
  {
   "cell_type": "code",
   "execution_count": 405,
   "metadata": {},
   "outputs": [],
   "source": [
    "#Shuffle and split training and test sets with stratified sampling and binarized labels\n",
    "X_train_b, X_test_b, y_train_b, y_test_b = train_test_split(X, y_b,\n",
    "                                                            test_size = 0.3,\n",
    "                                                            shuffle = True,\n",
    "                                                            random_state = 10)"
   ]
  },
  {
   "cell_type": "code",
   "execution_count": 406,
   "metadata": {},
   "outputs": [
    {
     "data": {
      "text/plain": [
       "OneVsRestClassifier(estimator=SGDClassifier(alpha=1e-06, average=False,\n",
       "                                            class_weight=None,\n",
       "                                            early_stopping=False, epsilon=0.1,\n",
       "                                            eta0=0.1, fit_intercept=True,\n",
       "                                            l1_ratio=0.15,\n",
       "                                            learning_rate='optimal', loss='log',\n",
       "                                            max_iter=5000, n_iter_no_change=5,\n",
       "                                            n_jobs=None, penalty='l1',\n",
       "                                            power_t=0.5, random_state=None,\n",
       "                                            shuffle=True, tol=0.001,\n",
       "                                            validation_fraction=0.1, verbose=0,\n",
       "                                            warm_start=False),\n",
       "                    n_jobs=None)"
      ]
     },
     "execution_count": 406,
     "metadata": {},
     "output_type": "execute_result"
    }
   ],
   "source": [
    "#Learn to predict each class against the other\n",
    "sgd_classifier = OneVsRestClassifier(best_models[0].best_estimator_)\n",
    "# Train the model with the best parameters\n",
    "sgd_classifier.fit(X_train_b, y_train_b)"
   ]
  },
  {
   "cell_type": "code",
   "execution_count": 407,
   "metadata": {},
   "outputs": [],
   "source": [
    "# Get the predicted z-score (proba) of each class\n",
    "z_score = sgd_classifier.predict_proba(X_test_b)"
   ]
  },
  {
   "cell_type": "code",
   "execution_count": 408,
   "metadata": {},
   "outputs": [
    {
     "data": {
      "text/plain": [
       "array([[3.36377670e-04, 9.96799988e-01, 4.89412437e-09, 1.53624575e-02],\n",
       "       [6.01443235e-03, 5.95375457e-04, 1.04597678e-02, 9.89909266e-01],\n",
       "       [1.96717139e-03, 1.38606817e-02, 1.16259886e-03, 9.98553671e-01],\n",
       "       ...,\n",
       "       [2.16944079e-05, 2.59603130e-03, 2.96299149e-06, 9.99994390e-01],\n",
       "       [4.46088680e-04, 1.76447280e-02, 9.76734817e-01, 6.47767133e-01],\n",
       "       [4.57127765e-03, 8.61559257e-03, 1.76386661e-03, 9.94634014e-01]])"
      ]
     },
     "execution_count": 408,
     "metadata": {},
     "output_type": "execute_result"
    }
   ],
   "source": [
    "z_score"
   ]
  },
  {
   "cell_type": "code",
   "execution_count": 409,
   "metadata": {},
   "outputs": [],
   "source": [
    "#Compute ROC curve and ROC area for EACH class\n",
    "fpr = dict()\n",
    "tpr = dict()\n",
    "roc_auc = dict()\n",
    "\n",
    "for i in range(n_classes): \n",
    "    fpr[i], tpr[i], _ = roc_curve(y_test_b[:, i], z_score[:, i]) # get fpr and tpr one class at a time\n",
    "    roc_auc[i] = auc(fpr[i], tpr[i])"
   ]
  },
  {
   "cell_type": "code",
   "execution_count": 410,
   "metadata": {},
   "outputs": [],
   "source": [
    "# Compute micro-average ROC curve and ROC area\n",
    "fpr['micro'], tpr['micro'], _ = roc_curve(y_test_b.ravel(), z_score.ravel()) \n",
    "roc_auc['micro'] = auc(fpr['micro'], tpr['micro'])"
   ]
  },
  {
   "cell_type": "code",
   "execution_count": 411,
   "metadata": {},
   "outputs": [
    {
     "data": {
      "text/plain": [
       "((2280, 4), (9120,))"
      ]
     },
     "execution_count": 411,
     "metadata": {},
     "output_type": "execute_result"
    }
   ],
   "source": [
    "y_test_b.shape, y_test_b.ravel().shape"
   ]
  },
  {
   "cell_type": "code",
   "execution_count": 414,
   "metadata": {},
   "outputs": [
    {
     "data": {
      "image/png": "[encoded data removed]",
      "text/plain": [
       "<Figure size 720x432 with 1 Axes>"
      ]
     },
     "metadata": {
      "needs_background": "light"
     },
     "output_type": "display_data"
    }
   ],
   "source": [
    "#Plot the ROCs of each class\n",
    "plt.figure(figsize=(10,6)) \n",
    "lw=2\n",
    "\n",
    "plt.plot(fpr['micro'], \n",
    "         tpr['micro'], \n",
    "         label='micro-average ROC curve (area = {0:0.3f})'''.format(roc_auc['micro']),\n",
    "         color='deeppink',\n",
    "         linestyle=':', \n",
    "         linewidth=4)\n",
    "\n",
    "\n",
    "colors = ['#41924F', '#FFC300', '#a98ff3', '#59C7EA']\n",
    "\n",
    "for i, color in zip(range(n_classes), colors):\n",
    "    plt.plot(fpr[i], tpr[i], \n",
    "             color=color, \n",
    "             lw=lw, \n",
    "             label='ROC curve of class {0} (area = {1:0.3f})'''.format(i, roc_auc[i]))\n",
    "\n",
    "plt.plot([0, 1], [0, 1], 'k--', lw=lw)\n",
    "plt.xlim([0.0, 1.0])\n",
    "plt.ylim([0.0, 1.05])\n",
    "plt.xlabel('1-Specificity (False Positive Rate)', fontsize = 14)\n",
    "plt.ylabel('Sensitivity (True Positive Rate)', fontsize = 14)\n",
    "plt.title('Receiver Operating Characteristic - SGD (loss = log)', fontsize = 16)\n",
    "plt.legend(loc=\"lower right\", fontsize = 13)\n",
    "plt.show()"
   ]
  },
  {
   "cell_type": "markdown",
   "metadata": {},
   "source": [
    "## Confusion Matrix for SGD"
   ]
  },
  {
   "cell_type": "code",
   "execution_count": 415,
   "metadata": {},
   "outputs": [
    {
     "data": {
      "text/plain": [
       "array([[443,  46,  39,  42],\n",
       "       [ 87, 401,  43,  39],\n",
       "       [  6,   1, 546,  17],\n",
       "       [ 32,  13,  59, 466]], dtype=int64)"
      ]
     },
     "execution_count": 415,
     "metadata": {},
     "output_type": "execute_result"
    }
   ],
   "source": [
    "#Train test split with stratified sampling. Using non-binarized labels\n",
    "X_train, X_test, y_train, y_test = train_test_split(X, \n",
    "                                                    y, \n",
    "                                                    test_size = 0.3, \n",
    "                                                    shuffle = True, \n",
    "                                                    stratify = y, \n",
    "                                                    random_state = 10)\n",
    "#Fit the training data\n",
    "sgd_classifier.fit(X_train, y_train)\n",
    "#Predict the testing data\n",
    "y_pred = sgd_classifier.predict(X_test)\n",
    "\n",
    "# Get the confusion matrix\n",
    "cm = confusion_matrix(y_test, y_pred) \n",
    "cm"
   ]
  },
  {
   "cell_type": "code",
   "execution_count": 416,
   "metadata": {},
   "outputs": [],
   "source": [
    "cm_df = pd.DataFrame(cm,\n",
    "                     index = ['business','scitech','sports', 'world'], \n",
    "                     columns = ['business','scitech','sports', 'world'])"
   ]
  },
  {
   "cell_type": "code",
   "execution_count": 417,
   "metadata": {},
   "outputs": [
    {
     "data": {
      "text/html": [
       "<div>\n",
       "<style scoped>\n",
       "    .dataframe tbody tr th:only-of-type {\n",
       "        vertical-align: middle;\n",
       "    }\n",
       "\n",
       "    .dataframe tbody tr th {\n",
       "        vertical-align: top;\n",
       "    }\n",
       "\n",
       "    .dataframe thead th {\n",
       "        text-align: right;\n",
       "    }\n",
       "</style>\n",
       "<table border=\"1\" class=\"dataframe\">\n",
       "  <thead>\n",
       "    <tr style=\"text-align: right;\">\n",
       "      <th></th>\n",
       "      <th>business</th>\n",
       "      <th>scitech</th>\n",
       "      <th>sports</th>\n",
       "      <th>world</th>\n",
       "    </tr>\n",
       "  </thead>\n",
       "  <tbody>\n",
       "    <tr>\n",
       "      <th>business</th>\n",
       "      <td>443</td>\n",
       "      <td>46</td>\n",
       "      <td>39</td>\n",
       "      <td>42</td>\n",
       "    </tr>\n",
       "    <tr>\n",
       "      <th>scitech</th>\n",
       "      <td>87</td>\n",
       "      <td>401</td>\n",
       "      <td>43</td>\n",
       "      <td>39</td>\n",
       "    </tr>\n",
       "    <tr>\n",
       "      <th>sports</th>\n",
       "      <td>6</td>\n",
       "      <td>1</td>\n",
       "      <td>546</td>\n",
       "      <td>17</td>\n",
       "    </tr>\n",
       "    <tr>\n",
       "      <th>world</th>\n",
       "      <td>32</td>\n",
       "      <td>13</td>\n",
       "      <td>59</td>\n",
       "      <td>466</td>\n",
       "    </tr>\n",
       "  </tbody>\n",
       "</table>\n",
       "</div>"
      ],
      "text/plain": [
       "          business  scitech  sports  world\n",
       "business       443       46      39     42\n",
       "scitech         87      401      43     39\n",
       "sports           6        1     546     17\n",
       "world           32       13      59    466"
      ]
     },
     "execution_count": 417,
     "metadata": {},
     "output_type": "execute_result"
    }
   ],
   "source": [
    "cm_df"
   ]
  },
  {
   "cell_type": "code",
   "execution_count": 418,
   "metadata": {},
   "outputs": [
    {
     "name": "stderr",
     "output_type": "stream",
     "text": [
      "<string>:6: DeprecationWarning: object of type <class 'float'> cannot be safely interpreted as an integer.\n",
      "<string>:6: DeprecationWarning: object of type <class 'float'> cannot be safely interpreted as an integer.\n"
     ]
    },
    {
     "data": {
      "image/png": "[encoded data removed]",
      "text/plain": [
       "<Figure size 864x576 with 2 Axes>"
      ]
     },
     "metadata": {
      "needs_background": "light"
     },
     "output_type": "display_data"
    }
   ],
   "source": [
    "#Plot the heatmap\n",
    "plt.figure(figsize=(12, 8))\n",
    "\n",
    "sns.heatmap(cm_df, \n",
    "            center=0, \n",
    "            cmap=sns.diverging_palette(220, 15, as_cmap=True), \n",
    "            annot=True, \n",
    "            fmt='g')\n",
    "\n",
    "plt.title('SGD (loss = log) \\n  F1 Score (avg = macro) : {0:.2f}'.format(f1_score(y_test, y_pred, average='macro')), fontsize = 13)\n",
    "plt.ylabel('True label', fontsize = 13)\n",
    "plt.xlabel('Predicted label', fontsize = 13)\n",
    "plt.show()"
   ]
  },
  {
   "cell_type": "markdown",
   "metadata": {},
   "source": [
    "## Conclusions\n",
    "- In this data project, I performed the following:\n",
    "    - Processed headline text data: tokenize, lemmatize, removed non-alphanumeric characters and stopwords, find bigrams and trigrams\n",
    "    - Explored the headline text data.\n",
    "    - Performed topic modelling with LDA\n",
    "    - Developed a word embedding model and a t-SNE representation of the word embeddings\n",
    "    - Performed modelling using textcat (CNN) in spaCY\n",
    "    - Get the tf-idf representation of the headlines and performed dimension reduction.\n",
    "    - Compared the performance of the following statistical learning methods:\n",
    "        - SVD, Random Forest, Adaboost, KNN, Gaussian Naive Bayes\n",
    "    - Optimized the models through hyperparameters tuning for SVD and Random Forest\n",
    "    - Selected the \"best\" model based on highest f1-score (on test data)\n",
    "    - Plotted the ROC of SVD and computed the confusion matrix.\n",
    "    - Out of all the models, the optimized SVD model has the highest f1-score (on test dataset): about 0.81."
   ]
  },
  {
   "cell_type": "markdown",
   "metadata": {},
   "source": [
    "## Final Thoughts\n",
    "- The optimized SVD model outperformed the textcat CNN model (both models uses the transformed headline text data as inputs).\n",
    "- The SVD used tf-idf representations of the headlines as features.\n",
    "- In the future, I will try to use CNN with word-embeddings to represent the documents. Possibly, I will use word2vec since my headline dataset is too small to train the word embedding model. This is an example of \"transfer learning\" since I use word-embeddings trained from a very large dataset (Google News) to compensate the limitation of my small headline dataset)."
   ]
  }
 ],
 "metadata": {
  "kernelspec": {
   "display_name": "Python 3",
   "language": "python",
   "name": "python3"
  },
  "language_info": {
   "codemirror_mode": {
    "name": "ipython",
    "version": 3
   },
   "file_extension": ".py",
   "mimetype": "text/x-python",
   "name": "python",
   "nbconvert_exporter": "python",
   "pygments_lexer": "ipython3",
   "version": "3.7.5"
  },
  "varInspector": {
   "cols": {
    "lenName": 16,
    "lenType": 16,
    "lenVar": 40
   },
   "kernels_config": {
    "python": {
     "delete_cmd_postfix": "",
     "delete_cmd_prefix": "del ",
     "library": "var_list.py",
     "varRefreshCmd": "print(var_dic_list())"
    },
    "r": {
     "delete_cmd_postfix": ") ",
     "delete_cmd_prefix": "rm(",
     "library": "var_list.r",
     "varRefreshCmd": "cat(var_dic_list()) "
    }
   },
   "types_to_exclude": [
    "module",
    "function",
    "builtin_function_or_method",
    "instance",
    "_Feature"
   ],
   "window_display": false
  }
 },
 "nbformat": 4,
 "nbformat_minor": 4
}
