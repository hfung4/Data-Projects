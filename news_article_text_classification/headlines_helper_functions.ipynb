{
 "cells": [
  {
   "cell_type": "code",
   "execution_count": 11,
   "metadata": {},
   "outputs": [],
   "source": [
    "import re\n",
    "from collections import Counter"
   ]
  },
  {
   "cell_type": "code",
   "execution_count": 12,
   "metadata": {},
   "outputs": [],
   "source": [
    "# This function helps eliminate tokens that are punctutation or whitespace.\n",
    "def punct_space(token):\n",
    "\n",
    "    '''\n",
    "    NOTE: \n",
    "\n",
    "    Unlike verbs and common nouns, there is no clear base form of a personal pronoun. \n",
    "    It is not clear if the lemma of \"me\" sould be \"I\", or whether a person is normalized as \"it\" or \"she\" or \"he\"? \n",
    "    spaCy's solution is to introduce a novel symbol, -PRON-, which is used as the lemma for all personal pronouns.\n",
    "    '''\n",
    "\n",
    "    # I will return the actual text if I encounter a pronoun instead of using spaCy's -PRON-  \n",
    "    # Otherwise, I wil have -PRON- all over the headline\n",
    "    if token.lemma_ == '-PRON-': # if the lemma is -PRON- I just return the lower case of the personal pronoun.\n",
    "        return token.lower_ \n",
    "    else:\n",
    "        return token.is_punct or token.is_space \n",
    "    \n",
    "\n",
    "# This function returns TRUE for alphanumeric characters \n",
    "def get_alphanumeric(token):\n",
    "    return token.is_alpha or token.is_digit\n",
    "\n",
    "# A generator function that reads headlines from \"headline_text_all.txt\" (the text file that contains all headline text)\n",
    "def get_line_headline(filename):\n",
    "    with open(filename, 'r') as f:\n",
    "        for headline in f:\n",
    "            yield headline\n",
    "            \n",
    "# This function lemmatizes/normalizes a token (in lowercase)            \n",
    "def lemm(token):\n",
    "    return token.lemma_.lower()"
   ]
  },
  {
   "cell_type": "code",
   "execution_count": null,
   "metadata": {},
   "outputs": [],
   "source": []
  },
  {
   "cell_type": "code",
   "execution_count": 13,
   "metadata": {},
   "outputs": [],
   "source": [
    "# This fucntion outputs a DataFrame that contains the count of each word in the corpus\n",
    "def word_freq(clean_text_list, top_n):\n",
    "    flat = [item for sublist in clean_text_list for item in sublist]\n",
    "    with_counts = Counter(flat)\n",
    "    top = with_counts.most_common(top_n)\n",
    "    word = [each[0] for each in top]\n",
    "    num = [each[1] for each in top]\n",
    "    return pd.DataFrame(list(zip(word, num)), columns=[\"words\", \"counts\"])"
   ]
  },
  {
   "cell_type": "code",
   "execution_count": null,
   "metadata": {},
   "outputs": [],
   "source": []
  },
  {
   "cell_type": "code",
   "execution_count": 15,
   "metadata": {},
   "outputs": [],
   "source": [
    "# This function computes the word count of a list of tokens\n",
    "def word_count(text):\n",
    "    return len(str(text).split(' '))"
   ]
  },
  {
   "cell_type": "code",
   "execution_count": null,
   "metadata": {},
   "outputs": [],
   "source": []
  },
  {
   "cell_type": "code",
   "execution_count": 17,
   "metadata": {},
   "outputs": [],
   "source": [
    "# Get bigrams and their frequency in each class\n",
    "def ngrams_freq(clean_text_list, top_n):\n",
    "    \n",
    "    # get a large list of all tokens\n",
    "    flat_w_bigrams = [item for sublist in clean_text_list for item in sublist]\n",
    "    # init a list of bigrarms\n",
    "    bigrams = []\n",
    "    \n",
    "    # look at each token in my corpus\n",
    "    for token in flat_w_bigrams:\n",
    "        if '_' in token: # a bigrarm always has '_', for example \"happy_hour\"\n",
    "            bigrams.append(token)\n",
    "    counts = Counter(bigrams) # count the number of bigrams\n",
    "    top = counts.most_common(top_n)\n",
    "    word = [each[0] for each in top]\n",
    "    num = [each[1] for each in top]\n",
    "    return pd.DataFrame([word, num]).T"
   ]
  },
  {
   "cell_type": "code",
   "execution_count": null,
   "metadata": {},
   "outputs": [],
   "source": []
  },
  {
   "cell_type": "code",
   "execution_count": 19,
   "metadata": {},
   "outputs": [],
   "source": [
    "# This function computes a sorted list of the top topics in the LDA representation\n",
    "def lda_description(headline_text, min_topic_freq=0.05):\n",
    "    \"\"\"\n",
    "    1) accept the original text of a headline \n",
    "    2) parse it with spaCy\n",
    "    3) apply text pre-proccessing steps\n",
    "    4) create a bag-of-words representation of the document\n",
    "    5) create an LDA representation of the document\n",
    "    6) print a sorted list of the top topics in the LDA representation\n",
    "    \"\"\"\n",
    "    topic_names = {0: \"Business\", 1: \"World\", 2: \"SciTech\", 3:\"Sports\"}\n",
    "    \n",
    "    # parse the headline text with spaCy\n",
    "    parsed_headline = nlp(headline_text)\n",
    "    \n",
    "    # lemmatize the text and remove punctuation and whitespace\n",
    "    headline_unigrams = [\n",
    "        lemm(token)\n",
    "        for token in parsed_headline\n",
    "        if (not punct_space(token) and get_alphanumeric(token))\n",
    "        ]\n",
    "    \n",
    "    # apply the first-order and secord-order phrase models\n",
    "    headline_bigrams = bigram_phrases_model[headline_unigrams]\n",
    "    headline_trigrams = trigram_phrases_model[headline_unigrams]\n",
    "    \n",
    "    # remove any remaining stopwords\n",
    "    headline_trigrams = [t for t in headline_trigrams if not t in nlp.Defaults.stop_words]\n",
    "        \n",
    "    # create a bag-of-words representation\n",
    "    headline_bow = dictionary_trigrams.doc2bow(headline_trigrams)\n",
    "    \n",
    "    # create an LDA representation\n",
    "    headline_lda = lda[headline_bow]\n",
    "    \n",
    "    # sort with the most highly related topics first\n",
    "    headline_lda = sorted(headline_lda, key=lambda topic_number_freq: -topic_number_freq[-1])\n",
    "    \n",
    "    for topic_number, freq in headline_lda:\n",
    "        if freq < min_topic_freq:\n",
    "            break\n",
    "            \n",
    "        # print the most highly related topic names and frequencies\n",
    "        print(f'{topic_names[topic_number]:25} {round(freq, 3):.3f}')"
   ]
  },
  {
   "cell_type": "code",
   "execution_count": null,
   "metadata": {},
   "outputs": [],
   "source": []
  },
  {
   "cell_type": "code",
   "execution_count": 22,
   "metadata": {},
   "outputs": [],
   "source": [
    "# Function to get the scores for each model in a df\n",
    "def model_score(model_dict):   \n",
    "    model_name, acc_score_list, precision_score_list, recall_score_list, f1_score_list = [], [], [], [], []\n",
    "    \n",
    "    for k,v in model_dict.items():   \n",
    "        \n",
    "        model_name.append(k)\n",
    "        \n",
    "        # Train model and make predictions\n",
    "        v.fit(X_train, y_train)\n",
    "        y_pred = v.predict(X_test)\n",
    "        \n",
    "        # Model performance\n",
    "        acc_score_list.append(accuracy_score(y_test, y_pred))\n",
    "        # compute precision of each class and take average\n",
    "        precision_score_list.append(precision_score(y_test, y_pred, average='macro')) \n",
    "        recall_score_list.append(recall_score(y_test, y_pred, average='macro'))\n",
    "        f1_score_list.append(f1_score(y_test, y_pred, average='macro'))\n",
    "        \n",
    "        # Organize metrics for each model in a DataFrame\n",
    "        model_comparison_df = pd.DataFrame(list(zip(model_name, acc_score_list, precision_score_list, \n",
    "                                            recall_score_list, f1_score_list)), \n",
    "                                            columns= ['model_name', 'accuracy_score', 'precision_score', \n",
    "                                                      'recall_score', 'f1_score'])\n",
    "        # sort by f1_score\n",
    "        model_comparison_df = model_comparison_df.sort_values(by='f1_score', ascending=False)\n",
    "   \n",
    "    return model_comparison_df"
   ]
  },
  {
   "cell_type": "code",
   "execution_count": null,
   "metadata": {},
   "outputs": [],
   "source": []
  },
  {
   "cell_type": "code",
   "execution_count": 24,
   "metadata": {},
   "outputs": [],
   "source": [
    "# Function to perform GridSearchCV to find the model with the \"best\" parameters. \n",
    "# The best model has the highest CV accuracy.\n",
    "\n",
    "def fit_assess(X_train, y_train):\n",
    "    \"\"\" \n",
    "    Fit a list of models with the training data one at a time and obtain \n",
    "    models with the best parameters (have the lowest test error from CV)\n",
    "    \"\"\"\n",
    "    best_estimators = [] # a list of \"best\" estimators: a best SVD, a best rf and a best adb\n",
    "    \n",
    "    for name in models.keys():\n",
    "        est = models[name]  # initial model object\n",
    "        est_params = params[name] # parameters for the model\n",
    "        gscv = GridSearchCV(estimator=est, \n",
    "                            param_grid=est_params, \n",
    "                            cv=5,\n",
    "                            verbose = 2,\n",
    "                            n_jobs=-1)  #GridSearchCV model\n",
    "        gscv.fit(X_train, y_train)\n",
    "        print(\"The best parameters are: {}\".format(gscv.best_params_))\n",
    "        \n",
    "        # a list of trained GridSearchCV objects with the \"best\" parameters that result \n",
    "        # in the highest estimated test accuracy (from CV)\n",
    "        best_estimators.append(gscv) \n",
    "\n",
    "    return best_estimators"
   ]
  },
  {
   "cell_type": "code",
   "execution_count": null,
   "metadata": {},
   "outputs": [],
   "source": []
  }
 ],
 "metadata": {
  "kernelspec": {
   "display_name": "Python 3",
   "language": "python",
   "name": "python3"
  },
  "language_info": {
   "codemirror_mode": {
    "name": "ipython",
    "version": 3
   },
   "file_extension": ".py",
   "mimetype": "text/x-python",
   "name": "python",
   "nbconvert_exporter": "python",
   "pygments_lexer": "ipython3",
   "version": "3.7.5"
  },
  "varInspector": {
   "cols": {
    "lenName": 16,
    "lenType": 16,
    "lenVar": 40
   },
   "kernels_config": {
    "python": {
     "delete_cmd_postfix": "",
     "delete_cmd_prefix": "del ",
     "library": "var_list.py",
     "varRefreshCmd": "print(var_dic_list())"
    },
    "r": {
     "delete_cmd_postfix": ") ",
     "delete_cmd_prefix": "rm(",
     "library": "var_list.r",
     "varRefreshCmd": "cat(var_dic_list()) "
    }
   },
   "types_to_exclude": [
    "module",
    "function",
    "builtin_function_or_method",
    "instance",
    "_Feature"
   ],
   "window_display": false
  }
 },
 "nbformat": 4,
 "nbformat_minor": 2
}
