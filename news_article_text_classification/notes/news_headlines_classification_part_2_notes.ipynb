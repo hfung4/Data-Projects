{
 "cells": [
  {
   "cell_type": "code",
   "execution_count": 198,
   "metadata": {},
   "outputs": [],
   "source": [
    "'''data'''\n",
    "import pandas as pd\n",
    "import numpy as np\n",
    "import json\n",
    "import pickle\n",
    "\n",
    "# help functions\n",
    "#%run nlp_helpers.ipynb\n",
    "\n",
    "'''features'''\n",
    "from sklearn.preprocessing import LabelEncoder, label_binarize\n",
    "from sklearn.feature_extraction.text import TfidfVectorizer\n",
    "from sklearn.decomposition import TruncatedSVD\n",
    "\n",
    "'''classifiers'''\n",
    "from sklearn.linear_model import SGDClassifier\n",
    "from sklearn.neighbors import KNeighborsClassifier\n",
    "from sklearn.naive_bayes import GaussianNB\n",
    "from sklearn.ensemble import RandomForestClassifier, AdaBoostClassifier\n",
    "\n",
    "\n",
    "\n",
    "'''metrics'''\n",
    "from sklearn.model_selection import train_test_split, GridSearchCV\n",
    "from sklearn.metrics import accuracy_score, roc_auc_score, f1_score, roc_curve, auc, confusion_matrix\n",
    "from scipy import interp\n",
    "from itertools import cycle\n",
    "\n",
    "'''plots'''\n",
    "import matplotlib.pyplot as plt\n",
    "import seaborn as sns"
   ]
  },
  {
   "cell_type": "markdown",
   "metadata": {},
   "source": [
    "## Import data"
   ]
  },
  {
   "cell_type": "code",
   "execution_count": 2,
   "metadata": {},
   "outputs": [
    {
     "name": "stdout",
     "output_type": "stream",
     "text": [
      "7600 7600\n"
     ]
    }
   ],
   "source": [
    "contents = []\n",
    "labels = []\n",
    "\n",
    "with open(\"news_article_data.json\", 'r') as file:\n",
    "    for line in file:\n",
    "        headline = json.loads(line)\n",
    "        \n",
    "        contents.append(headline['content'])\n",
    "        labels.append(headline['annotation']['label'][0])\n",
    "        \n",
    "print(len(contents), len(labels))"
   ]
  },
  {
   "cell_type": "code",
   "execution_count": 3,
   "metadata": {},
   "outputs": [],
   "source": [
    "df = pd.DataFrame(list(zip(contents, labels)), columns=[\"content\", \"label\"])"
   ]
  },
  {
   "cell_type": "code",
   "execution_count": 4,
   "metadata": {},
   "outputs": [
    {
     "data": {
      "text/html": [
       "<div>\n",
       "<style scoped>\n",
       "    .dataframe tbody tr th:only-of-type {\n",
       "        vertical-align: middle;\n",
       "    }\n",
       "\n",
       "    .dataframe tbody tr th {\n",
       "        vertical-align: top;\n",
       "    }\n",
       "\n",
       "    .dataframe thead th {\n",
       "        text-align: right;\n",
       "    }\n",
       "</style>\n",
       "<table border=\"1\" class=\"dataframe\">\n",
       "  <thead>\n",
       "    <tr style=\"text-align: right;\">\n",
       "      <th></th>\n",
       "      <th>content</th>\n",
       "      <th>label</th>\n",
       "    </tr>\n",
       "  </thead>\n",
       "  <tbody>\n",
       "    <tr>\n",
       "      <th>0</th>\n",
       "      <td>Unions representing workers at Turner   Newall...</td>\n",
       "      <td>Business</td>\n",
       "    </tr>\n",
       "    <tr>\n",
       "      <th>1</th>\n",
       "      <td>SPACE.com - TORONTO, Canada -- A second\\team o...</td>\n",
       "      <td>SciTech</td>\n",
       "    </tr>\n",
       "    <tr>\n",
       "      <th>2</th>\n",
       "      <td>AP - A company founded by a chemistry research...</td>\n",
       "      <td>SciTech</td>\n",
       "    </tr>\n",
       "    <tr>\n",
       "      <th>3</th>\n",
       "      <td>AP - It's barely dawn when Mike Fitzpatrick st...</td>\n",
       "      <td>SciTech</td>\n",
       "    </tr>\n",
       "    <tr>\n",
       "      <th>4</th>\n",
       "      <td>AP - Southern California's smog-fighting agenc...</td>\n",
       "      <td>SciTech</td>\n",
       "    </tr>\n",
       "  </tbody>\n",
       "</table>\n",
       "</div>"
      ],
      "text/plain": [
       "                                             content     label\n",
       "0  Unions representing workers at Turner   Newall...  Business\n",
       "1  SPACE.com - TORONTO, Canada -- A second\\team o...   SciTech\n",
       "2  AP - A company founded by a chemistry research...   SciTech\n",
       "3  AP - It's barely dawn when Mike Fitzpatrick st...   SciTech\n",
       "4  AP - Southern California's smog-fighting agenc...   SciTech"
      ]
     },
     "execution_count": 4,
     "metadata": {},
     "output_type": "execute_result"
    }
   ],
   "source": [
    "df.head()"
   ]
  },
  {
   "cell_type": "code",
   "execution_count": null,
   "metadata": {},
   "outputs": [],
   "source": []
  },
  {
   "cell_type": "code",
   "execution_count": 5,
   "metadata": {},
   "outputs": [
    {
     "name": "stderr",
     "output_type": "stream",
     "text": [
      "C:\\Users\\henry_dw8mcdk\\Anaconda3\\lib\\site-packages\\sklearn\\utils\\deprecation.py:144: FutureWarning: The sklearn.feature_extraction.stop_words module is  deprecated in version 0.22 and will be removed in version 0.24. The corresponding classes / functions should instead be imported from sklearn.feature_extraction.text. Anything that cannot be imported from sklearn.feature_extraction.text is now part of the private API.\n",
      "  warnings.warn(message, FutureWarning)\n"
     ]
    }
   ],
   "source": [
    "from sklearn.feature_extraction.stop_words import ENGLISH_STOP_WORDS\n",
    "import itertools, string, operator, re, unicodedata, nltk\n",
    "from operator import itemgetter\n",
    "from nltk.corpus import wordnet\n",
    "from nltk.stem import WordNetLemmatizer\n",
    "from nltk.tokenize import TweetTokenizer, RegexpTokenizer\n",
    "from bs4 import BeautifulSoup\n",
    "import numpy as np\n",
    "from itertools import combinations\n",
    "from gensim.models import Phrases\n",
    "from collections import Counter\n",
    "\n",
    "\n",
    "# -------------------------------------------------\n",
    "\n",
    "# This function tokenize text\n",
    "tokenizer = TweetTokenizer()  # choose my nltk tokenizer\n",
    "def casual_tokenizer(text): #Splits words on white spaces (leaves contractions intact) and splits out trailing punctuation\n",
    "    tokens = tokenizer.tokenize(text)\n",
    "    return tokens\n",
    "\n",
    "\n",
    "# -------------------------------------------------\n",
    "\n",
    "#Contraction map\n",
    "c_dict = {\n",
    "  \"ain't\": \"am not\",\n",
    "  \"aren't\": \"are not\",\n",
    "  \"can't\": \"cannot\",\n",
    "  \"can't've\": \"cannot have\",\n",
    "  \"'cause\": \"because\",\n",
    "  \"could've\": \"could have\",\n",
    "  \"couldn't\": \"could not\",\n",
    "  \"couldn't've\": \"could not have\",\n",
    "  \"didn't\": \"did not\",\n",
    "  \"doesn't\": \"does not\",\n",
    "  \"don't\": \"do not\",\n",
    "  \"hadn't\": \"had not\",\n",
    "  \"hadn't've\": \"had not have\",\n",
    "  \"hasn't\": \"has not\",\n",
    "  \"haven't\": \"have not\",\n",
    "  \"he'd\": \"he would\",\n",
    "  \"he'd've\": \"he would have\",\n",
    "  \"he'll\": \"he will\",\n",
    "  \"he'll've\": \"he will have\",\n",
    "  \"he's\": \"he is\",\n",
    "  \"how'd\": \"how did\",\n",
    "  \"how'd'y\": \"how do you\",\n",
    "  \"how'll\": \"how will\",\n",
    "  \"how's\": \"how is\",\n",
    "  \"i'd\": \"I would\",\n",
    "  \"i'd've\": \"I would have\",\n",
    "  \"i'll\": \"I will\",\n",
    "  \"i'll've\": \"I will have\",\n",
    "  \"i'm\": \"I am\",\n",
    "  \"i've\": \"I have\",\n",
    "  \"isn't\": \"is not\",\n",
    "  \"it'd\": \"it had\",\n",
    "  \"it'd've\": \"it would have\",\n",
    "  \"it'll\": \"it will\",\n",
    "  \"it'll've\": \"it will have\",\n",
    "  \"it's\": \"it is\",\n",
    "  \"let's\": \"let us\",\n",
    "  \"ma'am\": \"madam\",\n",
    "  \"mayn't\": \"may not\",\n",
    "  \"might've\": \"might have\",\n",
    "  \"mightn't\": \"might not\",\n",
    "  \"mightn't've\": \"might not have\",\n",
    "  \"must've\": \"must have\",\n",
    "  \"mustn't\": \"must not\",\n",
    "  \"mustn't've\": \"must not have\",\n",
    "  \"needn't\": \"need not\",\n",
    "  \"needn't've\": \"need not have\",\n",
    "  \"o'clock\": \"of the clock\",\n",
    "  \"oughtn't\": \"ought not\",\n",
    "  \"oughtn't've\": \"ought not have\",\n",
    "  \"shan't\": \"shall not\",\n",
    "  \"sha'n't\": \"shall not\",\n",
    "  \"shan't've\": \"shall not have\",\n",
    "  \"she'd\": \"she would\",\n",
    "  \"she'd've\": \"she would have\",\n",
    "  \"she'll\": \"she will\",\n",
    "  \"she'll've\": \"she will have\",\n",
    "  \"she's\": \"she is\",\n",
    "  \"should've\": \"should have\",\n",
    "  \"shouldn't\": \"should not\",\n",
    "  \"shouldn't've\": \"should not have\",\n",
    "  \"so've\": \"so have\",\n",
    "  \"so's\": \"so is\",\n",
    "  \"that'd\": \"that would\",\n",
    "  \"that'd've\": \"that would have\",\n",
    "  \"that's\": \"that is\",\n",
    "  \"there'd\": \"there had\",\n",
    "  \"there'd've\": \"there would have\",\n",
    "  \"there's\": \"there is\",\n",
    "  \"they'd\": \"they would\",\n",
    "  \"they'd've\": \"they would have\",\n",
    "  \"they'll\": \"they will\",\n",
    "  \"they'll've\": \"they will have\",\n",
    "  \"they're\": \"they are\",\n",
    "  \"they've\": \"they have\",\n",
    "  \"to've\": \"to have\",\n",
    "  \"wasn't\": \"was not\",\n",
    "  \"we'd\": \"we had\",\n",
    "  \"we'd've\": \"we would have\",\n",
    "  \"we'll\": \"we will\",\n",
    "  \"we'll've\": \"we will have\",\n",
    "  \"we're\": \"we are\",\n",
    "  \"we've\": \"we have\",\n",
    "  \"weren't\": \"were not\",\n",
    "  \"what'll\": \"what will\",\n",
    "  \"what'll've\": \"what will have\",\n",
    "  \"what're\": \"what are\",\n",
    "  \"what's\": \"what is\",\n",
    "  \"what've\": \"what have\",\n",
    "  \"when's\": \"when is\",\n",
    "  \"when've\": \"when have\",\n",
    "  \"where'd\": \"where did\",\n",
    "  \"where's\": \"where is\",\n",
    "  \"where've\": \"where have\",\n",
    "  \"who'll\": \"who will\",\n",
    "  \"who'll've\": \"who will have\",\n",
    "  \"who's\": \"who is\",\n",
    "  \"who've\": \"who have\",\n",
    "  \"why's\": \"why is\",\n",
    "  \"why've\": \"why have\",\n",
    "  \"will've\": \"will have\",\n",
    "  \"won't\": \"will not\",\n",
    "  \"won't've\": \"will not have\",\n",
    "  \"would've\": \"would have\",\n",
    "  \"wouldn't\": \"would not\",\n",
    "  \"wouldn't've\": \"would not have\",\n",
    "  \"y'all\": \"you all\",\n",
    "  \"y'alls\": \"you alls\",\n",
    "  \"y'all'd\": \"you all would\",\n",
    "  \"y'all'd've\": \"you all would have\",\n",
    "  \"y'all're\": \"you all are\",\n",
    "  \"y'all've\": \"you all have\",\n",
    "  \"you'd\": \"you had\",\n",
    "  \"you'd've\": \"you would have\",\n",
    "  \"you'll\": \"you you will\",\n",
    "  \"you'll've\": \"you you will have\",\n",
    "  \"you're\": \"you are\",\n",
    "  \"you've\": \"you have\"\n",
    "}\n",
    "\n",
    "c_re = re.compile('(%s)' % '|'.join(c_dict.keys()))\n",
    "\n",
    "def expandContractions(text, c_re=c_re):\n",
    "    def replace(match):\n",
    "        return c_dict[match.group(0)]\n",
    "    return c_re.sub(replace, text)\n",
    "\n",
    "\n",
    "\n",
    "\n",
    "# -------------------------------------------------\n",
    "\n",
    "lemmatizer = WordNetLemmatizer()\n",
    "\n",
    "#Function to replace the nltk pos tags with the corresponding wordnet pos tag.  This is to be used by the wordnet lemmatizer\n",
    "def get_word_net_pos(treebank_tag):\n",
    "    if treebank_tag.startswith('J'):\n",
    "        return wordnet.ADJ\n",
    "    elif treebank_tag.startswith('V'):\n",
    "        return wordnet.VERB\n",
    "    elif treebank_tag.startswith('N'):\n",
    "        return wordnet.NOUN\n",
    "    elif treebank_tag.startswith('R'):\n",
    "        return wordnet.ADV\n",
    "    else:\n",
    "        return None\n",
    "\n",
    "def lemma_wordnet(tagged_text):\n",
    "    final = []\n",
    "    for word, tag in tagged_text:\n",
    "        wordnet_tag = get_word_net_pos(tag)\n",
    "        if wordnet_tag is None:\n",
    "            final.append(lemmatizer.lemmatize(word))\n",
    "        else:\n",
    "            final.append(lemmatizer.lemmatize(word, pos=wordnet_tag))\n",
    "    return final\n",
    "\n",
    "\n",
    "# -------------------------------------------------\n",
    "\n",
    "# a list of puncutations and stopwords\n",
    "punc = list(set(string.punctuation))\n",
    "add_stop = ['', ' ', 'say', 's', 'u', 'ap', 'afp', '...', 'n', '\\\\'] # additional stopwords that I define\n",
    "stop_words = ENGLISH_STOP_WORDS.union(add_stop)\n",
    "  \n",
    "    \n",
    "\n",
    "# -------------------------------------------------\n",
    "\n",
    "# The main process text function\n",
    "\n",
    "def process_text(text):\n",
    "    \n",
    "    # These processing steps are really not needed unless we are dealing with html text\n",
    "    soup = BeautifulSoup(text, \"lxml\") # parse and read text from HTML\n",
    "    tags_del = soup.get_text() # get the text of the html only (so no html tags)\n",
    "    no_html = re.sub('<[^>]*>', '', tags_del) # remove additional symbols from text\n",
    "    \n",
    "    # tokenize the each headline\n",
    "    tokenized = casual_tokenizer(no_html)\n",
    "    \n",
    "    # take lower case of tokenized word\n",
    "    lower = [item.lower() for item in tokenized]\n",
    "    \n",
    "    # https://devpost.com/software/contraction-expander\n",
    "    # Convert things like \"you've\" to \"you have\", and \"she'll\" to \"she will\"\n",
    "    decontract = [expandContractions(item, c_re=c_re) for item in lower]\n",
    "    \n",
    "    \n",
    "    # perform part of speech tagging, I need the tag for my nltk lemmatizer\n",
    "    tagged = nltk.pos_tag(decontract)\n",
    "    \n",
    "    #lemmatize the tokens\n",
    "    lemma = lemma_wordnet(tagged)\n",
    "    \n",
    "    # remove digits, puncutations and stopwords  \n",
    "    no_num = [re.sub('[0-9]+', '', each) for each in lemma]\n",
    "    no_punc = [w for w in no_num if w not in punc]\n",
    "    no_stop = [w for w in no_punc if w not in stop_words]\n",
    "    \n",
    "    return no_stop"
   ]
  },
  {
   "cell_type": "markdown",
   "metadata": {},
   "source": [
    "**Let's apply processing to a sample headline**"
   ]
  },
  {
   "cell_type": "code",
   "execution_count": 6,
   "metadata": {},
   "outputs": [
    {
     "name": "stdout",
     "output_type": "stream",
     "text": [
      "The price of oil has continued its sharp rise overnight, closing at a record high. The main contract in New York, light sweet crude for delivery next month, has closed at a record \\$US46.75 a barrel - up 70 cents on yesterday #39;s close.\n"
     ]
    }
   ],
   "source": [
    "sample = df[\"content\"][120]\n",
    "print(sample)"
   ]
  },
  {
   "cell_type": "code",
   "execution_count": 7,
   "metadata": {},
   "outputs": [
    {
     "name": "stdout",
     "output_type": "stream",
     "text": [
      "<html><body><p>The price of oil has continued its sharp rise overnight, closing at a record high. The main contract in New York, light sweet crude for delivery next month, has closed at a record \\$US46.75 a barrel - up 70 cents on yesterday #39;s close.</p></body></html>\n"
     ]
    }
   ],
   "source": [
    "soup = BeautifulSoup(sample, \"lxml\") # parse and read text from HTML\n",
    "print(soup)"
   ]
  },
  {
   "cell_type": "code",
   "execution_count": 8,
   "metadata": {},
   "outputs": [
    {
     "name": "stdout",
     "output_type": "stream",
     "text": [
      "The price of oil has continued its sharp rise overnight, closing at a record high. The main contract in New York, light sweet crude for delivery next month, has closed at a record \\$US46.75 a barrel - up 70 cents on yesterday #39;s close.\n"
     ]
    }
   ],
   "source": [
    "tags_del = soup.get_text() # get the text of the html only (so no html tags)\n",
    "print(tags_del)"
   ]
  },
  {
   "cell_type": "code",
   "execution_count": 9,
   "metadata": {},
   "outputs": [
    {
     "name": "stdout",
     "output_type": "stream",
     "text": [
      "The price of oil has continued its sharp rise overnight, closing at a record high. The main contract in New York, light sweet crude for delivery next month, has closed at a record \\$US46.75 a barrel - up 70 cents on yesterday #39;s close.\n"
     ]
    }
   ],
   "source": [
    "no_html = re.sub('<[^>]*>', '', tags_del) # remove additional symbols from text\n",
    "print (no_html)"
   ]
  },
  {
   "cell_type": "code",
   "execution_count": 10,
   "metadata": {},
   "outputs": [
    {
     "name": "stdout",
     "output_type": "stream",
     "text": [
      "['The', 'price', 'of', 'oil', 'has', 'continued', 'its', 'sharp', 'rise', 'overnight', ',', 'closing', 'at', 'a', 'record', 'high', '.', 'The', 'main', 'contract', 'in', 'New', 'York', ',', 'light', 'sweet', 'crude', 'for', 'delivery', 'next', 'month', ',', 'has', 'closed', 'at', 'a', 'record', '\\\\', '$', 'US46', '.', '75', 'a', 'barrel', '-', 'up', '70', 'cents', 'on', 'yesterday', '#39', ';', 's', 'close', '.']\n"
     ]
    }
   ],
   "source": [
    "tokenized = casual_tokenizer(no_html) # tokenize the headline\n",
    "print(tokenized)"
   ]
  },
  {
   "cell_type": "code",
   "execution_count": 11,
   "metadata": {},
   "outputs": [
    {
     "name": "stdout",
     "output_type": "stream",
     "text": [
      "['the', 'price', 'of', 'oil', 'has', 'continued', 'its', 'sharp', 'rise', 'overnight', ',', 'closing', 'at', 'a', 'record', 'high', '.', 'the', 'main', 'contract', 'in', 'new', 'york', ',', 'light', 'sweet', 'crude', 'for', 'delivery', 'next', 'month', ',', 'has', 'closed', 'at', 'a', 'record', '\\\\', '$', 'us46', '.', '75', 'a', 'barrel', '-', 'up', '70', 'cents', 'on', 'yesterday', '#39', ';', 's', 'close', '.']\n"
     ]
    }
   ],
   "source": [
    "# take lower case of each tokens\n",
    "lower = [item.lower() for item in tokenized]    \n",
    "print(lower)"
   ]
  },
  {
   "cell_type": "code",
   "execution_count": 12,
   "metadata": {},
   "outputs": [
    {
     "name": "stdout",
     "output_type": "stream",
     "text": [
      "['the', 'price', 'of', 'oil', 'has', 'continued', 'its', 'sharp', 'rise', 'overnight', ',', 'closing', 'at', 'a', 'record', 'high', '.', 'the', 'main', 'contract', 'in', 'new', 'york', ',', 'light', 'sweet', 'crude', 'for', 'delivery', 'next', 'month', ',', 'has', 'closed', 'at', 'a', 'record', '\\\\', '$', 'us46', '.', '75', 'a', 'barrel', '-', 'up', '70', 'cents', 'on', 'yesterday', '#39', ';', 's', 'close', '.']\n"
     ]
    }
   ],
   "source": [
    "# decontract you'll to you will\n",
    "decontract = [expandContractions(item, c_re=c_re) for item in lower]\n",
    "print(decontract)"
   ]
  },
  {
   "cell_type": "code",
   "execution_count": 13,
   "metadata": {},
   "outputs": [
    {
     "name": "stdout",
     "output_type": "stream",
     "text": [
      "[('the', 'DT'), ('price', 'NN'), ('of', 'IN'), ('oil', 'NN'), ('has', 'VBZ'), ('continued', 'VBN'), ('its', 'PRP$'), ('sharp', 'JJ'), ('rise', 'NN'), ('overnight', 'NN'), (',', ','), ('closing', 'VBG'), ('at', 'IN'), ('a', 'DT'), ('record', 'NN'), ('high', 'NN'), ('.', '.'), ('the', 'DT'), ('main', 'JJ'), ('contract', 'NN'), ('in', 'IN'), ('new', 'JJ'), ('york', 'NN'), (',', ','), ('light', 'JJ'), ('sweet', 'JJ'), ('crude', 'NN'), ('for', 'IN'), ('delivery', 'NN'), ('next', 'JJ'), ('month', 'NN'), (',', ','), ('has', 'VBZ'), ('closed', 'VBN'), ('at', 'IN'), ('a', 'DT'), ('record', 'NN'), ('\\\\', 'NNP'), ('$', '$'), ('us46', 'JJ'), ('.', '.'), ('75', 'CD'), ('a', 'DT'), ('barrel', 'NN'), ('-', ':'), ('up', 'RB'), ('70', 'CD'), ('cents', 'NNS'), ('on', 'IN'), ('yesterday', 'NN'), ('#39', 'NNP'), (';', ':'), ('s', 'VBD'), ('close', 'RB'), ('.', '.')]\n"
     ]
    }
   ],
   "source": [
    "# get the POS tags\n",
    "tagged = nltk.pos_tag(decontract)\n",
    "print(tagged)"
   ]
  },
  {
   "cell_type": "code",
   "execution_count": 14,
   "metadata": {},
   "outputs": [
    {
     "name": "stdout",
     "output_type": "stream",
     "text": [
      "['the', 'price', 'of', 'oil', 'have', 'continue', 'it', 'sharp', 'rise', 'overnight', ',', 'close', 'at', 'a', 'record', 'high', '.', 'the', 'main', 'contract', 'in', 'new', 'york', ',', 'light', 'sweet', 'crude', 'for', 'delivery', 'next', 'month', ',', 'have', 'close', 'at', 'a', 'record', '\\\\', '$', 'us46', '.', '75', 'a', 'barrel', '-', 'up', '70', 'cent', 'on', 'yesterday', '#39', ';', 's', 'close', '.']\n"
     ]
    }
   ],
   "source": [
    "#lemmatize the tokens\n",
    "lemma = lemma_wordnet(tagged)\n",
    "print(lemma)"
   ]
  },
  {
   "cell_type": "code",
   "execution_count": 15,
   "metadata": {},
   "outputs": [
    {
     "name": "stdout",
     "output_type": "stream",
     "text": [
      "['price', 'oil', 'continue', 'sharp', 'rise', 'overnight', 'close', 'record', 'high', 'main', 'contract', 'new', 'york', 'light', 'sweet', 'crude', 'delivery', 'month', 'close', 'record', 'barrel', 'cent', 'yesterday', 'close']\n"
     ]
    }
   ],
   "source": [
    "# remove digits, puncutations and stopwords\n",
    "no_num = [re.sub('[0-9]+', '', each) for each in lemma]\n",
    "no_punc = [w for w in no_num if w not in punc]\n",
    "no_stop = [w for w in no_punc if w not in stop_words]\n",
    "print(no_stop)"
   ]
  },
  {
   "cell_type": "markdown",
   "metadata": {},
   "source": [
    "**Thoughts: I can accomplish the above tokenizing, lemmatizing and cleaning a lot easier with spaCy.**"
   ]
  },
  {
   "cell_type": "code",
   "execution_count": null,
   "metadata": {},
   "outputs": [],
   "source": []
  },
  {
   "cell_type": "markdown",
   "metadata": {},
   "source": [
    "**Apply the process_text() to all headlines in the DataFrame**"
   ]
  },
  {
   "cell_type": "code",
   "execution_count": 16,
   "metadata": {},
   "outputs": [
    {
     "name": "stdout",
     "output_type": "stream",
     "text": [
      "Wall time: 37.8 s\n"
     ]
    }
   ],
   "source": [
    "%%time\n",
    "df['clean_text'] = df['content'].apply(lambda x: process_text(x))"
   ]
  },
  {
   "cell_type": "code",
   "execution_count": 17,
   "metadata": {},
   "outputs": [
    {
     "data": {
      "text/html": [
       "<div>\n",
       "<style scoped>\n",
       "    .dataframe tbody tr th:only-of-type {\n",
       "        vertical-align: middle;\n",
       "    }\n",
       "\n",
       "    .dataframe tbody tr th {\n",
       "        vertical-align: top;\n",
       "    }\n",
       "\n",
       "    .dataframe thead th {\n",
       "        text-align: right;\n",
       "    }\n",
       "</style>\n",
       "<table border=\"1\" class=\"dataframe\">\n",
       "  <thead>\n",
       "    <tr style=\"text-align: right;\">\n",
       "      <th></th>\n",
       "      <th>content</th>\n",
       "      <th>label</th>\n",
       "      <th>clean_text</th>\n",
       "    </tr>\n",
       "  </thead>\n",
       "  <tbody>\n",
       "    <tr>\n",
       "      <th>0</th>\n",
       "      <td>Unions representing workers at Turner   Newall...</td>\n",
       "      <td>Business</td>\n",
       "      <td>[union, represent, worker, turner, newall, dis...</td>\n",
       "    </tr>\n",
       "    <tr>\n",
       "      <th>1</th>\n",
       "      <td>SPACE.com - TORONTO, Canada -- A second\\team o...</td>\n",
       "      <td>SciTech</td>\n",
       "      <td>[space.com, toronto, canada, second, team, roc...</td>\n",
       "    </tr>\n",
       "    <tr>\n",
       "      <th>2</th>\n",
       "      <td>AP - A company founded by a chemistry research...</td>\n",
       "      <td>SciTech</td>\n",
       "      <td>[company, chemistry, researcher, university, l...</td>\n",
       "    </tr>\n",
       "    <tr>\n",
       "      <th>3</th>\n",
       "      <td>AP - It's barely dawn when Mike Fitzpatrick st...</td>\n",
       "      <td>SciTech</td>\n",
       "      <td>[it is, barely, dawn, mike, fitzpatrick, start...</td>\n",
       "    </tr>\n",
       "    <tr>\n",
       "      <th>4</th>\n",
       "      <td>AP - Southern California's smog-fighting agenc...</td>\n",
       "      <td>SciTech</td>\n",
       "      <td>[southern, california's, smog-fighting, agency...</td>\n",
       "    </tr>\n",
       "  </tbody>\n",
       "</table>\n",
       "</div>"
      ],
      "text/plain": [
       "                                             content     label  \\\n",
       "0  Unions representing workers at Turner   Newall...  Business   \n",
       "1  SPACE.com - TORONTO, Canada -- A second\\team o...   SciTech   \n",
       "2  AP - A company founded by a chemistry research...   SciTech   \n",
       "3  AP - It's barely dawn when Mike Fitzpatrick st...   SciTech   \n",
       "4  AP - Southern California's smog-fighting agenc...   SciTech   \n",
       "\n",
       "                                          clean_text  \n",
       "0  [union, represent, worker, turner, newall, dis...  \n",
       "1  [space.com, toronto, canada, second, team, roc...  \n",
       "2  [company, chemistry, researcher, university, l...  \n",
       "3  [it is, barely, dawn, mike, fitzpatrick, start...  \n",
       "4  [southern, california's, smog-fighting, agency...  "
      ]
     },
     "execution_count": 17,
     "metadata": {},
     "output_type": "execute_result"
    }
   ],
   "source": [
    "df.head()"
   ]
  },
  {
   "cell_type": "code",
   "execution_count": null,
   "metadata": {},
   "outputs": [],
   "source": []
  },
  {
   "cell_type": "markdown",
   "metadata": {},
   "source": [
    "## Exploring the data"
   ]
  },
  {
   "cell_type": "markdown",
   "metadata": {},
   "source": [
    "**What is the most frequent words in all of the headlines**"
   ]
  },
  {
   "cell_type": "code",
   "execution_count": 18,
   "metadata": {},
   "outputs": [],
   "source": [
    "clean_text_list = df['clean_text'].tolist() # a list of list of tokens for each headline"
   ]
  },
  {
   "cell_type": "code",
   "execution_count": 19,
   "metadata": {},
   "outputs": [],
   "source": [
    "# This fucntion outputs a DataFrame that contains the count of each word in the corpus\n",
    "def word_freq(clean_text_list, top_n):\n",
    "    flat = [item for sublist in clean_text_list for item in sublist]\n",
    "    with_counts = Counter(flat)\n",
    "    top = with_counts.most_common(top_n)\n",
    "    word = [each[0] for each in top]\n",
    "    num = [each[1] for each in top]\n",
    "    return pd.DataFrame(list(zip(word, num)), columns=[\"words\", \"counts\"])"
   ]
  },
  {
   "cell_type": "code",
   "execution_count": 20,
   "metadata": {},
   "outputs": [
    {
     "data": {
      "text/html": [
       "<div>\n",
       "<style scoped>\n",
       "    .dataframe tbody tr th:only-of-type {\n",
       "        vertical-align: middle;\n",
       "    }\n",
       "\n",
       "    .dataframe tbody tr th {\n",
       "        vertical-align: top;\n",
       "    }\n",
       "\n",
       "    .dataframe thead th {\n",
       "        text-align: right;\n",
       "    }\n",
       "</style>\n",
       "<table border=\"1\" class=\"dataframe\">\n",
       "  <thead>\n",
       "    <tr style=\"text-align: right;\">\n",
       "      <th></th>\n",
       "      <th>words</th>\n",
       "      <th>counts</th>\n",
       "    </tr>\n",
       "  </thead>\n",
       "  <tbody>\n",
       "    <tr>\n",
       "      <th>0</th>\n",
       "      <td>new</td>\n",
       "      <td>1077</td>\n",
       "    </tr>\n",
       "    <tr>\n",
       "      <th>1</th>\n",
       "      <td>reuters</td>\n",
       "      <td>793</td>\n",
       "    </tr>\n",
       "    <tr>\n",
       "      <th>2</th>\n",
       "      <td>year</td>\n",
       "      <td>699</td>\n",
       "    </tr>\n",
       "    <tr>\n",
       "      <th>3</th>\n",
       "      <td>company</td>\n",
       "      <td>590</td>\n",
       "    </tr>\n",
       "    <tr>\n",
       "      <th>4</th>\n",
       "      <td>quot</td>\n",
       "      <td>551</td>\n",
       "    </tr>\n",
       "    <tr>\n",
       "      <th>5</th>\n",
       "      <td>monday</td>\n",
       "      <td>498</td>\n",
       "    </tr>\n",
       "    <tr>\n",
       "      <th>6</th>\n",
       "      <td>tuesday</td>\n",
       "      <td>497</td>\n",
       "    </tr>\n",
       "    <tr>\n",
       "      <th>7</th>\n",
       "      <td>thursday</td>\n",
       "      <td>458</td>\n",
       "    </tr>\n",
       "    <tr>\n",
       "      <th>8</th>\n",
       "      <td>wednesday</td>\n",
       "      <td>447</td>\n",
       "    </tr>\n",
       "    <tr>\n",
       "      <th>9</th>\n",
       "      <td>win</td>\n",
       "      <td>418</td>\n",
       "    </tr>\n",
       "  </tbody>\n",
       "</table>\n",
       "</div>"
      ],
      "text/plain": [
       "       words  counts\n",
       "0        new    1077\n",
       "1    reuters     793\n",
       "2       year     699\n",
       "3    company     590\n",
       "4       quot     551\n",
       "5     monday     498\n",
       "6    tuesday     497\n",
       "7   thursday     458\n",
       "8  wednesday     447\n",
       "9        win     418"
      ]
     },
     "execution_count": 20,
     "metadata": {},
     "output_type": "execute_result"
    }
   ],
   "source": [
    "wf = word_freq(clean_text_list, 20)\n",
    "wf.head(10)"
   ]
  },
  {
   "cell_type": "markdown",
   "metadata": {},
   "source": [
    "**Let's see how the word_freq() works**"
   ]
  },
  {
   "cell_type": "code",
   "execution_count": 21,
   "metadata": {},
   "outputs": [],
   "source": [
    "sample_clean_list = clean_text_list[:5]"
   ]
  },
  {
   "cell_type": "code",
   "execution_count": 22,
   "metadata": {},
   "outputs": [
    {
     "data": {
      "text/plain": [
       "[['union',\n",
       "  'represent',\n",
       "  'worker',\n",
       "  'turner',\n",
       "  'newall',\n",
       "  'disappointed',\n",
       "  'talk',\n",
       "  'stricken',\n",
       "  'parent',\n",
       "  'firm',\n",
       "  'federal',\n",
       "  'mogul'],\n",
       " ['space.com',\n",
       "  'toronto',\n",
       "  'canada',\n",
       "  'second',\n",
       "  'team',\n",
       "  'rocketeers',\n",
       "  'compete',\n",
       "  'million',\n",
       "  'ansari',\n",
       "  'x',\n",
       "  'prize',\n",
       "  'contest',\n",
       "  'privately',\n",
       "  'fund',\n",
       "  'suborbital',\n",
       "  'space',\n",
       "  'flight',\n",
       "  'officially',\n",
       "  'announce',\n",
       "  'launch',\n",
       "  'date',\n",
       "  'manned',\n",
       "  'rocket'],\n",
       " ['company',\n",
       "  'chemistry',\n",
       "  'researcher',\n",
       "  'university',\n",
       "  'louisville',\n",
       "  'win',\n",
       "  'grant',\n",
       "  'develop',\n",
       "  'method',\n",
       "  'produce',\n",
       "  'good',\n",
       "  'peptide',\n",
       "  'short',\n",
       "  'chain',\n",
       "  'amino',\n",
       "  'acid',\n",
       "  'building',\n",
       "  'block',\n",
       "  'protein'],\n",
       " ['it is',\n",
       "  'barely',\n",
       "  'dawn',\n",
       "  'mike',\n",
       "  'fitzpatrick',\n",
       "  'start',\n",
       "  'shift',\n",
       "  'blur',\n",
       "  'colorful',\n",
       "  'map',\n",
       "  'figure',\n",
       "  'endless',\n",
       "  'chart',\n",
       "  'know',\n",
       "  'day',\n",
       "  'bring',\n",
       "  'lightning',\n",
       "  'strike',\n",
       "  'place',\n",
       "  'expect',\n",
       "  'wind',\n",
       "  'pick',\n",
       "  'moist',\n",
       "  'place',\n",
       "  'dry',\n",
       "  'flame',\n",
       "  'roar'],\n",
       " ['southern',\n",
       "  \"california's\",\n",
       "  'smog-fighting',\n",
       "  'agency',\n",
       "  'emission',\n",
       "  'bovine',\n",
       "  'variety',\n",
       "  'friday',\n",
       "  'adopt',\n",
       "  \"nation's\",\n",
       "  'rule',\n",
       "  'reduce',\n",
       "  'air',\n",
       "  'pollution',\n",
       "  'dairy',\n",
       "  'cow',\n",
       "  'manure']]"
      ]
     },
     "execution_count": 22,
     "metadata": {},
     "output_type": "execute_result"
    }
   ],
   "source": [
    "sample_clean_list"
   ]
  },
  {
   "cell_type": "code",
   "execution_count": 23,
   "metadata": {},
   "outputs": [
    {
     "name": "stdout",
     "output_type": "stream",
     "text": [
      "['union', 'represent', 'worker', 'turner', 'newall', 'disappointed', 'talk', 'stricken', 'parent', 'firm', 'federal', 'mogul', 'space.com', 'toronto', 'canada', 'second', 'team', 'rocketeers', 'compete', 'million', 'ansari', 'x', 'prize', 'contest', 'privately', 'fund', 'suborbital', 'space', 'flight', 'officially', 'announce', 'launch', 'date', 'manned', 'rocket', 'company', 'chemistry', 'researcher', 'university', 'louisville', 'win', 'grant', 'develop', 'method', 'produce', 'good', 'peptide', 'short', 'chain', 'amino', 'acid', 'building', 'block', 'protein', 'it is', 'barely', 'dawn', 'mike', 'fitzpatrick', 'start', 'shift', 'blur', 'colorful', 'map', 'figure', 'endless', 'chart', 'know', 'day', 'bring', 'lightning', 'strike', 'place', 'expect', 'wind', 'pick', 'moist', 'place', 'dry', 'flame', 'roar', 'southern', \"california's\", 'smog-fighting', 'agency', 'emission', 'bovine', 'variety', 'friday', 'adopt', \"nation's\", 'rule', 'reduce', 'air', 'pollution', 'dairy', 'cow', 'manure']\n"
     ]
    }
   ],
   "source": [
    "flat = [item for sublist in sample_clean_list for item in sublist] # \"remove\" the list of lists into one big list\n",
    "print(flat)  # words can appear more than once"
   ]
  },
  {
   "cell_type": "code",
   "execution_count": 24,
   "metadata": {},
   "outputs": [
    {
     "name": "stdout",
     "output_type": "stream",
     "text": [
      "Counter({'place': 2, 'union': 1, 'represent': 1, 'worker': 1, 'turner': 1, 'newall': 1, 'disappointed': 1, 'talk': 1, 'stricken': 1, 'parent': 1, 'firm': 1, 'federal': 1, 'mogul': 1, 'space.com': 1, 'toronto': 1, 'canada': 1, 'second': 1, 'team': 1, 'rocketeers': 1, 'compete': 1, 'million': 1, 'ansari': 1, 'x': 1, 'prize': 1, 'contest': 1, 'privately': 1, 'fund': 1, 'suborbital': 1, 'space': 1, 'flight': 1, 'officially': 1, 'announce': 1, 'launch': 1, 'date': 1, 'manned': 1, 'rocket': 1, 'company': 1, 'chemistry': 1, 'researcher': 1, 'university': 1, 'louisville': 1, 'win': 1, 'grant': 1, 'develop': 1, 'method': 1, 'produce': 1, 'good': 1, 'peptide': 1, 'short': 1, 'chain': 1, 'amino': 1, 'acid': 1, 'building': 1, 'block': 1, 'protein': 1, 'it is': 1, 'barely': 1, 'dawn': 1, 'mike': 1, 'fitzpatrick': 1, 'start': 1, 'shift': 1, 'blur': 1, 'colorful': 1, 'map': 1, 'figure': 1, 'endless': 1, 'chart': 1, 'know': 1, 'day': 1, 'bring': 1, 'lightning': 1, 'strike': 1, 'expect': 1, 'wind': 1, 'pick': 1, 'moist': 1, 'dry': 1, 'flame': 1, 'roar': 1, 'southern': 1, \"california's\": 1, 'smog-fighting': 1, 'agency': 1, 'emission': 1, 'bovine': 1, 'variety': 1, 'friday': 1, 'adopt': 1, \"nation's\": 1, 'rule': 1, 'reduce': 1, 'air': 1, 'pollution': 1, 'dairy': 1, 'cow': 1, 'manure': 1})\n"
     ]
    }
   ],
   "source": [
    "with_counts = Counter(flat) # input is a list, output is a Counter dict\n",
    "print(with_counts)"
   ]
  },
  {
   "cell_type": "code",
   "execution_count": 25,
   "metadata": {},
   "outputs": [
    {
     "name": "stdout",
     "output_type": "stream",
     "text": [
      "[('place', 2), ('union', 1), ('represent', 1), ('worker', 1), ('turner', 1), ('newall', 1), ('disappointed', 1), ('talk', 1), ('stricken', 1), ('parent', 1)]\n"
     ]
    }
   ],
   "source": [
    "top = with_counts.most_common(10) # Get the top 10 words with highest count\n",
    "print(top)"
   ]
  },
  {
   "cell_type": "code",
   "execution_count": 26,
   "metadata": {},
   "outputs": [
    {
     "name": "stdout",
     "output_type": "stream",
     "text": [
      "['place', 'union', 'represent', 'worker', 'turner', 'newall', 'disappointed', 'talk', 'stricken', 'parent']\n"
     ]
    }
   ],
   "source": [
    "word = [each[0] for each in top] # just get the wrods\n",
    "print(word)"
   ]
  },
  {
   "cell_type": "code",
   "execution_count": 27,
   "metadata": {},
   "outputs": [
    {
     "name": "stdout",
     "output_type": "stream",
     "text": [
      "[2, 1, 1, 1, 1, 1, 1, 1, 1, 1]\n"
     ]
    }
   ],
   "source": [
    "num = [each[1] for each in top] # just get the count\n",
    "print(num)"
   ]
  },
  {
   "cell_type": "code",
   "execution_count": 28,
   "metadata": {},
   "outputs": [
    {
     "data": {
      "text/html": [
       "<div>\n",
       "<style scoped>\n",
       "    .dataframe tbody tr th:only-of-type {\n",
       "        vertical-align: middle;\n",
       "    }\n",
       "\n",
       "    .dataframe tbody tr th {\n",
       "        vertical-align: top;\n",
       "    }\n",
       "\n",
       "    .dataframe thead th {\n",
       "        text-align: right;\n",
       "    }\n",
       "</style>\n",
       "<table border=\"1\" class=\"dataframe\">\n",
       "  <thead>\n",
       "    <tr style=\"text-align: right;\">\n",
       "      <th></th>\n",
       "      <th>0</th>\n",
       "      <th>1</th>\n",
       "    </tr>\n",
       "  </thead>\n",
       "  <tbody>\n",
       "    <tr>\n",
       "      <th>0</th>\n",
       "      <td>place</td>\n",
       "      <td>2</td>\n",
       "    </tr>\n",
       "    <tr>\n",
       "      <th>1</th>\n",
       "      <td>union</td>\n",
       "      <td>1</td>\n",
       "    </tr>\n",
       "    <tr>\n",
       "      <th>2</th>\n",
       "      <td>represent</td>\n",
       "      <td>1</td>\n",
       "    </tr>\n",
       "    <tr>\n",
       "      <th>3</th>\n",
       "      <td>worker</td>\n",
       "      <td>1</td>\n",
       "    </tr>\n",
       "    <tr>\n",
       "      <th>4</th>\n",
       "      <td>turner</td>\n",
       "      <td>1</td>\n",
       "    </tr>\n",
       "    <tr>\n",
       "      <th>5</th>\n",
       "      <td>newall</td>\n",
       "      <td>1</td>\n",
       "    </tr>\n",
       "    <tr>\n",
       "      <th>6</th>\n",
       "      <td>disappointed</td>\n",
       "      <td>1</td>\n",
       "    </tr>\n",
       "    <tr>\n",
       "      <th>7</th>\n",
       "      <td>talk</td>\n",
       "      <td>1</td>\n",
       "    </tr>\n",
       "    <tr>\n",
       "      <th>8</th>\n",
       "      <td>stricken</td>\n",
       "      <td>1</td>\n",
       "    </tr>\n",
       "    <tr>\n",
       "      <th>9</th>\n",
       "      <td>parent</td>\n",
       "      <td>1</td>\n",
       "    </tr>\n",
       "  </tbody>\n",
       "</table>\n",
       "</div>"
      ],
      "text/plain": [
       "              0  1\n",
       "0         place  2\n",
       "1         union  1\n",
       "2     represent  1\n",
       "3        worker  1\n",
       "4        turner  1\n",
       "5        newall  1\n",
       "6  disappointed  1\n",
       "7          talk  1\n",
       "8      stricken  1\n",
       "9        parent  1"
      ]
     },
     "execution_count": 28,
     "metadata": {},
     "output_type": "execute_result"
    }
   ],
   "source": [
    "pd.DataFrame(list(zip(word, num)))"
   ]
  },
  {
   "cell_type": "code",
   "execution_count": null,
   "metadata": {},
   "outputs": [],
   "source": []
  },
  {
   "cell_type": "markdown",
   "metadata": {},
   "source": [
    "**Average word count by category**"
   ]
  },
  {
   "cell_type": "code",
   "execution_count": 29,
   "metadata": {},
   "outputs": [],
   "source": [
    "def word_count(text):\n",
    "    return len(str(text).split(' '))"
   ]
  },
  {
   "cell_type": "code",
   "execution_count": 30,
   "metadata": {},
   "outputs": [
    {
     "data": {
      "text/plain": [
       "[\"['Hello\", 'World,', 'my', 'name', 'is', \"Henry.']\"]"
      ]
     },
     "execution_count": 30,
     "metadata": {},
     "output_type": "execute_result"
    }
   ],
   "source": [
    "str(['Hello World, my name is Henry.']).split(' ')"
   ]
  },
  {
   "cell_type": "code",
   "execution_count": 31,
   "metadata": {
    "scrolled": true
   },
   "outputs": [
    {
     "data": {
      "text/plain": [
       "6"
      ]
     },
     "execution_count": 31,
     "metadata": {},
     "output_type": "execute_result"
    }
   ],
   "source": [
    "word_count(['Hello World, my name is Henry.'])"
   ]
  },
  {
   "cell_type": "code",
   "execution_count": 32,
   "metadata": {},
   "outputs": [],
   "source": [
    "#Avg word count by category\n",
    "df['word_count'] = df['content'].apply(word_count)"
   ]
  },
  {
   "cell_type": "code",
   "execution_count": 33,
   "metadata": {},
   "outputs": [
    {
     "data": {
      "text/html": [
       "<div>\n",
       "<style scoped>\n",
       "    .dataframe tbody tr th:only-of-type {\n",
       "        vertical-align: middle;\n",
       "    }\n",
       "\n",
       "    .dataframe tbody tr th {\n",
       "        vertical-align: top;\n",
       "    }\n",
       "\n",
       "    .dataframe thead th {\n",
       "        text-align: right;\n",
       "    }\n",
       "</style>\n",
       "<table border=\"1\" class=\"dataframe\">\n",
       "  <thead>\n",
       "    <tr style=\"text-align: right;\">\n",
       "      <th></th>\n",
       "      <th>content</th>\n",
       "      <th>label</th>\n",
       "      <th>clean_text</th>\n",
       "      <th>word_count</th>\n",
       "    </tr>\n",
       "  </thead>\n",
       "  <tbody>\n",
       "    <tr>\n",
       "      <th>0</th>\n",
       "      <td>Unions representing workers at Turner   Newall...</td>\n",
       "      <td>Business</td>\n",
       "      <td>[union, represent, worker, turner, newall, dis...</td>\n",
       "      <td>20</td>\n",
       "    </tr>\n",
       "    <tr>\n",
       "      <th>1</th>\n",
       "      <td>SPACE.com - TORONTO, Canada -- A second\\team o...</td>\n",
       "      <td>SciTech</td>\n",
       "      <td>[space.com, toronto, canada, second, team, roc...</td>\n",
       "      <td>35</td>\n",
       "    </tr>\n",
       "    <tr>\n",
       "      <th>2</th>\n",
       "      <td>AP - A company founded by a chemistry research...</td>\n",
       "      <td>SciTech</td>\n",
       "      <td>[company, chemistry, researcher, university, l...</td>\n",
       "      <td>37</td>\n",
       "    </tr>\n",
       "    <tr>\n",
       "      <th>3</th>\n",
       "      <td>AP - It's barely dawn when Mike Fitzpatrick st...</td>\n",
       "      <td>SciTech</td>\n",
       "      <td>[it is, barely, dawn, mike, fitzpatrick, start...</td>\n",
       "      <td>49</td>\n",
       "    </tr>\n",
       "    <tr>\n",
       "      <th>4</th>\n",
       "      <td>AP - Southern California's smog-fighting agenc...</td>\n",
       "      <td>SciTech</td>\n",
       "      <td>[southern, california's, smog-fighting, agency...</td>\n",
       "      <td>27</td>\n",
       "    </tr>\n",
       "  </tbody>\n",
       "</table>\n",
       "</div>"
      ],
      "text/plain": [
       "                                             content     label  \\\n",
       "0  Unions representing workers at Turner   Newall...  Business   \n",
       "1  SPACE.com - TORONTO, Canada -- A second\\team o...   SciTech   \n",
       "2  AP - A company founded by a chemistry research...   SciTech   \n",
       "3  AP - It's barely dawn when Mike Fitzpatrick st...   SciTech   \n",
       "4  AP - Southern California's smog-fighting agenc...   SciTech   \n",
       "\n",
       "                                          clean_text  word_count  \n",
       "0  [union, represent, worker, turner, newall, dis...          20  \n",
       "1  [space.com, toronto, canada, second, team, roc...          35  \n",
       "2  [company, chemistry, researcher, university, l...          37  \n",
       "3  [it is, barely, dawn, mike, fitzpatrick, start...          49  \n",
       "4  [southern, california's, smog-fighting, agency...          27  "
      ]
     },
     "execution_count": 33,
     "metadata": {},
     "output_type": "execute_result"
    }
   ],
   "source": [
    "df.head()"
   ]
  },
  {
   "cell_type": "code",
   "execution_count": 34,
   "metadata": {},
   "outputs": [
    {
     "data": {
      "text/html": [
       "<div>\n",
       "<style scoped>\n",
       "    .dataframe tbody tr th:only-of-type {\n",
       "        vertical-align: middle;\n",
       "    }\n",
       "\n",
       "    .dataframe tbody tr th {\n",
       "        vertical-align: top;\n",
       "    }\n",
       "\n",
       "    .dataframe thead th {\n",
       "        text-align: right;\n",
       "    }\n",
       "</style>\n",
       "<table border=\"1\" class=\"dataframe\">\n",
       "  <thead>\n",
       "    <tr style=\"text-align: right;\">\n",
       "      <th></th>\n",
       "      <th>label</th>\n",
       "      <th>word_count</th>\n",
       "    </tr>\n",
       "  </thead>\n",
       "  <tbody>\n",
       "    <tr>\n",
       "      <th>0</th>\n",
       "      <td>Business</td>\n",
       "      <td>31.363684</td>\n",
       "    </tr>\n",
       "    <tr>\n",
       "      <th>1</th>\n",
       "      <td>SciTech</td>\n",
       "      <td>30.770000</td>\n",
       "    </tr>\n",
       "    <tr>\n",
       "      <th>2</th>\n",
       "      <td>Sports</td>\n",
       "      <td>31.348947</td>\n",
       "    </tr>\n",
       "    <tr>\n",
       "      <th>3</th>\n",
       "      <td>World</td>\n",
       "      <td>31.735789</td>\n",
       "    </tr>\n",
       "  </tbody>\n",
       "</table>\n",
       "</div>"
      ],
      "text/plain": [
       "      label  word_count\n",
       "0  Business   31.363684\n",
       "1   SciTech   30.770000\n",
       "2    Sports   31.348947\n",
       "3     World   31.735789"
      ]
     },
     "execution_count": 34,
     "metadata": {},
     "output_type": "execute_result"
    }
   ],
   "source": [
    "avg_wc = df.groupby('label').mean().reset_index()\n",
    "avg_wc"
   ]
  },
  {
   "cell_type": "code",
   "execution_count": null,
   "metadata": {},
   "outputs": [],
   "source": []
  },
  {
   "cell_type": "markdown",
   "metadata": {},
   "source": [
    "**Preparing the dataframes**"
   ]
  },
  {
   "cell_type": "code",
   "execution_count": 35,
   "metadata": {},
   "outputs": [],
   "source": [
    "#Splitting the df into the different categories\n",
    "df_business = df.loc[df['label'] == 'Business'] \n",
    "df_sports = df.loc[df['label'] =='Sports']\n",
    "df_scitech = df.loc[df['label'] == 'SciTech'] \n",
    "df_world = df.loc[df['label'] =='World']"
   ]
  },
  {
   "cell_type": "code",
   "execution_count": 36,
   "metadata": {},
   "outputs": [
    {
     "data": {
      "text/html": [
       "<div>\n",
       "<style scoped>\n",
       "    .dataframe tbody tr th:only-of-type {\n",
       "        vertical-align: middle;\n",
       "    }\n",
       "\n",
       "    .dataframe tbody tr th {\n",
       "        vertical-align: top;\n",
       "    }\n",
       "\n",
       "    .dataframe thead th {\n",
       "        text-align: right;\n",
       "    }\n",
       "</style>\n",
       "<table border=\"1\" class=\"dataframe\">\n",
       "  <thead>\n",
       "    <tr style=\"text-align: right;\">\n",
       "      <th></th>\n",
       "      <th>content</th>\n",
       "      <th>label</th>\n",
       "      <th>clean_text</th>\n",
       "      <th>word_count</th>\n",
       "    </tr>\n",
       "  </thead>\n",
       "  <tbody>\n",
       "    <tr>\n",
       "      <th>0</th>\n",
       "      <td>Unions representing workers at Turner   Newall...</td>\n",
       "      <td>Business</td>\n",
       "      <td>[union, represent, worker, turner, newall, dis...</td>\n",
       "      <td>20</td>\n",
       "    </tr>\n",
       "    <tr>\n",
       "      <th>41</th>\n",
       "      <td>Reuters - Apparel retailers are hoping their\\b...</td>\n",
       "      <td>Business</td>\n",
       "      <td>[reuters, apparel, retailer, hop, back-to-scho...</td>\n",
       "      <td>35</td>\n",
       "    </tr>\n",
       "    <tr>\n",
       "      <th>54</th>\n",
       "      <td>LONDON (Reuters) - The dollar dipped to a four...</td>\n",
       "      <td>Business</td>\n",
       "      <td>[london, reuters, dollar, dip, four-week, low,...</td>\n",
       "      <td>44</td>\n",
       "    </tr>\n",
       "    <tr>\n",
       "      <th>58</th>\n",
       "      <td>NEW YORK (Reuters) - U.S. Treasury debt prices...</td>\n",
       "      <td>Business</td>\n",
       "      <td>[new, york, reuters, treasury, debt, price, sl...</td>\n",
       "      <td>27</td>\n",
       "    </tr>\n",
       "    <tr>\n",
       "      <th>59</th>\n",
       "      <td>NEW YORK (Reuters) - The dollar extended gains...</td>\n",
       "      <td>Business</td>\n",
       "      <td>[new, york, reuters, dollar, extend, gain, eur...</td>\n",
       "      <td>41</td>\n",
       "    </tr>\n",
       "  </tbody>\n",
       "</table>\n",
       "</div>"
      ],
      "text/plain": [
       "                                              content     label  \\\n",
       "0   Unions representing workers at Turner   Newall...  Business   \n",
       "41  Reuters - Apparel retailers are hoping their\\b...  Business   \n",
       "54  LONDON (Reuters) - The dollar dipped to a four...  Business   \n",
       "58  NEW YORK (Reuters) - U.S. Treasury debt prices...  Business   \n",
       "59  NEW YORK (Reuters) - The dollar extended gains...  Business   \n",
       "\n",
       "                                           clean_text  word_count  \n",
       "0   [union, represent, worker, turner, newall, dis...          20  \n",
       "41  [reuters, apparel, retailer, hop, back-to-scho...          35  \n",
       "54  [london, reuters, dollar, dip, four-week, low,...          44  \n",
       "58  [new, york, reuters, treasury, debt, price, sl...          27  \n",
       "59  [new, york, reuters, dollar, extend, gain, eur...          41  "
      ]
     },
     "execution_count": 36,
     "metadata": {},
     "output_type": "execute_result"
    }
   ],
   "source": [
    "df_business.head(5)"
   ]
  },
  {
   "cell_type": "code",
   "execution_count": 37,
   "metadata": {
    "scrolled": true
   },
   "outputs": [
    {
     "data": {
      "text/html": [
       "<div>\n",
       "<style scoped>\n",
       "    .dataframe tbody tr th:only-of-type {\n",
       "        vertical-align: middle;\n",
       "    }\n",
       "\n",
       "    .dataframe tbody tr th {\n",
       "        vertical-align: top;\n",
       "    }\n",
       "\n",
       "    .dataframe thead th {\n",
       "        text-align: right;\n",
       "    }\n",
       "</style>\n",
       "<table border=\"1\" class=\"dataframe\">\n",
       "  <thead>\n",
       "    <tr style=\"text-align: right;\">\n",
       "      <th></th>\n",
       "      <th>content</th>\n",
       "      <th>label</th>\n",
       "      <th>clean_text</th>\n",
       "      <th>word_count</th>\n",
       "    </tr>\n",
       "  </thead>\n",
       "  <tbody>\n",
       "    <tr>\n",
       "      <th>26</th>\n",
       "      <td>Michael Phelps won the gold medal in the 400 i...</td>\n",
       "      <td>Sports</td>\n",
       "      <td>[michael, phelps, win, gold, medal, individual...</td>\n",
       "      <td>24</td>\n",
       "    </tr>\n",
       "    <tr>\n",
       "      <th>27</th>\n",
       "      <td>FOXBOROUGH -- Looking at his ridiculously deve...</td>\n",
       "      <td>Sports</td>\n",
       "      <td>[foxborough, look, ridiculously, develop, uppe...</td>\n",
       "      <td>61</td>\n",
       "    </tr>\n",
       "    <tr>\n",
       "      <th>28</th>\n",
       "      <td>With the weeks dwindling until Jason Varitek e...</td>\n",
       "      <td>Sports</td>\n",
       "      <td>[week, dwindle, jason, varitek, enters, free, ...</td>\n",
       "      <td>61</td>\n",
       "    </tr>\n",
       "    <tr>\n",
       "      <th>29</th>\n",
       "      <td>Just imagine what David Ortiz could do on a go...</td>\n",
       "      <td>Sports</td>\n",
       "      <td>[just, imagine, david, ortiz, good, night's, r...</td>\n",
       "      <td>61</td>\n",
       "    </tr>\n",
       "    <tr>\n",
       "      <th>30</th>\n",
       "      <td>In  quot;helping themselves, quot; Ricky Bryan...</td>\n",
       "      <td>Sports</td>\n",
       "      <td>[quot, help, quot, ricky, bryant, chas, gessne...</td>\n",
       "      <td>32</td>\n",
       "    </tr>\n",
       "  </tbody>\n",
       "</table>\n",
       "</div>"
      ],
      "text/plain": [
       "                                              content   label  \\\n",
       "26  Michael Phelps won the gold medal in the 400 i...  Sports   \n",
       "27  FOXBOROUGH -- Looking at his ridiculously deve...  Sports   \n",
       "28  With the weeks dwindling until Jason Varitek e...  Sports   \n",
       "29  Just imagine what David Ortiz could do on a go...  Sports   \n",
       "30  In  quot;helping themselves, quot; Ricky Bryan...  Sports   \n",
       "\n",
       "                                           clean_text  word_count  \n",
       "26  [michael, phelps, win, gold, medal, individual...          24  \n",
       "27  [foxborough, look, ridiculously, develop, uppe...          61  \n",
       "28  [week, dwindle, jason, varitek, enters, free, ...          61  \n",
       "29  [just, imagine, david, ortiz, good, night's, r...          61  \n",
       "30  [quot, help, quot, ricky, bryant, chas, gessne...          32  "
      ]
     },
     "execution_count": 37,
     "metadata": {},
     "output_type": "execute_result"
    }
   ],
   "source": [
    "df_sports.head(5)"
   ]
  },
  {
   "cell_type": "code",
   "execution_count": 38,
   "metadata": {
    "scrolled": true
   },
   "outputs": [
    {
     "data": {
      "text/plain": [
       "((1900, 4), (1900, 4), (1900, 4), (1900, 4))"
      ]
     },
     "execution_count": 38,
     "metadata": {},
     "output_type": "execute_result"
    }
   ],
   "source": [
    "df_business.shape, df_scitech.shape, df_sports.shape, df_world.shape"
   ]
  },
  {
   "cell_type": "code",
   "execution_count": 39,
   "metadata": {},
   "outputs": [],
   "source": [
    "# Randomly sampling business and sports to \"create\" imbalanced classes  \n",
    "# artifcially reduce df_business and df_sports headlines so that the classes in the dataset has imbalanced class\n",
    "df_business = df_business.sample(n=1005, random_state=3)\n",
    "df_sports = df_sports.sample(n=805, random_state=3)"
   ]
  },
  {
   "cell_type": "code",
   "execution_count": 40,
   "metadata": {},
   "outputs": [],
   "source": [
    "#Holding out 5 articles from each class for prediction at the end (since I have no Golden Dataset)\n",
    "df_business_holdout = df_business.iloc[:5]\n",
    "df_sports_holdout = df_sports.iloc[:5]\n",
    "df_scitech_holdout = df_scitech.iloc[:5]\n",
    "df_world_holdout = df_world.iloc[:5]"
   ]
  },
  {
   "cell_type": "code",
   "execution_count": 41,
   "metadata": {},
   "outputs": [],
   "source": [
    "df_business = df_business.iloc[5:]\n",
    "df_sports = df_sports.iloc[5:]\n",
    "df_scitech = df_scitech.iloc[5:]\n",
    "df_world = df_world.iloc[5:]"
   ]
  },
  {
   "cell_type": "code",
   "execution_count": 42,
   "metadata": {},
   "outputs": [
    {
     "data": {
      "text/plain": [
       "((995, 4), (795, 4), (1890, 4), (1890, 4))"
      ]
     },
     "execution_count": 42,
     "metadata": {},
     "output_type": "execute_result"
    }
   ],
   "source": [
    "# take out also the first 5 headlines (not sure why)\n",
    "df_business = df_business.iloc[5:]\n",
    "df_sports = df_sports.iloc[5:]\n",
    "df_scitech = df_scitech.iloc[5:]\n",
    "df_world = df_world.iloc[5:]\n",
    "\n",
    "df_business.shape, df_sports.shape, df_scitech.shape, df_world.shape "
   ]
  },
  {
   "cell_type": "code",
   "execution_count": 43,
   "metadata": {},
   "outputs": [],
   "source": [
    "# Appending the dfs back together.  The df has imbalance class now\n",
    "df = pd.concat([df_business, df_sports, df_scitech, df_world])\n",
    "df_holdout = pd.concat([df_business_holdout, df_sports_holdout, df_scitech_holdout, df_world_holdout])"
   ]
  },
  {
   "cell_type": "code",
   "execution_count": 44,
   "metadata": {},
   "outputs": [],
   "source": [
    "#Encode the labels into numbers\n",
    "le = LabelEncoder()\n",
    "df['label_num'] = le.fit_transform(df['label'])"
   ]
  },
  {
   "cell_type": "code",
   "execution_count": 45,
   "metadata": {},
   "outputs": [
    {
     "data": {
      "text/html": [
       "<div>\n",
       "<style scoped>\n",
       "    .dataframe tbody tr th:only-of-type {\n",
       "        vertical-align: middle;\n",
       "    }\n",
       "\n",
       "    .dataframe tbody tr th {\n",
       "        vertical-align: top;\n",
       "    }\n",
       "\n",
       "    .dataframe thead th {\n",
       "        text-align: right;\n",
       "    }\n",
       "</style>\n",
       "<table border=\"1\" class=\"dataframe\">\n",
       "  <thead>\n",
       "    <tr style=\"text-align: right;\">\n",
       "      <th></th>\n",
       "      <th>content</th>\n",
       "      <th>label</th>\n",
       "      <th>clean_text</th>\n",
       "      <th>word_count</th>\n",
       "      <th>label_num</th>\n",
       "    </tr>\n",
       "  </thead>\n",
       "  <tbody>\n",
       "    <tr>\n",
       "      <th>4510</th>\n",
       "      <td>Shares of Delta Air Lines soared after the tro...</td>\n",
       "      <td>Business</td>\n",
       "      <td>[share, delta, air, line, soar, troubled, airl...</td>\n",
       "      <td>25</td>\n",
       "      <td>0</td>\n",
       "    </tr>\n",
       "    <tr>\n",
       "      <th>6098</th>\n",
       "      <td>AH Jaffor Ullah. Yasser Arafat, the acknowledg...</td>\n",
       "      <td>World</td>\n",
       "      <td>[ah, jaffor, ullah, yasser, arafat, acknowledg...</td>\n",
       "      <td>39</td>\n",
       "      <td>3</td>\n",
       "    </tr>\n",
       "    <tr>\n",
       "      <th>4201</th>\n",
       "      <td>Ten years after it unveiled its first dream ho...</td>\n",
       "      <td>SciTech</td>\n",
       "      <td>[year, unveil, dream, house, microsoft, new, d...</td>\n",
       "      <td>28</td>\n",
       "      <td>1</td>\n",
       "    </tr>\n",
       "    <tr>\n",
       "      <th>860</th>\n",
       "      <td>At least seven people have been killed in a bo...</td>\n",
       "      <td>World</td>\n",
       "      <td>[seven, people, kill, bomb, blast, central, ka...</td>\n",
       "      <td>24</td>\n",
       "      <td>3</td>\n",
       "    </tr>\n",
       "    <tr>\n",
       "      <th>6787</th>\n",
       "      <td>TiVo Inc. pioneered digital video recording as...</td>\n",
       "      <td>SciTech</td>\n",
       "      <td>[tivo, pioneered, digital, video, record, new,...</td>\n",
       "      <td>28</td>\n",
       "      <td>1</td>\n",
       "    </tr>\n",
       "  </tbody>\n",
       "</table>\n",
       "</div>"
      ],
      "text/plain": [
       "                                                content     label  \\\n",
       "4510  Shares of Delta Air Lines soared after the tro...  Business   \n",
       "6098  AH Jaffor Ullah. Yasser Arafat, the acknowledg...     World   \n",
       "4201  Ten years after it unveiled its first dream ho...   SciTech   \n",
       "860   At least seven people have been killed in a bo...     World   \n",
       "6787  TiVo Inc. pioneered digital video recording as...   SciTech   \n",
       "\n",
       "                                             clean_text  word_count  label_num  \n",
       "4510  [share, delta, air, line, soar, troubled, airl...          25          0  \n",
       "6098  [ah, jaffor, ullah, yasser, arafat, acknowledg...          39          3  \n",
       "4201  [year, unveil, dream, house, microsoft, new, d...          28          1  \n",
       "860   [seven, people, kill, bomb, blast, central, ka...          24          3  \n",
       "6787  [tivo, pioneered, digital, video, record, new,...          28          1  "
      ]
     },
     "execution_count": 45,
     "metadata": {},
     "output_type": "execute_result"
    }
   ],
   "source": [
    "df.sample(5)"
   ]
  },
  {
   "cell_type": "code",
   "execution_count": 46,
   "metadata": {},
   "outputs": [
    {
     "data": {
      "text/plain": [
       "label\n",
       "Business     995\n",
       "SciTech     1890\n",
       "Sports       795\n",
       "World       1890\n",
       "Name: content, dtype: int64"
      ]
     },
     "metadata": {},
     "output_type": "display_data"
    }
   ],
   "source": [
    "display(df.groupby(['label'])['content'].count())"
   ]
  },
  {
   "cell_type": "code",
   "execution_count": 47,
   "metadata": {},
   "outputs": [
    {
     "data": {
      "text/plain": [
       "label\n",
       "Business    5\n",
       "SciTech     5\n",
       "Sports      5\n",
       "World       5\n",
       "Name: content, dtype: int64"
      ]
     },
     "metadata": {},
     "output_type": "display_data"
    }
   ],
   "source": [
    "display(df_holdout.groupby(['label'])['content'].count())"
   ]
  },
  {
   "cell_type": "code",
   "execution_count": 48,
   "metadata": {},
   "outputs": [
    {
     "data": {
      "text/plain": [
       "array(['Business', 'Sports', 'SciTech', 'World'], dtype=object)"
      ]
     },
     "metadata": {},
     "output_type": "display_data"
    },
    {
     "data": {
      "text/plain": [
       "array([0, 2, 1, 3], dtype=int64)"
      ]
     },
     "metadata": {},
     "output_type": "display_data"
    }
   ],
   "source": [
    "display(df['label'].unique())\n",
    "display(df['label_num'].unique())"
   ]
  },
  {
   "cell_type": "code",
   "execution_count": null,
   "metadata": {},
   "outputs": [],
   "source": []
  },
  {
   "cell_type": "code",
   "execution_count": 49,
   "metadata": {},
   "outputs": [],
   "source": [
    "# Top 15 words by category, now we take bigrarms into account\n",
    "top_n = 15\n",
    "text_bus = df_business['clean_text'].tolist()\n",
    "text_sci_t = df_scitech['clean_text'].tolist()\n",
    "text_sports = df_sports['clean_text'].tolist()\n",
    "text_world = df_world['clean_text'].tolist()"
   ]
  },
  {
   "cell_type": "code",
   "execution_count": 50,
   "metadata": {},
   "outputs": [],
   "source": [
    "# Use the word_freq_bigrams() function to transform text with bigram\n",
    "def word_freq_bigrams(clean_text_list, top_n):\n",
    "    \n",
    "    # train gensim bigram model and use it to transform clean_text\n",
    "    bigram_model = Phrases(clean_text_list, min_count=2, threshold=1)\n",
    "    w_bigrams = list(bigram_model[clean_text_list])\n",
    "    \n",
    "    # repeat the same processing in word_freq\n",
    "    flat_w_bigrams = [item for sublist in w_bigrams for item in sublist]\n",
    "    with_counts = Counter(flat_w_bigrams)\n",
    "    top = with_counts.most_common(top_n)\n",
    "    word = [each[0] for each in top]\n",
    "    num = [each[1] for each in top]\n",
    "    return pd.DataFrame([word, num]).T"
   ]
  },
  {
   "cell_type": "code",
   "execution_count": 51,
   "metadata": {},
   "outputs": [],
   "source": [
    "bus = word_freq_bigrams(text_bus, top_n=top_n)\n",
    "sci_t = word_freq_bigrams(text_sci_t, top_n=top_n)\n",
    "sports = word_freq_bigrams(text_sports, top_n=top_n)\n",
    "world = word_freq_bigrams(text_world, top_n=top_n)"
   ]
  },
  {
   "cell_type": "code",
   "execution_count": 52,
   "metadata": {},
   "outputs": [
    {
     "data": {
      "text/html": [
       "<div>\n",
       "<style scoped>\n",
       "    .dataframe tbody tr th:only-of-type {\n",
       "        vertical-align: middle;\n",
       "    }\n",
       "\n",
       "    .dataframe tbody tr th {\n",
       "        vertical-align: top;\n",
       "    }\n",
       "\n",
       "    .dataframe thead th {\n",
       "        text-align: right;\n",
       "    }\n",
       "</style>\n",
       "<table border=\"1\" class=\"dataframe\">\n",
       "  <thead>\n",
       "    <tr style=\"text-align: right;\">\n",
       "      <th></th>\n",
       "      <th>0</th>\n",
       "      <th>1</th>\n",
       "    </tr>\n",
       "  </thead>\n",
       "  <tbody>\n",
       "    <tr>\n",
       "      <th>0</th>\n",
       "      <td>company</td>\n",
       "      <td>124</td>\n",
       "    </tr>\n",
       "    <tr>\n",
       "      <th>1</th>\n",
       "      <td>new_york</td>\n",
       "      <td>111</td>\n",
       "    </tr>\n",
       "    <tr>\n",
       "      <th>2</th>\n",
       "      <td>year</td>\n",
       "      <td>90</td>\n",
       "    </tr>\n",
       "    <tr>\n",
       "      <th>3</th>\n",
       "      <td>reuters</td>\n",
       "      <td>80</td>\n",
       "    </tr>\n",
       "    <tr>\n",
       "      <th>4</th>\n",
       "      <td>tuesday</td>\n",
       "      <td>75</td>\n",
       "    </tr>\n",
       "  </tbody>\n",
       "</table>\n",
       "</div>"
      ],
      "text/plain": [
       "          0    1\n",
       "0   company  124\n",
       "1  new_york  111\n",
       "2      year   90\n",
       "3   reuters   80\n",
       "4   tuesday   75"
      ]
     },
     "execution_count": 52,
     "metadata": {},
     "output_type": "execute_result"
    }
   ],
   "source": [
    "bus.head()"
   ]
  },
  {
   "cell_type": "code",
   "execution_count": 53,
   "metadata": {},
   "outputs": [
    {
     "data": {
      "text/html": [
       "<div>\n",
       "<style scoped>\n",
       "    .dataframe tbody tr th:only-of-type {\n",
       "        vertical-align: middle;\n",
       "    }\n",
       "\n",
       "    .dataframe tbody tr th {\n",
       "        vertical-align: top;\n",
       "    }\n",
       "\n",
       "    .dataframe thead th {\n",
       "        text-align: right;\n",
       "    }\n",
       "</style>\n",
       "<table border=\"1\" class=\"dataframe\">\n",
       "  <thead>\n",
       "    <tr style=\"text-align: right;\">\n",
       "      <th></th>\n",
       "      <th>0</th>\n",
       "      <th>1</th>\n",
       "    </tr>\n",
       "  </thead>\n",
       "  <tbody>\n",
       "    <tr>\n",
       "      <th>0</th>\n",
       "      <td>new</td>\n",
       "      <td>184</td>\n",
       "    </tr>\n",
       "    <tr>\n",
       "      <th>1</th>\n",
       "      <td>company</td>\n",
       "      <td>179</td>\n",
       "    </tr>\n",
       "    <tr>\n",
       "      <th>2</th>\n",
       "      <td>quot</td>\n",
       "      <td>132</td>\n",
       "    </tr>\n",
       "    <tr>\n",
       "      <th>3</th>\n",
       "      <td>software</td>\n",
       "      <td>123</td>\n",
       "    </tr>\n",
       "    <tr>\n",
       "      <th>4</th>\n",
       "      <td>technology</td>\n",
       "      <td>105</td>\n",
       "    </tr>\n",
       "  </tbody>\n",
       "</table>\n",
       "</div>"
      ],
      "text/plain": [
       "            0    1\n",
       "0         new  184\n",
       "1     company  179\n",
       "2        quot  132\n",
       "3    software  123\n",
       "4  technology  105"
      ]
     },
     "execution_count": 53,
     "metadata": {},
     "output_type": "execute_result"
    }
   ],
   "source": [
    "sci_t.head()"
   ]
  },
  {
   "cell_type": "code",
   "execution_count": 54,
   "metadata": {},
   "outputs": [
    {
     "data": {
      "text/html": [
       "<div>\n",
       "<style scoped>\n",
       "    .dataframe tbody tr th:only-of-type {\n",
       "        vertical-align: middle;\n",
       "    }\n",
       "\n",
       "    .dataframe tbody tr th {\n",
       "        vertical-align: top;\n",
       "    }\n",
       "\n",
       "    .dataframe thead th {\n",
       "        text-align: right;\n",
       "    }\n",
       "</style>\n",
       "<table border=\"1\" class=\"dataframe\">\n",
       "  <thead>\n",
       "    <tr style=\"text-align: right;\">\n",
       "      <th></th>\n",
       "      <th>business</th>\n",
       "      <th>count</th>\n",
       "      <th>sci tech</th>\n",
       "      <th>count</th>\n",
       "      <th>sports</th>\n",
       "      <th>count</th>\n",
       "      <th>world</th>\n",
       "      <th>count</th>\n",
       "    </tr>\n",
       "  </thead>\n",
       "  <tbody>\n",
       "    <tr>\n",
       "      <th>0</th>\n",
       "      <td>company</td>\n",
       "      <td>124</td>\n",
       "      <td>new</td>\n",
       "      <td>184</td>\n",
       "      <td>win</td>\n",
       "      <td>102</td>\n",
       "      <td>monday</td>\n",
       "      <td>129</td>\n",
       "    </tr>\n",
       "    <tr>\n",
       "      <th>1</th>\n",
       "      <td>new_york</td>\n",
       "      <td>111</td>\n",
       "      <td>company</td>\n",
       "      <td>179</td>\n",
       "      <td>game</td>\n",
       "      <td>95</td>\n",
       "      <td>reuters</td>\n",
       "      <td>119</td>\n",
       "    </tr>\n",
       "    <tr>\n",
       "      <th>2</th>\n",
       "      <td>year</td>\n",
       "      <td>90</td>\n",
       "      <td>quot</td>\n",
       "      <td>132</td>\n",
       "      <td>team</td>\n",
       "      <td>78</td>\n",
       "      <td>tuesday</td>\n",
       "      <td>118</td>\n",
       "    </tr>\n",
       "    <tr>\n",
       "      <th>3</th>\n",
       "      <td>reuters</td>\n",
       "      <td>80</td>\n",
       "      <td>software</td>\n",
       "      <td>123</td>\n",
       "      <td>season</td>\n",
       "      <td>67</td>\n",
       "      <td>friday</td>\n",
       "      <td>116</td>\n",
       "    </tr>\n",
       "    <tr>\n",
       "      <th>4</th>\n",
       "      <td>tuesday</td>\n",
       "      <td>75</td>\n",
       "      <td>technology</td>\n",
       "      <td>105</td>\n",
       "      <td>victory</td>\n",
       "      <td>57</td>\n",
       "      <td>iraq</td>\n",
       "      <td>115</td>\n",
       "    </tr>\n",
       "    <tr>\n",
       "      <th>5</th>\n",
       "      <td>wednesday</td>\n",
       "      <td>72</td>\n",
       "      <td>microsoft</td>\n",
       "      <td>104</td>\n",
       "      <td>play</td>\n",
       "      <td>56</td>\n",
       "      <td>official</td>\n",
       "      <td>105</td>\n",
       "    </tr>\n",
       "    <tr>\n",
       "      <th>6</th>\n",
       "      <td>new</td>\n",
       "      <td>66</td>\n",
       "      <td>make</td>\n",
       "      <td>103</td>\n",
       "      <td>year</td>\n",
       "      <td>54</td>\n",
       "      <td>quot</td>\n",
       "      <td>105</td>\n",
       "    </tr>\n",
       "    <tr>\n",
       "      <th>7</th>\n",
       "      <td>share</td>\n",
       "      <td>63</td>\n",
       "      <td>use</td>\n",
       "      <td>101</td>\n",
       "      <td>sunday</td>\n",
       "      <td>53</td>\n",
       "      <td>wednesday</td>\n",
       "      <td>105</td>\n",
       "    </tr>\n",
       "    <tr>\n",
       "      <th>8</th>\n",
       "      <td>thursday</td>\n",
       "      <td>63</td>\n",
       "      <td>service</td>\n",
       "      <td>100</td>\n",
       "      <td>run</td>\n",
       "      <td>44</td>\n",
       "      <td>country</td>\n",
       "      <td>103</td>\n",
       "    </tr>\n",
       "    <tr>\n",
       "      <th>9</th>\n",
       "      <td>report</td>\n",
       "      <td>59</td>\n",
       "      <td>reuters</td>\n",
       "      <td>99</td>\n",
       "      <td>new_york</td>\n",
       "      <td>44</td>\n",
       "      <td>leader</td>\n",
       "      <td>102</td>\n",
       "    </tr>\n",
       "    <tr>\n",
       "      <th>10</th>\n",
       "      <td>price</td>\n",
       "      <td>59</td>\n",
       "      <td>year</td>\n",
       "      <td>99</td>\n",
       "      <td>make</td>\n",
       "      <td>44</td>\n",
       "      <td>thursday</td>\n",
       "      <td>99</td>\n",
       "    </tr>\n",
       "    <tr>\n",
       "      <th>11</th>\n",
       "      <td>yesterday</td>\n",
       "      <td>57</td>\n",
       "      <td>internet</td>\n",
       "      <td>88</td>\n",
       "      <td>lead</td>\n",
       "      <td>43</td>\n",
       "      <td>sunday</td>\n",
       "      <td>95</td>\n",
       "    </tr>\n",
       "    <tr>\n",
       "      <th>12</th>\n",
       "      <td>quot</td>\n",
       "      <td>56</td>\n",
       "      <td>launch</td>\n",
       "      <td>83</td>\n",
       "      <td>quot</td>\n",
       "      <td>43</td>\n",
       "      <td>government</td>\n",
       "      <td>93</td>\n",
       "    </tr>\n",
       "    <tr>\n",
       "      <th>13</th>\n",
       "      <td>monday</td>\n",
       "      <td>56</td>\n",
       "      <td>tuesday</td>\n",
       "      <td>82</td>\n",
       "      <td>time</td>\n",
       "      <td>41</td>\n",
       "      <td>new</td>\n",
       "      <td>92</td>\n",
       "    </tr>\n",
       "    <tr>\n",
       "      <th>14</th>\n",
       "      <td>sale</td>\n",
       "      <td>54</td>\n",
       "      <td>market</td>\n",
       "      <td>77</td>\n",
       "      <td>yesterday</td>\n",
       "      <td>41</td>\n",
       "      <td>yesterday</td>\n",
       "      <td>90</td>\n",
       "    </tr>\n",
       "  </tbody>\n",
       "</table>\n",
       "</div>"
      ],
      "text/plain": [
       "     business count    sci tech count     sports count       world count\n",
       "0     company   124         new   184        win   102      monday   129\n",
       "1    new_york   111     company   179       game    95     reuters   119\n",
       "2        year    90        quot   132       team    78     tuesday   118\n",
       "3     reuters    80    software   123     season    67      friday   116\n",
       "4     tuesday    75  technology   105    victory    57        iraq   115\n",
       "5   wednesday    72   microsoft   104       play    56    official   105\n",
       "6         new    66        make   103       year    54        quot   105\n",
       "7       share    63         use   101     sunday    53   wednesday   105\n",
       "8    thursday    63     service   100        run    44     country   103\n",
       "9      report    59     reuters    99   new_york    44      leader   102\n",
       "10      price    59        year    99       make    44    thursday    99\n",
       "11  yesterday    57    internet    88       lead    43      sunday    95\n",
       "12       quot    56      launch    83       quot    43  government    93\n",
       "13     monday    56     tuesday    82       time    41         new    92\n",
       "14       sale    54      market    77  yesterday    41   yesterday    90"
      ]
     },
     "execution_count": 54,
     "metadata": {},
     "output_type": "execute_result"
    }
   ],
   "source": [
    "df_wf = pd.concat([bus, sci_t, sports, world], axis=1)\n",
    "cols = ['business', 'count', 'sci tech', 'count', 'sports', 'count', 'world', 'count']\n",
    "df_wf.columns = cols\n",
    "df_wf"
   ]
  },
  {
   "cell_type": "code",
   "execution_count": null,
   "metadata": {},
   "outputs": [],
   "source": []
  },
  {
   "cell_type": "code",
   "execution_count": 55,
   "metadata": {
    "code_folding": []
   },
   "outputs": [],
   "source": [
    "# Get bigrams and their frequency in each class\n",
    "def bigram_freq(clean_text_list, top_n):\n",
    "    # Train bigram model\n",
    "    bigram_model = Phrases(clean_text_list, min_count=2, threshold=1)\n",
    "    # transform the clean text\n",
    "    w_bigrams = list(bigram_model[clean_text_list])\n",
    "    \n",
    "    # get a large list of all tokens\n",
    "    flat_w_bigrams = [item for sublist in w_bigrams for item in sublist]\n",
    "    # init a list of bigrarms\n",
    "    bigrams = []\n",
    "    \n",
    "    # look at each token in my corpus\n",
    "    for token in flat_w_bigrams:\n",
    "        if '_' in token: # a bigrarm always has '_', for example \"happy_hour\"\n",
    "            bigrams.append(token)\n",
    "    counts = Counter(bigrams) # count the number of bigrams\n",
    "    top = counts.most_common(top_n)\n",
    "    word = [each[0] for each in top]\n",
    "    num = [each[1] for each in top]\n",
    "    return pd.DataFrame([word, num]).T"
   ]
  },
  {
   "cell_type": "code",
   "execution_count": 56,
   "metadata": {},
   "outputs": [],
   "source": [
    "# Top 15 bigrams by category\n",
    "bus_bigrams = bigram_freq(text_bus, top_n = top_n)\n",
    "sci_t_bigrams = bigram_freq(text_sci_t, top_n = top_n)\n",
    "sports_bigrams = bigram_freq(text_sports, top_n = top_n)\n",
    "world_bigrams = bigram_freq(text_world, top_n = top_n)"
   ]
  },
  {
   "cell_type": "code",
   "execution_count": 57,
   "metadata": {},
   "outputs": [
    {
     "data": {
      "text/html": [
       "<div>\n",
       "<style scoped>\n",
       "    .dataframe tbody tr th:only-of-type {\n",
       "        vertical-align: middle;\n",
       "    }\n",
       "\n",
       "    .dataframe tbody tr th {\n",
       "        vertical-align: top;\n",
       "    }\n",
       "\n",
       "    .dataframe thead th {\n",
       "        text-align: right;\n",
       "    }\n",
       "</style>\n",
       "<table border=\"1\" class=\"dataframe\">\n",
       "  <thead>\n",
       "    <tr style=\"text-align: right;\">\n",
       "      <th></th>\n",
       "      <th>0</th>\n",
       "      <th>1</th>\n",
       "    </tr>\n",
       "  </thead>\n",
       "  <tbody>\n",
       "    <tr>\n",
       "      <th>0</th>\n",
       "      <td>new_york</td>\n",
       "      <td>111</td>\n",
       "    </tr>\n",
       "    <tr>\n",
       "      <th>1</th>\n",
       "      <td>oil_price</td>\n",
       "      <td>39</td>\n",
       "    </tr>\n",
       "    <tr>\n",
       "      <th>2</th>\n",
       "      <td>wall_street</td>\n",
       "      <td>32</td>\n",
       "    </tr>\n",
       "    <tr>\n",
       "      <th>3</th>\n",
       "      <td>chief_executive</td>\n",
       "      <td>30</td>\n",
       "    </tr>\n",
       "    <tr>\n",
       "      <th>4</th>\n",
       "      <td>quote_profile</td>\n",
       "      <td>27</td>\n",
       "    </tr>\n",
       "    <tr>\n",
       "      <th>5</th>\n",
       "      <td>united_state</td>\n",
       "      <td>22</td>\n",
       "    </tr>\n",
       "    <tr>\n",
       "      <th>6</th>\n",
       "      <td>london_reuters</td>\n",
       "      <td>18</td>\n",
       "    </tr>\n",
       "    <tr>\n",
       "      <th>7</th>\n",
       "      <td>san_francisco</td>\n",
       "      <td>17</td>\n",
       "    </tr>\n",
       "    <tr>\n",
       "      <th>8</th>\n",
       "      <td>crude_oil</td>\n",
       "      <td>16</td>\n",
       "    </tr>\n",
       "    <tr>\n",
       "      <th>9</th>\n",
       "      <td>chicago_reuters</td>\n",
       "      <td>15</td>\n",
       "    </tr>\n",
       "    <tr>\n",
       "      <th>10</th>\n",
       "      <td>federal_reserve</td>\n",
       "      <td>14</td>\n",
       "    </tr>\n",
       "    <tr>\n",
       "      <th>11</th>\n",
       "      <td>washington_reuters</td>\n",
       "      <td>13</td>\n",
       "    </tr>\n",
       "    <tr>\n",
       "      <th>12</th>\n",
       "      <td>mutual_fund</td>\n",
       "      <td>12</td>\n",
       "    </tr>\n",
       "    <tr>\n",
       "      <th>13</th>\n",
       "      <td>world_large</td>\n",
       "      <td>12</td>\n",
       "    </tr>\n",
       "    <tr>\n",
       "      <th>14</th>\n",
       "      <td>stock_market</td>\n",
       "      <td>11</td>\n",
       "    </tr>\n",
       "  </tbody>\n",
       "</table>\n",
       "</div>"
      ],
      "text/plain": [
       "                     0    1\n",
       "0             new_york  111\n",
       "1            oil_price   39\n",
       "2          wall_street   32\n",
       "3      chief_executive   30\n",
       "4        quote_profile   27\n",
       "5         united_state   22\n",
       "6       london_reuters   18\n",
       "7        san_francisco   17\n",
       "8            crude_oil   16\n",
       "9      chicago_reuters   15\n",
       "10     federal_reserve   14\n",
       "11  washington_reuters   13\n",
       "12         mutual_fund   12\n",
       "13         world_large   12\n",
       "14        stock_market   11"
      ]
     },
     "execution_count": 57,
     "metadata": {},
     "output_type": "execute_result"
    }
   ],
   "source": [
    "bus_bigrams"
   ]
  },
  {
   "cell_type": "code",
   "execution_count": 58,
   "metadata": {},
   "outputs": [
    {
     "data": {
      "text/html": [
       "<div>\n",
       "<style scoped>\n",
       "    .dataframe tbody tr th:only-of-type {\n",
       "        vertical-align: middle;\n",
       "    }\n",
       "\n",
       "    .dataframe tbody tr th {\n",
       "        vertical-align: top;\n",
       "    }\n",
       "\n",
       "    .dataframe thead th {\n",
       "        text-align: right;\n",
       "    }\n",
       "</style>\n",
       "<table border=\"1\" class=\"dataframe\">\n",
       "  <thead>\n",
       "    <tr style=\"text-align: right;\">\n",
       "      <th></th>\n",
       "      <th>business</th>\n",
       "      <th>count</th>\n",
       "      <th>sci tech</th>\n",
       "      <th>count</th>\n",
       "      <th>sports</th>\n",
       "      <th>count</th>\n",
       "      <th>world</th>\n",
       "      <th>count</th>\n",
       "    </tr>\n",
       "  </thead>\n",
       "  <tbody>\n",
       "    <tr>\n",
       "      <th>0</th>\n",
       "      <td>new_york</td>\n",
       "      <td>111</td>\n",
       "      <td>microsoft_corp</td>\n",
       "      <td>47</td>\n",
       "      <td>new_york</td>\n",
       "      <td>44</td>\n",
       "      <td>prime_minister</td>\n",
       "      <td>88</td>\n",
       "    </tr>\n",
       "    <tr>\n",
       "      <th>1</th>\n",
       "      <td>oil_price</td>\n",
       "      <td>39</td>\n",
       "      <td>mobile_phone</td>\n",
       "      <td>41</td>\n",
       "      <td>sport_network</td>\n",
       "      <td>29</td>\n",
       "      <td>president_bush</td>\n",
       "      <td>58</td>\n",
       "    </tr>\n",
       "    <tr>\n",
       "      <th>2</th>\n",
       "      <td>wall_street</td>\n",
       "      <td>32</td>\n",
       "      <td>san_francisco</td>\n",
       "      <td>29</td>\n",
       "      <td>world_cup</td>\n",
       "      <td>19</td>\n",
       "      <td>united_nation</td>\n",
       "      <td>55</td>\n",
       "    </tr>\n",
       "    <tr>\n",
       "      <th>3</th>\n",
       "      <td>chief_executive</td>\n",
       "      <td>30</td>\n",
       "      <td>new_york</td>\n",
       "      <td>28</td>\n",
       "      <td>champion_league</td>\n",
       "      <td>18</td>\n",
       "      <td>united_state</td>\n",
       "      <td>47</td>\n",
       "    </tr>\n",
       "    <tr>\n",
       "      <th>4</th>\n",
       "      <td>quote_profile</td>\n",
       "      <td>27</td>\n",
       "      <td>video_game</td>\n",
       "      <td>28</td>\n",
       "      <td>red_sox</td>\n",
       "      <td>16</td>\n",
       "      <td>yasser_arafat</td>\n",
       "      <td>37</td>\n",
       "    </tr>\n",
       "    <tr>\n",
       "      <th>5</th>\n",
       "      <td>united_state</td>\n",
       "      <td>22</td>\n",
       "      <td>search_engine</td>\n",
       "      <td>27</td>\n",
       "      <td>st_louis</td>\n",
       "      <td>16</td>\n",
       "      <td>presidential_election</td>\n",
       "      <td>36</td>\n",
       "    </tr>\n",
       "    <tr>\n",
       "      <th>6</th>\n",
       "      <td>london_reuters</td>\n",
       "      <td>18</td>\n",
       "      <td>apple_computer</td>\n",
       "      <td>23</td>\n",
       "      <td>boston_red</td>\n",
       "      <td>15</td>\n",
       "      <td>kill_people</td>\n",
       "      <td>35</td>\n",
       "    </tr>\n",
       "    <tr>\n",
       "      <th>7</th>\n",
       "      <td>san_francisco</td>\n",
       "      <td>17</td>\n",
       "      <td>year_ago</td>\n",
       "      <td>19</td>\n",
       "      <td>united_state</td>\n",
       "      <td>13</td>\n",
       "      <td>new_york</td>\n",
       "      <td>34</td>\n",
       "    </tr>\n",
       "    <tr>\n",
       "      <th>8</th>\n",
       "      <td>crude_oil</td>\n",
       "      <td>16</td>\n",
       "      <td>sun_microsystems</td>\n",
       "      <td>19</td>\n",
       "      <td>los_angeles</td>\n",
       "      <td>12</td>\n",
       "      <td>north_korea</td>\n",
       "      <td>33</td>\n",
       "    </tr>\n",
       "    <tr>\n",
       "      <th>9</th>\n",
       "      <td>chicago_reuters</td>\n",
       "      <td>15</td>\n",
       "      <td>united_state</td>\n",
       "      <td>19</td>\n",
       "      <td>ryder_cup</td>\n",
       "      <td>12</td>\n",
       "      <td>canadian_press</td>\n",
       "      <td>28</td>\n",
       "    </tr>\n",
       "    <tr>\n",
       "      <th>10</th>\n",
       "      <td>federal_reserve</td>\n",
       "      <td>14</td>\n",
       "      <td>intel_corp</td>\n",
       "      <td>18</td>\n",
       "      <td>score_point</td>\n",
       "      <td>12</td>\n",
       "      <td>european_union</td>\n",
       "      <td>25</td>\n",
       "    </tr>\n",
       "    <tr>\n",
       "      <th>11</th>\n",
       "      <td>washington_reuters</td>\n",
       "      <td>13</td>\n",
       "      <td>web_site</td>\n",
       "      <td>18</td>\n",
       "      <td>houston_astros</td>\n",
       "      <td>11</td>\n",
       "      <td>foreign_minister</td>\n",
       "      <td>23</td>\n",
       "    </tr>\n",
       "    <tr>\n",
       "      <th>12</th>\n",
       "      <td>mutual_fund</td>\n",
       "      <td>12</td>\n",
       "      <td>open_source</td>\n",
       "      <td>17</td>\n",
       "      <td>monday_night</td>\n",
       "      <td>10</td>\n",
       "      <td>gaza_strip</td>\n",
       "      <td>23</td>\n",
       "    </tr>\n",
       "    <tr>\n",
       "      <th>13</th>\n",
       "      <td>world_large</td>\n",
       "      <td>12</td>\n",
       "      <td>chief_executive</td>\n",
       "      <td>17</td>\n",
       "      <td>pedro_martinez</td>\n",
       "      <td>10</td>\n",
       "      <td>tony_blair</td>\n",
       "      <td>22</td>\n",
       "    </tr>\n",
       "    <tr>\n",
       "      <th>14</th>\n",
       "      <td>stock_market</td>\n",
       "      <td>11</td>\n",
       "      <td>window_xp</td>\n",
       "      <td>16</td>\n",
       "      <td>second_half</td>\n",
       "      <td>9</td>\n",
       "      <td>people_kill</td>\n",
       "      <td>21</td>\n",
       "    </tr>\n",
       "  </tbody>\n",
       "</table>\n",
       "</div>"
      ],
      "text/plain": [
       "              business count          sci tech count           sports count  \\\n",
       "0             new_york   111    microsoft_corp    47         new_york    44   \n",
       "1            oil_price    39      mobile_phone    41    sport_network    29   \n",
       "2          wall_street    32     san_francisco    29        world_cup    19   \n",
       "3      chief_executive    30          new_york    28  champion_league    18   \n",
       "4        quote_profile    27        video_game    28          red_sox    16   \n",
       "5         united_state    22     search_engine    27         st_louis    16   \n",
       "6       london_reuters    18    apple_computer    23       boston_red    15   \n",
       "7        san_francisco    17          year_ago    19     united_state    13   \n",
       "8            crude_oil    16  sun_microsystems    19      los_angeles    12   \n",
       "9      chicago_reuters    15      united_state    19        ryder_cup    12   \n",
       "10     federal_reserve    14        intel_corp    18      score_point    12   \n",
       "11  washington_reuters    13          web_site    18   houston_astros    11   \n",
       "12         mutual_fund    12       open_source    17     monday_night    10   \n",
       "13         world_large    12   chief_executive    17   pedro_martinez    10   \n",
       "14        stock_market    11         window_xp    16      second_half     9   \n",
       "\n",
       "                    world count  \n",
       "0          prime_minister    88  \n",
       "1          president_bush    58  \n",
       "2           united_nation    55  \n",
       "3            united_state    47  \n",
       "4           yasser_arafat    37  \n",
       "5   presidential_election    36  \n",
       "6             kill_people    35  \n",
       "7                new_york    34  \n",
       "8             north_korea    33  \n",
       "9          canadian_press    28  \n",
       "10         european_union    25  \n",
       "11       foreign_minister    23  \n",
       "12             gaza_strip    23  \n",
       "13             tony_blair    22  \n",
       "14            people_kill    21  "
      ]
     },
     "execution_count": 58,
     "metadata": {},
     "output_type": "execute_result"
    }
   ],
   "source": [
    "df_bigram_wf = pd.concat([bus_bigrams, sci_t_bigrams, sports_bigrams, world_bigrams], axis=1)\n",
    "df_bigram_wf.columns = cols\n",
    "df_bigram_wf"
   ]
  },
  {
   "cell_type": "code",
   "execution_count": null,
   "metadata": {},
   "outputs": [],
   "source": []
  },
  {
   "cell_type": "code",
   "execution_count": 59,
   "metadata": {},
   "outputs": [
    {
     "data": {
      "text/html": [
       "<div>\n",
       "<style scoped>\n",
       "    .dataframe tbody tr th:only-of-type {\n",
       "        vertical-align: middle;\n",
       "    }\n",
       "\n",
       "    .dataframe tbody tr th {\n",
       "        vertical-align: top;\n",
       "    }\n",
       "\n",
       "    .dataframe thead th {\n",
       "        text-align: right;\n",
       "    }\n",
       "</style>\n",
       "<table border=\"1\" class=\"dataframe\">\n",
       "  <thead>\n",
       "    <tr style=\"text-align: right;\">\n",
       "      <th></th>\n",
       "      <th>content</th>\n",
       "      <th>label</th>\n",
       "      <th>clean_text</th>\n",
       "      <th>word_count</th>\n",
       "    </tr>\n",
       "  </thead>\n",
       "  <tbody>\n",
       "    <tr>\n",
       "      <th>5470</th>\n",
       "      <td>Two dozen protesters greeted Mayor Tony Willia...</td>\n",
       "      <td>Business</td>\n",
       "      <td>[dozen, protester, greet, mayor, tony, william...</td>\n",
       "      <td>23</td>\n",
       "    </tr>\n",
       "    <tr>\n",
       "      <th>1396</th>\n",
       "      <td>The CEO of Molson Inc. raised doubts about his...</td>\n",
       "      <td>Business</td>\n",
       "      <td>[ceo, molson, raise, doubt, company, deal, ado...</td>\n",
       "      <td>39</td>\n",
       "    </tr>\n",
       "    <tr>\n",
       "      <th>2672</th>\n",
       "      <td>Reuters - Pepsi Bottling Group Inc. , the\\larg...</td>\n",
       "      <td>Business</td>\n",
       "      <td>[reuters, pepsi, bottle, group, large, bottler...</td>\n",
       "      <td>26</td>\n",
       "    </tr>\n",
       "    <tr>\n",
       "      <th>6180</th>\n",
       "      <td>In these times of financial wrongdoing and sub...</td>\n",
       "      <td>Business</td>\n",
       "      <td>[time, financial, wrongdoing, subsequent, syst...</td>\n",
       "      <td>23</td>\n",
       "    </tr>\n",
       "    <tr>\n",
       "      <th>6862</th>\n",
       "      <td>The U.S. dollar fell to another new low agains...</td>\n",
       "      <td>Business</td>\n",
       "      <td>[dollar, fell, new, low, euro, friday, push, e...</td>\n",
       "      <td>28</td>\n",
       "    </tr>\n",
       "  </tbody>\n",
       "</table>\n",
       "</div>"
      ],
      "text/plain": [
       "                                                content     label  \\\n",
       "5470  Two dozen protesters greeted Mayor Tony Willia...  Business   \n",
       "1396  The CEO of Molson Inc. raised doubts about his...  Business   \n",
       "2672  Reuters - Pepsi Bottling Group Inc. , the\\larg...  Business   \n",
       "6180  In these times of financial wrongdoing and sub...  Business   \n",
       "6862  The U.S. dollar fell to another new low agains...  Business   \n",
       "\n",
       "                                             clean_text  word_count  \n",
       "5470  [dozen, protester, greet, mayor, tony, william...          23  \n",
       "1396  [ceo, molson, raise, doubt, company, deal, ado...          39  \n",
       "2672  [reuters, pepsi, bottle, group, large, bottler...          26  \n",
       "6180  [time, financial, wrongdoing, subsequent, syst...          23  \n",
       "6862  [dollar, fell, new, low, euro, friday, push, e...          28  "
      ]
     },
     "execution_count": 59,
     "metadata": {},
     "output_type": "execute_result"
    }
   ],
   "source": [
    "df_business.head()"
   ]
  },
  {
   "cell_type": "code",
   "execution_count": 60,
   "metadata": {},
   "outputs": [
    {
     "data": {
      "image/png": "[encoded data removed]",
      "text/plain": [
       "<Figure size 864x720 with 4 Axes>"
      ]
     },
     "metadata": {
      "needs_background": "light"
     },
     "output_type": "display_data"
    }
   ],
   "source": [
    "#Plot the distribution of word count by headline\n",
    "\n",
    "fig, ax = plt.subplots(2, 2, figsize = (12,10)) # 4 subplots, one for each class\n",
    "fig.suptitle('Distribution of Word Count by Category', fontsize=15) # super title\n",
    "\n",
    "bins = 30\n",
    "\n",
    "ax[0, 0].hist(df_business['word_count'], bins = bins, color = '#41924F')\n",
    "ax[0, 0].set_title('Business Category', fontsize = 13)\n",
    "ax[0, 0].set_xlim(0, 150)\n",
    "\n",
    "ax[1, 0].hist(df_scitech['word_count'], bins = bins, color = '#FFC300')\n",
    "ax[1, 0].set_title('SciTech Category', fontsize = 13)\n",
    "ax[1, 0].set_xlim(0, 150)\n",
    "\n",
    "ax[0, 1].hist(df_sports['word_count'], bins = bins, color = '#a98ff3')\n",
    "ax[0, 1].set_title('Sports Category', fontsize = 13)\n",
    "ax[0, 1].set_xlim(0, 150)\n",
    "\n",
    "ax[1, 1].hist(df_world['word_count'], bins = bins, color = '#59C7EA')\n",
    "ax[1, 1].set_title('World Category', fontsize = 13)\n",
    "ax[1, 1].set_xlim(0, 150)\n",
    "\n",
    "plt.show()"
   ]
  },
  {
   "cell_type": "markdown",
   "metadata": {},
   "source": [
    "- Expected word count is About 30 words in each headline for each class\n",
    "- A few really long headlines for sports\n",
    "- Normally distributed, slightly right skewed"
   ]
  },
  {
   "cell_type": "markdown",
   "metadata": {},
   "source": [
    "## Represent headlines with tf-idf vectors"
   ]
  },
  {
   "cell_type": "code",
   "execution_count": 61,
   "metadata": {},
   "outputs": [
    {
     "data": {
      "text/html": [
       "<div>\n",
       "<style scoped>\n",
       "    .dataframe tbody tr th:only-of-type {\n",
       "        vertical-align: middle;\n",
       "    }\n",
       "\n",
       "    .dataframe tbody tr th {\n",
       "        vertical-align: top;\n",
       "    }\n",
       "\n",
       "    .dataframe thead th {\n",
       "        text-align: right;\n",
       "    }\n",
       "</style>\n",
       "<table border=\"1\" class=\"dataframe\">\n",
       "  <thead>\n",
       "    <tr style=\"text-align: right;\">\n",
       "      <th></th>\n",
       "      <th>content</th>\n",
       "      <th>label</th>\n",
       "      <th>clean_text</th>\n",
       "      <th>word_count</th>\n",
       "      <th>label_num</th>\n",
       "    </tr>\n",
       "  </thead>\n",
       "  <tbody>\n",
       "    <tr>\n",
       "      <th>5470</th>\n",
       "      <td>Two dozen protesters greeted Mayor Tony Willia...</td>\n",
       "      <td>Business</td>\n",
       "      <td>[dozen, protester, greet, mayor, tony, william...</td>\n",
       "      <td>23</td>\n",
       "      <td>0</td>\n",
       "    </tr>\n",
       "    <tr>\n",
       "      <th>1396</th>\n",
       "      <td>The CEO of Molson Inc. raised doubts about his...</td>\n",
       "      <td>Business</td>\n",
       "      <td>[ceo, molson, raise, doubt, company, deal, ado...</td>\n",
       "      <td>39</td>\n",
       "      <td>0</td>\n",
       "    </tr>\n",
       "    <tr>\n",
       "      <th>2672</th>\n",
       "      <td>Reuters - Pepsi Bottling Group Inc. , the\\larg...</td>\n",
       "      <td>Business</td>\n",
       "      <td>[reuters, pepsi, bottle, group, large, bottler...</td>\n",
       "      <td>26</td>\n",
       "      <td>0</td>\n",
       "    </tr>\n",
       "    <tr>\n",
       "      <th>6180</th>\n",
       "      <td>In these times of financial wrongdoing and sub...</td>\n",
       "      <td>Business</td>\n",
       "      <td>[time, financial, wrongdoing, subsequent, syst...</td>\n",
       "      <td>23</td>\n",
       "      <td>0</td>\n",
       "    </tr>\n",
       "    <tr>\n",
       "      <th>6862</th>\n",
       "      <td>The U.S. dollar fell to another new low agains...</td>\n",
       "      <td>Business</td>\n",
       "      <td>[dollar, fell, new, low, euro, friday, push, e...</td>\n",
       "      <td>28</td>\n",
       "      <td>0</td>\n",
       "    </tr>\n",
       "  </tbody>\n",
       "</table>\n",
       "</div>"
      ],
      "text/plain": [
       "                                                content     label  \\\n",
       "5470  Two dozen protesters greeted Mayor Tony Willia...  Business   \n",
       "1396  The CEO of Molson Inc. raised doubts about his...  Business   \n",
       "2672  Reuters - Pepsi Bottling Group Inc. , the\\larg...  Business   \n",
       "6180  In these times of financial wrongdoing and sub...  Business   \n",
       "6862  The U.S. dollar fell to another new low agains...  Business   \n",
       "\n",
       "                                             clean_text  word_count  label_num  \n",
       "5470  [dozen, protester, greet, mayor, tony, william...          23          0  \n",
       "1396  [ceo, molson, raise, doubt, company, deal, ado...          39          0  \n",
       "2672  [reuters, pepsi, bottle, group, large, bottler...          26          0  \n",
       "6180  [time, financial, wrongdoing, subsequent, syst...          23          0  \n",
       "6862  [dollar, fell, new, low, euro, friday, push, e...          28          0  "
      ]
     },
     "execution_count": 61,
     "metadata": {},
     "output_type": "execute_result"
    }
   ],
   "source": [
    "df.head()"
   ]
  },
  {
   "cell_type": "code",
   "execution_count": 62,
   "metadata": {},
   "outputs": [],
   "source": [
    "# Creating the features (tf-idf weights) for the processed text\n",
    "texts = df['clean_text']"
   ]
  },
  {
   "cell_type": "code",
   "execution_count": 63,
   "metadata": {},
   "outputs": [
    {
     "data": {
      "text/plain": [
       "5470    [dozen, protester, greet, mayor, tony, william...\n",
       "1396    [ceo, molson, raise, doubt, company, deal, ado...\n",
       "2672    [reuters, pepsi, bottle, group, large, bottler...\n",
       "6180    [time, financial, wrongdoing, subsequent, syst...\n",
       "6862    [dollar, fell, new, low, euro, friday, push, e...\n",
       "                              ...                        \n",
       "7585    [billion, drug, industry, stumble, badly, core...\n",
       "7591    [canadian, press, banja, luka, bosnia-herzegov...\n",
       "7592    [european, union's, decision, hold, entry, tal...\n",
       "7594    [washington, outgo, secretary, state, colin, l...\n",
       "7595    [ukrainian, presidential, candidate, viktor, y...\n",
       "Name: clean_text, Length: 5570, dtype: object"
      ]
     },
     "execution_count": 63,
     "metadata": {},
     "output_type": "execute_result"
    }
   ],
   "source": [
    "texts"
   ]
  },
  {
   "cell_type": "code",
   "execution_count": 64,
   "metadata": {},
   "outputs": [
    {
     "data": {
      "text/plain": [
       "(5570,)"
      ]
     },
     "execution_count": 64,
     "metadata": {},
     "output_type": "execute_result"
    }
   ],
   "source": [
    "texts.shape"
   ]
  },
  {
   "cell_type": "code",
   "execution_count": 65,
   "metadata": {
    "scrolled": false
   },
   "outputs": [
    {
     "data": {
      "text/plain": [
       "pandas.core.series.Series"
      ]
     },
     "execution_count": 65,
     "metadata": {},
     "output_type": "execute_result"
    }
   ],
   "source": [
    "type(texts)"
   ]
  },
  {
   "cell_type": "code",
   "execution_count": 66,
   "metadata": {},
   "outputs": [],
   "source": [
    "texts = texts.astype('str') # convert from list to str"
   ]
  },
  {
   "cell_type": "code",
   "execution_count": 67,
   "metadata": {},
   "outputs": [
    {
     "data": {
      "text/plain": [
       "5470    ['dozen', 'protester', 'greet', 'mayor', 'tony...\n",
       "1396    ['ceo', 'molson', 'raise', 'doubt', 'company',...\n",
       "2672    ['reuters', 'pepsi', 'bottle', 'group', 'large...\n",
       "6180    ['time', 'financial', 'wrongdoing', 'subsequen...\n",
       "6862    ['dollar', 'fell', 'new', 'low', 'euro', 'frid...\n",
       "                              ...                        \n",
       "7585    ['billion', 'drug', 'industry', 'stumble', 'ba...\n",
       "7591    ['canadian', 'press', 'banja', 'luka', 'bosnia...\n",
       "7592    ['european', \"union's\", 'decision', 'hold', 'e...\n",
       "7594    ['washington', 'outgo', 'secretary', 'state', ...\n",
       "7595    ['ukrainian', 'presidential', 'candidate', 'vi...\n",
       "Name: clean_text, Length: 5570, dtype: object"
      ]
     },
     "execution_count": 67,
     "metadata": {},
     "output_type": "execute_result"
    }
   ],
   "source": [
    "texts"
   ]
  },
  {
   "cell_type": "code",
   "execution_count": 68,
   "metadata": {},
   "outputs": [],
   "source": [
    "# Init the tf-idf vectorizer\n",
    "tfidf_vectorizer = TfidfVectorizer(ngram_range=(1, 2), \n",
    "                                   min_df = 2, \n",
    "                                   max_df = .95)"
   ]
  },
  {
   "cell_type": "code",
   "execution_count": 69,
   "metadata": {},
   "outputs": [],
   "source": [
    "# Train the tf-idf vectorizer and fit to the clean texts (a series of a list of strings)\n",
    "# I will use the tf-idf representation of headlines as my features\n",
    "\n",
    "X = tfidf_vectorizer.fit_transform(texts)"
   ]
  },
  {
   "cell_type": "code",
   "execution_count": 70,
   "metadata": {},
   "outputs": [
    {
     "data": {
      "text/plain": [
       "(5570, 15095)"
      ]
     },
     "execution_count": 70,
     "metadata": {},
     "output_type": "execute_result"
    }
   ],
   "source": [
    "X.shape"
   ]
  },
  {
   "cell_type": "code",
   "execution_count": 71,
   "metadata": {
    "scrolled": true
   },
   "outputs": [
    {
     "data": {
      "text/plain": [
       "<5570x15095 sparse matrix of type '<class 'numpy.float64'>'\n",
       "\twith 116508 stored elements in Compressed Sparse Row format>"
      ]
     },
     "execution_count": 71,
     "metadata": {},
     "output_type": "execute_result"
    }
   ],
   "source": [
    "X"
   ]
  },
  {
   "cell_type": "code",
   "execution_count": 72,
   "metadata": {},
   "outputs": [
    {
     "data": {
      "text/plain": [
       "array([0, 0, 0, ..., 3, 3, 3])"
      ]
     },
     "execution_count": 72,
     "metadata": {},
     "output_type": "execute_result"
    }
   ],
   "source": [
    "# The response variable is the label_nums\n",
    "y = df['label_num'].values \n",
    "y"
   ]
  },
  {
   "cell_type": "code",
   "execution_count": 73,
   "metadata": {},
   "outputs": [
    {
     "data": {
      "text/plain": [
       "(5570, 100)"
      ]
     },
     "execution_count": 73,
     "metadata": {},
     "output_type": "execute_result"
    }
   ],
   "source": [
    "# Use TruncatedSVD to perform dimensionality reduction-- I only use 100 features instead of 15053\n",
    "\n",
    "# Init the TruncatedSVD model\n",
    "#Dimenionality reduction. Only using the 100 best features er category\n",
    "lsa = TruncatedSVD(n_components=100, \n",
    "                   n_iter=10, \n",
    "                   random_state=3)\n",
    "\n",
    "X = lsa.fit_transform(X)\n",
    "X.shape"
   ]
  },
  {
   "cell_type": "code",
   "execution_count": 74,
   "metadata": {},
   "outputs": [
    {
     "data": {
      "text/plain": [
       "array([[ 0.0542253 ,  0.0162396 ,  0.00784363, ...,  0.01205632,\n",
       "        -0.03939137, -0.02318441],\n",
       "       [ 0.0787592 , -0.01858469,  0.12446453, ...,  0.00664744,\n",
       "        -0.00224369, -0.00602344],\n",
       "       [ 0.09916859, -0.00132683, -0.06242924, ..., -0.02186757,\n",
       "        -0.00705983, -0.03957862],\n",
       "       ...,\n",
       "       [ 0.06361298,  0.03830982,  0.01214506, ...,  0.02226893,\n",
       "         0.02394338,  0.00766128],\n",
       "       [ 0.11943466,  0.11599238,  0.01916947, ..., -0.02405913,\n",
       "        -0.03886613, -0.0638558 ],\n",
       "       [ 0.03700385,  0.03025244, -0.00017581, ..., -0.08027851,\n",
       "        -0.00124353,  0.01926451]])"
      ]
     },
     "execution_count": 74,
     "metadata": {},
     "output_type": "execute_result"
    }
   ],
   "source": [
    "X"
   ]
  },
  {
   "cell_type": "markdown",
   "metadata": {},
   "source": [
    "**At this point, I will perform train_test split, modelling, and optimization as I would do with numeric data**"
   ]
  },
  {
   "cell_type": "markdown",
   "metadata": {},
   "source": [
    "**Aside, dict.itmes() in Python**"
   ]
  },
  {
   "cell_type": "code",
   "execution_count": 75,
   "metadata": {},
   "outputs": [],
   "source": [
    "test = {'A':1, 'B':3, 'C': 5}"
   ]
  },
  {
   "cell_type": "code",
   "execution_count": 80,
   "metadata": {},
   "outputs": [
    {
     "data": {
      "text/plain": [
       "dict_items([('A', 1), ('B', 3), ('C', 5)])"
      ]
     },
     "execution_count": 80,
     "metadata": {},
     "output_type": "execute_result"
    }
   ],
   "source": [
    "test.items() # a list of tuples of the key and value of my dict"
   ]
  },
  {
   "cell_type": "code",
   "execution_count": null,
   "metadata": {},
   "outputs": [],
   "source": []
  },
  {
   "cell_type": "markdown",
   "metadata": {},
   "source": [
    "## Modelling"
   ]
  },
  {
   "cell_type": "markdown",
   "metadata": {},
   "source": [
    "**Train-test split**"
   ]
  },
  {
   "cell_type": "code",
   "execution_count": 87,
   "metadata": {},
   "outputs": [],
   "source": [
    "# Train test split with stratified sampling for evaluation\n",
    "# Ensure that each class have the same proportion of sample with stratify = y \n",
    "X_train, X_test, y_train, y_test = train_test_split(X, y, test_size = 0.3, stratify = y, random_state = 10)"
   ]
  },
  {
   "cell_type": "markdown",
   "metadata": {},
   "source": [
    "**Modelling**"
   ]
  },
  {
   "cell_type": "code",
   "execution_count": null,
   "metadata": {},
   "outputs": [],
   "source": [
    "from sklearn.linear_model import SGDClassifier\n",
    "from sklearn.neighbors import KNeighborsClassifier\n",
    "from sklearn.naive_bayes import GaussianNB\n",
    "from sklearn.ensemble import RandomForestClassifier, AdaBoostClassifier\n"
   ]
  },
  {
   "cell_type": "code",
   "execution_count": 91,
   "metadata": {},
   "outputs": [],
   "source": [
    "models = {'Stochastic Gradient Descent' : SGDClassifier(random_state=10, loss='log'),\n",
    "          'KNN': KNeighborsClassifier(),\n",
    "          'Gaussian Naive Bayes': GaussianNB(),\n",
    "          'Random Forest': RandomForestClassifier(random_state=10),\n",
    "          'AdaBoost': AdaBoostClassifier(random_state=10)}"
   ]
  },
  {
   "cell_type": "code",
   "execution_count": 103,
   "metadata": {},
   "outputs": [],
   "source": [
    "# Function to get the scores for each model in a df\n",
    "def model_score(model_dict):   \n",
    "    model_name, acc_score_list, precision_score_list, recall_score_list, f1_score_list = [], [], [], [], []\n",
    "    \n",
    "    for k,v in model_dict.items():   \n",
    "        \n",
    "        model_name.append(k)\n",
    "        \n",
    "        # Train model and make predictions\n",
    "        v.fit(X_train, y_train)\n",
    "        y_pred = v.predict(X_test)\n",
    "        \n",
    "        # Model performance\n",
    "        acc_score_list.append(accuracy_score(y_test, y_pred))\n",
    "        # compute precision of each class and take average\n",
    "        precision_score_list.append(precision_score(y_test, y_pred, average='macro')) \n",
    "        recall_score_list.append(recall_score(y_test, y_pred, average='macro'))\n",
    "        f1_score_list.append(f1_score(y_test, y_pred, average='macro'))\n",
    "        \n",
    "        # Organize metrics for each model in a DataFrame\n",
    "        model_comparison_df = pd.DataFrame(list(zip(model_name, acc_score_list, precision_score_list, \n",
    "                                            recall_score_list, f1_score_list)), \n",
    "                                            columns= ['model_name', 'accuracy_score', 'precision_score', \n",
    "                                                      'recall_score', 'f1_score'])\n",
    "        # sort by f1_score\n",
    "        model_comparison_df = model_comparison_df.sort_values(by='f1_score', ascending=False)\n",
    "   \n",
    "    return model_comparison_df"
   ]
  },
  {
   "cell_type": "code",
   "execution_count": 104,
   "metadata": {},
   "outputs": [
    {
     "data": {
      "text/html": [
       "<div>\n",
       "<style scoped>\n",
       "    .dataframe tbody tr th:only-of-type {\n",
       "        vertical-align: middle;\n",
       "    }\n",
       "\n",
       "    .dataframe tbody tr th {\n",
       "        vertical-align: top;\n",
       "    }\n",
       "\n",
       "    .dataframe thead th {\n",
       "        text-align: right;\n",
       "    }\n",
       "</style>\n",
       "<table border=\"1\" class=\"dataframe\">\n",
       "  <thead>\n",
       "    <tr style=\"text-align: right;\">\n",
       "      <th></th>\n",
       "      <th>model_name</th>\n",
       "      <th>accuracy_score</th>\n",
       "      <th>precision_score</th>\n",
       "      <th>recall_score</th>\n",
       "      <th>f1_score</th>\n",
       "    </tr>\n",
       "  </thead>\n",
       "  <tbody>\n",
       "    <tr>\n",
       "      <th>3</th>\n",
       "      <td>Random Forest</td>\n",
       "      <td>0.806104</td>\n",
       "      <td>0.803119</td>\n",
       "      <td>0.781084</td>\n",
       "      <td>0.790546</td>\n",
       "    </tr>\n",
       "    <tr>\n",
       "      <th>0</th>\n",
       "      <td>Stochastic Gradient Descent</td>\n",
       "      <td>0.812089</td>\n",
       "      <td>0.823548</td>\n",
       "      <td>0.765622</td>\n",
       "      <td>0.785545</td>\n",
       "    </tr>\n",
       "    <tr>\n",
       "      <th>4</th>\n",
       "      <td>AdaBoost</td>\n",
       "      <td>0.753441</td>\n",
       "      <td>0.749890</td>\n",
       "      <td>0.745865</td>\n",
       "      <td>0.746634</td>\n",
       "    </tr>\n",
       "    <tr>\n",
       "      <th>1</th>\n",
       "      <td>KNN</td>\n",
       "      <td>0.739677</td>\n",
       "      <td>0.735836</td>\n",
       "      <td>0.722765</td>\n",
       "      <td>0.725257</td>\n",
       "    </tr>\n",
       "    <tr>\n",
       "      <th>2</th>\n",
       "      <td>Gaussian Naive Bayes</td>\n",
       "      <td>0.675045</td>\n",
       "      <td>0.666581</td>\n",
       "      <td>0.685847</td>\n",
       "      <td>0.655649</td>\n",
       "    </tr>\n",
       "  </tbody>\n",
       "</table>\n",
       "</div>"
      ],
      "text/plain": [
       "                    model_name  accuracy_score  precision_score  recall_score  \\\n",
       "3                Random Forest        0.806104         0.803119      0.781084   \n",
       "0  Stochastic Gradient Descent        0.812089         0.823548      0.765622   \n",
       "4                     AdaBoost        0.753441         0.749890      0.745865   \n",
       "1                          KNN        0.739677         0.735836      0.722765   \n",
       "2         Gaussian Naive Bayes        0.675045         0.666581      0.685847   \n",
       "\n",
       "   f1_score  \n",
       "3  0.790546  \n",
       "0  0.785545  \n",
       "4  0.746634  \n",
       "1  0.725257  \n",
       "2  0.655649  "
      ]
     },
     "execution_count": 104,
     "metadata": {},
     "output_type": "execute_result"
    }
   ],
   "source": [
    "model_score(models)"
   ]
  },
  {
   "cell_type": "code",
   "execution_count": null,
   "metadata": {},
   "outputs": [],
   "source": []
  },
  {
   "cell_type": "markdown",
   "metadata": {},
   "source": [
    "## Model Optimization\n",
    "- I will pick the top 2 models: Random Froest, and SGD to optimize."
   ]
  },
  {
   "cell_type": "code",
   "execution_count": 123,
   "metadata": {},
   "outputs": [],
   "source": [
    "# A dict with model name and object\n",
    "models = {'SGD': SGDClassifier(loss = 'log'),\n",
    "          'RandomForestClassifier': RandomForestClassifier(min_samples_leaf=1, max_features='auto')}"
   ]
  },
  {
   "cell_type": "code",
   "execution_count": 125,
   "metadata": {},
   "outputs": [],
   "source": [
    "# Use a dictionary of dictionaries to set grid params for logreg and rf\n",
    "params = {\n",
    "    'SGD':  {\n",
    "        \"penalty\": ['l2', 'l1'],\n",
    "        \"alpha\":  [1e-6, 1e-3, 1e-1, 1e0],\n",
    "        \"max_iter\":  [5, 1000, 5000],\n",
    "        \"eta0\": [0.1, 0.001]\n",
    "        },\n",
    "    \n",
    "    'RandomForestClassifier':  { \n",
    "        \"n_estimators\" : [1400, 1500],\n",
    "        \"max_depth\"    : [10,50],\n",
    "        \"min_samples_split\": [5,10]\n",
    "    }\n",
    "\n",
    "}"
   ]
  },
  {
   "cell_type": "markdown",
   "metadata": {},
   "source": [
    "**GridSearchCV**"
   ]
  },
  {
   "cell_type": "code",
   "execution_count": 152,
   "metadata": {},
   "outputs": [],
   "source": [
    "from sklearn.model_selection import GridSearchCV"
   ]
  },
  {
   "cell_type": "code",
   "execution_count": 153,
   "metadata": {},
   "outputs": [],
   "source": [
    "def fit_assess(X_train, y_train):\n",
    "    \"\"\" \n",
    "    Fit a list of models with the training data one at a time and obtain \n",
    "    models with the best parameters (have the lowest test error from CV)\n",
    "    \"\"\"\n",
    "    best_estimators = [] # a list of \"best\" estimators: a best SVD, a best rf and a best adb\n",
    "    \n",
    "    for name in models.keys():\n",
    "        est = models[name]  # initial model object\n",
    "        est_params = params[name] # parameters for the model\n",
    "        gscv = GridSearchCV(estimator=est, \n",
    "                            param_grid=est_params, \n",
    "                            cv=5,\n",
    "                            verbose = 2,\n",
    "                            n_jobs=-1)  #GridSearchCV model\n",
    "        gscv.fit(X_train, y_train)\n",
    "        print(\"The best parameters are: {}\".format(gscv.best_params_))\n",
    "        \n",
    "        # a list of estimator with the \"best\" parameters that result in the highest test accuracy\n",
    "        best_estimators.append(gscv) \n",
    "\n",
    "    return best_estimators"
   ]
  },
  {
   "cell_type": "code",
   "execution_count": 154,
   "metadata": {},
   "outputs": [
    {
     "name": "stdout",
     "output_type": "stream",
     "text": [
      "Fitting 5 folds for each of 48 candidates, totalling 240 fits\n"
     ]
    },
    {
     "name": "stderr",
     "output_type": "stream",
     "text": [
      "[Parallel(n_jobs=-1)]: Using backend LokyBackend with 4 concurrent workers.\n",
      "[Parallel(n_jobs=-1)]: Done  33 tasks      | elapsed:    9.6s\n",
      "[Parallel(n_jobs=-1)]: Done 154 tasks      | elapsed:   20.9s\n",
      "[Parallel(n_jobs=-1)]: Done 240 out of 240 | elapsed:   24.6s finished\n"
     ]
    },
    {
     "name": "stdout",
     "output_type": "stream",
     "text": [
      "The best parameters are: {'alpha': 1e-06, 'eta0': 0.001, 'max_iter': 5000, 'penalty': 'l2'}\n",
      "Fitting 5 folds for each of 8 candidates, totalling 40 fits\n"
     ]
    },
    {
     "name": "stderr",
     "output_type": "stream",
     "text": [
      "[Parallel(n_jobs=-1)]: Using backend LokyBackend with 4 concurrent workers.\n",
      "[Parallel(n_jobs=-1)]: Done  33 tasks      | elapsed:  8.7min\n",
      "[Parallel(n_jobs=-1)]: Done  40 out of  40 | elapsed: 10.1min finished\n"
     ]
    },
    {
     "name": "stdout",
     "output_type": "stream",
     "text": [
      "The best parameters are: {'max_depth': 50, 'min_samples_split': 5, 'n_estimators': 1400}\n"
     ]
    }
   ],
   "source": [
    "execute = True\n",
    "if execute:\n",
    "    best_models=fit_assess(X_train,y_train)"
   ]
  },
  {
   "cell_type": "code",
   "execution_count": 155,
   "metadata": {},
   "outputs": [],
   "source": [
    "# save the best models to disk\n",
    "pickle.dump(best_models[0], open('saved_models/best_sgd_model.sav', 'wb'))\n",
    "pickle.dump(best_models[1], open('saved_models/best_rf_model.sav', 'wb'))"
   ]
  },
  {
   "cell_type": "code",
   "execution_count": 156,
   "metadata": {},
   "outputs": [],
   "source": [
    "# load the model from disk\n",
    "best_models[0] = pickle.load(open('saved_models/best_sgd_model.sav', 'rb'))\n",
    "best_models[1] = pickle.load(open('saved_models/best_rf_model.sav', 'rb'))"
   ]
  },
  {
   "cell_type": "markdown",
   "metadata": {},
   "source": [
    "**Armed with the optimized models from GridSearchCV, I can choose the \"best\" statistical learning approach based on highest AUC score (on the test dataset)**"
   ]
  },
  {
   "cell_type": "code",
   "execution_count": 163,
   "metadata": {},
   "outputs": [
    {
     "name": "stdout",
     "output_type": "stream",
     "text": [
      "\n",
      "\n",
      "SGD\n",
      "Best parameters are: {'alpha': 1e-06, 'eta0': 0.001, 'max_iter': 5000, 'penalty': 'l2'}\n",
      "Best estimated test accuracy (from CV): 0.8107228201836675\n",
      "The f1 score of the model with the best parameters (on the test dataset): 0.8078031056594472\n",
      "\n",
      "\n",
      "RandomForestClassifier\n",
      "Best parameters are: {'max_depth': 50, 'min_samples_split': 5, 'n_estimators': 1400}\n",
      "Best estimated test accuracy (from CV): 0.8158480629340706\n",
      "The f1 score of the model with the best parameters (on the test dataset): 0.7968010416846764\n",
      "\n",
      " The best statistical learning approach (on the test dataset) is SGD\n"
     ]
    }
   ],
   "source": [
    "best_f1=0\n",
    "best_gs = ''\n",
    "\n",
    "for i, gs in enumerate(best_models):\n",
    "    \n",
    "    # Get best parameters\n",
    "    print(\"\\n\")\n",
    "    print(list(models.keys())[i])\n",
    "    print(\"Best parameters are: {}\".format(gs.best_params_))\n",
    "    \n",
    "    # Get best score (from CV)\n",
    "    print(\"Best estimated test accuracy (from CV): {}\".format(gs.best_score_))\n",
    "    \n",
    "    # test predictions \n",
    "    y_pred = gs.predict(X_test)\n",
    "    \n",
    "    print(\"The f1 score of the model with the best parameters (on the test dataset): {}\".format(f1_score(y_test,y_pred,\n",
    "                                                                                                        average='macro')))\n",
    "    \n",
    "    # Get the best statistical learning approach\n",
    "    if f1_score(y_test,y_pred, average = 'macro') >= best_f1:\n",
    "        best_f1 = f1_score(y_test,y_pred, average='macro')  # update best f1 score\n",
    "        best_gs = gs  # update the best statistical learning approach\n",
    "        best_clf_index = i\n",
    "        \n",
    "\n",
    "print(\"\\n The best statistical learning approach (on the test dataset) is {}\".format(list(models.keys())[best_clf_index]))"
   ]
  },
  {
   "cell_type": "code",
   "execution_count": null,
   "metadata": {},
   "outputs": [],
   "source": []
  },
  {
   "cell_type": "markdown",
   "metadata": {},
   "source": [
    "## Plot AUC- SGD"
   ]
  },
  {
   "cell_type": "code",
   "execution_count": 167,
   "metadata": {},
   "outputs": [],
   "source": [
    "#Plot AUC - SGD\n",
    "\n",
    "#Binarize the labels\n",
    "y_b = label_binarize(y, classes = [0, 1, 2, 3])\n",
    "n_classes = y_b.shape[1] # y is now an array of array"
   ]
  },
  {
   "cell_type": "code",
   "execution_count": 168,
   "metadata": {},
   "outputs": [
    {
     "data": {
      "text/plain": [
       "array([[1, 0, 0, 0],\n",
       "       [1, 0, 0, 0],\n",
       "       [1, 0, 0, 0],\n",
       "       ...,\n",
       "       [0, 0, 0, 1],\n",
       "       [0, 0, 0, 1],\n",
       "       [0, 0, 0, 1]])"
      ]
     },
     "execution_count": 168,
     "metadata": {},
     "output_type": "execute_result"
    }
   ],
   "source": [
    "y_b"
   ]
  },
  {
   "cell_type": "code",
   "execution_count": 171,
   "metadata": {},
   "outputs": [
    {
     "data": {
      "text/plain": [
       "(5570, 4)"
      ]
     },
     "execution_count": 171,
     "metadata": {},
     "output_type": "execute_result"
    }
   ],
   "source": [
    "y_b.shape"
   ]
  },
  {
   "cell_type": "code",
   "execution_count": 172,
   "metadata": {},
   "outputs": [],
   "source": [
    "#Shuffle and split training and test sets with stratified sampling and binarized labels\n",
    "X_train_b, X_test_b, y_train_b, y_test_b = train_test_split(X, y_b,\n",
    "                                                            test_size = 0.3,\n",
    "                                                            shuffle = True,\n",
    "                                                            stratify = y,\n",
    "                                                            random_state = 10)\n"
   ]
  },
  {
   "cell_type": "code",
   "execution_count": 174,
   "metadata": {},
   "outputs": [],
   "source": [
    "from sklearn.multiclass import OneVsRestClassifier"
   ]
  },
  {
   "cell_type": "code",
   "execution_count": 176,
   "metadata": {},
   "outputs": [
    {
     "data": {
      "text/plain": [
       "OneVsRestClassifier(estimator=SGDClassifier(alpha=1e-06, average=False,\n",
       "                                            class_weight=None,\n",
       "                                            early_stopping=False, epsilon=0.1,\n",
       "                                            eta0=0.001, fit_intercept=True,\n",
       "                                            l1_ratio=0.15,\n",
       "                                            learning_rate='optimal', loss='log',\n",
       "                                            max_iter=5000, n_iter_no_change=5,\n",
       "                                            n_jobs=None, penalty='l2',\n",
       "                                            power_t=0.5, random_state=None,\n",
       "                                            shuffle=True, tol=0.001,\n",
       "                                            validation_fraction=0.1, verbose=0,\n",
       "                                            warm_start=False),\n",
       "                    n_jobs=None)"
      ]
     },
     "execution_count": 176,
     "metadata": {},
     "output_type": "execute_result"
    }
   ],
   "source": [
    "#Learn to predict each class against the other\n",
    "sgd_classifier = OneVsRestClassifier(best_models[0].best_estimator_)\n",
    "# Train the model with the best parameters\n",
    "sgd_classifier.fit(X_train_b, y_train_b)"
   ]
  },
  {
   "cell_type": "code",
   "execution_count": 181,
   "metadata": {},
   "outputs": [],
   "source": [
    "# Get the z-score (proba) of each class\n",
    "z_score = sgd_classifier.predict_proba(X_test_b)"
   ]
  },
  {
   "cell_type": "code",
   "execution_count": 182,
   "metadata": {},
   "outputs": [
    {
     "data": {
      "text/plain": [
       "array([[4.56378920e-01, 2.16250702e-02, 1.53676715e-01, 6.93932199e-03],\n",
       "       [2.28715741e-03, 9.99912363e-01, 9.47295335e-06, 4.02738193e-07],\n",
       "       [1.04662867e-01, 5.45692497e-02, 1.97296196e-02, 5.54287502e-01],\n",
       "       ...,\n",
       "       [3.00515915e-01, 9.13014068e-01, 4.55240948e-07, 4.40980679e-03],\n",
       "       [2.76347823e-03, 9.99602385e-01, 4.18482286e-04, 1.67610459e-03],\n",
       "       [1.29949312e-03, 9.99595976e-01, 2.51235749e-03, 2.05754014e-03]])"
      ]
     },
     "execution_count": 182,
     "metadata": {},
     "output_type": "execute_result"
    }
   ],
   "source": [
    "z_score"
   ]
  },
  {
   "cell_type": "code",
   "execution_count": 184,
   "metadata": {},
   "outputs": [],
   "source": [
    "#C ompute ROC curve and ROC area for EACH class\n",
    "fpr = dict()\n",
    "tpr = dict()\n",
    "roc_auc = dict()\n",
    "\n",
    "for i in range(n_classes): \n",
    "    fpr[i], tpr[i], _ = roc_curve(y_test_b[:, i], z_score[:, i]) # get fpr and tpr one class at a time\n",
    "    roc_auc[i] = auc(fpr[i], tpr[i])"
   ]
  },
  {
   "cell_type": "code",
   "execution_count": 185,
   "metadata": {},
   "outputs": [
    {
     "data": {
      "text/plain": [
       "{0: array([0.00000000e+00, 0.00000000e+00, 0.00000000e+00, 7.28332119e-04,\n",
       "        7.28332119e-04, 1.45666424e-03, 1.45666424e-03, 2.18499636e-03,\n",
       "        2.18499636e-03, 2.91332848e-03, 2.91332848e-03, 5.82665696e-03,\n",
       "        5.82665696e-03, 7.28332119e-03, 7.28332119e-03, 8.73998543e-03,\n",
       "        8.73998543e-03, 1.09249818e-02, 1.09249818e-02, 1.16533139e-02,\n",
       "        1.16533139e-02, 1.23816460e-02, 1.23816460e-02, 1.31099782e-02,\n",
       "        1.31099782e-02, 1.38383103e-02, 1.38383103e-02, 1.45666424e-02,\n",
       "        1.45666424e-02, 1.52949745e-02, 1.52949745e-02, 1.60233066e-02,\n",
       "        1.60233066e-02, 1.67516387e-02, 1.67516387e-02, 1.74799709e-02,\n",
       "        1.74799709e-02, 2.03932993e-02, 2.03932993e-02, 2.11216315e-02,\n",
       "        2.11216315e-02, 2.25782957e-02, 2.25782957e-02, 2.33066278e-02,\n",
       "        2.33066278e-02, 2.54916242e-02, 2.54916242e-02, 2.62199563e-02,\n",
       "        2.62199563e-02, 2.76766205e-02, 2.76766205e-02, 2.91332848e-02,\n",
       "        2.91332848e-02, 2.98616169e-02, 2.98616169e-02, 3.05899490e-02,\n",
       "        3.05899490e-02, 3.13182811e-02, 3.13182811e-02, 3.20466133e-02,\n",
       "        3.20466133e-02, 3.42316096e-02, 3.42316096e-02, 3.56882739e-02,\n",
       "        3.56882739e-02, 3.64166060e-02, 3.64166060e-02, 3.71449381e-02,\n",
       "        3.71449381e-02, 3.86016023e-02, 3.86016023e-02, 3.93299345e-02,\n",
       "        3.93299345e-02, 4.00582666e-02, 4.00582666e-02, 4.22432629e-02,\n",
       "        4.22432629e-02, 4.36999272e-02, 4.36999272e-02, 4.51565914e-02,\n",
       "        4.51565914e-02, 4.58849235e-02, 4.58849235e-02, 4.66132556e-02,\n",
       "        4.66132556e-02, 4.73415878e-02, 4.73415878e-02, 5.02549162e-02,\n",
       "        5.02549162e-02, 5.17115805e-02, 5.17115805e-02, 5.24399126e-02,\n",
       "        5.24399126e-02, 5.31682447e-02, 5.31682447e-02, 5.60815732e-02,\n",
       "        5.60815732e-02, 5.89949017e-02, 5.89949017e-02, 5.97232338e-02,\n",
       "        5.97232338e-02, 6.04515659e-02, 6.04515659e-02, 6.11798980e-02,\n",
       "        6.11798980e-02, 6.26365623e-02, 6.26365623e-02, 6.33648944e-02,\n",
       "        6.33648944e-02, 6.55498908e-02, 6.55498908e-02, 6.62782229e-02,\n",
       "        6.62782229e-02, 6.84632192e-02, 6.84632192e-02, 7.13765477e-02,\n",
       "        7.13765477e-02, 7.42898762e-02, 7.42898762e-02, 7.57465404e-02,\n",
       "        7.57465404e-02, 8.23015295e-02, 8.23015295e-02, 8.44865259e-02,\n",
       "        8.44865259e-02, 8.52148580e-02, 8.52148580e-02, 9.03131828e-02,\n",
       "        9.03131828e-02, 9.83248361e-02, 9.83248361e-02, 1.00509832e-01,\n",
       "        1.00509832e-01, 1.01238165e-01, 1.01238165e-01, 1.02694829e-01,\n",
       "        1.02694829e-01, 1.06336489e-01, 1.06336489e-01, 1.09249818e-01,\n",
       "        1.09249818e-01, 1.11434814e-01, 1.11434814e-01, 1.15076475e-01,\n",
       "        1.15076475e-01, 1.16533139e-01, 1.16533139e-01, 1.17261471e-01,\n",
       "        1.17261471e-01, 1.23816460e-01, 1.23816460e-01, 1.24544792e-01,\n",
       "        1.24544792e-01, 1.28186453e-01, 1.28186453e-01, 1.29643117e-01,\n",
       "        1.29643117e-01, 1.34741442e-01, 1.34741442e-01, 1.77713037e-01,\n",
       "        1.77713037e-01, 1.82083030e-01, 1.82083030e-01, 1.85724690e-01,\n",
       "        1.85724690e-01, 1.86453023e-01, 1.86453023e-01, 1.87909687e-01,\n",
       "        1.87909687e-01, 1.88638019e-01, 1.88638019e-01, 1.91551347e-01,\n",
       "        1.91551347e-01, 2.00291333e-01, 2.00291333e-01, 2.04661326e-01,\n",
       "        2.04661326e-01, 2.09759650e-01, 2.09759650e-01, 2.10487983e-01,\n",
       "        2.10487983e-01, 2.14129643e-01, 2.14129643e-01, 2.20684632e-01,\n",
       "        2.20684632e-01, 2.46904588e-01, 2.46904588e-01, 2.49817917e-01,\n",
       "        2.49817917e-01, 2.52002913e-01, 2.52002913e-01, 2.53459578e-01,\n",
       "        2.53459578e-01, 2.79679534e-01, 2.79679534e-01, 2.85506191e-01,\n",
       "        2.85506191e-01, 3.05171158e-01, 3.05171158e-01, 3.11726147e-01,\n",
       "        3.11726147e-01, 3.24836125e-01, 3.24836125e-01, 3.31391114e-01,\n",
       "        3.31391114e-01, 3.34304443e-01, 3.34304443e-01, 3.40859432e-01,\n",
       "        3.40859432e-01, 3.44501092e-01, 3.44501092e-01, 3.48142753e-01,\n",
       "        3.48142753e-01, 3.54697742e-01, 3.54697742e-01, 3.90386016e-01,\n",
       "        3.90386016e-01, 3.94756009e-01, 3.94756009e-01, 4.27530954e-01,\n",
       "        4.27530954e-01, 4.42097597e-01, 4.42097597e-01, 4.54479243e-01,\n",
       "        4.54479243e-01, 4.98179170e-01, 4.98179170e-01, 5.01820830e-01,\n",
       "        5.01820830e-01, 5.06190823e-01, 5.06190823e-01, 5.17115805e-01,\n",
       "        5.17115805e-01, 5.28040787e-01, 5.28040787e-01, 6.67152221e-01,\n",
       "        6.67152221e-01, 6.67880554e-01, 6.67880554e-01, 6.72978878e-01,\n",
       "        6.72978878e-01, 7.10852149e-01, 7.10852149e-01, 7.15222141e-01,\n",
       "        7.15222141e-01, 7.58193736e-01, 7.58193736e-01, 8.19373634e-01,\n",
       "        8.19373634e-01, 8.64530226e-01, 8.64530226e-01, 8.80553532e-01,\n",
       "        8.80553532e-01, 8.90021850e-01, 8.90021850e-01, 9.54115076e-01,\n",
       "        9.54115076e-01, 9.77421704e-01, 9.77421704e-01, 1.00000000e+00]),\n",
       " 1: array([0.00000000e+00, 0.00000000e+00, 0.00000000e+00, 9.05797101e-04,\n",
       "        9.05797101e-04, 1.81159420e-03, 1.81159420e-03, 2.71739130e-03,\n",
       "        2.71739130e-03, 3.62318841e-03, 3.62318841e-03, 4.52898551e-03,\n",
       "        4.52898551e-03, 5.43478261e-03, 5.43478261e-03, 6.34057971e-03,\n",
       "        6.34057971e-03, 7.24637681e-03, 7.24637681e-03, 8.15217391e-03,\n",
       "        8.15217391e-03, 9.05797101e-03, 9.05797101e-03, 9.96376812e-03,\n",
       "        9.96376812e-03, 1.08695652e-02, 1.08695652e-02, 1.17753623e-02,\n",
       "        1.17753623e-02, 1.26811594e-02, 1.26811594e-02, 1.35869565e-02,\n",
       "        1.35869565e-02, 1.44927536e-02, 1.44927536e-02, 1.53985507e-02,\n",
       "        1.53985507e-02, 1.63043478e-02, 1.63043478e-02, 1.72101449e-02,\n",
       "        1.72101449e-02, 1.81159420e-02, 1.81159420e-02, 1.90217391e-02,\n",
       "        1.90217391e-02, 1.99275362e-02, 1.99275362e-02, 2.17391304e-02,\n",
       "        2.17391304e-02, 2.26449275e-02, 2.26449275e-02, 2.44565217e-02,\n",
       "        2.44565217e-02, 2.53623188e-02, 2.53623188e-02, 2.71739130e-02,\n",
       "        2.71739130e-02, 2.80797101e-02, 2.80797101e-02, 2.89855072e-02,\n",
       "        2.89855072e-02, 2.98913043e-02, 2.98913043e-02, 3.17028986e-02,\n",
       "        3.17028986e-02, 3.26086957e-02, 3.26086957e-02, 3.53260870e-02,\n",
       "        3.53260870e-02, 3.62318841e-02, 3.62318841e-02, 3.71376812e-02,\n",
       "        3.71376812e-02, 3.80434783e-02, 3.80434783e-02, 4.07608696e-02,\n",
       "        4.07608696e-02, 4.25724638e-02, 4.25724638e-02, 4.43840580e-02,\n",
       "        4.43840580e-02, 4.52898551e-02, 4.52898551e-02, 4.61956522e-02,\n",
       "        4.61956522e-02, 4.80072464e-02, 4.80072464e-02, 5.07246377e-02,\n",
       "        5.07246377e-02, 5.25362319e-02, 5.25362319e-02, 5.34420290e-02,\n",
       "        5.34420290e-02, 5.43478261e-02, 5.43478261e-02, 5.52536232e-02,\n",
       "        5.52536232e-02, 5.61594203e-02, 5.61594203e-02, 5.70652174e-02,\n",
       "        5.70652174e-02, 5.88768116e-02, 5.88768116e-02, 5.97826087e-02,\n",
       "        5.97826087e-02, 6.06884058e-02, 6.06884058e-02, 6.34057971e-02,\n",
       "        6.34057971e-02, 6.43115942e-02, 6.43115942e-02, 6.52173913e-02,\n",
       "        6.52173913e-02, 6.61231884e-02, 6.61231884e-02, 6.79347826e-02,\n",
       "        6.79347826e-02, 6.88405797e-02, 6.88405797e-02, 6.97463768e-02,\n",
       "        6.97463768e-02, 7.15579710e-02, 7.15579710e-02, 7.33695652e-02,\n",
       "        7.33695652e-02, 7.60869565e-02, 7.60869565e-02, 8.15217391e-02,\n",
       "        8.15217391e-02, 8.33333333e-02, 8.33333333e-02, 8.69565217e-02,\n",
       "        8.69565217e-02, 9.32971014e-02, 9.32971014e-02, 1.02355072e-01,\n",
       "        1.02355072e-01, 1.05978261e-01, 1.05978261e-01, 1.07789855e-01,\n",
       "        1.07789855e-01, 1.08695652e-01, 1.08695652e-01, 1.10507246e-01,\n",
       "        1.10507246e-01, 1.11413043e-01, 1.11413043e-01, 1.14130435e-01,\n",
       "        1.14130435e-01, 1.18659420e-01, 1.18659420e-01, 1.19565217e-01,\n",
       "        1.19565217e-01, 1.25000000e-01, 1.25000000e-01, 1.31340580e-01,\n",
       "        1.31340580e-01, 1.33152174e-01, 1.33152174e-01, 1.35869565e-01,\n",
       "        1.35869565e-01, 1.37681159e-01, 1.37681159e-01, 1.39492754e-01,\n",
       "        1.39492754e-01, 1.43115942e-01, 1.43115942e-01, 1.45833333e-01,\n",
       "        1.45833333e-01, 1.55797101e-01, 1.55797101e-01, 1.59420290e-01,\n",
       "        1.59420290e-01, 1.62137681e-01, 1.62137681e-01, 1.66666667e-01,\n",
       "        1.66666667e-01, 1.73007246e-01, 1.73007246e-01, 1.74818841e-01,\n",
       "        1.74818841e-01, 1.93840580e-01, 1.93840580e-01, 1.97463768e-01,\n",
       "        1.97463768e-01, 2.00181159e-01, 2.00181159e-01, 2.06521739e-01,\n",
       "        2.06521739e-01, 2.15579710e-01, 2.15579710e-01, 2.20108696e-01,\n",
       "        2.20108696e-01, 2.52717391e-01, 2.52717391e-01, 2.64492754e-01,\n",
       "        2.64492754e-01, 2.69927536e-01, 2.69927536e-01, 2.79891304e-01,\n",
       "        2.79891304e-01, 2.80797101e-01, 2.80797101e-01, 2.89855072e-01,\n",
       "        2.89855072e-01, 3.01630435e-01, 3.01630435e-01, 3.07065217e-01,\n",
       "        3.07065217e-01, 3.18840580e-01, 3.18840580e-01, 3.25181159e-01,\n",
       "        3.25181159e-01, 3.26992754e-01, 3.26992754e-01, 3.42391304e-01,\n",
       "        3.42391304e-01, 3.51449275e-01, 3.51449275e-01, 3.84057971e-01,\n",
       "        3.84057971e-01, 3.97644928e-01, 3.97644928e-01, 4.13043478e-01,\n",
       "        4.13043478e-01, 4.13949275e-01, 4.13949275e-01, 4.33876812e-01,\n",
       "        4.33876812e-01, 4.57427536e-01, 4.57427536e-01, 4.58333333e-01,\n",
       "        4.58333333e-01, 4.61956522e-01, 4.61956522e-01, 4.64673913e-01,\n",
       "        4.64673913e-01, 4.90942029e-01, 4.90942029e-01, 4.92753623e-01,\n",
       "        4.92753623e-01, 5.27173913e-01, 5.27173913e-01, 5.55253623e-01,\n",
       "        5.55253623e-01, 6.63043478e-01, 6.63043478e-01, 7.00181159e-01,\n",
       "        7.00181159e-01, 7.27355072e-01, 7.27355072e-01, 7.78079710e-01,\n",
       "        7.78079710e-01, 8.09782609e-01, 8.09782609e-01, 9.42028986e-01,\n",
       "        9.42028986e-01, 1.00000000e+00]),\n",
       " 2: array([0.00000000e+00, 0.00000000e+00, 0.00000000e+00, 6.98324022e-04,\n",
       "        6.98324022e-04, 1.39664804e-03, 1.39664804e-03, 2.09497207e-03,\n",
       "        2.09497207e-03, 2.79329609e-03, 2.79329609e-03, 3.49162011e-03,\n",
       "        3.49162011e-03, 4.18994413e-03, 4.18994413e-03, 4.88826816e-03,\n",
       "        4.88826816e-03, 5.58659218e-03, 5.58659218e-03, 6.28491620e-03,\n",
       "        6.28491620e-03, 6.98324022e-03, 6.98324022e-03, 7.68156425e-03,\n",
       "        7.68156425e-03, 8.37988827e-03, 8.37988827e-03, 1.04748603e-02,\n",
       "        1.04748603e-02, 1.11731844e-02, 1.11731844e-02, 1.18715084e-02,\n",
       "        1.18715084e-02, 1.25698324e-02, 1.25698324e-02, 1.39664804e-02,\n",
       "        1.39664804e-02, 1.46648045e-02, 1.46648045e-02, 1.53631285e-02,\n",
       "        1.53631285e-02, 1.60614525e-02, 1.60614525e-02, 1.67597765e-02,\n",
       "        1.67597765e-02, 2.16480447e-02, 2.16480447e-02, 2.23463687e-02,\n",
       "        2.23463687e-02, 2.30446927e-02, 2.30446927e-02, 2.37430168e-02,\n",
       "        2.37430168e-02, 2.51396648e-02, 2.51396648e-02, 2.58379888e-02,\n",
       "        2.58379888e-02, 2.65363128e-02, 2.65363128e-02, 2.72346369e-02,\n",
       "        2.72346369e-02, 2.86312849e-02, 2.86312849e-02, 2.93296089e-02,\n",
       "        2.93296089e-02, 3.14245810e-02, 3.14245810e-02, 3.21229050e-02,\n",
       "        3.21229050e-02, 3.56145251e-02, 3.56145251e-02, 3.91061453e-02,\n",
       "        3.91061453e-02, 4.05027933e-02, 4.05027933e-02, 4.46927374e-02,\n",
       "        4.46927374e-02, 5.02793296e-02, 5.02793296e-02, 5.09776536e-02,\n",
       "        5.09776536e-02, 5.58659218e-02, 5.58659218e-02, 5.72625698e-02,\n",
       "        5.72625698e-02, 5.86592179e-02, 5.86592179e-02, 5.93575419e-02,\n",
       "        5.93575419e-02, 6.70391061e-02, 6.70391061e-02, 9.21787709e-02,\n",
       "        9.21787709e-02, 1.01955307e-01, 1.01955307e-01, 1.54329609e-01,\n",
       "        1.54329609e-01, 1.84357542e-01, 1.84357542e-01, 2.28351955e-01,\n",
       "        2.28351955e-01, 2.29748603e-01, 2.29748603e-01, 2.51396648e-01,\n",
       "        2.51396648e-01, 3.14944134e-01, 3.14944134e-01, 3.21927374e-01,\n",
       "        3.21927374e-01, 1.00000000e+00]),\n",
       " 3: array([0.00000000e+00, 0.00000000e+00, 0.00000000e+00, 9.05797101e-04,\n",
       "        9.05797101e-04, 1.81159420e-03, 1.81159420e-03, 2.71739130e-03,\n",
       "        2.71739130e-03, 3.62318841e-03, 3.62318841e-03, 4.52898551e-03,\n",
       "        4.52898551e-03, 5.43478261e-03, 5.43478261e-03, 6.34057971e-03,\n",
       "        6.34057971e-03, 7.24637681e-03, 7.24637681e-03, 8.15217391e-03,\n",
       "        8.15217391e-03, 9.05797101e-03, 9.05797101e-03, 9.96376812e-03,\n",
       "        9.96376812e-03, 1.17753623e-02, 1.17753623e-02, 1.26811594e-02,\n",
       "        1.26811594e-02, 1.35869565e-02, 1.35869565e-02, 1.44927536e-02,\n",
       "        1.44927536e-02, 1.53985507e-02, 1.53985507e-02, 1.63043478e-02,\n",
       "        1.63043478e-02, 1.72101449e-02, 1.72101449e-02, 1.81159420e-02,\n",
       "        1.81159420e-02, 1.90217391e-02, 1.90217391e-02, 1.99275362e-02,\n",
       "        1.99275362e-02, 2.08333333e-02, 2.08333333e-02, 2.35507246e-02,\n",
       "        2.35507246e-02, 2.44565217e-02, 2.44565217e-02, 2.53623188e-02,\n",
       "        2.53623188e-02, 2.62681159e-02, 2.62681159e-02, 2.98913043e-02,\n",
       "        2.98913043e-02, 3.07971014e-02, 3.07971014e-02, 3.35144928e-02,\n",
       "        3.35144928e-02, 3.44202899e-02, 3.44202899e-02, 3.62318841e-02,\n",
       "        3.62318841e-02, 3.89492754e-02, 3.89492754e-02, 4.16666667e-02,\n",
       "        4.16666667e-02, 4.25724638e-02, 4.25724638e-02, 4.34782609e-02,\n",
       "        4.34782609e-02, 4.43840580e-02, 4.43840580e-02, 4.61956522e-02,\n",
       "        4.61956522e-02, 4.89130435e-02, 4.89130435e-02, 5.16304348e-02,\n",
       "        5.16304348e-02, 5.25362319e-02, 5.25362319e-02, 5.34420290e-02,\n",
       "        5.34420290e-02, 5.61594203e-02, 5.61594203e-02, 5.88768116e-02,\n",
       "        5.88768116e-02, 5.97826087e-02, 5.97826087e-02, 6.34057971e-02,\n",
       "        6.34057971e-02, 6.43115942e-02, 6.43115942e-02, 6.61231884e-02,\n",
       "        6.61231884e-02, 6.70289855e-02, 6.70289855e-02, 7.15579710e-02,\n",
       "        7.15579710e-02, 7.78985507e-02, 7.78985507e-02, 8.24275362e-02,\n",
       "        8.24275362e-02, 8.96739130e-02, 8.96739130e-02, 9.42028986e-02,\n",
       "        9.42028986e-02, 9.60144928e-02, 9.60144928e-02, 1.01449275e-01,\n",
       "        1.01449275e-01, 1.04166667e-01, 1.04166667e-01, 1.05072464e-01,\n",
       "        1.05072464e-01, 1.16847826e-01, 1.16847826e-01, 1.20471014e-01,\n",
       "        1.20471014e-01, 1.22282609e-01, 1.22282609e-01, 1.25000000e-01,\n",
       "        1.25000000e-01, 1.30434783e-01, 1.30434783e-01, 1.33152174e-01,\n",
       "        1.33152174e-01, 1.35869565e-01, 1.35869565e-01, 1.36775362e-01,\n",
       "        1.36775362e-01, 1.44927536e-01, 1.44927536e-01, 1.61231884e-01,\n",
       "        1.61231884e-01, 1.64855072e-01, 1.64855072e-01, 1.67572464e-01,\n",
       "        1.67572464e-01, 1.78442029e-01, 1.78442029e-01, 1.79347826e-01,\n",
       "        1.79347826e-01, 1.89311594e-01, 1.89311594e-01, 1.93840580e-01,\n",
       "        1.93840580e-01, 1.99275362e-01, 1.99275362e-01, 2.15579710e-01,\n",
       "        2.15579710e-01, 2.16485507e-01, 2.16485507e-01, 2.28260870e-01,\n",
       "        2.28260870e-01, 2.29166667e-01, 2.29166667e-01, 2.34601449e-01,\n",
       "        2.34601449e-01, 2.46376812e-01, 2.46376812e-01, 2.54528986e-01,\n",
       "        2.54528986e-01, 2.58152174e-01, 2.58152174e-01, 2.60869565e-01,\n",
       "        2.60869565e-01, 2.61775362e-01, 2.61775362e-01, 2.69927536e-01,\n",
       "        2.69927536e-01, 2.88043478e-01, 2.88043478e-01, 3.01630435e-01,\n",
       "        3.01630435e-01, 3.06159420e-01, 3.06159420e-01, 3.24275362e-01,\n",
       "        3.24275362e-01, 3.46014493e-01, 3.46014493e-01, 3.47826087e-01,\n",
       "        3.47826087e-01, 3.53260870e-01, 3.53260870e-01, 4.08514493e-01,\n",
       "        4.08514493e-01, 4.42028986e-01, 4.42028986e-01, 4.44746377e-01,\n",
       "        4.44746377e-01, 4.62862319e-01, 4.62862319e-01, 5.08152174e-01,\n",
       "        5.08152174e-01, 5.38949275e-01, 5.38949275e-01, 5.76992754e-01,\n",
       "        5.76992754e-01, 6.25000000e-01, 6.25000000e-01, 6.85688406e-01,\n",
       "        6.85688406e-01, 7.12862319e-01, 7.12862319e-01, 7.41847826e-01,\n",
       "        7.41847826e-01, 7.43659420e-01, 7.43659420e-01, 7.50000000e-01,\n",
       "        7.50000000e-01, 7.79891304e-01, 7.79891304e-01, 1.00000000e+00])}"
      ]
     },
     "execution_count": 185,
     "metadata": {},
     "output_type": "execute_result"
    }
   ],
   "source": [
    "fpr"
   ]
  },
  {
   "cell_type": "code",
   "execution_count": 191,
   "metadata": {},
   "outputs": [],
   "source": [
    "# Compute micro-average ROC curve and ROC area\n",
    "fpr['micro'], tpr['micro'], _ = roc_curve(y_test_b.ravel(), z_score.ravel()) \n",
    "roc_auc['micro'] = auc(fpr['micro'], tpr['micro'])"
   ]
  },
  {
   "cell_type": "code",
   "execution_count": 190,
   "metadata": {},
   "outputs": [
    {
     "data": {
      "text/plain": [
       "(1671, 4)"
      ]
     },
     "execution_count": 190,
     "metadata": {},
     "output_type": "execute_result"
    }
   ],
   "source": [
    "y_test_b.shape"
   ]
  },
  {
   "cell_type": "code",
   "execution_count": 189,
   "metadata": {},
   "outputs": [
    {
     "data": {
      "text/plain": [
       "(6684,)"
      ]
     },
     "execution_count": 189,
     "metadata": {},
     "output_type": "execute_result"
    }
   ],
   "source": [
    "y_test_b.ravel().shape"
   ]
  },
  {
   "cell_type": "code",
   "execution_count": 193,
   "metadata": {},
   "outputs": [
    {
     "data": {
      "image/png": "[encoded data removed]",
      "text/plain": [
       "<Figure size 936x720 with 1 Axes>"
      ]
     },
     "metadata": {
      "needs_background": "light"
     },
     "output_type": "display_data"
    }
   ],
   "source": [
    "#Plot all ROC curves\n",
    "plt.figure(figsize=(13,10)) \n",
    "lw=2\n",
    "\n",
    "plt.plot(fpr['micro'], \n",
    "         tpr['micro'], \n",
    "         label='micro-average ROC curve (area = {0:0.3f})'''.format(roc_auc['micro']),\n",
    "         color='deeppink',\n",
    "         linestyle=':', \n",
    "         linewidth=4)\n",
    "\n",
    "\n",
    "colors = cycle(['#41924F', '#FFC300', '#a98ff3', '#59C7EA'])\n",
    "\n",
    "for i, color in zip(range(n_classes), colors):\n",
    "    plt.plot(fpr[i], tpr[i], \n",
    "             color=color, \n",
    "             lw=lw, \n",
    "             label='ROC curve of class {0} (area = {1:0.3f})'''.format(i, roc_auc[i]))\n",
    "\n",
    "plt.plot([0, 1], [0, 1], 'k--', lw=lw)\n",
    "plt.xlim([0.0, 1.0])\n",
    "plt.ylim([0.0, 1.05])\n",
    "plt.xlabel('1-Specificity (False Positive Rate)', fontsize = 14)\n",
    "plt.ylabel('Sensitivity (True Positive Rate)', fontsize = 14)\n",
    "plt.title('Receiver Operating Characteristic - SGD (loss = log)', fontsize = 16)\n",
    "plt.legend(loc=\"lower right\", fontsize = 13)\n",
    "plt.show()"
   ]
  },
  {
   "cell_type": "markdown",
   "metadata": {},
   "source": [
    "## Confusion Matrix for SGD"
   ]
  },
  {
   "cell_type": "code",
   "execution_count": 200,
   "metadata": {},
   "outputs": [
    {
     "data": {
      "text/plain": [
       "array([[162,  65,   2,  69],\n",
       "       [ 30, 484,   3,  50],\n",
       "       [  4,  15, 172,  48],\n",
       "       [ 14,  19,   9, 525]], dtype=int64)"
      ]
     },
     "execution_count": 200,
     "metadata": {},
     "output_type": "execute_result"
    }
   ],
   "source": [
    "#Train test split with stratified sampling. Using non-binarized labels\n",
    "X_train, X_test, y_train, y_test = train_test_split(X, \n",
    "                                                    y, \n",
    "                                                    test_size = 0.3, \n",
    "                                                    shuffle = True, \n",
    "                                                    stratify = y, \n",
    "                                                    random_state = 10)\n",
    "#Fit the training data\n",
    "sgd_classifier.fit(X_train, y_train)\n",
    "#Predict the testing data\n",
    "y_pred = sgd_classifier.predict(X_test)\n",
    "\n",
    "# Get the confusion matrix\n",
    "cm = confusion_matrix(y_test, y_pred) \n",
    "cm"
   ]
  },
  {
   "cell_type": "code",
   "execution_count": 201,
   "metadata": {},
   "outputs": [],
   "source": [
    "cm_df = pd.DataFrame(cm,\n",
    "                     index = ['business','scitech','sports', 'world'], \n",
    "                     columns = ['business','scitech','sports', 'world'])\n"
   ]
  },
  {
   "cell_type": "code",
   "execution_count": 203,
   "metadata": {},
   "outputs": [
    {
     "data": {
      "text/html": [
       "<div>\n",
       "<style scoped>\n",
       "    .dataframe tbody tr th:only-of-type {\n",
       "        vertical-align: middle;\n",
       "    }\n",
       "\n",
       "    .dataframe tbody tr th {\n",
       "        vertical-align: top;\n",
       "    }\n",
       "\n",
       "    .dataframe thead th {\n",
       "        text-align: right;\n",
       "    }\n",
       "</style>\n",
       "<table border=\"1\" class=\"dataframe\">\n",
       "  <thead>\n",
       "    <tr style=\"text-align: right;\">\n",
       "      <th></th>\n",
       "      <th>business</th>\n",
       "      <th>scitech</th>\n",
       "      <th>sports</th>\n",
       "      <th>world</th>\n",
       "    </tr>\n",
       "  </thead>\n",
       "  <tbody>\n",
       "    <tr>\n",
       "      <th>business</th>\n",
       "      <td>162</td>\n",
       "      <td>65</td>\n",
       "      <td>2</td>\n",
       "      <td>69</td>\n",
       "    </tr>\n",
       "    <tr>\n",
       "      <th>scitech</th>\n",
       "      <td>30</td>\n",
       "      <td>484</td>\n",
       "      <td>3</td>\n",
       "      <td>50</td>\n",
       "    </tr>\n",
       "    <tr>\n",
       "      <th>sports</th>\n",
       "      <td>4</td>\n",
       "      <td>15</td>\n",
       "      <td>172</td>\n",
       "      <td>48</td>\n",
       "    </tr>\n",
       "    <tr>\n",
       "      <th>world</th>\n",
       "      <td>14</td>\n",
       "      <td>19</td>\n",
       "      <td>9</td>\n",
       "      <td>525</td>\n",
       "    </tr>\n",
       "  </tbody>\n",
       "</table>\n",
       "</div>"
      ],
      "text/plain": [
       "          business  scitech  sports  world\n",
       "business       162       65       2     69\n",
       "scitech         30      484       3     50\n",
       "sports           4       15     172     48\n",
       "world           14       19       9    525"
      ]
     },
     "execution_count": 203,
     "metadata": {},
     "output_type": "execute_result"
    }
   ],
   "source": [
    "cm_df"
   ]
  },
  {
   "cell_type": "code",
   "execution_count": 204,
   "metadata": {},
   "outputs": [
    {
     "data": {
      "image/png": "[encoded data removed]",
      "text/plain": [
       "<Figure size 864x576 with 2 Axes>"
      ]
     },
     "metadata": {
      "needs_background": "light"
     },
     "output_type": "display_data"
    }
   ],
   "source": [
    "#Plot the heatmap\n",
    "plt.figure(figsize=(12, 8))\n",
    "\n",
    "sns.heatmap(cm_df, \n",
    "            center=0, \n",
    "            cmap=sns.diverging_palette(220, 15, as_cmap=True), \n",
    "            annot=True, \n",
    "            fmt='g')\n",
    "\n",
    "plt.title('SGD (loss = log) \\n  F1 Score (avg = macro) : {0:.2f}'.format(f1_score(y_test, y_pred, average='macro')), fontsize = 13)\n",
    "plt.ylabel('True label', fontsize = 13)\n",
    "plt.xlabel('Predicted label', fontsize = 13)\n",
    "plt.show()"
   ]
  },
  {
   "cell_type": "markdown",
   "metadata": {},
   "source": [
    "## Take a look at the predictions for the 5 holdout headlines"
   ]
  },
  {
   "cell_type": "code",
   "execution_count": 205,
   "metadata": {},
   "outputs": [],
   "source": [
    "hold_out = df_holdout['clean_text'].astype('str')"
   ]
  },
  {
   "cell_type": "code",
   "execution_count": 211,
   "metadata": {},
   "outputs": [
    {
     "data": {
      "text/plain": [
       "5051    ['ve', 'airplane', 'abort', 'landing', 'know',...\n",
       "6272    ['new', 'york', 'reuters', 'stock', 'rise', 'm...\n",
       "3341    ['stock', 'look', 'open', 'flat', 'thursday', ...\n",
       "6067    ['united', 'state', 'australia', 'prevail', 'i...\n",
       "4673    ['new', 'york', 'reuters', 'stock', 'jump', 'w...\n",
       "4848    ['vienna', 'reuters', 'seed', 'amelie', 'maure...\n",
       "6232    ['feyenoord', 'bos', 'ruud', 'gullit', 'launch...\n",
       "3072    ['jim', 'mora', 'think', 'team', 'deserve', 'l...\n",
       "6007    ['motorsport.com', 'report', 'week', 'suggest'...\n",
       "4431    ['race', 'fan', 'wave', 'american', 'flag', 's...\n",
       "1       ['space.com', 'toronto', 'canada', 'second', '...\n",
       "2       ['company', 'chemistry', 'researcher', 'univer...\n",
       "3       ['it is', 'barely', 'dawn', 'mike', 'fitzpatri...\n",
       "4       ['southern', \"california's\", 'smog-fighting', ...\n",
       "5       ['british', 'department', 'education', 'skill'...\n",
       "32      ['canadian', 'press', 'vancouver', 'cp', 'sist...\n",
       "33      ['man', 'claim', 'gov', 'james', 'e', 'mcgreev...\n",
       "34      ['najaf', 'iraq', 'explosion', 'gunfire', 'rat...\n",
       "35      ['lourdes', 'france', 'frail', 'pope', 'john',...\n",
       "36      ['supporter', 'rival', 'warn', 'possible', 'fr...\n",
       "Name: clean_text, dtype: object"
      ]
     },
     "execution_count": 211,
     "metadata": {},
     "output_type": "execute_result"
    }
   ],
   "source": [
    "hold_out # 5 headlines from each class (20 headlines in total)"
   ]
  },
  {
   "cell_type": "code",
   "execution_count": 213,
   "metadata": {},
   "outputs": [],
   "source": [
    "#Use the saved models to transform the holdout text with tf-idf and lsa\n",
    "hold_out_tfidf = tfidf_vectorizer.transform(hold_out) \n",
    "X_holdout = lsa.transform(hold_out_tfidf)"
   ]
  },
  {
   "cell_type": "code",
   "execution_count": 214,
   "metadata": {},
   "outputs": [
    {
     "data": {
      "text/plain": [
       "array([[ 0.01072871,  0.00090771,  0.00407782, ..., -0.02012767,\n",
       "         0.00558362, -0.00860803],\n",
       "       [ 0.18555141, -0.14430439, -0.18423988, ...,  0.02847267,\n",
       "         0.00520142, -0.00616752],\n",
       "       [ 0.13767043, -0.07137591, -0.11954342, ..., -0.01390284,\n",
       "        -0.02396424, -0.02545192],\n",
       "       ...,\n",
       "       [ 0.07950092,  0.0959017 , -0.0199292 , ...,  0.0124374 ,\n",
       "         0.05147809, -0.03483581],\n",
       "       [ 0.06415611,  0.0235602 ,  0.01153863, ...,  0.0263439 ,\n",
       "        -0.00681053,  0.00285326],\n",
       "       [ 0.08710208, -0.00458651, -0.03207677, ...,  0.02942953,\n",
       "         0.0082    ,  0.01968961]])"
      ]
     },
     "execution_count": 214,
     "metadata": {},
     "output_type": "execute_result"
    }
   ],
   "source": [
    "X_holdout"
   ]
  },
  {
   "cell_type": "code",
   "execution_count": 222,
   "metadata": {},
   "outputs": [
    {
     "data": {
      "text/plain": [
       "SGDClassifier(alpha=1e-06, average=False, class_weight=None,\n",
       "              early_stopping=False, epsilon=0.1, eta0=0.001, fit_intercept=True,\n",
       "              l1_ratio=0.15, learning_rate='optimal', loss='log', max_iter=5000,\n",
       "              n_iter_no_change=5, n_jobs=None, penalty='l2', power_t=0.5,\n",
       "              random_state=None, shuffle=True, tol=0.001,\n",
       "              validation_fraction=0.1, verbose=0, warm_start=False)"
      ]
     },
     "execution_count": 222,
     "metadata": {},
     "output_type": "execute_result"
    }
   ],
   "source": [
    "#Fit the models with the best params on the full data\n",
    "best_models[0].best_estimator_.fit(X,y)"
   ]
  },
  {
   "cell_type": "code",
   "execution_count": 223,
   "metadata": {},
   "outputs": [],
   "source": [
    "df_holdout[\"pred_sgd\"]=best_models[0].best_estimator_.predict(X_holdout)"
   ]
  },
  {
   "cell_type": "code",
   "execution_count": 224,
   "metadata": {},
   "outputs": [],
   "source": [
    "label_num_dict = {'Business': 0, 'SciTech': 1, 'Sports': 2, 'World': 3}"
   ]
  },
  {
   "cell_type": "code",
   "execution_count": 225,
   "metadata": {},
   "outputs": [],
   "source": [
    "df_holdout['actual'] = df_holdout['label'].map(label_num_dict)"
   ]
  },
  {
   "cell_type": "code",
   "execution_count": 226,
   "metadata": {},
   "outputs": [],
   "source": [
    "df_holdout = df_holdout.drop('clean_text', axis=1)"
   ]
  },
  {
   "cell_type": "code",
   "execution_count": 229,
   "metadata": {},
   "outputs": [
    {
     "data": {
      "text/html": [
       "<div>\n",
       "<style scoped>\n",
       "    .dataframe tbody tr th:only-of-type {\n",
       "        vertical-align: middle;\n",
       "    }\n",
       "\n",
       "    .dataframe tbody tr th {\n",
       "        vertical-align: top;\n",
       "    }\n",
       "\n",
       "    .dataframe thead th {\n",
       "        text-align: right;\n",
       "    }\n",
       "</style>\n",
       "<table border=\"1\" class=\"dataframe\">\n",
       "  <thead>\n",
       "    <tr style=\"text-align: right;\">\n",
       "      <th></th>\n",
       "      <th>content</th>\n",
       "      <th>label</th>\n",
       "      <th>word_count</th>\n",
       "      <th>pred_sgd</th>\n",
       "      <th>actual</th>\n",
       "    </tr>\n",
       "  </thead>\n",
       "  <tbody>\n",
       "    <tr>\n",
       "      <th>5051</th>\n",
       "      <td>If you #39;ve ever been in an airplane that ha...</td>\n",
       "      <td>Business</td>\n",
       "      <td>24</td>\n",
       "      <td>1</td>\n",
       "      <td>0</td>\n",
       "    </tr>\n",
       "    <tr>\n",
       "      <th>6272</th>\n",
       "      <td>NEW YORK (Reuters) - U.S. stocks rose on Monda...</td>\n",
       "      <td>Business</td>\n",
       "      <td>38</td>\n",
       "      <td>0</td>\n",
       "      <td>0</td>\n",
       "    </tr>\n",
       "    <tr>\n",
       "      <th>3341</th>\n",
       "      <td>US stocks looked to open flat on Thursday unde...</td>\n",
       "      <td>Business</td>\n",
       "      <td>24</td>\n",
       "      <td>0</td>\n",
       "      <td>0</td>\n",
       "    </tr>\n",
       "    <tr>\n",
       "      <th>6067</th>\n",
       "      <td>AP - The United States and Australia have prev...</td>\n",
       "      <td>Business</td>\n",
       "      <td>43</td>\n",
       "      <td>3</td>\n",
       "      <td>0</td>\n",
       "    </tr>\n",
       "    <tr>\n",
       "      <th>4673</th>\n",
       "      <td>NEW YORK (Reuters) - U.S. stocks jumped on Wed...</td>\n",
       "      <td>Business</td>\n",
       "      <td>35</td>\n",
       "      <td>0</td>\n",
       "      <td>0</td>\n",
       "    </tr>\n",
       "    <tr>\n",
       "      <th>4848</th>\n",
       "      <td>VIENNA (Reuters) - Top seed Amelie Mauresmo re...</td>\n",
       "      <td>Sports</td>\n",
       "      <td>35</td>\n",
       "      <td>2</td>\n",
       "      <td>2</td>\n",
       "    </tr>\n",
       "    <tr>\n",
       "      <th>6232</th>\n",
       "      <td>Feyenoord boss Ruud Gullit has launched a stin...</td>\n",
       "      <td>Sports</td>\n",
       "      <td>26</td>\n",
       "      <td>2</td>\n",
       "      <td>2</td>\n",
       "    </tr>\n",
       "    <tr>\n",
       "      <th>3072</th>\n",
       "      <td>Jim Mora thought his team deserved a little so...</td>\n",
       "      <td>Sports</td>\n",
       "      <td>35</td>\n",
       "      <td>2</td>\n",
       "      <td>2</td>\n",
       "    </tr>\n",
       "    <tr>\n",
       "      <th>6007</th>\n",
       "      <td>Motorsport.com. Reports this week suggest that...</td>\n",
       "      <td>Sports</td>\n",
       "      <td>23</td>\n",
       "      <td>1</td>\n",
       "      <td>2</td>\n",
       "    </tr>\n",
       "    <tr>\n",
       "      <th>4431</th>\n",
       "      <td>Race fans wave American flags in the stands du...</td>\n",
       "      <td>Sports</td>\n",
       "      <td>33</td>\n",
       "      <td>2</td>\n",
       "      <td>2</td>\n",
       "    </tr>\n",
       "    <tr>\n",
       "      <th>1</th>\n",
       "      <td>SPACE.com - TORONTO, Canada -- A second\\team o...</td>\n",
       "      <td>SciTech</td>\n",
       "      <td>35</td>\n",
       "      <td>1</td>\n",
       "      <td>1</td>\n",
       "    </tr>\n",
       "    <tr>\n",
       "      <th>2</th>\n",
       "      <td>AP - A company founded by a chemistry research...</td>\n",
       "      <td>SciTech</td>\n",
       "      <td>37</td>\n",
       "      <td>1</td>\n",
       "      <td>1</td>\n",
       "    </tr>\n",
       "    <tr>\n",
       "      <th>3</th>\n",
       "      <td>AP - It's barely dawn when Mike Fitzpatrick st...</td>\n",
       "      <td>SciTech</td>\n",
       "      <td>49</td>\n",
       "      <td>1</td>\n",
       "      <td>1</td>\n",
       "    </tr>\n",
       "    <tr>\n",
       "      <th>4</th>\n",
       "      <td>AP - Southern California's smog-fighting agenc...</td>\n",
       "      <td>SciTech</td>\n",
       "      <td>27</td>\n",
       "      <td>3</td>\n",
       "      <td>1</td>\n",
       "    </tr>\n",
       "    <tr>\n",
       "      <th>5</th>\n",
       "      <td>The British Department for Education and Skill...</td>\n",
       "      <td>SciTech</td>\n",
       "      <td>128</td>\n",
       "      <td>1</td>\n",
       "      <td>1</td>\n",
       "    </tr>\n",
       "    <tr>\n",
       "      <th>32</th>\n",
       "      <td>Canadian Press - VANCOUVER (CP) - The sister o...</td>\n",
       "      <td>World</td>\n",
       "      <td>31</td>\n",
       "      <td>3</td>\n",
       "      <td>3</td>\n",
       "    </tr>\n",
       "    <tr>\n",
       "      <th>33</th>\n",
       "      <td>AP - The man who claims Gov. James E. McGreeve...</td>\n",
       "      <td>World</td>\n",
       "      <td>45</td>\n",
       "      <td>3</td>\n",
       "      <td>3</td>\n",
       "    </tr>\n",
       "    <tr>\n",
       "      <th>34</th>\n",
       "      <td>NAJAF, Iraq - Explosions and gunfire rattled t...</td>\n",
       "      <td>World</td>\n",
       "      <td>51</td>\n",
       "      <td>3</td>\n",
       "      <td>3</td>\n",
       "    </tr>\n",
       "    <tr>\n",
       "      <th>35</th>\n",
       "      <td>LOURDES, France - A frail Pope John Paul II, b...</td>\n",
       "      <td>World</td>\n",
       "      <td>61</td>\n",
       "      <td>3</td>\n",
       "      <td>3</td>\n",
       "    </tr>\n",
       "    <tr>\n",
       "      <th>36</th>\n",
       "      <td>Supporters and rivals warn of possible fraud; ...</td>\n",
       "      <td>World</td>\n",
       "      <td>18</td>\n",
       "      <td>0</td>\n",
       "      <td>3</td>\n",
       "    </tr>\n",
       "  </tbody>\n",
       "</table>\n",
       "</div>"
      ],
      "text/plain": [
       "                                                content     label  word_count  \\\n",
       "5051  If you #39;ve ever been in an airplane that ha...  Business          24   \n",
       "6272  NEW YORK (Reuters) - U.S. stocks rose on Monda...  Business          38   \n",
       "3341  US stocks looked to open flat on Thursday unde...  Business          24   \n",
       "6067  AP - The United States and Australia have prev...  Business          43   \n",
       "4673  NEW YORK (Reuters) - U.S. stocks jumped on Wed...  Business          35   \n",
       "4848  VIENNA (Reuters) - Top seed Amelie Mauresmo re...    Sports          35   \n",
       "6232  Feyenoord boss Ruud Gullit has launched a stin...    Sports          26   \n",
       "3072  Jim Mora thought his team deserved a little so...    Sports          35   \n",
       "6007  Motorsport.com. Reports this week suggest that...    Sports          23   \n",
       "4431  Race fans wave American flags in the stands du...    Sports          33   \n",
       "1     SPACE.com - TORONTO, Canada -- A second\\team o...   SciTech          35   \n",
       "2     AP - A company founded by a chemistry research...   SciTech          37   \n",
       "3     AP - It's barely dawn when Mike Fitzpatrick st...   SciTech          49   \n",
       "4     AP - Southern California's smog-fighting agenc...   SciTech          27   \n",
       "5     The British Department for Education and Skill...   SciTech         128   \n",
       "32    Canadian Press - VANCOUVER (CP) - The sister o...     World          31   \n",
       "33    AP - The man who claims Gov. James E. McGreeve...     World          45   \n",
       "34    NAJAF, Iraq - Explosions and gunfire rattled t...     World          51   \n",
       "35    LOURDES, France - A frail Pope John Paul II, b...     World          61   \n",
       "36    Supporters and rivals warn of possible fraud; ...     World          18   \n",
       "\n",
       "      pred_sgd  actual  \n",
       "5051         1       0  \n",
       "6272         0       0  \n",
       "3341         0       0  \n",
       "6067         3       0  \n",
       "4673         0       0  \n",
       "4848         2       2  \n",
       "6232         2       2  \n",
       "3072         2       2  \n",
       "6007         1       2  \n",
       "4431         2       2  \n",
       "1            1       1  \n",
       "2            1       1  \n",
       "3            1       1  \n",
       "4            3       1  \n",
       "5            1       1  \n",
       "32           3       3  \n",
       "33           3       3  \n",
       "34           3       3  \n",
       "35           3       3  \n",
       "36           0       3  "
      ]
     },
     "execution_count": 229,
     "metadata": {},
     "output_type": "execute_result"
    }
   ],
   "source": [
    "df_holdout"
   ]
  },
  {
   "cell_type": "code",
   "execution_count": null,
   "metadata": {},
   "outputs": [],
   "source": []
  }
 ],
 "metadata": {
  "kernelspec": {
   "display_name": "Python 3",
   "language": "python",
   "name": "python3"
  },
  "language_info": {
   "codemirror_mode": {
    "name": "ipython",
    "version": 3
   },
   "file_extension": ".py",
   "mimetype": "text/x-python",
   "name": "python",
   "nbconvert_exporter": "python",
   "pygments_lexer": "ipython3",
   "version": "3.7.5"
  },
  "varInspector": {
   "cols": {
    "lenName": 16,
    "lenType": 16,
    "lenVar": 40
   },
   "kernels_config": {
    "python": {
     "delete_cmd_postfix": "",
     "delete_cmd_prefix": "del ",
     "library": "var_list.py",
     "varRefreshCmd": "print(var_dic_list())"
    },
    "r": {
     "delete_cmd_postfix": ") ",
     "delete_cmd_prefix": "rm(",
     "library": "var_list.r",
     "varRefreshCmd": "cat(var_dic_list()) "
    }
   },
   "types_to_exclude": [
    "module",
    "function",
    "builtin_function_or_method",
    "instance",
    "_Feature"
   ],
   "window_display": false
  }
 },
 "nbformat": 4,
 "nbformat_minor": 2
}
