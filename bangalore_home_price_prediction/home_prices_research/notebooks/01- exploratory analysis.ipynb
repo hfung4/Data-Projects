{
 "cells": [
  {
   "cell_type": "markdown",
   "id": "81fb7035",
   "metadata": {},
   "source": [
    "# Banglore home prices analysis"
   ]
  },
  {
   "cell_type": "markdown",
   "id": "fd07ee78",
   "metadata": {},
   "source": [
    "### A simple end to end project:\n",
    "\n",
    "- Data cleaning and formating\n",
    "- Exploratory analysis\n",
    "- Feature engineering and imputation\n",
    "- Model training and evaluation\n",
    "- Build a web server with Flask that consumes predictions from the trained model, and a UI (client) with css, html, and js that makes http POST and GET calls to the web server\n",
    "- Similar to the Zillow Zestimate feature"
   ]
  },
  {
   "cell_type": "code",
   "execution_count": 1,
   "id": "f0a7fa49",
   "metadata": {},
   "outputs": [],
   "source": [
    "import sys\n",
    "import os\n",
    "from pathlib import Path\n",
    "import re\n",
    "\n",
    "'''data'''\n",
    "import pandas as pd\n",
    "import numpy as np\n",
    "\n",
    "'''visualization'''\n",
    "import matplotlib.pyplot as plt\n",
    "import seaborn as sns\n",
    "\n",
    "'''sklearn'''\n",
    "from sklearn.model_selection import ShuffleSplit,StratifiedShuffleSplit\n",
    "from sklearn.preprocessing import Binarizer\n",
    "\n",
    "\n",
    "'''feature engine'''\n",
    "from feature_engine.transformation import LogTransformer\n",
    "from feature_engine.selection import DropFeatures\n",
    "from feature_engine.encoding import RareLabelEncoder"
   ]
  },
  {
   "cell_type": "code",
   "execution_count": 2,
   "id": "7b97b1ba",
   "metadata": {},
   "outputs": [],
   "source": [
    "# Set working directory \n",
    "try: INIT_RUN\n",
    "except NameError:\n",
    "    os.chdir(os.path.dirname(os.getcwd()))\n",
    "    INIT_RUN=True"
   ]
  },
  {
   "cell_type": "markdown",
   "id": "55f30de3",
   "metadata": {},
   "source": [
    "## Project Config"
   ]
  },
  {
   "cell_type": "code",
   "execution_count": 3,
   "id": "bc751f13",
   "metadata": {},
   "outputs": [],
   "source": [
    "ROOT_DIR = os.getcwd()\n",
    "RAW_DATA_DIR = Path(ROOT_DIR,\"home_price_analysis\",\"datasets\",\"raw\")\n",
    "RAW_DATA_FILE = \"house_prices.csv\"\n",
    "\n",
    "RANDOM_STATE= 10\n",
    "TEST_SIZE = 0.2\n",
    "\n",
    "\n",
    "OUTCOME_VARIABLE = \"price\"\n",
    "NUM_BEDROOM_RETAIN=8\n",
    "AREA_TYPE_RETAIN = 2\n",
    "FEATURES_TO_DROP=[\"society\"]\n",
    "\n",
    "SQFT_PER_SQ_METER= 10.764\n",
    "SQFT_PER_SQ_YARD= 9.0"
   ]
  },
  {
   "cell_type": "markdown",
   "id": "d5c7c8f1",
   "metadata": {},
   "source": [
    "## Helper functions"
   ]
  },
  {
   "cell_type": "code",
   "execution_count": 4,
   "id": "8002360a",
   "metadata": {},
   "outputs": [],
   "source": [
    "def load_housing_data(raw_data_path: object = RAW_DATA_DIR) -> pd.DataFrame:\n",
    "    '''\n",
    "    This function searches for raw data csv file and imports it as a pandas DataFrame\n",
    "    \n",
    "    Args:\n",
    "        raw_data_path (PosixPath): data path object to the raw data csv\n",
    "    \n",
    "    Returns:\n",
    "        pd.DataFrame    \n",
    "    '''\n",
    "    # If raw data directory does not exist, I will make one\n",
    "    if not os.path.isdir(raw_data_path):\n",
    "        os.makedirs(raw_data_path)\n",
    "    \n",
    "    # import raw data as pd.DataFrame\n",
    "    try:\n",
    "        data = pd.read_csv(Path(RAW_DATA_DIR,RAW_DATA_FILE))\n",
    "    except ImportError:\n",
    "        \"Fail to import raw data file.\"\n",
    "        \n",
    "    return data"
   ]
  },
  {
   "cell_type": "code",
   "execution_count": 5,
   "id": "57532277",
   "metadata": {},
   "outputs": [],
   "source": [
    "def process_total_sqft(input_str:str)->float:\n",
    "    '''\n",
    "    This function processes the total_sqft column (perform unit conversion, reformats values\n",
    "    and averages total_sqft ranges)\n",
    "    Args:\n",
    "        input_str (PosixPath): data path object to the raw data csv\n",
    "    \n",
    "    Returns:\n",
    "        processed value for total_sqft (float)    \n",
    "    '''\n",
    "    \n",
    "    # search to see if input string has \"-\"\n",
    "    if re.search(\"-\", input_str):\n",
    "        # Get a list of the ranges\n",
    "        str_list = input_str.split(\" - \")        \n",
    "        # Convert the list from string to float\n",
    "        num_list = np.array([float(i) for i in str_list])\n",
    "        # Compute the average of the two ranges\n",
    "        return num_list.mean()\n",
    "    \n",
    "    # search to see if input string has \"Sq. Meter\"\n",
    "    elif re.search(\"Sq. Meter\", input_str):\n",
    "        pattern=r\"Sq. Meter\"\n",
    "        # remove \"Sq.Meter\", convert from string to float, and then convert to sq-ft\n",
    "        return SQFT_PER_SQ_METER * float(re.sub(pattern, '', input_str))\n",
    "    \n",
    "    elif re.search(\"Sq. Yards\", input_str):\n",
    "    # search to see if input string has \"Sq. Yards\"\n",
    "        pattern=r\"Sq. Yards\"\n",
    "        # remove \"Sq. Yards\", convert from string to float, and then convert to sq-ft\n",
    "        return SQFT_PER_SQ_YARD * float(re.sub(pattern, '', input_str))\n",
    "    \n",
    "    else:\n",
    "        return np.nan"
   ]
  },
  {
   "cell_type": "code",
   "execution_count": 6,
   "id": "426ec2ba",
   "metadata": {},
   "outputs": [],
   "source": [
    "def remove_outlier(df_in, col_name, lwr_bound =None, upr_bound=None):\n",
    "    q1 = df_in[col_name].quantile(0.25)\n",
    "    q3 = df_in[col_name].quantile(0.75)\n",
    "    iqr = q3-q1 #Interquartile range\n",
    "    \n",
    "    if lwr_bound is None:\n",
    "        lwr_bound  = q1-1.5*iqr\n",
    "    \n",
    "    if upr_bound is None:\n",
    "        upr_bound = q3+1.5*iqr\n",
    "    \n",
    "    df_out = df_in.loc[(df_in[col_name] > lwr_bound) & (df_in[col_name] < upr_bound)]\n",
    "    return df_out"
   ]
  },
  {
   "cell_type": "markdown",
   "id": "b3332659",
   "metadata": {},
   "source": [
    "## Main project"
   ]
  },
  {
   "cell_type": "markdown",
   "id": "2528ea0a",
   "metadata": {},
   "source": [
    "## Import data"
   ]
  },
  {
   "cell_type": "code",
   "execution_count": 7,
   "id": "5144dc3b",
   "metadata": {},
   "outputs": [],
   "source": [
    "data = load_housing_data()"
   ]
  },
  {
   "cell_type": "code",
   "execution_count": 8,
   "id": "d4f093b5",
   "metadata": {},
   "outputs": [
    {
     "data": {
      "text/html": [
       "<div>\n",
       "<style scoped>\n",
       "    .dataframe tbody tr th:only-of-type {\n",
       "        vertical-align: middle;\n",
       "    }\n",
       "\n",
       "    .dataframe tbody tr th {\n",
       "        vertical-align: top;\n",
       "    }\n",
       "\n",
       "    .dataframe thead th {\n",
       "        text-align: right;\n",
       "    }\n",
       "</style>\n",
       "<table border=\"1\" class=\"dataframe\">\n",
       "  <thead>\n",
       "    <tr style=\"text-align: right;\">\n",
       "      <th></th>\n",
       "      <th>area_type</th>\n",
       "      <th>availability</th>\n",
       "      <th>location</th>\n",
       "      <th>size</th>\n",
       "      <th>society</th>\n",
       "      <th>total_sqft</th>\n",
       "      <th>bath</th>\n",
       "      <th>balcony</th>\n",
       "      <th>price</th>\n",
       "    </tr>\n",
       "  </thead>\n",
       "  <tbody>\n",
       "    <tr>\n",
       "      <th>0</th>\n",
       "      <td>Super built-up  Area</td>\n",
       "      <td>19-Dec</td>\n",
       "      <td>Electronic City Phase II</td>\n",
       "      <td>2 BHK</td>\n",
       "      <td>Coomee</td>\n",
       "      <td>1056</td>\n",
       "      <td>2.0</td>\n",
       "      <td>1.0</td>\n",
       "      <td>39.07</td>\n",
       "    </tr>\n",
       "    <tr>\n",
       "      <th>1</th>\n",
       "      <td>Plot  Area</td>\n",
       "      <td>Ready To Move</td>\n",
       "      <td>Chikka Tirupathi</td>\n",
       "      <td>4 Bedroom</td>\n",
       "      <td>Theanmp</td>\n",
       "      <td>2600</td>\n",
       "      <td>5.0</td>\n",
       "      <td>3.0</td>\n",
       "      <td>120.00</td>\n",
       "    </tr>\n",
       "    <tr>\n",
       "      <th>2</th>\n",
       "      <td>Built-up  Area</td>\n",
       "      <td>Ready To Move</td>\n",
       "      <td>Uttarahalli</td>\n",
       "      <td>3 BHK</td>\n",
       "      <td>NaN</td>\n",
       "      <td>1440</td>\n",
       "      <td>2.0</td>\n",
       "      <td>3.0</td>\n",
       "      <td>62.00</td>\n",
       "    </tr>\n",
       "    <tr>\n",
       "      <th>3</th>\n",
       "      <td>Super built-up  Area</td>\n",
       "      <td>Ready To Move</td>\n",
       "      <td>Lingadheeranahalli</td>\n",
       "      <td>3 BHK</td>\n",
       "      <td>Soiewre</td>\n",
       "      <td>1521</td>\n",
       "      <td>3.0</td>\n",
       "      <td>1.0</td>\n",
       "      <td>95.00</td>\n",
       "    </tr>\n",
       "    <tr>\n",
       "      <th>4</th>\n",
       "      <td>Super built-up  Area</td>\n",
       "      <td>Ready To Move</td>\n",
       "      <td>Kothanur</td>\n",
       "      <td>2 BHK</td>\n",
       "      <td>NaN</td>\n",
       "      <td>1200</td>\n",
       "      <td>2.0</td>\n",
       "      <td>1.0</td>\n",
       "      <td>51.00</td>\n",
       "    </tr>\n",
       "  </tbody>\n",
       "</table>\n",
       "</div>"
      ],
      "text/plain": [
       "              area_type   availability                  location       size  \\\n",
       "0  Super built-up  Area         19-Dec  Electronic City Phase II      2 BHK   \n",
       "1            Plot  Area  Ready To Move          Chikka Tirupathi  4 Bedroom   \n",
       "2        Built-up  Area  Ready To Move               Uttarahalli      3 BHK   \n",
       "3  Super built-up  Area  Ready To Move        Lingadheeranahalli      3 BHK   \n",
       "4  Super built-up  Area  Ready To Move                  Kothanur      2 BHK   \n",
       "\n",
       "   society total_sqft  bath  balcony   price  \n",
       "0  Coomee        1056   2.0      1.0   39.07  \n",
       "1  Theanmp       2600   5.0      3.0  120.00  \n",
       "2      NaN       1440   2.0      3.0   62.00  \n",
       "3  Soiewre       1521   3.0      1.0   95.00  \n",
       "4      NaN       1200   2.0      1.0   51.00  "
      ]
     },
     "execution_count": 8,
     "metadata": {},
     "output_type": "execute_result"
    }
   ],
   "source": [
    "data.head()"
   ]
  },
  {
   "cell_type": "code",
   "execution_count": 9,
   "id": "b3aab337",
   "metadata": {},
   "outputs": [
    {
     "data": {
      "text/plain": [
       "(13320, 9)"
      ]
     },
     "execution_count": 9,
     "metadata": {},
     "output_type": "execute_result"
    }
   ],
   "source": [
    "data.shape"
   ]
  },
  {
   "cell_type": "code",
   "execution_count": 10,
   "id": "911ff91f",
   "metadata": {},
   "outputs": [
    {
     "name": "stdout",
     "output_type": "stream",
     "text": [
      "<class 'pandas.core.frame.DataFrame'>\n",
      "RangeIndex: 13320 entries, 0 to 13319\n",
      "Data columns (total 9 columns):\n",
      " #   Column        Non-Null Count  Dtype  \n",
      "---  ------        --------------  -----  \n",
      " 0   area_type     13320 non-null  object \n",
      " 1   availability  13320 non-null  object \n",
      " 2   location      13319 non-null  object \n",
      " 3   size          13304 non-null  object \n",
      " 4   society       7818 non-null   object \n",
      " 5   total_sqft    13320 non-null  object \n",
      " 6   bath          13247 non-null  float64\n",
      " 7   balcony       12711 non-null  float64\n",
      " 8   price         13320 non-null  float64\n",
      "dtypes: float64(3), object(6)\n",
      "memory usage: 936.7+ KB\n"
     ]
    }
   ],
   "source": [
    "data.info()"
   ]
  },
  {
   "cell_type": "markdown",
   "id": "1be16546",
   "metadata": {},
   "source": [
    "**The data has a small number of observations; however, there are only 8 features and 1 outcome variable. So the number of features is small relatively to the number of observations. There is no risk of overfitting and I probably do not need dimensionality reduction. There is a mix of categorical variable (some ordinal like \"size\", others are nominal like \"area type\" and \"location\") and continuous variable (total_sqft, bath). Several variables have missing values-- society has the most (5503, so close to a third).** "
   ]
  },
  {
   "cell_type": "code",
   "execution_count": 11,
   "id": "e51e9fc2",
   "metadata": {},
   "outputs": [
    {
     "data": {
      "text/html": [
       "<div>\n",
       "<style scoped>\n",
       "    .dataframe tbody tr th:only-of-type {\n",
       "        vertical-align: middle;\n",
       "    }\n",
       "\n",
       "    .dataframe tbody tr th {\n",
       "        vertical-align: top;\n",
       "    }\n",
       "\n",
       "    .dataframe thead th {\n",
       "        text-align: right;\n",
       "    }\n",
       "</style>\n",
       "<table border=\"1\" class=\"dataframe\">\n",
       "  <thead>\n",
       "    <tr style=\"text-align: right;\">\n",
       "      <th></th>\n",
       "      <th>bath</th>\n",
       "      <th>balcony</th>\n",
       "      <th>price</th>\n",
       "    </tr>\n",
       "  </thead>\n",
       "  <tbody>\n",
       "    <tr>\n",
       "      <th>count</th>\n",
       "      <td>13247.000000</td>\n",
       "      <td>12711.000000</td>\n",
       "      <td>13320.000000</td>\n",
       "    </tr>\n",
       "    <tr>\n",
       "      <th>mean</th>\n",
       "      <td>2.692610</td>\n",
       "      <td>1.584376</td>\n",
       "      <td>112.565627</td>\n",
       "    </tr>\n",
       "    <tr>\n",
       "      <th>std</th>\n",
       "      <td>1.341458</td>\n",
       "      <td>0.817263</td>\n",
       "      <td>148.971674</td>\n",
       "    </tr>\n",
       "    <tr>\n",
       "      <th>min</th>\n",
       "      <td>1.000000</td>\n",
       "      <td>0.000000</td>\n",
       "      <td>8.000000</td>\n",
       "    </tr>\n",
       "    <tr>\n",
       "      <th>25%</th>\n",
       "      <td>2.000000</td>\n",
       "      <td>1.000000</td>\n",
       "      <td>50.000000</td>\n",
       "    </tr>\n",
       "    <tr>\n",
       "      <th>50%</th>\n",
       "      <td>2.000000</td>\n",
       "      <td>2.000000</td>\n",
       "      <td>72.000000</td>\n",
       "    </tr>\n",
       "    <tr>\n",
       "      <th>75%</th>\n",
       "      <td>3.000000</td>\n",
       "      <td>2.000000</td>\n",
       "      <td>120.000000</td>\n",
       "    </tr>\n",
       "    <tr>\n",
       "      <th>max</th>\n",
       "      <td>40.000000</td>\n",
       "      <td>3.000000</td>\n",
       "      <td>3600.000000</td>\n",
       "    </tr>\n",
       "  </tbody>\n",
       "</table>\n",
       "</div>"
      ],
      "text/plain": [
       "               bath       balcony         price\n",
       "count  13247.000000  12711.000000  13320.000000\n",
       "mean       2.692610      1.584376    112.565627\n",
       "std        1.341458      0.817263    148.971674\n",
       "min        1.000000      0.000000      8.000000\n",
       "25%        2.000000      1.000000     50.000000\n",
       "50%        2.000000      2.000000     72.000000\n",
       "75%        3.000000      2.000000    120.000000\n",
       "max       40.000000      3.000000   3600.000000"
      ]
     },
     "execution_count": 11,
     "metadata": {},
     "output_type": "execute_result"
    }
   ],
   "source": [
    "data.describe()"
   ]
  },
  {
   "cell_type": "markdown",
   "id": "7dfbc2e4",
   "metadata": {},
   "source": [
    "**There could be some outliers-- there is one house with 40 baths**"
   ]
  },
  {
   "cell_type": "code",
   "execution_count": 12,
   "id": "3469b1db",
   "metadata": {},
   "outputs": [
    {
     "data": {
      "text/html": [
       "<div>\n",
       "<style scoped>\n",
       "    .dataframe tbody tr th:only-of-type {\n",
       "        vertical-align: middle;\n",
       "    }\n",
       "\n",
       "    .dataframe tbody tr th {\n",
       "        vertical-align: top;\n",
       "    }\n",
       "\n",
       "    .dataframe thead th {\n",
       "        text-align: right;\n",
       "    }\n",
       "</style>\n",
       "<table border=\"1\" class=\"dataframe\">\n",
       "  <thead>\n",
       "    <tr style=\"text-align: right;\">\n",
       "      <th></th>\n",
       "      <th>area_type</th>\n",
       "      <th>availability</th>\n",
       "      <th>location</th>\n",
       "      <th>size</th>\n",
       "      <th>society</th>\n",
       "      <th>total_sqft</th>\n",
       "    </tr>\n",
       "  </thead>\n",
       "  <tbody>\n",
       "    <tr>\n",
       "      <th>count</th>\n",
       "      <td>13320</td>\n",
       "      <td>13320</td>\n",
       "      <td>13319</td>\n",
       "      <td>13304</td>\n",
       "      <td>7818</td>\n",
       "      <td>13320</td>\n",
       "    </tr>\n",
       "    <tr>\n",
       "      <th>unique</th>\n",
       "      <td>4</td>\n",
       "      <td>81</td>\n",
       "      <td>1305</td>\n",
       "      <td>31</td>\n",
       "      <td>2688</td>\n",
       "      <td>2117</td>\n",
       "    </tr>\n",
       "    <tr>\n",
       "      <th>top</th>\n",
       "      <td>Super built-up  Area</td>\n",
       "      <td>Ready To Move</td>\n",
       "      <td>Whitefield</td>\n",
       "      <td>2 BHK</td>\n",
       "      <td>GrrvaGr</td>\n",
       "      <td>1200</td>\n",
       "    </tr>\n",
       "    <tr>\n",
       "      <th>freq</th>\n",
       "      <td>8790</td>\n",
       "      <td>10581</td>\n",
       "      <td>540</td>\n",
       "      <td>5199</td>\n",
       "      <td>80</td>\n",
       "      <td>843</td>\n",
       "    </tr>\n",
       "  </tbody>\n",
       "</table>\n",
       "</div>"
      ],
      "text/plain": [
       "                   area_type   availability    location   size  society  \\\n",
       "count                  13320          13320       13319  13304     7818   \n",
       "unique                     4             81        1305     31     2688   \n",
       "top     Super built-up  Area  Ready To Move  Whitefield  2 BHK  GrrvaGr   \n",
       "freq                    8790          10581         540   5199       80   \n",
       "\n",
       "       total_sqft  \n",
       "count       13320  \n",
       "unique       2117  \n",
       "top          1200  \n",
       "freq          843  "
      ]
     },
     "execution_count": 12,
     "metadata": {},
     "output_type": "execute_result"
    }
   ],
   "source": [
    "data.describe(include=[\"O\"])"
   ]
  },
  {
   "cell_type": "markdown",
   "id": "f704d575",
   "metadata": {},
   "source": [
    "**Lots of levels for avaialbility (date?) and location. We might binarize availability to \"ready to move\" and \"not ready to move\", and factor lump location and society.\n",
    "Size could be an open response (I see 2 BHK and 2 bedroom). totl_sqft should be a numeric value (need to deal with NA)**"
   ]
  },
  {
   "cell_type": "markdown",
   "id": "beb0424b",
   "metadata": {},
   "source": [
    "**Let's take a look at the distribution of log price**"
   ]
  },
  {
   "cell_type": "markdown",
   "id": "65f950f6",
   "metadata": {},
   "source": [
    "## Train test split\n",
    "- REF: geeksforgeeks.org/sklearn-stratifiedshufflesplit-function-in-python/\n",
    "- REF2: https://stackoverflow.com/questions/45969390/difference-between-stratifiedkfold-and-stratifiedshufflesplit-in-sklearn\n",
    "- REF3: https://www.geeksforgeeks.org/stratified-k-fold-cross-validation/"
   ]
  },
  {
   "cell_type": "markdown",
   "id": "65db22a9",
   "metadata": {},
   "source": [
    "### Notes:\n",
    "- We do this early on so that we only do exploratory analysis with the train set\n",
    "- We will transform the test data once we create a data pipeline\n",
    "- StratifiedShuffleSplit is a combination of ShuffleSplit and StratifiedKFold.\n",
    "- StratifiedKfold: performs stratified sampling and k-fold cross validation:\n",
    "    - Stratified sampling preserves the distribution of the outcome variable or a selected feature (from the entire dataset) for both the train and test set. It is usually used for classification problem where the overall dataset is divided into stratas (homogeneous groups), and the \"right\" number of instances is sampled from each strata to guarantee the train set and the test set are both representative of the overall dataset. In classification problems with outcome variables that has imbalanced class, we use the levels of the outcome variable as the strata. In regression problems, we might choose an important categorical feature based on domain experts or theory (e.g., income_category) and use its level as the strata.\n",
    "    - StratifiedKfold: one problem with just using train_test_split with random seed, or stratify sampling is that depending on what random seed that I choose, my test accuracy score (estimated using the validation set approach) might be higher or lower. The solution is to use k-fold cross validation (which I can do using cross_val_score). \n",
    "    - An alternative way is to use StratifiedKfold, which basically shuffles the overall data (using np.random as default) and sampling this data (with no replacement) to create k-folds of the overall dataset. 9 folds (combined together) will be used as the train set and 1 fold will be used for the test sets. Thus, the output of StratifiedKfold is 10 sets of train indices and test indices. \n",
    "    - Let's take a look a ONE particular set of train and test indices and think about what they are: the train indices will be the indices of the observations in 9 of the 10 folds, and the test indices are indices of the observations in 1 of the 10 folds. The second set of train and test indices would be the same, except this time a different fold is used as the test set.\n",
    "    - I will train model (regr.fit()) using the train set and compute the accuracy score using the test set. I repeat this 10 times for each set of train & test sets. I will get 10 test accuracy score, and I can take the mean to get the overall CV accuracy score.\n",
    "    - StratifiedShuffleSplit: same as StratifedKFold except the overall data is shuffled each time before sklearn samples from the overall dataset to create a fold. Note that sklearn will sample with replacement (draws from the shuffled overall dataset each time to create a fold). That's why a data instance might appear in one or more folds."
   ]
  },
  {
   "cell_type": "code",
   "execution_count": 13,
   "id": "6b4dd739",
   "metadata": {},
   "outputs": [],
   "source": [
    "# init the split object\n",
    "split = ShuffleSplit(n_splits=1,\n",
    "                     test_size=TEST_SIZE,\n",
    "                     random_state=RANDOM_STATE)"
   ]
  },
  {
   "cell_type": "code",
   "execution_count": 14,
   "id": "6a499183",
   "metadata": {},
   "outputs": [
    {
     "name": "stdout",
     "output_type": "stream",
     "text": [
      "[ 3875  7004  6286 ... 12815  7293  1289], [  76 5487 5195 ... 2167 6004 4707]\n"
     ]
    }
   ],
   "source": [
    "# Only 1 fold was done since set \"n_splits\" to 1.\n",
    "# We shuffle the overall dataset, and then draw 0.8 of the sample to the train set and 0.2 to the test set\n",
    "for train_index, test_index in split.split(X=data):\n",
    "    print(f\"{train_index}, {test_index}\") # we only have one set of train and test index since we only have 1 fold\n",
    "    train_set = data.loc[train_index]\n",
    "    test_set = data.loc[test_index]"
   ]
  },
  {
   "cell_type": "code",
   "execution_count": 15,
   "id": "2912d9cb",
   "metadata": {},
   "outputs": [
    {
     "data": {
      "text/plain": [
       "(10656, 9)"
      ]
     },
     "execution_count": 15,
     "metadata": {},
     "output_type": "execute_result"
    }
   ],
   "source": [
    "housing = train_set.copy() # Make a copy of the train set for us to work with\n",
    "housing.shape"
   ]
  },
  {
   "cell_type": "markdown",
   "id": "786e8ee3",
   "metadata": {},
   "source": [
    "## Exploratory analysis"
   ]
  },
  {
   "cell_type": "markdown",
   "id": "8c0e5114",
   "metadata": {},
   "source": [
    "**The distribution of price**"
   ]
  },
  {
   "cell_type": "code",
   "execution_count": 16,
   "id": "d300af15",
   "metadata": {},
   "outputs": [
    {
     "data": {
      "text/html": [
       "<div>\n",
       "<style scoped>\n",
       "    .dataframe tbody tr th:only-of-type {\n",
       "        vertical-align: middle;\n",
       "    }\n",
       "\n",
       "    .dataframe tbody tr th {\n",
       "        vertical-align: top;\n",
       "    }\n",
       "\n",
       "    .dataframe thead th {\n",
       "        text-align: right;\n",
       "    }\n",
       "</style>\n",
       "<table border=\"1\" class=\"dataframe\">\n",
       "  <thead>\n",
       "    <tr style=\"text-align: right;\">\n",
       "      <th></th>\n",
       "      <th>area_type</th>\n",
       "      <th>availability</th>\n",
       "      <th>location</th>\n",
       "      <th>size</th>\n",
       "      <th>society</th>\n",
       "      <th>total_sqft</th>\n",
       "      <th>bath</th>\n",
       "      <th>balcony</th>\n",
       "      <th>price</th>\n",
       "    </tr>\n",
       "  </thead>\n",
       "  <tbody>\n",
       "    <tr>\n",
       "      <th>3875</th>\n",
       "      <td>Super built-up  Area</td>\n",
       "      <td>18-Aug</td>\n",
       "      <td>Kengeri Satellite Town</td>\n",
       "      <td>3 BHK</td>\n",
       "      <td>DSestSt</td>\n",
       "      <td>1149</td>\n",
       "      <td>2.0</td>\n",
       "      <td>2.0</td>\n",
       "      <td>29.00</td>\n",
       "    </tr>\n",
       "    <tr>\n",
       "      <th>7004</th>\n",
       "      <td>Super built-up  Area</td>\n",
       "      <td>Ready To Move</td>\n",
       "      <td>Uttarahalli</td>\n",
       "      <td>3 BHK</td>\n",
       "      <td>NaN</td>\n",
       "      <td>1255</td>\n",
       "      <td>2.0</td>\n",
       "      <td>3.0</td>\n",
       "      <td>50.19</td>\n",
       "    </tr>\n",
       "    <tr>\n",
       "      <th>6286</th>\n",
       "      <td>Plot  Area</td>\n",
       "      <td>18-Aug</td>\n",
       "      <td>Whitefield</td>\n",
       "      <td>2 Bedroom</td>\n",
       "      <td>NaN</td>\n",
       "      <td>1200</td>\n",
       "      <td>2.0</td>\n",
       "      <td>1.0</td>\n",
       "      <td>46.13</td>\n",
       "    </tr>\n",
       "    <tr>\n",
       "      <th>2887</th>\n",
       "      <td>Super built-up  Area</td>\n",
       "      <td>Ready To Move</td>\n",
       "      <td>Haralur Road</td>\n",
       "      <td>3 BHK</td>\n",
       "      <td>RBersll</td>\n",
       "      <td>1850</td>\n",
       "      <td>3.0</td>\n",
       "      <td>NaN</td>\n",
       "      <td>110.00</td>\n",
       "    </tr>\n",
       "    <tr>\n",
       "      <th>7746</th>\n",
       "      <td>Super built-up  Area</td>\n",
       "      <td>Ready To Move</td>\n",
       "      <td>8th Phase JP Nagar</td>\n",
       "      <td>2 BHK</td>\n",
       "      <td>NaN</td>\n",
       "      <td>1100</td>\n",
       "      <td>2.0</td>\n",
       "      <td>3.0</td>\n",
       "      <td>35.00</td>\n",
       "    </tr>\n",
       "    <tr>\n",
       "      <th>...</th>\n",
       "      <td>...</td>\n",
       "      <td>...</td>\n",
       "      <td>...</td>\n",
       "      <td>...</td>\n",
       "      <td>...</td>\n",
       "      <td>...</td>\n",
       "      <td>...</td>\n",
       "      <td>...</td>\n",
       "      <td>...</td>\n",
       "    </tr>\n",
       "    <tr>\n",
       "      <th>11633</th>\n",
       "      <td>Super built-up  Area</td>\n",
       "      <td>Ready To Move</td>\n",
       "      <td>HSR Layout</td>\n",
       "      <td>3 BHK</td>\n",
       "      <td>PuontFa</td>\n",
       "      <td>1590</td>\n",
       "      <td>2.0</td>\n",
       "      <td>2.0</td>\n",
       "      <td>135.00</td>\n",
       "    </tr>\n",
       "    <tr>\n",
       "      <th>1344</th>\n",
       "      <td>Super built-up  Area</td>\n",
       "      <td>Ready To Move</td>\n",
       "      <td>Rukmaiah Layout</td>\n",
       "      <td>3 BHK</td>\n",
       "      <td>NaN</td>\n",
       "      <td>1655</td>\n",
       "      <td>3.0</td>\n",
       "      <td>2.0</td>\n",
       "      <td>86.06</td>\n",
       "    </tr>\n",
       "    <tr>\n",
       "      <th>12815</th>\n",
       "      <td>Super built-up  Area</td>\n",
       "      <td>Ready To Move</td>\n",
       "      <td>Kodichikkanahalli</td>\n",
       "      <td>2 BHK</td>\n",
       "      <td>NaN</td>\n",
       "      <td>900</td>\n",
       "      <td>2.0</td>\n",
       "      <td>1.0</td>\n",
       "      <td>35.00</td>\n",
       "    </tr>\n",
       "    <tr>\n",
       "      <th>7293</th>\n",
       "      <td>Built-up  Area</td>\n",
       "      <td>Ready To Move</td>\n",
       "      <td>Kengeri</td>\n",
       "      <td>2 BHK</td>\n",
       "      <td>Sravema</td>\n",
       "      <td>1230</td>\n",
       "      <td>2.0</td>\n",
       "      <td>2.0</td>\n",
       "      <td>45.00</td>\n",
       "    </tr>\n",
       "    <tr>\n",
       "      <th>1289</th>\n",
       "      <td>Super built-up  Area</td>\n",
       "      <td>Ready To Move</td>\n",
       "      <td>Mysore Road</td>\n",
       "      <td>2 BHK</td>\n",
       "      <td>NaN</td>\n",
       "      <td>1239</td>\n",
       "      <td>2.0</td>\n",
       "      <td>1.0</td>\n",
       "      <td>53.00</td>\n",
       "    </tr>\n",
       "  </tbody>\n",
       "</table>\n",
       "<p>10656 rows × 9 columns</p>\n",
       "</div>"
      ],
      "text/plain": [
       "                  area_type   availability                location       size  \\\n",
       "3875   Super built-up  Area         18-Aug  Kengeri Satellite Town      3 BHK   \n",
       "7004   Super built-up  Area  Ready To Move             Uttarahalli      3 BHK   \n",
       "6286             Plot  Area         18-Aug              Whitefield  2 Bedroom   \n",
       "2887   Super built-up  Area  Ready To Move            Haralur Road      3 BHK   \n",
       "7746   Super built-up  Area  Ready To Move      8th Phase JP Nagar      2 BHK   \n",
       "...                     ...            ...                     ...        ...   \n",
       "11633  Super built-up  Area  Ready To Move              HSR Layout      3 BHK   \n",
       "1344   Super built-up  Area  Ready To Move         Rukmaiah Layout      3 BHK   \n",
       "12815  Super built-up  Area  Ready To Move       Kodichikkanahalli      2 BHK   \n",
       "7293         Built-up  Area  Ready To Move                 Kengeri      2 BHK   \n",
       "1289   Super built-up  Area  Ready To Move             Mysore Road      2 BHK   \n",
       "\n",
       "       society total_sqft  bath  balcony   price  \n",
       "3875   DSestSt       1149   2.0      2.0   29.00  \n",
       "7004       NaN       1255   2.0      3.0   50.19  \n",
       "6286       NaN       1200   2.0      1.0   46.13  \n",
       "2887   RBersll       1850   3.0      NaN  110.00  \n",
       "7746       NaN       1100   2.0      3.0   35.00  \n",
       "...        ...        ...   ...      ...     ...  \n",
       "11633  PuontFa       1590   2.0      2.0  135.00  \n",
       "1344       NaN       1655   3.0      2.0   86.06  \n",
       "12815      NaN        900   2.0      1.0   35.00  \n",
       "7293   Sravema       1230   2.0      2.0   45.00  \n",
       "1289       NaN       1239   2.0      1.0   53.00  \n",
       "\n",
       "[10656 rows x 9 columns]"
      ]
     },
     "execution_count": 16,
     "metadata": {},
     "output_type": "execute_result"
    }
   ],
   "source": [
    "housing"
   ]
  },
  {
   "cell_type": "code",
   "execution_count": 17,
   "id": "e1c86f5e",
   "metadata": {},
   "outputs": [
    {
     "data": {
      "text/plain": [
       "<AxesSubplot:>"
      ]
     },
     "execution_count": 17,
     "metadata": {},
     "output_type": "execute_result"
    },
    {
     "data": {
      "image/png": "[encoded data removed]",
      "text/plain": [
       "<Figure size 432x288 with 1 Axes>"
      ]
     },
     "metadata": {
      "needs_background": "light"
     },
     "output_type": "display_data"
    }
   ],
   "source": [
    "housing[\"price\"].hist(bins=30)"
   ]
  },
  {
   "cell_type": "markdown",
   "id": "a3b63e1d",
   "metadata": {},
   "source": [
    "**I need to log transform price to bring high/low prices together and spread small prices that are close togeher further out. NOTE: I usually only transform the response variable if non-normal error or non-common Var(u) are the ONLY problems.** "
   ]
  },
  {
   "cell_type": "markdown",
   "id": "0cd9ad36",
   "metadata": {},
   "source": [
    "!!TF!!"
   ]
  },
  {
   "cell_type": "code",
   "execution_count": 18,
   "id": "724c8714",
   "metadata": {},
   "outputs": [],
   "source": [
    "# save a copy of the original \"price\" column before log transformation\n",
    "housing[\"orig_price\"] = housing[\"price\"]"
   ]
  },
  {
   "cell_type": "code",
   "execution_count": 19,
   "id": "db73a3fd",
   "metadata": {},
   "outputs": [],
   "source": [
    "log_tf= LogTransformer(variables = ['price'])\n",
    "housing=log_tf.fit_transform(housing)"
   ]
  },
  {
   "cell_type": "code",
   "execution_count": 20,
   "id": "11fbc0e5",
   "metadata": {
    "scrolled": true
   },
   "outputs": [
    {
     "data": {
      "text/plain": [
       "<AxesSubplot:>"
      ]
     },
     "execution_count": 20,
     "metadata": {},
     "output_type": "execute_result"
    },
    {
     "data": {
      "image/png": "[encoded data removed]",
      "text/plain": [
       "<Figure size 432x288 with 1 Axes>"
      ]
     },
     "metadata": {
      "needs_background": "light"
     },
     "output_type": "display_data"
    }
   ],
   "source": [
    "housing[\"price\"].hist(bins=30)"
   ]
  },
  {
   "cell_type": "markdown",
   "id": "c2b32b4f",
   "metadata": {},
   "source": [
    "## Categorical variables"
   ]
  },
  {
   "cell_type": "code",
   "execution_count": 21,
   "id": "b8ef96d5",
   "metadata": {},
   "outputs": [
    {
     "data": {
      "text/plain": [
       "['area_type', 'availability', 'location', 'size', 'society', 'total_sqft']"
      ]
     },
     "execution_count": 21,
     "metadata": {},
     "output_type": "execute_result"
    }
   ],
   "source": [
    "cat_vars = [var for var in housing.columns if housing[var].dtype==\"O\"]\n",
    "cat_vars"
   ]
  },
  {
   "cell_type": "markdown",
   "id": "0c6d58d7",
   "metadata": {},
   "source": [
    "### size (number of bedrooms)"
   ]
  },
  {
   "cell_type": "code",
   "execution_count": 22,
   "id": "7700ee6d",
   "metadata": {},
   "outputs": [
    {
     "data": {
      "text/plain": [
       "array(['3 BHK', '2 Bedroom', '2 BHK', '1 BHK', '4 Bedroom', '3 Bedroom',\n",
       "       '7 BHK', '4 BHK', '8 Bedroom', '6 Bedroom', '6 BHK', '5 BHK',\n",
       "       '5 Bedroom', '1 Bedroom', nan, '9 Bedroom', '1 RK', '7 Bedroom',\n",
       "       '9 BHK', '11 BHK', '10 Bedroom', '10 BHK', '8 BHK', '11 Bedroom',\n",
       "       '12 Bedroom', '14 BHK', '16 BHK', '18 Bedroom', '13 BHK', '27 BHK'],\n",
       "      dtype=object)"
      ]
     },
     "execution_count": 22,
     "metadata": {},
     "output_type": "execute_result"
    }
   ],
   "source": [
    "housing[\"size\"].unique()"
   ]
  },
  {
   "cell_type": "code",
   "execution_count": 23,
   "id": "8d414696",
   "metadata": {},
   "outputs": [
    {
     "data": {
      "text/plain": [
       "0.0014076576576576576"
      ]
     },
     "execution_count": 23,
     "metadata": {},
     "output_type": "execute_result"
    }
   ],
   "source": [
    "housing[\"size\"].isna().sum()/(len(housing)) # size has a very small number of missing values, let's just drop them"
   ]
  },
  {
   "cell_type": "code",
   "execution_count": 24,
   "id": "cc76d8c6",
   "metadata": {},
   "outputs": [],
   "source": [
    "housing.dropna(subset=\"size\", inplace=True)"
   ]
  },
  {
   "cell_type": "code",
   "execution_count": 25,
   "id": "2d4f91f6",
   "metadata": {},
   "outputs": [
    {
     "data": {
      "text/plain": [
       "(10641, 10)"
      ]
     },
     "execution_count": 25,
     "metadata": {},
     "output_type": "execute_result"
    }
   ],
   "source": [
    "housing.shape"
   ]
  },
  {
   "cell_type": "code",
   "execution_count": 26,
   "id": "d7e68809",
   "metadata": {},
   "outputs": [],
   "source": [
    "# Let's remove the \"BNK\" and \"Bedroom\" and only retain the numeric value. \n",
    "# We will then convert size to a numeric variable\n",
    "# Extract the first one or more digits and then set column to integer\n",
    "housing[\"size\"]=(housing[\"size\"]\n",
    " .str.extract(r'(\\d+)')\n",
    " .astype(float))"
   ]
  },
  {
   "cell_type": "code",
   "execution_count": 27,
   "id": "1a2c528f",
   "metadata": {},
   "outputs": [
    {
     "data": {
      "text/plain": [
       "2.0     4421\n",
       "3.0     3914\n",
       "4.0     1118\n",
       "1.0      514\n",
       "5.0      289\n",
       "6.0      169\n",
       "7.0       79\n",
       "8.0       75\n",
       "9.0       44\n",
       "10.0       8\n",
       "11.0       4\n",
       "12.0       1\n",
       "14.0       1\n",
       "16.0       1\n",
       "18.0       1\n",
       "13.0       1\n",
       "27.0       1\n",
       "Name: size, dtype: int64"
      ]
     },
     "execution_count": 27,
     "metadata": {},
     "output_type": "execute_result"
    }
   ],
   "source": [
    "housing[\"size\"].value_counts()"
   ]
  },
  {
   "cell_type": "code",
   "execution_count": 28,
   "id": "05a3e641",
   "metadata": {},
   "outputs": [],
   "source": [
    "# Remove outliers in size\n",
    "housing = remove_outlier(housing,\"size\")"
   ]
  },
  {
   "cell_type": "markdown",
   "id": "f84d6b1a",
   "metadata": {},
   "source": [
    "**I remove the 15 missing values, remove the BHK/Bedroom text, and then remove the outliers and convert the variable to int64**"
   ]
  },
  {
   "cell_type": "code",
   "execution_count": 29,
   "id": "d149b091",
   "metadata": {},
   "outputs": [
    {
     "data": {
      "text/plain": [
       "(9967, 10)"
      ]
     },
     "execution_count": 29,
     "metadata": {},
     "output_type": "execute_result"
    }
   ],
   "source": [
    "housing.shape"
   ]
  },
  {
   "cell_type": "markdown",
   "id": "3b5d7b47",
   "metadata": {},
   "source": [
    "### Area and society"
   ]
  },
  {
   "cell_type": "code",
   "execution_count": 30,
   "id": "874a7cb4",
   "metadata": {},
   "outputs": [
    {
     "data": {
      "text/plain": [
       "Whitefield                          428\n",
       "Sarjapur  Road                      311\n",
       "Electronic City                     255\n",
       "Kanakpura Road                      221\n",
       "Thanisandra                         181\n",
       "                                   ... \n",
       "Bilal Nagar                           1\n",
       "Neelasandra                           1\n",
       "J P Nagar 7th Phase Ramayya City      1\n",
       "Thirupalya                            1\n",
       "Rukmaiah Layout                       1\n",
       "Name: location, Length: 1112, dtype: int64"
      ]
     },
     "execution_count": 30,
     "metadata": {},
     "output_type": "execute_result"
    }
   ],
   "source": [
    "housing[\"location\"].value_counts()"
   ]
  },
  {
   "cell_type": "code",
   "execution_count": 31,
   "id": "5da54124",
   "metadata": {},
   "outputs": [
    {
     "data": {
      "text/plain": [
       "GrrvaGr    65\n",
       "PrarePa    59\n",
       "Sryalan    52\n",
       "GMown E    47\n",
       "Prtates    47\n",
       "           ..\n",
       "SocusHi     1\n",
       "Vaw 2il     1\n",
       "Sie 2is     1\n",
       "Apntsal     1\n",
       "Vaeva E     1\n",
       "Name: society, Length: 2317, dtype: int64"
      ]
     },
     "execution_count": 31,
     "metadata": {},
     "output_type": "execute_result"
    }
   ],
   "source": [
    "housing[\"society\"].value_counts()"
   ]
  },
  {
   "cell_type": "markdown",
   "id": "2771a8da",
   "metadata": {},
   "source": [
    "!!TF!!"
   ]
  },
  {
   "cell_type": "code",
   "execution_count": 32,
   "id": "d40ea711",
   "metadata": {},
   "outputs": [],
   "source": [
    "# drop society\n",
    "drop_features_tf = DropFeatures(features_to_drop= FEATURES_TO_DROP)\n",
    "housing=drop_features_tf.fit_transform(housing)"
   ]
  },
  {
   "cell_type": "markdown",
   "id": "1e738016",
   "metadata": {},
   "source": [
    "**Society both have 2333 levels. I don't really have domain knowledge on this variable to meaningfully reduce its level (e.g. by binning). For this reason, I will exclude it from my models.**  "
   ]
  },
  {
   "cell_type": "markdown",
   "id": "6f7bcb8e",
   "metadata": {},
   "source": [
    "### area_type"
   ]
  },
  {
   "cell_type": "code",
   "execution_count": 33,
   "id": "af05ecd7",
   "metadata": {},
   "outputs": [
    {
     "data": {
      "text/plain": [
       "0"
      ]
     },
     "execution_count": 33,
     "metadata": {},
     "output_type": "execute_result"
    }
   ],
   "source": [
    "housing[\"area_type\"].isnull().sum()"
   ]
  },
  {
   "cell_type": "code",
   "execution_count": 34,
   "id": "d7236200",
   "metadata": {
    "scrolled": true
   },
   "outputs": [
    {
     "data": {
      "text/plain": [
       "Super built-up  Area    6977\n",
       "Built-up  Area          1807\n",
       "Plot  Area              1120\n",
       "Carpet  Area              63\n",
       "Name: area_type, dtype: int64"
      ]
     },
     "execution_count": 34,
     "metadata": {},
     "output_type": "execute_result"
    }
   ],
   "source": [
    "housing[\"area_type\"].value_counts()"
   ]
  },
  {
   "cell_type": "markdown",
   "id": "8c22aec2",
   "metadata": {},
   "source": [
    "**I will retain the top 2 levels and combine plot area and carpet area as \"Other\"**"
   ]
  },
  {
   "cell_type": "code",
   "execution_count": 35,
   "id": "5fe786f2",
   "metadata": {},
   "outputs": [],
   "source": [
    "# get top n (I will retain n levels) and lump the rest to Other\n",
    "topn=(housing[\"area_type\"]\n",
    "    .value_counts(sort=True)\n",
    "    .index[:AREA_TYPE_RETAIN])\n",
    "\n",
    "housing[\"area_type\"]=(housing[\"area_type\"]\n",
    "     .where(housing[\"area_type\"].isin(topn),\n",
    "            \"Other\")\n",
    ")"
   ]
  },
  {
   "cell_type": "code",
   "execution_count": 36,
   "id": "8e5b38c7",
   "metadata": {},
   "outputs": [
    {
     "data": {
      "text/plain": [
       "Super built-up  Area    0.700010\n",
       "Built-up  Area          0.181298\n",
       "Other                   0.118692\n",
       "Name: area_type, dtype: float64"
      ]
     },
     "execution_count": 36,
     "metadata": {},
     "output_type": "execute_result"
    }
   ],
   "source": [
    "housing[\"area_type\"].value_counts(sort=True, normalize=True)"
   ]
  },
  {
   "cell_type": "markdown",
   "id": "def95139",
   "metadata": {},
   "source": [
    "### availability"
   ]
  },
  {
   "cell_type": "code",
   "execution_count": 37,
   "id": "a8bdc8ce",
   "metadata": {},
   "outputs": [
    {
     "data": {
      "text/plain": [
       "0"
      ]
     },
     "execution_count": 37,
     "metadata": {},
     "output_type": "execute_result"
    }
   ],
   "source": [
    "housing[\"availability\"].isna().sum()"
   ]
  },
  {
   "cell_type": "code",
   "execution_count": 38,
   "id": "7a2ee2cc",
   "metadata": {},
   "outputs": [
    {
     "data": {
      "text/plain": [
       "Ready To Move    7822\n",
       "18-Dec            250\n",
       "18-May            231\n",
       "18-Apr            207\n",
       "18-Aug            163\n",
       "                 ... \n",
       "14-Jul              1\n",
       "16-Jul              1\n",
       "15-Dec              1\n",
       "14-Nov              1\n",
       "15-Jun              1\n",
       "Name: availability, Length: 78, dtype: int64"
      ]
     },
     "execution_count": 38,
     "metadata": {},
     "output_type": "execute_result"
    }
   ],
   "source": [
    "housing[\"availability\"].value_counts(sort=True)"
   ]
  },
  {
   "cell_type": "markdown",
   "id": "0d00e263",
   "metadata": {},
   "source": [
    "**It is difficult to know if the availiability dates are predictive of price. It would have been more useful if we know the elasped time between sale date and availability of the house (for move-in). For this reason, let's just binarize this variable: if house is \"Ready to Move\", the variable takes on 1, and 0 otherwise.**"
   ]
  },
  {
   "cell_type": "markdown",
   "id": "20fa4b45",
   "metadata": {},
   "source": [
    "!!TF!!"
   ]
  },
  {
   "cell_type": "code",
   "execution_count": 39,
   "id": "d5a5564b",
   "metadata": {},
   "outputs": [],
   "source": [
    "housing[\"availability\"]=(housing[\"availability\"]\n",
    " .apply(lambda x: \"Ready to move\" if (x ==\"Ready To Move\") else \"Not ready to move\")\n",
    " .astype(\"category\"))"
   ]
  },
  {
   "cell_type": "code",
   "execution_count": 40,
   "id": "e7142196",
   "metadata": {},
   "outputs": [
    {
     "data": {
      "text/plain": [
       "Ready to move        7822\n",
       "Not ready to move    2145\n",
       "Name: availability, dtype: int64"
      ]
     },
     "execution_count": 40,
     "metadata": {},
     "output_type": "execute_result"
    }
   ],
   "source": [
    "housing[\"availability\"].value_counts()"
   ]
  },
  {
   "cell_type": "markdown",
   "id": "e7ea293e",
   "metadata": {},
   "source": [
    "### total_sqft"
   ]
  },
  {
   "cell_type": "markdown",
   "id": "2237b4f1",
   "metadata": {},
   "source": [
    "**I expect this to be a numeric value, why is this an object? Are there text in this column?**"
   ]
  },
  {
   "cell_type": "code",
   "execution_count": 41,
   "id": "0d000b5e",
   "metadata": {},
   "outputs": [
    {
     "data": {
      "text/plain": [
       "0"
      ]
     },
     "execution_count": 41,
     "metadata": {},
     "output_type": "execute_result"
    }
   ],
   "source": [
    "housing[\"total_sqft\"].isnull().sum()"
   ]
  },
  {
   "cell_type": "code",
   "execution_count": 42,
   "id": "c290b4ca",
   "metadata": {},
   "outputs": [
    {
     "data": {
      "text/plain": [
       "     157\n",
       "S     21\n",
       "A      7\n",
       "G      2\n",
       "Name: total_sqft, dtype: int64"
      ]
     },
     "execution_count": 42,
     "metadata": {},
     "output_type": "execute_result"
    }
   ],
   "source": [
    "# find all of the non numeric characters (disregarding space)\n",
    "mask=(housing[\"total_sqft\"]\n",
    " .str.extract(r'([^0-9.])', expand=False)) # return a series\n",
    "mask.value_counts()"
   ]
  },
  {
   "cell_type": "markdown",
   "id": "b84c1edb",
   "metadata": {},
   "source": [
    "**There are some elements with blank entry, and others with \".\" and letters. Let's take a look at these rows**"
   ]
  },
  {
   "cell_type": "code",
   "execution_count": 43,
   "id": "aa9b86f9",
   "metadata": {},
   "outputs": [
    {
     "data": {
      "text/plain": [
       "array(['45.06Sq. Meter', '3103 - 3890', '1180 - 1630', '1.26Acres',\n",
       "       '660 - 670', '2400 - 2600', '167Sq. Meter', '2805 - 3565',\n",
       "       '38Guntha', '2830 - 2882', '1408 - 1455', '2957 - 3450',\n",
       "       '1446 - 1506', '361.33Sq. Yards', '1610 - 1880', '934 - 1437',\n",
       "       '1100Sq. Yards', '1230 - 1490', '598 - 958', '2Acres',\n",
       "       '2249.81 - 4112.19', '1115 - 1130', '1437 - 1629', '1150 - 1194',\n",
       "       '540 - 670', '620 - 933', '1520 - 1740', '142.61Sq. Meter',\n",
       "       '524 - 894', '15Acres', '3010 - 3410', '1270 - 1275',\n",
       "       '5666 - 5669', '655 - 742', '1564 - 1850', '3630 - 3800',\n",
       "       '1145 - 1340', '2800 - 2870', '381 - 535', '645 - 936',\n",
       "       '1000 - 1285', '1565 - 1595', '1255 - 1350', '3425 - 3435',\n",
       "       '4260 - 4408', '1310 - 1615', '633 - 666', '1100 - 1225',\n",
       "       '610 - 615', '1804 - 2273', '2650 - 2990', '980 - 1030',\n",
       "       '1660 - 1805', '2563 - 2733', '1250 - 1305', '942 - 1117',\n",
       "       '3090 - 5002', '3450 - 3472', '540 - 565', '1Grounds',\n",
       "       '697Sq. Meter', '1360 - 1890', '1005.03 - 1252.49', '1160 - 1195',\n",
       "       '650 - 665', '1618 - 1929', '1070 - 1315', '704 - 730',\n",
       "       '580 - 650', '763 - 805', '151.11Sq. Yards', '6Acres',\n",
       "       '3508 - 4201', '1430 - 1630', '4900 - 4940', '1349 - 3324',\n",
       "       '1079 - 1183', '2462 - 2467', '1010 - 1300', '620 - 934',\n",
       "       '840 - 1010', '854 - 960', '1.25Acres', '884 - 1116',\n",
       "       '1195 - 1440', '888 - 1290', '1400 - 1421', '315Sq. Yards',\n",
       "       '2.09Acres', '520 - 645', '596 - 804', '981 - 1249', '2215 - 2475',\n",
       "       '660 - 700', '1450 - 1595', '1520 - 1759', '547.34 - 827.31',\n",
       "       '2528 - 3188', '2150 - 2225', '188.89Sq. Yards', '1230 - 1290',\n",
       "       '1390 - 1600', '1500Sq. Meter', '1015 - 1540', '783 - 943',\n",
       "       '2940Sq. Yards', '1482 - 1846', '660 - 780', '3500 - 3600',\n",
       "       '1925 - 2680', '850 - 1093', '117Sq. Yards', '1550 - 1590',\n",
       "       '2041 - 2090', '1750 - 2640', '132Sq. Yards', '1782 - 2000',\n",
       "       '1469 - 1766', '1140 - 1250', '706 - 716', '605 - 624',\n",
       "       '2725 - 3250', '1120 - 1145', '1200 - 1470', '2204 - 2362',\n",
       "       '629 - 1026', '1783 - 1878', '1482 - 1684', '1076 - 1199',\n",
       "       '2710 - 3360', '770 - 841', '750 - 800', '4000 - 4450',\n",
       "       '300Sq. Yards', '799 - 803', '1215 - 1495', '3293 - 5314',\n",
       "       '870 - 1080', '1574Sq. Yards', '1450 - 1950', '86.72Sq. Meter',\n",
       "       '2695 - 2940', '1791 - 4000', '1004 - 1204', '613 - 648',\n",
       "       '3606 - 5091', '2806 - 3019', '3436 - 3643', '2100 - 2850',\n",
       "       '3067 - 8156', '1365 - 1700', '204Sq. Meter', '84.53Sq. Meter',\n",
       "       '1650 - 2538', '30Acres', '850 - 1060', '1052 - 1322',\n",
       "       '4000 - 5249', '133.3Sq. Yards', '1440 - 1884', '4050 - 4075',\n",
       "       '712 - 938', '1210 - 1477', '2580 - 2591', '3300 - 3335',\n",
       "       '1255 - 1375', '1100Sq. Meter', '1125 - 1500', '650 - 760',\n",
       "       '1974 - 2171', '78.03Sq. Meter'], dtype=object)"
      ]
     },
     "execution_count": 43,
     "metadata": {},
     "output_type": "execute_result"
    }
   ],
   "source": [
    "(housing[\"total_sqft\"]\n",
    " .loc[mask.notnull()]\n",
    " .unique())"
   ]
  },
  {
   "cell_type": "markdown",
   "id": "ae61a734",
   "metadata": {},
   "source": [
    "### Handle these cases, and discard the rest:\n",
    "- XSq. Meter: I will remove \"Sq. Meter\" and convert the value to square feet \n",
    "- Range of two values: I will take the average of the two numbers\n",
    "- XSq. Yards: I will remove \"Sq. Yards\" and convert the value to square feet\n",
    "- Set the rest of the observations with text to NA"
   ]
  },
  {
   "cell_type": "code",
   "execution_count": 44,
   "id": "025d0878",
   "metadata": {},
   "outputs": [],
   "source": [
    "# Get a subset of the total_sqft column that contains non-numeric characters\n",
    "sub_ser=(housing[\"total_sqft\"]\n",
    " .loc[mask.notnull()])"
   ]
  },
  {
   "cell_type": "code",
   "execution_count": 45,
   "id": "284c613d",
   "metadata": {},
   "outputs": [],
   "source": [
    "# process total_sqft elements that contains non-numeric characters\n",
    "sub_ser=(sub_ser\n",
    "     .apply(lambda x:process_total_sqft(x)))"
   ]
  },
  {
   "cell_type": "code",
   "execution_count": 46,
   "id": "9cc35e91",
   "metadata": {},
   "outputs": [],
   "source": [
    "# replace elements in total_sqft with non-numeric characters with the processed data\n",
    "housing.loc[list(sub_ser.index),'total_sqft'] = sub_ser"
   ]
  },
  {
   "cell_type": "code",
   "execution_count": 47,
   "id": "c4347e0d",
   "metadata": {},
   "outputs": [],
   "source": [
    "# drop all NA in total_sqft, and then convert the column to float\n",
    "housing[\"total_sqft\"]=(housing\n",
    "    .total_sqft\n",
    "    .dropna()\n",
    "    .astype(float))"
   ]
  },
  {
   "cell_type": "code",
   "execution_count": 48,
   "id": "51e9e07e",
   "metadata": {},
   "outputs": [
    {
     "data": {
      "text/plain": [
       "0"
      ]
     },
     "execution_count": 48,
     "metadata": {},
     "output_type": "execute_result"
    }
   ],
   "source": [
    "housing.total_sqft.dropna().isna().sum()"
   ]
  },
  {
   "cell_type": "code",
   "execution_count": 49,
   "id": "08d4b48d",
   "metadata": {},
   "outputs": [
    {
     "data": {
      "text/plain": [
       "(9967, 9)"
      ]
     },
     "execution_count": 49,
     "metadata": {},
     "output_type": "execute_result"
    }
   ],
   "source": [
    "housing.shape"
   ]
  },
  {
   "cell_type": "code",
   "execution_count": 50,
   "id": "35fd135b",
   "metadata": {},
   "outputs": [],
   "source": [
    "# Remove outliers in total_sqft\n",
    "housing = remove_outlier(housing,\"total_sqft\")"
   ]
  },
  {
   "cell_type": "code",
   "execution_count": 51,
   "id": "ac91d6f9",
   "metadata": {},
   "outputs": [
    {
     "data": {
      "text/plain": [
       "(9139, 9)"
      ]
     },
     "execution_count": 51,
     "metadata": {},
     "output_type": "execute_result"
    }
   ],
   "source": [
    "housing.shape"
   ]
  },
  {
   "cell_type": "code",
   "execution_count": 52,
   "id": "fcabb747",
   "metadata": {
    "scrolled": true
   },
   "outputs": [
    {
     "data": {
      "text/plain": [
       "<AxesSubplot:ylabel='Frequency'>"
      ]
     },
     "execution_count": 52,
     "metadata": {},
     "output_type": "execute_result"
    },
    {
     "data": {
      "image/png": "[encoded data removed]",
      "text/plain": [
       "<Figure size 432x288 with 1 Axes>"
      ]
     },
     "metadata": {
      "needs_background": "light"
     },
     "output_type": "display_data"
    }
   ],
   "source": [
    "housing[\"total_sqft\"].plot.hist(bins=50)"
   ]
  },
  {
   "cell_type": "code",
   "execution_count": 53,
   "id": "f8b5868e",
   "metadata": {},
   "outputs": [
    {
     "data": {
      "text/plain": [
       "count    9139.000000\n",
       "mean     1313.009557\n",
       "std       394.413580\n",
       "min       276.000000\n",
       "25%      1083.500000\n",
       "50%      1240.000000\n",
       "75%      1530.000000\n",
       "max      2470.000000\n",
       "Name: total_sqft, dtype: float64"
      ]
     },
     "execution_count": 53,
     "metadata": {},
     "output_type": "execute_result"
    }
   ],
   "source": [
    "housing[\"total_sqft\"].describe()"
   ]
  },
  {
   "cell_type": "markdown",
   "id": "75866884",
   "metadata": {},
   "source": [
    "### Location"
   ]
  },
  {
   "cell_type": "code",
   "execution_count": 54,
   "id": "54cfcabf",
   "metadata": {},
   "outputs": [
    {
     "data": {
      "text/plain": [
       "1049"
      ]
     },
     "execution_count": 54,
     "metadata": {},
     "output_type": "execute_result"
    }
   ],
   "source": [
    "housing.location.nunique()"
   ]
  },
  {
   "cell_type": "code",
   "execution_count": 62,
   "id": "07fad2b0",
   "metadata": {},
   "outputs": [],
   "source": [
    "val_counts = housing[\"location\"].value_counts()\n",
    "keep_locations = val_counts.loc[val_counts>10].index"
   ]
  },
  {
   "cell_type": "code",
   "execution_count": 63,
   "id": "fc3032ef",
   "metadata": {},
   "outputs": [],
   "source": [
    "housing[\"location\"]=(housing[\"location\"]\n",
    "     .where(housing[\"location\"].isin(keep_locations),\n",
    "            \"Other\"))"
   ]
  },
  {
   "cell_type": "code",
   "execution_count": 66,
   "id": "f3b5cd3a",
   "metadata": {},
   "outputs": [
    {
     "data": {
      "text/plain": [
       "Other                 2369\n",
       "Whitefield             351\n",
       "Sarjapur  Road         271\n",
       "Electronic City        254\n",
       "Kanakpura Road         213\n",
       "                      ... \n",
       "Basaveshwara Nagar      11\n",
       "Badavala Nagar          11\n",
       "Billekahalli            11\n",
       "Vasanthapura            11\n",
       "NGR Layout              11\n",
       "Name: location, Length: 171, dtype: int64"
      ]
     },
     "execution_count": 66,
     "metadata": {},
     "output_type": "execute_result"
    }
   ],
   "source": [
    "housing.location.value_counts()"
   ]
  },
  {
   "cell_type": "code",
   "execution_count": null,
   "id": "7be36645",
   "metadata": {},
   "outputs": [],
   "source": []
  },
  {
   "cell_type": "code",
   "execution_count": null,
   "id": "d2513657",
   "metadata": {},
   "outputs": [],
   "source": []
  },
  {
   "cell_type": "code",
   "execution_count": null,
   "id": "b912a692",
   "metadata": {},
   "outputs": [],
   "source": []
  },
  {
   "cell_type": "code",
   "execution_count": null,
   "id": "b70249c5",
   "metadata": {},
   "outputs": [],
   "source": []
  },
  {
   "cell_type": "markdown",
   "id": "91a9fda7",
   "metadata": {},
   "source": [
    "## Removing additional observations that could be erroroneous"
   ]
  },
  {
   "cell_type": "markdown",
   "id": "44af6ad7",
   "metadata": {},
   "source": [
    "**I will remove all houses where the number of bath > number of bedrooms (size)+2 since it is unreasonable for a house to have 2 more bathrooms than bedrooms.**"
   ]
  },
  {
   "cell_type": "code",
   "execution_count": null,
   "id": "33c5081a",
   "metadata": {},
   "outputs": [],
   "source": [
    "housing.dropna(subset=[\"bath\"], inplace=True)"
   ]
  },
  {
   "cell_type": "code",
   "execution_count": null,
   "id": "cc3313d7",
   "metadata": {},
   "outputs": [],
   "source": [
    "housing.shape"
   ]
  },
  {
   "cell_type": "code",
   "execution_count": null,
   "id": "92b35f1e",
   "metadata": {},
   "outputs": [],
   "source": [
    "housing=housing.loc[housing[\"bath\"]<(housing[\"size\"]+2),:].copy()"
   ]
  },
  {
   "cell_type": "markdown",
   "id": "a6e2d83d",
   "metadata": {},
   "source": [
    "**I remove all outliers of price/sqft at each location**"
   ]
  },
  {
   "cell_type": "code",
   "execution_count": null,
   "id": "25b13224",
   "metadata": {},
   "outputs": [],
   "source": [
    "for key, subdf in housing.groupby(\"location\"):\n",
    "    print(key)\n",
    "    print(subdf)"
   ]
  },
  {
   "cell_type": "code",
   "execution_count": null,
   "id": "5db3b125",
   "metadata": {},
   "outputs": [],
   "source": [
    "# Compute price per total sqft\n",
    "try:\n",
    "    housing[\"price_per_total_sqft\"] = housing[\"orig_price\"]/housing[\"total_sqft\"]\n",
    "except ZeroDivisionError:\n",
    "    print(\"Cannot divide by zero for price_per_total_sqft!\")"
   ]
  },
  {
   "cell_type": "code",
   "execution_count": null,
   "id": "398d7996",
   "metadata": {},
   "outputs": [],
   "source": [
    "housing.head(5)"
   ]
  },
  {
   "cell_type": "code",
   "execution_count": null,
   "id": "340c9154",
   "metadata": {},
   "outputs": [],
   "source": [
    "def remove_outlier_pps(df_in):\n",
    "    # init empty output dataframe\n",
    "    df_out = pd.DataFrame() \n",
    "    # Get dataframe per location group\n",
    "    for key, df_per_group in df_in.groupby(\"location\"):\n",
    "        # get group mean and std\n",
    "        group_mean = np.mean(df_per_group[\"price_per_total_sqft\"])\n",
    "        group_std = np.std(df_per_group[\"price_per_total_sqft\"])\n",
    "        # if the absolute standardized price_per_total_sqft is less than 2.5 then keep\n",
    "        df_reduced=df_per_group.loc[abs(((df_per_group[\"price_per_total_sqft\"]-group_mean)/group_std))<2.5,:]\n",
    "        \n",
    "        # populate df_out (row concat)\n",
    "        df_out = pd.concat([df_out,df_reduced], ignore_index=True)\n",
    "        \n",
    "    return df_out"
   ]
  },
  {
   "cell_type": "code",
   "execution_count": null,
   "id": "4f6423c3",
   "metadata": {},
   "outputs": [],
   "source": [
    "housing=remove_outlier_pps(housing)"
   ]
  },
  {
   "cell_type": "code",
   "execution_count": null,
   "id": "f4fe290c",
   "metadata": {},
   "outputs": [],
   "source": [
    "housing.head()"
   ]
  },
  {
   "cell_type": "code",
   "execution_count": null,
   "id": "2a8133a1",
   "metadata": {},
   "outputs": [],
   "source": []
  },
  {
   "cell_type": "markdown",
   "id": "78e8d9cc",
   "metadata": {},
   "source": [
    "## EDA on the processed categorical variables"
   ]
  },
  {
   "cell_type": "markdown",
   "id": "76564949",
   "metadata": {},
   "source": [
    "### price X area_type\n",
    "- Boxplot of price for each area_type categories\n",
    "- Compute the median price for each area_type categories and create a barplot (use median price so that we will be robust to outliers)"
   ]
  },
  {
   "cell_type": "code",
   "execution_count": null,
   "id": "630ac1e5",
   "metadata": {},
   "outputs": [],
   "source": [
    "rank= (housing\n",
    "          .groupby(\"area_type\")[\"orig_price\"]\n",
    "          .median()\n",
    "          .sort_values(ascending=False)\n",
    "          .index)"
   ]
  },
  {
   "cell_type": "code",
   "execution_count": null,
   "id": "00253374",
   "metadata": {},
   "outputs": [],
   "source": [
    "fig = plt.figure(figsize=(10,5))\n",
    "ax= fig.add_subplot(1,1,1)\n",
    "\n",
    "ax = sns.boxplot(\n",
    "    x = \"orig_price\",\n",
    "    y = \"area_type\",\n",
    "    data=housing,\n",
    "    order=rank)\n",
    "ax.set_xlabel(\"log house prices\")\n"
   ]
  },
  {
   "cell_type": "code",
   "execution_count": null,
   "id": "0b165b3b",
   "metadata": {},
   "outputs": [],
   "source": [
    "# Using barplot\n",
    "sns.barplot(x=\"orig_price\",\n",
    "            y=\"area_type\",\n",
    "            estimator=np.median,\n",
    "            data = housing,\n",
    "            order = rank)    "
   ]
  },
  {
   "cell_type": "markdown",
   "id": "badf2005",
   "metadata": {},
   "source": [
    "**The variance of houses in super built-up area is the highest, and variance of houses in built-up area is the loweest. Other has the highest median price (twice higher than the other two area types) and the median price of houses in built-up area is similar to houses in super built-up area.**"
   ]
  },
  {
   "cell_type": "code",
   "execution_count": null,
   "id": "8ec12b03",
   "metadata": {},
   "outputs": [],
   "source": [
    "housing.orig_price"
   ]
  },
  {
   "cell_type": "markdown",
   "id": "0eb127d5",
   "metadata": {},
   "source": [
    "### price vs availability"
   ]
  },
  {
   "cell_type": "code",
   "execution_count": null,
   "id": "1d1c2da0",
   "metadata": {},
   "outputs": [],
   "source": [
    "fig = plt.figure(figsize=(10,5))\n",
    "ax= fig.add_subplot(1,1,1)\n",
    "\n",
    "# Using barplot\n",
    "ax = sns.barplot(x=\"orig_price\",\n",
    "            y=\"availability\",\n",
    "            estimator=np.median,\n",
    "            data = housing)"
   ]
  },
  {
   "cell_type": "markdown",
   "id": "7571a52c",
   "metadata": {},
   "source": [
    "**Houses that are \"Ready to move in\" command a median price than houses not ready to be move in.**"
   ]
  },
  {
   "cell_type": "markdown",
   "id": "6b6c80a0",
   "metadata": {},
   "source": [
    "**We can create a variable called \"tot_sqft_per_bedroom\" = total_sqft/size**"
   ]
  },
  {
   "cell_type": "code",
   "execution_count": null,
   "id": "eef3595c",
   "metadata": {},
   "outputs": [],
   "source": [
    "try:\n",
    "    housing[\"tot_sqft_per_bedroom\"] = housing[\"total_sqft\"]/housing[\"size\"]\n",
    "except ZeroDivisionError:\n",
    "    housing[\"tot_sqft_per_bedroom\"] = np.nan\n",
    "    print(\"Cannot divide by zero, set variable to NA!\")"
   ]
  },
  {
   "cell_type": "markdown",
   "id": "50c4abe0",
   "metadata": {},
   "source": [
    "### EDA of continuous variables"
   ]
  },
  {
   "cell_type": "code",
   "execution_count": null,
   "id": "7a03e714",
   "metadata": {},
   "outputs": [],
   "source": [
    "# Get numerical variables\n",
    "numerics = ['int16', 'int32', 'int64', 'float16', 'float32', 'float64']\n",
    "num_vars = list(housing.select_dtypes(include=numerics).columns.values)"
   ]
  },
  {
   "cell_type": "code",
   "execution_count": null,
   "id": "6d749564",
   "metadata": {},
   "outputs": [],
   "source": [
    "# Use pandas scatter_matrix to plot continuous variables"
   ]
  },
  {
   "cell_type": "code",
   "execution_count": null,
   "id": "da996416",
   "metadata": {},
   "outputs": [],
   "source": [
    "pd.plotting.scatter_matrix(housing[num_vars], figsize=(20,10));"
   ]
  },
  {
   "cell_type": "code",
   "execution_count": null,
   "id": "0a148bc2",
   "metadata": {},
   "outputs": [],
   "source": [
    "corr_matrix = housing[num_vars].corr()\n",
    "corr_matrix[[\"price\",\"orig_price\"]].sort_values(ascending=False, by=\"price\")"
   ]
  },
  {
   "cell_type": "markdown",
   "id": "4ff0ab4d",
   "metadata": {},
   "source": [
    "**From the correlation matrix and the scatterplots, size, bath, total_sqft the numeric variables that are at least moderately correated with price (and log pirce). We will remove balcony and tot_sqft_per_bedroom from the model.**"
   ]
  },
  {
   "cell_type": "code",
   "execution_count": null,
   "id": "40f1f7b5",
   "metadata": {},
   "outputs": [],
   "source": [
    "selected_features = [\"area_type\",\"availability\",\"size\",\"total_sqft\",\"bath\"]"
   ]
  },
  {
   "cell_type": "code",
   "execution_count": null,
   "id": "462a74c5",
   "metadata": {},
   "outputs": [],
   "source": []
  },
  {
   "cell_type": "code",
   "execution_count": null,
   "id": "111a7e6b",
   "metadata": {},
   "outputs": [],
   "source": []
  },
  {
   "cell_type": "markdown",
   "id": "cfb14e1d",
   "metadata": {},
   "source": [
    "## Appendix (Unused code)"
   ]
  },
  {
   "cell_type": "code",
   "execution_count": null,
   "id": "63603365",
   "metadata": {},
   "outputs": [],
   "source": [
    "# init the split object\n",
    "split = StratifiedShuffleSplit(\n",
    "    n_splits = 1,\n",
    "    test_size = TEST_SIZE,\n",
    "    random_state= RANDOM_STATE\n",
    ")"
   ]
  },
  {
   "cell_type": "code",
   "execution_count": null,
   "id": "ad9e6b04",
   "metadata": {},
   "outputs": [],
   "source": [
    "# Only 1 fold was done since set \"n_splits\" to 1.\n",
    "# We shuffle the overall dataset, and then draw 0.8 of the sample to the train set and 0.2 to the test set\n",
    "# We preserve the same proportion of area_type for both train and test set as the overall dataset\n",
    "# X is the overall dataset, \n",
    "# y is the variable I want to stratify on (usually it is the outcome \n",
    "# variable for classification problems). Can be more than one variable, must be a list.\n",
    "for train_index, test_index in split.split(X=data, y=data[\"area_type\"]):\n",
    "    print(f\"{train_index}, {test_index}\") # we only have one set of train and test index since we only have 1 fold\n",
    "    strat_train_set = data.loc[train_index]\n",
    "    strat_test_set = data.loc[test_index]"
   ]
  },
  {
   "cell_type": "code",
   "execution_count": null,
   "id": "cfe33d9b",
   "metadata": {},
   "outputs": [],
   "source": [
    "strat_test_set[\"area_type\"].value_counts(normalize=True)"
   ]
  },
  {
   "cell_type": "code",
   "execution_count": null,
   "id": "8fa16f33",
   "metadata": {
    "scrolled": false
   },
   "outputs": [],
   "source": [
    "data[\"area_type\"].value_counts(normalize=True)"
   ]
  },
  {
   "cell_type": "markdown",
   "id": "9dec2ab2",
   "metadata": {},
   "source": [
    "- XSq. Meter: I will remove \"Sq. Meter\" and convert the value to square feet \n",
    "- Range of two values: I will take the average of the two numbers\n",
    "- XAcres: I will remove \"Acres\" and convert the value to square feet\n",
    "- XSq. Yards: I will remove \"Sq. Yards\" and convert the value to square feet\n"
   ]
  },
  {
   "cell_type": "code",
   "execution_count": null,
   "id": "bb053482",
   "metadata": {},
   "outputs": [],
   "source": [
    "input_str = \"1210 - 1477\""
   ]
  },
  {
   "cell_type": "code",
   "execution_count": null,
   "id": "507377e5",
   "metadata": {},
   "outputs": [],
   "source": [
    "str_list = input_str.split(\" - \")"
   ]
  },
  {
   "cell_type": "code",
   "execution_count": null,
   "id": "84a4adad",
   "metadata": {},
   "outputs": [],
   "source": [
    "num_list = np.array([float(i) for i in str_list])"
   ]
  },
  {
   "cell_type": "code",
   "execution_count": null,
   "id": "594c8e91",
   "metadata": {},
   "outputs": [],
   "source": [
    "num_list.mean()"
   ]
  },
  {
   "cell_type": "code",
   "execution_count": null,
   "id": "ac63afed",
   "metadata": {},
   "outputs": [],
   "source": [
    "def process_total_sqft_test(input_str):\n",
    "    if re.search(\"-\", input_str):\n",
    "        str_list = input_str.split(\" - \")\n",
    "        num_list = np.array([float(i) for i in str_list])\n",
    "        return num_list.mean()"
   ]
  },
  {
   "cell_type": "code",
   "execution_count": null,
   "id": "b65eea1d",
   "metadata": {},
   "outputs": [],
   "source": [
    "process_total_sqft_test(input_str)"
   ]
  },
  {
   "cell_type": "code",
   "execution_count": null,
   "id": "acb49efe",
   "metadata": {},
   "outputs": [],
   "source": []
  },
  {
   "cell_type": "code",
   "execution_count": null,
   "id": "f2af70a8",
   "metadata": {},
   "outputs": [],
   "source": [
    "input_str = \"142.61Sq. Meter\""
   ]
  },
  {
   "cell_type": "code",
   "execution_count": null,
   "id": "7a766af2",
   "metadata": {},
   "outputs": [],
   "source": [
    "if re.search(\"Sq. Meter\", input_str):\n",
    "    print(\"Yes!\")\n",
    "else:\n",
    "    print(\"No!\")"
   ]
  },
  {
   "cell_type": "code",
   "execution_count": null,
   "id": "1f045243",
   "metadata": {},
   "outputs": [],
   "source": [
    "pattern=r\"Sq. Meter\"\n",
    "out = float(re.sub(pattern, '', input_str))\n",
    "out"
   ]
  },
  {
   "cell_type": "code",
   "execution_count": null,
   "id": "ad2229b9",
   "metadata": {},
   "outputs": [],
   "source": [
    "def process_total_sqft_test(input_str):\n",
    "    if re.search(\"-\", input_str):\n",
    "        str_list = input_str.split(\" - \")\n",
    "        num_list = np.array([float(i) for i in str_list])\n",
    "        return num_list.mean()\n",
    "    elif re.search(\"Sq. Meter\", input_str):\n",
    "        pattern=r\"Sq. Meter\"\n",
    "        return float(re.sub(pattern, '', input_str))"
   ]
  },
  {
   "cell_type": "code",
   "execution_count": null,
   "id": "6444d17a",
   "metadata": {},
   "outputs": [],
   "source": [
    "process_total_sqft_test(input_str)"
   ]
  },
  {
   "cell_type": "code",
   "execution_count": null,
   "id": "19e1dad1",
   "metadata": {},
   "outputs": [],
   "source": []
  },
  {
   "cell_type": "code",
   "execution_count": null,
   "id": "7a324f62",
   "metadata": {},
   "outputs": [],
   "source": [
    "from collections import OrderedDict"
   ]
  },
  {
   "cell_type": "code",
   "execution_count": null,
   "id": "3f1f0b70",
   "metadata": {},
   "outputs": [],
   "source": [
    "def replace_all(text, d):\n",
    "    for i, j in d.items():\n",
    "        text = text.replace(i, j)\n",
    "    return text"
   ]
  },
  {
   "cell_type": "code",
   "execution_count": null,
   "id": "b17f9c1c",
   "metadata": {},
   "outputs": [],
   "source": [
    "test=housing[\"area_type\"].apply(lambda x: replace_all(x, OrderedDict([(\"  \", \" \"),(\" \", \"_\"),(\"-\",\"_\")])))"
   ]
  },
  {
   "cell_type": "code",
   "execution_count": null,
   "id": "8579af9e",
   "metadata": {},
   "outputs": [],
   "source": [
    "test.value_counts()"
   ]
  },
  {
   "cell_type": "code",
   "execution_count": null,
   "id": "c545155e",
   "metadata": {},
   "outputs": [],
   "source": []
  },
  {
   "cell_type": "code",
   "execution_count": null,
   "id": "bf2aae4a",
   "metadata": {},
   "outputs": [],
   "source": [
    "df_test = pd.DataFrame({\"A\":[1,5,6,7,7,8,9,30],\n",
    "                        \"B\":[2,4,5,3,3,2,1,7]})\n",
    "df_test"
   ]
  },
  {
   "cell_type": "code",
   "execution_count": null,
   "id": "c31b9641",
   "metadata": {},
   "outputs": [],
   "source": [
    "m = np.mean(df_test[\"A\"])\n",
    "s = np.std(df_test[\"A\"])\n",
    "m,s"
   ]
  },
  {
   "cell_type": "code",
   "execution_count": null,
   "id": "ca436873",
   "metadata": {},
   "outputs": [],
   "source": [
    "df_test[\"A\"]-m"
   ]
  },
  {
   "cell_type": "code",
   "execution_count": null,
   "id": "61090b77",
   "metadata": {},
   "outputs": [],
   "source": [
    "abs(df_test[\"A\"]-m)"
   ]
  },
  {
   "cell_type": "code",
   "execution_count": null,
   "id": "25847805",
   "metadata": {},
   "outputs": [],
   "source": [
    "abs(((df_test[\"A\"]-m)/s))"
   ]
  },
  {
   "cell_type": "code",
   "execution_count": null,
   "id": "28be5376",
   "metadata": {},
   "outputs": [],
   "source": [
    "abs(((df_test[\"A\"]-m)/s))<2.5"
   ]
  },
  {
   "cell_type": "code",
   "execution_count": null,
   "id": "c6f8048b",
   "metadata": {},
   "outputs": [],
   "source": [
    "df_test.loc[abs(((df_test[\"A\"]-m)/s))<2.5,:]"
   ]
  },
  {
   "cell_type": "code",
   "execution_count": null,
   "id": "f7d0e511",
   "metadata": {},
   "outputs": [],
   "source": []
  },
  {
   "cell_type": "code",
   "execution_count": null,
   "id": "38c7fb54",
   "metadata": {},
   "outputs": [],
   "source": []
  }
 ],
 "metadata": {
  "kernelspec": {
   "display_name": "Python 3",
   "language": "python",
   "name": "python3"
  },
  "language_info": {
   "codemirror_mode": {
    "name": "ipython",
    "version": 3
   },
   "file_extension": ".py",
   "mimetype": "text/x-python",
   "name": "python",
   "nbconvert_exporter": "python",
   "pygments_lexer": "ipython3",
   "version": "3.9.0"
  }
 },
 "nbformat": 4,
 "nbformat_minor": 5
}
