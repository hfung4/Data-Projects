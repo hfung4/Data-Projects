{
 "cells": [
  {
   "cell_type": "markdown",
   "id": "444498a6",
   "metadata": {},
   "source": [
    "# Banglore home prices analysis"
   ]
  },
  {
   "cell_type": "markdown",
   "id": "9cac9b99",
   "metadata": {},
   "source": [
    "### A simple end to end project:\n",
    "\n",
    "- Data cleaning and formating\n",
    "- Exploratory analysis\n",
    "- Feature engineering and imputation\n",
    "- Model training and evaluation\n",
    "- Build a web server with Flask that consumes predictions from the trained model, and a UI (client) with css, html, and js that makes http POST and GET calls to the web server\n",
    "- Similar to the Zillow Zestimate feature"
   ]
  },
  {
   "cell_type": "code",
   "execution_count": null,
   "id": "35389ebd",
   "metadata": {},
   "outputs": [],
   "source": [
    "import sys\n",
    "import os\n",
    "from pathlib import Path\n",
    "\n",
    "'''data'''\n",
    "import pandas as pd\n",
    "import numpy as np\n",
    "\n",
    "'''visualization'''\n",
    "import matplotlib.pyplot as plt\n",
    "\n",
    "'''sklearn'''\n",
    "from sklearn.model_selection import ShuffleSplit\n",
    "\n",
    "'''models'''\n",
    "from sklearn.dummy import DummyRegressor\n",
    "from sklearn.linear_model import LinearRegression, Lasso\n",
    "from sklearn.ensemble import RandomForestRegressor, GradientBoostingRegressor\n",
    "import xgboost as xgb\n",
    "\n",
    "'''performance evaluation'''\n",
    "from sklearn.metrics import mean_squared_error,mean_absolute_error,r2_score\n",
    "from sklearn.model_selection import cross_val_score\n",
    "from sklearn.model_selection import RandomizedSearchCV,GridSearchCV\n",
    "\n",
    "import joblib"
   ]
  },
  {
   "cell_type": "code",
   "execution_count": null,
   "id": "ebe5a357",
   "metadata": {},
   "outputs": [],
   "source": [
    "# Set working directory \n",
    "try: INIT_RUN\n",
    "except NameError:\n",
    "    os.chdir(os.path.dirname(os.getcwd()))\n",
    "    INIT_RUN=True"
   ]
  },
  {
   "cell_type": "code",
   "execution_count": null,
   "id": "4b557bb4",
   "metadata": {},
   "outputs": [],
   "source": [
    "'''custom module'''\n",
    "from home_price_analysis.config.core import (\n",
    "    config,\n",
    "    PROCESSED_DATA_DIR,\n",
    "    TRAINED_MODEL_DIR)\n",
    "from home_price_analysis.processing import (\n",
    "    data_manager as dm,\n",
    "    features as pp,\n",
    "    model_helpers as helpers\n",
    ")\n",
    "from home_price_analysis.pipeline import price_pipeline\n",
    "from home_price_analysis import __version__"
   ]
  },
  {
   "cell_type": "markdown",
   "id": "07bc0e85",
   "metadata": {},
   "source": [
    "## Import data"
   ]
  },
  {
   "cell_type": "code",
   "execution_count": null,
   "id": "682ce2cf",
   "metadata": {},
   "outputs": [],
   "source": [
    "raw = dm.load_dataset(file_name=config.app_config.RAW_DATA_FILE)"
   ]
  },
  {
   "cell_type": "markdown",
   "id": "622a282e",
   "metadata": {},
   "source": [
    "## Train test split"
   ]
  },
  {
   "cell_type": "code",
   "execution_count": null,
   "id": "3fa150cf",
   "metadata": {},
   "outputs": [],
   "source": [
    "# init the split object\n",
    "split = ShuffleSplit(n_splits=1,\n",
    "                     test_size=config.model_config.TEST_SIZE,\n",
    "                     random_state=config.model_config.RANDOM_STATE)"
   ]
  },
  {
   "cell_type": "code",
   "execution_count": null,
   "id": "0cd4ddea",
   "metadata": {},
   "outputs": [],
   "source": [
    "# Only 1 fold was done since set \"n_splits\" to 1.\n",
    "# We shuffle the overall dataset, and then draw 0.8 of the sample to the train set and 0.2 to the test set\n",
    "for train_index, test_index in split.split(X=raw):\n",
    "   # We only have one set of train and test index since we only have 1 fold\n",
    "    train_set = raw.loc[train_index]\n",
    "    test_set = raw.loc[test_index]"
   ]
  },
  {
   "cell_type": "code",
   "execution_count": null,
   "id": "6dfa008b",
   "metadata": {},
   "outputs": [],
   "source": [
    "# Perform data preprocessing for size and total_sqft separately for the train and test set\n",
    "train_set = dm.preprocess_data(train_set)\n",
    "test_set = dm.preprocess_data(test_set)"
   ]
  },
  {
   "cell_type": "code",
   "execution_count": null,
   "id": "a5bb8678",
   "metadata": {},
   "outputs": [],
   "source": [
    "# separate out the features dataframe and outcome series\n",
    "X_train = train_set[config.model_config.FEATURES]\n",
    "X_test = test_set[config.model_config.FEATURES]\n",
    "\n",
    "y_train = np.log(train_set[config.model_config.OUTCOME_VARIABLE])\n",
    "y_test = np.log(test_set[config.model_config.OUTCOME_VARIABLE])"
   ]
  },
  {
   "cell_type": "markdown",
   "id": "01f7c561",
   "metadata": {},
   "source": [
    "## Data Processing"
   ]
  },
  {
   "cell_type": "code",
   "execution_count": null,
   "id": "e404dad1",
   "metadata": {},
   "outputs": [],
   "source": [
    "# Fit pipeline to train data\n",
    "tf = price_pipeline.fit(X_train,y_train)"
   ]
  },
  {
   "cell_type": "code",
   "execution_count": null,
   "id": "7d5b4074",
   "metadata": {},
   "outputs": [],
   "source": [
    "# Transform the train and test datasets\n",
    "X_train = tf.transform(X_train)\n",
    "X_test = tf.transform(X_test)"
   ]
  },
  {
   "cell_type": "code",
   "execution_count": null,
   "id": "5d645d41",
   "metadata": {},
   "outputs": [],
   "source": [
    "# save the column names of the processed X_train data\n",
    "feature_columns = X_train.columns.values"
   ]
  },
  {
   "cell_type": "code",
   "execution_count": null,
   "id": "1570912f",
   "metadata": {},
   "outputs": [],
   "source": [
    "# Output processed dataframes"
   ]
  },
  {
   "cell_type": "code",
   "execution_count": null,
   "id": "96103999",
   "metadata": {},
   "outputs": [],
   "source": [
    "X_train.to_csv(Path(PROCESSED_DATA_DIR,\"X_train_processed.csv\"))\n",
    "X_test.to_csv(Path(PROCESSED_DATA_DIR,\"X_test_processed.csv\"))\n",
    "\n",
    "y_train.to_csv(Path(PROCESSED_DATA_DIR,\"y_train_processed.csv\"))\n",
    "y_test.to_csv(Path(PROCESSED_DATA_DIR,\"y_test_processed.csv\"))"
   ]
  },
  {
   "cell_type": "code",
   "execution_count": null,
   "id": "75365319",
   "metadata": {},
   "outputs": [],
   "source": [
    "X_train.shape"
   ]
  },
  {
   "cell_type": "markdown",
   "id": "41286fcb",
   "metadata": {},
   "source": [
    "## Modelling"
   ]
  },
  {
   "cell_type": "markdown",
   "id": "fe08149f",
   "metadata": {},
   "source": [
    "## 1- Baseline Model\n",
    "- A naive guess of what the home prices are. We make the same prediction for each home with the median home prices across the train set.\n",
    "- A baseline model is a benchmark against which we can compare the performance of other ML approaches. If the performance of ML approaches is only a small improvement over the baseline model, then perhaps ML is not a suitable approach for this problem."
   ]
  },
  {
   "cell_type": "code",
   "execution_count": null,
   "id": "ab9db93f",
   "metadata": {},
   "outputs": [],
   "source": [
    "# Init the dummy_regr\n",
    "dummy_regr = DummyRegressor(strategy=\"median\")\n",
    "# Train the model\n",
    "dummy_regr.fit(X_train,y_train)\n",
    "# Make predictions\n",
    "y_pred_baseline = dummy_regr.predict(X_test)\n",
    "print(f\"The rmse of the baseline model is {round(mean_squared_error(y_test,y_pred_baseline, squared=False),2)}.\")"
   ]
  },
  {
   "cell_type": "markdown",
   "id": "2337d83b",
   "metadata": {},
   "source": [
    "The baseline model has an average percent deviation of 56% from the geometric mean of \"price\" across all train observations."
   ]
  },
  {
   "cell_type": "markdown",
   "id": "f5d82031",
   "metadata": {},
   "source": [
    "## 2- Train linear regression, random forest, and gradient boosting and compared their test rmse (from k-fold cv)"
   ]
  },
  {
   "cell_type": "markdown",
   "id": "088e6fb6",
   "metadata": {},
   "source": [
    "**Init models**"
   ]
  },
  {
   "cell_type": "code",
   "execution_count": null,
   "id": "c96801c5",
   "metadata": {},
   "outputs": [],
   "source": [
    "models, names = helpers.get_models()"
   ]
  },
  {
   "cell_type": "code",
   "execution_count": null,
   "id": "d4dce07d",
   "metadata": {},
   "outputs": [],
   "source": [
    "models,names"
   ]
  },
  {
   "cell_type": "markdown",
   "id": "357ae84c",
   "metadata": {},
   "source": [
    "**Train and evaluate models**"
   ]
  },
  {
   "cell_type": "code",
   "execution_count": null,
   "id": "84bb9875",
   "metadata": {},
   "outputs": [],
   "source": [
    "# Train each model, get their estimated test metric using 10-fold CV\n",
    "# and store the results in a list \"l_mean_cv_scores\"\n",
    "\n",
    "l_cv_scores=list()\n",
    "\n",
    "for model, name in list(zip(models,names)):\n",
    "    \n",
    "    # compute the cv scores for each model\n",
    "    cv_scores = helpers.evaluate_model(X_train, y_train, model)\n",
    "    \n",
    "    # Update the list of model results, each row represent the 10 cv scores of a model\n",
    "    l_cv_scores.append(cv_scores)\n",
    "    \n",
    "    # Get mean cv_scores (rmse) of each model\n",
    "    print((name, round(-cv_scores.mean(),2), round(np.std(cv_scores),2)))"
   ]
  },
  {
   "cell_type": "code",
   "execution_count": null,
   "id": "fe5b972d",
   "metadata": {},
   "outputs": [],
   "source": [
    "# Comparison plot of model performance\n",
    "fig = plt.figure(figsize=(15,10))\n",
    "plt.boxplot(l_cv_scores, labels=names, showmeans=True)\n",
    "plt.ylabel(\"negative rmse\")"
   ]
  },
  {
   "cell_type": "markdown",
   "id": "e8d5e8df",
   "metadata": {},
   "source": [
    "**Gradient boosted tree has the lowest rmse (higest -rmse). We will tune the gradient boosted to see if we can further improve its predictive performance.**"
   ]
  },
  {
   "cell_type": "markdown",
   "id": "35aedb6e",
   "metadata": {},
   "source": [
    "## 3- Hyperparameter tuning for gradient boosted tree"
   ]
  },
  {
   "cell_type": "code",
   "execution_count": null,
   "id": "6a18ad1c",
   "metadata": {},
   "outputs": [],
   "source": [
    "reg = GradientBoostingRegressor()"
   ]
  },
  {
   "cell_type": "markdown",
   "id": "226f1260",
   "metadata": {},
   "source": [
    "**RandomizedSearchCV for gb**"
   ]
  },
  {
   "cell_type": "code",
   "execution_count": null,
   "id": "e444c128",
   "metadata": {},
   "outputs": [],
   "source": [
    "random_grid = {\n",
    "   \"n_estimators\": [100, 500, 1000], # number of trees to build\n",
    "   \"learning_rate\": [0.01,0.05,0.1], # learning rate\n",
    "   \"max_depth\":[4,6,8,10], # maximum depth of each tree\n",
    "   \"subsample\":[0.5,0.75,1.0], # prop of train set (observations) to consider for each tree\n",
    "   \"max_features\":[0.4,0.6,0.8,1.0] # prop of features to consider for each split\n",
    "}"
   ]
  },
  {
   "cell_type": "code",
   "execution_count": null,
   "id": "2f70a4d9",
   "metadata": {},
   "outputs": [],
   "source": [
    "# Perform random search of the parameters, using a 10 fold CV to estimate the test metric for each setting.\n",
    "rand_grid_search = RandomizedSearchCV(estimator = reg,\n",
    "                                param_distributions = random_grid,\n",
    "                                n_iter = 20,  # randomly select 20 different settings to try\n",
    "                                cv = 10,       # use 10-fold CV for each setting to estimate its test metric\n",
    "                                scoring=\"neg_root_mean_squared_error\",\n",
    "                                verbose = 1, #2   # show the process\n",
    "                                n_jobs =-1,  # use all processors\n",
    "                                random_state = config.model_config.RANDOM_STATE)"
   ]
  },
  {
   "cell_type": "code",
   "execution_count": null,
   "id": "00792e85",
   "metadata": {},
   "outputs": [],
   "source": [
    "rand_grid_search.fit(X_train,y_train)"
   ]
  },
  {
   "cell_type": "code",
   "execution_count": null,
   "id": "86097ca4",
   "metadata": {},
   "outputs": [],
   "source": [
    "print(f\"The mean CV score (rmse) of the best estimator is: {-rand_grid_search.best_score_}\")\n",
    "print(f\"The best hyperpaarameters for the gb model from RandomGridSearch is {rand_grid_search.best_params_}\") "
   ]
  },
  {
   "cell_type": "markdown",
   "id": "7a72d1ef",
   "metadata": {},
   "source": [
    "**GridSearchCV for Gradient Boosted trees for fine-tuning**"
   ]
  },
  {
   "cell_type": "code",
   "execution_count": null,
   "id": "127e9f24",
   "metadata": {},
   "outputs": [],
   "source": [
    "reg = GradientBoostingRegressor(n_estimators=1000,\n",
    "                                max_depth=4)"
   ]
  },
  {
   "cell_type": "code",
   "execution_count": null,
   "id": "f1f04fd9",
   "metadata": {},
   "outputs": [],
   "source": [
    "param_grid = {\n",
    "    \"learning_rate\":[0.005,0.01,0.015],\n",
    "    \"subsample\": [0.3,0.5,0.6],\n",
    "    \"max_features\": [0.3,0.4,0.5]\n",
    "}"
   ]
  },
  {
   "cell_type": "code",
   "execution_count": null,
   "id": "d63367c9",
   "metadata": {},
   "outputs": [],
   "source": [
    "# Instantiate the grid search model\n",
    "grid_search = GridSearchCV(estimator = reg, \n",
    "                           param_grid = param_grid, \n",
    "                           cv = 10, \n",
    "                           scoring=\"neg_root_mean_squared_error\",\n",
    "                           verbose =1, # show the process\n",
    "                           n_jobs = -1)  # n_jobs = -1 means use all processors"
   ]
  },
  {
   "cell_type": "code",
   "execution_count": null,
   "id": "d8436db8",
   "metadata": {},
   "outputs": [],
   "source": [
    "grid_search.fit(X_train,y_train)\n",
    "\n",
    "# The optimal parameter\n",
    "print(f\"The optimal parameter from GridSearchCV is: {grid_search.best_params_}\")\n",
    "\n",
    "# The score of the model with the optimal parameter\n",
    "print(f\"\\nThe mean CV score (rmse) of the model with the best parameter is: {-grid_search.best_score_}\")\n",
    "    \n",
    "# Get the model that uses the \"best\" hp, trained from the full train set\n",
    "best_reg = grid_search.best_estimator_\n",
    "# Make predictions using X_test\n",
    "y_pred = best_reg.predict(X_test)\n",
    "    \n",
    "# Evaluate the performance of the model (rmse) with the test set\n",
    "print(f\"The test rmse of the tuned model estimated using the test set is: {round(mean_squared_error(y_test,y_pred,squared=False),2)}\")"
   ]
  },
  {
   "cell_type": "markdown",
   "id": "968cb279",
   "metadata": {},
   "source": [
    "**A slight improvement after fine-tuning the parameters**"
   ]
  },
  {
   "cell_type": "markdown",
   "id": "3335f9ac",
   "metadata": {},
   "source": [
    "## 4- XGBoost"
   ]
  },
  {
   "cell_type": "code",
   "execution_count": null,
   "id": "6fc0d905",
   "metadata": {},
   "outputs": [],
   "source": [
    "# xgb uses an optimized data object called DMatrix to improve training performance and spped\n",
    "dmatrix = xgb.DMatrix(data=X_train, label=y_train) \n",
    "params = {'objective':'reg:squarederror'}\n",
    "cv_results = xgb.cv(dtrain=dmatrix, \n",
    "                    params=params, \n",
    "                    nfold=10, \n",
    "                    metrics={'rmse'})\n",
    "print('RMSE: %.2f' % cv_results['test-rmse-mean'].min())"
   ]
  },
  {
   "cell_type": "markdown",
   "id": "732d4217",
   "metadata": {},
   "source": [
    "**Hyperparameter tuning**"
   ]
  },
  {
   "cell_type": "markdown",
   "id": "e36aadf5",
   "metadata": {},
   "source": [
    "**RandomizedSearchCV for xgb**"
   ]
  },
  {
   "cell_type": "code",
   "execution_count": null,
   "id": "e6c952b4",
   "metadata": {},
   "outputs": [],
   "source": [
    "xgbr = xgb.XGBRegressor()"
   ]
  },
  {
   "cell_type": "code",
   "execution_count": null,
   "id": "18355f73",
   "metadata": {},
   "outputs": [],
   "source": [
    "random_grid = {\n",
    "   \"n_estimators\":[100,500,1000],\n",
    "   \"learning_rate\": [0.01, 0.015, 0.025, 0.05], # learning rate\n",
    "   \"gamma\": [0.05,0.1,0.3,0.5,1.0], \n",
    "   \"max_depth\":[3,5,10,15, 20], # maximum depth of each tree\n",
    "   \"subsample\":[0.6,0.7,1.0], # prop of train set (observations) to consider for each tree\n",
    "   \"colsample_bytree\":[0.6,0.8,1.0] \n",
    "}"
   ]
  },
  {
   "cell_type": "code",
   "execution_count": null,
   "id": "dff47b5b",
   "metadata": {},
   "outputs": [],
   "source": [
    "# Perform random search of the parameters, using a 10 fold CV to estimate the test metric for each setting.\n",
    "rand_grid_search = RandomizedSearchCV(estimator = xgbr,\n",
    "                                param_distributions = random_grid,\n",
    "                                n_iter = 40,  # randomly select 20 different settings to try\n",
    "                                cv = 10,       # use 10-fold CV for each setting to estimate its test metric\n",
    "                                scoring=\"neg_root_mean_squared_error\",\n",
    "                                verbose = 1, #2   # show the process\n",
    "                                n_jobs =-1,  # use all processors\n",
    "                                random_state = config.model_config.RANDOM_STATE)"
   ]
  },
  {
   "cell_type": "code",
   "execution_count": null,
   "id": "c76985c9",
   "metadata": {},
   "outputs": [],
   "source": [
    "rand_grid_search.fit(X_train,y_train)"
   ]
  },
  {
   "cell_type": "code",
   "execution_count": null,
   "id": "3dd30116",
   "metadata": {},
   "outputs": [],
   "source": [
    "print(f\"The mean CV score (rmse) of the best estimator is: {-rand_grid_search.best_score_}\")\n",
    "print(f\"The best hyperpaarameters for the gb model from RandomGridSearch is {rand_grid_search.best_params_}\") "
   ]
  },
  {
   "cell_type": "markdown",
   "id": "95fa3c75",
   "metadata": {},
   "source": [
    "**GridSearchCV for xgb for fine-tuning**"
   ]
  },
  {
   "cell_type": "code",
   "execution_count": null,
   "id": "5c0f0515",
   "metadata": {},
   "outputs": [],
   "source": [
    "reg = xgb.XGBRegressor(n_estimators=500,\n",
    "                       gamma=0.1,\n",
    "                       learning_rate=0.015)"
   ]
  },
  {
   "cell_type": "code",
   "execution_count": null,
   "id": "aaa7753c",
   "metadata": {},
   "outputs": [],
   "source": [
    "param_grid = {\n",
    "    \"max_depth\":[20,30,40],\n",
    "    \"subsample\": [0.4,0.5,0.6],\n",
    "    \"colsample_bytree\": [0.5,0.6,0.7]\n",
    "}"
   ]
  },
  {
   "cell_type": "code",
   "execution_count": null,
   "id": "8acc4d61",
   "metadata": {},
   "outputs": [],
   "source": [
    "# Instantiate the grid search model\n",
    "grid_search = GridSearchCV(estimator = reg, \n",
    "                           param_grid = param_grid, \n",
    "                           cv = 10, \n",
    "                           scoring=\"neg_root_mean_squared_error\",\n",
    "                           verbose =1, # show the process\n",
    "                           n_jobs = -1)  # n_jobs = -1 means use all processors"
   ]
  },
  {
   "cell_type": "code",
   "execution_count": null,
   "id": "0e1605cc",
   "metadata": {},
   "outputs": [],
   "source": [
    "grid_search.fit(X_train,y_train)\n",
    "\n",
    "# The optimal parameter\n",
    "print(f\"The optimal parameter from GridSearchCV is: {grid_search.best_params_}\")\n",
    "\n",
    "# The score of the model with the optimal parameter\n",
    "print(f\"\\nThe mean CV score (rmse) of the model with the best parameter is: {-grid_search.best_score_}\")\n",
    "    \n",
    "# Get the model that uses the \"best\" hp, trained from the full train set\n",
    "best_reg = grid_search.best_estimator_\n",
    "# Make predictions using X_test\n",
    "y_pred = best_reg.predict(X_test)"
   ]
  },
  {
   "cell_type": "code",
   "execution_count": 44,
   "id": "e7061bf0",
   "metadata": {},
   "outputs": [
    {
     "name": "stdout",
     "output_type": "stream",
     "text": [
      "The test rmse of the tuned model estimated using the test set is: 0.33\n",
      "The test R-sq of the tuned model estimated using the test set is: 0.66\n"
     ]
    }
   ],
   "source": [
    "# Evaluate the performance of the model (rmse) with the test set\n",
    "print(f\"The test rmse of the tuned model estimated using the test set is: {round(mean_squared_error(y_test,y_pred,squared=False),2)}\")\n",
    "print(f\"The test R-sq of the tuned model estimated using the test set is: {round(r2_score(y_test,y_pred),2)}\")"
   ]
  },
  {
   "cell_type": "markdown",
   "id": "f54764a2",
   "metadata": {},
   "source": [
    "**We will use xgb (its tuned model has a slightly better performance than gradient boosted tree)**"
   ]
  },
  {
   "cell_type": "markdown",
   "id": "c3c04dc6",
   "metadata": {},
   "source": [
    "## 5- Persist best model"
   ]
  },
  {
   "cell_type": "code",
   "execution_count": 43,
   "id": "bbb69cfc",
   "metadata": {},
   "outputs": [
    {
     "data": {
      "text/plain": [
       "['/Users/hfung/Documents/PycharmProjects/practice_projects/minor/banglore_home_price_prediction/home_prices_research/home_price_analysis/trained_models/home_price_xgb_v_0.0.1.pkl']"
      ]
     },
     "execution_count": 43,
     "metadata": {},
     "output_type": "execute_result"
    }
   ],
   "source": [
    "joblib.dump(best_reg,Path(TRAINED_MODEL_DIR,f\"home_price_xgb_v_{__version__}.pkl\"))"
   ]
  },
  {
   "cell_type": "markdown",
   "id": "419de582",
   "metadata": {},
   "source": [
    "## 6- Feature importance from xgb"
   ]
  },
  {
   "cell_type": "code",
   "execution_count": 42,
   "id": "4a3607e3",
   "metadata": {},
   "outputs": [
    {
     "data": {
      "text/plain": [
       "<AxesSubplot:title={'center':'Feature importance'}, xlabel='F score', ylabel='Features'>"
      ]
     },
     "execution_count": 42,
     "metadata": {},
     "output_type": "execute_result"
    },
    {
     "data": {
      "image/png": "[encoded data removed]",
      "text/plain": [
       "<Figure size 720x360 with 1 Axes>"
      ]
     },
     "metadata": {
      "needs_background": "light"
     },
     "output_type": "display_data"
    }
   ],
   "source": [
    "fig = plt.figure(figsize= (10,5))\n",
    "ax = fig.add_subplot(1,1,1)\n",
    "xgb.plot_importance(best_reg, ax=ax)"
   ]
  },
  {
   "cell_type": "markdown",
   "id": "2ae566d9",
   "metadata": {},
   "source": [
    "**total_sqft is by far the most important predictor for price**"
   ]
  }
 ],
 "metadata": {
  "kernelspec": {
   "display_name": "Python 3",
   "language": "python",
   "name": "python3"
  },
  "language_info": {
   "codemirror_mode": {
    "name": "ipython",
    "version": 3
   },
   "file_extension": ".py",
   "mimetype": "text/x-python",
   "name": "python",
   "nbconvert_exporter": "python",
   "pygments_lexer": "ipython3",
   "version": "3.9.0"
  }
 },
 "nbformat": 4,
 "nbformat_minor": 5
}
