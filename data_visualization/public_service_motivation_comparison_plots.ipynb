{
 "cells": [
  {
   "cell_type": "markdown",
   "metadata": {},
   "source": [
    "## PSM Comparison\n",
    "**The purpose of this notebook is to process public service motivaiton (PSM) data from different studies in the literature, and data from PSM-related items in the International Social Survey Programme (ISSP) (a cross-national survey).  Once the data is processed, they will be used to create plots to compare PSM across and within countries.  These plots will be used in a book project.**"
   ]
  },
  {
   "cell_type": "code",
   "execution_count": 389,
   "metadata": {},
   "outputs": [],
   "source": [
    "'''data'''\n",
    "import pandas as pd\n",
    "import numpy as np\n",
    "from scipy import stats\n",
    "import re\n",
    "\n",
    "'''plots'''\n",
    "import seaborn as sns\n",
    "import matplotlib.pyplot as plt\n",
    "%matplotlib inline\n",
    "\n",
    "'''modelling'''\n",
    "from sklearn.linear_model import LinearRegression\n",
    "import statsmodels.api as sm\n"
   ]
  },
  {
   "cell_type": "markdown",
   "metadata": {},
   "source": [
    "**Import data**"
   ]
  },
  {
   "cell_type": "code",
   "execution_count": 390,
   "metadata": {
    "scrolled": true
   },
   "outputs": [],
   "source": [
    "studies = pd.read_csv(\"data/psm_studies_data.csv\")\n",
    "oecd_category = pd.read_csv(\"data/oecd_classification.csv\")\n",
    "issp = pd.read_csv(\"data/issp_2014.csv\")\n",
    "cpi_2014 = pd.read_csv(\"data/cpi_2014.csv\")"
   ]
  },
  {
   "cell_type": "markdown",
   "metadata": {},
   "source": [
    "**Process data**"
   ]
  },
  {
   "cell_type": "markdown",
   "metadata": {},
   "source": [
    "**Items that we need from the ISSP 2014 data (I only exported these items from \"issp2014.dta\" to \"issp2014.csv\"** \n",
    "- Attraction to public policymaking \n",
    "    - Q4 (V8): To what extent do you consider this to be important: To keep watch on the actions of government\n",
    "    - Q5 (V9): To waht extent do you consider this to be important: To be active in social or political associations\n",
    "\n",
    "- Compassion\n",
    "    - Q8 (V12): To what extent do you consider this to be important: To help people in COUNTRY who are worse off than yourself\n",
    "    - Q9 (V13): To what extent do you consider this to be important: To help people in the rest of the world who are worse off than yourself\n",
    "\n",
    "- Self-sacrifice\n",
    "    - Q7 (V11): To what extent do you consider this to be important: To choose products for political, ethnical, or environmental reasons, even if they cost a bit more.\n",
    "\n",
    "- Countries\n",
    "    - C_ALPHAN: Country Prefix code \n",
    "    - V4: Country\n",
    "  \n",
    "- Employer type\n",
    "    - TYPORG2: Do/did you worked for a public or private employer?\n",
    "    \n",
    "- Age\n",
    "    - AGE: Age of teh respondent \n",
    "    \n",
    "- Sex\n",
    "    - SEX: Sex of the respondent\n",
    "    \n",
    "- Years of schooling\n",
    "    - EDUCYRS: How many full years of schooling or education have you had? Please include primary and secondary schooling, university and full-time vocational training, but do not include repeated years.\n",
    "\n",
    "- CPI 2014\n",
    "    - Corruption Perception Index\n",
    "    "
   ]
  },
  {
   "cell_type": "code",
   "execution_count": 391,
   "metadata": {},
   "outputs": [],
   "source": [
    "issp.rename(columns={'V4':'country_name','TYPORG2':'employee_type',\n",
    "                     'SEX':'sex', 'AGE':'age', \"EDUCYRS\":'education',\n",
    "                    'V8':'politics_1', 'V9':'politics_2',\n",
    "                    'V12':'compassion_1', 'V13':'compassion_2', \n",
    "                    'V11':'self_sacrifice'}, inplace=True)"
   ]
  },
  {
   "cell_type": "code",
   "execution_count": 392,
   "metadata": {},
   "outputs": [],
   "source": [
    "issp[\"issp\"] = 1"
   ]
  },
  {
   "cell_type": "code",
   "execution_count": 393,
   "metadata": {
    "scrolled": true
   },
   "outputs": [
    {
     "data": {
      "text/html": [
       "<div>\n",
       "<style scoped>\n",
       "    .dataframe tbody tr th:only-of-type {\n",
       "        vertical-align: middle;\n",
       "    }\n",
       "\n",
       "    .dataframe tbody tr th {\n",
       "        vertical-align: top;\n",
       "    }\n",
       "\n",
       "    .dataframe thead th {\n",
       "        text-align: right;\n",
       "    }\n",
       "</style>\n",
       "<table border=\"1\" class=\"dataframe\">\n",
       "  <thead>\n",
       "    <tr style=\"text-align: right;\">\n",
       "      <th></th>\n",
       "      <th>country_name</th>\n",
       "      <th>employee_type</th>\n",
       "      <th>sex</th>\n",
       "      <th>age</th>\n",
       "      <th>education</th>\n",
       "      <th>politics_1</th>\n",
       "      <th>politics_2</th>\n",
       "      <th>compassion_1</th>\n",
       "      <th>compassion_2</th>\n",
       "      <th>self_sacrifice</th>\n",
       "      <th>issp</th>\n",
       "    </tr>\n",
       "  </thead>\n",
       "  <tbody>\n",
       "    <tr>\n",
       "      <th>0</th>\n",
       "      <td>AU-Australia</td>\n",
       "      <td>NAP (code 3 in WORK; GB: code 0,2,3 in EMPREL)</td>\n",
       "      <td>Female</td>\n",
       "      <td>25</td>\n",
       "      <td>16</td>\n",
       "      <td>7, Very important</td>\n",
       "      <td>5</td>\n",
       "      <td>7, Very important</td>\n",
       "      <td>7, Very important</td>\n",
       "      <td>7, Very important</td>\n",
       "      <td>1</td>\n",
       "    </tr>\n",
       "    <tr>\n",
       "      <th>1</th>\n",
       "      <td>AU-Australia</td>\n",
       "      <td>No answer</td>\n",
       "      <td>Male</td>\n",
       "      <td>55</td>\n",
       "      <td>No answer; NL: NA, above 30 years at school</td>\n",
       "      <td>Can't choose</td>\n",
       "      <td>Can't choose</td>\n",
       "      <td>Can't choose</td>\n",
       "      <td>Can't choose</td>\n",
       "      <td>Can't choose</td>\n",
       "      <td>1</td>\n",
       "    </tr>\n",
       "    <tr>\n",
       "      <th>2</th>\n",
       "      <td>AU-Australia</td>\n",
       "      <td>Private employer</td>\n",
       "      <td>Male</td>\n",
       "      <td>40</td>\n",
       "      <td>20</td>\n",
       "      <td>5</td>\n",
       "      <td>4</td>\n",
       "      <td>7, Very important</td>\n",
       "      <td>5</td>\n",
       "      <td>4</td>\n",
       "      <td>1</td>\n",
       "    </tr>\n",
       "    <tr>\n",
       "      <th>3</th>\n",
       "      <td>AU-Australia</td>\n",
       "      <td>Private employer</td>\n",
       "      <td>Female</td>\n",
       "      <td>57</td>\n",
       "      <td>11</td>\n",
       "      <td>No answer</td>\n",
       "      <td>No answer</td>\n",
       "      <td>No answer</td>\n",
       "      <td>No answer</td>\n",
       "      <td>No answer</td>\n",
       "      <td>1</td>\n",
       "    </tr>\n",
       "    <tr>\n",
       "      <th>4</th>\n",
       "      <td>AU-Australia</td>\n",
       "      <td>Private employer</td>\n",
       "      <td>Female</td>\n",
       "      <td>32</td>\n",
       "      <td>18</td>\n",
       "      <td>4</td>\n",
       "      <td>4</td>\n",
       "      <td>6</td>\n",
       "      <td>5</td>\n",
       "      <td>3</td>\n",
       "      <td>1</td>\n",
       "    </tr>\n",
       "  </tbody>\n",
       "</table>\n",
       "</div>"
      ],
      "text/plain": [
       "   country_name                                   employee_type     sex age  \\\n",
       "0  AU-Australia  NAP (code 3 in WORK; GB: code 0,2,3 in EMPREL)  Female  25   \n",
       "1  AU-Australia                                       No answer    Male  55   \n",
       "2  AU-Australia                                Private employer    Male  40   \n",
       "3  AU-Australia                                Private employer  Female  57   \n",
       "4  AU-Australia                                Private employer  Female  32   \n",
       "\n",
       "                                     education         politics_1  \\\n",
       "0                                           16  7, Very important   \n",
       "1  No answer; NL: NA, above 30 years at school       Can't choose   \n",
       "2                                           20                  5   \n",
       "3                                           11          No answer   \n",
       "4                                           18                  4   \n",
       "\n",
       "     politics_2       compassion_1       compassion_2     self_sacrifice  issp  \n",
       "0             5  7, Very important  7, Very important  7, Very important     1  \n",
       "1  Can't choose       Can't choose       Can't choose       Can't choose     1  \n",
       "2             4  7, Very important                  5                  4     1  \n",
       "3     No answer          No answer          No answer          No answer     1  \n",
       "4             4                  6                  5                  3     1  "
      ]
     },
     "execution_count": 393,
     "metadata": {},
     "output_type": "execute_result"
    }
   ],
   "source": [
    "issp.head()"
   ]
  },
  {
   "cell_type": "markdown",
   "metadata": {},
   "source": [
    "**Look at unique values of each column**"
   ]
  },
  {
   "cell_type": "code",
   "execution_count": 394,
   "metadata": {
    "scrolled": true
   },
   "outputs": [
    {
     "data": {
      "text/plain": [
       "array(['AU-Australia', 'AT-Austria', 'CL-Chile', 'TW-Taiwan',\n",
       "       'HR-Croatia', 'CZ-Czech Republic', 'DK-Denmark', 'FI-Finland',\n",
       "       'FR-France', 'GE-Georgia', 'HU-Hungary', 'IS-Iceland', 'IN-India',\n",
       "       'JP-Japan', 'KR-Korea (South)', 'LT-Lithuania', 'NL-Netherlands',\n",
       "       'NO-Norway', 'PH-Philippines', 'PL-Poland', 'RU-Russia',\n",
       "       'SK-Slovak Republic', 'SI-Slovenia', 'ZA-South Africa', 'ES-Spain',\n",
       "       'SE-Sweden', 'CH-Switzerland', 'TR-Turkey', 'US-United States',\n",
       "       'VE-Venezuela', 'BE-Belgium', 'DE-Germany', 'IL-Israel',\n",
       "       'GB-GBN-Great Britain and/or United Kingdom'], dtype=object)"
      ]
     },
     "execution_count": 394,
     "metadata": {},
     "output_type": "execute_result"
    }
   ],
   "source": [
    "issp.country_name.unique()"
   ]
  },
  {
   "cell_type": "code",
   "execution_count": 395,
   "metadata": {
    "scrolled": true
   },
   "outputs": [
    {
     "data": {
      "text/plain": [
       "array(['NAP (code 3 in WORK; GB: code 0,2,3 in EMPREL)', 'No answer',\n",
       "       'Private employer', 'Public employer', \"Don't know\"], dtype=object)"
      ]
     },
     "execution_count": 395,
     "metadata": {},
     "output_type": "execute_result"
    }
   ],
   "source": [
    "issp.employee_type.unique()"
   ]
  },
  {
   "cell_type": "code",
   "execution_count": 396,
   "metadata": {
    "scrolled": true
   },
   "outputs": [
    {
     "data": {
      "text/plain": [
       "array(['Female', 'Male', 'No answer'], dtype=object)"
      ]
     },
     "execution_count": 396,
     "metadata": {},
     "output_type": "execute_result"
    }
   ],
   "source": [
    "issp.sex.unique()"
   ]
  },
  {
   "cell_type": "code",
   "execution_count": 397,
   "metadata": {},
   "outputs": [
    {
     "data": {
      "text/plain": [
       "array(['25', '55', '40', '57', '32', '24', '67', '39', '41', '36', '35',\n",
       "       '45', '79', '51', '62', '47', '60', '59', '48', '95', '37', '75',\n",
       "       '72', '34', '80', '54', '20', '56', '42', '31', '44', '26', '29',\n",
       "       'No answer', '66', '58', '50', '68', '85', '69', '70', '74', '71',\n",
       "       '63', '64', '83', '61', '52', '90', '19', '43', '49', '53', '65',\n",
       "       '23', '76', '30', '38', '46', '73', '33', '77', '27', '78', '86',\n",
       "       '28', '89', '81', '22', '87', '84', '82', '88', '21', '91', '93',\n",
       "       '92', '16', '18', '94', '17', '97', '15 years', '99', '98',\n",
       "       '102 years', '101', '96'], dtype=object)"
      ]
     },
     "execution_count": 397,
     "metadata": {},
     "output_type": "execute_result"
    }
   ],
   "source": [
    "issp.age.unique()"
   ]
  },
  {
   "cell_type": "code",
   "execution_count": 398,
   "metadata": {},
   "outputs": [
    {
     "data": {
      "text/plain": [
       "array(['NAP (code 3 in WORK; GB: code 0,2,3 in EMPREL)', 'No answer',\n",
       "       'Private employer', 'Public employer', \"Don't know\"], dtype=object)"
      ]
     },
     "execution_count": 398,
     "metadata": {},
     "output_type": "execute_result"
    }
   ],
   "source": [
    "issp.employee_type.unique()"
   ]
  },
  {
   "cell_type": "code",
   "execution_count": 399,
   "metadata": {},
   "outputs": [
    {
     "data": {
      "text/plain": [
       "array(['16', 'No answer; NL: NA, above 30 years at school', '20', '11',\n",
       "       '18', '17', '15', '12', '8', '25', '14', '19', '9', '24', '10',\n",
       "       '7', '13', '6', '22', '21', '26', '30', '5', '23', '4', '3',\n",
       "       '1 year', '2', 'No formal schooling, no years at school',\n",
       "       \"Don't know\", '27', '65', '63', '51', '42', '40', '48', '36', '31',\n",
       "       '32', '55', '58', '39', '45', '35', '46', '38', '60', '50', '61',\n",
       "       '68', '44', '37', '56', '43', '49', '59', '33', '54', '28', '41',\n",
       "       '34', '29', '47', '83 years', 'Not available (HU)',\n",
       "       'GB: still at college/ university', 'GB: still at school'],\n",
       "      dtype=object)"
      ]
     },
     "execution_count": 399,
     "metadata": {},
     "output_type": "execute_result"
    }
   ],
   "source": [
    "issp.education.unique()"
   ]
  },
  {
   "cell_type": "markdown",
   "metadata": {},
   "source": [
    "**Replace all 'NAP (code 3 in WORK; GB: code 0,2,3 in EMPREL)', \n",
    " 'No answer', Don't know', 'Can't choose' with nan**"
   ]
  },
  {
   "cell_type": "code",
   "execution_count": 400,
   "metadata": {},
   "outputs": [],
   "source": [
    "issp.replace([\"NAP (code 3 in WORK; GB: code 0,2,3 in EMPREL)\",\n",
    "             'No answer', \"Don't know\", \"Can't choose\",\n",
    "             \"Not available (HU)\", \"No answer; NL: NA, above 30 years at school\", \n",
    "             \"GB: still at school\"],np.nan, inplace=True)"
   ]
  },
  {
   "cell_type": "code",
   "execution_count": 401,
   "metadata": {},
   "outputs": [],
   "source": [
    "issp.replace([\"7, Very important\",\"1, Not at all important\",\n",
    "             \"Private employer\", \"Public employer\",\n",
    "             'GB-GBN-Great Britain and/or United Kingdom', \"TW-Taiwan\",\"KR-Korea (South)\",\n",
    "             \"1 year\",\"No formal schooling, no years at school\",\"GB: still at college/ university\",\n",
    "             \"83 years\", \"15 years\", \"102 years\"],\n",
    "             [7,1,\"non-bureaucrats\", \"bureaucrats\",\"GB-United Kingdom\",\"TW-Taiwan, China\",\n",
    "             \"KR-Korea, Rep.\", 1, 0, 14, 83, 15, 102],inplace=True) # more replacements"
   ]
  },
  {
   "cell_type": "code",
   "execution_count": 402,
   "metadata": {},
   "outputs": [
    {
     "data": {
      "text/plain": [
       "array(['Female', 'Male', nan], dtype=object)"
      ]
     },
     "execution_count": 402,
     "metadata": {},
     "output_type": "execute_result"
    }
   ],
   "source": [
    "issp.sex.unique()"
   ]
  },
  {
   "cell_type": "code",
   "execution_count": 403,
   "metadata": {},
   "outputs": [
    {
     "data": {
      "text/html": [
       "<div>\n",
       "<style scoped>\n",
       "    .dataframe tbody tr th:only-of-type {\n",
       "        vertical-align: middle;\n",
       "    }\n",
       "\n",
       "    .dataframe tbody tr th {\n",
       "        vertical-align: top;\n",
       "    }\n",
       "\n",
       "    .dataframe thead th {\n",
       "        text-align: right;\n",
       "    }\n",
       "</style>\n",
       "<table border=\"1\" class=\"dataframe\">\n",
       "  <thead>\n",
       "    <tr style=\"text-align: right;\">\n",
       "      <th></th>\n",
       "      <th>country_name</th>\n",
       "      <th>employee_type</th>\n",
       "      <th>sex</th>\n",
       "      <th>age</th>\n",
       "      <th>education</th>\n",
       "      <th>politics_1</th>\n",
       "      <th>politics_2</th>\n",
       "      <th>compassion_1</th>\n",
       "      <th>compassion_2</th>\n",
       "      <th>self_sacrifice</th>\n",
       "      <th>issp</th>\n",
       "    </tr>\n",
       "  </thead>\n",
       "  <tbody>\n",
       "    <tr>\n",
       "      <th>0</th>\n",
       "      <td>AU-Australia</td>\n",
       "      <td>NaN</td>\n",
       "      <td>Female</td>\n",
       "      <td>25</td>\n",
       "      <td>16</td>\n",
       "      <td>7</td>\n",
       "      <td>5</td>\n",
       "      <td>7</td>\n",
       "      <td>7</td>\n",
       "      <td>7</td>\n",
       "      <td>1</td>\n",
       "    </tr>\n",
       "    <tr>\n",
       "      <th>1</th>\n",
       "      <td>AU-Australia</td>\n",
       "      <td>NaN</td>\n",
       "      <td>Male</td>\n",
       "      <td>55</td>\n",
       "      <td>NaN</td>\n",
       "      <td>NaN</td>\n",
       "      <td>NaN</td>\n",
       "      <td>NaN</td>\n",
       "      <td>NaN</td>\n",
       "      <td>NaN</td>\n",
       "      <td>1</td>\n",
       "    </tr>\n",
       "    <tr>\n",
       "      <th>2</th>\n",
       "      <td>AU-Australia</td>\n",
       "      <td>non-bureaucrats</td>\n",
       "      <td>Male</td>\n",
       "      <td>40</td>\n",
       "      <td>20</td>\n",
       "      <td>5</td>\n",
       "      <td>4</td>\n",
       "      <td>7</td>\n",
       "      <td>5</td>\n",
       "      <td>4</td>\n",
       "      <td>1</td>\n",
       "    </tr>\n",
       "    <tr>\n",
       "      <th>3</th>\n",
       "      <td>AU-Australia</td>\n",
       "      <td>non-bureaucrats</td>\n",
       "      <td>Female</td>\n",
       "      <td>57</td>\n",
       "      <td>11</td>\n",
       "      <td>NaN</td>\n",
       "      <td>NaN</td>\n",
       "      <td>NaN</td>\n",
       "      <td>NaN</td>\n",
       "      <td>NaN</td>\n",
       "      <td>1</td>\n",
       "    </tr>\n",
       "    <tr>\n",
       "      <th>4</th>\n",
       "      <td>AU-Australia</td>\n",
       "      <td>non-bureaucrats</td>\n",
       "      <td>Female</td>\n",
       "      <td>32</td>\n",
       "      <td>18</td>\n",
       "      <td>4</td>\n",
       "      <td>4</td>\n",
       "      <td>6</td>\n",
       "      <td>5</td>\n",
       "      <td>3</td>\n",
       "      <td>1</td>\n",
       "    </tr>\n",
       "  </tbody>\n",
       "</table>\n",
       "</div>"
      ],
      "text/plain": [
       "   country_name    employee_type     sex age education politics_1 politics_2  \\\n",
       "0  AU-Australia              NaN  Female  25        16          7          5   \n",
       "1  AU-Australia              NaN    Male  55       NaN        NaN        NaN   \n",
       "2  AU-Australia  non-bureaucrats    Male  40        20          5          4   \n",
       "3  AU-Australia  non-bureaucrats  Female  57        11        NaN        NaN   \n",
       "4  AU-Australia  non-bureaucrats  Female  32        18          4          4   \n",
       "\n",
       "  compassion_1 compassion_2 self_sacrifice  issp  \n",
       "0            7            7              7     1  \n",
       "1          NaN          NaN            NaN     1  \n",
       "2            7            5              4     1  \n",
       "3          NaN          NaN            NaN     1  \n",
       "4            6            5              3     1  "
      ]
     },
     "execution_count": 403,
     "metadata": {},
     "output_type": "execute_result"
    }
   ],
   "source": [
    "issp.head()"
   ]
  },
  {
   "cell_type": "markdown",
   "metadata": {},
   "source": [
    "**Get two letter country code from country name**"
   ]
  },
  {
   "cell_type": "code",
   "execution_count": 404,
   "metadata": {},
   "outputs": [],
   "source": [
    "issp[\"country_code_2_ltr\"] =  issp[\"country_name\"].map(lambda x: x[:2])"
   ]
  },
  {
   "cell_type": "code",
   "execution_count": 405,
   "metadata": {
    "scrolled": true
   },
   "outputs": [
    {
     "data": {
      "text/plain": [
       "array(['AU', 'AT', 'CL', 'TW', 'HR', 'CZ', 'DK', 'FI', 'FR', 'GE', 'HU',\n",
       "       'IS', 'IN', 'JP', 'KR', 'LT', 'NL', 'NO', 'PH', 'PL', 'RU', 'SK',\n",
       "       'SI', 'ZA', 'ES', 'SE', 'CH', 'TR', 'US', 'VE', 'BE', 'DE', 'IL',\n",
       "       'GB'], dtype=object)"
      ]
     },
     "execution_count": 405,
     "metadata": {},
     "output_type": "execute_result"
    }
   ],
   "source": [
    "issp[\"country_code_2_ltr\"].unique() "
   ]
  },
  {
   "cell_type": "code",
   "execution_count": 406,
   "metadata": {},
   "outputs": [
    {
     "data": {
      "text/plain": [
       "array(['AU-Australia', 'AT-Austria', 'CL-Chile', 'TW-Taiwan, China',\n",
       "       'HR-Croatia', 'CZ-Czech Republic', 'DK-Denmark', 'FI-Finland',\n",
       "       'FR-France', 'GE-Georgia', 'HU-Hungary', 'IS-Iceland', 'IN-India',\n",
       "       'JP-Japan', 'KR-Korea, Rep.', 'LT-Lithuania', 'NL-Netherlands',\n",
       "       'NO-Norway', 'PH-Philippines', 'PL-Poland', 'RU-Russia',\n",
       "       'SK-Slovak Republic', 'SI-Slovenia', 'ZA-South Africa', 'ES-Spain',\n",
       "       'SE-Sweden', 'CH-Switzerland', 'TR-Turkey', 'US-United States',\n",
       "       'VE-Venezuela', 'BE-Belgium', 'DE-Germany', 'IL-Israel',\n",
       "       'GB-United Kingdom'], dtype=object)"
      ]
     },
     "execution_count": 406,
     "metadata": {},
     "output_type": "execute_result"
    }
   ],
   "source": [
    "issp[\"country_name\"].unique() "
   ]
  },
  {
   "cell_type": "markdown",
   "metadata": {},
   "source": [
    "**remove all country code from country name**"
   ]
  },
  {
   "cell_type": "code",
   "execution_count": 407,
   "metadata": {},
   "outputs": [],
   "source": [
    "issp[\"country_name\"] = issp[\"country_name\"].map(lambda x: re.sub(r'^.*?-','', x))"
   ]
  },
  {
   "cell_type": "code",
   "execution_count": 408,
   "metadata": {
    "scrolled": true
   },
   "outputs": [
    {
     "data": {
      "text/html": [
       "<div>\n",
       "<style scoped>\n",
       "    .dataframe tbody tr th:only-of-type {\n",
       "        vertical-align: middle;\n",
       "    }\n",
       "\n",
       "    .dataframe tbody tr th {\n",
       "        vertical-align: top;\n",
       "    }\n",
       "\n",
       "    .dataframe thead th {\n",
       "        text-align: right;\n",
       "    }\n",
       "</style>\n",
       "<table border=\"1\" class=\"dataframe\">\n",
       "  <thead>\n",
       "    <tr style=\"text-align: right;\">\n",
       "      <th></th>\n",
       "      <th>country_name</th>\n",
       "      <th>employee_type</th>\n",
       "      <th>sex</th>\n",
       "      <th>age</th>\n",
       "      <th>education</th>\n",
       "      <th>politics_1</th>\n",
       "      <th>politics_2</th>\n",
       "      <th>compassion_1</th>\n",
       "      <th>compassion_2</th>\n",
       "      <th>self_sacrifice</th>\n",
       "      <th>issp</th>\n",
       "      <th>country_code_2_ltr</th>\n",
       "    </tr>\n",
       "  </thead>\n",
       "  <tbody>\n",
       "    <tr>\n",
       "      <th>0</th>\n",
       "      <td>Australia</td>\n",
       "      <td>NaN</td>\n",
       "      <td>Female</td>\n",
       "      <td>25</td>\n",
       "      <td>16</td>\n",
       "      <td>7</td>\n",
       "      <td>5</td>\n",
       "      <td>7</td>\n",
       "      <td>7</td>\n",
       "      <td>7</td>\n",
       "      <td>1</td>\n",
       "      <td>AU</td>\n",
       "    </tr>\n",
       "    <tr>\n",
       "      <th>1</th>\n",
       "      <td>Australia</td>\n",
       "      <td>NaN</td>\n",
       "      <td>Male</td>\n",
       "      <td>55</td>\n",
       "      <td>NaN</td>\n",
       "      <td>NaN</td>\n",
       "      <td>NaN</td>\n",
       "      <td>NaN</td>\n",
       "      <td>NaN</td>\n",
       "      <td>NaN</td>\n",
       "      <td>1</td>\n",
       "      <td>AU</td>\n",
       "    </tr>\n",
       "    <tr>\n",
       "      <th>2</th>\n",
       "      <td>Australia</td>\n",
       "      <td>non-bureaucrats</td>\n",
       "      <td>Male</td>\n",
       "      <td>40</td>\n",
       "      <td>20</td>\n",
       "      <td>5</td>\n",
       "      <td>4</td>\n",
       "      <td>7</td>\n",
       "      <td>5</td>\n",
       "      <td>4</td>\n",
       "      <td>1</td>\n",
       "      <td>AU</td>\n",
       "    </tr>\n",
       "    <tr>\n",
       "      <th>3</th>\n",
       "      <td>Australia</td>\n",
       "      <td>non-bureaucrats</td>\n",
       "      <td>Female</td>\n",
       "      <td>57</td>\n",
       "      <td>11</td>\n",
       "      <td>NaN</td>\n",
       "      <td>NaN</td>\n",
       "      <td>NaN</td>\n",
       "      <td>NaN</td>\n",
       "      <td>NaN</td>\n",
       "      <td>1</td>\n",
       "      <td>AU</td>\n",
       "    </tr>\n",
       "    <tr>\n",
       "      <th>4</th>\n",
       "      <td>Australia</td>\n",
       "      <td>non-bureaucrats</td>\n",
       "      <td>Female</td>\n",
       "      <td>32</td>\n",
       "      <td>18</td>\n",
       "      <td>4</td>\n",
       "      <td>4</td>\n",
       "      <td>6</td>\n",
       "      <td>5</td>\n",
       "      <td>3</td>\n",
       "      <td>1</td>\n",
       "      <td>AU</td>\n",
       "    </tr>\n",
       "  </tbody>\n",
       "</table>\n",
       "</div>"
      ],
      "text/plain": [
       "  country_name    employee_type     sex age education politics_1 politics_2  \\\n",
       "0    Australia              NaN  Female  25        16          7          5   \n",
       "1    Australia              NaN    Male  55       NaN        NaN        NaN   \n",
       "2    Australia  non-bureaucrats    Male  40        20          5          4   \n",
       "3    Australia  non-bureaucrats  Female  57        11        NaN        NaN   \n",
       "4    Australia  non-bureaucrats  Female  32        18          4          4   \n",
       "\n",
       "  compassion_1 compassion_2 self_sacrifice  issp country_code_2_ltr  \n",
       "0            7            7              7     1                 AU  \n",
       "1          NaN          NaN            NaN     1                 AU  \n",
       "2            7            5              4     1                 AU  \n",
       "3          NaN          NaN            NaN     1                 AU  \n",
       "4            6            5              3     1                 AU  "
      ]
     },
     "execution_count": 408,
     "metadata": {},
     "output_type": "execute_result"
    }
   ],
   "source": [
    "issp.head()"
   ]
  },
  {
   "cell_type": "code",
   "execution_count": 409,
   "metadata": {},
   "outputs": [
    {
     "name": "stdout",
     "output_type": "stream",
     "text": [
      "<class 'pandas.core.frame.DataFrame'>\n",
      "RangeIndex: 49807 entries, 0 to 49806\n",
      "Data columns (total 12 columns):\n",
      "country_name          49807 non-null object\n",
      "employee_type         41952 non-null object\n",
      "sex                   49783 non-null object\n",
      "age                   49669 non-null object\n",
      "education             47578 non-null object\n",
      "politics_1            47976 non-null object\n",
      "politics_2            47634 non-null object\n",
      "compassion_1          48600 non-null object\n",
      "compassion_2          48118 non-null object\n",
      "self_sacrifice        47396 non-null object\n",
      "issp                  49807 non-null int64\n",
      "country_code_2_ltr    49807 non-null object\n",
      "dtypes: int64(1), object(11)\n",
      "memory usage: 4.6+ MB\n"
     ]
    }
   ],
   "source": [
    "issp.info()"
   ]
  },
  {
   "cell_type": "markdown",
   "metadata": {},
   "source": [
    "**Convert all item score, education and age columns into numerics**"
   ]
  },
  {
   "cell_type": "code",
   "execution_count": 410,
   "metadata": {},
   "outputs": [],
   "source": [
    "issp[[\"politics_1\", \"politics_2\",\"compassion_1\", \"compassion_2\", \"self_sacrifice\", \"education\", \"age\"]] = issp[[\"politics_1\", \n",
    "                    \"politics_2\", \"compassion_1\", \"compassion_2\", \"self_sacrifice\", \"education\", \"age\"]].apply(pd.to_numeric)"
   ]
  },
  {
   "cell_type": "markdown",
   "metadata": {},
   "source": [
    "**Convert to 5-point scale**"
   ]
  },
  {
   "cell_type": "code",
   "execution_count": 411,
   "metadata": {},
   "outputs": [],
   "source": [
    "def scale_likert(cur_val, cur_min, cur_max, new_min, new_max):\n",
    "    temp1=(cur_val-cur_min)/(cur_max-cur_min) \n",
    "    new_val=(new_max-new_min)*temp1 + new_min\n",
    "    return new_val"
   ]
  },
  {
   "cell_type": "code",
   "execution_count": 412,
   "metadata": {},
   "outputs": [],
   "source": [
    "issp[[\"politics_1\", \"politics_2\",\"compassion_1\", \"compassion_2\", \"self_sacrifice\"]] = issp[[\"politics_1\", \"politics_2\",\n",
    "                            \"compassion_1\", \"compassion_2\", \"self_sacrifice\"]].apply(lambda x: scale_likert(x,1,7,1,5))"
   ]
  },
  {
   "cell_type": "code",
   "execution_count": 413,
   "metadata": {},
   "outputs": [
    {
     "data": {
      "text/html": [
       "<div>\n",
       "<style scoped>\n",
       "    .dataframe tbody tr th:only-of-type {\n",
       "        vertical-align: middle;\n",
       "    }\n",
       "\n",
       "    .dataframe tbody tr th {\n",
       "        vertical-align: top;\n",
       "    }\n",
       "\n",
       "    .dataframe thead th {\n",
       "        text-align: right;\n",
       "    }\n",
       "</style>\n",
       "<table border=\"1\" class=\"dataframe\">\n",
       "  <thead>\n",
       "    <tr style=\"text-align: right;\">\n",
       "      <th></th>\n",
       "      <th>country_name</th>\n",
       "      <th>employee_type</th>\n",
       "      <th>sex</th>\n",
       "      <th>age</th>\n",
       "      <th>education</th>\n",
       "      <th>politics_1</th>\n",
       "      <th>politics_2</th>\n",
       "      <th>compassion_1</th>\n",
       "      <th>compassion_2</th>\n",
       "      <th>self_sacrifice</th>\n",
       "      <th>issp</th>\n",
       "      <th>country_code_2_ltr</th>\n",
       "    </tr>\n",
       "  </thead>\n",
       "  <tbody>\n",
       "    <tr>\n",
       "      <th>8033</th>\n",
       "      <td>Czech Republic</td>\n",
       "      <td>non-bureaucrats</td>\n",
       "      <td>Female</td>\n",
       "      <td>63.0</td>\n",
       "      <td>9.0</td>\n",
       "      <td>1.000000</td>\n",
       "      <td>1.000000</td>\n",
       "      <td>5.000000</td>\n",
       "      <td>5.000000</td>\n",
       "      <td>1.000000</td>\n",
       "      <td>1</td>\n",
       "      <td>CZ</td>\n",
       "    </tr>\n",
       "    <tr>\n",
       "      <th>14853</th>\n",
       "      <td>Hungary</td>\n",
       "      <td>bureaucrats</td>\n",
       "      <td>Male</td>\n",
       "      <td>73.0</td>\n",
       "      <td>NaN</td>\n",
       "      <td>4.333333</td>\n",
       "      <td>1.000000</td>\n",
       "      <td>5.000000</td>\n",
       "      <td>5.000000</td>\n",
       "      <td>4.333333</td>\n",
       "      <td>1</td>\n",
       "      <td>HU</td>\n",
       "    </tr>\n",
       "    <tr>\n",
       "      <th>36574</th>\n",
       "      <td>Spain</td>\n",
       "      <td>non-bureaucrats</td>\n",
       "      <td>Female</td>\n",
       "      <td>31.0</td>\n",
       "      <td>10.0</td>\n",
       "      <td>3.666667</td>\n",
       "      <td>3.666667</td>\n",
       "      <td>2.333333</td>\n",
       "      <td>3.666667</td>\n",
       "      <td>3.000000</td>\n",
       "      <td>1</td>\n",
       "      <td>ES</td>\n",
       "    </tr>\n",
       "    <tr>\n",
       "      <th>12767</th>\n",
       "      <td>France</td>\n",
       "      <td>non-bureaucrats</td>\n",
       "      <td>Female</td>\n",
       "      <td>48.0</td>\n",
       "      <td>19.0</td>\n",
       "      <td>2.333333</td>\n",
       "      <td>3.000000</td>\n",
       "      <td>2.333333</td>\n",
       "      <td>4.333333</td>\n",
       "      <td>3.000000</td>\n",
       "      <td>1</td>\n",
       "      <td>FR</td>\n",
       "    </tr>\n",
       "    <tr>\n",
       "      <th>28246</th>\n",
       "      <td>Poland</td>\n",
       "      <td>bureaucrats</td>\n",
       "      <td>Female</td>\n",
       "      <td>52.0</td>\n",
       "      <td>17.0</td>\n",
       "      <td>1.000000</td>\n",
       "      <td>4.333333</td>\n",
       "      <td>4.333333</td>\n",
       "      <td>4.333333</td>\n",
       "      <td>1.000000</td>\n",
       "      <td>1</td>\n",
       "      <td>PL</td>\n",
       "    </tr>\n",
       "  </tbody>\n",
       "</table>\n",
       "</div>"
      ],
      "text/plain": [
       "         country_name    employee_type     sex   age  education  politics_1  \\\n",
       "8033   Czech Republic  non-bureaucrats  Female  63.0        9.0    1.000000   \n",
       "14853         Hungary      bureaucrats    Male  73.0        NaN    4.333333   \n",
       "36574           Spain  non-bureaucrats  Female  31.0       10.0    3.666667   \n",
       "12767          France  non-bureaucrats  Female  48.0       19.0    2.333333   \n",
       "28246          Poland      bureaucrats  Female  52.0       17.0    1.000000   \n",
       "\n",
       "       politics_2  compassion_1  compassion_2  self_sacrifice  issp  \\\n",
       "8033     1.000000      5.000000      5.000000        1.000000     1   \n",
       "14853    1.000000      5.000000      5.000000        4.333333     1   \n",
       "36574    3.666667      2.333333      3.666667        3.000000     1   \n",
       "12767    3.000000      2.333333      4.333333        3.000000     1   \n",
       "28246    4.333333      4.333333      4.333333        1.000000     1   \n",
       "\n",
       "      country_code_2_ltr  \n",
       "8033                  CZ  \n",
       "14853                 HU  \n",
       "36574                 ES  \n",
       "12767                 FR  \n",
       "28246                 PL  "
      ]
     },
     "execution_count": 413,
     "metadata": {},
     "output_type": "execute_result"
    }
   ],
   "source": [
    "issp.sample(5)"
   ]
  },
  {
   "cell_type": "markdown",
   "metadata": {},
   "source": [
    "**Examime the columns age and education**"
   ]
  },
  {
   "cell_type": "code",
   "execution_count": 414,
   "metadata": {},
   "outputs": [
    {
     "data": {
      "text/html": [
       "<div>\n",
       "<style scoped>\n",
       "    .dataframe tbody tr th:only-of-type {\n",
       "        vertical-align: middle;\n",
       "    }\n",
       "\n",
       "    .dataframe tbody tr th {\n",
       "        vertical-align: top;\n",
       "    }\n",
       "\n",
       "    .dataframe thead th {\n",
       "        text-align: right;\n",
       "    }\n",
       "</style>\n",
       "<table border=\"1\" class=\"dataframe\">\n",
       "  <thead>\n",
       "    <tr style=\"text-align: right;\">\n",
       "      <th></th>\n",
       "      <th>age</th>\n",
       "      <th>education</th>\n",
       "    </tr>\n",
       "  </thead>\n",
       "  <tbody>\n",
       "    <tr>\n",
       "      <th>count</th>\n",
       "      <td>49669.000000</td>\n",
       "      <td>47578.000000</td>\n",
       "    </tr>\n",
       "    <tr>\n",
       "      <th>mean</th>\n",
       "      <td>48.070930</td>\n",
       "      <td>12.498255</td>\n",
       "    </tr>\n",
       "    <tr>\n",
       "      <th>std</th>\n",
       "      <td>17.651091</td>\n",
       "      <td>4.312553</td>\n",
       "    </tr>\n",
       "    <tr>\n",
       "      <th>min</th>\n",
       "      <td>15.000000</td>\n",
       "      <td>0.000000</td>\n",
       "    </tr>\n",
       "    <tr>\n",
       "      <th>25%</th>\n",
       "      <td>33.000000</td>\n",
       "      <td>10.000000</td>\n",
       "    </tr>\n",
       "    <tr>\n",
       "      <th>50%</th>\n",
       "      <td>48.000000</td>\n",
       "      <td>12.000000</td>\n",
       "    </tr>\n",
       "    <tr>\n",
       "      <th>75%</th>\n",
       "      <td>62.000000</td>\n",
       "      <td>15.000000</td>\n",
       "    </tr>\n",
       "    <tr>\n",
       "      <th>max</th>\n",
       "      <td>102.000000</td>\n",
       "      <td>83.000000</td>\n",
       "    </tr>\n",
       "  </tbody>\n",
       "</table>\n",
       "</div>"
      ],
      "text/plain": [
       "                age     education\n",
       "count  49669.000000  47578.000000\n",
       "mean      48.070930     12.498255\n",
       "std       17.651091      4.312553\n",
       "min       15.000000      0.000000\n",
       "25%       33.000000     10.000000\n",
       "50%       48.000000     12.000000\n",
       "75%       62.000000     15.000000\n",
       "max      102.000000     83.000000"
      ]
     },
     "execution_count": 414,
     "metadata": {},
     "output_type": "execute_result"
    }
   ],
   "source": [
    "issp[[\"age\",\"education\"]].describe()"
   ]
  },
  {
   "cell_type": "code",
   "execution_count": 415,
   "metadata": {},
   "outputs": [
    {
     "data": {
      "text/plain": [
       "<matplotlib.axes._subplots.AxesSubplot at 0x1c43d3df948>"
      ]
     },
     "execution_count": 415,
     "metadata": {},
     "output_type": "execute_result"
    },
    {
     "data": {
      "image/png": "[encoded data removed]",
      "text/plain": [
       "<Figure size 576x432 with 1 Axes>"
      ]
     },
     "metadata": {
      "needs_background": "light"
     },
     "output_type": "display_data"
    }
   ],
   "source": [
    "fig = plt.figure(figsize=(8,6))\n",
    "sns.boxplot(y=\"age\", data=issp)"
   ]
  },
  {
   "cell_type": "code",
   "execution_count": 416,
   "metadata": {},
   "outputs": [
    {
     "data": {
      "text/plain": [
       "<matplotlib.axes._subplots.AxesSubplot at 0x1c43d3f6808>"
      ]
     },
     "execution_count": 416,
     "metadata": {},
     "output_type": "execute_result"
    },
    {
     "data": {
      "image/png": "[encoded data removed]",
      "text/plain": [
       "<Figure size 432x288 with 1 Axes>"
      ]
     },
     "metadata": {
      "needs_background": "light"
     },
     "output_type": "display_data"
    }
   ],
   "source": [
    "sns.boxplot(y=\"education\", data=issp)"
   ]
  },
  {
   "cell_type": "code",
   "execution_count": 417,
   "metadata": {},
   "outputs": [],
   "source": [
    "def impute_outliers(df, feature):\n",
    "    first_quartile = df.loc[:,feature].describe()[\"25%\"]\n",
    "    third_quartile = df.loc[:,feature].describe()[\"75%\"]\n",
    "    \n",
    "    iqr = third_quartile - first_quartile\n",
    "    lower_bound = first_quartile -3*iqr\n",
    "    upper_bound = third_quartile+3*iqr\n",
    "    \n",
    "    # impute outliers (above upper bound) with np.nan\n",
    "    df[(df.loc[:,feature]>upper_bound)] = np.nan\n",
    "    return df"
   ]
  },
  {
   "cell_type": "code",
   "execution_count": 418,
   "metadata": {},
   "outputs": [],
   "source": [
    "issp = impute_outliers(issp, \"education\")"
   ]
  },
  {
   "cell_type": "code",
   "execution_count": 419,
   "metadata": {},
   "outputs": [],
   "source": [
    "# This function aggregate the item scores associated with each feature(take their mean) \n",
    "# to get the score for the feature\n",
    "def aggregate_col (df, feature, items):\n",
    "    df[feature] = df[items].mean(axis = 1, skipna= True)  # get item means and set it as the feature score\n",
    "    return df"
   ]
  },
  {
   "cell_type": "code",
   "execution_count": 420,
   "metadata": {},
   "outputs": [],
   "source": [
    "issp = aggregate_col(issp,\"psm\", [\"politics_1\",\"politics_2\",\"compassion_1\",\"compassion_2\",\"self_sacrifice\"])"
   ]
  },
  {
   "cell_type": "code",
   "execution_count": 421,
   "metadata": {},
   "outputs": [],
   "source": [
    "# remove all rows with psm = nan\n",
    "issp=issp[issp.psm.notnull()]"
   ]
  },
  {
   "cell_type": "markdown",
   "metadata": {},
   "source": [
    "**Merge OECD country classifications dataframe with issp dataframe**"
   ]
  },
  {
   "cell_type": "code",
   "execution_count": 422,
   "metadata": {},
   "outputs": [],
   "source": [
    "sel_list = list(issp.country_name.unique())\n",
    "oecd_category = oecd_category[oecd_category[\"country_name\"].isin(sel_list)] # only get countries that are in issp data"
   ]
  },
  {
   "cell_type": "code",
   "execution_count": 423,
   "metadata": {},
   "outputs": [],
   "source": [
    "# merge oecd_category with issp\n",
    "issp_ind=pd.merge(issp, oecd_category, on='country_name')"
   ]
  },
  {
   "cell_type": "markdown",
   "metadata": {},
   "source": [
    "**Merge with cpi_2014 dataframe**"
   ]
  },
  {
   "cell_type": "code",
   "execution_count": 424,
   "metadata": {},
   "outputs": [],
   "source": [
    "cpi_2014 = cpi_2014[cpi_2014[\"country_name\"].isin(sel_list)] # only get countries that are in issp data"
   ]
  },
  {
   "cell_type": "code",
   "execution_count": 425,
   "metadata": {},
   "outputs": [],
   "source": [
    "# merge cpi 2014 with issp\n",
    "issp_ind=pd.merge(issp_ind, cpi_2014, on='country_name')"
   ]
  },
  {
   "cell_type": "code",
   "execution_count": 426,
   "metadata": {},
   "outputs": [],
   "source": [
    "col_order = [\"country_name\",\"country_code\",\"country_code_2_ltr\",\"developed\",\"region\",\"employee_type\",\"sex\", \"age\",\n",
    "             \"education\", \"issp\", \"politics_1\", \"politics_2\", \"compassion_1\",\"compassion_2\", \"self_sacrifice\", \"cpi\", \"psm\"]\n",
    "issp_ind= issp_ind[col_order] # reorder columns"
   ]
  },
  {
   "cell_type": "code",
   "execution_count": 427,
   "metadata": {},
   "outputs": [
    {
     "data": {
      "text/html": [
       "<div>\n",
       "<style scoped>\n",
       "    .dataframe tbody tr th:only-of-type {\n",
       "        vertical-align: middle;\n",
       "    }\n",
       "\n",
       "    .dataframe tbody tr th {\n",
       "        vertical-align: top;\n",
       "    }\n",
       "\n",
       "    .dataframe thead th {\n",
       "        text-align: right;\n",
       "    }\n",
       "</style>\n",
       "<table border=\"1\" class=\"dataframe\">\n",
       "  <thead>\n",
       "    <tr style=\"text-align: right;\">\n",
       "      <th></th>\n",
       "      <th>country_name</th>\n",
       "      <th>country_code</th>\n",
       "      <th>country_code_2_ltr</th>\n",
       "      <th>developed</th>\n",
       "      <th>region</th>\n",
       "      <th>employee_type</th>\n",
       "      <th>sex</th>\n",
       "      <th>age</th>\n",
       "      <th>education</th>\n",
       "      <th>issp</th>\n",
       "      <th>politics_1</th>\n",
       "      <th>politics_2</th>\n",
       "      <th>compassion_1</th>\n",
       "      <th>compassion_2</th>\n",
       "      <th>self_sacrifice</th>\n",
       "      <th>cpi</th>\n",
       "      <th>psm</th>\n",
       "    </tr>\n",
       "  </thead>\n",
       "  <tbody>\n",
       "    <tr>\n",
       "      <th>0</th>\n",
       "      <td>Australia</td>\n",
       "      <td>AUS</td>\n",
       "      <td>AU</td>\n",
       "      <td>1</td>\n",
       "      <td>East Asia &amp; Pacific</td>\n",
       "      <td>NaN</td>\n",
       "      <td>Female</td>\n",
       "      <td>25.0</td>\n",
       "      <td>16.0</td>\n",
       "      <td>1.0</td>\n",
       "      <td>5.000000</td>\n",
       "      <td>3.666667</td>\n",
       "      <td>5.000000</td>\n",
       "      <td>5.000000</td>\n",
       "      <td>5.000000</td>\n",
       "      <td>8.0</td>\n",
       "      <td>4.733333</td>\n",
       "    </tr>\n",
       "    <tr>\n",
       "      <th>1</th>\n",
       "      <td>Australia</td>\n",
       "      <td>AUS</td>\n",
       "      <td>AU</td>\n",
       "      <td>1</td>\n",
       "      <td>East Asia &amp; Pacific</td>\n",
       "      <td>non-bureaucrats</td>\n",
       "      <td>Male</td>\n",
       "      <td>40.0</td>\n",
       "      <td>20.0</td>\n",
       "      <td>1.0</td>\n",
       "      <td>3.666667</td>\n",
       "      <td>3.000000</td>\n",
       "      <td>5.000000</td>\n",
       "      <td>3.666667</td>\n",
       "      <td>3.000000</td>\n",
       "      <td>8.0</td>\n",
       "      <td>3.666667</td>\n",
       "    </tr>\n",
       "    <tr>\n",
       "      <th>2</th>\n",
       "      <td>Australia</td>\n",
       "      <td>AUS</td>\n",
       "      <td>AU</td>\n",
       "      <td>1</td>\n",
       "      <td>East Asia &amp; Pacific</td>\n",
       "      <td>non-bureaucrats</td>\n",
       "      <td>Female</td>\n",
       "      <td>32.0</td>\n",
       "      <td>18.0</td>\n",
       "      <td>1.0</td>\n",
       "      <td>3.000000</td>\n",
       "      <td>3.000000</td>\n",
       "      <td>4.333333</td>\n",
       "      <td>3.666667</td>\n",
       "      <td>2.333333</td>\n",
       "      <td>8.0</td>\n",
       "      <td>3.266667</td>\n",
       "    </tr>\n",
       "    <tr>\n",
       "      <th>3</th>\n",
       "      <td>Australia</td>\n",
       "      <td>AUS</td>\n",
       "      <td>AU</td>\n",
       "      <td>1</td>\n",
       "      <td>East Asia &amp; Pacific</td>\n",
       "      <td>non-bureaucrats</td>\n",
       "      <td>Female</td>\n",
       "      <td>24.0</td>\n",
       "      <td>20.0</td>\n",
       "      <td>1.0</td>\n",
       "      <td>3.666667</td>\n",
       "      <td>2.333333</td>\n",
       "      <td>4.333333</td>\n",
       "      <td>3.666667</td>\n",
       "      <td>2.333333</td>\n",
       "      <td>8.0</td>\n",
       "      <td>3.266667</td>\n",
       "    </tr>\n",
       "    <tr>\n",
       "      <th>4</th>\n",
       "      <td>Australia</td>\n",
       "      <td>AUS</td>\n",
       "      <td>AU</td>\n",
       "      <td>1</td>\n",
       "      <td>East Asia &amp; Pacific</td>\n",
       "      <td>non-bureaucrats</td>\n",
       "      <td>Male</td>\n",
       "      <td>67.0</td>\n",
       "      <td>18.0</td>\n",
       "      <td>1.0</td>\n",
       "      <td>4.333333</td>\n",
       "      <td>3.666667</td>\n",
       "      <td>4.333333</td>\n",
       "      <td>4.333333</td>\n",
       "      <td>3.000000</td>\n",
       "      <td>8.0</td>\n",
       "      <td>3.933333</td>\n",
       "    </tr>\n",
       "  </tbody>\n",
       "</table>\n",
       "</div>"
      ],
      "text/plain": [
       "  country_name country_code country_code_2_ltr  developed  \\\n",
       "0    Australia          AUS                 AU          1   \n",
       "1    Australia          AUS                 AU          1   \n",
       "2    Australia          AUS                 AU          1   \n",
       "3    Australia          AUS                 AU          1   \n",
       "4    Australia          AUS                 AU          1   \n",
       "\n",
       "                region    employee_type     sex   age  education  issp  \\\n",
       "0  East Asia & Pacific              NaN  Female  25.0       16.0   1.0   \n",
       "1  East Asia & Pacific  non-bureaucrats    Male  40.0       20.0   1.0   \n",
       "2  East Asia & Pacific  non-bureaucrats  Female  32.0       18.0   1.0   \n",
       "3  East Asia & Pacific  non-bureaucrats  Female  24.0       20.0   1.0   \n",
       "4  East Asia & Pacific  non-bureaucrats    Male  67.0       18.0   1.0   \n",
       "\n",
       "   politics_1  politics_2  compassion_1  compassion_2  self_sacrifice  cpi  \\\n",
       "0    5.000000    3.666667      5.000000      5.000000        5.000000  8.0   \n",
       "1    3.666667    3.000000      5.000000      3.666667        3.000000  8.0   \n",
       "2    3.000000    3.000000      4.333333      3.666667        2.333333  8.0   \n",
       "3    3.666667    2.333333      4.333333      3.666667        2.333333  8.0   \n",
       "4    4.333333    3.666667      4.333333      4.333333        3.000000  8.0   \n",
       "\n",
       "        psm  \n",
       "0  4.733333  \n",
       "1  3.666667  \n",
       "2  3.266667  \n",
       "3  3.266667  \n",
       "4  3.933333  "
      ]
     },
     "execution_count": 427,
     "metadata": {},
     "output_type": "execute_result"
    }
   ],
   "source": [
    "issp_ind.head()"
   ]
  },
  {
   "cell_type": "code",
   "execution_count": 428,
   "metadata": {},
   "outputs": [],
   "source": [
    "# Output processed issp 2014 individual level data\n",
    "issp_ind.to_csv(\"outputs/issp2014_ind.csv\", index=False)"
   ]
  },
  {
   "cell_type": "code",
   "execution_count": null,
   "metadata": {},
   "outputs": [],
   "source": []
  },
  {
   "cell_type": "code",
   "execution_count": null,
   "metadata": {},
   "outputs": [],
   "source": []
  },
  {
   "cell_type": "markdown",
   "metadata": {},
   "source": [
    "## Country Level Data"
   ]
  },
  {
   "cell_type": "markdown",
   "metadata": {},
   "source": [
    "**Group mean (by country and employment type)**"
   ]
  },
  {
   "cell_type": "code",
   "execution_count": 429,
   "metadata": {},
   "outputs": [],
   "source": [
    "issp_country = issp.groupby([\"country_name\", \"country_code_2_ltr\", \"employee_type\"]).mean()"
   ]
  },
  {
   "cell_type": "code",
   "execution_count": 430,
   "metadata": {},
   "outputs": [],
   "source": [
    "issp_country.reset_index(level=[0,1,2], inplace=True)"
   ]
  },
  {
   "cell_type": "code",
   "execution_count": 431,
   "metadata": {},
   "outputs": [
    {
     "data": {
      "text/html": [
       "<div>\n",
       "<style scoped>\n",
       "    .dataframe tbody tr th:only-of-type {\n",
       "        vertical-align: middle;\n",
       "    }\n",
       "\n",
       "    .dataframe tbody tr th {\n",
       "        vertical-align: top;\n",
       "    }\n",
       "\n",
       "    .dataframe thead th {\n",
       "        text-align: right;\n",
       "    }\n",
       "</style>\n",
       "<table border=\"1\" class=\"dataframe\">\n",
       "  <thead>\n",
       "    <tr style=\"text-align: right;\">\n",
       "      <th></th>\n",
       "      <th>country_name</th>\n",
       "      <th>country_code_2_ltr</th>\n",
       "      <th>employee_type</th>\n",
       "      <th>age</th>\n",
       "      <th>education</th>\n",
       "      <th>politics_1</th>\n",
       "      <th>politics_2</th>\n",
       "      <th>compassion_1</th>\n",
       "      <th>compassion_2</th>\n",
       "      <th>self_sacrifice</th>\n",
       "      <th>issp</th>\n",
       "      <th>psm</th>\n",
       "    </tr>\n",
       "  </thead>\n",
       "  <tbody>\n",
       "    <tr>\n",
       "      <th>0</th>\n",
       "      <td>Australia</td>\n",
       "      <td>AU</td>\n",
       "      <td>bureaucrats</td>\n",
       "      <td>54.321429</td>\n",
       "      <td>14.537530</td>\n",
       "      <td>4.274691</td>\n",
       "      <td>3.003101</td>\n",
       "      <td>4.212261</td>\n",
       "      <td>3.550117</td>\n",
       "      <td>3.704137</td>\n",
       "      <td>1.0</td>\n",
       "      <td>3.751826</td>\n",
       "    </tr>\n",
       "    <tr>\n",
       "      <th>1</th>\n",
       "      <td>Australia</td>\n",
       "      <td>AU</td>\n",
       "      <td>non-bureaucrats</td>\n",
       "      <td>55.109934</td>\n",
       "      <td>13.504660</td>\n",
       "      <td>4.266413</td>\n",
       "      <td>2.847817</td>\n",
       "      <td>4.197625</td>\n",
       "      <td>3.344887</td>\n",
       "      <td>3.640069</td>\n",
       "      <td>1.0</td>\n",
       "      <td>3.670542</td>\n",
       "    </tr>\n",
       "    <tr>\n",
       "      <th>2</th>\n",
       "      <td>Austria</td>\n",
       "      <td>AT</td>\n",
       "      <td>bureaucrats</td>\n",
       "      <td>50.086957</td>\n",
       "      <td>12.596059</td>\n",
       "      <td>3.837438</td>\n",
       "      <td>3.237624</td>\n",
       "      <td>4.069243</td>\n",
       "      <td>3.536585</td>\n",
       "      <td>3.660099</td>\n",
       "      <td>1.0</td>\n",
       "      <td>3.668331</td>\n",
       "    </tr>\n",
       "    <tr>\n",
       "      <th>3</th>\n",
       "      <td>Austria</td>\n",
       "      <td>AT</td>\n",
       "      <td>non-bureaucrats</td>\n",
       "      <td>48.741425</td>\n",
       "      <td>11.346720</td>\n",
       "      <td>3.631579</td>\n",
       "      <td>3.059688</td>\n",
       "      <td>4.204958</td>\n",
       "      <td>3.384787</td>\n",
       "      <td>3.485341</td>\n",
       "      <td>1.0</td>\n",
       "      <td>3.558883</td>\n",
       "    </tr>\n",
       "    <tr>\n",
       "      <th>4</th>\n",
       "      <td>Belgium</td>\n",
       "      <td>BE</td>\n",
       "      <td>bureaucrats</td>\n",
       "      <td>49.493578</td>\n",
       "      <td>14.329609</td>\n",
       "      <td>3.730939</td>\n",
       "      <td>3.078283</td>\n",
       "      <td>3.902256</td>\n",
       "      <td>3.497132</td>\n",
       "      <td>3.371771</td>\n",
       "      <td>1.0</td>\n",
       "      <td>3.513109</td>\n",
       "    </tr>\n",
       "  </tbody>\n",
       "</table>\n",
       "</div>"
      ],
      "text/plain": [
       "  country_name country_code_2_ltr    employee_type        age  education  \\\n",
       "0    Australia                 AU      bureaucrats  54.321429  14.537530   \n",
       "1    Australia                 AU  non-bureaucrats  55.109934  13.504660   \n",
       "2      Austria                 AT      bureaucrats  50.086957  12.596059   \n",
       "3      Austria                 AT  non-bureaucrats  48.741425  11.346720   \n",
       "4      Belgium                 BE      bureaucrats  49.493578  14.329609   \n",
       "\n",
       "   politics_1  politics_2  compassion_1  compassion_2  self_sacrifice  issp  \\\n",
       "0    4.274691    3.003101      4.212261      3.550117        3.704137   1.0   \n",
       "1    4.266413    2.847817      4.197625      3.344887        3.640069   1.0   \n",
       "2    3.837438    3.237624      4.069243      3.536585        3.660099   1.0   \n",
       "3    3.631579    3.059688      4.204958      3.384787        3.485341   1.0   \n",
       "4    3.730939    3.078283      3.902256      3.497132        3.371771   1.0   \n",
       "\n",
       "        psm  \n",
       "0  3.751826  \n",
       "1  3.670542  \n",
       "2  3.668331  \n",
       "3  3.558883  \n",
       "4  3.513109  "
      ]
     },
     "execution_count": 431,
     "metadata": {},
     "output_type": "execute_result"
    }
   ],
   "source": [
    "issp_country.head()"
   ]
  },
  {
   "cell_type": "code",
   "execution_count": null,
   "metadata": {},
   "outputs": [],
   "source": []
  },
  {
   "cell_type": "markdown",
   "metadata": {},
   "source": [
    "**Merge OECD country classifications and CPI dataframe with issp datafrarme**"
   ]
  },
  {
   "cell_type": "code",
   "execution_count": 432,
   "metadata": {
    "code_folding": []
   },
   "outputs": [],
   "source": [
    "# merge wb_category with issp_mean\n",
    "issp_country=pd.merge(issp_country, oecd_category, on='country_name')\n",
    "issp_country=pd.merge(issp_country, cpi_2014, on='country_name')"
   ]
  },
  {
   "cell_type": "code",
   "execution_count": 433,
   "metadata": {},
   "outputs": [],
   "source": [
    "col_order = [\"country_name\",\"country_code\",\"country_code_2_ltr\",\"developed\",\"region\",\"employee_type\", \"age\",\n",
    "             \"education\", \"politics_1\", \"politics_2\", \"compassion_1\",\"compassion_2\", \"self_sacrifice\", \"issp\",\"cpi\", \"psm\"]\n",
    "issp_country= issp_country[col_order] # reorder columns"
   ]
  },
  {
   "cell_type": "code",
   "execution_count": 434,
   "metadata": {},
   "outputs": [
    {
     "data": {
      "text/html": [
       "<div>\n",
       "<style scoped>\n",
       "    .dataframe tbody tr th:only-of-type {\n",
       "        vertical-align: middle;\n",
       "    }\n",
       "\n",
       "    .dataframe tbody tr th {\n",
       "        vertical-align: top;\n",
       "    }\n",
       "\n",
       "    .dataframe thead th {\n",
       "        text-align: right;\n",
       "    }\n",
       "</style>\n",
       "<table border=\"1\" class=\"dataframe\">\n",
       "  <thead>\n",
       "    <tr style=\"text-align: right;\">\n",
       "      <th></th>\n",
       "      <th>country_name</th>\n",
       "      <th>country_code</th>\n",
       "      <th>country_code_2_ltr</th>\n",
       "      <th>developed</th>\n",
       "      <th>region</th>\n",
       "      <th>employee_type</th>\n",
       "      <th>age</th>\n",
       "      <th>education</th>\n",
       "      <th>politics_1</th>\n",
       "      <th>politics_2</th>\n",
       "      <th>compassion_1</th>\n",
       "      <th>compassion_2</th>\n",
       "      <th>self_sacrifice</th>\n",
       "      <th>issp</th>\n",
       "      <th>cpi</th>\n",
       "      <th>psm</th>\n",
       "    </tr>\n",
       "  </thead>\n",
       "  <tbody>\n",
       "    <tr>\n",
       "      <th>0</th>\n",
       "      <td>Australia</td>\n",
       "      <td>AUS</td>\n",
       "      <td>AU</td>\n",
       "      <td>1</td>\n",
       "      <td>East Asia &amp; Pacific</td>\n",
       "      <td>bureaucrats</td>\n",
       "      <td>54.321429</td>\n",
       "      <td>14.537530</td>\n",
       "      <td>4.274691</td>\n",
       "      <td>3.003101</td>\n",
       "      <td>4.212261</td>\n",
       "      <td>3.550117</td>\n",
       "      <td>3.704137</td>\n",
       "      <td>1.0</td>\n",
       "      <td>8.0</td>\n",
       "      <td>3.751826</td>\n",
       "    </tr>\n",
       "    <tr>\n",
       "      <th>1</th>\n",
       "      <td>Australia</td>\n",
       "      <td>AUS</td>\n",
       "      <td>AU</td>\n",
       "      <td>1</td>\n",
       "      <td>East Asia &amp; Pacific</td>\n",
       "      <td>non-bureaucrats</td>\n",
       "      <td>55.109934</td>\n",
       "      <td>13.504660</td>\n",
       "      <td>4.266413</td>\n",
       "      <td>2.847817</td>\n",
       "      <td>4.197625</td>\n",
       "      <td>3.344887</td>\n",
       "      <td>3.640069</td>\n",
       "      <td>1.0</td>\n",
       "      <td>8.0</td>\n",
       "      <td>3.670542</td>\n",
       "    </tr>\n",
       "    <tr>\n",
       "      <th>2</th>\n",
       "      <td>Austria</td>\n",
       "      <td>AUT</td>\n",
       "      <td>AT</td>\n",
       "      <td>1</td>\n",
       "      <td>Europe &amp; Central Asia</td>\n",
       "      <td>bureaucrats</td>\n",
       "      <td>50.086957</td>\n",
       "      <td>12.596059</td>\n",
       "      <td>3.837438</td>\n",
       "      <td>3.237624</td>\n",
       "      <td>4.069243</td>\n",
       "      <td>3.536585</td>\n",
       "      <td>3.660099</td>\n",
       "      <td>1.0</td>\n",
       "      <td>7.2</td>\n",
       "      <td>3.668331</td>\n",
       "    </tr>\n",
       "    <tr>\n",
       "      <th>3</th>\n",
       "      <td>Austria</td>\n",
       "      <td>AUT</td>\n",
       "      <td>AT</td>\n",
       "      <td>1</td>\n",
       "      <td>Europe &amp; Central Asia</td>\n",
       "      <td>non-bureaucrats</td>\n",
       "      <td>48.741425</td>\n",
       "      <td>11.346720</td>\n",
       "      <td>3.631579</td>\n",
       "      <td>3.059688</td>\n",
       "      <td>4.204958</td>\n",
       "      <td>3.384787</td>\n",
       "      <td>3.485341</td>\n",
       "      <td>1.0</td>\n",
       "      <td>7.2</td>\n",
       "      <td>3.558883</td>\n",
       "    </tr>\n",
       "    <tr>\n",
       "      <th>4</th>\n",
       "      <td>Belgium</td>\n",
       "      <td>BEL</td>\n",
       "      <td>BE</td>\n",
       "      <td>1</td>\n",
       "      <td>Europe &amp; Central Asia</td>\n",
       "      <td>bureaucrats</td>\n",
       "      <td>49.493578</td>\n",
       "      <td>14.329609</td>\n",
       "      <td>3.730939</td>\n",
       "      <td>3.078283</td>\n",
       "      <td>3.902256</td>\n",
       "      <td>3.497132</td>\n",
       "      <td>3.371771</td>\n",
       "      <td>1.0</td>\n",
       "      <td>7.6</td>\n",
       "      <td>3.513109</td>\n",
       "    </tr>\n",
       "  </tbody>\n",
       "</table>\n",
       "</div>"
      ],
      "text/plain": [
       "  country_name country_code country_code_2_ltr  developed  \\\n",
       "0    Australia          AUS                 AU          1   \n",
       "1    Australia          AUS                 AU          1   \n",
       "2      Austria          AUT                 AT          1   \n",
       "3      Austria          AUT                 AT          1   \n",
       "4      Belgium          BEL                 BE          1   \n",
       "\n",
       "                  region    employee_type        age  education  politics_1  \\\n",
       "0    East Asia & Pacific      bureaucrats  54.321429  14.537530    4.274691   \n",
       "1    East Asia & Pacific  non-bureaucrats  55.109934  13.504660    4.266413   \n",
       "2  Europe & Central Asia      bureaucrats  50.086957  12.596059    3.837438   \n",
       "3  Europe & Central Asia  non-bureaucrats  48.741425  11.346720    3.631579   \n",
       "4  Europe & Central Asia      bureaucrats  49.493578  14.329609    3.730939   \n",
       "\n",
       "   politics_2  compassion_1  compassion_2  self_sacrifice  issp  cpi       psm  \n",
       "0    3.003101      4.212261      3.550117        3.704137   1.0  8.0  3.751826  \n",
       "1    2.847817      4.197625      3.344887        3.640069   1.0  8.0  3.670542  \n",
       "2    3.237624      4.069243      3.536585        3.660099   1.0  7.2  3.668331  \n",
       "3    3.059688      4.204958      3.384787        3.485341   1.0  7.2  3.558883  \n",
       "4    3.078283      3.902256      3.497132        3.371771   1.0  7.6  3.513109  "
      ]
     },
     "execution_count": 434,
     "metadata": {},
     "output_type": "execute_result"
    }
   ],
   "source": [
    "issp_country.head()"
   ]
  },
  {
   "cell_type": "code",
   "execution_count": 435,
   "metadata": {},
   "outputs": [],
   "source": [
    "# Output processed issp 2014 data\n",
    "issp_country.to_csv(\"outputs/issp2014_country.csv\", index=False)"
   ]
  },
  {
   "cell_type": "code",
   "execution_count": null,
   "metadata": {},
   "outputs": [],
   "source": []
  },
  {
   "cell_type": "markdown",
   "metadata": {},
   "source": [
    "**Merge issp data with data from other studies**"
   ]
  },
  {
   "cell_type": "code",
   "execution_count": 436,
   "metadata": {},
   "outputs": [],
   "source": [
    "df=pd.concat([issp_country,studies], axis=0, sort=False)"
   ]
  },
  {
   "cell_type": "code",
   "execution_count": 437,
   "metadata": {},
   "outputs": [],
   "source": [
    "# Output processed full data\n",
    "df.to_csv(\"outputs/full_psm_processed.csv\", index=False)"
   ]
  },
  {
   "cell_type": "code",
   "execution_count": 438,
   "metadata": {
    "scrolled": true
   },
   "outputs": [
    {
     "data": {
      "text/html": [
       "<div>\n",
       "<style scoped>\n",
       "    .dataframe tbody tr th:only-of-type {\n",
       "        vertical-align: middle;\n",
       "    }\n",
       "\n",
       "    .dataframe tbody tr th {\n",
       "        vertical-align: top;\n",
       "    }\n",
       "\n",
       "    .dataframe thead th {\n",
       "        text-align: right;\n",
       "    }\n",
       "</style>\n",
       "<table border=\"1\" class=\"dataframe\">\n",
       "  <thead>\n",
       "    <tr style=\"text-align: right;\">\n",
       "      <th></th>\n",
       "      <th>country_name</th>\n",
       "      <th>country_code</th>\n",
       "      <th>country_code_2_ltr</th>\n",
       "      <th>developed</th>\n",
       "      <th>region</th>\n",
       "      <th>employee_type</th>\n",
       "      <th>age</th>\n",
       "      <th>education</th>\n",
       "      <th>politics_1</th>\n",
       "      <th>politics_2</th>\n",
       "      <th>compassion_1</th>\n",
       "      <th>compassion_2</th>\n",
       "      <th>self_sacrifice</th>\n",
       "      <th>issp</th>\n",
       "      <th>cpi</th>\n",
       "      <th>psm</th>\n",
       "    </tr>\n",
       "  </thead>\n",
       "  <tbody>\n",
       "    <tr>\n",
       "      <th>0</th>\n",
       "      <td>Australia</td>\n",
       "      <td>AUS</td>\n",
       "      <td>AU</td>\n",
       "      <td>1</td>\n",
       "      <td>East Asia &amp; Pacific</td>\n",
       "      <td>bureaucrats</td>\n",
       "      <td>54.321429</td>\n",
       "      <td>14.537530</td>\n",
       "      <td>4.274691</td>\n",
       "      <td>3.003101</td>\n",
       "      <td>4.212261</td>\n",
       "      <td>3.550117</td>\n",
       "      <td>3.704137</td>\n",
       "      <td>1.0</td>\n",
       "      <td>8.0</td>\n",
       "      <td>3.751826</td>\n",
       "    </tr>\n",
       "    <tr>\n",
       "      <th>1</th>\n",
       "      <td>Australia</td>\n",
       "      <td>AUS</td>\n",
       "      <td>AU</td>\n",
       "      <td>1</td>\n",
       "      <td>East Asia &amp; Pacific</td>\n",
       "      <td>non-bureaucrats</td>\n",
       "      <td>55.109934</td>\n",
       "      <td>13.504660</td>\n",
       "      <td>4.266413</td>\n",
       "      <td>2.847817</td>\n",
       "      <td>4.197625</td>\n",
       "      <td>3.344887</td>\n",
       "      <td>3.640069</td>\n",
       "      <td>1.0</td>\n",
       "      <td>8.0</td>\n",
       "      <td>3.670542</td>\n",
       "    </tr>\n",
       "    <tr>\n",
       "      <th>2</th>\n",
       "      <td>Austria</td>\n",
       "      <td>AUT</td>\n",
       "      <td>AT</td>\n",
       "      <td>1</td>\n",
       "      <td>Europe &amp; Central Asia</td>\n",
       "      <td>bureaucrats</td>\n",
       "      <td>50.086957</td>\n",
       "      <td>12.596059</td>\n",
       "      <td>3.837438</td>\n",
       "      <td>3.237624</td>\n",
       "      <td>4.069243</td>\n",
       "      <td>3.536585</td>\n",
       "      <td>3.660099</td>\n",
       "      <td>1.0</td>\n",
       "      <td>7.2</td>\n",
       "      <td>3.668331</td>\n",
       "    </tr>\n",
       "    <tr>\n",
       "      <th>3</th>\n",
       "      <td>Austria</td>\n",
       "      <td>AUT</td>\n",
       "      <td>AT</td>\n",
       "      <td>1</td>\n",
       "      <td>Europe &amp; Central Asia</td>\n",
       "      <td>non-bureaucrats</td>\n",
       "      <td>48.741425</td>\n",
       "      <td>11.346720</td>\n",
       "      <td>3.631579</td>\n",
       "      <td>3.059688</td>\n",
       "      <td>4.204958</td>\n",
       "      <td>3.384787</td>\n",
       "      <td>3.485341</td>\n",
       "      <td>1.0</td>\n",
       "      <td>7.2</td>\n",
       "      <td>3.558883</td>\n",
       "    </tr>\n",
       "    <tr>\n",
       "      <th>4</th>\n",
       "      <td>Belgium</td>\n",
       "      <td>BEL</td>\n",
       "      <td>BE</td>\n",
       "      <td>1</td>\n",
       "      <td>Europe &amp; Central Asia</td>\n",
       "      <td>bureaucrats</td>\n",
       "      <td>49.493578</td>\n",
       "      <td>14.329609</td>\n",
       "      <td>3.730939</td>\n",
       "      <td>3.078283</td>\n",
       "      <td>3.902256</td>\n",
       "      <td>3.497132</td>\n",
       "      <td>3.371771</td>\n",
       "      <td>1.0</td>\n",
       "      <td>7.6</td>\n",
       "      <td>3.513109</td>\n",
       "    </tr>\n",
       "  </tbody>\n",
       "</table>\n",
       "</div>"
      ],
      "text/plain": [
       "  country_name country_code country_code_2_ltr  developed  \\\n",
       "0    Australia          AUS                 AU          1   \n",
       "1    Australia          AUS                 AU          1   \n",
       "2      Austria          AUT                 AT          1   \n",
       "3      Austria          AUT                 AT          1   \n",
       "4      Belgium          BEL                 BE          1   \n",
       "\n",
       "                  region    employee_type        age  education  politics_1  \\\n",
       "0    East Asia & Pacific      bureaucrats  54.321429  14.537530    4.274691   \n",
       "1    East Asia & Pacific  non-bureaucrats  55.109934  13.504660    4.266413   \n",
       "2  Europe & Central Asia      bureaucrats  50.086957  12.596059    3.837438   \n",
       "3  Europe & Central Asia  non-bureaucrats  48.741425  11.346720    3.631579   \n",
       "4  Europe & Central Asia      bureaucrats  49.493578  14.329609    3.730939   \n",
       "\n",
       "   politics_2  compassion_1  compassion_2  self_sacrifice  issp  cpi       psm  \n",
       "0    3.003101      4.212261      3.550117        3.704137   1.0  8.0  3.751826  \n",
       "1    2.847817      4.197625      3.344887        3.640069   1.0  8.0  3.670542  \n",
       "2    3.237624      4.069243      3.536585        3.660099   1.0  7.2  3.668331  \n",
       "3    3.059688      4.204958      3.384787        3.485341   1.0  7.2  3.558883  \n",
       "4    3.078283      3.902256      3.497132        3.371771   1.0  7.6  3.513109  "
      ]
     },
     "execution_count": 438,
     "metadata": {},
     "output_type": "execute_result"
    }
   ],
   "source": [
    "df.head()"
   ]
  },
  {
   "cell_type": "code",
   "execution_count": null,
   "metadata": {},
   "outputs": [],
   "source": []
  },
  {
   "cell_type": "code",
   "execution_count": null,
   "metadata": {},
   "outputs": [],
   "source": []
  },
  {
   "cell_type": "markdown",
   "metadata": {},
   "source": [
    "## Plotting"
   ]
  },
  {
   "cell_type": "markdown",
   "metadata": {},
   "source": [
    "**1. PSM comparison between developed and developing countries (public employees only)**\n",
    "    - Boxplots of PSM of developed and developing countries"
   ]
  },
  {
   "cell_type": "code",
   "execution_count": 439,
   "metadata": {},
   "outputs": [],
   "source": [
    "# data of public employees only\n",
    "df_public = df[df[\"employee_type\"] ==\"bureaucrats\"]"
   ]
  },
  {
   "cell_type": "code",
   "execution_count": 440,
   "metadata": {},
   "outputs": [],
   "source": [
    "# Get all the developing countries in the dataframe\n",
    "# Turn the subset dataframe in to a list of tuples \n",
    "developing=df_public.loc[df_public[\"developed\"]==0,[\"country_code_2_ltr\",\"psm\"]]\n",
    "temp = developing.to_records(index=False)\n",
    "l_developing=list(temp)"
   ]
  },
  {
   "cell_type": "code",
   "execution_count": 441,
   "metadata": {},
   "outputs": [],
   "source": [
    "# Get all the developed countries in the dataframe\n",
    "# Turn the subset dataframe in to a list of tuples \n",
    "developed=df_public.loc[df_public[\"developed\"]==1,[\"country_code_2_ltr\",\"psm\"]]\n",
    "developed.sort_values(by=\"psm\", ascending=\"False\", inplace=True) # sort values by psm\n",
    "temp = developed.to_records(index=False)\n",
    "l_developed=list(temp)"
   ]
  },
  {
   "cell_type": "code",
   "execution_count": 442,
   "metadata": {
    "scrolled": true
   },
   "outputs": [
    {
     "data": {
      "text/plain": [
       "30"
      ]
     },
     "execution_count": 442,
     "metadata": {},
     "output_type": "execute_result"
    }
   ],
   "source": [
    "len(l_developed)"
   ]
  },
  {
   "cell_type": "code",
   "execution_count": 443,
   "metadata": {},
   "outputs": [
    {
     "data": {
      "text/plain": [
       "17"
      ]
     },
     "execution_count": 443,
     "metadata": {},
     "output_type": "execute_result"
    }
   ],
   "source": [
    "len(l_developing)"
   ]
  },
  {
   "cell_type": "code",
   "execution_count": 444,
   "metadata": {
    "code_folding": []
   },
   "outputs": [
    {
     "data": {
      "image/png": "[encoded data removed]",
      "text/plain": [
       "<Figure size 864x576 with 1 Axes>"
      ]
     },
     "metadata": {
      "needs_background": "light"
     },
     "output_type": "display_data"
    }
   ],
   "source": [
    "fig = plt.figure(figsize=(12,8))\n",
    "p1= sns.boxplot(x=\"developed\", y=\"psm\", data=df_public, color='white')\n",
    "p2 = sns.stripplot(x=\"developed\", y=\"psm\", data=df_public, color=\".2\", jitter=0.02)\n",
    "\n",
    "\n",
    "# developing countries annotation\n",
    "for i in range(1,len(l_developing)):\n",
    "    p2.annotate(l_developing[i][0], xy=(0,l_developing[i][1]), xytext=(0+0.1,l_developing[i][1]), textcoords='data',\n",
    "                arrowprops=dict(arrowstyle='->', connectionstyle=\"arc3,rad=-0.0\"))\n",
    "\n",
    "    p2.annotate(l_developing[0][0], xy=(0,l_developing[0][1]), xytext=(0-0.2,l_developing[0][1]), textcoords='data',\n",
    "           arrowprops=dict(arrowstyle='->', connectionstyle=\"arc3,rad=-0.0\"))\n",
    "\n",
    "\n",
    "for i in range(1,len(l_developed)):\n",
    "    p1.annotate(l_developed[i][0], xy=(1,l_developed[i][1]), xytext=(1+0.1,l_developed[i][1]), textcoords='data',\n",
    "                arrowprops=dict(arrowstyle='->', connectionstyle=\"arc3,rad=-0.0\"))\n",
    "\n",
    "    p1.annotate(l_developed[0][0], xy=(1,l_developed[0][1]), xytext=(1-0.2,l_developed[0][1]), textcoords='data',\n",
    "           arrowprops=dict(arrowstyle='->', connectionstyle=\"arc3,rad=-0.0\"))\n",
    "\n",
    "\n",
    "plt.xticks([0,1], [\"developing\",\"developed\"])\n",
    "plt.xlabel('Economy Classification', fontsize=14)\n",
    "plt.ylabel('PSM Score', fontsize=14)\n",
    "plt.suptitle('PSM Comparison of Public Employees between Developed and Developing Countries', fontsize=16)\n",
    "plt.show()\n",
    "fig.savefig('outputs/plots/Develped_vs_Developing.jpeg')"
   ]
  },
  {
   "cell_type": "code",
   "execution_count": null,
   "metadata": {},
   "outputs": [],
   "source": []
  },
  {
   "cell_type": "markdown",
   "metadata": {},
   "source": [
    "**2. PSM comparison between developed and developing countries (public employees only, without ISSP data)**\n",
    "    - Boxplots of PSM of developed and developing countries"
   ]
  },
  {
   "cell_type": "code",
   "execution_count": 445,
   "metadata": {},
   "outputs": [],
   "source": [
    "df_public_noISSP = df_public[df_public[\"issp\"]==0]"
   ]
  },
  {
   "cell_type": "code",
   "execution_count": 446,
   "metadata": {},
   "outputs": [],
   "source": [
    "# Get all the developing countries in the dataframe\n",
    "# Turn the subset dataframe in to a list of tuples \n",
    "developing=df_public_noISSP.loc[df_public_noISSP[\"developed\"]==0,[\"country_code_2_ltr\",\"psm\"]]\n",
    "temp = developing.to_records(index=False)\n",
    "l_developing=list(temp)"
   ]
  },
  {
   "cell_type": "code",
   "execution_count": 447,
   "metadata": {},
   "outputs": [],
   "source": [
    "# Get all the developed countries in the dataframe\n",
    "# Turn the subset dataframe in to a list of tuples \n",
    "developed=df_public_noISSP.loc[df_public_noISSP[\"developed\"]==1,[\"country_code_2_ltr\",\"psm\"]]\n",
    "developed.sort_values(by=\"psm\", ascending=\"False\", inplace=True) # sort values by psm\n",
    "temp = developed.to_records(index=False)\n",
    "l_developed=list(temp)"
   ]
  },
  {
   "cell_type": "code",
   "execution_count": 448,
   "metadata": {},
   "outputs": [
    {
     "data": {
      "image/png": "[encoded data removed]",
      "text/plain": [
       "<Figure size 576x576 with 1 Axes>"
      ]
     },
     "metadata": {
      "needs_background": "light"
     },
     "output_type": "display_data"
    }
   ],
   "source": [
    "fig = plt.figure(figsize=(8,8))\n",
    "p1= sns.boxplot(x=\"developed\", y=\"psm\", data=df_public_noISSP, color='white')\n",
    "p2 = sns.stripplot(x=\"developed\", y=\"psm\", data=df_public_noISSP, color=\".2\", jitter=0)\n",
    "\n",
    "# developing countries annotation\n",
    "for i in range(0,len(l_developing)):\n",
    "    p2.annotate(l_developing[i][0], xy=(0,l_developing[i][1]), xytext=(0+0.1,l_developing[i][1]), textcoords='data',\n",
    "                arrowprops=dict(arrowstyle='->', connectionstyle=\"arc3,rad=-0.2\"))\n",
    "\n",
    "\n",
    "for i, element in enumerate(l_developed):\n",
    "    if i % 2 != 0:\n",
    "        p2.annotate(l_developed[i][0], xy=(1,l_developed[i][1]), xytext=(1+0.2,l_developed[i][1]), textcoords='data',\n",
    "                    arrowprops=dict(arrowstyle='->', connectionstyle=\"arc3,rad=-0.2\"))\n",
    "\n",
    "for i, element in enumerate(l_developed):\n",
    "    if i % 2 == 0:\n",
    "        p2.annotate(l_developed[i][0], xy=(1,l_developed[i][1]), xytext=(1-0.3,l_developed[i][1]), textcoords='data',\n",
    "                    arrowprops=dict(arrowstyle='->', connectionstyle=\"arc3,rad=-0.2\"))\n",
    "        \n",
    "\n",
    "plt.xticks([0,1], [\"developing\",\"developed\"])\n",
    "plt.xlabel('Economy Classification', fontsize=14)\n",
    "plt.ylabel('PSM Score', fontsize=14)\n",
    "plt.suptitle('PSM Comparison of Public Employees between Developed and Developing Countries (without ISSP data)', fontsize=16)\n",
    "plt.show()\n",
    "fig.savefig('outputs/plots/Develped_vs_Developing_no_ISSP.jpeg')\n"
   ]
  },
  {
   "cell_type": "code",
   "execution_count": null,
   "metadata": {},
   "outputs": [],
   "source": []
  },
  {
   "cell_type": "markdown",
   "metadata": {},
   "source": [
    "**3. PSM comparison between employees in public vs private sectors**\n"
   ]
  },
  {
   "cell_type": "code",
   "execution_count": 449,
   "metadata": {},
   "outputs": [],
   "source": [
    "df_pub_priv = df.copy()"
   ]
  },
  {
   "cell_type": "code",
   "execution_count": 450,
   "metadata": {},
   "outputs": [],
   "source": [
    "df_pub_priv.replace([\"non-bureaucrats\",\"bureaucrats\"], [0,1], inplace=True)"
   ]
  },
  {
   "cell_type": "code",
   "execution_count": 451,
   "metadata": {},
   "outputs": [
    {
     "data": {
      "image/png": "[encoded data removed]",
      "text/plain": [
       "<Figure size 576x576 with 1 Axes>"
      ]
     },
     "metadata": {
      "needs_background": "light"
     },
     "output_type": "display_data"
    }
   ],
   "source": [
    "fig = plt.figure(figsize=(8,8))\n",
    "p1= sns.boxplot(x=\"employee_type\", y=\"psm\", data=df_pub_priv, color='white')\n",
    "p2 = sns.stripplot(x=\"employee_type\", y=\"psm\", data=df_pub_priv, color=\".2\", jitter=0.2)\n",
    "\n",
    "\n",
    "plt.xticks([0,1], [\"non-bureaucrats\",\"bureaucrats\"])\n",
    "plt.xlabel('Employee Classification', fontsize=14)\n",
    "plt.ylabel('PSM Score', fontsize=14)\n",
    "plt.suptitle('PSM Comparison of Public vs Private Employees', fontsize=16)\n",
    "plt.show()\n",
    "fig.savefig('outputs/plots/Public_vs_Private_PSM.jpeg')"
   ]
  },
  {
   "cell_type": "code",
   "execution_count": null,
   "metadata": {},
   "outputs": [],
   "source": []
  }
 ],
 "metadata": {
  "kernelspec": {
   "display_name": "Python 3",
   "language": "python",
   "name": "python3"
  },
  "language_info": {
   "codemirror_mode": {
    "name": "ipython",
    "version": 3
   },
   "file_extension": ".py",
   "mimetype": "text/x-python",
   "name": "python",
   "nbconvert_exporter": "python",
   "pygments_lexer": "ipython3",
   "version": "3.7.5"
  },
  "varInspector": {
   "cols": {
    "lenName": 16,
    "lenType": 16,
    "lenVar": 40
   },
   "kernels_config": {
    "python": {
     "delete_cmd_postfix": "",
     "delete_cmd_prefix": "del ",
     "library": "var_list.py",
     "varRefreshCmd": "print(var_dic_list())"
    },
    "r": {
     "delete_cmd_postfix": ") ",
     "delete_cmd_prefix": "rm(",
     "library": "var_list.r",
     "varRefreshCmd": "cat(var_dic_list()) "
    }
   },
   "types_to_exclude": [
    "module",
    "function",
    "builtin_function_or_method",
    "instance",
    "_Feature"
   ],
   "window_display": false
  }
 },
 "nbformat": 4,
 "nbformat_minor": 2
}
